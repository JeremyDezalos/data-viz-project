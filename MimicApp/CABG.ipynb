{
 "cells": [
  {
   "cell_type": "code",
   "execution_count": null,
   "metadata": {},
   "outputs": [],
   "source": [
    "import numpy as np\n",
    "import pandas as pd\n",
    "import matplotlib.pyplot as plt\n",
    "\n",
    "import time\n",
    "# import custom libraries\n",
    "import sys\n",
    "sys.path.append(\"C:\\\\DATA\\\\Tasks\\\\lib\\\\hk\")\n",
    "import hk_psql\n",
    "import dash_bootstrap_components\n",
    "\n",
    "import plotly.express as px  # (version 4.7.0 or higher)\n",
    "import plotly.graph_objects as go\n",
    "from plotly.subplots import make_subplots\n",
    "\n",
    "\n",
    "ADD_DATA = \"C:\\\\DATA\\\\data\\\\raw\\\\mimic4\\\\lookup\\\\\"\n",
    "\n",
    "%load_ext autoreload\n",
    "%autoreload 2\n",
    "\n",
    "conn = hk_psql.connect_psql('mimic')\n"
   ]
  },
  {
   "cell_type": "code",
   "execution_count": null,
   "metadata": {},
   "outputs": [],
   "source": [
    "sel_icustay = [{'id_careunit': 'Medical Intensive Care Unit (MICU)', 'id_los_min': '24', 'id_los_max': '240'},\n",
    " {'id_careunit': 'Trauma SICU (TSICU)', 'id_los_min': '24', 'id_los_max': '240'},\n",
    " {'id_careunit': 'Surgical Intensive Care Unit (SICU)', 'id_los_min': '24', 'id_los_max': '240'}]\n",
    "\n",
    "sel_icustay = [\n",
    "    # {'id_careunit': 'ICU', 'id_los_min': '24', 'id_los_max': '1000'},\n",
    "    # {'id_careunit': 'Cardiac Surgery', 'id_los_min': '0', 'id_los_max': '1000'},\n",
    "]\n",
    "\n",
    "\n",
    "filters_core = {\n",
    "        'age':[20,91],\n",
    "        'gender':['M','F'],\n",
    "        'icustays':pd.DataFrame.from_dict(sel_icustay),\n",
    "        'adm_types':[],\n",
    "        'adm_locs':[],\n",
    "        'dis_locs':[],\n",
    "\n",
    "    }\n",
    "# print(filters)\n",
    "q_core = hk_psql.bq_core(filters_core)\n",
    "# print(q_core)\n",
    "df_filtered_core = hk_psql.query(q_core, conn)\n",
    "hadm_ids_core = df_filtered_core['hadm_id'].unique().tolist()\n",
    "print(df_filtered_core)\n",
    "print('len after core: ',len(hadm_ids_core))"
   ]
  },
  {
   "cell_type": "code",
   "execution_count": null,
   "metadata": {},
   "outputs": [],
   "source": [
    "# CABG related ICD codes - saves to saved_proc_cabg.csv\n",
    "\n",
    "# ICD-9-CM codes\n",
    "# link http://www.icd9data.com/2015/Volume3/35-39/36/default.htm?__hstc=93424706.1be12cb98a07e719a9f6f9964d70c68b.1646060204805.1649408353593.1649659786020.5&__hssc=93424706.18.1649659786020&__hsfp=1972159242#36.13\n",
    "\n",
    "icd9=['3611', '3612', '3613', '3614', '3615', '3616', '3617', '3619']\n",
    "\n",
    "# ICD-10-PCS codes\n",
    "\n",
    "# eq to icd9 36.11\n",
    "x3611=[\n",
    "'021008W',\n",
    "'021009W',\n",
    "'02100AW',\n",
    "'02100JW',\n",
    "'02100KW',\n",
    "'021048W',\n",
    "'021049W',\n",
    "'02104AW',\n",
    "'02104JW',\n",
    "'02104KW',]\n",
    "\n",
    "# eq to icd9 36.11\n",
    "x3611=[\n",
    "'021008W',\n",
    "'021009W',\n",
    "'02100AW',\n",
    "'02100JW',\n",
    "'02100KW',\n",
    "'021048W',\n",
    "'021049W',\n",
    "'02104AW',\n",
    "'02104JW',\n",
    "'02104KW',]\n",
    "\n",
    "# eq to icd9 36.12\n",
    "x3612=[\n",
    "'021108W',\n",
    "'021109W',\n",
    "'02110AW',\n",
    "'02110JW',\n",
    "'02110KW',\n",
    "'021148W',\n",
    "'021149W',\n",
    "'02114AW',\n",
    "'02114JW',\n",
    "'02114KW',]\n",
    "\n",
    "# eq to icd9 36.13\n",
    "x3613=[\n",
    "'021208W',\n",
    "'021209W',\n",
    "'02120AW',\n",
    "'02120JW',\n",
    "'02120KW',\n",
    "'021248W',\n",
    "'021249W',\n",
    "'02124AW',\n",
    "'02124JW',\n",
    "'02124KW',]\n",
    "\n",
    "# eq to icd9 36.14\n",
    "x3614=[\n",
    "'021308W',\n",
    "'021309W',\n",
    "'02130AW',\n",
    "'02130JW',\n",
    "'02130KW',\n",
    "'021348W',\n",
    "'021349W',\n",
    "'02134AW',\n",
    "'02134JW',\n",
    "'02134KW',]\n",
    "\n",
    "\n",
    "# eq to icd9 36.15\n",
    "x3615=[\n",
    "'0210089', \n",
    "'021008C', \n",
    "'0210098', \n",
    "'0210099', \n",
    "'021009C', \n",
    "'02100A8', \n",
    "'02100A9', \n",
    "'02100AC', \n",
    "'02100J8', \n",
    "'02100J9', \n",
    "'02100JC', \n",
    "'02100K8', \n",
    "'02100K9', \n",
    "'02100KC', \n",
    "'02100Z8', \n",
    "'02100Z9', \n",
    "'02100ZC', \n",
    "'0210488', \n",
    "'0210489', \n",
    "'021048C', \n",
    "'0210498', \n",
    "'0210499', \n",
    "'021049C', \n",
    "'02104A8', \n",
    "'02104A9', \n",
    "'02104AC', \n",
    "'02104J8', \n",
    "'02104J9', \n",
    "'02104JC', \n",
    "'02104K8', \n",
    "'02104K9', \n",
    "'02104KC', \n",
    "'02104Z8', \n",
    "'02104Z9', \n",
    "'02104ZC',]\n",
    "\n",
    "\n",
    "\n",
    "df_d_icd_proc = pd.read_csv(ADD_DATA+'d_icd_procedures.csv')\n",
    "\n",
    "df_icd_CABG = df_d_icd_proc[df_d_icd_proc['icd_code'].isin([*icd9, *x3611, *x3612, *x3613, *x3614, *x3615])]\n",
    "print([*icd9, *x3611, *x3612, *x3613, *x3614, *x3615])\n",
    "df_icd_CABG.to_csv(ADD_DATA+'saved_proc_cabg.csv')\n",
    "df_icd_CABG"
   ]
  },
  {
   "cell_type": "code",
   "execution_count": null,
   "metadata": {},
   "outputs": [],
   "source": [
    "# **************** STEP 2: filter hosp codes (drg , icd)\n",
    "'''\ticd_code\ticd_version\tlong_title\tcount\n",
    "130\t3613\t9\t(Aorto)coronary bypass of three coronary arteries\t1074\n",
    "258\t021209W\t10\tBypass Coronary Artery, Three Arteries from Aorta with Autologous Venous Tissue, Open Approach\t520\n",
    "'''\n",
    "\n",
    "filters_codes = {\n",
    "    'drgcodes': pd.DataFrame(), \n",
    "    'diagnoses_icd': pd.DataFrame(),\n",
    "    'procedures_icd': pd.read_csv(ADD_DATA+'saved_proc_cabg.csv'),\n",
    "}\n",
    "\n",
    "\n",
    "q = hk_psql.bq_codes(filters_codes, hadm_ids_core)\n",
    "# q = hk_psql.bq_codes(filters_codes, [])\n",
    "print('sdfds')\n",
    "if len(filters_codes['procedures_icd'])+len(filters_codes['diagnoses_icd'])+len(filters_codes['drgcodes'])==0:\n",
    "    # if no code is specified, just ignore query\n",
    "    df_filtered_codes = df_filtered_core\n",
    "else:\n",
    "    df_filtered_codes = hk_psql.query(q, conn)\n",
    "# print(df_filtered_codes)\n",
    "# df_filtered_core.to_csv(ADD_DATA+'temp.csv')\n",
    "hadm_ids_core_code = df_filtered_codes['hadm_id'].unique().tolist()\n",
    "print('len after code: ', len(hadm_ids_core_code))\n",
    "\n"
   ]
  },
  {
   "cell_type": "code",
   "execution_count": null,
   "metadata": {},
   "outputs": [],
   "source": [
    "# **************** STEP 3: Hosp filters -> hadm_ids\n",
    "lab_table = [\n",
    "    # {'id_item': 50813, 'id_label': 'Lactate', 'id_fluid': 'Blood', 'id_cat': 'Blood Gas', 'id_range': '0.5-2.0', 'id_unit': 'mmol/L', 'id_condition': 'X>0', 'id_counts': 1}, \n",
    "# {'id_item': 50889, 'id_label': 'C-Reactive Protein', 'id_fluid': 'Blood', 'id_cat': 'Chemistry', 'id_range': '0.0-5.0', 'id_unit': 'mg/L', 'id_condition': 'X>0', 'id_counts': 10}, \n",
    "{'id_item': 51003, 'id_label': 'Troponin T', 'id_fluid': 'Blood', 'id_cat': 'Chemistry', 'id_range': '0.0-0.01', 'id_unit': 'ng/mL', 'id_condition': 'X>0', 'id_counts': 1}, \n",
    "# {'id_item': 50963, 'id_label': 'NTproBNP', 'id_fluid': 'Blood', 'id_cat': 'Chemistry', 'id_range': '0.0-177.0', 'id_unit': 'pg/mL', 'id_condition': 'X>0', 'id_counts': 1}, \n",
    "# {'id_item': 50924, 'id_label': 'Ferritin', 'id_fluid': 'Blood', 'id_cat': 'Chemistry', 'id_range': '13.0-150.0', 'id_unit': 'ng/mL', 'id_condition': 'X>0', 'id_counts': 1}, \n",
    "# {'id_item': 50909, 'id_label': 'Cortisol', 'id_fluid': 'Blood', 'id_cat': 'Chemistry', 'id_range': '2.0-20.0', 'id_unit': 'ug/dL', 'id_condition': 'X>0', 'id_counts': 1},\n",
    "]       \n",
    "\n",
    "\n",
    "filters_hosp = {\n",
    "    'labevents': pd.DataFrame.from_dict(lab_table),\n",
    "}\n",
    "filters_hosp = {\n",
    "    'labevents': pd.DataFrame(),\n",
    "}\n",
    "\n",
    "\n",
    "q_hosp = hk_psql.bq_hosp(hadm_ids_core_code, filters_hosp)\n",
    "\n",
    "df_filtered_hosp = hk_psql.query(q_hosp, conn)\n",
    "print(df_filtered_hosp)\n",
    "df_filtered_core = pd.merge(df_filtered_hosp[['hadm_id']], df_filtered_core[['subject_id','hadm_id','anchor_age','gender','careunit','icu_los','stay_id']], how='inner',on=['hadm_id'])\n",
    "df_filtered = pd.merge(df_filtered_hosp, df_filtered_core[['subject_id','hadm_id','anchor_age','gender','careunit','icu_los','stay_id']], how='inner',on=['hadm_id'])\n",
    "\n",
    "print(df_filtered_core)\n",
    "# print(df_filtered_hosp)        \n",
    "print(df_filtered)\n",
    "\n",
    "hadm_ids = df_filtered_core['hadm_id'].unique().tolist()\n",
    "stay_ids = df_filtered_core['stay_id'].unique().tolist()\n",
    "sub_ids = df_filtered_core['subject_id'].unique().tolist()\n",
    "\n",
    "print('len after hosp: ',len(hadm_ids))"
   ]
  },
  {
   "cell_type": "code",
   "execution_count": null,
   "metadata": {},
   "outputs": [],
   "source": [
    "cohort_name = 'cabg'\n",
    "hk_psql.save_cohort(hadm_ids, cohort_name)"
   ]
  },
  {
   "cell_type": "code",
   "execution_count": null,
   "metadata": {},
   "outputs": [],
   "source": [
    "# load a cohort\n",
    "cohort_name = 'cabg'\n",
    "schema_core = cohort_name+'_mimic_core'\n",
    "df_overview = hk_psql.summary(schema_core, conn)\n",
    "hadm_ids = df_overview['hadm_id'].unique()\n",
    "\n",
    "q=f\"\"\"\n",
    "    select * from mimic_core.patients t1\n",
    "    inner join {schema_core}.admissions t2\n",
    "    on t1.subject_id = t2.subject_id\n",
    "    where t2.hadm_id in ({str(hadm_ids.tolist())[1:-1]})\n",
    "    \n",
    "    \"\"\"\n",
    "# print(q)\n",
    "\n",
    "df_patients = hk_psql.query(q, conn)\n",
    "\n",
    "q=f\"\"\"\n",
    "        select * from {schema_core}.transfers         \n",
    "        \"\"\"\n",
    "# print(q)\n",
    "\n",
    "df_transfers = hk_psql.query(q, conn)\n",
    "\n",
    "q=f\"\"\"\n",
    "        select * from {schema_core}.admissions         \n",
    "        \"\"\"\n",
    "# print(q)\n",
    "\n",
    "df_admissions = hk_psql.query(q, conn)\n",
    "\n",
    "q=f\"\"\"\n",
    "        select * from {cohort_name+'_mimic_icu'}.icustays         \n",
    "        \"\"\"\n",
    "# print(q)\n",
    "\n",
    "df_icustay = hk_psql.query(q, conn)\n",
    "\n",
    "# LAB EVENTS\n",
    "q=f\"\"\"\n",
    "select * from {cohort_name+'_mimic_hosp'}.labevents         \n",
    "\"\"\"\n",
    "\n",
    "df_le = hk_psql.query(q, conn)\n",
    "\n",
    "# icd_procedure code\n",
    "q=f\"\"\"\n",
    "select * from {cohort_name+'_mimic_hosp'}.procedures_icd         \n",
    "\"\"\"\n",
    "df_icd_proc = hk_psql.query(q, conn)\n",
    "\n",
    "# icd_diagnoses code\n",
    "q=f\"\"\"\n",
    "select * from {cohort_name+'_mimic_hosp'}.diagnoses_icd         \n",
    "\"\"\"\n",
    "df_icd_diag = hk_psql.query(q, conn)\n",
    "\n",
    "\n",
    "# CHART EVENTS\n",
    "q=f\"\"\"\n",
    "select * from {cohort_name+'_mimic_icu'}.chartevents         \n",
    "\"\"\"\n",
    "\n",
    "df_che = hk_psql.query(q, conn)\n",
    "\n",
    "# PROCEDURE EVENTS\n",
    "q=f\"\"\"\n",
    "select * from {cohort_name+'_mimic_icu'}.procedureevents         \n",
    "\"\"\"\n",
    "\n",
    "df_pe = hk_psql.query(q, conn)\n",
    "\n",
    "df_patients = df_patients.loc[:,~df_patients.columns.duplicated()]\n",
    "print(df_patients['subject_id'])\n",
    "print(df_transfers['subject_id'])\n",
    "\n",
    "\n",
    "cols_to_use = [x for x in df_transfers.columns.tolist() if x not in df_patients.columns.tolist()]\n",
    "cols_to_use.append('subject_id')\n",
    "print(cols_to_use)\n",
    "df_demo = pd.merge(df_patients, df_transfers[cols_to_use], how='inner',  on='subject_id')\n",
    "\n",
    "print(df_demo)\n",
    "df_le_main = df_le.copy()"
   ]
  },
  {
   "cell_type": "code",
   "execution_count": 347,
   "metadata": {},
   "outputs": [
    {
     "data": {
      "application/vnd.plotly.v1+json": {
       "config": {
        "plotlyServerURL": "https://plot.ly"
       },
       "data": [
        {
         "alignmentgroup": "True",
         "bingroup": "x",
         "histfunc": "sum",
         "hovertemplate": "count=1<br>careunit=%{x}<br>sum of size=%{y}<extra></extra>",
         "legendgroup": "1",
         "marker": {
          "color": "#636efa",
          "pattern": {
           "shape": ""
          }
         },
         "name": "1",
         "offsetgroup": "1",
         "orientation": "v",
         "showlegend": true,
         "type": "histogram",
         "x": [
          "Cardiac Vascular Intensive Care Unit (CVICU)",
          "PACU",
          "Cardiac Surgery",
          "Medicine/Cardiology",
          "Emergency Department",
          "Cardiology Surgery Intermediate",
          "Coronary Care Unit (CCU)",
          "Vascular",
          "Medicine/Cardiology Intermediate",
          "Emergency Department Observation",
          "Medicine",
          "Observation",
          "Cardiology",
          "Medical Intensive Care Unit (MICU)",
          "Med/Surg",
          "Surgical Intensive Care Unit (SICU)",
          "Med/Surg/Trauma",
          "Medical/Surgical Intensive Care Unit (MICU/SICU)",
          "Hematology/Oncology",
          "Transplant",
          "Trauma SICU (TSICU)",
          "Unknown",
          "Surgery/Vascular/Intermediate",
          "Med/Surg/GYN",
          "Surgery/Trauma",
          "Neurology",
          "Surgery/Pancreatic/Biliary/Bariatric",
          "Obstetrics Postpartum",
          "Obstetrics (Postpartum & Antepartum)",
          "Neuro Surgical Intensive Care Unit (Neuro SICU)",
          "Neuro Intermediate",
          "Hematology/Oncology Intermediate",
          "Medical/Surgical (Gynecology)"
         ],
         "xaxis": "x",
         "y": [
          75.77060931899642,
          45.573476702508955,
          40.26881720430108,
          17.81362007168459,
          13.85304659498208,
          13.333333333333334,
          5.949820788530466,
          2.3297491039426523,
          2.3297491039426523,
          1.756272401433692,
          1.3261648745519712,
          0.6810035842293907,
          0.5376344086021506,
          0.5197132616487455,
          0.39426523297491045,
          0.19713261648745523,
          0.16129032258064516,
          0.12544802867383512,
          0.10752688172043011,
          0.08960573476702509,
          0.08960573476702509,
          0.08960573476702509,
          0.07168458781362007,
          0.053763440860215055,
          0.053763440860215055,
          0.053763440860215055,
          0.035842293906810034,
          0.017921146953405017,
          0.017921146953405017,
          0.017921146953405017,
          0.017921146953405017,
          0.017921146953405017,
          0.017921146953405017
         ],
         "yaxis": "y"
        },
        {
         "alignmentgroup": "True",
         "bingroup": "x",
         "histfunc": "sum",
         "hovertemplate": "count=2<br>careunit=%{x}<br>sum of size=%{y}<extra></extra>",
         "legendgroup": "2",
         "marker": {
          "color": "#EF553B",
          "pattern": {
           "shape": ""
          }
         },
         "name": "2",
         "offsetgroup": "2",
         "orientation": "v",
         "showlegend": true,
         "type": "histogram",
         "x": [
          "Cardiac Surgery",
          "Cardiac Vascular Intensive Care Unit (CVICU)",
          "Cardiology Surgery Intermediate",
          "Medicine/Cardiology",
          "PACU",
          "Coronary Care Unit (CCU)",
          "Vascular",
          "Medicine/Cardiology Intermediate",
          "Medicine",
          "Observation",
          "Medical Intensive Care Unit (MICU)",
          "Med/Surg",
          "Cardiology",
          "Medical/Surgical Intensive Care Unit (MICU/SICU)",
          "Transplant",
          "Surgical Intensive Care Unit (SICU)",
          "Trauma SICU (TSICU)",
          "Emergency Department Observation",
          "Emergency Department",
          "Neurology",
          "Med/Surg/GYN",
          "Med/Surg/Trauma"
         ],
         "xaxis": "x",
         "y": [
          22.688172043010752,
          17.598566308243726,
          7.598566308243727,
          5.483870967741936,
          1.827956989247312,
          0.8064516129032258,
          0.6989247311827957,
          0.43010752688172044,
          0.2867383512544803,
          0.16129032258064516,
          0.10752688172043011,
          0.10752688172043011,
          0.08960573476702509,
          0.035842293906810034,
          0.017921146953405017,
          0.017921146953405017,
          0.017921146953405017,
          0.017921146953405017,
          0.017921146953405017,
          0.017921146953405017,
          0.017921146953405017,
          0.017921146953405017
         ],
         "yaxis": "y"
        },
        {
         "alignmentgroup": "True",
         "bingroup": "x",
         "histfunc": "sum",
         "hovertemplate": "count=3<br>careunit=%{x}<br>sum of size=%{y}<extra></extra>",
         "legendgroup": "3",
         "marker": {
          "color": "#00cc96",
          "pattern": {
           "shape": ""
          }
         },
         "name": "3",
         "offsetgroup": "3",
         "orientation": "v",
         "showlegend": true,
         "type": "histogram",
         "x": [
          "Cardiac Surgery",
          "Cardiac Vascular Intensive Care Unit (CVICU)",
          "Cardiology Surgery Intermediate",
          "Medicine/Cardiology",
          "Vascular",
          "PACU",
          "Medicine/Cardiology Intermediate",
          "Coronary Care Unit (CCU)",
          "Medicine",
          "Transplant",
          "Cardiology",
          "Observation",
          "Emergency Department Observation",
          "Med/Surg"
         ],
         "xaxis": "x",
         "y": [
          7.903225806451612,
          4.767025089605735,
          1.7204301075268817,
          1.021505376344086,
          0.21505376344086022,
          0.12544802867383512,
          0.12544802867383512,
          0.10752688172043011,
          0.053763440860215055,
          0.035842293906810034,
          0.017921146953405017,
          0.017921146953405017,
          0.017921146953405017,
          0.017921146953405017
         ],
         "yaxis": "y"
        },
        {
         "alignmentgroup": "True",
         "bingroup": "x",
         "histfunc": "sum",
         "hovertemplate": "count=4<br>careunit=%{x}<br>sum of size=%{y}<extra></extra>",
         "legendgroup": "4",
         "marker": {
          "color": "#ab63fa",
          "pattern": {
           "shape": ""
          }
         },
         "name": "4",
         "offsetgroup": "4",
         "orientation": "v",
         "showlegend": true,
         "type": "histogram",
         "x": [
          "Cardiac Surgery",
          "Cardiac Vascular Intensive Care Unit (CVICU)",
          "Cardiology Surgery Intermediate",
          "Medicine/Cardiology",
          "Vascular",
          "Surgery/Vascular/Intermediate",
          "Medicine",
          "Hematology/Oncology",
          "Medicine/Cardiology Intermediate"
         ],
         "xaxis": "x",
         "y": [
          2.6344086021505375,
          1.2544802867383513,
          0.39426523297491045,
          0.25089605734767023,
          0.08960573476702509,
          0.017921146953405017,
          0.017921146953405017,
          0.017921146953405017,
          0.017921146953405017
         ],
         "yaxis": "y"
        },
        {
         "alignmentgroup": "True",
         "bingroup": "x",
         "histfunc": "sum",
         "hovertemplate": "count=5<br>careunit=%{x}<br>sum of size=%{y}<extra></extra>",
         "legendgroup": "5",
         "marker": {
          "color": "#FFA15A",
          "pattern": {
           "shape": ""
          }
         },
         "name": "5",
         "offsetgroup": "5",
         "orientation": "v",
         "showlegend": true,
         "type": "histogram",
         "x": [
          "Cardiac Surgery",
          "Cardiac Vascular Intensive Care Unit (CVICU)",
          "Cardiology Surgery Intermediate",
          "Medicine/Cardiology"
         ],
         "xaxis": "x",
         "y": [
          0.8422939068100358,
          0.39426523297491045,
          0.035842293906810034,
          0.035842293906810034
         ],
         "yaxis": "y"
        },
        {
         "alignmentgroup": "True",
         "bingroup": "x",
         "histfunc": "sum",
         "hovertemplate": "count=6<br>careunit=%{x}<br>sum of size=%{y}<extra></extra>",
         "legendgroup": "6",
         "marker": {
          "color": "#19d3f3",
          "pattern": {
           "shape": ""
          }
         },
         "name": "6",
         "offsetgroup": "6",
         "orientation": "v",
         "showlegend": true,
         "type": "histogram",
         "x": [
          "Cardiac Surgery",
          "Cardiac Vascular Intensive Care Unit (CVICU)"
         ],
         "xaxis": "x",
         "y": [
          0.19713261648745523,
          0.053763440860215055
         ],
         "yaxis": "y"
        },
        {
         "alignmentgroup": "True",
         "bingroup": "x",
         "histfunc": "sum",
         "hovertemplate": "count=8<br>careunit=%{x}<br>sum of size=%{y}<extra></extra>",
         "legendgroup": "8",
         "marker": {
          "color": "#FF6692",
          "pattern": {
           "shape": ""
          }
         },
         "name": "8",
         "offsetgroup": "8",
         "orientation": "v",
         "showlegend": true,
         "type": "histogram",
         "x": [
          "Cardiac Vascular Intensive Care Unit (CVICU)",
          "Cardiac Surgery",
          "Surgery/Vascular/Intermediate"
         ],
         "xaxis": "x",
         "y": [
          0.08960573476702509,
          0.07168458781362007,
          0.017921146953405017
         ],
         "yaxis": "y"
        },
        {
         "alignmentgroup": "True",
         "bingroup": "x",
         "histfunc": "sum",
         "hovertemplate": "count=7<br>careunit=%{x}<br>sum of size=%{y}<extra></extra>",
         "legendgroup": "7",
         "marker": {
          "color": "#B6E880",
          "pattern": {
           "shape": ""
          }
         },
         "name": "7",
         "offsetgroup": "7",
         "orientation": "v",
         "showlegend": true,
         "type": "histogram",
         "x": [
          "Cardiac Surgery",
          "Cardiac Vascular Intensive Care Unit (CVICU)"
         ],
         "xaxis": "x",
         "y": [
          0.07168458781362007,
          0.053763440860215055
         ],
         "yaxis": "y"
        }
       ],
       "layout": {
        "barmode": "group",
        "legend": {
         "title": {
          "text": "count"
         },
         "tracegroupgap": 0
        },
        "template": {
         "data": {
          "bar": [
           {
            "error_x": {
             "color": "#2a3f5f"
            },
            "error_y": {
             "color": "#2a3f5f"
            },
            "marker": {
             "line": {
              "color": "#E5ECF6",
              "width": 0.5
             },
             "pattern": {
              "fillmode": "overlay",
              "size": 10,
              "solidity": 0.2
             }
            },
            "type": "bar"
           }
          ],
          "barpolar": [
           {
            "marker": {
             "line": {
              "color": "#E5ECF6",
              "width": 0.5
             },
             "pattern": {
              "fillmode": "overlay",
              "size": 10,
              "solidity": 0.2
             }
            },
            "type": "barpolar"
           }
          ],
          "carpet": [
           {
            "aaxis": {
             "endlinecolor": "#2a3f5f",
             "gridcolor": "white",
             "linecolor": "white",
             "minorgridcolor": "white",
             "startlinecolor": "#2a3f5f"
            },
            "baxis": {
             "endlinecolor": "#2a3f5f",
             "gridcolor": "white",
             "linecolor": "white",
             "minorgridcolor": "white",
             "startlinecolor": "#2a3f5f"
            },
            "type": "carpet"
           }
          ],
          "choropleth": [
           {
            "colorbar": {
             "outlinewidth": 0,
             "ticks": ""
            },
            "type": "choropleth"
           }
          ],
          "contour": [
           {
            "colorbar": {
             "outlinewidth": 0,
             "ticks": ""
            },
            "colorscale": [
             [
              0,
              "#0d0887"
             ],
             [
              0.1111111111111111,
              "#46039f"
             ],
             [
              0.2222222222222222,
              "#7201a8"
             ],
             [
              0.3333333333333333,
              "#9c179e"
             ],
             [
              0.4444444444444444,
              "#bd3786"
             ],
             [
              0.5555555555555556,
              "#d8576b"
             ],
             [
              0.6666666666666666,
              "#ed7953"
             ],
             [
              0.7777777777777778,
              "#fb9f3a"
             ],
             [
              0.8888888888888888,
              "#fdca26"
             ],
             [
              1,
              "#f0f921"
             ]
            ],
            "type": "contour"
           }
          ],
          "contourcarpet": [
           {
            "colorbar": {
             "outlinewidth": 0,
             "ticks": ""
            },
            "type": "contourcarpet"
           }
          ],
          "heatmap": [
           {
            "colorbar": {
             "outlinewidth": 0,
             "ticks": ""
            },
            "colorscale": [
             [
              0,
              "#0d0887"
             ],
             [
              0.1111111111111111,
              "#46039f"
             ],
             [
              0.2222222222222222,
              "#7201a8"
             ],
             [
              0.3333333333333333,
              "#9c179e"
             ],
             [
              0.4444444444444444,
              "#bd3786"
             ],
             [
              0.5555555555555556,
              "#d8576b"
             ],
             [
              0.6666666666666666,
              "#ed7953"
             ],
             [
              0.7777777777777778,
              "#fb9f3a"
             ],
             [
              0.8888888888888888,
              "#fdca26"
             ],
             [
              1,
              "#f0f921"
             ]
            ],
            "type": "heatmap"
           }
          ],
          "heatmapgl": [
           {
            "colorbar": {
             "outlinewidth": 0,
             "ticks": ""
            },
            "colorscale": [
             [
              0,
              "#0d0887"
             ],
             [
              0.1111111111111111,
              "#46039f"
             ],
             [
              0.2222222222222222,
              "#7201a8"
             ],
             [
              0.3333333333333333,
              "#9c179e"
             ],
             [
              0.4444444444444444,
              "#bd3786"
             ],
             [
              0.5555555555555556,
              "#d8576b"
             ],
             [
              0.6666666666666666,
              "#ed7953"
             ],
             [
              0.7777777777777778,
              "#fb9f3a"
             ],
             [
              0.8888888888888888,
              "#fdca26"
             ],
             [
              1,
              "#f0f921"
             ]
            ],
            "type": "heatmapgl"
           }
          ],
          "histogram": [
           {
            "marker": {
             "pattern": {
              "fillmode": "overlay",
              "size": 10,
              "solidity": 0.2
             }
            },
            "type": "histogram"
           }
          ],
          "histogram2d": [
           {
            "colorbar": {
             "outlinewidth": 0,
             "ticks": ""
            },
            "colorscale": [
             [
              0,
              "#0d0887"
             ],
             [
              0.1111111111111111,
              "#46039f"
             ],
             [
              0.2222222222222222,
              "#7201a8"
             ],
             [
              0.3333333333333333,
              "#9c179e"
             ],
             [
              0.4444444444444444,
              "#bd3786"
             ],
             [
              0.5555555555555556,
              "#d8576b"
             ],
             [
              0.6666666666666666,
              "#ed7953"
             ],
             [
              0.7777777777777778,
              "#fb9f3a"
             ],
             [
              0.8888888888888888,
              "#fdca26"
             ],
             [
              1,
              "#f0f921"
             ]
            ],
            "type": "histogram2d"
           }
          ],
          "histogram2dcontour": [
           {
            "colorbar": {
             "outlinewidth": 0,
             "ticks": ""
            },
            "colorscale": [
             [
              0,
              "#0d0887"
             ],
             [
              0.1111111111111111,
              "#46039f"
             ],
             [
              0.2222222222222222,
              "#7201a8"
             ],
             [
              0.3333333333333333,
              "#9c179e"
             ],
             [
              0.4444444444444444,
              "#bd3786"
             ],
             [
              0.5555555555555556,
              "#d8576b"
             ],
             [
              0.6666666666666666,
              "#ed7953"
             ],
             [
              0.7777777777777778,
              "#fb9f3a"
             ],
             [
              0.8888888888888888,
              "#fdca26"
             ],
             [
              1,
              "#f0f921"
             ]
            ],
            "type": "histogram2dcontour"
           }
          ],
          "mesh3d": [
           {
            "colorbar": {
             "outlinewidth": 0,
             "ticks": ""
            },
            "type": "mesh3d"
           }
          ],
          "parcoords": [
           {
            "line": {
             "colorbar": {
              "outlinewidth": 0,
              "ticks": ""
             }
            },
            "type": "parcoords"
           }
          ],
          "pie": [
           {
            "automargin": true,
            "type": "pie"
           }
          ],
          "scatter": [
           {
            "marker": {
             "colorbar": {
              "outlinewidth": 0,
              "ticks": ""
             }
            },
            "type": "scatter"
           }
          ],
          "scatter3d": [
           {
            "line": {
             "colorbar": {
              "outlinewidth": 0,
              "ticks": ""
             }
            },
            "marker": {
             "colorbar": {
              "outlinewidth": 0,
              "ticks": ""
             }
            },
            "type": "scatter3d"
           }
          ],
          "scattercarpet": [
           {
            "marker": {
             "colorbar": {
              "outlinewidth": 0,
              "ticks": ""
             }
            },
            "type": "scattercarpet"
           }
          ],
          "scattergeo": [
           {
            "marker": {
             "colorbar": {
              "outlinewidth": 0,
              "ticks": ""
             }
            },
            "type": "scattergeo"
           }
          ],
          "scattergl": [
           {
            "marker": {
             "colorbar": {
              "outlinewidth": 0,
              "ticks": ""
             }
            },
            "type": "scattergl"
           }
          ],
          "scattermapbox": [
           {
            "marker": {
             "colorbar": {
              "outlinewidth": 0,
              "ticks": ""
             }
            },
            "type": "scattermapbox"
           }
          ],
          "scatterpolar": [
           {
            "marker": {
             "colorbar": {
              "outlinewidth": 0,
              "ticks": ""
             }
            },
            "type": "scatterpolar"
           }
          ],
          "scatterpolargl": [
           {
            "marker": {
             "colorbar": {
              "outlinewidth": 0,
              "ticks": ""
             }
            },
            "type": "scatterpolargl"
           }
          ],
          "scatterternary": [
           {
            "marker": {
             "colorbar": {
              "outlinewidth": 0,
              "ticks": ""
             }
            },
            "type": "scatterternary"
           }
          ],
          "surface": [
           {
            "colorbar": {
             "outlinewidth": 0,
             "ticks": ""
            },
            "colorscale": [
             [
              0,
              "#0d0887"
             ],
             [
              0.1111111111111111,
              "#46039f"
             ],
             [
              0.2222222222222222,
              "#7201a8"
             ],
             [
              0.3333333333333333,
              "#9c179e"
             ],
             [
              0.4444444444444444,
              "#bd3786"
             ],
             [
              0.5555555555555556,
              "#d8576b"
             ],
             [
              0.6666666666666666,
              "#ed7953"
             ],
             [
              0.7777777777777778,
              "#fb9f3a"
             ],
             [
              0.8888888888888888,
              "#fdca26"
             ],
             [
              1,
              "#f0f921"
             ]
            ],
            "type": "surface"
           }
          ],
          "table": [
           {
            "cells": {
             "fill": {
              "color": "#EBF0F8"
             },
             "line": {
              "color": "white"
             }
            },
            "header": {
             "fill": {
              "color": "#C8D4E3"
             },
             "line": {
              "color": "white"
             }
            },
            "type": "table"
           }
          ]
         },
         "layout": {
          "annotationdefaults": {
           "arrowcolor": "#2a3f5f",
           "arrowhead": 0,
           "arrowwidth": 1
          },
          "autotypenumbers": "strict",
          "coloraxis": {
           "colorbar": {
            "outlinewidth": 0,
            "ticks": ""
           }
          },
          "colorscale": {
           "diverging": [
            [
             0,
             "#8e0152"
            ],
            [
             0.1,
             "#c51b7d"
            ],
            [
             0.2,
             "#de77ae"
            ],
            [
             0.3,
             "#f1b6da"
            ],
            [
             0.4,
             "#fde0ef"
            ],
            [
             0.5,
             "#f7f7f7"
            ],
            [
             0.6,
             "#e6f5d0"
            ],
            [
             0.7,
             "#b8e186"
            ],
            [
             0.8,
             "#7fbc41"
            ],
            [
             0.9,
             "#4d9221"
            ],
            [
             1,
             "#276419"
            ]
           ],
           "sequential": [
            [
             0,
             "#0d0887"
            ],
            [
             0.1111111111111111,
             "#46039f"
            ],
            [
             0.2222222222222222,
             "#7201a8"
            ],
            [
             0.3333333333333333,
             "#9c179e"
            ],
            [
             0.4444444444444444,
             "#bd3786"
            ],
            [
             0.5555555555555556,
             "#d8576b"
            ],
            [
             0.6666666666666666,
             "#ed7953"
            ],
            [
             0.7777777777777778,
             "#fb9f3a"
            ],
            [
             0.8888888888888888,
             "#fdca26"
            ],
            [
             1,
             "#f0f921"
            ]
           ],
           "sequentialminus": [
            [
             0,
             "#0d0887"
            ],
            [
             0.1111111111111111,
             "#46039f"
            ],
            [
             0.2222222222222222,
             "#7201a8"
            ],
            [
             0.3333333333333333,
             "#9c179e"
            ],
            [
             0.4444444444444444,
             "#bd3786"
            ],
            [
             0.5555555555555556,
             "#d8576b"
            ],
            [
             0.6666666666666666,
             "#ed7953"
            ],
            [
             0.7777777777777778,
             "#fb9f3a"
            ],
            [
             0.8888888888888888,
             "#fdca26"
            ],
            [
             1,
             "#f0f921"
            ]
           ]
          },
          "colorway": [
           "#636efa",
           "#EF553B",
           "#00cc96",
           "#ab63fa",
           "#FFA15A",
           "#19d3f3",
           "#FF6692",
           "#B6E880",
           "#FF97FF",
           "#FECB52"
          ],
          "font": {
           "color": "#2a3f5f"
          },
          "geo": {
           "bgcolor": "white",
           "lakecolor": "white",
           "landcolor": "#E5ECF6",
           "showlakes": true,
           "showland": true,
           "subunitcolor": "white"
          },
          "hoverlabel": {
           "align": "left"
          },
          "hovermode": "closest",
          "mapbox": {
           "style": "light"
          },
          "paper_bgcolor": "white",
          "plot_bgcolor": "#E5ECF6",
          "polar": {
           "angularaxis": {
            "gridcolor": "white",
            "linecolor": "white",
            "ticks": ""
           },
           "bgcolor": "#E5ECF6",
           "radialaxis": {
            "gridcolor": "white",
            "linecolor": "white",
            "ticks": ""
           }
          },
          "scene": {
           "xaxis": {
            "backgroundcolor": "#E5ECF6",
            "gridcolor": "white",
            "gridwidth": 2,
            "linecolor": "white",
            "showbackground": true,
            "ticks": "",
            "zerolinecolor": "white"
           },
           "yaxis": {
            "backgroundcolor": "#E5ECF6",
            "gridcolor": "white",
            "gridwidth": 2,
            "linecolor": "white",
            "showbackground": true,
            "ticks": "",
            "zerolinecolor": "white"
           },
           "zaxis": {
            "backgroundcolor": "#E5ECF6",
            "gridcolor": "white",
            "gridwidth": 2,
            "linecolor": "white",
            "showbackground": true,
            "ticks": "",
            "zerolinecolor": "white"
           }
          },
          "shapedefaults": {
           "line": {
            "color": "#2a3f5f"
           }
          },
          "ternary": {
           "aaxis": {
            "gridcolor": "white",
            "linecolor": "white",
            "ticks": ""
           },
           "baxis": {
            "gridcolor": "white",
            "linecolor": "white",
            "ticks": ""
           },
           "bgcolor": "#E5ECF6",
           "caxis": {
            "gridcolor": "white",
            "linecolor": "white",
            "ticks": ""
           }
          },
          "title": {
           "x": 0.05
          },
          "xaxis": {
           "automargin": true,
           "gridcolor": "white",
           "linecolor": "white",
           "ticks": "",
           "title": {
            "standoff": 15
           },
           "zerolinecolor": "white",
           "zerolinewidth": 2
          },
          "yaxis": {
           "automargin": true,
           "gridcolor": "white",
           "linecolor": "white",
           "ticks": "",
           "title": {
            "standoff": 15
           },
           "zerolinecolor": "white",
           "zerolinewidth": 2
          }
         }
        },
        "title": {
         "text": "frequency of multiple careunits"
        },
        "xaxis": {
         "anchor": "y",
         "domain": [
          0,
          1
         ],
         "title": {
          "text": "careunit"
         }
        },
        "yaxis": {
         "anchor": "x",
         "domain": [
          0,
          1
         ],
         "title": {
          "text": "sum of size"
         }
        }
       }
      }
     },
     "metadata": {},
     "output_type": "display_data"
    }
   ],
   "source": [
    "\n",
    "df_temp = df_transfers.groupby(['hadm_id','careunit']).size().reset_index(name='count').sort_values(by=['hadm_id','careunit','count',],ascending=False)\n",
    "\n",
    "df_temp = df_temp.groupby(['careunit','count']).size().reset_index(name='size').sort_values(by='size',ascending=False).iloc[:]\n",
    "df_temp\n",
    "df_temp['size'] = df_temp['size']/len(hadm_ids) * 100\n",
    "\n",
    "\n",
    "# FIGURE: frequency of multiple careunits\n",
    "px.histogram(df_temp, y = 'size', x='careunit', color='count',\n",
    "#labels={'size':'%'},\n",
    " barmode='group',\n",
    " title = \"frequency of multiple careunits\")\n",
    "\n"
   ]
  },
  {
   "cell_type": "code",
   "execution_count": 346,
   "metadata": {},
   "outputs": [
    {
     "ename": "ValueError",
     "evalue": "Value of 'x' is not the name of a column in 'data_frame'. Expected one of ['subject_id', 'hadm_id', 'transfer_id', 'eventtype', 'label', 'intime', 'outtime', 'detail', 'icd_code', 'icd_version', 'admittime', 'id', 'color', 'delta'] but received: careunit",
     "output_type": "error",
     "traceback": [
      "\u001b[1;31m---------------------------------------------------------------------------\u001b[0m",
      "\u001b[1;31mValueError\u001b[0m                                Traceback (most recent call last)",
      "\u001b[1;32m~\\AppData\\Local\\Temp\\ipykernel_19980\\765458399.py\u001b[0m in \u001b[0;36m<module>\u001b[1;34m\u001b[0m\n\u001b[0;32m      1\u001b[0m \u001b[1;31m# FIGURE: top-10 frequent care units\u001b[0m\u001b[1;33m\u001b[0m\u001b[1;33m\u001b[0m\u001b[0m\n\u001b[0;32m      2\u001b[0m \u001b[1;33m\u001b[0m\u001b[0m\n\u001b[1;32m----> 3\u001b[1;33m px.histogram(df_temp, y = 'size', x='careunit',\n\u001b[0m\u001b[0;32m      4\u001b[0m \u001b[1;31m#labels={'size':'%'},\u001b[0m\u001b[1;33m\u001b[0m\u001b[1;33m\u001b[0m\u001b[0m\n\u001b[0;32m      5\u001b[0m  \u001b[0mbarmode\u001b[0m\u001b[1;33m=\u001b[0m\u001b[1;34m'group'\u001b[0m\u001b[1;33m,\u001b[0m\u001b[1;33m\u001b[0m\u001b[1;33m\u001b[0m\u001b[0m\n",
      "\u001b[1;32m~\\Anaconda3\\envs\\dashVis\\lib\\site-packages\\plotly\\express\\_chart_types.py\u001b[0m in \u001b[0;36mhistogram\u001b[1;34m(data_frame, x, y, color, pattern_shape, facet_row, facet_col, facet_col_wrap, facet_row_spacing, facet_col_spacing, hover_name, hover_data, animation_frame, animation_group, category_orders, labels, color_discrete_sequence, color_discrete_map, pattern_shape_sequence, pattern_shape_map, marginal, opacity, orientation, barmode, barnorm, histnorm, log_x, log_y, range_x, range_y, histfunc, cumulative, nbins, text_auto, title, template, width, height)\u001b[0m\n\u001b[0;32m    470\u001b[0m     `orientation` is `'h'`).\n\u001b[0;32m    471\u001b[0m     \"\"\"\n\u001b[1;32m--> 472\u001b[1;33m     return make_figure(\n\u001b[0m\u001b[0;32m    473\u001b[0m         \u001b[0margs\u001b[0m\u001b[1;33m=\u001b[0m\u001b[0mlocals\u001b[0m\u001b[1;33m(\u001b[0m\u001b[1;33m)\u001b[0m\u001b[1;33m,\u001b[0m\u001b[1;33m\u001b[0m\u001b[1;33m\u001b[0m\u001b[0m\n\u001b[0;32m    474\u001b[0m         \u001b[0mconstructor\u001b[0m\u001b[1;33m=\u001b[0m\u001b[0mgo\u001b[0m\u001b[1;33m.\u001b[0m\u001b[0mHistogram\u001b[0m\u001b[1;33m,\u001b[0m\u001b[1;33m\u001b[0m\u001b[1;33m\u001b[0m\u001b[0m\n",
      "\u001b[1;32m~\\Anaconda3\\envs\\dashVis\\lib\\site-packages\\plotly\\express\\_core.py\u001b[0m in \u001b[0;36mmake_figure\u001b[1;34m(args, constructor, trace_patch, layout_patch)\u001b[0m\n\u001b[0;32m   1943\u001b[0m     \u001b[0mapply_default_cascade\u001b[0m\u001b[1;33m(\u001b[0m\u001b[0margs\u001b[0m\u001b[1;33m)\u001b[0m\u001b[1;33m\u001b[0m\u001b[1;33m\u001b[0m\u001b[0m\n\u001b[0;32m   1944\u001b[0m \u001b[1;33m\u001b[0m\u001b[0m\n\u001b[1;32m-> 1945\u001b[1;33m     \u001b[0margs\u001b[0m \u001b[1;33m=\u001b[0m \u001b[0mbuild_dataframe\u001b[0m\u001b[1;33m(\u001b[0m\u001b[0margs\u001b[0m\u001b[1;33m,\u001b[0m \u001b[0mconstructor\u001b[0m\u001b[1;33m)\u001b[0m\u001b[1;33m\u001b[0m\u001b[1;33m\u001b[0m\u001b[0m\n\u001b[0m\u001b[0;32m   1946\u001b[0m     \u001b[1;32mif\u001b[0m \u001b[0mconstructor\u001b[0m \u001b[1;32min\u001b[0m \u001b[1;33m[\u001b[0m\u001b[0mgo\u001b[0m\u001b[1;33m.\u001b[0m\u001b[0mTreemap\u001b[0m\u001b[1;33m,\u001b[0m \u001b[0mgo\u001b[0m\u001b[1;33m.\u001b[0m\u001b[0mSunburst\u001b[0m\u001b[1;33m,\u001b[0m \u001b[0mgo\u001b[0m\u001b[1;33m.\u001b[0m\u001b[0mIcicle\u001b[0m\u001b[1;33m]\u001b[0m \u001b[1;32mand\u001b[0m \u001b[0margs\u001b[0m\u001b[1;33m[\u001b[0m\u001b[1;34m\"path\"\u001b[0m\u001b[1;33m]\u001b[0m \u001b[1;32mis\u001b[0m \u001b[1;32mnot\u001b[0m \u001b[1;32mNone\u001b[0m\u001b[1;33m:\u001b[0m\u001b[1;33m\u001b[0m\u001b[1;33m\u001b[0m\u001b[0m\n\u001b[0;32m   1947\u001b[0m         \u001b[0margs\u001b[0m \u001b[1;33m=\u001b[0m \u001b[0mprocess_dataframe_hierarchy\u001b[0m\u001b[1;33m(\u001b[0m\u001b[0margs\u001b[0m\u001b[1;33m)\u001b[0m\u001b[1;33m\u001b[0m\u001b[1;33m\u001b[0m\u001b[0m\n",
      "\u001b[1;32m~\\Anaconda3\\envs\\dashVis\\lib\\site-packages\\plotly\\express\\_core.py\u001b[0m in \u001b[0;36mbuild_dataframe\u001b[1;34m(args, constructor)\u001b[0m\n\u001b[0;32m   1403\u001b[0m     \u001b[1;31m# now that things have been prepped, we do the systematic rewriting of `args`\u001b[0m\u001b[1;33m\u001b[0m\u001b[1;33m\u001b[0m\u001b[0m\n\u001b[0;32m   1404\u001b[0m \u001b[1;33m\u001b[0m\u001b[0m\n\u001b[1;32m-> 1405\u001b[1;33m     df_output, wide_id_vars = process_args_into_dataframe(\n\u001b[0m\u001b[0;32m   1406\u001b[0m         \u001b[0margs\u001b[0m\u001b[1;33m,\u001b[0m \u001b[0mwide_mode\u001b[0m\u001b[1;33m,\u001b[0m \u001b[0mvar_name\u001b[0m\u001b[1;33m,\u001b[0m \u001b[0mvalue_name\u001b[0m\u001b[1;33m\u001b[0m\u001b[1;33m\u001b[0m\u001b[0m\n\u001b[0;32m   1407\u001b[0m     )\n",
      "\u001b[1;32m~\\Anaconda3\\envs\\dashVis\\lib\\site-packages\\plotly\\express\\_core.py\u001b[0m in \u001b[0;36mprocess_args_into_dataframe\u001b[1;34m(args, wide_mode, var_name, value_name)\u001b[0m\n\u001b[0;32m   1205\u001b[0m                         \u001b[1;32mif\u001b[0m \u001b[0margument\u001b[0m \u001b[1;33m==\u001b[0m \u001b[1;34m\"index\"\u001b[0m\u001b[1;33m:\u001b[0m\u001b[1;33m\u001b[0m\u001b[1;33m\u001b[0m\u001b[0m\n\u001b[0;32m   1206\u001b[0m                             \u001b[0merr_msg\u001b[0m \u001b[1;33m+=\u001b[0m \u001b[1;34m\"\\n To use the index, pass it in directly as `df.index`.\"\u001b[0m\u001b[1;33m\u001b[0m\u001b[1;33m\u001b[0m\u001b[0m\n\u001b[1;32m-> 1207\u001b[1;33m                         \u001b[1;32mraise\u001b[0m \u001b[0mValueError\u001b[0m\u001b[1;33m(\u001b[0m\u001b[0merr_msg\u001b[0m\u001b[1;33m)\u001b[0m\u001b[1;33m\u001b[0m\u001b[1;33m\u001b[0m\u001b[0m\n\u001b[0m\u001b[0;32m   1208\u001b[0m                 \u001b[1;32melif\u001b[0m \u001b[0mlength\u001b[0m \u001b[1;32mand\u001b[0m \u001b[0mlen\u001b[0m\u001b[1;33m(\u001b[0m\u001b[0mdf_input\u001b[0m\u001b[1;33m[\u001b[0m\u001b[0margument\u001b[0m\u001b[1;33m]\u001b[0m\u001b[1;33m)\u001b[0m \u001b[1;33m!=\u001b[0m \u001b[0mlength\u001b[0m\u001b[1;33m:\u001b[0m\u001b[1;33m\u001b[0m\u001b[1;33m\u001b[0m\u001b[0m\n\u001b[0;32m   1209\u001b[0m                     raise ValueError(\n",
      "\u001b[1;31mValueError\u001b[0m: Value of 'x' is not the name of a column in 'data_frame'. Expected one of ['subject_id', 'hadm_id', 'transfer_id', 'eventtype', 'label', 'intime', 'outtime', 'detail', 'icd_code', 'icd_version', 'admittime', 'id', 'color', 'delta'] but received: careunit"
     ]
    }
   ],
   "source": [
    "# FIGURE: top-10 frequent care units\n",
    "\n",
    "px.histogram(df_temp, y = 'size', x='careunit',\n",
    "#labels={'size':'%'},\n",
    " barmode='group',\n",
    " title = \"frequency of careunits\")"
   ]
  },
  {
   "cell_type": "code",
   "execution_count": null,
   "metadata": {},
   "outputs": [],
   "source": [
    "from datetime import datetime, timedelta\n",
    "\n",
    "date_time_str = '01/01/00 01:55:19'\n",
    "\n",
    "date_origin = datetime.strptime(date_time_str, '%d/%m/%y %H:%M:%S')\n",
    "\n",
    "df2_transfers = df_transfers\n",
    "df2_transfers['detail'] = df2_transfers['careunit']\n",
    "df2_transfers = df2_transfers.rename(columns={'careunit':'label'})\n",
    "# drop outtime=nan\n",
    "df2_transfers = df2_transfers.dropna(subset='outtime')\n",
    "df2_transfers.dtypes\n"
   ]
  },
  {
   "cell_type": "code",
   "execution_count": null,
   "metadata": {},
   "outputs": [],
   "source": [
    "# icd-proc codes CABG \n",
    "\n",
    "from datetime import datetime, timedelta\n",
    "df_d_icd_proc = pd.read_csv(ADD_DATA+'d_icd_procedures.csv')\n",
    "\n",
    "\n",
    "\n",
    "df_icd_CABG = pd.read_csv(ADD_DATA+'saved_proc_cabg.csv')\n",
    "\n",
    "\n",
    "temp = df_icd_CABG['icd_code'].tolist()\n",
    "df_icd_CABG = df_icd_proc.query(f\"icd_code.isin({temp})\")\n",
    "df_icd_CABG = pd.merge(df_icd_CABG, df_d_icd_proc,on=['icd_code', 'icd_version'])\n",
    "\n",
    "df_icd_CABG['intime'] = df_icd_CABG ['chartdate'] \n",
    "df_icd_CABG['outtime'] =  df_icd_CABG ['chartdate'] + timedelta(days=1)\n",
    "\n",
    "df_icd_CABG['detail'] = df_icd_CABG['icd_code'] + '/' +df_icd_CABG['long_title']\n",
    "\n",
    "\n",
    "\n",
    "df_icd_CABG['label']='CABG'\n",
    "\n",
    "df_icd_CABG = df_icd_CABG[['hadm_id','label','intime','outtime','detail','icd_code','icd_version']]\n",
    "\n",
    "print(df_icd_CABG.dtypes)"
   ]
  },
  {
   "cell_type": "code",
   "execution_count": 345,
   "metadata": {},
   "outputs": [
    {
     "name": "stdout",
     "output_type": "stream",
     "text": [
      "hadm_id             int64\n",
      "label              object\n",
      "detail             object\n",
      "intime     datetime64[ns]\n",
      "outtime    datetime64[ns]\n",
      "dtype: object\n"
     ]
    },
    {
     "data": {
      "application/vnd.plotly.v1+json": {
       "config": {
        "plotlyServerURL": "https://plot.ly"
       },
       "data": [
        {
         "alignmentgroup": "True",
         "hovertemplate": "detail=%{x}<br>size=%{y}<extra></extra>",
         "legendgroup": "",
         "marker": {
          "color": "#636efa",
          "pattern": {
           "shape": ""
          }
         },
         "name": "",
         "offsetgroup": "",
         "orientation": "v",
         "showlegend": false,
         "textposition": "auto",
         "type": "bar",
         "x": [
          "I214   /Non-ST elevation (NSTEMI) myocardial infarction",
          "412    /Old myocardial infarction",
          "I252   /Old myocardial infarction",
          "41041  /Acute myocardial infarction of other inferior wall, initial episode of care",
          "I2119  /ST elevation (STEMI) myocardial infarction involving other coronary artery of inferior wall",
          "41091  /Acute myocardial infarction of unspecified site, initial episode of care",
          "I21A1  /Myocardial infarction type 2",
          "I213   /ST elevation (STEMI) myocardial infarction of unspecified site",
          "41011  /Acute myocardial infarction of other anterior wall, initial episode of care",
          "I2109  /ST elevation (STEMI) myocardial infarction involving other coronary artery of anterior wall",
          "41092  /Acute myocardial infarction of unspecified site, subsequent episode of care",
          "41021  /Acute myocardial infarction of inferolateral wall, initial episode of care",
          "41012  /Acute myocardial infarction of other anterior wall, subsequent episode of care",
          "I236   /Thrombosis of atrium, auricular appendage, and ventricle as current complications following acute myocardial infarction",
          "41081  /Acute myocardial infarction of other specified sites, initial episode of care",
          "I2129  /ST elevation (STEMI) myocardial infarction involving other sites",
          "I2111  /ST elevation (STEMI) myocardial infarction involving right coronary artery",
          "I2101  /ST elevation (STEMI) myocardial infarction involving left main coronary artery",
          "I2102  /ST elevation (STEMI) myocardial infarction involving left anterior descending coronary artery",
          "I222   /Subsequent non-ST elevation (NSTEMI) myocardial infarction",
          "41001  /Acute myocardial infarction of anterolateral wall, initial episode of care",
          "4110   /Postmyocardial infarction syndrome",
          "41042  /Acute myocardial infarction of other inferior wall, subsequent episode of care",
          "41031  /Acute myocardial infarction of inferoposterior wall, initial episode of care",
          "41022  /Acute myocardial infarction of inferolateral wall, subsequent episode of care",
          "42979  /Certain sequelae of myocardial infarction, not elsewhere classified, other",
          "I220   /Subsequent ST elevation (STEMI) myocardial infarction of anterior wall",
          "I232   /Ventricular septal defect as current complication following acute myocardial infarction",
          "I235   /Rupture of papillary muscle as current complication following acute myocardial infarction",
          "I240   /Acute coronary thrombosis not resulting in myocardial infarction",
          "41002  /Acute myocardial infarction of anterolateral wall, subsequent episode of care",
          "41181  /Acute coronary occlusion without myocardial infarction",
          "41051  /Acute myocardial infarction of other lateral wall, initial episode of care",
          "41032  /Acute myocardial infarction of inferoposterior wall, subsequent episode of care",
          "I229   /Subsequent ST elevation (STEMI) myocardial infarction of unspecified site"
         ],
         "xaxis": "x",
         "y": [
          627,
          549,
          475,
          39,
          35,
          34,
          29,
          24,
          16,
          8,
          8,
          6,
          6,
          5,
          5,
          5,
          5,
          4,
          4,
          3,
          3,
          3,
          3,
          3,
          3,
          3,
          2,
          2,
          2,
          2,
          1,
          1,
          1,
          1,
          1
         ],
         "yaxis": "y"
        }
       ],
       "layout": {
        "barmode": "relative",
        "legend": {
         "tracegroupgap": 0
        },
        "template": {
         "data": {
          "bar": [
           {
            "error_x": {
             "color": "#2a3f5f"
            },
            "error_y": {
             "color": "#2a3f5f"
            },
            "marker": {
             "line": {
              "color": "#E5ECF6",
              "width": 0.5
             },
             "pattern": {
              "fillmode": "overlay",
              "size": 10,
              "solidity": 0.2
             }
            },
            "type": "bar"
           }
          ],
          "barpolar": [
           {
            "marker": {
             "line": {
              "color": "#E5ECF6",
              "width": 0.5
             },
             "pattern": {
              "fillmode": "overlay",
              "size": 10,
              "solidity": 0.2
             }
            },
            "type": "barpolar"
           }
          ],
          "carpet": [
           {
            "aaxis": {
             "endlinecolor": "#2a3f5f",
             "gridcolor": "white",
             "linecolor": "white",
             "minorgridcolor": "white",
             "startlinecolor": "#2a3f5f"
            },
            "baxis": {
             "endlinecolor": "#2a3f5f",
             "gridcolor": "white",
             "linecolor": "white",
             "minorgridcolor": "white",
             "startlinecolor": "#2a3f5f"
            },
            "type": "carpet"
           }
          ],
          "choropleth": [
           {
            "colorbar": {
             "outlinewidth": 0,
             "ticks": ""
            },
            "type": "choropleth"
           }
          ],
          "contour": [
           {
            "colorbar": {
             "outlinewidth": 0,
             "ticks": ""
            },
            "colorscale": [
             [
              0,
              "#0d0887"
             ],
             [
              0.1111111111111111,
              "#46039f"
             ],
             [
              0.2222222222222222,
              "#7201a8"
             ],
             [
              0.3333333333333333,
              "#9c179e"
             ],
             [
              0.4444444444444444,
              "#bd3786"
             ],
             [
              0.5555555555555556,
              "#d8576b"
             ],
             [
              0.6666666666666666,
              "#ed7953"
             ],
             [
              0.7777777777777778,
              "#fb9f3a"
             ],
             [
              0.8888888888888888,
              "#fdca26"
             ],
             [
              1,
              "#f0f921"
             ]
            ],
            "type": "contour"
           }
          ],
          "contourcarpet": [
           {
            "colorbar": {
             "outlinewidth": 0,
             "ticks": ""
            },
            "type": "contourcarpet"
           }
          ],
          "heatmap": [
           {
            "colorbar": {
             "outlinewidth": 0,
             "ticks": ""
            },
            "colorscale": [
             [
              0,
              "#0d0887"
             ],
             [
              0.1111111111111111,
              "#46039f"
             ],
             [
              0.2222222222222222,
              "#7201a8"
             ],
             [
              0.3333333333333333,
              "#9c179e"
             ],
             [
              0.4444444444444444,
              "#bd3786"
             ],
             [
              0.5555555555555556,
              "#d8576b"
             ],
             [
              0.6666666666666666,
              "#ed7953"
             ],
             [
              0.7777777777777778,
              "#fb9f3a"
             ],
             [
              0.8888888888888888,
              "#fdca26"
             ],
             [
              1,
              "#f0f921"
             ]
            ],
            "type": "heatmap"
           }
          ],
          "heatmapgl": [
           {
            "colorbar": {
             "outlinewidth": 0,
             "ticks": ""
            },
            "colorscale": [
             [
              0,
              "#0d0887"
             ],
             [
              0.1111111111111111,
              "#46039f"
             ],
             [
              0.2222222222222222,
              "#7201a8"
             ],
             [
              0.3333333333333333,
              "#9c179e"
             ],
             [
              0.4444444444444444,
              "#bd3786"
             ],
             [
              0.5555555555555556,
              "#d8576b"
             ],
             [
              0.6666666666666666,
              "#ed7953"
             ],
             [
              0.7777777777777778,
              "#fb9f3a"
             ],
             [
              0.8888888888888888,
              "#fdca26"
             ],
             [
              1,
              "#f0f921"
             ]
            ],
            "type": "heatmapgl"
           }
          ],
          "histogram": [
           {
            "marker": {
             "pattern": {
              "fillmode": "overlay",
              "size": 10,
              "solidity": 0.2
             }
            },
            "type": "histogram"
           }
          ],
          "histogram2d": [
           {
            "colorbar": {
             "outlinewidth": 0,
             "ticks": ""
            },
            "colorscale": [
             [
              0,
              "#0d0887"
             ],
             [
              0.1111111111111111,
              "#46039f"
             ],
             [
              0.2222222222222222,
              "#7201a8"
             ],
             [
              0.3333333333333333,
              "#9c179e"
             ],
             [
              0.4444444444444444,
              "#bd3786"
             ],
             [
              0.5555555555555556,
              "#d8576b"
             ],
             [
              0.6666666666666666,
              "#ed7953"
             ],
             [
              0.7777777777777778,
              "#fb9f3a"
             ],
             [
              0.8888888888888888,
              "#fdca26"
             ],
             [
              1,
              "#f0f921"
             ]
            ],
            "type": "histogram2d"
           }
          ],
          "histogram2dcontour": [
           {
            "colorbar": {
             "outlinewidth": 0,
             "ticks": ""
            },
            "colorscale": [
             [
              0,
              "#0d0887"
             ],
             [
              0.1111111111111111,
              "#46039f"
             ],
             [
              0.2222222222222222,
              "#7201a8"
             ],
             [
              0.3333333333333333,
              "#9c179e"
             ],
             [
              0.4444444444444444,
              "#bd3786"
             ],
             [
              0.5555555555555556,
              "#d8576b"
             ],
             [
              0.6666666666666666,
              "#ed7953"
             ],
             [
              0.7777777777777778,
              "#fb9f3a"
             ],
             [
              0.8888888888888888,
              "#fdca26"
             ],
             [
              1,
              "#f0f921"
             ]
            ],
            "type": "histogram2dcontour"
           }
          ],
          "mesh3d": [
           {
            "colorbar": {
             "outlinewidth": 0,
             "ticks": ""
            },
            "type": "mesh3d"
           }
          ],
          "parcoords": [
           {
            "line": {
             "colorbar": {
              "outlinewidth": 0,
              "ticks": ""
             }
            },
            "type": "parcoords"
           }
          ],
          "pie": [
           {
            "automargin": true,
            "type": "pie"
           }
          ],
          "scatter": [
           {
            "marker": {
             "colorbar": {
              "outlinewidth": 0,
              "ticks": ""
             }
            },
            "type": "scatter"
           }
          ],
          "scatter3d": [
           {
            "line": {
             "colorbar": {
              "outlinewidth": 0,
              "ticks": ""
             }
            },
            "marker": {
             "colorbar": {
              "outlinewidth": 0,
              "ticks": ""
             }
            },
            "type": "scatter3d"
           }
          ],
          "scattercarpet": [
           {
            "marker": {
             "colorbar": {
              "outlinewidth": 0,
              "ticks": ""
             }
            },
            "type": "scattercarpet"
           }
          ],
          "scattergeo": [
           {
            "marker": {
             "colorbar": {
              "outlinewidth": 0,
              "ticks": ""
             }
            },
            "type": "scattergeo"
           }
          ],
          "scattergl": [
           {
            "marker": {
             "colorbar": {
              "outlinewidth": 0,
              "ticks": ""
             }
            },
            "type": "scattergl"
           }
          ],
          "scattermapbox": [
           {
            "marker": {
             "colorbar": {
              "outlinewidth": 0,
              "ticks": ""
             }
            },
            "type": "scattermapbox"
           }
          ],
          "scatterpolar": [
           {
            "marker": {
             "colorbar": {
              "outlinewidth": 0,
              "ticks": ""
             }
            },
            "type": "scatterpolar"
           }
          ],
          "scatterpolargl": [
           {
            "marker": {
             "colorbar": {
              "outlinewidth": 0,
              "ticks": ""
             }
            },
            "type": "scatterpolargl"
           }
          ],
          "scatterternary": [
           {
            "marker": {
             "colorbar": {
              "outlinewidth": 0,
              "ticks": ""
             }
            },
            "type": "scatterternary"
           }
          ],
          "surface": [
           {
            "colorbar": {
             "outlinewidth": 0,
             "ticks": ""
            },
            "colorscale": [
             [
              0,
              "#0d0887"
             ],
             [
              0.1111111111111111,
              "#46039f"
             ],
             [
              0.2222222222222222,
              "#7201a8"
             ],
             [
              0.3333333333333333,
              "#9c179e"
             ],
             [
              0.4444444444444444,
              "#bd3786"
             ],
             [
              0.5555555555555556,
              "#d8576b"
             ],
             [
              0.6666666666666666,
              "#ed7953"
             ],
             [
              0.7777777777777778,
              "#fb9f3a"
             ],
             [
              0.8888888888888888,
              "#fdca26"
             ],
             [
              1,
              "#f0f921"
             ]
            ],
            "type": "surface"
           }
          ],
          "table": [
           {
            "cells": {
             "fill": {
              "color": "#EBF0F8"
             },
             "line": {
              "color": "white"
             }
            },
            "header": {
             "fill": {
              "color": "#C8D4E3"
             },
             "line": {
              "color": "white"
             }
            },
            "type": "table"
           }
          ]
         },
         "layout": {
          "annotationdefaults": {
           "arrowcolor": "#2a3f5f",
           "arrowhead": 0,
           "arrowwidth": 1
          },
          "autotypenumbers": "strict",
          "coloraxis": {
           "colorbar": {
            "outlinewidth": 0,
            "ticks": ""
           }
          },
          "colorscale": {
           "diverging": [
            [
             0,
             "#8e0152"
            ],
            [
             0.1,
             "#c51b7d"
            ],
            [
             0.2,
             "#de77ae"
            ],
            [
             0.3,
             "#f1b6da"
            ],
            [
             0.4,
             "#fde0ef"
            ],
            [
             0.5,
             "#f7f7f7"
            ],
            [
             0.6,
             "#e6f5d0"
            ],
            [
             0.7,
             "#b8e186"
            ],
            [
             0.8,
             "#7fbc41"
            ],
            [
             0.9,
             "#4d9221"
            ],
            [
             1,
             "#276419"
            ]
           ],
           "sequential": [
            [
             0,
             "#0d0887"
            ],
            [
             0.1111111111111111,
             "#46039f"
            ],
            [
             0.2222222222222222,
             "#7201a8"
            ],
            [
             0.3333333333333333,
             "#9c179e"
            ],
            [
             0.4444444444444444,
             "#bd3786"
            ],
            [
             0.5555555555555556,
             "#d8576b"
            ],
            [
             0.6666666666666666,
             "#ed7953"
            ],
            [
             0.7777777777777778,
             "#fb9f3a"
            ],
            [
             0.8888888888888888,
             "#fdca26"
            ],
            [
             1,
             "#f0f921"
            ]
           ],
           "sequentialminus": [
            [
             0,
             "#0d0887"
            ],
            [
             0.1111111111111111,
             "#46039f"
            ],
            [
             0.2222222222222222,
             "#7201a8"
            ],
            [
             0.3333333333333333,
             "#9c179e"
            ],
            [
             0.4444444444444444,
             "#bd3786"
            ],
            [
             0.5555555555555556,
             "#d8576b"
            ],
            [
             0.6666666666666666,
             "#ed7953"
            ],
            [
             0.7777777777777778,
             "#fb9f3a"
            ],
            [
             0.8888888888888888,
             "#fdca26"
            ],
            [
             1,
             "#f0f921"
            ]
           ]
          },
          "colorway": [
           "#636efa",
           "#EF553B",
           "#00cc96",
           "#ab63fa",
           "#FFA15A",
           "#19d3f3",
           "#FF6692",
           "#B6E880",
           "#FF97FF",
           "#FECB52"
          ],
          "font": {
           "color": "#2a3f5f"
          },
          "geo": {
           "bgcolor": "white",
           "lakecolor": "white",
           "landcolor": "#E5ECF6",
           "showlakes": true,
           "showland": true,
           "subunitcolor": "white"
          },
          "hoverlabel": {
           "align": "left"
          },
          "hovermode": "closest",
          "mapbox": {
           "style": "light"
          },
          "paper_bgcolor": "white",
          "plot_bgcolor": "#E5ECF6",
          "polar": {
           "angularaxis": {
            "gridcolor": "white",
            "linecolor": "white",
            "ticks": ""
           },
           "bgcolor": "#E5ECF6",
           "radialaxis": {
            "gridcolor": "white",
            "linecolor": "white",
            "ticks": ""
           }
          },
          "scene": {
           "xaxis": {
            "backgroundcolor": "#E5ECF6",
            "gridcolor": "white",
            "gridwidth": 2,
            "linecolor": "white",
            "showbackground": true,
            "ticks": "",
            "zerolinecolor": "white"
           },
           "yaxis": {
            "backgroundcolor": "#E5ECF6",
            "gridcolor": "white",
            "gridwidth": 2,
            "linecolor": "white",
            "showbackground": true,
            "ticks": "",
            "zerolinecolor": "white"
           },
           "zaxis": {
            "backgroundcolor": "#E5ECF6",
            "gridcolor": "white",
            "gridwidth": 2,
            "linecolor": "white",
            "showbackground": true,
            "ticks": "",
            "zerolinecolor": "white"
           }
          },
          "shapedefaults": {
           "line": {
            "color": "#2a3f5f"
           }
          },
          "ternary": {
           "aaxis": {
            "gridcolor": "white",
            "linecolor": "white",
            "ticks": ""
           },
           "baxis": {
            "gridcolor": "white",
            "linecolor": "white",
            "ticks": ""
           },
           "bgcolor": "#E5ECF6",
           "caxis": {
            "gridcolor": "white",
            "linecolor": "white",
            "ticks": ""
           }
          },
          "title": {
           "x": 0.05
          },
          "xaxis": {
           "automargin": true,
           "gridcolor": "white",
           "linecolor": "white",
           "ticks": "",
           "title": {
            "standoff": 15
           },
           "zerolinecolor": "white",
           "zerolinewidth": 2
          },
          "yaxis": {
           "automargin": true,
           "gridcolor": "white",
           "linecolor": "white",
           "ticks": "",
           "title": {
            "standoff": 15
           },
           "zerolinecolor": "white",
           "zerolinewidth": 2
          }
         }
        },
        "title": {
         "text": "most frequent MI-related codes"
        },
        "xaxis": {
         "anchor": "y",
         "domain": [
          0,
          1
         ],
         "title": {
          "text": "detail"
         }
        },
        "yaxis": {
         "anchor": "x",
         "domain": [
          0,
          1
         ],
         "title": {
          "text": "size"
         }
        }
       }
      }
     },
     "metadata": {},
     "output_type": "display_data"
    },
    {
     "name": "stdout",
     "output_type": "stream",
     "text": [
      "1918\n"
     ]
    }
   ],
   "source": [
    "# icd-diag codes containing \"myocardial infarction\"  except \"old\"\n",
    "\n",
    "df_d_icd_diag = pd.read_csv(ADD_DATA+'d_icd_diagnoses.csv')\n",
    "\n",
    "df2_icd_diag = pd.merge(df_icd_diag, df_d_icd_diag,on=['icd_code', 'icd_version'])\n",
    "\n",
    "df_icd_MI = df2_icd_diag.query(f\"long_title.str.contains('myocardial infarction',case=False)\")\n",
    "\n",
    "df_icd_MI['label'] = 'MI'\n",
    "df_icd_MI['detail'] = df_icd_MI['icd_code'] + '/' +df_icd_MI['long_title']\n",
    "df_icd_MI['intime'] = date_origin - timedelta(days=3)\n",
    "df_icd_MI['outtime'] = date_origin - timedelta(days=2)\n",
    "df_icd_MI = df_icd_MI[['hadm_id','label','detail','intime','outtime']]\n",
    "print(df_icd_MI.dtypes)\n",
    "\n",
    "# FIGURE: plot most frequent MI-related codes in the cohort\n",
    "temp = df_icd_MI.groupby('detail').size().reset_index(name='size').sort_values(by='size',ascending=False)\n",
    "fig = px.bar(temp,x='detail', y='size', title = 'most frequent MI-related codes')\n",
    "fig.show()\n",
    "fig.write_html(ADD_DATA+'MI-related codes.html')\n",
    "print(len(df_icd_MI))\n"
   ]
  },
  {
   "cell_type": "code",
   "execution_count": 348,
   "metadata": {},
   "outputs": [
    {
     "name": "stdout",
     "output_type": "stream",
     "text": [
      "hadm_id             int64\n",
      "intime     datetime64[ns]\n",
      "outtime    datetime64[ns]\n",
      "label              object\n",
      "detail             object\n",
      "dtype: object\n",
      "        hadm_id              intime             outtime                label  \\\n",
      "203    23891344 2118-09-29 17:00:00 2118-09-30 17:01:00         Cardiac Cath   \n",
      "1223   23531962 2128-08-22 08:45:00 2128-08-23 08:46:00         Cardiac Cath   \n",
      "1265   22848187 2125-04-27 15:00:00 2125-04-28 15:01:00         Cardiac Cath   \n",
      "1509   25849202 2185-04-08 11:30:00 2185-04-09 11:31:00         Cardiac Cath   \n",
      "1546   27973178 2180-05-16 14:30:00 2180-05-17 14:31:00         Cardiac Cath   \n",
      "...         ...                 ...                 ...                  ...   \n",
      "87119  28948855 2155-11-02 20:20:00 2155-11-03 20:21:00  Cath Lab (Received)   \n",
      "87142  28948855 2155-11-09 16:00:00 2155-11-10 16:01:00         Cardiac Cath   \n",
      "87452  21224034 2176-04-05 15:30:00 2176-04-06 15:31:00      Cath Lab (Sent)   \n",
      "87453  21224034 2176-04-05 15:42:00 2176-04-06 15:43:00         Cardiac Cath   \n",
      "88161  29569727 2131-06-14 18:20:00 2131-06-15 18:21:00      Cath Lab (Sent)   \n",
      "\n",
      "                    detail  \n",
      "203           Cardiac Cath  \n",
      "1223          Cardiac Cath  \n",
      "1265          Cardiac Cath  \n",
      "1509          Cardiac Cath  \n",
      "1546          Cardiac Cath  \n",
      "...                    ...  \n",
      "87119  Cath Lab (Received)  \n",
      "87142         Cardiac Cath  \n",
      "87452      Cath Lab (Sent)  \n",
      "87453         Cardiac Cath  \n",
      "88161      Cath Lab (Sent)  \n",
      "\n",
      "[147 rows x 5 columns]\n"
     ]
    }
   ],
   "source": [
    "# \"cath lab\" as outcome from icu.procedures\n",
    "\n",
    "# 225430\tCardiac Cath\n",
    "# 229577\tCath Lab (Received)\n",
    "# 229578\tCath Lab (Sent)\n",
    "list_itemids = [\n",
    "225430,\n",
    "229577,\n",
    "229578,\n",
    "]\n",
    "\n",
    "dict_cathlab = {\n",
    "225430\t: 'Cardiac Cath',\n",
    "229577\t: 'Cath Lab (Received)',\n",
    "229578\t: 'Cath Lab (Sent)',\n",
    "}\n",
    "\n",
    "df2_pe = df_pe.query(f\"itemid.isin({list_itemids})\")\n",
    "\n",
    "df2_pe = df2_pe[['hadm_id','starttime','endtime','itemid']]\n",
    "df2_pe = df2_pe.rename(columns={'starttime':'intime','endtime':'outtime','itemid':'label'})\n",
    "df2_pe['outtime'] = df2_pe['outtime']+timedelta(days=1)\n",
    "\n",
    "df2_pe = df2_pe.replace({'label': dict_cathlab})\n",
    "\n",
    "df2_pe['detail'] = df2_pe['label']\n",
    "\n",
    "print(df2_pe.dtypes)\n",
    "print(df2_pe)\n"
   ]
  },
  {
   "cell_type": "code",
   "execution_count": 349,
   "metadata": {},
   "outputs": [
    {
     "data": {
      "text/plain": [
       "subject_id            float64\n",
       "hadm_id                 int64\n",
       "transfer_id           float64\n",
       "eventtype              object\n",
       "label                  object\n",
       "intime         datetime64[ns]\n",
       "outtime        datetime64[ns]\n",
       "detail                 object\n",
       "icd_code               object\n",
       "icd_version           float64\n",
       "dtype: object"
      ]
     },
     "execution_count": 349,
     "metadata": {},
     "output_type": "execute_result"
    }
   ],
   "source": [
    "df_concat = pd.concat([df2_transfers, df_icd_CABG, df_icd_MI, df2_pe])\n",
    "\n",
    "df_concat.dtypes"
   ]
  },
  {
   "cell_type": "code",
   "execution_count": 350,
   "metadata": {},
   "outputs": [],
   "source": [
    "df_concat['label'].value_counts()\n",
    "df_concat = pd.merge(df_concat,df_admissions[['hadm_id','admittime']], on='hadm_id')\n"
   ]
  },
  {
   "cell_type": "code",
   "execution_count": 351,
   "metadata": {},
   "outputs": [],
   "source": [
    "\n",
    "\n",
    "# select a subset\n",
    "#df_concat=df_concat.query(f\"careunit=='Cardiac Surgery' or careunit.str.endswith('(CVICU)') or careunit=='CABG' or careunit.isin({list_itemids}) \")\n",
    "\n",
    "# select a subset that has Cath lab\n",
    "sub_hadm_ids = df_concat[df_concat['label'].str.contains('Cath').fillna(False)]['hadm_id'].unique().tolist()\n",
    "df2_concat = df_concat[df_concat['hadm_id'].isin(sub_hadm_ids)]\n",
    "\n",
    "df2_concat ['intime'] = (df2_concat ['intime'] - df2_concat ['admittime']) + date_origin\n",
    "df2_concat ['outtime'] = (df2_concat ['outtime'] - df2_concat ['admittime']) +date_origin\n",
    "q_MI = df2_concat['label']=='MI'\n",
    "df2_concat.loc [q_MI, 'intime'] = date_origin - timedelta(days=3)\n",
    "df2_concat.loc [q_MI, 'outtime'] = date_origin - timedelta(days=2)\n",
    "df2_concat = df2_concat.sort_values(['hadm_id','intime']).iloc[:] \n",
    "\n",
    "\n"
   ]
  },
  {
   "cell_type": "code",
   "execution_count": 352,
   "metadata": {},
   "outputs": [
    {
     "name": "stdout",
     "output_type": "stream",
     "text": [
      "total CABG patients: 5580\n",
      "total number with an outcome: 117\n"
     ]
    },
    {
     "data": {
      "text/plain": [
       "Cardiac Vascular Intensive Care Unit (CVICU)        220\n",
       "CABG                                                212\n",
       "Cardiac Surgery                                     120\n",
       "Coronary Care Unit (CCU)                             88\n",
       "Cardiac Cath                                         86\n",
       "MI                                                   68\n",
       "Medicine/Cardiology                                  63\n",
       "PACU                                                 62\n",
       "Emergency Department                                 54\n",
       "Cath Lab (Sent)                                      39\n",
       "Cardiology Surgery Intermediate                      38\n",
       "Cath Lab (Received)                                  22\n",
       "Medical Intensive Care Unit (MICU)                   15\n",
       "Medicine                                              7\n",
       "Medicine/Cardiology Intermediate                      5\n",
       "Vascular                                              5\n",
       "Trauma SICU (TSICU)                                   4\n",
       "Neurology                                             3\n",
       "Medical/Surgical Intensive Care Unit (MICU/SICU)      3\n",
       "Emergency Department Observation                      2\n",
       "Surgical Intensive Care Unit (SICU)                   2\n",
       "Surgery/Trauma                                        1\n",
       "Surgery/Vascular/Intermediate                         1\n",
       "Hematology/Oncology Intermediate                      1\n",
       "Name: label, dtype: int64"
      ]
     },
     "execution_count": 352,
     "metadata": {},
     "output_type": "execute_result"
    }
   ],
   "source": [
    "print(f\"total CABG patients: {len(df_transfers['hadm_id'].unique())}\")\n",
    "print(f\"total number with an outcome: {len(df2_concat['hadm_id'].unique())}\")\n",
    "\n",
    "df2_concat['label'].value_counts()"
   ]
  },
  {
   "cell_type": "code",
   "execution_count": 353,
   "metadata": {},
   "outputs": [],
   "source": [
    "\n",
    "# assign hadm_id to a unique list [1: n_adm]\n",
    "L1 = df2_concat['hadm_id'].unique().tolist()\n",
    "L2 = list(range(1,len(hadm_ids)+1))\n",
    "mapper=dict(zip(L1, L2))\n",
    "df2_concat['id'] = df2_concat['hadm_id']\n",
    "df2_concat = df2_concat.replace({\"id\": mapper})\n",
    "\n",
    "#df2_concat['id'] =df2_concat['id']\n",
    "list_temp = [*list(dict_cathlab.values()),'CABG']\n",
    "q = df2_concat['label'].isin(list_temp)\n",
    "df2_concat.loc[q,'id'] = df2_concat.loc[q,'id'] + 0.2\n",
    "\n",
    "\n",
    "df2_concat = df2_concat[df2_concat.label != 'Emergency Department']\n",
    "df2_concat = df2_concat.dropna(subset='label')"
   ]
  },
  {
   "cell_type": "code",
   "execution_count": 354,
   "metadata": {},
   "outputs": [
    {
     "data": {
      "text/html": [
       "<div>\n",
       "<style scoped>\n",
       "    .dataframe tbody tr th:only-of-type {\n",
       "        vertical-align: middle;\n",
       "    }\n",
       "\n",
       "    .dataframe tbody tr th {\n",
       "        vertical-align: top;\n",
       "    }\n",
       "\n",
       "    .dataframe thead th {\n",
       "        text-align: right;\n",
       "    }\n",
       "</style>\n",
       "<table border=\"1\" class=\"dataframe\">\n",
       "  <thead>\n",
       "    <tr style=\"text-align: right;\">\n",
       "      <th></th>\n",
       "      <th>subject_id</th>\n",
       "      <th>hadm_id</th>\n",
       "      <th>transfer_id</th>\n",
       "      <th>eventtype</th>\n",
       "      <th>label</th>\n",
       "      <th>intime</th>\n",
       "      <th>outtime</th>\n",
       "      <th>detail</th>\n",
       "      <th>icd_code</th>\n",
       "      <th>icd_version</th>\n",
       "      <th>admittime</th>\n",
       "      <th>id</th>\n",
       "      <th>color</th>\n",
       "    </tr>\n",
       "  </thead>\n",
       "  <tbody>\n",
       "    <tr>\n",
       "      <th>18103</th>\n",
       "      <td>NaN</td>\n",
       "      <td>20167242</td>\n",
       "      <td>NaN</td>\n",
       "      <td>NaN</td>\n",
       "      <td>MI</td>\n",
       "      <td>1999-12-29 01:55:19</td>\n",
       "      <td>1999-12-30 01:55:19</td>\n",
       "      <td>I214   /Non-ST elevation (NSTEMI) myocardial i...</td>\n",
       "      <td>NaN</td>\n",
       "      <td>NaN</td>\n",
       "      <td>2144-10-27 00:11:00</td>\n",
       "      <td>1.0</td>\n",
       "      <td>MI</td>\n",
       "    </tr>\n",
       "    <tr>\n",
       "      <th>18101</th>\n",
       "      <td>NaN</td>\n",
       "      <td>20167242</td>\n",
       "      <td>NaN</td>\n",
       "      <td>NaN</td>\n",
       "      <td>CABG</td>\n",
       "      <td>2000-01-02 01:44:19</td>\n",
       "      <td>2000-01-03 01:44:19</td>\n",
       "      <td>02100Z9/Bypass Coronary Artery, One Artery fro...</td>\n",
       "      <td>02100Z9</td>\n",
       "      <td>10.0</td>\n",
       "      <td>2144-10-27 00:11:00</td>\n",
       "      <td>1.2</td>\n",
       "      <td>CABG</td>\n",
       "    </tr>\n",
       "    <tr>\n",
       "      <th>18102</th>\n",
       "      <td>NaN</td>\n",
       "      <td>20167242</td>\n",
       "      <td>NaN</td>\n",
       "      <td>NaN</td>\n",
       "      <td>CABG</td>\n",
       "      <td>2000-01-02 01:44:19</td>\n",
       "      <td>2000-01-03 01:44:19</td>\n",
       "      <td>02120KW/Bypass Coronary Artery, Three Arteries...</td>\n",
       "      <td>02120KW</td>\n",
       "      <td>10.0</td>\n",
       "      <td>2144-10-27 00:11:00</td>\n",
       "      <td>1.2</td>\n",
       "      <td>CABG</td>\n",
       "    </tr>\n",
       "    <tr>\n",
       "      <th>18099</th>\n",
       "      <td>18871076.0</td>\n",
       "      <td>20167242</td>\n",
       "      <td>30417835.0</td>\n",
       "      <td>admit</td>\n",
       "      <td>Cardiac Vascular Intensive Care Unit (CVICU)</td>\n",
       "      <td>2000-01-02 01:57:44</td>\n",
       "      <td>2000-01-05 00:08:59</td>\n",
       "      <td>Cardiac Vascular Intensive Care Unit (CVICU)</td>\n",
       "      <td>NaN</td>\n",
       "      <td>NaN</td>\n",
       "      <td>2144-10-27 00:11:00</td>\n",
       "      <td>1.0</td>\n",
       "      <td>ICU</td>\n",
       "    </tr>\n",
       "    <tr>\n",
       "      <th>18104</th>\n",
       "      <td>NaN</td>\n",
       "      <td>20167242</td>\n",
       "      <td>NaN</td>\n",
       "      <td>NaN</td>\n",
       "      <td>Cath Lab (Sent)</td>\n",
       "      <td>2000-01-02 12:37:19</td>\n",
       "      <td>2000-01-03 12:38:19</td>\n",
       "      <td>Cath Lab (Sent)</td>\n",
       "      <td>NaN</td>\n",
       "      <td>NaN</td>\n",
       "      <td>2144-10-27 00:11:00</td>\n",
       "      <td>1.2</td>\n",
       "      <td>Outcome</td>\n",
       "    </tr>\n",
       "    <tr>\n",
       "      <th>...</th>\n",
       "      <td>...</td>\n",
       "      <td>...</td>\n",
       "      <td>...</td>\n",
       "      <td>...</td>\n",
       "      <td>...</td>\n",
       "      <td>...</td>\n",
       "      <td>...</td>\n",
       "      <td>...</td>\n",
       "      <td>...</td>\n",
       "      <td>...</td>\n",
       "      <td>...</td>\n",
       "      <td>...</td>\n",
       "      <td>...</td>\n",
       "    </tr>\n",
       "    <tr>\n",
       "      <th>3230</th>\n",
       "      <td>17879591.0</td>\n",
       "      <td>29871031</td>\n",
       "      <td>32124959.0</td>\n",
       "      <td>transfer</td>\n",
       "      <td>Medicine/Cardiology</td>\n",
       "      <td>2000-01-03 01:19:07</td>\n",
       "      <td>2000-01-05 21:58:58</td>\n",
       "      <td>Medicine/Cardiology</td>\n",
       "      <td>NaN</td>\n",
       "      <td>NaN</td>\n",
       "      <td>2127-08-04 15:05:00</td>\n",
       "      <td>117.0</td>\n",
       "      <td>Other units</td>\n",
       "    </tr>\n",
       "    <tr>\n",
       "      <th>3231</th>\n",
       "      <td>17879591.0</td>\n",
       "      <td>29871031</td>\n",
       "      <td>34465756.0</td>\n",
       "      <td>transfer</td>\n",
       "      <td>Medicine/Cardiology</td>\n",
       "      <td>2000-01-05 21:58:58</td>\n",
       "      <td>2000-01-08 20:32:30</td>\n",
       "      <td>Medicine/Cardiology</td>\n",
       "      <td>NaN</td>\n",
       "      <td>NaN</td>\n",
       "      <td>2127-08-04 15:05:00</td>\n",
       "      <td>117.0</td>\n",
       "      <td>Other units</td>\n",
       "    </tr>\n",
       "    <tr>\n",
       "      <th>3234</th>\n",
       "      <td>NaN</td>\n",
       "      <td>29871031</td>\n",
       "      <td>NaN</td>\n",
       "      <td>NaN</td>\n",
       "      <td>CABG</td>\n",
       "      <td>2000-01-08 10:50:19</td>\n",
       "      <td>2000-01-09 10:50:19</td>\n",
       "      <td>3613/(Aorto)coronary bypass of three coronary ...</td>\n",
       "      <td>3613</td>\n",
       "      <td>9.0</td>\n",
       "      <td>2127-08-04 15:05:00</td>\n",
       "      <td>117.2</td>\n",
       "      <td>CABG</td>\n",
       "    </tr>\n",
       "    <tr>\n",
       "      <th>3232</th>\n",
       "      <td>17879591.0</td>\n",
       "      <td>29871031</td>\n",
       "      <td>36704045.0</td>\n",
       "      <td>transfer</td>\n",
       "      <td>Cardiac Vascular Intensive Care Unit (CVICU)</td>\n",
       "      <td>2000-01-08 20:32:30</td>\n",
       "      <td>2000-01-10 08:15:31</td>\n",
       "      <td>Cardiac Vascular Intensive Care Unit (CVICU)</td>\n",
       "      <td>NaN</td>\n",
       "      <td>NaN</td>\n",
       "      <td>2127-08-04 15:05:00</td>\n",
       "      <td>117.0</td>\n",
       "      <td>ICU</td>\n",
       "    </tr>\n",
       "    <tr>\n",
       "      <th>3233</th>\n",
       "      <td>17879591.0</td>\n",
       "      <td>29871031</td>\n",
       "      <td>36058864.0</td>\n",
       "      <td>transfer</td>\n",
       "      <td>Cardiac Surgery</td>\n",
       "      <td>2000-01-10 08:15:31</td>\n",
       "      <td>2000-01-13 03:51:34</td>\n",
       "      <td>Cardiac Surgery</td>\n",
       "      <td>NaN</td>\n",
       "      <td>NaN</td>\n",
       "      <td>2127-08-04 15:05:00</td>\n",
       "      <td>117.0</td>\n",
       "      <td>Surgery</td>\n",
       "    </tr>\n",
       "  </tbody>\n",
       "</table>\n",
       "<p>1067 rows × 13 columns</p>\n",
       "</div>"
      ],
      "text/plain": [
       "       subject_id   hadm_id  transfer_id eventtype  \\\n",
       "18103         NaN  20167242          NaN       NaN   \n",
       "18101         NaN  20167242          NaN       NaN   \n",
       "18102         NaN  20167242          NaN       NaN   \n",
       "18099  18871076.0  20167242   30417835.0     admit   \n",
       "18104         NaN  20167242          NaN       NaN   \n",
       "...           ...       ...          ...       ...   \n",
       "3230   17879591.0  29871031   32124959.0  transfer   \n",
       "3231   17879591.0  29871031   34465756.0  transfer   \n",
       "3234          NaN  29871031          NaN       NaN   \n",
       "3232   17879591.0  29871031   36704045.0  transfer   \n",
       "3233   17879591.0  29871031   36058864.0  transfer   \n",
       "\n",
       "                                              label              intime  \\\n",
       "18103                                            MI 1999-12-29 01:55:19   \n",
       "18101                                          CABG 2000-01-02 01:44:19   \n",
       "18102                                          CABG 2000-01-02 01:44:19   \n",
       "18099  Cardiac Vascular Intensive Care Unit (CVICU) 2000-01-02 01:57:44   \n",
       "18104                               Cath Lab (Sent) 2000-01-02 12:37:19   \n",
       "...                                             ...                 ...   \n",
       "3230                            Medicine/Cardiology 2000-01-03 01:19:07   \n",
       "3231                            Medicine/Cardiology 2000-01-05 21:58:58   \n",
       "3234                                           CABG 2000-01-08 10:50:19   \n",
       "3232   Cardiac Vascular Intensive Care Unit (CVICU) 2000-01-08 20:32:30   \n",
       "3233                                Cardiac Surgery 2000-01-10 08:15:31   \n",
       "\n",
       "                  outtime                                             detail  \\\n",
       "18103 1999-12-30 01:55:19  I214   /Non-ST elevation (NSTEMI) myocardial i...   \n",
       "18101 2000-01-03 01:44:19  02100Z9/Bypass Coronary Artery, One Artery fro...   \n",
       "18102 2000-01-03 01:44:19  02120KW/Bypass Coronary Artery, Three Arteries...   \n",
       "18099 2000-01-05 00:08:59       Cardiac Vascular Intensive Care Unit (CVICU)   \n",
       "18104 2000-01-03 12:38:19                                    Cath Lab (Sent)   \n",
       "...                   ...                                                ...   \n",
       "3230  2000-01-05 21:58:58                                Medicine/Cardiology   \n",
       "3231  2000-01-08 20:32:30                                Medicine/Cardiology   \n",
       "3234  2000-01-09 10:50:19  3613/(Aorto)coronary bypass of three coronary ...   \n",
       "3232  2000-01-10 08:15:31       Cardiac Vascular Intensive Care Unit (CVICU)   \n",
       "3233  2000-01-13 03:51:34                                    Cardiac Surgery   \n",
       "\n",
       "      icd_code  icd_version           admittime     id        color  \n",
       "18103      NaN          NaN 2144-10-27 00:11:00    1.0           MI  \n",
       "18101  02100Z9         10.0 2144-10-27 00:11:00    1.2         CABG  \n",
       "18102  02120KW         10.0 2144-10-27 00:11:00    1.2         CABG  \n",
       "18099      NaN          NaN 2144-10-27 00:11:00    1.0          ICU  \n",
       "18104      NaN          NaN 2144-10-27 00:11:00    1.2      Outcome  \n",
       "...        ...          ...                 ...    ...          ...  \n",
       "3230       NaN          NaN 2127-08-04 15:05:00  117.0  Other units  \n",
       "3231       NaN          NaN 2127-08-04 15:05:00  117.0  Other units  \n",
       "3234      3613          9.0 2127-08-04 15:05:00  117.2         CABG  \n",
       "3232       NaN          NaN 2127-08-04 15:05:00  117.0          ICU  \n",
       "3233       NaN          NaN 2127-08-04 15:05:00  117.0      Surgery  \n",
       "\n",
       "[1067 rows x 13 columns]"
      ]
     },
     "execution_count": 354,
     "metadata": {},
     "output_type": "execute_result"
    }
   ],
   "source": [
    "# define colors\n",
    "df2_concat['color'] = 'Other units'\n",
    "\n",
    "q = df2_concat['label'].str.contains('ICU').fillna(False)\n",
    "df2_concat.loc[q,'color']='ICU'\n",
    "\n",
    "q = df2_concat['label'].str.contains('CCU').fillna(False)\n",
    "df2_concat.loc[q,'color']='ICU'\n",
    "\n",
    "q = df2_concat['label'].str.contains('Surgery').fillna(False)\n",
    "df2_concat.loc[q,'color']='Surgery'\n",
    "\n",
    "q = df2_concat['label'].isin(['CABG']).fillna(False)\n",
    "df2_concat.loc[q,'color']='CABG'\n",
    "\n",
    "q = df2_concat['label'].str.contains('Cath').fillna(False)\n",
    "df2_concat.loc[q,'color']='Outcome'\n",
    "\n",
    "q = df2_concat['label'].isin(['MI']).fillna(False)\n",
    "df2_concat.loc[q,'color']='MI'\n",
    "\n",
    "df2_concat"
   ]
  },
  {
   "cell_type": "code",
   "execution_count": 355,
   "metadata": {},
   "outputs": [
    {
     "data": {
      "application/vnd.plotly.v1+json": {
       "config": {
        "plotlyServerURL": "https://plot.ly"
       },
       "data": [
        {
         "alignmentgroup": "True",
         "base": [
          "1999-12-29T01:55:19",
          "1999-12-29T01:55:19",
          "1999-12-29T01:55:19",
          "1999-12-29T01:55:19",
          "1999-12-29T01:55:19",
          "1999-12-29T01:55:19",
          "1999-12-29T01:55:19",
          "1999-12-29T01:55:19",
          "1999-12-29T01:55:19",
          "1999-12-29T01:55:19",
          "1999-12-29T01:55:19",
          "1999-12-29T01:55:19",
          "1999-12-29T01:55:19",
          "1999-12-29T01:55:19",
          "1999-12-29T01:55:19",
          "1999-12-29T01:55:19",
          "1999-12-29T01:55:19",
          "1999-12-29T01:55:19",
          "1999-12-29T01:55:19",
          "1999-12-29T01:55:19",
          "1999-12-29T01:55:19",
          "1999-12-29T01:55:19",
          "1999-12-29T01:55:19",
          "1999-12-29T01:55:19",
          "1999-12-29T01:55:19",
          "1999-12-29T01:55:19",
          "1999-12-29T01:55:19",
          "1999-12-29T01:55:19",
          "1999-12-29T01:55:19",
          "1999-12-29T01:55:19",
          "1999-12-29T01:55:19",
          "1999-12-29T01:55:19",
          "1999-12-29T01:55:19",
          "1999-12-29T01:55:19",
          "1999-12-29T01:55:19",
          "1999-12-29T01:55:19",
          "1999-12-29T01:55:19",
          "1999-12-29T01:55:19",
          "1999-12-29T01:55:19",
          "1999-12-29T01:55:19",
          "1999-12-29T01:55:19",
          "1999-12-29T01:55:19",
          "1999-12-29T01:55:19",
          "1999-12-29T01:55:19",
          "1999-12-29T01:55:19",
          "1999-12-29T01:55:19",
          "1999-12-29T01:55:19",
          "1999-12-29T01:55:19",
          "1999-12-29T01:55:19",
          "1999-12-29T01:55:19",
          "1999-12-29T01:55:19",
          "1999-12-29T01:55:19",
          "1999-12-29T01:55:19",
          "1999-12-29T01:55:19",
          "1999-12-29T01:55:19",
          "1999-12-29T01:55:19",
          "1999-12-29T01:55:19",
          "1999-12-29T01:55:19",
          "1999-12-29T01:55:19",
          "1999-12-29T01:55:19",
          "1999-12-29T01:55:19",
          "1999-12-29T01:55:19",
          "1999-12-29T01:55:19",
          "1999-12-29T01:55:19",
          "1999-12-29T01:55:19",
          "1999-12-29T01:55:19",
          "1999-12-29T01:55:19",
          "1999-12-29T01:55:19"
         ],
         "customdata": [
          [
           20167242,
           "I214   /Non-ST elevation (NSTEMI) myocardial infarction"
          ],
          [
           20367176,
           "I214   /Non-ST elevation (NSTEMI) myocardial infarction"
          ],
          [
           20413622,
           "I214   /Non-ST elevation (NSTEMI) myocardial infarction"
          ],
          [
           20428190,
           "I214   /Non-ST elevation (NSTEMI) myocardial infarction"
          ],
          [
           20846035,
           "I214   /Non-ST elevation (NSTEMI) myocardial infarction"
          ],
          [
           20846035,
           "I213   /ST elevation (STEMI) myocardial infarction of unspecified site"
          ],
          [
           20846035,
           "I229   /Subsequent ST elevation (STEMI) myocardial infarction of unspecified site"
          ],
          [
           20882340,
           "I214   /Non-ST elevation (NSTEMI) myocardial infarction"
          ],
          [
           20899737,
           "I21A1  /Myocardial infarction type 2"
          ],
          [
           21086123,
           "I252   /Old myocardial infarction"
          ],
          [
           21086123,
           "I214   /Non-ST elevation (NSTEMI) myocardial infarction"
          ],
          [
           21224034,
           "I214   /Non-ST elevation (NSTEMI) myocardial infarction"
          ],
          [
           21491433,
           "412    /Old myocardial infarction"
          ],
          [
           21495589,
           "I214   /Non-ST elevation (NSTEMI) myocardial infarction"
          ],
          [
           21523552,
           "412    /Old myocardial infarction"
          ],
          [
           21618127,
           "I214   /Non-ST elevation (NSTEMI) myocardial infarction"
          ],
          [
           21618127,
           "I220   /Subsequent ST elevation (STEMI) myocardial infarction of anterior wall"
          ],
          [
           22179911,
           "412    /Old myocardial infarction"
          ],
          [
           22371163,
           "41091  /Acute myocardial infarction of unspecified site, initial episode of care"
          ],
          [
           22440108,
           "I252   /Old myocardial infarction"
          ],
          [
           22440108,
           "I214   /Non-ST elevation (NSTEMI) myocardial infarction"
          ],
          [
           22848187,
           "41011  /Acute myocardial infarction of other anterior wall, initial episode of care"
          ],
          [
           23150740,
           "I2119  /ST elevation (STEMI) myocardial infarction involving other coronary artery of inferior wall"
          ],
          [
           23346584,
           "41011  /Acute myocardial infarction of other anterior wall, initial episode of care"
          ],
          [
           23471589,
           "412    /Old myocardial infarction"
          ],
          [
           23526876,
           "I214   /Non-ST elevation (NSTEMI) myocardial infarction"
          ],
          [
           23671820,
           "I21A1  /Myocardial infarction type 2"
          ],
          [
           24103406,
           "41041  /Acute myocardial infarction of other inferior wall, initial episode of care"
          ],
          [
           24487999,
           "I2119  /ST elevation (STEMI) myocardial infarction involving other coronary artery of inferior wall"
          ],
          [
           24487999,
           "I232   /Ventricular septal defect as current complication following acute myocardial infarction"
          ],
          [
           24571829,
           "I252   /Old myocardial infarction"
          ],
          [
           24571829,
           "I213   /ST elevation (STEMI) myocardial infarction of unspecified site"
          ],
          [
           24726754,
           "412    /Old myocardial infarction"
          ],
          [
           24988265,
           "I252   /Old myocardial infarction"
          ],
          [
           24988265,
           "I2119  /ST elevation (STEMI) myocardial infarction involving other coronary artery of inferior wall"
          ],
          [
           25100189,
           "I252   /Old myocardial infarction"
          ],
          [
           25100189,
           "I214   /Non-ST elevation (NSTEMI) myocardial infarction"
          ],
          [
           25849202,
           "412    /Old myocardial infarction"
          ],
          [
           26280197,
           "I213   /ST elevation (STEMI) myocardial infarction of unspecified site"
          ],
          [
           26460068,
           "I2119  /ST elevation (STEMI) myocardial infarction involving other coronary artery of inferior wall"
          ],
          [
           26460068,
           "I222   /Subsequent non-ST elevation (NSTEMI) myocardial infarction"
          ],
          [
           26650166,
           "I214   /Non-ST elevation (NSTEMI) myocardial infarction"
          ],
          [
           26877857,
           "I2102  /ST elevation (STEMI) myocardial infarction involving left anterior descending coronary artery"
          ],
          [
           26945910,
           "41041  /Acute myocardial infarction of other inferior wall, initial episode of care"
          ],
          [
           27229141,
           "41001  /Acute myocardial infarction of anterolateral wall, initial episode of care"
          ],
          [
           27295973,
           "I214   /Non-ST elevation (NSTEMI) myocardial infarction"
          ],
          [
           27409048,
           "41012  /Acute myocardial infarction of other anterior wall, subsequent episode of care"
          ],
          [
           27497725,
           "I252   /Old myocardial infarction"
          ],
          [
           27497725,
           "I214   /Non-ST elevation (NSTEMI) myocardial infarction"
          ],
          [
           27532830,
           "I2119  /ST elevation (STEMI) myocardial infarction involving other coronary artery of inferior wall"
          ],
          [
           27535812,
           "I214   /Non-ST elevation (NSTEMI) myocardial infarction"
          ],
          [
           27568834,
           "I214   /Non-ST elevation (NSTEMI) myocardial infarction"
          ],
          [
           27628219,
           "I214   /Non-ST elevation (NSTEMI) myocardial infarction"
          ],
          [
           27732259,
           "I252   /Old myocardial infarction"
          ],
          [
           28062533,
           "I252   /Old myocardial infarction"
          ],
          [
           28062533,
           "I214   /Non-ST elevation (NSTEMI) myocardial infarction"
          ],
          [
           28481207,
           "I252   /Old myocardial infarction"
          ],
          [
           28481207,
           "I214   /Non-ST elevation (NSTEMI) myocardial infarction"
          ],
          [
           28481207,
           "I220   /Subsequent ST elevation (STEMI) myocardial infarction of anterior wall"
          ],
          [
           28591150,
           "41011  /Acute myocardial infarction of other anterior wall, initial episode of care"
          ],
          [
           28948855,
           "I21A1  /Myocardial infarction type 2"
          ],
          [
           29088350,
           "I214   /Non-ST elevation (NSTEMI) myocardial infarction"
          ],
          [
           29137213,
           "412    /Old myocardial infarction"
          ],
          [
           29487787,
           "412    /Old myocardial infarction"
          ],
          [
           29569727,
           "I2119  /ST elevation (STEMI) myocardial infarction involving other coronary artery of inferior wall"
          ],
          [
           29774156,
           "I213   /ST elevation (STEMI) myocardial infarction of unspecified site"
          ],
          [
           29815513,
           "I214   /Non-ST elevation (NSTEMI) myocardial infarction"
          ],
          [
           29871031,
           "412    /Old myocardial infarction"
          ]
         ],
         "hovertemplate": "color=MI<br>intime=%{base}<br>outtime=%{x}<br>id=%{y}<br>hadm_id=%{customdata[0]}<br>detail=%{customdata[1]}<extra></extra>",
         "legendgroup": "MI",
         "marker": {
          "color": "#636efa"
         },
         "name": "MI",
         "offsetgroup": "MI",
         "orientation": "h",
         "showlegend": true,
         "textposition": "auto",
         "type": "bar",
         "width": 0.2,
         "x": [
          86400000,
          86400000,
          86400000,
          86400000,
          86400000,
          86400000,
          86400000,
          86400000,
          86400000,
          86400000,
          86400000,
          86400000,
          86400000,
          86400000,
          86400000,
          86400000,
          86400000,
          86400000,
          86400000,
          86400000,
          86400000,
          86400000,
          86400000,
          86400000,
          86400000,
          86400000,
          86400000,
          86400000,
          86400000,
          86400000,
          86400000,
          86400000,
          86400000,
          86400000,
          86400000,
          86400000,
          86400000,
          86400000,
          86400000,
          86400000,
          86400000,
          86400000,
          86400000,
          86400000,
          86400000,
          86400000,
          86400000,
          86400000,
          86400000,
          86400000,
          86400000,
          86400000,
          86400000,
          86400000,
          86400000,
          86400000,
          86400000,
          86400000,
          86400000,
          86400000,
          86400000,
          86400000,
          86400000,
          86400000,
          86400000,
          86400000,
          86400000,
          86400000
         ],
         "xaxis": "x",
         "y": [
          1,
          2,
          3,
          4,
          8,
          8,
          8,
          9,
          10,
          12,
          12,
          13,
          15,
          16,
          17,
          19,
          19,
          24,
          25,
          27,
          27,
          31,
          33,
          35,
          36,
          38,
          41,
          45,
          47,
          47,
          49,
          49,
          51,
          55,
          55,
          57,
          57,
          65,
          67,
          70,
          70,
          72,
          75,
          76,
          78,
          80,
          82,
          83,
          83,
          85,
          86,
          87,
          88,
          89,
          94,
          94,
          97,
          97,
          97,
          101,
          106,
          108,
          109,
          112,
          113,
          115,
          116,
          117
         ],
         "yaxis": "y"
        },
        {
         "alignmentgroup": "True",
         "base": [
          "2000-01-02T01:44:19",
          "2000-01-02T01:44:19",
          "2000-01-01T21:21:19",
          "2000-01-01T21:21:19",
          "2000-01-03T08:36:19",
          "2000-01-03T08:36:19",
          "2000-01-03T05:07:19",
          "2000-01-01T01:55:19",
          "2000-01-01T01:55:19",
          "2000-01-07T11:30:19",
          "2000-01-07T11:30:19",
          "1999-12-31T18:40:19",
          "1999-12-31T18:40:19",
          "2000-01-04T10:04:19",
          "2000-01-04T10:04:19",
          "2000-01-04T06:12:19",
          "2000-01-04T06:12:19",
          "2000-01-06T07:16:19",
          "2000-01-06T07:16:19",
          "2000-01-07T08:57:19",
          "2000-01-05T04:35:19",
          "2000-01-05T04:35:19",
          "1999-12-31T19:18:19",
          "2000-01-04T05:00:19",
          "2000-01-04T05:00:19",
          "2000-01-16T11:29:19",
          "2000-01-03T23:26:19",
          "2000-01-03T23:26:19",
          "2000-01-16T10:07:19",
          "2000-01-16T10:07:19",
          "1999-12-31T18:40:19",
          "1999-12-31T18:40:19",
          "2000-01-04T02:05:19",
          "2000-01-04T02:05:19",
          "2000-01-09T00:24:19",
          "2000-01-02T09:36:19",
          "2000-01-02T09:36:19",
          "2000-01-01T11:55:19",
          "2000-01-01T07:47:19",
          "2000-01-01T07:47:19",
          "2000-01-10T08:14:19",
          "2000-01-10T08:14:19",
          "2000-01-03T08:39:19",
          "2000-01-03T08:39:19",
          "2000-01-08T00:01:19",
          "2000-01-08T00:01:19",
          "2000-01-02T06:31:19",
          "2000-01-02T06:31:19",
          "2000-01-01T11:55:19",
          "2000-01-01T11:55:19",
          "2000-01-05T21:21:19",
          "2000-01-05T21:21:19",
          "2000-01-03T04:00:19",
          "2000-01-03T04:00:19",
          "2000-01-03T00:56:19",
          "2000-01-07T11:42:19",
          "2000-01-07T11:42:19",
          "2000-01-01T04:56:19",
          "2000-01-05T07:18:19",
          "2000-01-05T07:18:19",
          "1999-12-31T12:37:19",
          "1999-12-31T12:37:19",
          "2000-01-01T09:16:19",
          "2000-01-01T09:16:19",
          "2000-01-01T13:43:19",
          "2000-01-01T08:58:19",
          "2000-01-01T08:58:19",
          "2000-01-05T05:29:19",
          "2000-01-05T05:29:19",
          "2000-01-03T01:06:19",
          "2000-01-03T01:06:19",
          "2000-01-03T02:35:19",
          "2000-01-03T02:35:19",
          "2000-01-04T00:22:19",
          "2000-01-04T00:22:19",
          "2000-01-11T14:09:19",
          "2000-01-11T14:09:19",
          "2000-01-04T11:55:19",
          "2000-01-04T11:55:19",
          "2000-01-02T05:12:19",
          "2000-01-02T05:12:19",
          "2000-01-02T09:14:19",
          "2000-01-02T09:14:19",
          "2000-01-02T05:28:19",
          "2000-01-02T05:28:19",
          "2000-01-01T15:32:19",
          "2000-01-01T15:32:19",
          "2000-01-02T05:06:19",
          "2000-01-02T05:06:19",
          "2000-01-05T10:40:19",
          "2000-01-05T10:40:19",
          "2000-01-01T06:43:19",
          "2000-01-01T06:43:19",
          "2000-01-05T03:33:19",
          "2000-01-05T03:33:19",
          "2000-01-11T04:18:19",
          "2000-01-11T04:18:19",
          "2000-01-01T15:55:19",
          "2000-01-01T15:55:19",
          "2000-01-07T06:36:19",
          "2000-01-07T06:36:19",
          "2000-01-05T05:04:19",
          "2000-01-15T00:15:19",
          "2000-01-15T00:15:19",
          "2000-01-01T11:55:19",
          "2000-01-01T11:55:19",
          "2000-01-01T11:55:19",
          "2000-01-01T11:55:19",
          "2000-01-13T14:55:19",
          "2000-01-13T14:55:19",
          "2000-01-02T00:50:19",
          "2000-01-02T00:50:19",
          "2000-01-04T02:57:19",
          "2000-01-04T02:57:19",
          "2000-01-03T11:10:19",
          "2000-01-03T11:10:19",
          "2000-01-03T01:42:19",
          "2000-01-03T01:42:19",
          "2000-01-06T17:21:19",
          "2000-01-06T17:21:19",
          "2000-01-04T05:27:19",
          "2000-01-04T05:27:19",
          "2000-01-01T05:06:19",
          "2000-01-01T05:06:19",
          "2000-01-05T07:09:19",
          "2000-01-05T07:09:19",
          "2000-01-03T08:34:19",
          "2000-01-03T08:34:19",
          "2000-01-01T03:22:19",
          "2000-01-01T03:22:19",
          "2000-01-10T18:40:19",
          "2000-01-10T18:40:19",
          "2000-01-07T08:49:19",
          "2000-01-07T08:49:19",
          "2000-01-10T07:13:19",
          "2000-01-10T07:13:19",
          "2000-01-07T21:04:19",
          "2000-01-07T21:04:19",
          "1999-12-31T22:28:19",
          "1999-12-31T22:28:19",
          "2000-01-03T00:32:19",
          "2000-01-03T00:32:19",
          "2000-01-13T04:49:19",
          "2000-01-05T00:17:19",
          "2000-01-05T00:17:19",
          "2000-01-13T03:20:19",
          "2000-01-13T03:20:19",
          "2000-01-07T09:50:19",
          "2000-01-07T09:50:19",
          "2000-01-19T06:06:19",
          "2000-01-21T15:09:19",
          "2000-01-04T10:12:19",
          "2000-01-04T10:12:19",
          "2000-01-04T04:53:19",
          "2000-01-04T04:53:19",
          "2000-01-08T10:50:19",
          "2000-01-08T10:50:19",
          "2000-01-06T10:10:19",
          "2000-01-06T10:10:19",
          "2000-01-11T21:51:19",
          "2000-01-09T04:37:19",
          "2000-01-09T04:37:19",
          "2000-01-01T01:55:19",
          "2000-01-01T08:40:19",
          "2000-01-01T08:40:19",
          "1999-12-31T14:40:19",
          "1999-12-31T14:40:19",
          "2000-01-02T03:25:19",
          "2000-01-02T03:25:19",
          "2000-01-05T11:44:19",
          "2000-01-05T11:44:19",
          "2000-01-04T02:08:19",
          "2000-01-04T02:08:19",
          "2000-01-07T06:14:19",
          "2000-01-07T06:14:19",
          "2000-01-07T09:56:19",
          "2000-01-06T08:38:19",
          "2000-01-06T08:38:19",
          "2000-01-01T05:21:19",
          "2000-01-01T05:21:19",
          "2000-01-01T09:36:19",
          "2000-01-01T09:36:19",
          "2000-01-10T11:27:19",
          "2000-01-02T10:40:19",
          "2000-01-02T10:40:19",
          "1999-12-31T14:53:19",
          "2000-01-05T02:49:19",
          "2000-01-04T08:04:19",
          "2000-01-04T08:04:19",
          "2000-01-08T09:13:19",
          "2000-01-08T09:13:19",
          "2000-01-09T01:55:19",
          "2000-01-09T01:55:19",
          "2000-01-06T07:34:19",
          "2000-01-06T07:34:19",
          "2000-01-02T06:07:19",
          "2000-01-09T03:44:19",
          "2000-01-09T03:44:19",
          "2000-01-01T13:38:19",
          "2000-01-01T13:38:19",
          "2000-01-01T01:55:19",
          "2000-01-01T01:55:19",
          "2000-01-07T07:13:19",
          "2000-01-07T07:13:19",
          "2000-01-05T04:25:19",
          "2000-01-01T10:24:19",
          "2000-01-01T10:24:19",
          "2000-01-19T11:37:19",
          "2000-01-19T11:37:19",
          "2000-01-04T11:49:19",
          "2000-01-04T11:49:19",
          "2000-01-08T10:50:19"
         ],
         "customdata": [
          [
           20167242,
           "02100Z9/Bypass Coronary Artery, One Artery from Left Internal Mammary, Open Approach"
          ],
          [
           20167242,
           "02120KW/Bypass Coronary Artery, Three Arteries from Aorta with Nonautologous Tissue Substitute, Open Approach"
          ],
          [
           20367176,
           "02100Z8/Bypass Coronary Artery, One Artery from Right Internal Mammary, Open Approach"
          ],
          [
           20367176,
           "02100AW/Bypass Coronary Artery, One Artery from Aorta with Autologous Arterial Tissue, Open Approach"
          ],
          [
           20413622,
           "02100Z9/Bypass Coronary Artery, One Artery from Left Internal Mammary, Open Approach"
          ],
          [
           20413622,
           "021309W/Bypass Coronary Artery, Four or More Arteries from Aorta with Autologous Venous Tissue, Open Approach"
          ],
          [
           20428190,
           "02100Z9/Bypass Coronary Artery, One Artery from Left Internal Mammary, Open Approach"
          ],
          [
           20504840,
           "02100Z9/Bypass Coronary Artery, One Artery from Left Internal Mammary, Open Approach"
          ],
          [
           20504840,
           "021109W/Bypass Coronary Artery, Two Arteries from Aorta with Autologous Venous Tissue, Open Approach"
          ],
          [
           20796166,
           "3615/Single internal mammary-coronary artery bypass"
          ],
          [
           20796166,
           "3611/(Aorto)coronary bypass of one coronary artery"
          ],
          [
           20821670,
           "3615/Single internal mammary-coronary artery bypass"
          ],
          [
           20821670,
           "3612/(Aorto)coronary bypass of two coronary arteries"
          ],
          [
           20846035,
           "02100Z9/Bypass Coronary Artery, One Artery from Left Internal Mammary, Open Approach"
          ],
          [
           20846035,
           "021009W/Bypass Coronary Artery, One Artery from Aorta with Autologous Venous Tissue, Open Approach"
          ],
          [
           20882340,
           "02100Z9/Bypass Coronary Artery, One Artery from Left Internal Mammary, Open Approach"
          ],
          [
           20882340,
           "02100AW/Bypass Coronary Artery, One Artery from Aorta with Autologous Arterial Tissue, Open Approach"
          ],
          [
           20899737,
           "02100Z9/Bypass Coronary Artery, One Artery from Left Internal Mammary, Open Approach"
          ],
          [
           20899737,
           "021109W/Bypass Coronary Artery, Two Arteries from Aorta with Autologous Venous Tissue, Open Approach"
          ],
          [
           20908820,
           "3611/(Aorto)coronary bypass of one coronary artery"
          ],
          [
           21086123,
           "02100Z9/Bypass Coronary Artery, One Artery from Left Internal Mammary, Open Approach"
          ],
          [
           21086123,
           "021109W/Bypass Coronary Artery, Two Arteries from Aorta with Autologous Venous Tissue, Open Approach"
          ],
          [
           21224034,
           "021209W/Bypass Coronary Artery, Three Arteries from Aorta with Autologous Venous Tissue, Open Approach"
          ],
          [
           21380778,
           "3615/Single internal mammary-coronary artery bypass"
          ],
          [
           21380778,
           "3613/(Aorto)coronary bypass of three coronary arteries"
          ],
          [
           21491433,
           "3611/(Aorto)coronary bypass of one coronary artery"
          ],
          [
           21495589,
           "02100Z9/Bypass Coronary Artery, One Artery from Left Internal Mammary, Open Approach"
          ],
          [
           21495589,
           "021009W/Bypass Coronary Artery, One Artery from Aorta with Autologous Venous Tissue, Open Approach"
          ],
          [
           21523552,
           "3615/Single internal mammary-coronary artery bypass"
          ],
          [
           21523552,
           "3614/(Aorto)coronary bypass of four or more coronary arteries"
          ],
          [
           21582058,
           "3615/Single internal mammary-coronary artery bypass"
          ],
          [
           21582058,
           "3611/(Aorto)coronary bypass of one coronary artery"
          ],
          [
           21618127,
           "02100Z9/Bypass Coronary Artery, One Artery from Left Internal Mammary, Open Approach"
          ],
          [
           21618127,
           "021109W/Bypass Coronary Artery, Two Arteries from Aorta with Autologous Venous Tissue, Open Approach"
          ],
          [
           21794037,
           "021009W/Bypass Coronary Artery, One Artery from Aorta with Autologous Venous Tissue, Open Approach"
          ],
          [
           21858758,
           "02100Z9/Bypass Coronary Artery, One Artery from Left Internal Mammary, Open Approach"
          ],
          [
           21858758,
           "021009W/Bypass Coronary Artery, One Artery from Aorta with Autologous Venous Tissue, Open Approach"
          ],
          [
           21891458,
           "3615/Single internal mammary-coronary artery bypass"
          ],
          [
           22038227,
           "3615/Single internal mammary-coronary artery bypass"
          ],
          [
           22038227,
           "3614/(Aorto)coronary bypass of four or more coronary arteries"
          ],
          [
           22179911,
           "3615/Single internal mammary-coronary artery bypass"
          ],
          [
           22179911,
           "3613/(Aorto)coronary bypass of three coronary arteries"
          ],
          [
           22371163,
           "3615/Single internal mammary-coronary artery bypass"
          ],
          [
           22371163,
           "3612/(Aorto)coronary bypass of two coronary arteries"
          ],
          [
           22425734,
           "3615/Single internal mammary-coronary artery bypass"
          ],
          [
           22425734,
           "3613/(Aorto)coronary bypass of three coronary arteries"
          ],
          [
           22440108,
           "02100Z9/Bypass Coronary Artery, One Artery from Left Internal Mammary, Open Approach"
          ],
          [
           22440108,
           "021209W/Bypass Coronary Artery, Three Arteries from Aorta with Autologous Venous Tissue, Open Approach"
          ],
          [
           22533821,
           "3615/Single internal mammary-coronary artery bypass"
          ],
          [
           22533821,
           "3612/(Aorto)coronary bypass of two coronary arteries"
          ],
          [
           22581024,
           "3615/Single internal mammary-coronary artery bypass"
          ],
          [
           22581024,
           "3613/(Aorto)coronary bypass of three coronary arteries"
          ],
          [
           22798677,
           "02100Z9/Bypass Coronary Artery, One Artery from Left Internal Mammary, Open Approach"
          ],
          [
           22798677,
           "021209W/Bypass Coronary Artery, Three Arteries from Aorta with Autologous Venous Tissue, Open Approach"
          ],
          [
           22848187,
           "3612/(Aorto)coronary bypass of two coronary arteries"
          ],
          [
           22925444,
           "3615/Single internal mammary-coronary artery bypass"
          ],
          [
           22925444,
           "3613/(Aorto)coronary bypass of three coronary arteries"
          ],
          [
           23150740,
           "02100Z9/Bypass Coronary Artery, One Artery from Left Internal Mammary, Open Approach"
          ],
          [
           23254228,
           "3615/Single internal mammary-coronary artery bypass"
          ],
          [
           23254228,
           "3613/(Aorto)coronary bypass of three coronary arteries"
          ],
          [
           23346584,
           "3615/Single internal mammary-coronary artery bypass"
          ],
          [
           23346584,
           "3613/(Aorto)coronary bypass of three coronary arteries"
          ],
          [
           23471589,
           "3615/Single internal mammary-coronary artery bypass"
          ],
          [
           23471589,
           "3612/(Aorto)coronary bypass of two coronary arteries"
          ],
          [
           23492493,
           "02100Z9/Bypass Coronary Artery, One Artery from Left Internal Mammary, Open Approach"
          ],
          [
           23526876,
           "02100Z9/Bypass Coronary Artery, One Artery from Left Internal Mammary, Open Approach"
          ],
          [
           23526876,
           "021109W/Bypass Coronary Artery, Two Arteries from Aorta with Autologous Venous Tissue, Open Approach"
          ],
          [
           23531962,
           "3615/Single internal mammary-coronary artery bypass"
          ],
          [
           23531962,
           "3613/(Aorto)coronary bypass of three coronary arteries"
          ],
          [
           23613589,
           "02100Z9/Bypass Coronary Artery, One Artery from Left Internal Mammary, Open Approach"
          ],
          [
           23613589,
           "02110AW/Bypass Coronary Artery, Two Arteries from Aorta with Autologous Arterial Tissue, Open Approach"
          ],
          [
           23671820,
           "02100Z9/Bypass Coronary Artery, One Artery from Left Internal Mammary, Open Approach"
          ],
          [
           23671820,
           "021109W/Bypass Coronary Artery, Two Arteries from Aorta with Autologous Venous Tissue, Open Approach"
          ],
          [
           23891344,
           "3615/Single internal mammary-coronary artery bypass"
          ],
          [
           23891344,
           "3614/(Aorto)coronary bypass of four or more coronary arteries"
          ],
          [
           23921396,
           "3615/Single internal mammary-coronary artery bypass"
          ],
          [
           23921396,
           "3612/(Aorto)coronary bypass of two coronary arteries"
          ],
          [
           24078757,
           "3615/Single internal mammary-coronary artery bypass"
          ],
          [
           24078757,
           "3612/(Aorto)coronary bypass of two coronary arteries"
          ],
          [
           24103406,
           "3615/Single internal mammary-coronary artery bypass"
          ],
          [
           24103406,
           "3613/(Aorto)coronary bypass of three coronary arteries"
          ],
          [
           24407025,
           "3615/Single internal mammary-coronary artery bypass"
          ],
          [
           24407025,
           "3613/(Aorto)coronary bypass of three coronary arteries"
          ],
          [
           24487999,
           "02100Z9/Bypass Coronary Artery, One Artery from Left Internal Mammary, Open Approach"
          ],
          [
           24487999,
           "021009W/Bypass Coronary Artery, One Artery from Aorta with Autologous Venous Tissue, Open Approach"
          ],
          [
           24524153,
           "3615/Single internal mammary-coronary artery bypass"
          ],
          [
           24524153,
           "3613/(Aorto)coronary bypass of three coronary arteries"
          ],
          [
           24571829,
           "02100Z9/Bypass Coronary Artery, One Artery from Left Internal Mammary, Open Approach"
          ],
          [
           24571829,
           "021209W/Bypass Coronary Artery, Three Arteries from Aorta with Autologous Venous Tissue, Open Approach"
          ],
          [
           24582156,
           "3615/Single internal mammary-coronary artery bypass"
          ],
          [
           24582156,
           "3612/(Aorto)coronary bypass of two coronary arteries"
          ],
          [
           24726754,
           "3615/Single internal mammary-coronary artery bypass"
          ],
          [
           24726754,
           "3613/(Aorto)coronary bypass of three coronary arteries"
          ],
          [
           24857256,
           "3615/Single internal mammary-coronary artery bypass"
          ],
          [
           24857256,
           "3612/(Aorto)coronary bypass of two coronary arteries"
          ],
          [
           24878015,
           "3615/Single internal mammary-coronary artery bypass"
          ],
          [
           24878015,
           "3612/(Aorto)coronary bypass of two coronary arteries"
          ],
          [
           24987624,
           "02100Z9/Bypass Coronary Artery, One Artery from Left Internal Mammary, Open Approach"
          ],
          [
           24987624,
           "021009W/Bypass Coronary Artery, One Artery from Aorta with Autologous Venous Tissue, Open Approach"
          ],
          [
           24988265,
           "02100Z8/Bypass Coronary Artery, One Artery from Right Internal Mammary, Open Approach"
          ],
          [
           24988265,
           "02100AW/Bypass Coronary Artery, One Artery from Aorta with Autologous Arterial Tissue, Open Approach"
          ],
          [
           25022568,
           "3611/(Aorto)coronary bypass of one coronary artery"
          ],
          [
           25100189,
           "02100Z9/Bypass Coronary Artery, One Artery from Left Internal Mammary, Open Approach"
          ],
          [
           25100189,
           "021009W/Bypass Coronary Artery, One Artery from Aorta with Autologous Venous Tissue, Open Approach"
          ],
          [
           25190591,
           "3615/Single internal mammary-coronary artery bypass"
          ],
          [
           25190591,
           "3613/(Aorto)coronary bypass of three coronary arteries"
          ],
          [
           25238765,
           "02100Z9/Bypass Coronary Artery, One Artery from Left Internal Mammary, Open Approach"
          ],
          [
           25238765,
           "021209W/Bypass Coronary Artery, Three Arteries from Aorta with Autologous Venous Tissue, Open Approach"
          ],
          [
           25238943,
           "3615/Single internal mammary-coronary artery bypass"
          ],
          [
           25238943,
           "3613/(Aorto)coronary bypass of three coronary arteries"
          ],
          [
           25265986,
           "3615/Single internal mammary-coronary artery bypass"
          ],
          [
           25265986,
           "3612/(Aorto)coronary bypass of two coronary arteries"
          ],
          [
           25340799,
           "3615/Single internal mammary-coronary artery bypass"
          ],
          [
           25340799,
           "3612/(Aorto)coronary bypass of two coronary arteries"
          ],
          [
           25384000,
           "3615/Single internal mammary-coronary artery bypass"
          ],
          [
           25384000,
           "3612/(Aorto)coronary bypass of two coronary arteries"
          ],
          [
           25630745,
           "3615/Single internal mammary-coronary artery bypass"
          ],
          [
           25630745,
           "3611/(Aorto)coronary bypass of one coronary artery"
          ],
          [
           25849202,
           "3615/Single internal mammary-coronary artery bypass"
          ],
          [
           25849202,
           "3613/(Aorto)coronary bypass of three coronary arteries"
          ],
          [
           25919278,
           "3615/Single internal mammary-coronary artery bypass"
          ],
          [
           25919278,
           "3612/(Aorto)coronary bypass of two coronary arteries"
          ],
          [
           26280197,
           "02100Z9/Bypass Coronary Artery, One Artery from Left Internal Mammary, Open Approach"
          ],
          [
           26280197,
           "021009W/Bypass Coronary Artery, One Artery from Aorta with Autologous Venous Tissue, Open Approach"
          ],
          [
           26304404,
           "02100Z9/Bypass Coronary Artery, One Artery from Left Internal Mammary, Open Approach"
          ],
          [
           26304404,
           "021009W/Bypass Coronary Artery, One Artery from Aorta with Autologous Venous Tissue, Open Approach"
          ],
          [
           26344582,
           "3615/Single internal mammary-coronary artery bypass"
          ],
          [
           26344582,
           "3614/(Aorto)coronary bypass of four or more coronary arteries"
          ],
          [
           26460068,
           "02100Z9/Bypass Coronary Artery, One Artery from Left Internal Mammary, Open Approach"
          ],
          [
           26460068,
           "021109W/Bypass Coronary Artery, Two Arteries from Aorta with Autologous Venous Tissue, Open Approach"
          ],
          [
           26557141,
           "3615/Single internal mammary-coronary artery bypass"
          ],
          [
           26557141,
           "3614/(Aorto)coronary bypass of four or more coronary arteries"
          ],
          [
           26650166,
           "02100Z9/Bypass Coronary Artery, One Artery from Left Internal Mammary, Open Approach"
          ],
          [
           26650166,
           "02120AW/Bypass Coronary Artery, Three Arteries from Aorta with Autologous Arterial Tissue, Open Approach"
          ],
          [
           26785758,
           "3615/Single internal mammary-coronary artery bypass"
          ],
          [
           26785758,
           "3611/(Aorto)coronary bypass of one coronary artery"
          ],
          [
           26832373,
           "3615/Single internal mammary-coronary artery bypass"
          ],
          [
           26832373,
           "3613/(Aorto)coronary bypass of three coronary arteries"
          ],
          [
           26877857,
           "02100Z9/Bypass Coronary Artery, One Artery from Left Internal Mammary, Open Approach"
          ],
          [
           26877857,
           "021009W/Bypass Coronary Artery, One Artery from Aorta with Autologous Venous Tissue, Open Approach"
          ],
          [
           26945910,
           "3615/Single internal mammary-coronary artery bypass"
          ],
          [
           26945910,
           "3613/(Aorto)coronary bypass of three coronary arteries"
          ],
          [
           26947371,
           "3615/Single internal mammary-coronary artery bypass"
          ],
          [
           27229141,
           "3615/Single internal mammary-coronary artery bypass"
          ],
          [
           27229141,
           "3613/(Aorto)coronary bypass of three coronary arteries"
          ],
          [
           27245455,
           "3615/Single internal mammary-coronary artery bypass"
          ],
          [
           27245455,
           "3611/(Aorto)coronary bypass of one coronary artery"
          ],
          [
           27295973,
           "02100Z8/Bypass Coronary Artery, One Artery from Right Internal Mammary, Open Approach"
          ],
          [
           27295973,
           "02100AW/Bypass Coronary Artery, One Artery from Aorta with Autologous Arterial Tissue, Open Approach"
          ],
          [
           27356533,
           "02100Z9/Bypass Coronary Artery, One Artery from Left Internal Mammary, Open Approach"
          ],
          [
           27409048,
           "3611/(Aorto)coronary bypass of one coronary artery"
          ],
          [
           27497725,
           "02100Z9/Bypass Coronary Artery, One Artery from Left Internal Mammary, Open Approach"
          ],
          [
           27497725,
           "021209W/Bypass Coronary Artery, Three Arteries from Aorta with Autologous Venous Tissue, Open Approach"
          ],
          [
           27504332,
           "3615/Single internal mammary-coronary artery bypass"
          ],
          [
           27504332,
           "3613/(Aorto)coronary bypass of three coronary arteries"
          ],
          [
           27532830,
           "02100Z9/Bypass Coronary Artery, One Artery from Left Internal Mammary, Open Approach"
          ],
          [
           27532830,
           "021109W/Bypass Coronary Artery, Two Arteries from Aorta with Autologous Venous Tissue, Open Approach"
          ],
          [
           27535812,
           "02100Z9/Bypass Coronary Artery, One Artery from Left Internal Mammary, Open Approach"
          ],
          [
           27535812,
           "021109W/Bypass Coronary Artery, Two Arteries from Aorta with Autologous Venous Tissue, Open Approach"
          ],
          [
           27568834,
           "021109W/Bypass Coronary Artery, Two Arteries from Aorta with Autologous Venous Tissue, Open Approach"
          ],
          [
           27628219,
           "02100Z9/Bypass Coronary Artery, One Artery from Left Internal Mammary, Open Approach"
          ],
          [
           27628219,
           "021109W/Bypass Coronary Artery, Two Arteries from Aorta with Autologous Venous Tissue, Open Approach"
          ],
          [
           27732259,
           "021009W/Bypass Coronary Artery, One Artery from Aorta with Autologous Venous Tissue, Open Approach"
          ],
          [
           27735698,
           "3615/Single internal mammary-coronary artery bypass"
          ],
          [
           27735698,
           "3612/(Aorto)coronary bypass of two coronary arteries"
          ],
          [
           27810854,
           "3615/Single internal mammary-coronary artery bypass"
          ],
          [
           27810854,
           "3612/(Aorto)coronary bypass of two coronary arteries"
          ],
          [
           27814240,
           "02100Z9/Bypass Coronary Artery, One Artery from Left Internal Mammary, Open Approach"
          ],
          [
           27814240,
           "021109W/Bypass Coronary Artery, Two Arteries from Aorta with Autologous Venous Tissue, Open Approach"
          ],
          [
           27973178,
           "3615/Single internal mammary-coronary artery bypass"
          ],
          [
           27973178,
           "3614/(Aorto)coronary bypass of four or more coronary arteries"
          ],
          [
           28062533,
           "021109W/Bypass Coronary Artery, Two Arteries from Aorta with Autologous Venous Tissue, Open Approach"
          ],
          [
           28062533,
           "02100AW/Bypass Coronary Artery, One Artery from Aorta with Autologous Arterial Tissue, Open Approach"
          ],
          [
           28241689,
           "02100Z9/Bypass Coronary Artery, One Artery from Left Internal Mammary, Open Approach"
          ],
          [
           28241689,
           "021109W/Bypass Coronary Artery, Two Arteries from Aorta with Autologous Venous Tissue, Open Approach"
          ],
          [
           28290120,
           "3611/(Aorto)coronary bypass of one coronary artery"
          ],
          [
           28481207,
           "02100Z9/Bypass Coronary Artery, One Artery from Left Internal Mammary, Open Approach"
          ],
          [
           28481207,
           "021009W/Bypass Coronary Artery, One Artery from Aorta with Autologous Venous Tissue, Open Approach"
          ],
          [
           28522694,
           "02100Z8/Bypass Coronary Artery, One Artery from Right Internal Mammary, Open Approach"
          ],
          [
           28522694,
           "02100AW/Bypass Coronary Artery, One Artery from Aorta with Autologous Arterial Tissue, Open Approach"
          ],
          [
           28526823,
           "3615/Single internal mammary-coronary artery bypass"
          ],
          [
           28526823,
           "3612/(Aorto)coronary bypass of two coronary arteries"
          ],
          [
           28560179,
           "3611/(Aorto)coronary bypass of one coronary artery"
          ],
          [
           28591150,
           "3615/Single internal mammary-coronary artery bypass"
          ],
          [
           28591150,
           "3613/(Aorto)coronary bypass of three coronary arteries"
          ],
          [
           28764595,
           "021209W/Bypass Coronary Artery, Three Arteries from Aorta with Autologous Venous Tissue, Open Approach"
          ],
          [
           28852886,
           "3615/Single internal mammary-coronary artery bypass"
          ],
          [
           28878078,
           "3615/Single internal mammary-coronary artery bypass"
          ],
          [
           28878078,
           "3613/(Aorto)coronary bypass of three coronary arteries"
          ],
          [
           28889493,
           "3615/Single internal mammary-coronary artery bypass"
          ],
          [
           28889493,
           "3611/(Aorto)coronary bypass of one coronary artery"
          ],
          [
           28948855,
           "02100Z9/Bypass Coronary Artery, One Artery from Left Internal Mammary, Open Approach"
          ],
          [
           28948855,
           "021009W/Bypass Coronary Artery, One Artery from Aorta with Autologous Venous Tissue, Open Approach"
          ],
          [
           29034839,
           "3615/Single internal mammary-coronary artery bypass"
          ],
          [
           29034839,
           "3612/(Aorto)coronary bypass of two coronary arteries"
          ],
          [
           29088350,
           "021209W/Bypass Coronary Artery, Three Arteries from Aorta with Autologous Venous Tissue, Open Approach"
          ],
          [
           29137213,
           "3615/Single internal mammary-coronary artery bypass"
          ],
          [
           29137213,
           "3611/(Aorto)coronary bypass of one coronary artery"
          ],
          [
           29201840,
           "3615/Single internal mammary-coronary artery bypass"
          ],
          [
           29201840,
           "3612/(Aorto)coronary bypass of two coronary arteries"
          ],
          [
           29432257,
           "02100Z9/Bypass Coronary Artery, One Artery from Left Internal Mammary, Open Approach"
          ],
          [
           29432257,
           "021009W/Bypass Coronary Artery, One Artery from Aorta with Autologous Venous Tissue, Open Approach"
          ],
          [
           29487787,
           "3615/Single internal mammary-coronary artery bypass"
          ],
          [
           29487787,
           "3613/(Aorto)coronary bypass of three coronary arteries"
          ],
          [
           29569727,
           "02100Z9/Bypass Coronary Artery, One Artery from Left Internal Mammary, Open Approach"
          ],
          [
           29636680,
           "3615/Single internal mammary-coronary artery bypass"
          ],
          [
           29636680,
           "3611/(Aorto)coronary bypass of one coronary artery"
          ],
          [
           29774156,
           "02100Z9/Bypass Coronary Artery, One Artery from Left Internal Mammary, Open Approach"
          ],
          [
           29774156,
           "021209W/Bypass Coronary Artery, Three Arteries from Aorta with Autologous Venous Tissue, Open Approach"
          ],
          [
           29815513,
           "02100Z9/Bypass Coronary Artery, One Artery from Left Internal Mammary, Open Approach"
          ],
          [
           29815513,
           "021109W/Bypass Coronary Artery, Two Arteries from Aorta with Autologous Venous Tissue, Open Approach"
          ],
          [
           29871031,
           "3613/(Aorto)coronary bypass of three coronary arteries"
          ]
         ],
         "hovertemplate": "color=CABG<br>intime=%{base}<br>outtime=%{x}<br>id=%{y}<br>hadm_id=%{customdata[0]}<br>detail=%{customdata[1]}<extra></extra>",
         "legendgroup": "CABG",
         "marker": {
          "color": "#EF553B"
         },
         "name": "CABG",
         "offsetgroup": "CABG",
         "orientation": "h",
         "showlegend": true,
         "textposition": "auto",
         "type": "bar",
         "width": 0.2,
         "x": [
          86400000,
          86400000,
          86400000,
          86400000,
          86400000,
          86400000,
          86400000,
          86400000,
          86400000,
          86400000,
          86400000,
          86400000,
          86400000,
          86400000,
          86400000,
          86400000,
          86400000,
          86400000,
          86400000,
          86400000,
          86400000,
          86400000,
          86400000,
          86400000,
          86400000,
          86400000,
          86400000,
          86400000,
          86400000,
          86400000,
          86400000,
          86400000,
          86400000,
          86400000,
          86400000,
          86400000,
          86400000,
          86400000,
          86400000,
          86400000,
          86400000,
          86400000,
          86400000,
          86400000,
          86400000,
          86400000,
          86400000,
          86400000,
          86400000,
          86400000,
          86400000,
          86400000,
          86400000,
          86400000,
          86400000,
          86400000,
          86400000,
          86400000,
          86400000,
          86400000,
          86400000,
          86400000,
          86400000,
          86400000,
          86400000,
          86400000,
          86400000,
          86400000,
          86400000,
          86400000,
          86400000,
          86400000,
          86400000,
          86400000,
          86400000,
          86400000,
          86400000,
          86400000,
          86400000,
          86400000,
          86400000,
          86400000,
          86400000,
          86400000,
          86400000,
          86400000,
          86400000,
          86400000,
          86400000,
          86400000,
          86400000,
          86400000,
          86400000,
          86400000,
          86400000,
          86400000,
          86400000,
          86400000,
          86400000,
          86400000,
          86400000,
          86400000,
          86400000,
          86400000,
          86400000,
          86400000,
          86400000,
          86400000,
          86400000,
          86400000,
          86400000,
          86400000,
          86400000,
          86400000,
          86400000,
          86400000,
          86400000,
          86400000,
          86400000,
          86400000,
          86400000,
          86400000,
          86400000,
          86400000,
          86400000,
          86400000,
          86400000,
          86400000,
          86400000,
          86400000,
          86400000,
          86400000,
          86400000,
          86400000,
          86400000,
          86400000,
          86400000,
          86400000,
          86400000,
          86400000,
          86400000,
          86400000,
          86400000,
          86400000,
          86400000,
          86400000,
          86400000,
          86400000,
          86400000,
          86400000,
          86400000,
          86400000,
          86400000,
          86400000,
          86400000,
          86400000,
          86400000,
          86400000,
          86400000,
          86400000,
          86400000,
          86400000,
          86400000,
          86400000,
          86400000,
          86400000,
          86400000,
          86400000,
          86400000,
          86400000,
          86400000,
          86400000,
          86400000,
          86400000,
          86400000,
          86400000,
          86400000,
          86400000,
          86400000,
          86400000,
          86400000,
          86400000,
          86400000,
          86400000,
          86400000,
          86400000,
          86400000,
          86400000,
          86400000,
          86400000,
          86400000,
          86400000,
          86400000,
          86400000,
          86400000,
          86400000,
          86400000,
          86400000,
          86400000,
          86400000,
          86400000,
          86400000,
          86400000,
          86400000,
          86400000,
          86400000,
          86400000,
          86400000,
          86400000,
          86400000,
          86400000,
          86400000
         ],
         "xaxis": "x",
         "y": [
          1.2,
          1.2,
          2.2,
          2.2,
          3.2,
          3.2,
          4.2,
          5.2,
          5.2,
          6.2,
          6.2,
          7.2,
          7.2,
          8.2,
          8.2,
          9.2,
          9.2,
          10.2,
          10.2,
          11.2,
          12.2,
          12.2,
          13.2,
          14.2,
          14.2,
          15.2,
          16.2,
          16.2,
          17.2,
          17.2,
          18.2,
          18.2,
          19.2,
          19.2,
          20.2,
          21.2,
          21.2,
          22.2,
          23.2,
          23.2,
          24.2,
          24.2,
          25.2,
          25.2,
          26.2,
          26.2,
          27.2,
          27.2,
          28.2,
          28.2,
          29.2,
          29.2,
          30.2,
          30.2,
          31.2,
          32.2,
          32.2,
          33.2,
          34.2,
          34.2,
          35.2,
          35.2,
          36.2,
          36.2,
          37.2,
          38.2,
          38.2,
          39.2,
          39.2,
          40.2,
          40.2,
          41.2,
          41.2,
          42.2,
          42.2,
          43.2,
          43.2,
          44.2,
          44.2,
          45.2,
          45.2,
          46.2,
          46.2,
          47.2,
          47.2,
          48.2,
          48.2,
          49.2,
          49.2,
          50.2,
          50.2,
          51.2,
          51.2,
          52.2,
          52.2,
          53.2,
          53.2,
          54.2,
          54.2,
          55.2,
          55.2,
          56.2,
          57.2,
          57.2,
          58.2,
          58.2,
          59.2,
          59.2,
          60.2,
          60.2,
          61.2,
          61.2,
          62.2,
          62.2,
          63.2,
          63.2,
          64.2,
          64.2,
          65.2,
          65.2,
          66.2,
          66.2,
          67.2,
          67.2,
          68.2,
          68.2,
          69.2,
          69.2,
          70.2,
          70.2,
          71.2,
          71.2,
          72.2,
          72.2,
          73.2,
          73.2,
          74.2,
          74.2,
          75.2,
          75.2,
          76.2,
          76.2,
          77.2,
          78.2,
          78.2,
          79.2,
          79.2,
          80.2,
          80.2,
          81.2,
          82.2,
          83.2,
          83.2,
          84.2,
          84.2,
          85.2,
          85.2,
          86.2,
          86.2,
          87.2,
          88.2,
          88.2,
          89.2,
          90.2,
          90.2,
          91.2,
          91.2,
          92.2,
          92.2,
          93.2,
          93.2,
          94.2,
          94.2,
          95.2,
          95.2,
          96.2,
          97.2,
          97.2,
          98.2,
          98.2,
          99.2,
          99.2,
          100.2,
          101.2,
          101.2,
          102.2,
          103.2,
          104.2,
          104.2,
          105.2,
          105.2,
          106.2,
          106.2,
          107.2,
          107.2,
          108.2,
          109.2,
          109.2,
          110.2,
          110.2,
          111.2,
          111.2,
          112.2,
          112.2,
          113.2,
          114.2,
          114.2,
          115.2,
          115.2,
          116.2,
          116.2,
          117.2
         ],
         "yaxis": "y"
        },
        {
         "alignmentgroup": "True",
         "base": [
          "2000-01-02T01:57:44",
          "2000-01-01T02:32:19",
          "2000-01-01T15:36:43",
          "2000-01-02T06:23:00",
          "2000-01-03T17:52:16",
          "2000-01-12T13:26:04",
          "2000-01-12T13:54:52",
          "2000-01-03T14:03:16",
          "2000-01-03T20:09:51",
          "2000-01-03T22:24:42",
          "2000-01-07T22:49:36",
          "2000-01-01T12:51:32",
          "2000-01-04T03:23:37",
          "2000-01-07T18:56:02",
          "2000-01-01T08:55:37",
          "2000-01-02T03:25:39",
          "2000-01-04T17:18:16",
          "2000-01-04T20:55:54",
          "2000-01-01T01:56:39",
          "2000-01-06T18:20:17",
          "2000-01-01T02:47:19",
          "2000-01-07T20:03:07",
          "2000-01-08T00:55:05",
          "2000-01-01T03:43:19",
          "2000-01-01T19:30:44",
          "2000-01-05T19:01:20",
          "2000-01-09T15:09:21",
          "2000-01-01T03:50:19",
          "2000-01-01T13:46:48",
          "2000-01-01T18:41:20",
          "2000-01-01T03:26:19",
          "2000-01-04T14:38:44",
          "2000-01-05T22:28:08",
          "2000-01-07T03:52:33",
          "2000-01-08T16:47:28",
          "2000-01-14T01:56:21",
          "2000-01-16T20:42:05",
          "2000-01-16T20:42:26",
          "2000-01-23T05:01:27",
          "2000-01-23T05:01:56",
          "2000-01-23T21:15:55",
          "2000-01-26T02:14:45",
          "2000-01-04T11:09:59",
          "2000-01-13T13:50:57",
          "2000-01-13T16:11:16",
          "2000-01-01T01:56:28",
          "2000-01-17T07:17:03",
          "2000-01-01T03:18:09",
          "2000-01-13T12:45:36",
          "2000-01-21T11:56:26",
          "2000-01-01T01:57:46",
          "2000-01-04T17:20:46",
          "2000-01-04T20:47:28",
          "2000-01-07T19:24:52",
          "2000-01-01T02:50:19",
          "2000-01-09T08:01:10",
          "2000-01-01T01:56:50",
          "2000-01-01T22:31:28",
          "2000-01-01T02:44:37",
          "2000-01-01T03:08:14",
          "2000-01-02T02:29:41",
          "2000-01-01T01:57:13",
          "2000-01-10T17:09:41",
          "2000-01-03T10:10:13",
          "2000-01-03T15:33:45",
          "2000-01-03T19:18:09",
          "2000-01-03T19:21:15",
          "2000-01-03T21:25:33",
          "2000-01-01T01:56:15",
          "2000-01-01T21:56:27",
          "2000-01-08T10:44:59",
          "2000-01-01T02:52:19",
          "2000-01-01T05:15:47",
          "2000-01-02T19:17:36",
          "2000-01-05T12:48:21",
          "2000-01-01T22:20:20",
          "2000-01-01T02:04:57",
          "2000-01-06T10:19:46",
          "2000-01-08T11:52:39",
          "2000-01-08T11:52:57",
          "2000-01-08T12:57:32",
          "2000-01-01T01:56:49",
          "2000-01-03T12:26:49",
          "2000-01-01T01:56:51",
          "2000-01-03T15:42:16",
          "2000-01-03T21:32:45",
          "2000-01-01T01:56:22",
          "2000-01-07T20:58:10",
          "2000-01-01T01:56:27",
          "2000-01-01T13:18:46",
          "2000-01-01T01:56:55",
          "2000-01-05T17:09:44",
          "2000-01-14T20:15:26",
          "2000-01-18T21:04:37",
          "2000-02-03T00:49:03",
          "2000-01-01T01:56:30",
          "2000-01-01T03:52:11",
          "2000-01-01T23:14:42",
          "2000-01-01T23:36:07",
          "2000-01-05T23:57:00",
          "2000-01-01T01:56:26",
          "2000-01-01T17:59:33",
          "2000-01-05T17:07:02",
          "2000-01-01T01:56:48",
          "2000-01-03T10:30:59",
          "2000-01-01T03:04:19",
          "2000-01-03T11:58:34",
          "2000-01-03T12:15:53",
          "2000-01-03T20:44:08",
          "2000-01-02T17:07:12",
          "2000-01-04T11:37:01",
          "2000-01-01T03:55:19",
          "2000-01-12T00:05:22",
          "2000-01-05T03:58:16",
          "2000-01-06T04:36:50",
          "2000-01-14T06:04:00",
          "2000-01-17T07:26:15",
          "2000-01-27T06:49:14",
          "2000-01-28T11:43:07",
          "2000-01-30T09:21:01",
          "2000-02-02T05:28:03",
          "2000-01-02T17:41:22",
          "2000-01-03T23:39:11",
          "2000-01-01T01:56:27",
          "2000-01-02T22:45:30",
          "2000-01-02T23:55:56",
          "2000-01-06T02:44:16",
          "2000-01-11T03:50:11",
          "2000-01-01T03:47:19",
          "2000-01-02T15:13:28",
          "2000-01-25T23:15:06",
          "2000-01-31T03:59:42",
          "2000-02-03T20:35:25",
          "2000-01-01T09:51:07",
          "2000-01-02T17:49:08",
          "2000-01-01T01:59:55",
          "2000-01-03T22:47:46",
          "2000-01-07T14:36:17",
          "2000-01-02T16:07:24",
          "2000-01-05T22:00:46",
          "2000-01-01T16:46:02",
          "2000-01-03T15:20:16",
          "2000-01-05T10:10:22",
          "2000-01-05T14:15:08",
          "2000-01-05T14:18:49",
          "2000-01-05T16:41:46",
          "2000-01-07T01:46:20",
          "2000-01-11T15:01:11",
          "2000-01-17T23:24:35",
          "2000-01-01T03:52:49",
          "2000-01-01T08:23:37",
          "2000-01-01T16:02:55",
          "2000-01-04T16:25:56",
          "2000-01-04T16:35:21",
          "2000-01-07T16:23:40",
          "2000-01-01T05:07:26",
          "2000-01-01T23:55:12",
          "2000-01-06T11:13:56",
          "2000-01-15T12:30:23",
          "2000-01-02T00:00:01",
          "2000-01-02T02:06:49",
          "2000-01-05T02:09:25",
          "2000-01-07T05:02:48",
          "2000-01-01T20:08:53",
          "2000-01-10T23:16:19",
          "2000-01-12T22:12:01",
          "2000-01-01T03:08:19",
          "2000-01-01T09:52:45",
          "2000-01-07T00:40:14",
          "2000-01-12T05:42:25",
          "2000-01-14T02:03:27",
          "2000-01-16T06:15:06",
          "2000-01-01T01:56:14",
          "2000-01-02T08:53:41",
          "2000-01-04T19:50:11",
          "2000-01-01T02:05:19",
          "2000-01-04T19:06:32",
          "2000-01-01T10:11:38",
          "2000-01-03T21:50:17",
          "2000-01-01T03:10:19",
          "2000-01-03T14:14:11",
          "2000-01-01T01:56:37",
          "2000-01-01T02:58:32",
          "2000-01-01T05:03:40",
          "2000-01-01T12:28:48",
          "2000-01-07T03:38:53",
          "2000-01-01T01:56:14",
          "2000-01-01T01:56:54",
          "2000-01-01T14:26:15",
          "2000-01-03T09:44:03",
          "2000-01-01T20:18:55",
          "2000-01-05T20:20:26",
          "2000-01-01T01:55:37",
          "2000-01-01T04:24:04",
          "2000-01-02T02:27:33",
          "2000-01-01T03:13:19",
          "2000-01-01T20:12:01",
          "2000-01-01T21:16:59",
          "2000-01-03T22:29:26",
          "2000-01-03T11:08:47",
          "2000-01-05T07:43:25",
          "2000-01-11T00:47:16",
          "2000-01-11T09:01:03",
          "2000-01-14T21:12:37",
          "2000-01-01T03:02:19",
          "2000-01-01T19:37:52",
          "2000-01-07T18:46:58",
          "2000-01-01T01:56:29",
          "2000-01-04T04:32:09",
          "2000-01-10T17:06:59",
          "2000-01-01T03:28:19",
          "2000-01-08T10:10:57",
          "2000-01-09T07:53:02",
          "2000-01-01T02:51:19",
          "2000-01-01T09:58:04",
          "2000-01-01T02:41:31",
          "2000-01-03T11:35:17",
          "2000-01-06T18:13:48",
          "2000-01-01T03:09:19",
          "2000-01-01T14:29:10",
          "2000-01-13T14:53:43",
          "2000-01-01T02:25:19",
          "2000-01-01T11:53:24",
          "2000-01-01T12:00:10",
          "2000-01-05T10:38:21",
          "2000-01-07T11:17:19",
          "2000-01-13T15:49:49",
          "2000-01-01T01:56:42",
          "2000-01-01T03:04:40",
          "2000-01-01T04:20:48",
          "2000-01-07T19:38:34",
          "2000-01-01T03:21:19",
          "2000-01-14T01:17:52",
          "2000-01-19T19:52:58",
          "2000-01-22T04:01:43",
          "2000-01-01T02:50:19",
          "2000-01-02T16:27:29",
          "2000-01-20T02:55:49",
          "2000-01-22T01:03:42",
          "2000-01-25T12:59:49",
          "2000-02-02T08:54:11",
          "2000-01-04T22:27:38",
          "2000-01-11T15:24:47",
          "2000-01-11T15:34:11",
          "2000-01-03T19:38:45",
          "2000-01-04T15:17:05",
          "2000-01-01T01:56:01",
          "2000-01-08T20:58:25",
          "2000-01-16T08:13:36",
          "2000-01-16T08:18:08",
          "2000-01-19T04:45:14",
          "2000-01-20T03:39:46",
          "2000-01-01T01:57:00",
          "2000-01-06T19:36:01",
          "2000-01-01T02:57:19",
          "2000-01-12T06:03:02",
          "2000-01-01T14:54:19",
          "2000-01-09T13:17:20",
          "2000-01-01T11:01:16",
          "2000-01-01T01:56:37",
          "2000-01-01T01:56:31",
          "2000-01-01T18:33:58",
          "2000-01-01T01:56:32",
          "2000-01-05T22:06:05",
          "2000-01-01T02:55:19",
          "2000-01-04T11:28:16",
          "2000-01-04T13:16:58",
          "2000-01-07T19:10:12",
          "2000-01-06T23:39:08",
          "2000-01-07T20:38:30",
          "2000-01-06T21:41:10",
          "2000-01-23T01:43:47",
          "2000-02-04T08:28:17",
          "2000-02-09T07:05:33",
          "2000-01-01T16:36:49",
          "2000-02-13T00:10:05",
          "2000-02-15T12:22:50",
          "2000-01-01T23:52:15",
          "2000-01-06T16:18:39",
          "2000-01-09T04:09:57",
          "2000-01-10T23:18:46",
          "2000-01-01T03:18:19",
          "2000-01-10T20:42:41",
          "2000-01-01T02:55:31",
          "2000-01-02T23:24:32",
          "2000-01-03T01:41:40",
          "2000-01-10T08:15:00",
          "2000-01-01T01:56:51",
          "2000-01-06T00:58:41",
          "2000-01-01T01:56:28",
          "2000-01-05T19:24:31",
          "2000-01-08T01:00:19",
          "2000-01-01T01:56:19",
          "2000-01-04T18:06:19",
          "2000-01-11T17:02:23",
          "2000-01-08T19:31:02",
          "2000-01-14T00:18:30",
          "2000-01-17T15:07:54",
          "2000-01-21T21:37:56",
          "2000-01-22T23:22:35",
          "2000-01-02T10:38:43",
          "2000-01-09T12:27:40",
          "2000-01-01T01:56:24",
          "2000-01-06T17:34:58",
          "2000-01-01T01:57:57",
          "2000-01-01T04:07:46",
          "2000-01-01T20:40:31",
          "2000-01-02T16:15:20",
          "2000-01-05T01:55:28",
          "2000-01-01T03:19:19",
          "2000-01-09T14:50:24",
          "2000-01-09T16:06:00",
          "2000-01-02T07:06:31",
          "2000-01-01T16:30:38",
          "2000-01-04T06:26:35",
          "2000-01-07T16:13:49",
          "2000-01-01T01:56:22",
          "2000-01-04T02:52:17",
          "2000-01-05T14:37:35",
          "2000-01-14T23:01:47",
          "2000-01-02T00:48:41",
          "2000-01-02T05:00:38",
          "2000-01-16T10:51:38",
          "2000-01-19T22:16:17",
          "2000-01-20T06:38:16",
          "2000-01-01T01:56:10",
          "2000-01-01T02:24:48",
          "2000-01-01T04:27:43",
          "2000-01-04T21:28:37",
          "2000-01-05T00:40:08",
          "2000-01-01T01:56:13",
          "2000-01-08T20:32:30"
         ],
         "customdata": [
          [
           20167242,
           "Cardiac Vascular Intensive Care Unit (CVICU)"
          ],
          [
           20367176,
           "Medical Intensive Care Unit (MICU)"
          ],
          [
           20367176,
           "Coronary Care Unit (CCU)"
          ],
          [
           20367176,
           "Cardiac Vascular Intensive Care Unit (CVICU)"
          ],
          [
           20413622,
           "Cardiac Vascular Intensive Care Unit (CVICU)"
          ],
          [
           20413622,
           "Coronary Care Unit (CCU)"
          ],
          [
           20413622,
           "Cardiac Vascular Intensive Care Unit (CVICU)"
          ],
          [
           20428190,
           "Cardiac Vascular Intensive Care Unit (CVICU)"
          ],
          [
           20428190,
           "Cardiac Vascular Intensive Care Unit (CVICU)"
          ],
          [
           20428190,
           "Cardiac Vascular Intensive Care Unit (CVICU)"
          ],
          [
           20428190,
           "Cardiac Vascular Intensive Care Unit (CVICU)"
          ],
          [
           20504840,
           "Cardiac Vascular Intensive Care Unit (CVICU)"
          ],
          [
           20796166,
           "Coronary Care Unit (CCU)"
          ],
          [
           20796166,
           "Cardiac Vascular Intensive Care Unit (CVICU)"
          ],
          [
           20821670,
           "Cardiac Vascular Intensive Care Unit (CVICU)"
          ],
          [
           20846035,
           "Cardiac Vascular Intensive Care Unit (CVICU)"
          ],
          [
           20882340,
           "Cardiac Vascular Intensive Care Unit (CVICU)"
          ],
          [
           20882340,
           "Cardiac Vascular Intensive Care Unit (CVICU)"
          ],
          [
           20899737,
           "Coronary Care Unit (CCU)"
          ],
          [
           20899737,
           "Cardiac Vascular Intensive Care Unit (CVICU)"
          ],
          [
           20908820,
           "Coronary Care Unit (CCU)"
          ],
          [
           20908820,
           "Cardiac Vascular Intensive Care Unit (CVICU)"
          ],
          [
           20908820,
           "Cardiac Vascular Intensive Care Unit (CVICU)"
          ],
          [
           21086123,
           "Medical Intensive Care Unit (MICU)"
          ],
          [
           21086123,
           "Coronary Care Unit (CCU)"
          ],
          [
           21086123,
           "Cardiac Vascular Intensive Care Unit (CVICU)"
          ],
          [
           21086123,
           "Cardiac Vascular Intensive Care Unit (CVICU)"
          ],
          [
           21224034,
           "Medical Intensive Care Unit (MICU)"
          ],
          [
           21224034,
           "Cardiac Vascular Intensive Care Unit (CVICU)"
          ],
          [
           21224034,
           "Cardiac Vascular Intensive Care Unit (CVICU)"
          ],
          [
           21380778,
           "Coronary Care Unit (CCU)"
          ],
          [
           21380778,
           "Cardiac Vascular Intensive Care Unit (CVICU)"
          ],
          [
           21380778,
           "Cardiac Vascular Intensive Care Unit (CVICU)"
          ],
          [
           21491433,
           "Cardiac Vascular Intensive Care Unit (CVICU)"
          ],
          [
           21491433,
           "Cardiac Vascular Intensive Care Unit (CVICU)"
          ],
          [
           21491433,
           "Medical Intensive Care Unit (MICU)"
          ],
          [
           21491433,
           "Cardiac Vascular Intensive Care Unit (CVICU)"
          ],
          [
           21491433,
           "Cardiac Vascular Intensive Care Unit (CVICU)"
          ],
          [
           21491433,
           "Cardiac Vascular Intensive Care Unit (CVICU)"
          ],
          [
           21491433,
           "Cardiac Vascular Intensive Care Unit (CVICU)"
          ],
          [
           21491433,
           "Cardiac Vascular Intensive Care Unit (CVICU)"
          ],
          [
           21491433,
           "Cardiac Vascular Intensive Care Unit (CVICU)"
          ],
          [
           21495589,
           "Cardiac Vascular Intensive Care Unit (CVICU)"
          ],
          [
           21495589,
           "Cardiac Vascular Intensive Care Unit (CVICU)"
          ],
          [
           21495589,
           "Cardiac Vascular Intensive Care Unit (CVICU)"
          ],
          [
           21523552,
           "Coronary Care Unit (CCU)"
          ],
          [
           21523552,
           "Cardiac Vascular Intensive Care Unit (CVICU)"
          ],
          [
           21582058,
           "Cardiac Vascular Intensive Care Unit (CVICU)"
          ],
          [
           21582058,
           "Cardiac Vascular Intensive Care Unit (CVICU)"
          ],
          [
           21582058,
           "Cardiac Vascular Intensive Care Unit (CVICU)"
          ],
          [
           21618127,
           "Coronary Care Unit (CCU)"
          ],
          [
           21618127,
           "Cardiac Vascular Intensive Care Unit (CVICU)"
          ],
          [
           21618127,
           "Cardiac Vascular Intensive Care Unit (CVICU)"
          ],
          [
           21618127,
           "Cardiac Vascular Intensive Care Unit (CVICU)"
          ],
          [
           21794037,
           "Cardiac Vascular Intensive Care Unit (CVICU)"
          ],
          [
           21794037,
           "Cardiac Vascular Intensive Care Unit (CVICU)"
          ],
          [
           21858758,
           "Cardiac Vascular Intensive Care Unit (CVICU)"
          ],
          [
           21891458,
           "Cardiac Vascular Intensive Care Unit (CVICU)"
          ],
          [
           22038227,
           "Coronary Care Unit (CCU)"
          ],
          [
           22038227,
           "Coronary Care Unit (CCU)"
          ],
          [
           22038227,
           "Cardiac Vascular Intensive Care Unit (CVICU)"
          ],
          [
           22179911,
           "Coronary Care Unit (CCU)"
          ],
          [
           22179911,
           "Cardiac Vascular Intensive Care Unit (CVICU)"
          ],
          [
           22371163,
           "Coronary Care Unit (CCU)"
          ],
          [
           22371163,
           "Coronary Care Unit (CCU)"
          ],
          [
           22371163,
           "Cardiac Vascular Intensive Care Unit (CVICU)"
          ],
          [
           22371163,
           "Coronary Care Unit (CCU)"
          ],
          [
           22371163,
           "Cardiac Vascular Intensive Care Unit (CVICU)"
          ],
          [
           22425734,
           "Cardiac Vascular Intensive Care Unit (CVICU)"
          ],
          [
           22425734,
           "Coronary Care Unit (CCU)"
          ],
          [
           22425734,
           "Cardiac Vascular Intensive Care Unit (CVICU)"
          ],
          [
           22440108,
           "Cardiac Vascular Intensive Care Unit (CVICU)"
          ],
          [
           22440108,
           "Coronary Care Unit (CCU)"
          ],
          [
           22440108,
           "Cardiac Vascular Intensive Care Unit (CVICU)"
          ],
          [
           22440108,
           "Cardiac Vascular Intensive Care Unit (CVICU)"
          ],
          [
           22533821,
           "Cardiac Vascular Intensive Care Unit (CVICU)"
          ],
          [
           22581024,
           "Coronary Care Unit (CCU)"
          ],
          [
           22581024,
           "Cardiac Vascular Intensive Care Unit (CVICU)"
          ],
          [
           22581024,
           "Cardiac Vascular Intensive Care Unit (CVICU)"
          ],
          [
           22581024,
           "Cardiac Vascular Intensive Care Unit (CVICU)"
          ],
          [
           22581024,
           "Cardiac Vascular Intensive Care Unit (CVICU)"
          ],
          [
           22798677,
           "Coronary Care Unit (CCU)"
          ],
          [
           22798677,
           "Cardiac Vascular Intensive Care Unit (CVICU)"
          ],
          [
           22848187,
           "Coronary Care Unit (CCU)"
          ],
          [
           22848187,
           "Coronary Care Unit (CCU)"
          ],
          [
           22848187,
           "Cardiac Vascular Intensive Care Unit (CVICU)"
          ],
          [
           22925444,
           "Cardiac Vascular Intensive Care Unit (CVICU)"
          ],
          [
           22925444,
           "Cardiac Vascular Intensive Care Unit (CVICU)"
          ],
          [
           23150740,
           "Cardiac Vascular Intensive Care Unit (CVICU)"
          ],
          [
           23150740,
           "Cardiac Vascular Intensive Care Unit (CVICU)"
          ],
          [
           23254228,
           "Coronary Care Unit (CCU)"
          ],
          [
           23254228,
           "Cardiac Vascular Intensive Care Unit (CVICU)"
          ],
          [
           23254228,
           "Cardiac Vascular Intensive Care Unit (CVICU)"
          ],
          [
           23254228,
           "Cardiac Vascular Intensive Care Unit (CVICU)"
          ],
          [
           23254228,
           "Cardiac Vascular Intensive Care Unit (CVICU)"
          ],
          [
           23346584,
           "Coronary Care Unit (CCU)"
          ],
          [
           23346584,
           "Cardiac Vascular Intensive Care Unit (CVICU)"
          ],
          [
           23471589,
           "Cardiac Vascular Intensive Care Unit (CVICU)"
          ],
          [
           23492493,
           "Cardiac Vascular Intensive Care Unit (CVICU)"
          ],
          [
           23492493,
           "Cardiac Vascular Intensive Care Unit (CVICU)"
          ],
          [
           23526876,
           "Coronary Care Unit (CCU)"
          ],
          [
           23526876,
           "Cardiac Vascular Intensive Care Unit (CVICU)"
          ],
          [
           23531962,
           "Cardiac Vascular Intensive Care Unit (CVICU)"
          ],
          [
           23613589,
           "Coronary Care Unit (CCU)"
          ],
          [
           23613589,
           "Cardiac Vascular Intensive Care Unit (CVICU)"
          ],
          [
           23671820,
           "Coronary Care Unit (CCU)"
          ],
          [
           23671820,
           "Cardiac Vascular Intensive Care Unit (CVICU)"
          ],
          [
           23671820,
           "Coronary Care Unit (CCU)"
          ],
          [
           23671820,
           "Cardiac Vascular Intensive Care Unit (CVICU)"
          ],
          [
           23891344,
           "Coronary Care Unit (CCU)"
          ],
          [
           23891344,
           "Cardiac Vascular Intensive Care Unit (CVICU)"
          ],
          [
           23921396,
           "Trauma SICU (TSICU)"
          ],
          [
           23921396,
           "Cardiac Vascular Intensive Care Unit (CVICU)"
          ],
          [
           24078757,
           "Cardiac Vascular Intensive Care Unit (CVICU)"
          ],
          [
           24078757,
           "Cardiac Vascular Intensive Care Unit (CVICU)"
          ],
          [
           24078757,
           "Cardiac Vascular Intensive Care Unit (CVICU)"
          ],
          [
           24078757,
           "Cardiac Vascular Intensive Care Unit (CVICU)"
          ],
          [
           24078757,
           "Cardiac Vascular Intensive Care Unit (CVICU)"
          ],
          [
           24078757,
           "Cardiac Vascular Intensive Care Unit (CVICU)"
          ],
          [
           24078757,
           "Cardiac Vascular Intensive Care Unit (CVICU)"
          ],
          [
           24078757,
           "Cardiac Vascular Intensive Care Unit (CVICU)"
          ],
          [
           24103406,
           "Cardiac Vascular Intensive Care Unit (CVICU)"
          ],
          [
           24103406,
           "Cardiac Vascular Intensive Care Unit (CVICU)"
          ],
          [
           24407025,
           "Coronary Care Unit (CCU)"
          ],
          [
           24407025,
           "Coronary Care Unit (CCU)"
          ],
          [
           24407025,
           "Cardiac Vascular Intensive Care Unit (CVICU)"
          ],
          [
           24407025,
           "Cardiac Vascular Intensive Care Unit (CVICU)"
          ],
          [
           24407025,
           "Cardiac Vascular Intensive Care Unit (CVICU)"
          ],
          [
           24487999,
           "Coronary Care Unit (CCU)"
          ],
          [
           24487999,
           "Cardiac Vascular Intensive Care Unit (CVICU)"
          ],
          [
           24487999,
           "Cardiac Vascular Intensive Care Unit (CVICU)"
          ],
          [
           24487999,
           "Cardiac Vascular Intensive Care Unit (CVICU)"
          ],
          [
           24487999,
           "Cardiac Vascular Intensive Care Unit (CVICU)"
          ],
          [
           24524153,
           "Coronary Care Unit (CCU)"
          ],
          [
           24524153,
           "Cardiac Vascular Intensive Care Unit (CVICU)"
          ],
          [
           24571829,
           "Cardiac Vascular Intensive Care Unit (CVICU)"
          ],
          [
           24571829,
           "Cardiac Vascular Intensive Care Unit (CVICU)"
          ],
          [
           24571829,
           "Cardiac Vascular Intensive Care Unit (CVICU)"
          ],
          [
           24582156,
           "Coronary Care Unit (CCU)"
          ],
          [
           24582156,
           "Cardiac Vascular Intensive Care Unit (CVICU)"
          ],
          [
           24726754,
           "Cardiac Vascular Intensive Care Unit (CVICU)"
          ],
          [
           24726754,
           "Cardiac Vascular Intensive Care Unit (CVICU)"
          ],
          [
           24857256,
           "Coronary Care Unit (CCU)"
          ],
          [
           24857256,
           "Cardiac Vascular Intensive Care Unit (CVICU)"
          ],
          [
           24857256,
           "Coronary Care Unit (CCU)"
          ],
          [
           24857256,
           "Cardiac Vascular Intensive Care Unit (CVICU)"
          ],
          [
           24878015,
           "Medical Intensive Care Unit (MICU)"
          ],
          [
           24878015,
           "Cardiac Vascular Intensive Care Unit (CVICU)"
          ],
          [
           24878015,
           "Cardiac Vascular Intensive Care Unit (CVICU)"
          ],
          [
           24987624,
           "Cardiac Vascular Intensive Care Unit (CVICU)"
          ],
          [
           24987624,
           "Cardiac Vascular Intensive Care Unit (CVICU)"
          ],
          [
           24988265,
           "Cardiac Vascular Intensive Care Unit (CVICU)"
          ],
          [
           24988265,
           "Trauma SICU (TSICU)"
          ],
          [
           24988265,
           "Trauma SICU (TSICU)"
          ],
          [
           24988265,
           "Cardiac Vascular Intensive Care Unit (CVICU)"
          ],
          [
           25022568,
           "Cardiac Vascular Intensive Care Unit (CVICU)"
          ],
          [
           25022568,
           "Cardiac Vascular Intensive Care Unit (CVICU)"
          ],
          [
           25100189,
           "Coronary Care Unit (CCU)"
          ],
          [
           25100189,
           "Cardiac Vascular Intensive Care Unit (CVICU)"
          ],
          [
           25190591,
           "Cardiac Vascular Intensive Care Unit (CVICU)"
          ],
          [
           25190591,
           "Cardiac Vascular Intensive Care Unit (CVICU)"
          ],
          [
           25190591,
           "Cardiac Vascular Intensive Care Unit (CVICU)"
          ],
          [
           25190591,
           "Cardiac Vascular Intensive Care Unit (CVICU)"
          ],
          [
           25238765,
           "Cardiac Vascular Intensive Care Unit (CVICU)"
          ],
          [
           25238765,
           "Cardiac Vascular Intensive Care Unit (CVICU)"
          ],
          [
           25238765,
           "Cardiac Vascular Intensive Care Unit (CVICU)"
          ],
          [
           25238943,
           "Cardiac Vascular Intensive Care Unit (CVICU)"
          ],
          [
           25238943,
           "Coronary Care Unit (CCU)"
          ],
          [
           25238943,
           "Coronary Care Unit (CCU)"
          ],
          [
           25238943,
           "Coronary Care Unit (CCU)"
          ],
          [
           25238943,
           "Cardiac Vascular Intensive Care Unit (CVICU)"
          ],
          [
           25238943,
           "Cardiac Vascular Intensive Care Unit (CVICU)"
          ],
          [
           25265986,
           "Coronary Care Unit (CCU)"
          ],
          [
           25265986,
           "Cardiac Vascular Intensive Care Unit (CVICU)"
          ],
          [
           25265986,
           "Cardiac Vascular Intensive Care Unit (CVICU)"
          ],
          [
           25340799,
           "Coronary Care Unit (CCU)"
          ],
          [
           25340799,
           "Cardiac Vascular Intensive Care Unit (CVICU)"
          ],
          [
           25384000,
           "Coronary Care Unit (CCU)"
          ],
          [
           25384000,
           "Cardiac Vascular Intensive Care Unit (CVICU)"
          ],
          [
           25630745,
           "Coronary Care Unit (CCU)"
          ],
          [
           25630745,
           "Cardiac Vascular Intensive Care Unit (CVICU)"
          ],
          [
           25849202,
           "Medical Intensive Care Unit (MICU)"
          ],
          [
           25849202,
           "Coronary Care Unit (CCU)"
          ],
          [
           25849202,
           "Medical Intensive Care Unit (MICU)"
          ],
          [
           25849202,
           "Coronary Care Unit (CCU)"
          ],
          [
           25849202,
           "Cardiac Vascular Intensive Care Unit (CVICU)"
          ],
          [
           25919278,
           "Cardiac Vascular Intensive Care Unit (CVICU)"
          ],
          [
           26280197,
           "Coronary Care Unit (CCU)"
          ],
          [
           26280197,
           "Cardiac Vascular Intensive Care Unit (CVICU)"
          ],
          [
           26280197,
           "Cardiac Vascular Intensive Care Unit (CVICU)"
          ],
          [
           26304404,
           "Coronary Care Unit (CCU)"
          ],
          [
           26304404,
           "Cardiac Vascular Intensive Care Unit (CVICU)"
          ],
          [
           26344582,
           "Cardiac Vascular Intensive Care Unit (CVICU)"
          ],
          [
           26344582,
           "Cardiac Vascular Intensive Care Unit (CVICU)"
          ],
          [
           26344582,
           "Cardiac Vascular Intensive Care Unit (CVICU)"
          ],
          [
           26460068,
           "Coronary Care Unit (CCU)"
          ],
          [
           26460068,
           "Coronary Care Unit (CCU)"
          ],
          [
           26460068,
           "Cardiac Vascular Intensive Care Unit (CVICU)"
          ],
          [
           26460068,
           "Cardiac Vascular Intensive Care Unit (CVICU)"
          ],
          [
           26557141,
           "Coronary Care Unit (CCU)"
          ],
          [
           26557141,
           "Coronary Care Unit (CCU)"
          ],
          [
           26557141,
           "Coronary Care Unit (CCU)"
          ],
          [
           26557141,
           "Cardiac Vascular Intensive Care Unit (CVICU)"
          ],
          [
           26557141,
           "Cardiac Vascular Intensive Care Unit (CVICU)"
          ],
          [
           26650166,
           "Medical Intensive Care Unit (MICU)"
          ],
          [
           26650166,
           "Coronary Care Unit (CCU)"
          ],
          [
           26650166,
           "Cardiac Vascular Intensive Care Unit (CVICU)"
          ],
          [
           26785758,
           "Medical Intensive Care Unit (MICU)"
          ],
          [
           26785758,
           "Coronary Care Unit (CCU)"
          ],
          [
           26785758,
           "Cardiac Vascular Intensive Care Unit (CVICU)"
          ],
          [
           26832373,
           "Coronary Care Unit (CCU)"
          ],
          [
           26832373,
           "Cardiac Vascular Intensive Care Unit (CVICU)"
          ],
          [
           26832373,
           "Cardiac Vascular Intensive Care Unit (CVICU)"
          ],
          [
           26877857,
           "Coronary Care Unit (CCU)"
          ],
          [
           26877857,
           "Cardiac Vascular Intensive Care Unit (CVICU)"
          ],
          [
           26945910,
           "Coronary Care Unit (CCU)"
          ],
          [
           26945910,
           "Cardiac Vascular Intensive Care Unit (CVICU)"
          ],
          [
           26945910,
           "Cardiac Vascular Intensive Care Unit (CVICU)"
          ],
          [
           26947371,
           "Surgical Intensive Care Unit (SICU)"
          ],
          [
           26947371,
           "Medical Intensive Care Unit (MICU)"
          ],
          [
           26947371,
           "Cardiac Vascular Intensive Care Unit (CVICU)"
          ],
          [
           27229141,
           "Coronary Care Unit (CCU)"
          ],
          [
           27229141,
           "Coronary Care Unit (CCU)"
          ],
          [
           27229141,
           "Coronary Care Unit (CCU)"
          ],
          [
           27229141,
           "Cardiac Vascular Intensive Care Unit (CVICU)"
          ],
          [
           27229141,
           "Cardiac Vascular Intensive Care Unit (CVICU)"
          ],
          [
           27245455,
           "Cardiac Vascular Intensive Care Unit (CVICU)"
          ],
          [
           27295973,
           "Coronary Care Unit (CCU)"
          ],
          [
           27295973,
           "Coronary Care Unit (CCU)"
          ],
          [
           27295973,
           "Cardiac Vascular Intensive Care Unit (CVICU)"
          ],
          [
           27295973,
           "Cardiac Vascular Intensive Care Unit (CVICU)"
          ],
          [
           27356533,
           "Medical Intensive Care Unit (MICU)"
          ],
          [
           27356533,
           "Coronary Care Unit (CCU)"
          ],
          [
           27356533,
           "Cardiac Vascular Intensive Care Unit (CVICU)"
          ],
          [
           27356533,
           "Cardiac Vascular Intensive Care Unit (CVICU)"
          ],
          [
           27409048,
           "Medical Intensive Care Unit (MICU)"
          ],
          [
           27409048,
           "Coronary Care Unit (CCU)"
          ],
          [
           27409048,
           "Coronary Care Unit (CCU)"
          ],
          [
           27409048,
           "Cardiac Vascular Intensive Care Unit (CVICU)"
          ],
          [
           27409048,
           "Cardiac Vascular Intensive Care Unit (CVICU)"
          ],
          [
           27409048,
           "Cardiac Vascular Intensive Care Unit (CVICU)"
          ],
          [
           27497725,
           "Cardiac Vascular Intensive Care Unit (CVICU)"
          ],
          [
           27497725,
           "Cardiac Vascular Intensive Care Unit (CVICU)"
          ],
          [
           27497725,
           "Cardiac Vascular Intensive Care Unit (CVICU)"
          ],
          [
           27504332,
           "Coronary Care Unit (CCU)"
          ],
          [
           27504332,
           "Cardiac Vascular Intensive Care Unit (CVICU)"
          ],
          [
           27532830,
           "Coronary Care Unit (CCU)"
          ],
          [
           27532830,
           "Cardiac Vascular Intensive Care Unit (CVICU)"
          ],
          [
           27532830,
           "Coronary Care Unit (CCU)"
          ],
          [
           27532830,
           "Cardiac Vascular Intensive Care Unit (CVICU)"
          ],
          [
           27532830,
           "Cardiac Vascular Intensive Care Unit (CVICU)"
          ],
          [
           27532830,
           "Cardiac Vascular Intensive Care Unit (CVICU)"
          ],
          [
           27535812,
           "Coronary Care Unit (CCU)"
          ],
          [
           27535812,
           "Cardiac Vascular Intensive Care Unit (CVICU)"
          ],
          [
           27568834,
           "Surgical Intensive Care Unit (SICU)"
          ],
          [
           27568834,
           "Cardiac Vascular Intensive Care Unit (CVICU)"
          ],
          [
           27628219,
           "Medical Intensive Care Unit (MICU)"
          ],
          [
           27628219,
           "Cardiac Vascular Intensive Care Unit (CVICU)"
          ],
          [
           27732259,
           "Cardiac Vascular Intensive Care Unit (CVICU)"
          ],
          [
           27735698,
           "Cardiac Vascular Intensive Care Unit (CVICU)"
          ],
          [
           27810854,
           "Cardiac Vascular Intensive Care Unit (CVICU)"
          ],
          [
           27814240,
           "Cardiac Vascular Intensive Care Unit (CVICU)"
          ],
          [
           27973178,
           "Coronary Care Unit (CCU)"
          ],
          [
           27973178,
           "Cardiac Vascular Intensive Care Unit (CVICU)"
          ],
          [
           28062533,
           "Coronary Care Unit (CCU)"
          ],
          [
           28062533,
           "Cardiac Vascular Intensive Care Unit (CVICU)"
          ],
          [
           28062533,
           "Cardiac Vascular Intensive Care Unit (CVICU)"
          ],
          [
           28241689,
           "Cardiac Vascular Intensive Care Unit (CVICU)"
          ],
          [
           28290120,
           "Coronary Care Unit (CCU)"
          ],
          [
           28290120,
           "Cardiac Vascular Intensive Care Unit (CVICU)"
          ],
          [
           28481207,
           "Cardiac Vascular Intensive Care Unit (CVICU)"
          ],
          [
           28481207,
           "Cardiac Vascular Intensive Care Unit (CVICU)"
          ],
          [
           28481207,
           "Cardiac Vascular Intensive Care Unit (CVICU)"
          ],
          [
           28481207,
           "Cardiac Vascular Intensive Care Unit (CVICU)"
          ],
          [
           28522694,
           "Cardiac Vascular Intensive Care Unit (CVICU)"
          ],
          [
           28522694,
           "Coronary Care Unit (CCU)"
          ],
          [
           28522694,
           "Cardiac Vascular Intensive Care Unit (CVICU)"
          ],
          [
           28526823,
           "Cardiac Vascular Intensive Care Unit (CVICU)"
          ],
          [
           28526823,
           "Cardiac Vascular Intensive Care Unit (CVICU)"
          ],
          [
           28526823,
           "Cardiac Vascular Intensive Care Unit (CVICU)"
          ],
          [
           28526823,
           "Cardiac Vascular Intensive Care Unit (CVICU)"
          ],
          [
           28560179,
           "Coronary Care Unit (CCU)"
          ],
          [
           28560179,
           "Cardiac Vascular Intensive Care Unit (CVICU)"
          ],
          [
           28591150,
           "Coronary Care Unit (CCU)"
          ],
          [
           28591150,
           "Cardiac Vascular Intensive Care Unit (CVICU)"
          ],
          [
           28591150,
           "Cardiac Vascular Intensive Care Unit (CVICU)"
          ],
          [
           28591150,
           "Cardiac Vascular Intensive Care Unit (CVICU)"
          ],
          [
           28764595,
           "Cardiac Vascular Intensive Care Unit (CVICU)"
          ],
          [
           28764595,
           "Cardiac Vascular Intensive Care Unit (CVICU)"
          ],
          [
           28852886,
           "Coronary Care Unit (CCU)"
          ],
          [
           28852886,
           "Cardiac Vascular Intensive Care Unit (CVICU)"
          ],
          [
           28852886,
           "Cardiac Vascular Intensive Care Unit (CVICU)"
          ],
          [
           28878078,
           "Coronary Care Unit (CCU)"
          ],
          [
           28878078,
           "Cardiac Vascular Intensive Care Unit (CVICU)"
          ],
          [
           28878078,
           "Cardiac Vascular Intensive Care Unit (CVICU)"
          ],
          [
           28889493,
           "Cardiac Vascular Intensive Care Unit (CVICU)"
          ],
          [
           28889493,
           "Cardiac Vascular Intensive Care Unit (CVICU)"
          ],
          [
           28889493,
           "Cardiac Vascular Intensive Care Unit (CVICU)"
          ],
          [
           28889493,
           "Cardiac Vascular Intensive Care Unit (CVICU)"
          ],
          [
           28889493,
           "Cardiac Vascular Intensive Care Unit (CVICU)"
          ],
          [
           28948855,
           "Trauma SICU (TSICU)"
          ],
          [
           28948855,
           "Cardiac Vascular Intensive Care Unit (CVICU)"
          ],
          [
           29034839,
           "Coronary Care Unit (CCU)"
          ],
          [
           29034839,
           "Cardiac Vascular Intensive Care Unit (CVICU)"
          ],
          [
           29088350,
           "Coronary Care Unit (CCU)"
          ],
          [
           29088350,
           "Medical Intensive Care Unit (MICU)"
          ],
          [
           29088350,
           "Coronary Care Unit (CCU)"
          ],
          [
           29088350,
           "Cardiac Vascular Intensive Care Unit (CVICU)"
          ],
          [
           29088350,
           "Cardiac Vascular Intensive Care Unit (CVICU)"
          ],
          [
           29137213,
           "Coronary Care Unit (CCU)"
          ],
          [
           29137213,
           "Cardiac Vascular Intensive Care Unit (CVICU)"
          ],
          [
           29137213,
           "Cardiac Vascular Intensive Care Unit (CVICU)"
          ],
          [
           29201840,
           "Cardiac Vascular Intensive Care Unit (CVICU)"
          ],
          [
           29432257,
           "Cardiac Vascular Intensive Care Unit (CVICU)"
          ],
          [
           29487787,
           "Coronary Care Unit (CCU)"
          ],
          [
           29487787,
           "Cardiac Vascular Intensive Care Unit (CVICU)"
          ],
          [
           29569727,
           "Coronary Care Unit (CCU)"
          ],
          [
           29569727,
           "Coronary Care Unit (CCU)"
          ],
          [
           29569727,
           "Cardiac Vascular Intensive Care Unit (CVICU)"
          ],
          [
           29569727,
           "Cardiac Vascular Intensive Care Unit (CVICU)"
          ],
          [
           29636680,
           "Cardiac Vascular Intensive Care Unit (CVICU)"
          ],
          [
           29774156,
           "Medical/Surgical Intensive Care Unit (MICU/SICU)"
          ],
          [
           29774156,
           "Coronary Care Unit (CCU)"
          ],
          [
           29774156,
           "Coronary Care Unit (CCU)"
          ],
          [
           29774156,
           "Cardiac Vascular Intensive Care Unit (CVICU)"
          ],
          [
           29815513,
           "Medical/Surgical Intensive Care Unit (MICU/SICU)"
          ],
          [
           29815513,
           "Medical/Surgical Intensive Care Unit (MICU/SICU)"
          ],
          [
           29815513,
           "Medical Intensive Care Unit (MICU)"
          ],
          [
           29815513,
           "Coronary Care Unit (CCU)"
          ],
          [
           29815513,
           "Cardiac Vascular Intensive Care Unit (CVICU)"
          ],
          [
           29871031,
           "Coronary Care Unit (CCU)"
          ],
          [
           29871031,
           "Cardiac Vascular Intensive Care Unit (CVICU)"
          ]
         ],
         "hovertemplate": "color=ICU<br>intime=%{base}<br>outtime=%{x}<br>id=%{y}<br>hadm_id=%{customdata[0]}<br>detail=%{customdata[1]}<extra></extra>",
         "legendgroup": "ICU",
         "marker": {
          "color": "#00cc96"
         },
         "name": "ICU",
         "offsetgroup": "ICU",
         "orientation": "h",
         "showlegend": true,
         "textposition": "auto",
         "type": "bar",
         "width": 0.2,
         "x": [
          252675000,
          47064000,
          51855000,
          206996000,
          734831000,
          1728000,
          276121000,
          887000,
          8091000,
          347094000,
          419194000,
          437940000,
          308211000,
          1492669000,
          350384000,
          321864000,
          13058000,
          934094000,
          360958000,
          279134000,
          580548000,
          17518000,
          1461245000,
          56845000,
          343812000,
          331681000,
          22152000,
          35789000,
          17672000,
          1076979000,
          150585000,
          114564000,
          83216000,
          82919000,
          464933000,
          240344000,
          21000,
          548341000,
          29000,
          58439000,
          190730000,
          781391000,
          293719000,
          8419000,
          251307000,
          249324000,
          349173000,
          1070847000,
          688250000,
          424023000,
          303561000,
          12402000,
          254244000,
          1136922000,
          709851000,
          374518000,
          350061000,
          128399000,
          1417000,
          73175000,
          510945000,
          362934000,
          205000000,
          19412000,
          13464000,
          186000,
          7458000,
          186785000,
          72012000,
          564512000,
          529231000,
          8608000,
          134354000,
          235845000,
          284792000,
          940664000,
          126255000,
          178373000,
          18000,
          3875000,
          6751000,
          150379000,
          274767000,
          222325000,
          21029000,
          148713000,
          339706000,
          646947000,
          40939000,
          296777000,
          395531000,
          788742000,
          348551000,
          1309466000,
          256309000,
          6941000,
          354765000,
          162151000,
          144590000,
          83925000,
          57787000,
          117517000,
          696882000,
          200699000,
          303148000,
          204855000,
          1039000,
          23713000,
          235364000,
          147304000,
          115613000,
          185816000,
          558986000,
          88714000,
          696430000,
          264135000,
          861779000,
          104033000,
          164274000,
          245222000,
          952967000,
          107869000,
          59012000,
          161343000,
          4226000,
          269300000,
          435955000,
          345027000,
          120918000,
          2016098000,
          449076000,
          318943000,
          247233000,
          114097000,
          325836000,
          247671000,
          316111000,
          475305000,
          273875000,
          1678571000,
          90921000,
          185406000,
          14686000,
          221000,
          8577000,
          175398000,
          240883000,
          548604000,
          141976000,
          16248000,
          778074000,
          260581000,
          565000,
          253069000,
          115463000,
          67666000,
          603278000,
          782187000,
          280748000,
          7608000,
          259356000,
          183203000,
          276323000,
          374807000,
          168942000,
          2803693000,
          24266000,
          239373000,
          450080000,
          159662000,
          187899000,
          88844000,
          111009000,
          212190000,
          524796000,
          320473000,
          75577000,
          214719000,
          90079000,
          212632000,
          531092000,
          3715000,
          7508000,
          26708000,
          271990000,
          87681000,
          570946000,
          44961000,
          155868000,
          32410000,
          19532000,
          102587000,
          8907000,
          79409000,
          411399000,
          61122000,
          3898000,
          177147000,
          79757000,
          103142000,
          360057000,
          29627000,
          264534000,
          207722000,
          59733000,
          180076000,
          135338000,
          268540000,
          156384000,
          201111000,
          51651000,
          78063000,
          100136000,
          18876000,
          886396000,
          199902000,
          283111000,
          357129000,
          40791000,
          292446000,
          97688000,
          34085000,
          406000,
          191931000,
          175138000,
          18027000,
          628268000,
          4078000,
          3768000,
          82000000,
          116803000,
          348274000,
          498170000,
          202125000,
          410852000,
          135430000,
          1506500000,
          166073000,
          302167000,
          676462000,
          100061000,
          449523000,
          564000,
          124884000,
          70700000,
          445031000,
          252665000,
          645311000,
          272000,
          246426000,
          82472000,
          413226000,
          283494000,
          622773000,
          575955000,
          1593448000,
          334156000,
          94957000,
          1317348000,
          270325000,
          262317000,
          167263000,
          418173000,
          114172000,
          289977000,
          6522000,
          2278936000,
          362489000,
          72130000,
          892016000,
          1396957000,
          1061070000,
          427036000,
          571277000,
          3655996000,
          216765000,
          44700000,
          344845000,
          215478000,
          73440000,
          1469655000,
          368848000,
          199275000,
          160141000,
          8228000,
          628400000,
          1631086000,
          428510000,
          1302781000,
          133529000,
          192948000,
          234547000,
          309064000,
          386414000,
          458273000,
          449248000,
          157932000,
          369002000,
          92679000,
          1289847000,
          392311000,
          323871000,
          250931000,
          200941000,
          901000,
          58239000,
          66639000,
          207608000,
          247054000,
          250687000,
          4512000,
          359591000,
          702625000,
          595257000,
          290753000,
          527288000,
          262555000,
          127291000,
          807852000,
          339374000,
          1633122000,
          188511000,
          66947000,
          13478000,
          59474000,
          1121000,
          2478000,
          274182000,
          11491000,
          162670000,
          170574000,
          128581000
         ],
         "xaxis": "x",
         "y": [
          1,
          2,
          2,
          2,
          3,
          3,
          3,
          4,
          4,
          4,
          4,
          5,
          6,
          6,
          7,
          8,
          9,
          9,
          10,
          10,
          11,
          11,
          11,
          12,
          12,
          12,
          12,
          13,
          13,
          13,
          14,
          14,
          14,
          15,
          15,
          15,
          15,
          15,
          15,
          15,
          15,
          15,
          16,
          16,
          16,
          17,
          17,
          18,
          18,
          18,
          19,
          19,
          19,
          19,
          20,
          20,
          21,
          22,
          23,
          23,
          23,
          24,
          24,
          25,
          25,
          25,
          25,
          25,
          26,
          26,
          26,
          27,
          27,
          27,
          27,
          28,
          29,
          29,
          29,
          29,
          29,
          30,
          30,
          31,
          31,
          31,
          32,
          32,
          33,
          33,
          34,
          34,
          34,
          34,
          34,
          35,
          35,
          36,
          37,
          37,
          38,
          38,
          39,
          40,
          40,
          41,
          41,
          41,
          41,
          42,
          42,
          43,
          43,
          44,
          44,
          44,
          44,
          44,
          44,
          44,
          44,
          45,
          45,
          46,
          46,
          46,
          46,
          46,
          47,
          47,
          47,
          47,
          47,
          48,
          48,
          49,
          49,
          49,
          50,
          50,
          51,
          51,
          52,
          52,
          52,
          52,
          53,
          53,
          53,
          54,
          54,
          55,
          55,
          55,
          55,
          56,
          56,
          57,
          57,
          58,
          58,
          58,
          58,
          59,
          59,
          59,
          60,
          60,
          60,
          60,
          60,
          60,
          61,
          61,
          61,
          62,
          62,
          63,
          63,
          64,
          64,
          65,
          65,
          65,
          65,
          65,
          66,
          67,
          67,
          67,
          68,
          68,
          69,
          69,
          69,
          70,
          70,
          70,
          70,
          71,
          71,
          71,
          71,
          71,
          72,
          72,
          72,
          73,
          73,
          73,
          74,
          74,
          74,
          75,
          75,
          76,
          76,
          76,
          77,
          77,
          77,
          78,
          78,
          78,
          78,
          78,
          79,
          80,
          80,
          80,
          80,
          81,
          81,
          81,
          81,
          82,
          82,
          82,
          82,
          82,
          82,
          83,
          83,
          83,
          84,
          84,
          85,
          85,
          85,
          85,
          85,
          85,
          86,
          86,
          87,
          87,
          88,
          88,
          89,
          90,
          91,
          92,
          93,
          93,
          94,
          94,
          94,
          95,
          96,
          96,
          97,
          97,
          97,
          97,
          98,
          98,
          98,
          99,
          99,
          99,
          99,
          100,
          100,
          101,
          101,
          101,
          101,
          102,
          102,
          103,
          103,
          103,
          104,
          104,
          104,
          105,
          105,
          105,
          105,
          105,
          106,
          106,
          107,
          107,
          108,
          108,
          108,
          108,
          108,
          109,
          109,
          109,
          110,
          111,
          112,
          112,
          113,
          113,
          113,
          113,
          114,
          115,
          115,
          115,
          115,
          116,
          116,
          116,
          116,
          116,
          117,
          117
         ],
         "yaxis": "y"
        },
        {
         "alignmentgroup": "True",
         "base": [
          "2000-01-02T12:37:19",
          "2000-01-01T13:56:19",
          "2000-01-07T00:06:19",
          "2000-01-07T02:21:19",
          "2000-01-14T19:14:19",
          "2000-01-14T22:36:19",
          "2000-01-05T21:07:19",
          "2000-01-04T10:55:19",
          "2000-01-04T14:28:19",
          "2000-01-04T03:45:19",
          "2000-01-04T14:10:19",
          "2000-01-03T22:04:19",
          "2000-01-13T16:02:19",
          "2000-01-13T18:22:19",
          "2000-01-04T19:16:19",
          "2000-01-04T20:16:19",
          "2000-01-04T20:07:19",
          "2000-01-01T20:08:19",
          "2000-01-01T10:48:19",
          "2000-01-01T11:00:19",
          "2000-01-01T15:00:19",
          "2000-01-15T20:29:19",
          "2000-01-16T09:21:19",
          "2000-01-18T02:07:19",
          "2000-01-24T11:01:19",
          "2000-01-07T19:26:19",
          "2000-01-06T10:09:19",
          "2000-01-01T21:12:19",
          "2000-01-03T02:25:19",
          "2000-01-01T20:47:19",
          "2000-01-03T17:44:19",
          "2000-01-03T14:39:19",
          "2000-01-01T11:46:19",
          "2000-01-01T22:46:19",
          "2000-01-02T00:21:19",
          "2000-01-10T06:47:19",
          "2000-01-02T07:21:19",
          "2000-01-01T17:00:19",
          "2000-01-01T19:45:19",
          "2000-01-03T15:56:19",
          "2000-01-14T23:52:19",
          "2000-01-01T07:46:19",
          "2000-01-17T01:18:19",
          "2000-01-03T05:22:19",
          "2000-01-03T02:16:19",
          "2000-01-06T23:12:19",
          "2000-01-01T04:48:19",
          "2000-01-10T14:14:19",
          "2000-01-01T18:51:19",
          "2000-01-06T15:24:19",
          "2000-01-06T18:36:19",
          "2000-01-01T12:00:19",
          "2000-01-02T17:22:19",
          "2000-01-02T00:39:19",
          "2000-01-16T03:16:19",
          "2000-01-12T00:25:19",
          "2000-01-02T21:57:19",
          "2000-01-01T22:14:19",
          "2000-01-01T23:27:19",
          "2000-01-02T00:58:19",
          "2000-01-02T13:32:19",
          "2000-01-01T16:01:19",
          "2000-01-13T03:08:19",
          "2000-01-18T18:40:19",
          "2000-01-03T15:43:19",
          "2000-01-05T11:03:19",
          "2000-01-07T14:19:19",
          "2000-01-09T07:20:19",
          "2000-01-09T09:40:19",
          "2000-01-03T21:00:19",
          "2000-01-03T21:36:19",
          "2000-01-08T17:38:19",
          "2000-01-06T18:30:19",
          "2000-01-05T00:42:19",
          "2000-01-05T04:25:19",
          "2000-01-02T01:36:19",
          "2000-01-01T17:05:19",
          "2000-01-10T17:01:19",
          "2000-01-01T03:57:19",
          "2000-01-01T20:10:19",
          "2000-01-02T14:17:19",
          "2000-01-04T04:51:19",
          "2000-01-03T21:42:19",
          "2000-01-01T03:36:19",
          "2000-01-02T00:19:19",
          "2000-01-01T03:04:19",
          "2000-01-01T15:22:19",
          "2000-01-08T09:40:19",
          "2000-01-01T18:04:19",
          "2000-01-04T00:13:19",
          "2000-01-01T06:04:19",
          "2000-01-06T15:57:19",
          "2000-01-06T17:18:19",
          "2000-01-01T03:02:19",
          "2000-01-03T15:19:19",
          "2000-01-02T14:17:19",
          "2000-01-20T21:10:19",
          "2000-01-02T00:37:19",
          "2000-01-17T20:26:19",
          "2000-01-03T07:54:19",
          "2000-01-12T02:12:19",
          "2000-01-12T03:22:19",
          "2000-01-03T19:53:19",
          "2000-01-24T02:20:19",
          "2000-01-24T04:50:19",
          "2000-01-03T18:48:19",
          "2000-01-06T12:52:19",
          "2000-01-03T17:33:19",
          "2000-01-06T15:36:19",
          "2000-01-01T16:40:19",
          "2000-01-02T00:38:19",
          "2000-01-01T18:40:19",
          "2000-01-01T02:14:19",
          "2000-01-01T14:38:19",
          "2000-01-01T18:23:19",
          "2000-01-10T23:44:19",
          "2000-01-11T02:24:19",
          "2000-01-07T02:26:19",
          "2000-01-08T00:26:19",
          "2000-01-08T20:58:19",
          "2000-01-16T20:30:19",
          "2000-01-09T18:36:19",
          "2000-01-01T06:27:19",
          "2000-01-01T21:40:19",
          "2000-01-03T07:23:19",
          "2000-01-01T02:04:19",
          "2000-01-12T17:04:19",
          "2000-01-21T23:31:19",
          "2000-01-05T20:15:19",
          "2000-01-05T22:15:19",
          "2000-01-12T17:55:19",
          "2000-01-02T21:42:19",
          "2000-01-01T17:57:19",
          "2000-01-02T14:37:19",
          "2000-01-02T12:29:19",
          "2000-01-09T23:08:19",
          "2000-01-08T11:05:19",
          "2000-01-05T00:35:19",
          "2000-01-03T22:45:19",
          "2000-01-09T20:24:19",
          "2000-01-16T11:57:19",
          "2000-01-16T13:07:19",
          "2000-01-02T04:49:19",
          "2000-01-03T23:19:19",
          "2000-01-04T00:49:19",
          "2000-01-04T22:19:19",
          "2000-01-02T01:35:19"
         ],
         "customdata": [
          [
           20167242,
           "Cath Lab (Sent)"
          ],
          [
           20367176,
           "Cath Lab (Sent)"
          ],
          [
           20413622,
           "Cath Lab (Sent)"
          ],
          [
           20413622,
           "Cath Lab (Received)"
          ],
          [
           20413622,
           "Cath Lab (Sent)"
          ],
          [
           20413622,
           "Cath Lab (Received)"
          ],
          [
           20428190,
           "Cath Lab (Sent)"
          ],
          [
           20504840,
           "Cath Lab (Sent)"
          ],
          [
           20504840,
           "Cath Lab (Received)"
          ],
          [
           20796166,
           "Cardiac Cath"
          ],
          [
           20821670,
           "Cardiac Cath"
          ],
          [
           20846035,
           "Cardiac Cath"
          ],
          [
           20882340,
           "Cath Lab (Sent)"
          ],
          [
           20882340,
           "Cath Lab (Received)"
          ],
          [
           20899737,
           "Cath Lab (Sent)"
          ],
          [
           20899737,
           "Cath Lab (Received)"
          ],
          [
           20908820,
           "Cardiac Cath"
          ],
          [
           21086123,
           "Cath Lab (Received)"
          ],
          [
           21224034,
           "Cath Lab (Sent)"
          ],
          [
           21224034,
           "Cardiac Cath"
          ],
          [
           21380778,
           "Cardiac Cath"
          ],
          [
           21491433,
           "Cardiac Cath"
          ],
          [
           21495589,
           "Cath Lab (Sent)"
          ],
          [
           21523552,
           "Cardiac Cath"
          ],
          [
           21582058,
           "Cardiac Cath"
          ],
          [
           21618127,
           "Cardiac Cath"
          ],
          [
           21794037,
           "Cath Lab (Sent)"
          ],
          [
           21858758,
           "Cardiac Cath"
          ],
          [
           21891458,
           "Cardiac Cath"
          ],
          [
           22038227,
           "Cardiac Cath"
          ],
          [
           22179911,
           "Cardiac Cath"
          ],
          [
           22371163,
           "Cardiac Cath"
          ],
          [
           22425734,
           "Cardiac Cath"
          ],
          [
           22440108,
           "Cath Lab (Sent)"
          ],
          [
           22440108,
           "Cath Lab (Received)"
          ],
          [
           22533821,
           "Cardiac Cath"
          ],
          [
           22581024,
           "Cardiac Cath"
          ],
          [
           22798677,
           "Cath Lab (Sent)"
          ],
          [
           22798677,
           "Cath Lab (Received)"
          ],
          [
           22848187,
           "Cardiac Cath"
          ],
          [
           22925444,
           "Cardiac Cath"
          ],
          [
           23150740,
           "Cath Lab (Sent)"
          ],
          [
           23254228,
           "Cardiac Cath"
          ],
          [
           23346584,
           "Cardiac Cath"
          ],
          [
           23471589,
           "Cardiac Cath"
          ],
          [
           23492493,
           "Cath Lab (Sent)"
          ],
          [
           23526876,
           "Cardiac Cath"
          ],
          [
           23531962,
           "Cardiac Cath"
          ],
          [
           23613589,
           "Cath Lab (Sent)"
          ],
          [
           23613589,
           "Cath Lab (Sent)"
          ],
          [
           23613589,
           "Cath Lab (Received)"
          ],
          [
           23671820,
           "Cath Lab (Sent)"
          ],
          [
           23891344,
           "Cardiac Cath"
          ],
          [
           23921396,
           "Cardiac Cath"
          ],
          [
           23921396,
           "Cardiac Cath"
          ],
          [
           24078757,
           "Cardiac Cath"
          ],
          [
           24103406,
           "Cardiac Cath"
          ],
          [
           24407025,
           "Cardiac Cath"
          ],
          [
           24487999,
           "Cath Lab (Sent)"
          ],
          [
           24487999,
           "Cath Lab (Received)"
          ],
          [
           24524153,
           "Cardiac Cath"
          ],
          [
           24571829,
           "Cardiac Cath"
          ],
          [
           24582156,
           "Cardiac Cath"
          ],
          [
           24582156,
           "Cardiac Cath"
          ],
          [
           24726754,
           "Cardiac Cath"
          ],
          [
           24857256,
           "Cardiac Cath"
          ],
          [
           24878015,
           "Cardiac Cath"
          ],
          [
           24987624,
           "Cath Lab (Sent)"
          ],
          [
           24987624,
           "Cath Lab (Received)"
          ],
          [
           24988265,
           "Cath Lab (Sent)"
          ],
          [
           24988265,
           "Cath Lab (Received)"
          ],
          [
           25022568,
           "Cardiac Cath"
          ],
          [
           25100189,
           "Cardiac Cath"
          ],
          [
           25190591,
           "Cardiac Cath"
          ],
          [
           25238765,
           "Cardiac Cath"
          ],
          [
           25238943,
           "Cardiac Cath"
          ],
          [
           25265986,
           "Cardiac Cath"
          ],
          [
           25265986,
           "Cardiac Cath"
          ],
          [
           25340799,
           "Cardiac Cath"
          ],
          [
           25384000,
           "Cardiac Cath"
          ],
          [
           25630745,
           "Cardiac Cath"
          ],
          [
           25849202,
           "Cardiac Cath"
          ],
          [
           25919278,
           "Cardiac Cath"
          ],
          [
           26280197,
           "Cardiac Cath"
          ],
          [
           26304404,
           "Cath Lab (Sent)"
          ],
          [
           26344582,
           "Cardiac Cath"
          ],
          [
           26460068,
           "Cath Lab (Sent)"
          ],
          [
           26557141,
           "Cardiac Cath"
          ],
          [
           26650166,
           "Cath Lab (Sent)"
          ],
          [
           26785758,
           "Cardiac Cath"
          ],
          [
           26832373,
           "Cardiac Cath"
          ],
          [
           26877857,
           "Cath Lab (Sent)"
          ],
          [
           26877857,
           "Cath Lab (Received)"
          ],
          [
           26945910,
           "Cardiac Cath"
          ],
          [
           26947371,
           "Cardiac Cath"
          ],
          [
           27229141,
           "Cardiac Cath"
          ],
          [
           27245455,
           "Cardiac Cath"
          ],
          [
           27295973,
           "Cardiac Cath"
          ],
          [
           27356533,
           "Cardiac Cath"
          ],
          [
           27409048,
           "Cardiac Cath"
          ],
          [
           27497725,
           "Cath Lab (Sent)"
          ],
          [
           27497725,
           "Cath Lab (Received)"
          ],
          [
           27504332,
           "Cardiac Cath"
          ],
          [
           27532830,
           "Cath Lab (Sent)"
          ],
          [
           27532830,
           "Cath Lab (Received)"
          ],
          [
           27535812,
           "Cath Lab (Sent)"
          ],
          [
           27568834,
           "Cardiac Cath"
          ],
          [
           27628219,
           "Cath Lab (Sent)"
          ],
          [
           27732259,
           "Cardiac Cath"
          ],
          [
           27735698,
           "Cardiac Cath"
          ],
          [
           27810854,
           "Cardiac Cath"
          ],
          [
           27814240,
           "Cath Lab (Received)"
          ],
          [
           27973178,
           "Cardiac Cath"
          ],
          [
           28062533,
           "Cath Lab (Sent)"
          ],
          [
           28062533,
           "Cath Lab (Received)"
          ],
          [
           28241689,
           "Cath Lab (Sent)"
          ],
          [
           28241689,
           "Cath Lab (Received)"
          ],
          [
           28290120,
           "Cardiac Cath"
          ],
          [
           28290120,
           "Cardiac Cath"
          ],
          [
           28481207,
           "Cardiac Cath"
          ],
          [
           28522694,
           "Cardiac Cath"
          ],
          [
           28526823,
           "Cardiac Cath"
          ],
          [
           28560179,
           "Cardiac Cath"
          ],
          [
           28591150,
           "Cardiac Cath"
          ],
          [
           28764595,
           "Cath Lab (Sent)"
          ],
          [
           28852886,
           "Cardiac Cath"
          ],
          [
           28878078,
           "Cardiac Cath"
          ],
          [
           28889493,
           "Cardiac Cath"
          ],
          [
           28948855,
           "Cath Lab (Sent)"
          ],
          [
           28948855,
           "Cath Lab (Received)"
          ],
          [
           28948855,
           "Cardiac Cath"
          ],
          [
           29034839,
           "Cardiac Cath"
          ],
          [
           29088350,
           "Cath Lab (Sent)"
          ],
          [
           29088350,
           "Cath Lab (Sent)"
          ],
          [
           29137213,
           "Cardiac Cath"
          ],
          [
           29201840,
           "Cardiac Cath"
          ],
          [
           29432257,
           "Cardiac Cath"
          ],
          [
           29487787,
           "Cardiac Cath"
          ],
          [
           29569727,
           "Cath Lab (Sent)"
          ],
          [
           29636680,
           "Cardiac Cath"
          ],
          [
           29774156,
           "Cath Lab (Sent)"
          ],
          [
           29774156,
           "Cath Lab (Received)"
          ],
          [
           29815513,
           "Cath Lab (Sent)"
          ],
          [
           29815513,
           "Cath Lab (Sent)"
          ],
          [
           29815513,
           "Cath Lab (Received)"
          ],
          [
           29815513,
           "Cath Lab (Received)"
          ],
          [
           29871031,
           "Cardiac Cath"
          ]
         ],
         "hovertemplate": "color=Outcome<br>intime=%{base}<br>outtime=%{x}<br>id=%{y}<br>hadm_id=%{customdata[0]}<br>detail=%{customdata[1]}<extra></extra>",
         "legendgroup": "Outcome",
         "marker": {
          "color": "#ab63fa"
         },
         "name": "Outcome",
         "offsetgroup": "Outcome",
         "orientation": "h",
         "showlegend": true,
         "textposition": "auto",
         "type": "bar",
         "width": 0.2,
         "x": [
          86460000,
          86460000,
          86460000,
          86460000,
          86460000,
          86460000,
          86460000,
          86460000,
          86460000,
          86460000,
          86460000,
          86460000,
          86460000,
          86460000,
          86460000,
          86460000,
          86460000,
          86460000,
          86460000,
          86460000,
          86460000,
          86460000,
          86460000,
          86460000,
          86460000,
          86460000,
          86460000,
          86460000,
          86460000,
          86460000,
          86460000,
          86460000,
          86460000,
          86460000,
          86460000,
          86460000,
          86460000,
          86460000,
          86460000,
          86460000,
          86460000,
          86460000,
          86460000,
          86460000,
          86460000,
          86460000,
          86460000,
          86460000,
          86460000,
          86460000,
          86460000,
          86460000,
          86460000,
          86460000,
          86460000,
          86460000,
          86460000,
          86460000,
          86460000,
          86460000,
          86460000,
          86460000,
          86460000,
          86460000,
          86460000,
          86460000,
          86460000,
          86460000,
          86460000,
          86460000,
          86460000,
          86460000,
          86460000,
          86460000,
          86460000,
          86460000,
          86460000,
          86460000,
          86460000,
          86460000,
          86460000,
          86460000,
          86460000,
          86460000,
          86460000,
          86460000,
          86460000,
          86460000,
          86460000,
          86460000,
          86460000,
          86460000,
          86460000,
          86460000,
          86460000,
          86460000,
          86460000,
          86460000,
          86460000,
          86460000,
          86460000,
          86460000,
          86460000,
          86460000,
          86460000,
          86460000,
          86460000,
          86460000,
          86460000,
          86460000,
          86460000,
          86460000,
          86460000,
          86460000,
          86460000,
          86460000,
          86460000,
          86460000,
          86460000,
          86460000,
          86460000,
          86460000,
          86460000,
          86460000,
          86460000,
          86460000,
          86460000,
          86460000,
          86460000,
          86460000,
          86460000,
          86460000,
          86460000,
          86460000,
          86460000,
          86460000,
          86460000,
          86460000,
          86460000,
          86460000,
          86460000,
          86460000,
          86460000,
          86460000,
          86460000,
          86460000,
          86460000
         ],
         "xaxis": "x",
         "y": [
          1.2,
          2.2,
          3.2,
          3.2,
          3.2,
          3.2,
          4.2,
          5.2,
          5.2,
          6.2,
          7.2,
          8.2,
          9.2,
          9.2,
          10.2,
          10.2,
          11.2,
          12.2,
          13.2,
          13.2,
          14.2,
          15.2,
          16.2,
          17.2,
          18.2,
          19.2,
          20.2,
          21.2,
          22.2,
          23.2,
          24.2,
          25.2,
          26.2,
          27.2,
          27.2,
          28.2,
          29.2,
          30.2,
          30.2,
          31.2,
          32.2,
          33.2,
          34.2,
          35.2,
          36.2,
          37.2,
          38.2,
          39.2,
          40.2,
          40.2,
          40.2,
          41.2,
          42.2,
          43.2,
          43.2,
          44.2,
          45.2,
          46.2,
          47.2,
          47.2,
          48.2,
          49.2,
          50.2,
          50.2,
          51.2,
          52.2,
          53.2,
          54.2,
          54.2,
          55.2,
          55.2,
          56.2,
          57.2,
          58.2,
          59.2,
          60.2,
          61.2,
          61.2,
          62.2,
          63.2,
          64.2,
          65.2,
          66.2,
          67.2,
          68.2,
          69.2,
          70.2,
          71.2,
          72.2,
          73.2,
          74.2,
          75.2,
          75.2,
          76.2,
          77.2,
          78.2,
          79.2,
          80.2,
          81.2,
          82.2,
          83.2,
          83.2,
          84.2,
          85.2,
          85.2,
          86.2,
          87.2,
          88.2,
          89.2,
          90.2,
          91.2,
          92.2,
          93.2,
          94.2,
          94.2,
          95.2,
          95.2,
          96.2,
          96.2,
          97.2,
          98.2,
          99.2,
          100.2,
          101.2,
          102.2,
          103.2,
          104.2,
          105.2,
          106.2,
          106.2,
          106.2,
          107.2,
          108.2,
          108.2,
          109.2,
          110.2,
          111.2,
          112.2,
          113.2,
          114.2,
          115.2,
          115.2,
          116.2,
          116.2,
          116.2,
          116.2,
          117.2
         ],
         "yaxis": "y"
        },
        {
         "alignmentgroup": "True",
         "base": [
          "2000-01-05T00:08:59",
          "2000-01-04T15:52:56",
          "2000-01-12T05:59:27",
          "2000-01-15T18:36:53",
          "2000-01-06T14:30:32",
          "2000-01-05T10:15:21",
          "2000-01-05T20:50:03",
          "2000-01-15T16:24:08",
          "2000-01-05T06:12:37",
          "2000-01-09T23:52:31",
          "2000-01-24T22:49:10",
          "2000-01-09T21:18:33",
          "2000-01-12T18:26:45",
          "2000-01-14T05:50:59",
          "2000-01-06T21:35:04",
          "2000-01-01T03:17:19",
          "2000-01-07T20:45:18",
          "2000-01-16T13:59:43",
          "2000-01-21T08:16:36",
          "2000-01-13T16:03:08",
          "2000-01-05T03:11:11",
          "2000-01-01T01:19:12",
          "2000-01-03T10:11:27",
          "2000-01-03T10:44:01",
          "2000-01-08T00:25:26",
          "2000-01-09T01:18:16",
          "2000-01-13T02:06:21",
          "2000-01-16T17:38:37",
          "2000-01-06T01:18:38",
          "2000-01-14T13:45:30",
          "2000-01-15T11:54:15",
          "2000-01-08T19:54:53",
          "2000-01-01T02:34:32",
          "2000-01-08T14:50:03",
          "2000-01-06T16:46:16",
          "2000-01-05T00:18:08",
          "2000-01-15T08:40:37",
          "2000-01-04T23:45:03",
          "2000-01-01T02:06:27",
          "2000-01-01T17:09:10",
          "2000-01-03T20:17:13",
          "2000-01-03T20:19:44",
          "2000-01-01T01:56:06",
          "2000-01-03T15:45:57",
          "2000-01-06T23:15:45",
          "2000-01-10T07:47:33",
          "2000-01-03T02:38:10",
          "2000-01-13T18:41:44",
          "2000-01-06T22:43:27",
          "2000-01-06T14:06:52",
          "2000-01-05T19:43:54",
          "2000-01-18T11:21:48",
          "2000-01-01T00:41:37",
          "2000-01-03T23:43:23",
          "2000-01-04T16:02:43",
          "2000-01-04T22:05:28",
          "2000-01-15T03:40:38",
          "2000-01-06T12:19:44",
          "2000-01-13T02:38:02",
          "2000-01-25T08:16:57",
          "2000-01-02T18:01:23",
          "2000-01-05T18:50:22",
          "2000-01-05T19:07:11",
          "2000-01-07T17:25:04",
          "2000-01-19T14:50:51",
          "2000-01-10T08:31:31",
          "2000-01-09T00:28:03",
          "2000-01-09T00:29:51",
          "2000-01-01T01:56:34",
          "2000-01-08T23:29:50",
          "2000-01-11T20:16:53",
          "2000-01-18T18:29:31",
          "2000-01-01T02:50:11",
          "2000-01-10T09:48:11",
          "2000-01-01T03:51:14",
          "2000-01-06T04:15:40",
          "2000-02-14T09:00:14",
          "2000-01-12T05:41:34",
          "2000-01-17T06:55:50",
          "2000-01-10T21:36:47",
          "2000-01-05T16:06:09",
          "2000-01-04T22:51:36",
          "2000-01-09T17:45:43",
          "2000-01-08T04:00:14",
          "2000-01-07T16:32:00",
          "2000-01-03T18:44:13",
          "2000-01-08T16:05:37",
          "2000-01-07T00:50:13",
          "2000-01-06T20:44:12",
          "2000-01-04T20:38:43",
          "2000-01-01T09:52:34",
          "2000-01-14T10:29:57",
          "2000-01-17T06:54:39",
          "2000-01-09T08:22:36",
          "2000-01-13T00:58:50",
          "2000-01-10T11:41:58",
          "2000-01-11T16:11:20",
          "2000-01-10T21:25:57",
          "2000-01-14T18:01:51",
          "2000-01-07T16:17:46",
          "2000-01-20T22:20:57",
          "2000-01-09T04:05:17",
          "2000-01-26T22:09:15",
          "2000-02-03T12:41:52",
          "2000-01-10T03:19:41",
          "2000-01-13T02:15:35",
          "2000-01-09T18:54:16",
          "2000-01-09T21:20:34",
          "2000-01-24T22:26:52",
          "2000-01-24T22:33:46",
          "2000-01-04T08:41:54",
          "2000-01-14T00:35:34",
          "2000-01-30T16:40:30",
          "2000-01-10T15:39:57",
          "2000-01-04T05:02:02",
          "2000-01-04T02:48:28",
          "2000-01-04T10:57:43",
          "2000-01-01T03:10:19",
          "2000-01-01T04:38:03",
          "2000-01-03T17:01:41",
          "2000-01-07T05:48:57",
          "2000-01-11T23:51:41",
          "2000-01-18T04:25:26",
          "2000-01-01T01:56:30",
          "2000-01-01T01:56:26",
          "2000-01-05T23:39:40",
          "2000-01-05T23:48:19",
          "2000-01-06T03:27:32",
          "2000-01-10T00:33:57",
          "2000-01-05T09:45:47",
          "2000-01-13T04:03:56",
          "2000-01-18T02:50:56",
          "2000-01-18T03:19:53",
          "2000-01-18T03:20:44",
          "2000-01-18T04:14:15",
          "2000-01-29T05:19:46",
          "2000-02-11T07:51:12",
          "2000-02-15T15:16:22",
          "2000-01-21T02:51:42",
          "2000-01-10T18:09:26",
          "2000-01-09T05:26:33",
          "2000-01-17T00:20:16",
          "2000-01-18T22:32:00",
          "2000-01-15T20:10:42",
          "2000-01-15T23:18:34",
          "2000-01-06T23:37:14",
          "2000-01-09T01:23:59",
          "2000-01-07T22:33:02",
          "2000-01-04T00:57:26",
          "2000-01-04T20:31:59",
          "2000-01-13T19:59:11",
          "2000-01-01T01:56:13",
          "2000-01-10T10:16:56",
          "2000-01-08T13:51:35",
          "2000-01-13T18:41:57",
          "2000-01-01T01:56:20",
          "2000-01-20T22:27:23",
          "2000-01-20T23:09:30",
          "2000-01-06T21:51:18",
          "2000-01-10T08:15:31"
         ],
         "customdata": [
          [
           20167242,
           "Cardiology Surgery Intermediate"
          ],
          [
           20367176,
           "Cardiology Surgery Intermediate"
          ],
          [
           20413622,
           "Cardiology Surgery Intermediate"
          ],
          [
           20413622,
           "Cardiology Surgery Intermediate"
          ],
          [
           20504840,
           "Cardiology Surgery Intermediate"
          ],
          [
           20821670,
           "Cardiac Surgery"
          ],
          [
           20846035,
           "Cardiac Surgery"
          ],
          [
           20882340,
           "Cardiology Surgery Intermediate"
          ],
          [
           20899737,
           "Cardiology Surgery Intermediate"
          ],
          [
           20899737,
           "Cardiology Surgery Intermediate"
          ],
          [
           20908820,
           "Cardiac Surgery"
          ],
          [
           21086123,
           "Cardiac Surgery"
          ],
          [
           21086123,
           "Cardiac Surgery"
          ],
          [
           21224034,
           "Cardiology Surgery Intermediate"
          ],
          [
           21380778,
           "Cardiac Surgery"
          ],
          [
           21495589,
           "Cardiology Surgery Intermediate"
          ],
          [
           21495589,
           "Cardiology Surgery Intermediate"
          ],
          [
           21495589,
           "Cardiology Surgery Intermediate"
          ],
          [
           21523552,
           "Cardiac Surgery"
          ],
          [
           21794037,
           "Cardiac Surgery"
          ],
          [
           21858758,
           "Cardiac Surgery"
          ],
          [
           21891458,
           "Cardiac Surgery"
          ],
          [
           21891458,
           "Cardiac Surgery"
          ],
          [
           21891458,
           "Cardiac Surgery"
          ],
          [
           22038227,
           "Cardiac Surgery"
          ],
          [
           22038227,
           "Cardiac Surgery"
          ],
          [
           22179911,
           "Cardiac Surgery"
          ],
          [
           22179911,
           "Cardiac Surgery"
          ],
          [
           22371163,
           "Cardiac Surgery"
          ],
          [
           22425734,
           "Cardiac Surgery"
          ],
          [
           22425734,
           "Cardiac Surgery"
          ],
          [
           22440108,
           "Cardiac Surgery"
          ],
          [
           22533821,
           "Cardiac Surgery"
          ],
          [
           22581024,
           "Cardiac Surgery"
          ],
          [
           22798677,
           "Cardiology Surgery Intermediate"
          ],
          [
           22925444,
           "Cardiac Surgery"
          ],
          [
           22925444,
           "Cardiac Surgery"
          ],
          [
           23150740,
           "Cardiology Surgery Intermediate"
          ],
          [
           23471589,
           "Cardiac Surgery"
          ],
          [
           23471589,
           "Cardiac Surgery"
          ],
          [
           23471589,
           "Cardiac Surgery"
          ],
          [
           23471589,
           "Cardiac Surgery"
          ],
          [
           23492493,
           "Cardiology Surgery Intermediate"
          ],
          [
           23492493,
           "Cardiology Surgery Intermediate"
          ],
          [
           23492493,
           "Cardiology Surgery Intermediate"
          ],
          [
           23492493,
           "Cardiology Surgery Intermediate"
          ],
          [
           23526876,
           "Cardiac Surgery"
          ],
          [
           23531962,
           "Cardiac Surgery"
          ],
          [
           23613589,
           "Cardiology Surgery Intermediate"
          ],
          [
           23671820,
           "Cardiology Surgery Intermediate"
          ],
          [
           23891344,
           "Cardiac Surgery"
          ],
          [
           23921396,
           "Cardiac Surgery"
          ],
          [
           24078757,
           "Cardiac Surgery"
          ],
          [
           24078757,
           "Cardiac Surgery"
          ],
          [
           24103406,
           "Cardiac Surgery"
          ],
          [
           24103406,
           "Cardiac Surgery"
          ],
          [
           24407025,
           "Cardiac Surgery"
          ],
          [
           24524153,
           "Cardiac Surgery"
          ],
          [
           24571829,
           "Cardiac Surgery"
          ],
          [
           24582156,
           "Cardiac Surgery"
          ],
          [
           24726754,
           "Cardiac Surgery"
          ],
          [
           24726754,
           "Cardiac Surgery"
          ],
          [
           24726754,
           "Cardiac Surgery"
          ],
          [
           24857256,
           "Cardiac Surgery"
          ],
          [
           24878015,
           "Cardiac Surgery"
          ],
          [
           24987624,
           "Cardiology Surgery Intermediate"
          ],
          [
           24988265,
           "Cardiology Surgery Intermediate"
          ],
          [
           24988265,
           "Cardiology Surgery Intermediate"
          ],
          [
           25022568,
           "Cardiac Surgery"
          ],
          [
           25022568,
           "Cardiac Surgery"
          ],
          [
           25022568,
           "Cardiac Surgery"
          ],
          [
           25100189,
           "Cardiac Surgery"
          ],
          [
           25190591,
           "Cardiac Surgery"
          ],
          [
           25190591,
           "Cardiac Surgery"
          ],
          [
           25238765,
           "Cardiac Surgery"
          ],
          [
           25238765,
           "Cardiac Surgery"
          ],
          [
           25238765,
           "Cardiac Surgery"
          ],
          [
           25238943,
           "Cardiac Surgery"
          ],
          [
           25238943,
           "Cardiac Surgery"
          ],
          [
           25265986,
           "Cardiac Surgery"
          ],
          [
           25340799,
           "Cardiac Surgery"
          ],
          [
           25384000,
           "Cardiac Surgery"
          ],
          [
           25630745,
           "Cardiac Surgery"
          ],
          [
           25849202,
           "Cardiac Surgery"
          ],
          [
           25919278,
           "Cardiac Surgery"
          ],
          [
           26280197,
           "Cardiac Surgery"
          ],
          [
           26280197,
           "Cardiac Surgery"
          ],
          [
           26304404,
           "Cardiology Surgery Intermediate"
          ],
          [
           26344582,
           "Cardiac Surgery"
          ],
          [
           26460068,
           "Cardiology Surgery Intermediate"
          ],
          [
           26557141,
           "Surgery/Trauma"
          ],
          [
           26557141,
           "Cardiac Surgery"
          ],
          [
           26557141,
           "Cardiac Surgery"
          ],
          [
           26650166,
           "Cardiac Surgery"
          ],
          [
           26785758,
           "Cardiac Surgery"
          ],
          [
           26832373,
           "Cardiac Surgery"
          ],
          [
           26877857,
           "Cardiology Surgery Intermediate"
          ],
          [
           26945910,
           "Cardiac Surgery"
          ],
          [
           26947371,
           "Cardiac Surgery"
          ],
          [
           27229141,
           "Cardiac Surgery"
          ],
          [
           27245455,
           "Cardiac Surgery"
          ],
          [
           27295973,
           "Cardiology Surgery Intermediate"
          ],
          [
           27356533,
           "Cardiac Surgery"
          ],
          [
           27409048,
           "Cardiac Surgery"
          ],
          [
           27497725,
           "Cardiology Surgery Intermediate"
          ],
          [
           27497725,
           "Cardiology Surgery Intermediate"
          ],
          [
           27504332,
           "Cardiac Surgery"
          ],
          [
           27504332,
           "Cardiac Surgery"
          ],
          [
           27532830,
           "Cardiology Surgery Intermediate"
          ],
          [
           27532830,
           "Cardiology Surgery Intermediate"
          ],
          [
           27535812,
           "Cardiac Surgery"
          ],
          [
           27535812,
           "Cardiac Surgery"
          ],
          [
           27568834,
           "Cardiac Surgery"
          ],
          [
           27628219,
           "Cardiology Surgery Intermediate"
          ],
          [
           27735698,
           "Cardiac Surgery"
          ],
          [
           27810854,
           "Cardiac Surgery"
          ],
          [
           27810854,
           "Cardiac Surgery"
          ],
          [
           27814240,
           "Cardiac Surgery"
          ],
          [
           27814240,
           "Cardiac Surgery"
          ],
          [
           27814240,
           "Cardiac Surgery"
          ],
          [
           27973178,
           "Cardiac Surgery"
          ],
          [
           28241689,
           "Cardiology Surgery Intermediate"
          ],
          [
           28290120,
           "Cardiac Surgery"
          ],
          [
           28522694,
           "Cardiology Surgery Intermediate"
          ],
          [
           28526823,
           "Cardiac Surgery"
          ],
          [
           28526823,
           "Cardiac Surgery"
          ],
          [
           28526823,
           "Cardiac Surgery"
          ],
          [
           28526823,
           "Cardiac Surgery"
          ],
          [
           28526823,
           "Cardiac Surgery"
          ],
          [
           28560179,
           "Cardiac Surgery"
          ],
          [
           28560179,
           "Cardiac Surgery"
          ],
          [
           28560179,
           "Cardiac Surgery"
          ],
          [
           28560179,
           "Cardiac Surgery"
          ],
          [
           28560179,
           "Cardiac Surgery"
          ],
          [
           28560179,
           "Cardiac Surgery"
          ],
          [
           28591150,
           "Cardiac Surgery"
          ],
          [
           28591150,
           "Cardiac Surgery"
          ],
          [
           28591150,
           "Cardiac Surgery"
          ],
          [
           28764595,
           "Cardiac Surgery"
          ],
          [
           28852886,
           "Cardiac Surgery"
          ],
          [
           28878078,
           "Cardiac Surgery"
          ],
          [
           28878078,
           "Cardiac Surgery"
          ],
          [
           28878078,
           "Cardiac Surgery"
          ],
          [
           28889493,
           "Cardiac Surgery"
          ],
          [
           28889493,
           "Cardiac Surgery"
          ],
          [
           28948855,
           "Surgery/Vascular/Intermediate"
          ],
          [
           29034839,
           "Cardiac Surgery"
          ],
          [
           29088350,
           "Cardiology Surgery Intermediate"
          ],
          [
           29137213,
           "Cardiac Surgery"
          ],
          [
           29137213,
           "Cardiac Surgery"
          ],
          [
           29137213,
           "Cardiac Surgery"
          ],
          [
           29201840,
           "Cardiac Surgery"
          ],
          [
           29201840,
           "Cardiac Surgery"
          ],
          [
           29432257,
           "Cardiology Surgery Intermediate"
          ],
          [
           29487787,
           "Cardiac Surgery"
          ],
          [
           29636680,
           "Cardiac Surgery"
          ],
          [
           29636680,
           "Cardiac Surgery"
          ],
          [
           29774156,
           "Cardiology Surgery Intermediate"
          ],
          [
           29815513,
           "Cardiology Surgery Intermediate"
          ],
          [
           29871031,
           "Cardiac Surgery"
          ]
         ],
         "hovertemplate": "color=Surgery<br>intime=%{base}<br>outtime=%{x}<br>id=%{y}<br>hadm_id=%{customdata[0]}<br>detail=%{customdata[1]}<extra></extra>",
         "legendgroup": "Surgery",
         "marker": {
          "color": "#FFA15A"
         },
         "name": "Surgery",
         "offsetgroup": "Surgery",
         "orientation": "h",
         "showlegend": true,
         "textposition": "auto",
         "type": "bar",
         "width": 0.2,
         "x": [
          1003881000,
          255273000,
          26797000,
          209434000,
          93965000,
          258943000,
          269679000,
          622980000,
          123817000,
          600930000,
          365345000,
          248892000,
          178874000,
          1249052000,
          182633000,
          274653000,
          493539000,
          86881000,
          747405000,
          442956000,
          162180000,
          67487000,
          1954000,
          310713000,
          89570000,
          243182000,
          315136000,
          186152000,
          250222000,
          79725000,
          362758000,
          357537000,
          62749000,
          255684000,
          953541000,
          242409000,
          61591000,
          166454000,
          53466000,
          12979000,
          151000,
          359197000,
          74118000,
          202263000,
          289908000,
          428979000,
          250774000,
          444741000,
          768175000,
          365529000,
          415287000,
          333876000,
          255706000,
          78103000,
          21765000,
          250825000,
          172636000,
          403975000,
          247178000,
          670772000,
          76733000,
          1009000,
          358070000,
          263397000,
          192388000,
          87401000,
          108000,
          350196000,
          11452000,
          247623000,
          256101000,
          170822000,
          74302000,
          581797000,
          58659000,
          414039000,
          325743000,
          51000,
          344547000,
          243599000,
          526051000,
          266436000,
          168548000,
          272754000,
          365295000,
          422484000,
          264145000,
          282206000,
          189843000,
          505959000,
          83718000,
          38560000,
          178596000,
          501356000,
          330455000,
          606875000,
          785057000,
          236764000,
          529107000,
          261887000,
          89259000,
          345874000,
          355088000,
          919300000,
          129906000,
          256487000,
          8778000,
          80365000,
          414000,
          462146000,
          209565000,
          272363000,
          436658000,
          622084000,
          242387000,
          29355000,
          500096000,
          5264000,
          50155000,
          353335000,
          239696000,
          163674000,
          243458000,
          41590000,
          69542000,
          519000,
          13153000,
          46267000,
          81889000,
          471414000,
          427620000,
          1737000,
          51000,
          3211000,
          183090000,
          1132286000,
          372310000,
          380699000,
          891346000,
          343151000,
          214550000,
          166304000,
          167730000,
          11272000,
          143360000,
          205661000,
          254844000,
          163316000,
          70473000,
          411505000,
          251876000,
          105018000,
          64656000,
          185154000,
          447952000,
          68392000,
          278252000,
          975642000,
          280748000,
          243363000
         ],
         "xaxis": "x",
         "y": [
          1,
          2,
          3,
          3,
          5,
          7,
          8,
          9,
          10,
          10,
          11,
          12,
          12,
          13,
          14,
          16,
          16,
          16,
          17,
          20,
          21,
          22,
          22,
          22,
          23,
          23,
          24,
          24,
          25,
          26,
          26,
          27,
          28,
          29,
          30,
          32,
          32,
          33,
          36,
          36,
          36,
          36,
          37,
          37,
          37,
          37,
          38,
          39,
          40,
          41,
          42,
          43,
          44,
          44,
          45,
          45,
          46,
          48,
          49,
          50,
          51,
          51,
          51,
          52,
          53,
          54,
          55,
          55,
          56,
          56,
          56,
          57,
          58,
          58,
          59,
          59,
          59,
          60,
          60,
          61,
          62,
          63,
          64,
          65,
          66,
          67,
          67,
          68,
          69,
          70,
          71,
          71,
          71,
          72,
          73,
          74,
          75,
          76,
          77,
          78,
          79,
          80,
          81,
          82,
          83,
          83,
          84,
          84,
          85,
          85,
          86,
          86,
          87,
          88,
          90,
          91,
          91,
          92,
          92,
          92,
          93,
          95,
          96,
          98,
          99,
          99,
          99,
          99,
          99,
          100,
          100,
          100,
          100,
          100,
          100,
          101,
          101,
          101,
          102,
          103,
          104,
          104,
          104,
          105,
          105,
          106,
          107,
          108,
          109,
          109,
          109,
          110,
          110,
          111,
          112,
          114,
          114,
          115,
          116,
          117
         ],
         "yaxis": "y"
        },
        {
         "alignmentgroup": "True",
         "base": [
          "2000-01-02T06:00:58",
          "2000-01-01T04:23:19",
          "2000-01-03T16:15:51",
          "2000-01-01T02:35:19",
          "2000-01-03T14:18:03",
          "2000-01-03T16:13:55",
          "2000-01-01T04:07:19",
          "2000-01-07T17:00:28",
          "2000-01-01T04:42:19",
          "2000-01-01T03:04:19",
          "2000-01-04T16:49:34",
          "2000-01-06T16:36:14",
          "2000-01-05T19:00:56",
          "2000-01-02T21:16:04",
          "2000-01-01T01:56:33",
          "2000-01-02T07:10:35",
          "2000-01-08T02:54:32",
          "2000-01-08T03:24:56",
          "2000-01-04T07:34:52",
          "2000-01-03T23:11:52",
          "2000-01-04T14:17:07",
          "2000-01-01T20:03:59",
          "2000-01-01T01:56:35",
          "2000-01-01T23:27:49",
          "2000-01-05T06:46:07",
          "2000-01-10T16:40:46",
          "2000-01-01T01:56:32",
          "2000-01-01T23:38:24",
          "2000-01-02T18:35:01",
          "2000-01-01T20:00:21",
          "2000-01-01T01:57:00",
          "2000-01-02T13:09:12",
          "2000-01-02T14:16:56",
          "2000-01-06T08:32:13",
          "2000-01-02T19:43:08",
          "2000-01-07T19:38:17",
          "2000-01-05T15:49:06",
          "2000-01-01T01:56:23",
          "2000-01-01T16:57:33",
          "2000-01-01T20:45:29",
          "2000-01-01T22:31:24",
          "2000-01-01T03:04:19",
          "2000-01-03T09:41:47",
          "2000-01-01T03:42:19",
          "2000-01-04T10:02:16",
          "2000-01-03T07:32:15",
          "2000-01-11T20:37:40",
          "2000-01-04T21:25:06",
          "2000-01-01T03:39:19",
          "2000-01-01T19:13:39",
          "2000-01-01T22:24:15",
          "2000-01-02T12:54:25",
          "2000-01-02T13:22:37",
          "2000-01-01T02:51:19",
          "2000-01-01T03:56:44",
          "2000-01-01T08:41:15",
          "2000-01-02T17:32:44",
          "2000-01-01T03:08:19",
          "2000-01-05T20:11:59",
          "2000-01-01T01:56:36",
          "2000-01-01T01:57:19",
          "2000-01-03T13:59:39",
          "2000-01-01T03:23:19",
          "2000-01-09T20:41:03",
          "2000-01-11T12:46:47",
          "2000-01-01T03:20:19",
          "2000-01-07T14:53:10",
          "2000-01-01T03:36:19",
          "2000-01-05T21:27:02",
          "2000-01-01T23:28:33",
          "2000-01-04T04:22:18",
          "2000-01-06T00:45:56",
          "2000-01-02T08:46:23",
          "2000-01-04T16:01:58",
          "2000-01-01T03:04:19",
          "2000-01-01T03:26:57",
          "2000-01-02T01:44:27",
          "2000-01-04T22:21:17",
          "2000-01-05T17:25:48",
          "2000-01-02T09:07:52",
          "2000-01-04T15:47:49",
          "2000-01-09T11:44:22",
          "2000-01-03T21:39:08",
          "2000-01-07T16:28:41",
          "2000-01-05T23:58:33",
          "2000-01-01T17:49:10",
          "2000-01-08T05:50:14",
          "2000-01-09T07:52:00",
          "2000-01-01T08:05:55",
          "2000-01-01T01:56:34",
          "2000-01-03T10:13:13",
          "2000-01-04T23:43:16",
          "2000-01-09T22:49:18",
          "2000-01-03T17:19:01",
          "2000-01-01T03:04:19",
          "2000-01-13T12:09:34",
          "2000-01-02T03:07:28",
          "2000-01-07T18:01:47",
          "2000-01-05T04:05:53",
          "2000-01-05T04:11:23",
          "2000-01-09T19:32:39",
          "2000-01-13T00:34:47",
          "2000-01-19T19:40:42",
          "2000-01-01T01:57:52",
          "2000-01-01T04:58:22",
          "2000-01-01T01:56:34",
          "2000-01-04T00:07:06",
          "2000-01-08T19:31:37",
          "2000-01-06T18:54:39",
          "2000-01-07T18:56:34",
          "2000-01-12T05:51:06",
          "2000-01-01T04:17:19",
          "2000-01-05T11:43:35",
          "2000-01-09T13:10:33",
          "2000-01-01T01:56:49",
          "2000-01-07T15:36:46",
          "2000-01-01T02:46:19",
          "2000-01-06T07:34:41",
          "2000-01-07T19:41:18",
          "2000-01-01T03:52:19",
          "2000-01-06T18:25:31",
          "2000-01-01T13:29:40",
          "2000-01-01T21:15:28",
          "2000-01-01T01:55:47",
          "2000-01-02T15:01:57",
          "2000-01-02T15:17:48",
          "2000-01-04T15:47:23",
          "2000-01-01T01:56:14",
          "2000-01-01T23:44:43",
          "2000-01-09T08:44:55",
          "2000-01-03T23:38:35",
          "2000-01-01T02:12:58",
          "2000-01-02T15:11:10",
          "2000-01-09T16:05:36",
          "2000-01-01T01:56:26",
          "2000-01-04T05:49:20",
          "2000-01-07T15:12:28",
          "2000-01-05T14:13:48",
          "2000-01-01T20:56:12",
          "2000-01-01T05:47:19",
          "2000-01-04T09:22:29",
          "2000-01-13T06:43:10",
          "2000-01-17T05:27:25",
          "2000-01-20T02:00:55",
          "2000-01-04T08:37:25",
          "2000-01-04T20:57:08",
          "2000-01-03T01:19:07",
          "2000-01-05T21:58:58"
         ],
         "customdata": [
          [
           20367176,
           "PACU"
          ],
          [
           20413622,
           "Medicine/Cardiology Intermediate"
          ],
          [
           20413622,
           "PACU"
          ],
          [
           20428190,
           "Medicine/Cardiology"
          ],
          [
           20428190,
           "Medicine/Cardiology"
          ],
          [
           20428190,
           "PACU"
          ],
          [
           20796166,
           "Medicine"
          ],
          [
           20796166,
           "PACU"
          ],
          [
           20846035,
           "Medicine/Cardiology"
          ],
          [
           20882340,
           "Medicine/Cardiology"
          ],
          [
           20882340,
           "PACU"
          ],
          [
           20899737,
           "PACU"
          ],
          [
           21086123,
           "PACU"
          ],
          [
           21380778,
           "Medicine/Cardiology"
          ],
          [
           21491433,
           "Vascular"
          ],
          [
           21491433,
           "Vascular"
          ],
          [
           21491433,
           "Vascular"
          ],
          [
           21491433,
           "Vascular"
          ],
          [
           21495589,
           "PACU"
          ],
          [
           21523552,
           "Medicine/Cardiology"
          ],
          [
           21618127,
           "PACU"
          ],
          [
           21891458,
           "PACU"
          ],
          [
           22038227,
           "Medicine/Cardiology"
          ],
          [
           22038227,
           "PACU"
          ],
          [
           22179911,
           "Medicine/Cardiology"
          ],
          [
           22179911,
           "PACU"
          ],
          [
           22371163,
           "Emergency Department Observation"
          ],
          [
           22371163,
           "Medicine/Cardiology"
          ],
          [
           22440108,
           "PACU"
          ],
          [
           22533821,
           "PACU"
          ],
          [
           22581024,
           "Medicine/Cardiology"
          ],
          [
           22581024,
           "Medicine/Cardiology"
          ],
          [
           22581024,
           "Medicine/Cardiology"
          ],
          [
           22581024,
           "PACU"
          ],
          [
           22798677,
           "Medicine/Cardiology"
          ],
          [
           22925444,
           "PACU"
          ],
          [
           23254228,
           "PACU"
          ],
          [
           23471589,
           "Medicine"
          ],
          [
           23471589,
           "PACU"
          ],
          [
           23471589,
           "PACU"
          ],
          [
           23492493,
           "PACU"
          ],
          [
           23531962,
           "Medicine/Cardiology"
          ],
          [
           23613589,
           "PACU"
          ],
          [
           23891344,
           "Medicine/Cardiology"
          ],
          [
           23891344,
           "PACU"
          ],
          [
           23921396,
           "Medicine/Cardiology"
          ],
          [
           23921396,
           "PACU"
          ],
          [
           24078757,
           "PACU"
          ],
          [
           24103406,
           "Medicine"
          ],
          [
           24103406,
           "Medicine/Cardiology"
          ],
          [
           24103406,
           "Medicine/Cardiology"
          ],
          [
           24103406,
           "PACU"
          ],
          [
           24487999,
           "PACU"
          ],
          [
           24524153,
           "Medicine/Cardiology"
          ],
          [
           24524153,
           "Medicine/Cardiology"
          ],
          [
           24524153,
           "Medicine/Cardiology"
          ],
          [
           24524153,
           "PACU"
          ],
          [
           24582156,
           "Medicine/Cardiology"
          ],
          [
           24582156,
           "PACU"
          ],
          [
           24726754,
           "Medicine/Cardiology"
          ],
          [
           24857256,
           "Vascular"
          ],
          [
           24857256,
           "Medicine/Cardiology"
          ],
          [
           24878015,
           "Medicine/Cardiology"
          ],
          [
           24878015,
           "Medicine/Cardiology"
          ],
          [
           24878015,
           "PACU"
          ],
          [
           24988265,
           "Medicine/Cardiology Intermediate"
          ],
          [
           24988265,
           "PACU"
          ],
          [
           25100189,
           "Neurology"
          ],
          [
           25100189,
           "Medicine/Cardiology"
          ],
          [
           25190591,
           "PACU"
          ],
          [
           25238943,
           "Medicine/Cardiology"
          ],
          [
           25238943,
           "Medicine/Cardiology"
          ],
          [
           25265986,
           "PACU"
          ],
          [
           25849202,
           "Medicine/Cardiology"
          ],
          [
           26304404,
           "Medicine/Cardiology"
          ],
          [
           26304404,
           "Medicine/Cardiology"
          ],
          [
           26304404,
           "Medicine/Cardiology"
          ],
          [
           26304404,
           "Medicine/Cardiology"
          ],
          [
           26304404,
           "PACU"
          ],
          [
           26557141,
           "Medicine/Cardiology"
          ],
          [
           26557141,
           "Medicine/Cardiology"
          ],
          [
           26557141,
           "Medicine/Cardiology"
          ],
          [
           26650166,
           "Medicine/Cardiology"
          ],
          [
           26650166,
           "PACU"
          ],
          [
           26785758,
           "Medicine/Cardiology"
          ],
          [
           26832373,
           "Medicine/Cardiology"
          ],
          [
           26832373,
           "PACU"
          ],
          [
           26832373,
           "PACU"
          ],
          [
           26877857,
           "PACU"
          ],
          [
           26945910,
           "PACU"
          ],
          [
           26945910,
           "PACU"
          ],
          [
           26947371,
           "Medicine/Cardiology"
          ],
          [
           26947371,
           "Medicine/Cardiology"
          ],
          [
           27229141,
           "Medicine/Cardiology"
          ],
          [
           27245455,
           "Medicine/Cardiology"
          ],
          [
           27245455,
           "PACU"
          ],
          [
           27295973,
           "Medicine/Cardiology"
          ],
          [
           27295973,
           "PACU"
          ],
          [
           27356533,
           "Neurology"
          ],
          [
           27356533,
           "Neurology"
          ],
          [
           27356533,
           "Medicine"
          ],
          [
           27356533,
           "Medicine"
          ],
          [
           27356533,
           "PACU"
          ],
          [
           27497725,
           "Medicine/Cardiology"
          ],
          [
           27497725,
           "Medicine/Cardiology"
          ],
          [
           27504332,
           "Medicine/Cardiology"
          ],
          [
           27532830,
           "Medicine/Cardiology Intermediate"
          ],
          [
           27532830,
           "PACU"
          ],
          [
           27535812,
           "PACU"
          ],
          [
           27568834,
           "Medicine/Cardiology"
          ],
          [
           27568834,
           "PACU"
          ],
          [
           27628219,
           "Medicine/Cardiology"
          ],
          [
           27628219,
           "Medicine/Cardiology"
          ],
          [
           27628219,
           "PACU"
          ],
          [
           28241689,
           "Medicine/Cardiology"
          ],
          [
           28241689,
           "PACU"
          ],
          [
           28290120,
           "Medicine/Cardiology"
          ],
          [
           28290120,
           "Medicine/Cardiology"
          ],
          [
           28290120,
           "PACU"
          ],
          [
           28481207,
           "Medicine/Cardiology"
          ],
          [
           28481207,
           "PACU"
          ],
          [
           28522694,
           "PACU"
          ],
          [
           28526823,
           "PACU"
          ],
          [
           28591150,
           "Medicine/Cardiology"
          ],
          [
           28852886,
           "Medicine/Cardiology"
          ],
          [
           28852886,
           "Medicine/Cardiology"
          ],
          [
           28878078,
           "PACU"
          ],
          [
           28889493,
           "Medicine/Cardiology"
          ],
          [
           28948855,
           "PACU"
          ],
          [
           28948855,
           "PACU"
          ],
          [
           29034839,
           "Medicine/Cardiology"
          ],
          [
           29088350,
           "PACU"
          ],
          [
           29088350,
           "PACU"
          ],
          [
           29137213,
           "Emergency Department Observation"
          ],
          [
           29487787,
           "Medicine/Cardiology"
          ],
          [
           29487787,
           "PACU"
          ],
          [
           29487787,
           "PACU"
          ],
          [
           29569727,
           "PACU"
          ],
          [
           29636680,
           "PACU"
          ],
          [
           29774156,
           "Medicine"
          ],
          [
           29774156,
           "Hematology/Oncology Intermediate"
          ],
          [
           29774156,
           "Medicine"
          ],
          [
           29774156,
           "Medicine/Cardiology Intermediate"
          ],
          [
           29774156,
           "PACU"
          ],
          [
           29815513,
           "Medicine/Cardiology Intermediate"
          ],
          [
           29815513,
           "PACU"
          ],
          [
           29871031,
           "Medicine/Cardiology"
          ],
          [
           29871031,
           "Medicine/Cardiology"
          ]
         ],
         "hovertemplate": "color=Other units<br>intime=%{base}<br>outtime=%{x}<br>id=%{y}<br>hadm_id=%{customdata[0]}<br>detail=%{customdata[1]}<extra></extra>",
         "legendgroup": "Other units",
         "marker": {
          "color": "#19d3f3"
         },
         "name": "Other units",
         "offsetgroup": "Other units",
         "orientation": "h",
         "showlegend": true,
         "textposition": "auto",
         "type": "bar",
         "width": 0.2,
         "x": [
          1322000,
          215552000,
          5785000,
          214077000,
          6952000,
          14156000,
          256578000,
          6934000,
          81800000,
          308715000,
          1722000,
          6243000,
          24000,
          148960000,
          105242000,
          420118000,
          1824000,
          48152000,
          12907000,
          1152311000,
          11019000,
          8849000,
          2882000,
          10912000,
          467679000,
          1735000,
          78112000,
          124309000,
          2555000,
          8399000,
          477000,
          4064000,
          324917000,
          6453000,
          60221000,
          4793000,
          4838000,
          604000,
          697000,
          8953000,
          3883000,
          396163000,
          2952000,
          134693000,
          5685000,
          738325000,
          12462000,
          23590000,
          56060000,
          11436000,
          52210000,
          17217000,
          6651000,
          3925000,
          17071000,
          4192000,
          984000,
          133145000,
          6527000,
          53366000,
          216140000,
          159043000,
          512581000,
          144344000,
          8064000,
          45756000,
          5430000,
          409843000,
          49614000,
          1888000,
          159818000,
          86058000,
          438000,
          214615000,
          1358000,
          60718000,
          247010000,
          68671000,
          10478000,
          93655000,
          57336000,
          133374000,
          326973000,
          8297000,
          407306000,
          561664000,
          15643000,
          62000,
          6729000,
          2697000,
          4924000,
          428762000,
          317065000,
          148760000,
          1069515000,
          13215000,
          485659000,
          5807000,
          330000,
          400876000,
          277328000,
          88985000,
          736000,
          10830000,
          322156000,
          236531000,
          415471000,
          5208000,
          2482000,
          384872000,
          716000,
          38220000,
          350818000,
          407000,
          567597000,
          12806000,
          449302000,
          57867000,
          3432000,
          484392000,
          11739000,
          11229000,
          9407000,
          3584000,
          951000,
          274003000,
          8336000,
          668088000,
          39240000,
          13365000,
          237383000,
          34000,
          3850000,
          24000,
          273174000,
          2235000,
          3681000,
          1427000,
          13949000,
          83599000,
          768041000,
          274108000,
          233332000,
          16641000,
          44383000,
          1889000,
          247191000,
          254012000
         ],
         "xaxis": "x",
         "y": [
          2,
          3,
          3,
          4,
          4,
          4,
          6,
          6,
          8,
          9,
          9,
          10,
          12,
          14,
          15,
          15,
          15,
          15,
          16,
          17,
          19,
          22,
          23,
          23,
          24,
          24,
          25,
          25,
          27,
          28,
          29,
          29,
          29,
          29,
          30,
          32,
          34,
          36,
          36,
          36,
          37,
          39,
          40,
          42,
          42,
          43,
          43,
          44,
          45,
          45,
          45,
          45,
          47,
          48,
          48,
          48,
          48,
          50,
          50,
          51,
          52,
          52,
          53,
          53,
          53,
          55,
          55,
          57,
          57,
          58,
          60,
          60,
          61,
          65,
          68,
          68,
          68,
          68,
          68,
          71,
          71,
          71,
          72,
          72,
          73,
          74,
          74,
          74,
          75,
          76,
          76,
          77,
          77,
          78,
          79,
          79,
          80,
          80,
          81,
          81,
          81,
          81,
          81,
          83,
          83,
          84,
          85,
          85,
          86,
          87,
          87,
          88,
          88,
          88,
          95,
          95,
          96,
          96,
          96,
          97,
          97,
          98,
          99,
          101,
          103,
          103,
          104,
          105,
          106,
          106,
          107,
          108,
          108,
          109,
          112,
          112,
          112,
          113,
          114,
          115,
          115,
          115,
          115,
          115,
          116,
          116,
          117,
          117
         ],
         "yaxis": "y"
        }
       ],
       "layout": {
        "barmode": "overlay",
        "legend": {
         "title": {
          "text": "color"
         },
         "tracegroupgap": 0
        },
        "margin": {
         "t": 60
        },
        "template": {
         "data": {
          "bar": [
           {
            "error_x": {
             "color": "#2a3f5f"
            },
            "error_y": {
             "color": "#2a3f5f"
            },
            "marker": {
             "line": {
              "color": "#E5ECF6",
              "width": 0.5
             },
             "pattern": {
              "fillmode": "overlay",
              "size": 10,
              "solidity": 0.2
             }
            },
            "type": "bar"
           }
          ],
          "barpolar": [
           {
            "marker": {
             "line": {
              "color": "#E5ECF6",
              "width": 0.5
             },
             "pattern": {
              "fillmode": "overlay",
              "size": 10,
              "solidity": 0.2
             }
            },
            "type": "barpolar"
           }
          ],
          "carpet": [
           {
            "aaxis": {
             "endlinecolor": "#2a3f5f",
             "gridcolor": "white",
             "linecolor": "white",
             "minorgridcolor": "white",
             "startlinecolor": "#2a3f5f"
            },
            "baxis": {
             "endlinecolor": "#2a3f5f",
             "gridcolor": "white",
             "linecolor": "white",
             "minorgridcolor": "white",
             "startlinecolor": "#2a3f5f"
            },
            "type": "carpet"
           }
          ],
          "choropleth": [
           {
            "colorbar": {
             "outlinewidth": 0,
             "ticks": ""
            },
            "type": "choropleth"
           }
          ],
          "contour": [
           {
            "colorbar": {
             "outlinewidth": 0,
             "ticks": ""
            },
            "colorscale": [
             [
              0,
              "#0d0887"
             ],
             [
              0.1111111111111111,
              "#46039f"
             ],
             [
              0.2222222222222222,
              "#7201a8"
             ],
             [
              0.3333333333333333,
              "#9c179e"
             ],
             [
              0.4444444444444444,
              "#bd3786"
             ],
             [
              0.5555555555555556,
              "#d8576b"
             ],
             [
              0.6666666666666666,
              "#ed7953"
             ],
             [
              0.7777777777777778,
              "#fb9f3a"
             ],
             [
              0.8888888888888888,
              "#fdca26"
             ],
             [
              1,
              "#f0f921"
             ]
            ],
            "type": "contour"
           }
          ],
          "contourcarpet": [
           {
            "colorbar": {
             "outlinewidth": 0,
             "ticks": ""
            },
            "type": "contourcarpet"
           }
          ],
          "heatmap": [
           {
            "colorbar": {
             "outlinewidth": 0,
             "ticks": ""
            },
            "colorscale": [
             [
              0,
              "#0d0887"
             ],
             [
              0.1111111111111111,
              "#46039f"
             ],
             [
              0.2222222222222222,
              "#7201a8"
             ],
             [
              0.3333333333333333,
              "#9c179e"
             ],
             [
              0.4444444444444444,
              "#bd3786"
             ],
             [
              0.5555555555555556,
              "#d8576b"
             ],
             [
              0.6666666666666666,
              "#ed7953"
             ],
             [
              0.7777777777777778,
              "#fb9f3a"
             ],
             [
              0.8888888888888888,
              "#fdca26"
             ],
             [
              1,
              "#f0f921"
             ]
            ],
            "type": "heatmap"
           }
          ],
          "heatmapgl": [
           {
            "colorbar": {
             "outlinewidth": 0,
             "ticks": ""
            },
            "colorscale": [
             [
              0,
              "#0d0887"
             ],
             [
              0.1111111111111111,
              "#46039f"
             ],
             [
              0.2222222222222222,
              "#7201a8"
             ],
             [
              0.3333333333333333,
              "#9c179e"
             ],
             [
              0.4444444444444444,
              "#bd3786"
             ],
             [
              0.5555555555555556,
              "#d8576b"
             ],
             [
              0.6666666666666666,
              "#ed7953"
             ],
             [
              0.7777777777777778,
              "#fb9f3a"
             ],
             [
              0.8888888888888888,
              "#fdca26"
             ],
             [
              1,
              "#f0f921"
             ]
            ],
            "type": "heatmapgl"
           }
          ],
          "histogram": [
           {
            "marker": {
             "pattern": {
              "fillmode": "overlay",
              "size": 10,
              "solidity": 0.2
             }
            },
            "type": "histogram"
           }
          ],
          "histogram2d": [
           {
            "colorbar": {
             "outlinewidth": 0,
             "ticks": ""
            },
            "colorscale": [
             [
              0,
              "#0d0887"
             ],
             [
              0.1111111111111111,
              "#46039f"
             ],
             [
              0.2222222222222222,
              "#7201a8"
             ],
             [
              0.3333333333333333,
              "#9c179e"
             ],
             [
              0.4444444444444444,
              "#bd3786"
             ],
             [
              0.5555555555555556,
              "#d8576b"
             ],
             [
              0.6666666666666666,
              "#ed7953"
             ],
             [
              0.7777777777777778,
              "#fb9f3a"
             ],
             [
              0.8888888888888888,
              "#fdca26"
             ],
             [
              1,
              "#f0f921"
             ]
            ],
            "type": "histogram2d"
           }
          ],
          "histogram2dcontour": [
           {
            "colorbar": {
             "outlinewidth": 0,
             "ticks": ""
            },
            "colorscale": [
             [
              0,
              "#0d0887"
             ],
             [
              0.1111111111111111,
              "#46039f"
             ],
             [
              0.2222222222222222,
              "#7201a8"
             ],
             [
              0.3333333333333333,
              "#9c179e"
             ],
             [
              0.4444444444444444,
              "#bd3786"
             ],
             [
              0.5555555555555556,
              "#d8576b"
             ],
             [
              0.6666666666666666,
              "#ed7953"
             ],
             [
              0.7777777777777778,
              "#fb9f3a"
             ],
             [
              0.8888888888888888,
              "#fdca26"
             ],
             [
              1,
              "#f0f921"
             ]
            ],
            "type": "histogram2dcontour"
           }
          ],
          "mesh3d": [
           {
            "colorbar": {
             "outlinewidth": 0,
             "ticks": ""
            },
            "type": "mesh3d"
           }
          ],
          "parcoords": [
           {
            "line": {
             "colorbar": {
              "outlinewidth": 0,
              "ticks": ""
             }
            },
            "type": "parcoords"
           }
          ],
          "pie": [
           {
            "automargin": true,
            "type": "pie"
           }
          ],
          "scatter": [
           {
            "marker": {
             "colorbar": {
              "outlinewidth": 0,
              "ticks": ""
             }
            },
            "type": "scatter"
           }
          ],
          "scatter3d": [
           {
            "line": {
             "colorbar": {
              "outlinewidth": 0,
              "ticks": ""
             }
            },
            "marker": {
             "colorbar": {
              "outlinewidth": 0,
              "ticks": ""
             }
            },
            "type": "scatter3d"
           }
          ],
          "scattercarpet": [
           {
            "marker": {
             "colorbar": {
              "outlinewidth": 0,
              "ticks": ""
             }
            },
            "type": "scattercarpet"
           }
          ],
          "scattergeo": [
           {
            "marker": {
             "colorbar": {
              "outlinewidth": 0,
              "ticks": ""
             }
            },
            "type": "scattergeo"
           }
          ],
          "scattergl": [
           {
            "marker": {
             "colorbar": {
              "outlinewidth": 0,
              "ticks": ""
             }
            },
            "type": "scattergl"
           }
          ],
          "scattermapbox": [
           {
            "marker": {
             "colorbar": {
              "outlinewidth": 0,
              "ticks": ""
             }
            },
            "type": "scattermapbox"
           }
          ],
          "scatterpolar": [
           {
            "marker": {
             "colorbar": {
              "outlinewidth": 0,
              "ticks": ""
             }
            },
            "type": "scatterpolar"
           }
          ],
          "scatterpolargl": [
           {
            "marker": {
             "colorbar": {
              "outlinewidth": 0,
              "ticks": ""
             }
            },
            "type": "scatterpolargl"
           }
          ],
          "scatterternary": [
           {
            "marker": {
             "colorbar": {
              "outlinewidth": 0,
              "ticks": ""
             }
            },
            "type": "scatterternary"
           }
          ],
          "surface": [
           {
            "colorbar": {
             "outlinewidth": 0,
             "ticks": ""
            },
            "colorscale": [
             [
              0,
              "#0d0887"
             ],
             [
              0.1111111111111111,
              "#46039f"
             ],
             [
              0.2222222222222222,
              "#7201a8"
             ],
             [
              0.3333333333333333,
              "#9c179e"
             ],
             [
              0.4444444444444444,
              "#bd3786"
             ],
             [
              0.5555555555555556,
              "#d8576b"
             ],
             [
              0.6666666666666666,
              "#ed7953"
             ],
             [
              0.7777777777777778,
              "#fb9f3a"
             ],
             [
              0.8888888888888888,
              "#fdca26"
             ],
             [
              1,
              "#f0f921"
             ]
            ],
            "type": "surface"
           }
          ],
          "table": [
           {
            "cells": {
             "fill": {
              "color": "#EBF0F8"
             },
             "line": {
              "color": "white"
             }
            },
            "header": {
             "fill": {
              "color": "#C8D4E3"
             },
             "line": {
              "color": "white"
             }
            },
            "type": "table"
           }
          ]
         },
         "layout": {
          "annotationdefaults": {
           "arrowcolor": "#2a3f5f",
           "arrowhead": 0,
           "arrowwidth": 1
          },
          "autotypenumbers": "strict",
          "coloraxis": {
           "colorbar": {
            "outlinewidth": 0,
            "ticks": ""
           }
          },
          "colorscale": {
           "diverging": [
            [
             0,
             "#8e0152"
            ],
            [
             0.1,
             "#c51b7d"
            ],
            [
             0.2,
             "#de77ae"
            ],
            [
             0.3,
             "#f1b6da"
            ],
            [
             0.4,
             "#fde0ef"
            ],
            [
             0.5,
             "#f7f7f7"
            ],
            [
             0.6,
             "#e6f5d0"
            ],
            [
             0.7,
             "#b8e186"
            ],
            [
             0.8,
             "#7fbc41"
            ],
            [
             0.9,
             "#4d9221"
            ],
            [
             1,
             "#276419"
            ]
           ],
           "sequential": [
            [
             0,
             "#0d0887"
            ],
            [
             0.1111111111111111,
             "#46039f"
            ],
            [
             0.2222222222222222,
             "#7201a8"
            ],
            [
             0.3333333333333333,
             "#9c179e"
            ],
            [
             0.4444444444444444,
             "#bd3786"
            ],
            [
             0.5555555555555556,
             "#d8576b"
            ],
            [
             0.6666666666666666,
             "#ed7953"
            ],
            [
             0.7777777777777778,
             "#fb9f3a"
            ],
            [
             0.8888888888888888,
             "#fdca26"
            ],
            [
             1,
             "#f0f921"
            ]
           ],
           "sequentialminus": [
            [
             0,
             "#0d0887"
            ],
            [
             0.1111111111111111,
             "#46039f"
            ],
            [
             0.2222222222222222,
             "#7201a8"
            ],
            [
             0.3333333333333333,
             "#9c179e"
            ],
            [
             0.4444444444444444,
             "#bd3786"
            ],
            [
             0.5555555555555556,
             "#d8576b"
            ],
            [
             0.6666666666666666,
             "#ed7953"
            ],
            [
             0.7777777777777778,
             "#fb9f3a"
            ],
            [
             0.8888888888888888,
             "#fdca26"
            ],
            [
             1,
             "#f0f921"
            ]
           ]
          },
          "colorway": [
           "#636efa",
           "#EF553B",
           "#00cc96",
           "#ab63fa",
           "#FFA15A",
           "#19d3f3",
           "#FF6692",
           "#B6E880",
           "#FF97FF",
           "#FECB52"
          ],
          "font": {
           "color": "#2a3f5f"
          },
          "geo": {
           "bgcolor": "white",
           "lakecolor": "white",
           "landcolor": "#E5ECF6",
           "showlakes": true,
           "showland": true,
           "subunitcolor": "white"
          },
          "hoverlabel": {
           "align": "left"
          },
          "hovermode": "closest",
          "mapbox": {
           "style": "light"
          },
          "paper_bgcolor": "white",
          "plot_bgcolor": "#E5ECF6",
          "polar": {
           "angularaxis": {
            "gridcolor": "white",
            "linecolor": "white",
            "ticks": ""
           },
           "bgcolor": "#E5ECF6",
           "radialaxis": {
            "gridcolor": "white",
            "linecolor": "white",
            "ticks": ""
           }
          },
          "scene": {
           "xaxis": {
            "backgroundcolor": "#E5ECF6",
            "gridcolor": "white",
            "gridwidth": 2,
            "linecolor": "white",
            "showbackground": true,
            "ticks": "",
            "zerolinecolor": "white"
           },
           "yaxis": {
            "backgroundcolor": "#E5ECF6",
            "gridcolor": "white",
            "gridwidth": 2,
            "linecolor": "white",
            "showbackground": true,
            "ticks": "",
            "zerolinecolor": "white"
           },
           "zaxis": {
            "backgroundcolor": "#E5ECF6",
            "gridcolor": "white",
            "gridwidth": 2,
            "linecolor": "white",
            "showbackground": true,
            "ticks": "",
            "zerolinecolor": "white"
           }
          },
          "shapedefaults": {
           "line": {
            "color": "#2a3f5f"
           }
          },
          "ternary": {
           "aaxis": {
            "gridcolor": "white",
            "linecolor": "white",
            "ticks": ""
           },
           "baxis": {
            "gridcolor": "white",
            "linecolor": "white",
            "ticks": ""
           },
           "bgcolor": "#E5ECF6",
           "caxis": {
            "gridcolor": "white",
            "linecolor": "white",
            "ticks": ""
           }
          },
          "title": {
           "x": 0.05
          },
          "xaxis": {
           "automargin": true,
           "gridcolor": "white",
           "linecolor": "white",
           "ticks": "",
           "title": {
            "standoff": 15
           },
           "zerolinecolor": "white",
           "zerolinewidth": 2
          },
          "yaxis": {
           "automargin": true,
           "gridcolor": "white",
           "linecolor": "white",
           "ticks": "",
           "title": {
            "standoff": 15
           },
           "zerolinecolor": "white",
           "zerolinewidth": 2
          }
         }
        },
        "xaxis": {
         "anchor": "y",
         "domain": [
          0,
          1
         ],
         "type": "date"
        },
        "yaxis": {
         "anchor": "x",
         "domain": [
          0,
          1
         ],
         "title": {
          "text": "id"
         }
        }
       }
      }
     },
     "metadata": {},
     "output_type": "display_data"
    }
   ],
   "source": [
    "\n",
    "\n",
    "\n",
    "fig = px.timeline(df2_concat.iloc[:], y='id', x_start='intime', x_end = 'outtime', color='color',\n",
    "        hover_data=['hadm_id','detail'])\n",
    "fig.update_traces(width=0.2)\n",
    "fig.show()\n",
    "fig.write_html(ADD_DATA+'CABG timeline.html')\n",
    "\n"
   ]
  },
  {
   "cell_type": "code",
   "execution_count": 403,
   "metadata": {},
   "outputs": [
    {
     "data": {
      "text/html": [
       "<div>\n",
       "<style scoped>\n",
       "    .dataframe tbody tr th:only-of-type {\n",
       "        vertical-align: middle;\n",
       "    }\n",
       "\n",
       "    .dataframe tbody tr th {\n",
       "        vertical-align: top;\n",
       "    }\n",
       "\n",
       "    .dataframe thead th {\n",
       "        text-align: right;\n",
       "    }\n",
       "</style>\n",
       "<table border=\"1\" class=\"dataframe\">\n",
       "  <thead>\n",
       "    <tr style=\"text-align: right;\">\n",
       "      <th></th>\n",
       "      <th>itemid</th>\n",
       "      <th>label</th>\n",
       "      <th>valueuom</th>\n",
       "      <th>ref_range_lower</th>\n",
       "      <th>ref_range_upper</th>\n",
       "      <th>fluid</th>\n",
       "      <th>category</th>\n",
       "    </tr>\n",
       "  </thead>\n",
       "  <tbody>\n",
       "    <tr>\n",
       "      <th>729</th>\n",
       "      <td>50813</td>\n",
       "      <td>Lactate</td>\n",
       "      <td>mmol/L</td>\n",
       "      <td>0.5</td>\n",
       "      <td>2.0</td>\n",
       "      <td>Blood</td>\n",
       "      <td>Blood Gas</td>\n",
       "    </tr>\n",
       "    <tr>\n",
       "      <th>730</th>\n",
       "      <td>50954</td>\n",
       "      <td>Lactate Dehydrogenase (LD)</td>\n",
       "      <td>IU/L</td>\n",
       "      <td>94.0</td>\n",
       "      <td>250.0</td>\n",
       "      <td>Blood</td>\n",
       "      <td>Chemistry</td>\n",
       "    </tr>\n",
       "    <tr>\n",
       "      <th>734</th>\n",
       "      <td>50843</td>\n",
       "      <td>Lactate Dehydrogenase, Ascites</td>\n",
       "      <td>IU/L</td>\n",
       "      <td>NaN</td>\n",
       "      <td>NaN</td>\n",
       "      <td>Ascites</td>\n",
       "      <td>Chemistry</td>\n",
       "    </tr>\n",
       "    <tr>\n",
       "      <th>735</th>\n",
       "      <td>51795</td>\n",
       "      <td>Lactate Dehydrogenase, CSF</td>\n",
       "      <td>IU/L</td>\n",
       "      <td>NaN</td>\n",
       "      <td>NaN</td>\n",
       "      <td>Cerebrospinal Fluid</td>\n",
       "      <td>Chemistry</td>\n",
       "    </tr>\n",
       "    <tr>\n",
       "      <th>736</th>\n",
       "      <td>51054</td>\n",
       "      <td>Lactate Dehydrogenase, Pleural</td>\n",
       "      <td>IU/L</td>\n",
       "      <td>NaN</td>\n",
       "      <td>NaN</td>\n",
       "      <td>Pleural</td>\n",
       "      <td>Chemistry</td>\n",
       "    </tr>\n",
       "  </tbody>\n",
       "</table>\n",
       "</div>"
      ],
      "text/plain": [
       "     itemid                           label valueuom  ref_range_lower  \\\n",
       "729   50813                         Lactate   mmol/L              0.5   \n",
       "730   50954      Lactate Dehydrogenase (LD)     IU/L             94.0   \n",
       "734   50843  Lactate Dehydrogenase, Ascites     IU/L              NaN   \n",
       "735   51795      Lactate Dehydrogenase, CSF     IU/L              NaN   \n",
       "736   51054  Lactate Dehydrogenase, Pleural     IU/L              NaN   \n",
       "\n",
       "     ref_range_upper                fluid   category  \n",
       "729              2.0                Blood  Blood Gas  \n",
       "730            250.0                Blood  Chemistry  \n",
       "734              NaN              Ascites  Chemistry  \n",
       "735              NaN  Cerebrospinal Fluid  Chemistry  \n",
       "736              NaN              Pleural  Chemistry  "
      ]
     },
     "execution_count": 403,
     "metadata": {},
     "output_type": "execute_result"
    }
   ],
   "source": [
    "df=pd.read_csv(ADD_DATA+'d_labitems.csv').query(\"label.str.contains('lactate',case=False)\").drop_duplicates('itemid')\n",
    "df"
   ]
  },
  {
   "cell_type": "code",
   "execution_count": 413,
   "metadata": {},
   "outputs": [],
   "source": [
    "new_id = 27497725\n",
    "dict_le_bio = {\n",
    "51003:\t'Troponin T',\n",
    "50910:\t'Creatine Kinase (CK)',\n",
    "50911:\t'Creatine Kinase, MB Isoenzyme',\n",
    "50813:\t'Lactate',\n",
    "}\n",
    "\n",
    "dict_che_bio = {\n",
    "#227429:\t'Troponin-T',\n",
    "220045:\t'Heart Rate',\t\n",
    "}\n",
    "#dict_che_bio = {}\n",
    "q_le = (df_le['hadm_id']==new_id) & ( df_le['itemid'].isin(list(dict_le_bio.keys())) )\n",
    "df2_le = df_le[q_le]\n",
    "df2_le['label'] = df2_le['itemid'].replace(dict_le_bio)\n",
    "\n",
    "q_che = (df_che['hadm_id']==new_id) & ( df_che['itemid'].isin(list(dict_che_bio.keys())) )\n",
    "df2_che = df_che[q_che]\n",
    "df2_che['label'] = df2_che['itemid'].replace(dict_che_bio)\n",
    "\n",
    "df2_che\n",
    "\n",
    "df_bio = pd.concat([df2_le[['hadm_id','itemid','label','charttime', 'valuenum']],\n",
    "    df2_che[['hadm_id','itemid','label','charttime', 'valuenum']],]\n",
    "    )\n",
    "df_bio = pd.merge(df_bio,df_admissions[['hadm_id','admittime']], on='hadm_id')\n",
    "df_bio ['time'] = (df_bio ['charttime'] - df_bio ['admittime']) + date_origin\n",
    "\n",
    "df_bio = df_bio.sort_values(by=['itemid','time'])\n",
    "#px.line(df_bio,x='time',y='valuenum',color='label')\n",
    "# df=pd.read_csv(ADD_DATA+'d_labitems.csv').query(\"label.str.contains('creatin',case=False)\").drop_duplicates('itemid')\n",
    "# df\n",
    "\n",
    "df_bio['time'] = (df_bio['time'] - date_origin) / np.timedelta64(1,'h')\n",
    "\n",
    "list_bio = df_bio['itemid'].unique().tolist()\n",
    "\n",
    "fig = make_subplots(rows=len(list_bio)+1, cols=1,\n",
    "            shared_xaxes=True,\n",
    "            subplot_titles=[*df_bio['label'].unique(),'Time line']\n",
    "            )\n",
    "\n",
    "for i,itemid in enumerate(list_bio):\n",
    "    df_temp = df_bio[df_bio['itemid']==itemid]\n",
    "    fig.add_trace(\n",
    "        go.Scatter(x=df_temp['time'], y=df_temp['valuenum'],\n",
    "                    mode='lines+markers',\n",
    "                    name=df_temp['label'].iloc[0],\n",
    "        ),\n",
    "        row=i+1, col=1\n",
    "    )\n",
    "\n",
    "\n",
    "\n",
    "\n"
   ]
  },
  {
   "cell_type": "code",
   "execution_count": 414,
   "metadata": {},
   "outputs": [],
   "source": [
    "\n",
    "\n",
    "df_temp = df2_concat[df2_concat['hadm_id']==new_id]\n",
    "df_temp['intime'] = (df_temp['intime'] - date_origin) / np.timedelta64(1,'h')\n",
    "df_temp['outtime'] = (df_temp['outtime'] - date_origin) / np.timedelta64(1,'h')\n",
    "#df_temp['id']= 'Events'\n",
    "\n",
    "q_cu = df_temp['id']%1==0\n",
    "q_events = ~q_cu\n",
    "\n",
    "\n",
    "\n",
    "\n",
    "df_temp.loc[q_cu,'id'] = 'Care units'\n",
    "df_temp.loc[q_events,'id'] = 'Events'\n",
    "\n",
    "fig_temp = hk_psql.plot_timeline(df_temp, x_start=\"intime\", x_end=\"outtime\", y='id', color='color',hover_data=['hadm_id','detail'])\n",
    "fig_temp.update_traces(width=0.2)\n",
    "  \n",
    "for trace in fig_temp.data:\n",
    "    #print(trace)\n",
    "    fig.add_trace(trace, row=len(list_bio)+1, col=1)\n",
    "\n"
   ]
  },
  {
   "cell_type": "code",
   "execution_count": 415,
   "metadata": {},
   "outputs": [
    {
     "data": {
      "application/vnd.plotly.v1+json": {
       "config": {
        "plotlyServerURL": "https://plot.ly"
       },
       "data": [
        {
         "mode": "lines+markers",
         "name": "Lactate",
         "type": "scatter",
         "x": [
          93.66666666666667,
          96.9,
          100.13333333333334,
          107.6,
          191.23333333333332,
          253.18333333333334,
          254.26666666666668,
          255.38333333333333,
          256.8833333333333,
          260.76666666666665,
          263.43333333333334,
          274.48333333333335,
          276.48333333333335,
          278.1
         ],
         "xaxis": "x",
         "y": [
          1.4,
          3,
          1.2,
          1.1,
          1.6,
          5.1,
          5.9,
          4.8,
          3.1,
          1.4,
          1.4,
          1.3,
          1.3,
          1.3
         ],
         "yaxis": "y"
        },
        {
         "mode": "lines+markers",
         "name": "Creatine Kinase (CK)",
         "type": "scatter",
         "x": [
          252.85,
          260.53333333333336,
          269.03333333333336,
          276.28333333333336
         ],
         "xaxis": "x2",
         "y": [
          176,
          225,
          251,
          245
         ],
         "yaxis": "y2"
        },
        {
         "mode": "lines+markers",
         "name": "Creatine Kinase, MB Isoenzyme",
         "type": "scatter",
         "x": [
          252.85,
          260.53333333333336,
          269.03333333333336,
          276.28333333333336
         ],
         "xaxis": "x3",
         "y": [
          2,
          4,
          4,
          4
         ],
         "yaxis": "y3"
        },
        {
         "mode": "lines+markers",
         "name": "Troponin T",
         "type": "scatter",
         "x": [
          12.533333333333333,
          55.4,
          60.1,
          252.85,
          260.53333333333336
         ],
         "xaxis": "x4",
         "y": [
          0.07,
          0.09,
          0.08,
          4.89,
          4.13
         ],
         "yaxis": "y4"
        },
        {
         "mode": "lines+markers",
         "name": "Heart Rate",
         "type": "scatter",
         "x": [
          97.51666666666667,
          97.53333333333333,
          97.78333333333333,
          98.03333333333333,
          98.28333333333333,
          98.53333333333333,
          98.78333333333333,
          99.03333333333333,
          99.28333333333333,
          99.53333333333333,
          99.78333333333333,
          100.03333333333333,
          100.28333333333333,
          100.53333333333333,
          100.78333333333333,
          101.03333333333333,
          101.28333333333333,
          101.53333333333333,
          101.78333333333333,
          102.03333333333333,
          102.28333333333333,
          103.28333333333333,
          104.28333333333333,
          105.28333333333333,
          106.28333333333333,
          107.28333333333333,
          108.28333333333333,
          109.28333333333333,
          110.28333333333333,
          111.28333333333333,
          112.28333333333333,
          113.28333333333333,
          114.28333333333333,
          115.28333333333333,
          116.28333333333333,
          117.28333333333333,
          118.28333333333333,
          119.28333333333333,
          120.28333333333333,
          121.28333333333333,
          122.28333333333333,
          123.28333333333333,
          124.28333333333333,
          125.28333333333333,
          126.28333333333333,
          127.28333333333333,
          128.28333333333333,
          129.28333333333333,
          130.28333333333333,
          131.28333333333333,
          132.28333333333333,
          133.28333333333333,
          134.28333333333333,
          135.28333333333333,
          136.28333333333333,
          137.28333333333333,
          138.28333333333333,
          139.28333333333333,
          140.28333333333333,
          141.28333333333333,
          142.28333333333333,
          143.28333333333333,
          144.28333333333333,
          145.28333333333333,
          146.28333333333333,
          147.28333333333333,
          148.28333333333333,
          149.28333333333333,
          150.28333333333333,
          151.28333333333333,
          152.28333333333333,
          153.28333333333333,
          154.28333333333333,
          155.28333333333333,
          156.28333333333333,
          157.28333333333333,
          158.28333333333333,
          159.28333333333333,
          160.28333333333333,
          161.28333333333333,
          162.28333333333333,
          163.28333333333333,
          164.28333333333333,
          165.28333333333333,
          166.28333333333333,
          167.28333333333333,
          168.28333333333333,
          169.28333333333333,
          170.28333333333333,
          171.28333333333333,
          172.28333333333333,
          173.28333333333333,
          174.28333333333333,
          175.28333333333333,
          176.46666666666667,
          177.28333333333333,
          178.28333333333333,
          179.28333333333333,
          180.28333333333333,
          181.28333333333333,
          182.28333333333333,
          183.28333333333333,
          184.28333333333333,
          185.28333333333333,
          186.28333333333333,
          187.28333333333333,
          188.28333333333333,
          189.28333333333333,
          190.28333333333333,
          191.28333333333333,
          192.28333333333333,
          193.28333333333333,
          194.28333333333333,
          195.28333333333333,
          196.28333333333333,
          197.28333333333333,
          198.28333333333333,
          199.28333333333333,
          200.28333333333333,
          201.28333333333333,
          202.28333333333333,
          203.28333333333333,
          204.28333333333333,
          205.28333333333333,
          206.28333333333333,
          207.28333333333333,
          208.28333333333333,
          209.28333333333333,
          210.28333333333333,
          211.28333333333333,
          212.28333333333333,
          213.28333333333333,
          214.28333333333333,
          215.28333333333333,
          253.65,
          253.78333333333333,
          254.11666666666667,
          254.28333333333333,
          256.1,
          256.28333333333336,
          256.55,
          256.78333333333336,
          257.03333333333336,
          257.28333333333336,
          258.28333333333336,
          259.28333333333336,
          260.28333333333336,
          261.28333333333336,
          262.28333333333336,
          263.28333333333336,
          265.55,
          265.78333333333336,
          266.03333333333336,
          266.28333333333336,
          266.53333333333336,
          266.78333333333336,
          267.03333333333336,
          267.28333333333336,
          268.28333333333336,
          269.28333333333336,
          270.28333333333336,
          271.28333333333336,
          272.28333333333336,
          273.28333333333336,
          274.28333333333336,
          275.28333333333336,
          276.28333333333336,
          277.28333333333336,
          278.28333333333336,
          279.28333333333336,
          280.28333333333336,
          281.28333333333336,
          282.28333333333336,
          283.28333333333336,
          284.28333333333336,
          285.28333333333336,
          286.28333333333336,
          287.28333333333336
         ],
         "xaxis": "x5",
         "y": [
          80,
          80,
          80,
          77,
          76,
          70,
          64,
          65,
          65,
          63,
          64,
          63,
          64,
          65,
          67,
          67,
          67,
          65,
          68,
          64,
          64,
          62,
          70,
          70,
          70,
          70,
          70,
          70,
          71,
          73,
          73,
          71,
          68,
          66,
          66,
          65,
          66,
          67,
          83,
          73,
          69,
          69,
          67,
          67,
          65,
          66,
          66,
          66,
          66,
          68,
          68,
          70,
          68,
          69,
          72,
          79,
          80,
          86,
          83,
          83,
          90,
          79,
          82,
          85,
          84,
          87,
          85,
          86,
          93,
          91,
          90,
          89,
          86,
          87,
          86,
          84,
          88,
          88,
          86,
          84,
          81,
          83,
          85,
          87,
          87,
          88,
          85,
          85,
          86,
          85,
          89,
          91,
          90,
          88,
          91,
          91,
          85,
          84,
          87,
          79,
          76,
          75,
          73,
          77,
          79,
          88,
          90,
          92,
          94,
          89,
          84,
          89,
          85,
          88,
          91,
          84,
          81,
          83,
          83,
          86,
          87,
          86,
          86,
          86,
          84,
          82,
          78,
          76,
          77,
          75,
          74,
          76,
          74,
          74,
          57,
          55,
          53,
          53,
          55,
          58,
          52,
          52,
          51,
          53,
          57,
          58,
          63,
          66,
          69,
          66,
          64,
          63,
          63,
          62,
          61,
          61,
          59,
          59,
          61,
          63,
          58,
          56,
          55,
          55,
          59,
          62,
          65,
          70,
          71,
          68,
          68,
          67,
          70,
          75,
          75,
          73,
          69,
          74
         ],
         "yaxis": "y5"
        },
        {
         "alignmentgroup": "True",
         "base": [
          -72,
          -72
         ],
         "customdata": [
          [
           27497725,
           "I252   /Old myocardial infarction"
          ],
          [
           27497725,
           "I214   /Non-ST elevation (NSTEMI) myocardial infarction"
          ]
         ],
         "hovertemplate": "color=MI<br>intime=%{base}<br>outtime=%{x}<br>id=%{y}<br>hadm_id=%{customdata[0]}<br>detail=%{customdata[1]}<extra></extra>",
         "legendgroup": "MI",
         "marker": {
          "color": "#636efa"
         },
         "name": "MI",
         "offsetgroup": "MI",
         "orientation": "h",
         "showlegend": true,
         "textposition": "auto",
         "type": "bar",
         "width": 0.2,
         "x": [
          24,
          24
         ],
         "xaxis": "x6",
         "y": [
          "Care units",
          "Care units"
         ],
         "yaxis": "y6"
        },
        {
         "alignmentgroup": "True",
         "base": [
          0.0425,
          3.0508333333333333
         ],
         "customdata": [
          [
           27497725,
           "Medicine/Cardiology"
          ],
          [
           27497725,
           "Medicine/Cardiology"
          ]
         ],
         "hovertemplate": "color=Other units<br>intime=%{base}<br>outtime=%{x}<br>id=%{y}<br>hadm_id=%{customdata[0]}<br>detail=%{customdata[1]}<extra></extra>",
         "legendgroup": "Other units",
         "marker": {
          "color": "#EF553B"
         },
         "name": "Other units",
         "offsetgroup": "Other units",
         "orientation": "h",
         "showlegend": true,
         "textposition": "auto",
         "type": "bar",
         "width": 0.2,
         "x": [
          3.0083333333333333,
          89.48777777777778
         ],
         "xaxis": "x6",
         "y": [
          "Care units",
          "Care units"
         ],
         "yaxis": "y6"
        },
        {
         "alignmentgroup": "True",
         "base": [
          80.28333333333333,
          80.28333333333333
         ],
         "customdata": [
          [
           27497725,
           "02100Z9/Bypass Coronary Artery, One Artery from Left Internal Mammary, Open Approach"
          ],
          [
           27497725,
           "021209W/Bypass Coronary Artery, Three Arteries from Aorta with Autologous Venous Tissue, Open Approach"
          ]
         ],
         "hovertemplate": "color=CABG<br>intime=%{base}<br>outtime=%{x}<br>id=%{y}<br>hadm_id=%{customdata[0]}<br>detail=%{customdata[1]}<extra></extra>",
         "legendgroup": "CABG",
         "marker": {
          "color": "#00cc96"
         },
         "name": "CABG",
         "offsetgroup": "CABG",
         "orientation": "h",
         "showlegend": true,
         "textposition": "auto",
         "type": "bar",
         "width": 0.2,
         "x": [
          24,
          24
         ],
         "xaxis": "x6",
         "y": [
          "Events",
          "Events"
         ],
         "yaxis": "y6"
        },
        {
         "alignmentgroup": "True",
         "base": [
          92.53861111111111,
          253.4911111111111,
          253.64777777777778
         ],
         "customdata": [
          [
           27497725,
           "Cardiac Vascular Intensive Care Unit (CVICU)"
          ],
          [
           27497725,
           "Cardiac Vascular Intensive Care Unit (CVICU)"
          ],
          [
           27497725,
           "Cardiac Vascular Intensive Care Unit (CVICU)"
          ]
         ],
         "hovertemplate": "color=ICU<br>intime=%{base}<br>outtime=%{x}<br>id=%{y}<br>hadm_id=%{customdata[0]}<br>detail=%{customdata[1]}<extra></extra>",
         "legendgroup": "ICU",
         "marker": {
          "color": "#ab63fa"
         },
         "name": "ICU",
         "offsetgroup": "ICU",
         "orientation": "h",
         "showlegend": true,
         "textposition": "auto",
         "type": "bar",
         "width": 0.2,
         "x": [
          124.86749999999999,
          0.1566666666666663,
          34.69
         ],
         "xaxis": "x6",
         "y": [
          "Care units",
          "Care units",
          "Care units"
         ],
         "yaxis": "y6"
        },
        {
         "alignmentgroup": "True",
         "base": [
          217.4061111111111,
          288.3377777777778
         ],
         "customdata": [
          [
           27497725,
           "Cardiology Surgery Intermediate"
          ],
          [
           27497725,
           "Cardiology Surgery Intermediate"
          ]
         ],
         "hovertemplate": "color=Surgery<br>intime=%{base}<br>outtime=%{x}<br>id=%{y}<br>hadm_id=%{customdata[0]}<br>detail=%{customdata[1]}<extra></extra>",
         "legendgroup": "Surgery",
         "marker": {
          "color": "#FFA15A"
         },
         "name": "Surgery",
         "offsetgroup": "Surgery",
         "orientation": "h",
         "showlegend": true,
         "textposition": "auto",
         "type": "bar",
         "width": 0.2,
         "x": [
          36.08500000000001,
          71.24638888888887
         ],
         "xaxis": "x6",
         "y": [
          "Care units",
          "Care units"
         ],
         "yaxis": "y6"
        },
        {
         "alignmentgroup": "True",
         "base": [
          264.28333333333336,
          265.45
         ],
         "customdata": [
          [
           27497725,
           "Cath Lab (Sent)"
          ],
          [
           27497725,
           "Cath Lab (Received)"
          ]
         ],
         "hovertemplate": "color=Outcome<br>intime=%{base}<br>outtime=%{x}<br>id=%{y}<br>hadm_id=%{customdata[0]}<br>detail=%{customdata[1]}<extra></extra>",
         "legendgroup": "Outcome",
         "marker": {
          "color": "#19d3f3"
         },
         "name": "Outcome",
         "offsetgroup": "Outcome",
         "orientation": "h",
         "showlegend": true,
         "textposition": "auto",
         "type": "bar",
         "width": 0.2,
         "x": [
          24.01666666666665,
          24.01666666666665
         ],
         "xaxis": "x6",
         "y": [
          "Events",
          "Events"
         ],
         "yaxis": "y6"
        }
       ],
       "layout": {
        "annotations": [
         {
          "font": {
           "size": 16
          },
          "showarrow": false,
          "text": "Lactate",
          "x": 0.5,
          "xanchor": "center",
          "xref": "paper",
          "y": 0.9999999999999999,
          "yanchor": "bottom",
          "yref": "paper"
         },
         {
          "font": {
           "size": 16
          },
          "showarrow": false,
          "text": "Creatine Kinase (CK)",
          "x": 0.5,
          "xanchor": "center",
          "xref": "paper",
          "y": 0.8194444444444444,
          "yanchor": "bottom",
          "yref": "paper"
         },
         {
          "font": {
           "size": 16
          },
          "showarrow": false,
          "text": "Creatine Kinase, MB Isoenzyme",
          "x": 0.5,
          "xanchor": "center",
          "xref": "paper",
          "y": 0.638888888888889,
          "yanchor": "bottom",
          "yref": "paper"
         },
         {
          "font": {
           "size": 16
          },
          "showarrow": false,
          "text": "Troponin T",
          "x": 0.5,
          "xanchor": "center",
          "xref": "paper",
          "y": 0.4583333333333333,
          "yanchor": "bottom",
          "yref": "paper"
         },
         {
          "font": {
           "size": 16
          },
          "showarrow": false,
          "text": "Heart Rate",
          "x": 0.5,
          "xanchor": "center",
          "xref": "paper",
          "y": 0.2777777777777778,
          "yanchor": "bottom",
          "yref": "paper"
         },
         {
          "font": {
           "size": 16
          },
          "showarrow": false,
          "text": "Time line",
          "x": 0.5,
          "xanchor": "center",
          "xref": "paper",
          "y": 0.09722222222222222,
          "yanchor": "bottom",
          "yref": "paper"
         }
        ],
        "template": {
         "data": {
          "bar": [
           {
            "error_x": {
             "color": "#2a3f5f"
            },
            "error_y": {
             "color": "#2a3f5f"
            },
            "marker": {
             "line": {
              "color": "#E5ECF6",
              "width": 0.5
             },
             "pattern": {
              "fillmode": "overlay",
              "size": 10,
              "solidity": 0.2
             }
            },
            "type": "bar"
           }
          ],
          "barpolar": [
           {
            "marker": {
             "line": {
              "color": "#E5ECF6",
              "width": 0.5
             },
             "pattern": {
              "fillmode": "overlay",
              "size": 10,
              "solidity": 0.2
             }
            },
            "type": "barpolar"
           }
          ],
          "carpet": [
           {
            "aaxis": {
             "endlinecolor": "#2a3f5f",
             "gridcolor": "white",
             "linecolor": "white",
             "minorgridcolor": "white",
             "startlinecolor": "#2a3f5f"
            },
            "baxis": {
             "endlinecolor": "#2a3f5f",
             "gridcolor": "white",
             "linecolor": "white",
             "minorgridcolor": "white",
             "startlinecolor": "#2a3f5f"
            },
            "type": "carpet"
           }
          ],
          "choropleth": [
           {
            "colorbar": {
             "outlinewidth": 0,
             "ticks": ""
            },
            "type": "choropleth"
           }
          ],
          "contour": [
           {
            "colorbar": {
             "outlinewidth": 0,
             "ticks": ""
            },
            "colorscale": [
             [
              0,
              "#0d0887"
             ],
             [
              0.1111111111111111,
              "#46039f"
             ],
             [
              0.2222222222222222,
              "#7201a8"
             ],
             [
              0.3333333333333333,
              "#9c179e"
             ],
             [
              0.4444444444444444,
              "#bd3786"
             ],
             [
              0.5555555555555556,
              "#d8576b"
             ],
             [
              0.6666666666666666,
              "#ed7953"
             ],
             [
              0.7777777777777778,
              "#fb9f3a"
             ],
             [
              0.8888888888888888,
              "#fdca26"
             ],
             [
              1,
              "#f0f921"
             ]
            ],
            "type": "contour"
           }
          ],
          "contourcarpet": [
           {
            "colorbar": {
             "outlinewidth": 0,
             "ticks": ""
            },
            "type": "contourcarpet"
           }
          ],
          "heatmap": [
           {
            "colorbar": {
             "outlinewidth": 0,
             "ticks": ""
            },
            "colorscale": [
             [
              0,
              "#0d0887"
             ],
             [
              0.1111111111111111,
              "#46039f"
             ],
             [
              0.2222222222222222,
              "#7201a8"
             ],
             [
              0.3333333333333333,
              "#9c179e"
             ],
             [
              0.4444444444444444,
              "#bd3786"
             ],
             [
              0.5555555555555556,
              "#d8576b"
             ],
             [
              0.6666666666666666,
              "#ed7953"
             ],
             [
              0.7777777777777778,
              "#fb9f3a"
             ],
             [
              0.8888888888888888,
              "#fdca26"
             ],
             [
              1,
              "#f0f921"
             ]
            ],
            "type": "heatmap"
           }
          ],
          "heatmapgl": [
           {
            "colorbar": {
             "outlinewidth": 0,
             "ticks": ""
            },
            "colorscale": [
             [
              0,
              "#0d0887"
             ],
             [
              0.1111111111111111,
              "#46039f"
             ],
             [
              0.2222222222222222,
              "#7201a8"
             ],
             [
              0.3333333333333333,
              "#9c179e"
             ],
             [
              0.4444444444444444,
              "#bd3786"
             ],
             [
              0.5555555555555556,
              "#d8576b"
             ],
             [
              0.6666666666666666,
              "#ed7953"
             ],
             [
              0.7777777777777778,
              "#fb9f3a"
             ],
             [
              0.8888888888888888,
              "#fdca26"
             ],
             [
              1,
              "#f0f921"
             ]
            ],
            "type": "heatmapgl"
           }
          ],
          "histogram": [
           {
            "marker": {
             "pattern": {
              "fillmode": "overlay",
              "size": 10,
              "solidity": 0.2
             }
            },
            "type": "histogram"
           }
          ],
          "histogram2d": [
           {
            "colorbar": {
             "outlinewidth": 0,
             "ticks": ""
            },
            "colorscale": [
             [
              0,
              "#0d0887"
             ],
             [
              0.1111111111111111,
              "#46039f"
             ],
             [
              0.2222222222222222,
              "#7201a8"
             ],
             [
              0.3333333333333333,
              "#9c179e"
             ],
             [
              0.4444444444444444,
              "#bd3786"
             ],
             [
              0.5555555555555556,
              "#d8576b"
             ],
             [
              0.6666666666666666,
              "#ed7953"
             ],
             [
              0.7777777777777778,
              "#fb9f3a"
             ],
             [
              0.8888888888888888,
              "#fdca26"
             ],
             [
              1,
              "#f0f921"
             ]
            ],
            "type": "histogram2d"
           }
          ],
          "histogram2dcontour": [
           {
            "colorbar": {
             "outlinewidth": 0,
             "ticks": ""
            },
            "colorscale": [
             [
              0,
              "#0d0887"
             ],
             [
              0.1111111111111111,
              "#46039f"
             ],
             [
              0.2222222222222222,
              "#7201a8"
             ],
             [
              0.3333333333333333,
              "#9c179e"
             ],
             [
              0.4444444444444444,
              "#bd3786"
             ],
             [
              0.5555555555555556,
              "#d8576b"
             ],
             [
              0.6666666666666666,
              "#ed7953"
             ],
             [
              0.7777777777777778,
              "#fb9f3a"
             ],
             [
              0.8888888888888888,
              "#fdca26"
             ],
             [
              1,
              "#f0f921"
             ]
            ],
            "type": "histogram2dcontour"
           }
          ],
          "mesh3d": [
           {
            "colorbar": {
             "outlinewidth": 0,
             "ticks": ""
            },
            "type": "mesh3d"
           }
          ],
          "parcoords": [
           {
            "line": {
             "colorbar": {
              "outlinewidth": 0,
              "ticks": ""
             }
            },
            "type": "parcoords"
           }
          ],
          "pie": [
           {
            "automargin": true,
            "type": "pie"
           }
          ],
          "scatter": [
           {
            "marker": {
             "colorbar": {
              "outlinewidth": 0,
              "ticks": ""
             }
            },
            "type": "scatter"
           }
          ],
          "scatter3d": [
           {
            "line": {
             "colorbar": {
              "outlinewidth": 0,
              "ticks": ""
             }
            },
            "marker": {
             "colorbar": {
              "outlinewidth": 0,
              "ticks": ""
             }
            },
            "type": "scatter3d"
           }
          ],
          "scattercarpet": [
           {
            "marker": {
             "colorbar": {
              "outlinewidth": 0,
              "ticks": ""
             }
            },
            "type": "scattercarpet"
           }
          ],
          "scattergeo": [
           {
            "marker": {
             "colorbar": {
              "outlinewidth": 0,
              "ticks": ""
             }
            },
            "type": "scattergeo"
           }
          ],
          "scattergl": [
           {
            "marker": {
             "colorbar": {
              "outlinewidth": 0,
              "ticks": ""
             }
            },
            "type": "scattergl"
           }
          ],
          "scattermapbox": [
           {
            "marker": {
             "colorbar": {
              "outlinewidth": 0,
              "ticks": ""
             }
            },
            "type": "scattermapbox"
           }
          ],
          "scatterpolar": [
           {
            "marker": {
             "colorbar": {
              "outlinewidth": 0,
              "ticks": ""
             }
            },
            "type": "scatterpolar"
           }
          ],
          "scatterpolargl": [
           {
            "marker": {
             "colorbar": {
              "outlinewidth": 0,
              "ticks": ""
             }
            },
            "type": "scatterpolargl"
           }
          ],
          "scatterternary": [
           {
            "marker": {
             "colorbar": {
              "outlinewidth": 0,
              "ticks": ""
             }
            },
            "type": "scatterternary"
           }
          ],
          "surface": [
           {
            "colorbar": {
             "outlinewidth": 0,
             "ticks": ""
            },
            "colorscale": [
             [
              0,
              "#0d0887"
             ],
             [
              0.1111111111111111,
              "#46039f"
             ],
             [
              0.2222222222222222,
              "#7201a8"
             ],
             [
              0.3333333333333333,
              "#9c179e"
             ],
             [
              0.4444444444444444,
              "#bd3786"
             ],
             [
              0.5555555555555556,
              "#d8576b"
             ],
             [
              0.6666666666666666,
              "#ed7953"
             ],
             [
              0.7777777777777778,
              "#fb9f3a"
             ],
             [
              0.8888888888888888,
              "#fdca26"
             ],
             [
              1,
              "#f0f921"
             ]
            ],
            "type": "surface"
           }
          ],
          "table": [
           {
            "cells": {
             "fill": {
              "color": "#EBF0F8"
             },
             "line": {
              "color": "white"
             }
            },
            "header": {
             "fill": {
              "color": "#C8D4E3"
             },
             "line": {
              "color": "white"
             }
            },
            "type": "table"
           }
          ]
         },
         "layout": {
          "annotationdefaults": {
           "arrowcolor": "#2a3f5f",
           "arrowhead": 0,
           "arrowwidth": 1
          },
          "autotypenumbers": "strict",
          "coloraxis": {
           "colorbar": {
            "outlinewidth": 0,
            "ticks": ""
           }
          },
          "colorscale": {
           "diverging": [
            [
             0,
             "#8e0152"
            ],
            [
             0.1,
             "#c51b7d"
            ],
            [
             0.2,
             "#de77ae"
            ],
            [
             0.3,
             "#f1b6da"
            ],
            [
             0.4,
             "#fde0ef"
            ],
            [
             0.5,
             "#f7f7f7"
            ],
            [
             0.6,
             "#e6f5d0"
            ],
            [
             0.7,
             "#b8e186"
            ],
            [
             0.8,
             "#7fbc41"
            ],
            [
             0.9,
             "#4d9221"
            ],
            [
             1,
             "#276419"
            ]
           ],
           "sequential": [
            [
             0,
             "#0d0887"
            ],
            [
             0.1111111111111111,
             "#46039f"
            ],
            [
             0.2222222222222222,
             "#7201a8"
            ],
            [
             0.3333333333333333,
             "#9c179e"
            ],
            [
             0.4444444444444444,
             "#bd3786"
            ],
            [
             0.5555555555555556,
             "#d8576b"
            ],
            [
             0.6666666666666666,
             "#ed7953"
            ],
            [
             0.7777777777777778,
             "#fb9f3a"
            ],
            [
             0.8888888888888888,
             "#fdca26"
            ],
            [
             1,
             "#f0f921"
            ]
           ],
           "sequentialminus": [
            [
             0,
             "#0d0887"
            ],
            [
             0.1111111111111111,
             "#46039f"
            ],
            [
             0.2222222222222222,
             "#7201a8"
            ],
            [
             0.3333333333333333,
             "#9c179e"
            ],
            [
             0.4444444444444444,
             "#bd3786"
            ],
            [
             0.5555555555555556,
             "#d8576b"
            ],
            [
             0.6666666666666666,
             "#ed7953"
            ],
            [
             0.7777777777777778,
             "#fb9f3a"
            ],
            [
             0.8888888888888888,
             "#fdca26"
            ],
            [
             1,
             "#f0f921"
            ]
           ]
          },
          "colorway": [
           "#636efa",
           "#EF553B",
           "#00cc96",
           "#ab63fa",
           "#FFA15A",
           "#19d3f3",
           "#FF6692",
           "#B6E880",
           "#FF97FF",
           "#FECB52"
          ],
          "font": {
           "color": "#2a3f5f"
          },
          "geo": {
           "bgcolor": "white",
           "lakecolor": "white",
           "landcolor": "#E5ECF6",
           "showlakes": true,
           "showland": true,
           "subunitcolor": "white"
          },
          "hoverlabel": {
           "align": "left"
          },
          "hovermode": "closest",
          "mapbox": {
           "style": "light"
          },
          "paper_bgcolor": "white",
          "plot_bgcolor": "#E5ECF6",
          "polar": {
           "angularaxis": {
            "gridcolor": "white",
            "linecolor": "white",
            "ticks": ""
           },
           "bgcolor": "#E5ECF6",
           "radialaxis": {
            "gridcolor": "white",
            "linecolor": "white",
            "ticks": ""
           }
          },
          "scene": {
           "xaxis": {
            "backgroundcolor": "#E5ECF6",
            "gridcolor": "white",
            "gridwidth": 2,
            "linecolor": "white",
            "showbackground": true,
            "ticks": "",
            "zerolinecolor": "white"
           },
           "yaxis": {
            "backgroundcolor": "#E5ECF6",
            "gridcolor": "white",
            "gridwidth": 2,
            "linecolor": "white",
            "showbackground": true,
            "ticks": "",
            "zerolinecolor": "white"
           },
           "zaxis": {
            "backgroundcolor": "#E5ECF6",
            "gridcolor": "white",
            "gridwidth": 2,
            "linecolor": "white",
            "showbackground": true,
            "ticks": "",
            "zerolinecolor": "white"
           }
          },
          "shapedefaults": {
           "line": {
            "color": "#2a3f5f"
           }
          },
          "ternary": {
           "aaxis": {
            "gridcolor": "white",
            "linecolor": "white",
            "ticks": ""
           },
           "baxis": {
            "gridcolor": "white",
            "linecolor": "white",
            "ticks": ""
           },
           "bgcolor": "#E5ECF6",
           "caxis": {
            "gridcolor": "white",
            "linecolor": "white",
            "ticks": ""
           }
          },
          "title": {
           "x": 0.05
          },
          "xaxis": {
           "automargin": true,
           "gridcolor": "white",
           "linecolor": "white",
           "ticks": "",
           "title": {
            "standoff": 15
           },
           "zerolinecolor": "white",
           "zerolinewidth": 2
          },
          "yaxis": {
           "automargin": true,
           "gridcolor": "white",
           "linecolor": "white",
           "ticks": "",
           "title": {
            "standoff": 15
           },
           "zerolinecolor": "white",
           "zerolinewidth": 2
          }
         }
        },
        "title": {
         "text": "id: 27497725"
        },
        "xaxis": {
         "anchor": "y",
         "domain": [
          0,
          1
         ],
         "matches": "x6",
         "showticklabels": false
        },
        "xaxis2": {
         "anchor": "y2",
         "domain": [
          0,
          1
         ],
         "matches": "x6",
         "showticklabels": false
        },
        "xaxis3": {
         "anchor": "y3",
         "domain": [
          0,
          1
         ],
         "matches": "x6",
         "showticklabels": false
        },
        "xaxis4": {
         "anchor": "y4",
         "domain": [
          0,
          1
         ],
         "matches": "x6",
         "showticklabels": false
        },
        "xaxis5": {
         "anchor": "y5",
         "domain": [
          0,
          1
         ],
         "matches": "x6",
         "showticklabels": false
        },
        "xaxis6": {
         "anchor": "y6",
         "domain": [
          0,
          1
         ]
        },
        "yaxis": {
         "anchor": "x",
         "domain": [
          0.9027777777777777,
          0.9999999999999999
         ]
        },
        "yaxis2": {
         "anchor": "x2",
         "domain": [
          0.7222222222222222,
          0.8194444444444444
         ]
        },
        "yaxis3": {
         "anchor": "x3",
         "domain": [
          0.5416666666666667,
          0.638888888888889
         ]
        },
        "yaxis4": {
         "anchor": "x4",
         "domain": [
          0.3611111111111111,
          0.4583333333333333
         ]
        },
        "yaxis5": {
         "anchor": "x5",
         "domain": [
          0.18055555555555555,
          0.2777777777777778
         ]
        },
        "yaxis6": {
         "anchor": "x6",
         "domain": [
          0,
          0.09722222222222222
         ]
        }
       }
      }
     },
     "metadata": {},
     "output_type": "display_data"
    }
   ],
   "source": [
    "fig.update_layout(title_text = f\"id: {new_id}\")\n",
    "fig.show()\n",
    "\n",
    "\n",
    "fig.write_html(ADD_DATA+f'fig_timeline_id{new_id}.html')\n"
   ]
  },
  {
   "cell_type": "code",
   "execution_count": null,
   "metadata": {},
   "outputs": [],
   "source": [
    "df_che.dtypes\n",
    "print(df_che[df_che['itemid'].isin(list_itemids)])\n",
    "df_che"
   ]
  },
  {
   "cell_type": "code",
   "execution_count": null,
   "metadata": {},
   "outputs": [],
   "source": []
  },
  {
   "cell_type": "code",
   "execution_count": null,
   "metadata": {},
   "outputs": [],
   "source": [
    "df_che_main = df_che.copy()"
   ]
  },
  {
   "cell_type": "code",
   "execution_count": null,
   "metadata": {},
   "outputs": [],
   "source": [
    "df_che[df_che['itemid']==228445]\n"
   ]
  },
  {
   "cell_type": "code",
   "execution_count": null,
   "metadata": {},
   "outputs": [],
   "source": [
    "# read desired itemids from csv files\n",
    "\n",
    "ADD_DATA = \"C:\\\\DATA\\\\data\\\\raw\\\\mimic4\\\\lookup\\\\\"\n",
    "df= pd.read_csv(ADD_DATA+'d_lookup_le.csv')\n",
    "le_itemdids = df['itemid']\n",
    "\n",
    "\n",
    "df= pd.read_csv(ADD_DATA+'d_lookup_che.csv')\n",
    "che_itemdids = df['itemid']\n",
    "\n",
    "\n",
    "grid='1H'\n"
   ]
  },
  {
   "cell_type": "code",
   "execution_count": null,
   "metadata": {},
   "outputs": [],
   "source": [
    "df_le = df_le_main\n",
    "df_che = df_che_main\n",
    "print(len(df_demo['hadm_id'].unique()))\n",
    "print(len(df_le['hadm_id'].unique()))\n",
    "print(len(df_icustay['stay_id'].unique()))\n",
    "\n",
    "icustay_ids = len(df_icustay['stay_id'].unique())\n",
    "\n",
    "df_le = df_le[df_le['itemid'].isin(le_itemdids)]\n",
    "df_che = df_che[df_che['itemid'].isin(che_itemdids)]\n",
    "\n",
    "print(df_le['itemid'].value_counts())\n",
    "\n",
    "\n",
    "df_le = pd.merge(df_le[['hadm_id','itemid','charttime','valuenum']],\n",
    "         df_icustay, on='hadm_id',how='inner')\n",
    "\n",
    "df_che = pd.merge(df_che[['hadm_id','itemid','charttime','valuenum']],\n",
    "         df_icustay, on='hadm_id',how='inner')"
   ]
  },
  {
   "cell_type": "code",
   "execution_count": null,
   "metadata": {},
   "outputs": [],
   "source": [
    "# filtering icu stays, reset charttime to start from zero (icu admission)\n",
    "\n",
    "df_le['temp1'] = round((df_le['charttime'] - df_le['intime']) / np.timedelta64(1, 's')/3600,2)\n",
    "df_le['temp2'] = round((df_le['outtime'] - df_le['charttime']) / np.timedelta64(1, 's')/3600,2)\n",
    "df_le = df_le[ (df_le['temp1']>0) & (df_le['temp2']>0) ]\n",
    "df_le['charttime'] = df_le['temp1']\n",
    "df_le = df_le.sort_values(['stay_id','itemid', 'charttime'])\n",
    "\n",
    "df_che['temp1'] = round((df_che['charttime'] - df_che['intime']) / np.timedelta64(1, 's')/3600,2)\n",
    "df_che['temp2'] = round((df_che['outtime'] - df_che['charttime']) / np.timedelta64(1, 's')/3600,2)\n",
    "df_che = df_che[ (df_che['temp1']>0) & (df_che['temp2']>0) ]\n",
    "df_che['charttime'] = df_che['temp1']\n",
    "df_che = df_che.sort_values(['stay_id','itemid', 'charttime'])\n",
    "\n",
    "\n"
   ]
  },
  {
   "cell_type": "code",
   "execution_count": null,
   "metadata": {},
   "outputs": [],
   "source": [
    "#convert charttime(int) to hours, and resample and forward fill imputation\n",
    "\n",
    "from datetime import datetime\n",
    "\n",
    "\n",
    "df_le = df_le[['stay_id','itemid','charttime','valuenum']][:]\n",
    "df1=df_le\n",
    "df_le['charttime'] = datetime(2000,1,1,0,0,0) + df_le.charttime.astype('timedelta64[h]')\n",
    "df_le = df_le.set_index('charttime')\n",
    "# print(df_le.index)\n",
    "df_le= df_le.groupby(['stay_id','itemid']).resample(grid)['valuenum'].last().reset_index(drop=False)\n",
    "df_le['valuenum']= df_le.groupby(['stay_id','itemid'])['valuenum'].fillna(method='ffill')\n",
    "df_le = df_le.sort_values(['stay_id','itemid', 'charttime'])\n",
    "\n",
    "\n",
    "\n",
    "df_che = df_che[['stay_id','itemid','charttime','valuenum']][:]\n",
    "df1=df_che\n",
    "df_che['charttime'] = datetime(2000,1,1,0,0,0) + df_che.charttime.astype('timedelta64[h]')\n",
    "df_che = df_che.set_index('charttime')\n",
    "# print(df_che.index)\n",
    "df_che= df_che.groupby(['stay_id','itemid']).resample(grid)['valuenum'].last().reset_index(drop=False)\n",
    "df_che['valuenum']= df_che.groupby(['stay_id','itemid'])['valuenum'].fillna(method='ffill')\n",
    "df_che = df_che.sort_values(['stay_id','itemid', 'charttime'])\n"
   ]
  },
  {
   "cell_type": "code",
   "execution_count": null,
   "metadata": {},
   "outputs": [],
   "source": [
    "# pivot dataframes so that each measurement is a column\n",
    "# concatenate df_le and df_che\n",
    "\n",
    "df_lee = df_le.set_index(['charttime','stay_id'])\n",
    "df_lee = df_lee.pivot(columns = 'itemid', values='valuenum')\n",
    "\n",
    "df_chee = df_che.set_index(['charttime','stay_id'])\n",
    "df_chee = df_chee.pivot(columns = 'itemid', values='valuenum')\n",
    "\n",
    "df = pd.concat([df_lee, df_chee], axis=1)\n",
    "# df = df_chee\n",
    "\n",
    "\n",
    "df = df.reset_index(drop=False)\n",
    "df = df.sort_values(['stay_id', 'charttime'])\n",
    "\n",
    "\n",
    "print(df.isnull().sum())\n",
    "print(len(df))\n",
    "\n",
    "\n",
    "print(df.dropna().isnull().sum())\n",
    "print(len(df.dropna()))\n",
    "\n",
    "df = df.dropna(subset=[51003])\n"
   ]
  },
  {
   "cell_type": "code",
   "execution_count": null,
   "metadata": {},
   "outputs": [],
   "source": [
    "df\n",
    "print(df['stay_id'].value_counts())\n",
    "sample_id = df['stay_id'].value_counts().index[0]\n",
    "print(sample_id)"
   ]
  },
  {
   "cell_type": "code",
   "execution_count": null,
   "metadata": {},
   "outputs": [],
   "source": [
    "# plot before normalization\n",
    "\n",
    "stay_ids = df_icustay['stay_id'].unique().tolist()\n",
    "# print(df['stay_id'].value_counts())\n",
    "\n",
    "\n",
    "df_temp = df[df['stay_id']==sample_id ]\n",
    "fig = px.line(df_temp, x='charttime', y=[220045, 220210, 51003], markers=True)\n",
    "fig.show()\n",
    "\n",
    "\n",
    "# df_temp = df_le[df_le['stay_id']==39132344    ]\n",
    "# fig = px.line(df_temp, x='charttime', y='valuenum', color='itemid', markers=True)\n",
    "# fig.show()\n",
    "\n",
    "\n",
    "# df_temp = df_che[df_che['stay_id']==39132344    ]\n",
    "# fig = px.line(df_temp, x='charttime', y='valuenum', color='itemid', markers=True)\n",
    "# fig.show()"
   ]
  },
  {
   "cell_type": "code",
   "execution_count": null,
   "metadata": {},
   "outputs": [],
   "source": [
    "df_temp"
   ]
  },
  {
   "cell_type": "code",
   "execution_count": null,
   "metadata": {},
   "outputs": [],
   "source": [
    "# normalizing the data\n",
    "\n",
    "from sklearn.preprocessing import MinMaxScaler\n",
    "# define min max scaler\n",
    "scaler = MinMaxScaler()\n",
    "# transform data\n",
    "df_temp = df_temp.set_index(['charttime','stay_id'])\n",
    "\n",
    "df_temp = pd.DataFrame(scaler.fit_transform(df_temp), index=df_temp.index, columns=df_temp.columns)\n",
    "df_temp = df_temp.reset_index(drop=False)\n"
   ]
  },
  {
   "cell_type": "code",
   "execution_count": null,
   "metadata": {},
   "outputs": [],
   "source": [
    "# plot after normalization\n",
    "\n",
    "print(df_temp.columns)\n",
    "fig = px.line(df_temp, x='charttime', y=[       220045,    220210,  ], markers=True)\n",
    "fig.show()\n"
   ]
  },
  {
   "cell_type": "code",
   "execution_count": null,
   "metadata": {},
   "outputs": [],
   "source": [
    "from sklearn.model_selection import GroupShuffleSplit\n",
    "splitter = GroupShuffleSplit(test_size=.20, n_splits=1, random_state = 7)\n",
    "split = splitter.split(df, groups=df['stay_id'])\n",
    "train_inds, test_inds = next(split)\n",
    "\n",
    "df_train = df.iloc[train_inds]\n",
    "df_test = df.iloc[test_inds]\n",
    "\n",
    "print(len(df['stay_id'].unique()))\n",
    "print(len(df_train['stay_id'].unique()))\n",
    "print(len(df_test['stay_id'].unique()))"
   ]
  },
  {
   "cell_type": "code",
   "execution_count": null,
   "metadata": {},
   "outputs": [],
   "source": [
    "def split_series(series, n_past, n_future):\n",
    "  #\n",
    "  # n_past ==> no of past observations\n",
    "  #\n",
    "  # n_future ==> no of future observations \n",
    "  #\n",
    "  X, y = list(), list()\n",
    "  for window_start in range(len(series)):\n",
    "    past_end = window_start + n_past\n",
    "    future_end = past_end + n_future\n",
    "    if future_end > len(series):\n",
    "      break\n",
    "    # slicing the past and future parts of the window\n",
    "    past, future = series[window_start:past_end, :], series[past_end:future_end, :]\n",
    "    X.append(past)\n",
    "    y.append(future)\n",
    "  return np.array(X), np.array(y)\n",
    "\n",
    "n_past = 3  # * grid\n",
    "n_future = 2 # * grid\n",
    "n_features = 2\n",
    "\n",
    "\n",
    "\n",
    "\n",
    "# convert train dataframe to numpy\n",
    "stay_ids = df_train['stay_id'].unique()\n",
    "list_X = []\n",
    "list_y = []\n",
    "for i in stay_ids:\n",
    "  df_temp = df_train[df_train['stay_id']==i].drop(columns=['stay_id','charttime']).to_numpy()\n",
    "  X_train, y_train = split_series(df_temp ,n_past, n_future)\n",
    "  \n",
    "  list_X.append(X_train)\n",
    "  list_y.append(y_train)\n",
    "\n",
    "list_X = [i for i in list_X if i.ndim==3]\n",
    "list_y = [i for i in list_y if i.ndim==3]\n",
    "\n",
    "X_train=np.concatenate(list_X, axis = 0)\n",
    "y_train=np.concatenate(list_y, axis = 0)\n",
    "\n",
    "\n",
    "\n",
    "# convert test dataframe to numpy\n",
    "stay_ids = df_test['stay_id'].unique()\n",
    "list_X = []\n",
    "list_y = []\n",
    "for i in stay_ids:\n",
    "  df_temp = df_test[df_test['stay_id']==i].drop(columns=['stay_id','charttime']).to_numpy()\n",
    "  X_test, y_test = split_series(df_temp ,n_past, n_future)\n",
    "\n",
    "  list_X.append(X_test)\n",
    "  list_y.append(y_test)\n",
    "\n",
    "list_X = [i for i in list_X if i.ndim==3]\n",
    "list_y = [i for i in list_y if i.ndim==3]\n",
    "\n",
    "X_test=np.concatenate(list_X, axis = 0)\n",
    "y_test=np.concatenate(list_y, axis = 0)\n",
    "\n",
    "\n",
    "print(f\"\"\" \n",
    "X_train.shape = {X_train.shape}\n",
    "y_train.shape = {y_train.shape}\n",
    "X_test.shape = {X_test.shape}\n",
    "y_test.shape = {y_test.shape}\n",
    " \"\"\")\n"
   ]
  },
  {
   "cell_type": "code",
   "execution_count": null,
   "metadata": {},
   "outputs": [],
   "source": [
    "\n",
    "import tensorflow as tf\n",
    "import os\n",
    "n_features=X_train.shape[-1]\n",
    "n_past=X_train.shape[-2]\n",
    "n_future=y_train.shape[-1]\n",
    "\n",
    "print(X_train.shape, X_test.shape)"
   ]
  },
  {
   "cell_type": "code",
   "execution_count": null,
   "metadata": {},
   "outputs": [],
   "source": [
    "encoder = tf.keras.models.Sequential([\n",
    "    # tf.keras.layers.LSTM(100, return_state=True, input_shape = (n_past,n_features)),\n",
    "    tf.keras.layers.Flatten(input_shape=[3, 2]),\n",
    "    tf.keras.layers.Dense(100, activation=\"relu\"),\n",
    "    tf.keras.layers.Dense(30, activation=\"relu\"),\n",
    "])"
   ]
  },
  {
   "cell_type": "code",
   "execution_count": null,
   "metadata": {},
   "outputs": [],
   "source": [
    "# E1D1\n",
    "# n_features ==> no of features at each timestep in the data.\n",
    "#\n",
    "encoder_inputs = tf.keras.layers.Input(shape=(n_past, n_features))\n",
    "encoder_l1 = tf.keras.layers.LSTM(100, return_state=True)\n",
    "encoder_outputs1 = encoder_l1(encoder_inputs)\n",
    "\n",
    "encoder_states1 = encoder_outputs1[1:]\n",
    "\n",
    "#\n",
    "decoder_inputs = tf.keras.layers.RepeatVector(n_future)(encoder_outputs1[0])\n",
    "\n",
    "#\n",
    "decoder_l1 = tf.keras.layers.LSTM(100, return_sequences=True)(decoder_inputs,initial_state = encoder_states1)\n",
    "decoder_outputs1 = tf.keras.layers.TimeDistributed(tf.keras.layers.Dense(n_features))(decoder_l1)\n",
    "\n",
    "#\n",
    "model_e1d1 = tf.keras.models.Model(encoder_inputs,decoder_outputs1)\n",
    "\n",
    "#\n",
    "model_e1d1.summary()"
   ]
  },
  {
   "cell_type": "code",
   "execution_count": null,
   "metadata": {},
   "outputs": [],
   "source": [
    "reduce_lr = tf.keras.callbacks.LearningRateScheduler(lambda x: 1e-3 * 0.90 ** x)\n",
    "model_e1d1.compile(optimizer=tf.keras.optimizers.Adam(), loss=tf.keras.losses.Huber())\n",
    "history_e1d1=model_e1d1.fit(X_train,y_train,epochs=25,validation_data=(X_test,y_test),batch_size=32,verbose=1,callbacks=[reduce_lr])\n"
   ]
  },
  {
   "cell_type": "code",
   "execution_count": null,
   "metadata": {},
   "outputs": [],
   "source": [
    "print(history_e1d1.history['loss'])\n",
    "plt.plot(history_e1d1.history['loss'])\n",
    "plt.plot(history_e1d1.history['val_loss'])\n",
    "plt.title(\"E1D1 Model Loss\")\n",
    "plt.xlabel('Epochs')\n",
    "plt.ylabel('Loss')\n",
    "plt.legend(['Train', 'Valid'])\n",
    "plt.show()"
   ]
  },
  {
   "cell_type": "code",
   "execution_count": null,
   "metadata": {},
   "outputs": [],
   "source": [
    "pred1_e1d1=model_e1d1.predict(X_test)\n",
    "# pred1_e2d2=model_e2d2.predict(X_test)\n",
    "\n",
    "pred_e1d1=model_e1d1.predict(X_train)\n",
    "# pred_e2d2=model_e2d2.predict(X_train)"
   ]
  },
  {
   "cell_type": "code",
   "execution_count": null,
   "metadata": {},
   "outputs": [],
   "source": [
    "print(pred1_e1d1.shape)\n",
    "print(y_test.shape)\n",
    "temp_test = y_test.reshape(-1,2)\n",
    "temp_pred = pred1_e1d1.reshape(-1,2)\n",
    "\n",
    "\n",
    "print(temp_pred.shape)\n",
    "df_temp = pd.DataFrame(temp_pred[:1000,:],columns=[       220045,    220210,  ])\n",
    "fig = px.line(df_temp, y=[       220045,    220210,  ], markers=True)\n",
    "\n",
    "df_temp = pd.DataFrame(temp_test[:1000,:],columns=[       220045,    220210,  ])\n",
    "fig = px.line(df_temp, y=[       220045,    220210,  ], markers=True)\n",
    "\n",
    "\n",
    "fig.show()"
   ]
  },
  {
   "cell_type": "code",
   "execution_count": null,
   "metadata": {},
   "outputs": [],
   "source": [
    "normal_df = df\n",
    "RANDOM_SEED = 1374"
   ]
  },
  {
   "cell_type": "code",
   "execution_count": null,
   "metadata": {},
   "outputs": [],
   "source": [
    "from sklearn.model_selection import train_test_split\n",
    "\n",
    "train_df, val_df = train_test_split(\n",
    "  normal_df,\n",
    "  test_size=0.15,\n",
    "  random_state=RANDOM_SEED\n",
    ")\n",
    "val_df, test_df = train_test_split(\n",
    "  val_df,\n",
    "  test_size=0.33,\n",
    "  random_state=RANDOM_SEED\n",
    ")"
   ]
  },
  {
   "cell_type": "code",
   "execution_count": null,
   "metadata": {},
   "outputs": [],
   "source": [
    "# Data preprocessing\n",
    "def create_dataset(df):\n",
    "  sequences = df.astype(np.float32).to_numpy().tolist()\n",
    "  dataset = [torch.tensor(s).unsqueeze(1).float() for s in sequences]\n",
    "  n_seq, seq_len, n_features = torch.stack(dataset).shape\n",
    "  return dataset, seq_len, n_features\n",
    "\n",
    "\n",
    "train_dataset, seq_len, n_features = create_dataset(train_df)\n",
    "val_dataset, _, _ = create_dataset(val_df)\n",
    "test_normal_dataset, _, _ = create_dataset(test_df)\n",
    "test_anomaly_dataset, _, _ = create_dataset(anomaly_df)"
   ]
  },
  {
   "cell_type": "code",
   "execution_count": null,
   "metadata": {},
   "outputs": [],
   "source": [
    "import torch\n",
    "import torch.nn as nn\n",
    "\n",
    "device = torch.device(\"cuda\" if torch.cuda.is_available() else \"cpu\")\n",
    "\n",
    "class Encoder(nn.Module):\n",
    "  def __init__(self, seq_len, n_features, embedding_dim=64):\n",
    "    super(Encoder, self).__init__()\n",
    "    self.seq_len, self.n_features = seq_len, n_features\n",
    "    self.embedding_dim, self.hidden_dim = embedding_dim, 2 * embedding_dim\n",
    "    self.rnn1 = nn.LSTM(\n",
    "      input_size=n_features,\n",
    "      hidden_size=self.hidden_dim,\n",
    "      num_layers=1,\n",
    "      batch_first=True\n",
    "    )\n",
    "    self.rnn2 = nn.LSTM(\n",
    "      input_size=self.hidden_dim,\n",
    "      hidden_size=embedding_dim,\n",
    "      num_layers=1,\n",
    "      batch_first=True\n",
    "    )\n",
    "  def forward(self, x):\n",
    "    x = x.reshape((1, self.seq_len, self.n_features))\n",
    "    x, (_, _) = self.rnn1(x)\n",
    "    x, (hidden_n, _) = self.rnn2(x)\n",
    "    return hidden_n.reshape((self.n_features, self.embedding_dim))\n",
    "\n",
    "\n",
    "class Decoder(nn.Module):\n",
    "  def __init__(self, seq_len, input_dim=64, n_features=1):\n",
    "    super(Decoder, self).__init__()\n",
    "    self.seq_len, self.input_dim = seq_len, input_dim\n",
    "    self.hidden_dim, self.n_features = 2 * input_dim, n_features\n",
    "    self.rnn1 = nn.LSTM(\n",
    "      input_size=input_dim,\n",
    "      hidden_size=input_dim,\n",
    "      num_layers=1,\n",
    "      batch_first=True\n",
    "    )\n",
    "    self.rnn2 = nn.LSTM(\n",
    "      input_size=input_dim,\n",
    "      hidden_size=self.hidden_dim,\n",
    "      num_layers=1,\n",
    "      batch_first=True\n",
    "    )\n",
    "    self.output_layer = nn.Linear(self.hidden_dim, n_features)\n",
    "  def forward(self, x):\n",
    "    x = x.repeat(self.seq_len, self.n_features)\n",
    "    x = x.reshape((self.n_features, self.seq_len, self.input_dim))\n",
    "    x, (hidden_n, cell_n) = self.rnn1(x)\n",
    "    x, (hidden_n, cell_n) = self.rnn2(x)\n",
    "    x = x.reshape((self.seq_len, self.hidden_dim))\n",
    "    return self.output_layer(x)\n",
    "\n",
    "class RecurrentAutoencoder(nn.Module):\n",
    "  def __init__(self, seq_len, n_features, embedding_dim=64):\n",
    "    super(RecurrentAutoencoder, self).__init__()\n",
    "    self.encoder = Encoder(seq_len, n_features, embedding_dim).to(device)\n",
    "    self.decoder = Decoder(seq_len, embedding_dim, n_features).to(device)\n",
    "  def forward(self, x):\n",
    "    x = self.encoder(x)\n",
    "    x = self.decoder(x)\n",
    "    return x\n",
    "\n"
   ]
  },
  {
   "cell_type": "code",
   "execution_count": null,
   "metadata": {},
   "outputs": [],
   "source": [
    "import copy\n",
    "\n",
    "def train_model(model, train_dataset, val_dataset, n_epochs):\n",
    "  optimizer = torch.optim.Adam(model.parameters(), lr=1e-3)\n",
    "  criterion = nn.L1Loss(reduction='sum').to(device)\n",
    "  history = dict(train=[], val=[])\n",
    "  best_model_wts = copy.deepcopy(model.state_dict())\n",
    "  best_loss = 10000.0\n",
    "  for epoch in range(1, n_epochs + 1):\n",
    "    model = model.train()\n",
    "    train_losses = []\n",
    "    for seq_true in train_dataset:\n",
    "      optimizer.zero_grad()\n",
    "      seq_true = seq_true.to(device)\n",
    "      seq_pred = model(seq_true)\n",
    "      loss = criterion(seq_pred, seq_true)\n",
    "      loss.backward()\n",
    "      optimizer.step()\n",
    "      train_losses.append(loss.item())\n",
    "    val_losses = []\n",
    "    model = model.eval()\n",
    "    with torch.no_grad():\n",
    "      for seq_true in val_dataset:\n",
    "        seq_true = seq_true.to(device)\n",
    "        seq_pred = model(seq_true)\n",
    "        loss = criterion(seq_pred, seq_true)\n",
    "        val_losses.append(loss.item())\n",
    "    train_loss = np.mean(train_losses)\n",
    "    val_loss = np.mean(val_losses)\n",
    "    history['train'].append(train_loss)\n",
    "    history['val'].append(val_loss)\n",
    "    if val_loss < best_loss:\n",
    "      best_loss = val_loss\n",
    "      best_model_wts = copy.deepcopy(model.state_dict())\n",
    "    print(f'Epoch {epoch}: train loss {train_loss} val loss {val_loss}')\n",
    "  model.load_state_dict(best_model_wts)\n",
    "  return model.eval(), history"
   ]
  },
  {
   "cell_type": "code",
   "execution_count": null,
   "metadata": {},
   "outputs": [],
   "source": [
    "model = RecurrentAutoencoder(seq_len, n_features, 128)\n",
    "model = model.to(device)\n",
    "\n",
    "model, history = train_model(\n",
    "  model,\n",
    "  train_dataset,\n",
    "  val_dataset,\n",
    "  n_epochs=150\n",
    ")"
   ]
  },
  {
   "cell_type": "code",
   "execution_count": null,
   "metadata": {},
   "outputs": [],
   "source": []
  }
 ],
 "metadata": {
  "interpreter": {
   "hash": "692b5e2d12f195d9871f826942f162b043f4d98bf5c4cdab88d951c18cf95221"
  },
  "kernelspec": {
   "display_name": "Python 3.9.7 ('dashVis')",
   "language": "python",
   "name": "python3"
  },
  "language_info": {
   "codemirror_mode": {
    "name": "ipython",
    "version": 3
   },
   "file_extension": ".py",
   "mimetype": "text/x-python",
   "name": "python",
   "nbconvert_exporter": "python",
   "pygments_lexer": "ipython3",
   "version": "3.9.7"
  },
  "orig_nbformat": 4
 },
 "nbformat": 4,
 "nbformat_minor": 2
}
