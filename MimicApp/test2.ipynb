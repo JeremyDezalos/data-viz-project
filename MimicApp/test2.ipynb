{
 "cells": [
  {
   "cell_type": "code",
   "execution_count": 1,
   "metadata": {},
   "outputs": [],
   "source": [
    "# importing the libraries\n",
    "import numpy as np\n",
    "import torch \n",
    "from torch import nn\n",
    "from torch.nn import functional as F\n",
    "import matplotlib.pyplot as plt"
   ]
  },
  {
   "cell_type": "code",
   "execution_count": 2,
   "metadata": {},
   "outputs": [
    {
     "data": {
      "image/png": "[encoded data removed]",
      "text/plain": [
       "<Figure size 432x288 with 1 Axes>"
      ]
     },
     "metadata": {
      "needs_background": "light"
     },
     "output_type": "display_data"
    }
   ],
   "source": [
    "#dataset\n",
    "x = np.arange(720)\n",
    "y = np.cos(np.radians(x)) + np.random.rand(720)*0.1\n",
    "plt.figure()\n",
    "plt.plot(x,y,label='cos')\n",
    "plt.show()"
   ]
  },
  {
   "cell_type": "markdown",
   "metadata": {},
   "source": [
    "![title](\"img/dd.png\")\n"
   ]
  },
  {
   "cell_type": "code",
   "execution_count": null,
   "metadata": {},
   "outputs": [],
   "source": []
  },
  {
   "cell_type": "markdown",
   "metadata": {},
   "source": []
  },
  {
   "cell_type": "code",
   "execution_count": 3,
   "metadata": {},
   "outputs": [],
   "source": [
    "# data pre-processing\n",
    "X = []\n",
    "Y = []\n",
    "for i in range(y.shape[0]-10):\n",
    "  lis = []\n",
    "  for j in range(i,i+10):\n",
    "    lis.append(y[j])\n",
    "  X.append(lis)\n",
    "  Y.append(y[i+10])\n",
    "\n",
    "X = np.array(X)\n",
    "Y = np.array(Y)\n",
    "\n",
    "\n",
    "X = torch.tensor(X,dtype=torch.float32).reshape(-1,10,1)\n",
    "Y = torch.tensor(Y)\n",
    "\n"
   ]
  },
  {
   "cell_type": "code",
   "execution_count": 6,
   "metadata": {},
   "outputs": [
    {
     "name": "stdout",
     "output_type": "stream",
     "text": [
      "cpu\n"
     ]
    }
   ],
   "source": [
    "# network\n",
    "class net(nn.Module):\n",
    "  def __init__(self):\n",
    "    super(net,self).__init__()\n",
    "    self.l1 = nn.LSTM(input_size=1,hidden_size=20,num_layers=1,batch_first=True)\n",
    "    self.l2 = nn.Linear(in_features=20,out_features=1)\n",
    "  \n",
    "  def forward(self,x):\n",
    "    print(x.shape)\n",
    "    x,_ = self.l1(x)\n",
    "    print(x.shape)\n",
    "    x = self.l2(torch.relu(x[:,-1]))\n",
    "    print(x.shape)\n",
    "    return x\n",
    "\n",
    "model = net()\n",
    "device = torch.device(\"cuda\" if torch.cuda.is_available() else \"cpu\")\n",
    "device=torch.device('cpu')\n",
    "print(device)\n",
    "\n",
    "model = model.to(device)\n",
    "X = X.to(device)\n",
    "Y = Y.to(device)\n"
   ]
  },
  {
   "cell_type": "code",
   "execution_count": 7,
   "metadata": {},
   "outputs": [
    {
     "name": "stdout",
     "output_type": "stream",
     "text": [
      "torch.Size([700, 10, 1])\n",
      "torch.Size([700, 10, 20])\n",
      "torch.Size([700, 1])\n",
      "-----------------------------------------------------------------------\n",
      "             Layer (type)                Input Shape         Param #\n",
      "=======================================================================\n",
      "                   LSTM-1                [-1, 10, 1]               0\n",
      "                 Linear-2                   [-1, 20]              21\n",
      "=======================================================================\n",
      "Total params: 21\n",
      "Trainable params: 21\n",
      "Non-trainable params: 0\n",
      "-----------------------------------------------------------------------\n"
     ]
    }
   ],
   "source": [
    "# from torchsummary import summary\n",
    "# summary(model, input_size=(10,1), batch_size=-1)\n",
    "\n",
    "from modelsummary import summary\n",
    "\n",
    "\n",
    "# show input shape\n",
    "summary(model,  torch.zeros((700,10,1)), show_input=True, show_hierarchical=False)\n",
    "\n"
   ]
  },
  {
   "cell_type": "code",
   "execution_count": 34,
   "metadata": {},
   "outputs": [],
   "source": [
    "# from torchsummary import summary\n",
    "\n",
    "\n",
    "\n",
    "# print(model)\n",
    "# summary(model,( 10, 1))\n",
    "# # converting to tensor\n",
    "# print(X.shape, Y.shape)\n",
    "\n"
   ]
  },
  {
   "cell_type": "code",
   "execution_count": 35,
   "metadata": {},
   "outputs": [],
   "source": [
    "# model params\n",
    "epochs = 3000\n",
    "optimizer = torch.optim.SGD(model.parameters(),lr=0.01)\n",
    "criterion = nn.MSELoss()"
   ]
  },
  {
   "cell_type": "code",
   "execution_count": 36,
   "metadata": {},
   "outputs": [
    {
     "name": "stdout",
     "output_type": "stream",
     "text": [
      "torch.Size([710, 10, 1])\n"
     ]
    }
   ],
   "source": [
    "print(X.shape)"
   ]
  },
  {
   "cell_type": "code",
   "execution_count": 38,
   "metadata": {},
   "outputs": [
    {
     "name": "stdout",
     "output_type": "stream",
     "text": [
      "net(\n",
      "  (l1): LSTM(1, 20, batch_first=True)\n",
      "  (l2): Linear(in_features=20, out_features=1, bias=True)\n",
      ")\n",
      "torch.Size([710, 10, 1])\n",
      "torch.Size([710, 10, 20])\n",
      "torch.Size([710, 1])\n",
      "torch.Size([710, 10, 1]) torch.Size([710, 1]) torch.Size([710])\n"
     ]
    },
    {
     "ename": "NameError",
     "evalue": "name 'term' is not defined",
     "output_type": "error",
     "traceback": [
      "\u001b[1;31m---------------------------------------------------------------------------\u001b[0m",
      "\u001b[1;31mNameError\u001b[0m                                 Traceback (most recent call last)",
      "\u001b[1;32m<ipython-input-38-26fa827b3935>\u001b[0m in \u001b[0;36m<module>\u001b[1;34m\u001b[0m\n\u001b[0;32m      4\u001b[0m   \u001b[0my_pred\u001b[0m \u001b[1;33m=\u001b[0m \u001b[0mmodel\u001b[0m\u001b[1;33m(\u001b[0m\u001b[0mX\u001b[0m\u001b[1;33m)\u001b[0m\u001b[1;33m\u001b[0m\u001b[1;33m\u001b[0m\u001b[0m\n\u001b[0;32m      5\u001b[0m   \u001b[0mprint\u001b[0m\u001b[1;33m(\u001b[0m\u001b[0mX\u001b[0m\u001b[1;33m.\u001b[0m\u001b[0mshape\u001b[0m\u001b[1;33m,\u001b[0m \u001b[0my_pred\u001b[0m\u001b[1;33m.\u001b[0m\u001b[0mshape\u001b[0m\u001b[1;33m,\u001b[0m \u001b[0mY\u001b[0m\u001b[1;33m.\u001b[0m\u001b[0mshape\u001b[0m\u001b[1;33m)\u001b[0m\u001b[1;33m\u001b[0m\u001b[1;33m\u001b[0m\u001b[0m\n\u001b[1;32m----> 6\u001b[1;33m   \u001b[0mterm\u001b[0m\u001b[1;33m\u001b[0m\u001b[1;33m\u001b[0m\u001b[0m\n\u001b[0m\u001b[0;32m      7\u001b[0m   \u001b[0mcost\u001b[0m \u001b[1;33m=\u001b[0m \u001b[0mcriterion\u001b[0m\u001b[1;33m(\u001b[0m\u001b[0my_pred\u001b[0m\u001b[1;33m,\u001b[0m\u001b[0mY\u001b[0m\u001b[1;33m.\u001b[0m\u001b[0mreshape\u001b[0m\u001b[1;33m(\u001b[0m\u001b[1;33m-\u001b[0m\u001b[1;36m1\u001b[0m\u001b[1;33m,\u001b[0m\u001b[1;36m1\u001b[0m\u001b[1;33m)\u001b[0m\u001b[1;33m.\u001b[0m\u001b[0mfloat\u001b[0m\u001b[1;33m(\u001b[0m\u001b[1;33m)\u001b[0m\u001b[1;33m)\u001b[0m\u001b[1;33m\u001b[0m\u001b[1;33m\u001b[0m\u001b[0m\n\u001b[0;32m      8\u001b[0m   \u001b[0moptimizer\u001b[0m\u001b[1;33m.\u001b[0m\u001b[0mzero_grad\u001b[0m\u001b[1;33m(\u001b[0m\u001b[1;33m)\u001b[0m\u001b[1;33m\u001b[0m\u001b[1;33m\u001b[0m\u001b[0m\n",
      "\u001b[1;31mNameError\u001b[0m: name 'term' is not defined"
     ]
    }
   ],
   "source": [
    "# forward loop\n",
    "print(model)\n",
    "for i in range(epochs):\n",
    "  y_pred = model(X)\n",
    "  print(X.shape, y_pred.shape, Y.shape)\n",
    "  term\n",
    "  cost = criterion(y_pred,Y.reshape(-1,1).float())\n",
    "  optimizer.zero_grad()\n",
    "  cost.backward()\n",
    "  optimizer.step()\n",
    "  if i == 500:\n",
    "    optimizer.lr = 0.005\n",
    "  if i%500 == 0:\n",
    "    print(cost)"
   ]
  },
  {
   "cell_type": "code",
   "execution_count": null,
   "metadata": {},
   "outputs": [],
   "source": []
  },
  {
   "cell_type": "code",
   "execution_count": null,
   "metadata": {},
   "outputs": [],
   "source": []
  },
  {
   "cell_type": "code",
   "execution_count": null,
   "metadata": {},
   "outputs": [],
   "source": []
  },
  {
   "cell_type": "code",
   "execution_count": null,
   "metadata": {},
   "outputs": [],
   "source": []
  }
 ],
 "metadata": {
  "interpreter": {
   "hash": "2e899c4a4e2928ee391e8ca36b84343932f332ca5294557ed5ddebacc879f20c"
  },
  "kernelspec": {
   "display_name": "Python 3.8.8 ('base')",
   "language": "python",
   "name": "python3"
  },
  "language_info": {
   "codemirror_mode": {
    "name": "ipython",
    "version": 3
   },
   "file_extension": ".py",
   "mimetype": "text/x-python",
   "name": "python",
   "nbconvert_exporter": "python",
   "pygments_lexer": "ipython3",
   "version": "3.8.8"
  },
  "orig_nbformat": 4
 },
 "nbformat": 4,
 "nbformat_minor": 2
}
