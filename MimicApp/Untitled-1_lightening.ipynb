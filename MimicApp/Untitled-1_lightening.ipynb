{
 "cells": [
  {
   "cell_type": "code",
   "execution_count": null,
   "metadata": {},
   "outputs": [],
   "source": [
    "import numpy as np\n",
    "import pandas as pd\n",
    "import matplotlib.pyplot as plt\n",
    "import os\n",
    "\n",
    "# import custom libraries\n",
    "import sys\n",
    "sys.path.append(\"C:\\\\DATA\\\\Tasks\\\\lib\\\\hk\")\n",
    "import hk_psql\n",
    "\n",
    "import plotly.express as px  # (version 4.7.0 or higher)\n",
    "import plotly.graph_objects as go\n",
    "from plotly.subplots import make_subplots\n",
    "\n",
    "\n",
    "\n",
    "import torch\n",
    "import torch.nn as nn\n",
    "import torchvision\n",
    "import torchvision.transforms as transforms\n",
    "import torch.nn.functional as F\n",
    "import matplotlib.pyplot as plt\n",
    "import pytorch_lightning as pl\n",
    "from pytorch_lightning import Trainer\n",
    "\n",
    "from torch.utils.data import Dataset, DataLoader\n",
    "from torch.nn.utils.rnn import pad_sequence, pack_padded_sequence, pad_packed_sequence\n",
    "\n",
    "from pytorch_lightning.loggers import TensorBoardLogger\n",
    "\n",
    "import optuna\n",
    "from optuna.integration import PyTorchLightningPruningCallback\n",
    "\n",
    "ADD_DATA = \"C:\\\\DATA\\\\data\\\\raw\\\\physionet_challenge_2019\\\\\"\n",
    "\n",
    "%load_ext autoreload\n",
    "%autoreload 2\n",
    "\n",
    "\n"
   ]
  },
  {
   "cell_type": "code",
   "execution_count": null,
   "metadata": {},
   "outputs": [],
   "source": []
  },
  {
   "cell_type": "markdown",
   "metadata": {},
   "source": [
    "## Data preprocessing for LSTM"
   ]
  },
  {
   "cell_type": "code",
   "execution_count": null,
   "metadata": {},
   "outputs": [],
   "source": [
    "### Imputation"
   ]
  },
  {
   "cell_type": "code",
   "execution_count": 294,
   "metadata": {},
   "outputs": [
    {
     "data": {
      "text/plain": [
       "Index(['HR', 'O2Sat', 'Temp', 'SBP', 'MAP', 'DBP', 'Resp', 'EtCO2',\n",
       "       'BaseExcess', 'HCO3', 'FiO2', 'pH', 'PaCO2', 'SaO2', 'AST', 'BUN',\n",
       "       'Alkalinephos', 'Calcium', 'Chloride', 'Creatinine', 'Bilirubin_direct',\n",
       "       'Glucose', 'Lactate', 'Magnesium', 'Phosphate', 'Potassium',\n",
       "       'Bilirubin_total', 'TroponinI', 'Hct', 'Hgb', 'PTT', 'WBC',\n",
       "       'Fibrinogen', 'Platelets', 'Age', 'Gender', 'Unit1', 'Unit2',\n",
       "       'HospAdmTime', 'ICULOS', 'SepsisLabel', 'id'],\n",
       "      dtype='object')"
      ]
     },
     "execution_count": 294,
     "metadata": {},
     "output_type": "execute_result"
    }
   ],
   "source": [
    "df_train = pd.read_csv(ADD_DATA+'df_AA.csv')\n",
    "df_valid = pd.read_csv(ADD_DATA+'df_BB.csv')\n",
    "\n",
    "\n",
    "#df_train['prev_sepsis'] = df_train['SepsisLabel'].shift(periods=7).bfill()\n",
    "#df_valid['prev_sepsis'] = df_valid['SepsisLabel'].shift(periods=7).bfill()\n",
    "df_train.columns\n"
   ]
  },
  {
   "cell_type": "code",
   "execution_count": 295,
   "metadata": {},
   "outputs": [],
   "source": [
    "# extract missingness pattern\n",
    "cols_ts = ['HR', 'O2Sat', 'Temp', 'SBP', 'MAP', 'DBP', 'Resp',\n",
    "       'BaseExcess', 'HCO3', 'FiO2', 'pH', 'PaCO2', 'SaO2', 'AST', 'BUN',\n",
    "       'Alkalinephos', 'Calcium', 'Chloride', 'Creatinine', 'Bilirubin_direct',\n",
    "       'Glucose', 'Lactate', 'Magnesium', 'Phosphate', 'Potassium',\n",
    "       'Bilirubin_total', 'TroponinI', 'Hct', 'Hgb', 'PTT', 'WBC',\n",
    "       'Fibrinogen', 'Platelets']\n",
    "\n",
    "\n",
    "a = ((df_train[cols_ts].isnull().sum() / len(df_train) * 100)>80)\n",
    "cols_irreg = a[a==True].index.tolist()\n",
    "\n",
    "cols_patt = [col+'_pattern' for col in cols_irreg]\n",
    "cols_count = [col+'_count' for col in cols_irreg]\n",
    "\n",
    "for col in cols_irreg:\n",
    "    df_train[col+'_pattern'] = df_train[col].notnull().astype(int)\n",
    "    df_valid[col+'_pattern'] = df_valid[col].notnull().astype(int)\n",
    "    \n",
    "    a = df_train.groupby('id')[col+'_pattern'].rolling(min_periods=1, window=6).sum().reset_index(drop=True)\n",
    "    df_train[col+'_count'] = a\n",
    "\n",
    "    a = df_valid.groupby('id')[col+'_pattern'].rolling(min_periods=1, window=6).sum().reset_index(drop=True)\n",
    "    df_valid[col+'_count'] = a\n",
    "\n",
    "df_train['all_counts'] = df_train[cols_count].sum(axis=1)\n",
    "df_valid['all_counts'] = df_valid[cols_count].sum(axis=1)"
   ]
  },
  {
   "cell_type": "code",
   "execution_count": 269,
   "metadata": {},
   "outputs": [],
   "source": [
    "a = df_train.groupby('id')['Lactate'+'_pattern'].rolling(min_periods=1, window=6).sum().reset_index(drop=True)\n",
    "df = pd.DataFrame()\n",
    "df['Lactate'] = df_train['Lactate']\n",
    "df['id'] = df_train['id']\n",
    "df['c'] = df_train.groupby('id')['Lactate'+'_pattern'].rolling(min_periods=1, window=6).sum().reset_index(drop=True)"
   ]
  },
  {
   "cell_type": "code",
   "execution_count": 270,
   "metadata": {},
   "outputs": [
    {
     "name": "stdout",
     "output_type": "stream",
     "text": [
      "HR                  0\n",
      "O2Sat               0\n",
      "Temp                0\n",
      "SBP                 0\n",
      "MAP                 0\n",
      "DBP                 0\n",
      "Resp                0\n",
      "BaseExcess          0\n",
      "HCO3                0\n",
      "FiO2                0\n",
      "pH                  0\n",
      "PaCO2               0\n",
      "SaO2                0\n",
      "AST                 0\n",
      "BUN                 0\n",
      "Alkalinephos        0\n",
      "Calcium             0\n",
      "Chloride            0\n",
      "Creatinine          0\n",
      "Bilirubin_direct    0\n",
      "Glucose             0\n",
      "Lactate             0\n",
      "Magnesium           0\n",
      "Phosphate           0\n",
      "Potassium           0\n",
      "Bilirubin_total     0\n",
      "TroponinI           0\n",
      "Hct                 0\n",
      "Hgb                 0\n",
      "PTT                 0\n",
      "WBC                 0\n",
      "Fibrinogen          0\n",
      "Platelets           0\n",
      "HospAdmTime         0\n",
      "ICULOS              0\n",
      "Age                 0\n",
      "dtype: int64\n",
      "HR                  0\n",
      "O2Sat               0\n",
      "Temp                0\n",
      "SBP                 0\n",
      "MAP                 0\n",
      "DBP                 0\n",
      "Resp                0\n",
      "BaseExcess          0\n",
      "HCO3                0\n",
      "FiO2                0\n",
      "pH                  0\n",
      "PaCO2               0\n",
      "SaO2                0\n",
      "AST                 0\n",
      "BUN                 0\n",
      "Alkalinephos        0\n",
      "Calcium             0\n",
      "Chloride            0\n",
      "Creatinine          0\n",
      "Bilirubin_direct    0\n",
      "Glucose             0\n",
      "Lactate             0\n",
      "Magnesium           0\n",
      "Phosphate           0\n",
      "Potassium           0\n",
      "Bilirubin_total     0\n",
      "TroponinI           0\n",
      "Hct                 0\n",
      "Hgb                 0\n",
      "PTT                 0\n",
      "WBC                 0\n",
      "Fibrinogen          0\n",
      "Platelets           0\n",
      "HospAdmTime         0\n",
      "ICULOS              0\n",
      "Age                 0\n",
      "dtype: int64\n"
     ]
    }
   ],
   "source": [
    "# a link for imputation tutorial\n",
    "# https://towardsdatascience.com/how-to-fill-missing-data-with-pandas-8cb875362a0d\n",
    "\n",
    "cols = ['HR', 'O2Sat', 'Temp', 'SBP', 'MAP', 'DBP', 'Resp',\n",
    "       'BaseExcess', 'HCO3', 'FiO2', 'pH', 'PaCO2', 'SaO2', 'AST', 'BUN',\n",
    "       'Alkalinephos', 'Calcium', 'Chloride', 'Creatinine', 'Bilirubin_direct',\n",
    "       'Glucose', 'Lactate', 'Magnesium', 'Phosphate', 'Potassium',\n",
    "       'Bilirubin_total', 'TroponinI', 'Hct', 'Hgb', 'PTT', 'WBC',\n",
    "       'Fibrinogen', 'Platelets','HospAdmTime','ICULOS','Age']\n",
    "\n",
    "\n",
    "df_train[cols] = df_train.groupby('id')[cols].ffill().bfill()\n",
    "df_train[cols] = df_train[cols].fillna( df_train[cols].mean() )\n",
    "df_train[cols] = df_train[cols].fillna( 0 )\n",
    "\n",
    "df_valid[cols] = df_valid.groupby('id')[cols].ffill().bfill()\n",
    "df_valid[cols] = df_valid[cols].fillna( df_valid[cols].mean() )\n",
    "df_valid[cols] = df_valid[cols].fillna( 0 )\n",
    "\n",
    "mean_train = df_train[cols].mean().tolist()\n",
    "std_train = df_train[cols].std().tolist()\n",
    "\n",
    "#print(df_train.isnull().sum())\n",
    "#print(df_train[cols].mean(), df_train[cols].std())\n",
    "\n",
    "df_train[cols]=(df_train[cols]-df_train[cols].mean())/df_train[cols].std()\n",
    "df_valid[cols]=(df_valid[cols]-df_train[cols].mean())/df_train[cols].std()\n",
    "\n",
    "#print(df_train[cols].mean(), df_train[cols].std())\n",
    "\n",
    "\n",
    "print(df_train[cols].isnull().sum())\n",
    "print(df_train[cols].isnull().sum())\n"
   ]
  },
  {
   "cell_type": "code",
   "execution_count": 296,
   "metadata": {},
   "outputs": [],
   "source": [
    "\n",
    "for col in cols:\n",
    "    df_train[col] = pd.qcut(df_train[col], 3, labels=['L','N','H'])\n",
    "    df_train[col] = df_train[col].cat.codes\n",
    "    df_valid[col] = pd.qcut(df_valid[col], 3, labels=['L','N','H'])\n",
    "    df_valid[col] = df_valid[col].cat.codes\n",
    "\n",
    "\n",
    "#print(df_train.dtypes)"
   ]
  },
  {
   "cell_type": "markdown",
   "metadata": {},
   "source": [
    "## Load train and test data"
   ]
  },
  {
   "cell_type": "code",
   "execution_count": 299,
   "metadata": {},
   "outputs": [],
   "source": [
    "\n",
    "all_cols = [*cols, *cols_patt, *cols_count]\n",
    "all_cols = [*cols, *cols_count,'all_counts']\n",
    "all_cols = [*cols, *cols_patt, *cols_count,'all_counts','ICULOS','HospAdmTime'] # , 'prev_sepsis'\n",
    "\n"
   ]
  },
  {
   "cell_type": "code",
   "execution_count": 300,
   "metadata": {},
   "outputs": [
    {
     "name": "stdout",
     "output_type": "stream",
     "text": [
      "(54, 91)\n"
     ]
    }
   ],
   "source": [
    "# Train data\n",
    "# read csv and put data in a list of tensors (each patient)\n",
    "\n",
    "\n",
    "train_data={'X':[], 'y':[]}\n",
    "for id in df_train['id'].unique():\n",
    "    #train_data['X'].append(df_train[df_train['id']==id][[*cols, 'prev_sepsis']].values)\n",
    "    train_data['X'].append(df_train[df_train['id']==id][[*all_cols]].values)\n",
    "    train_data['y'].append(df_train[df_train['id']==id]['SepsisLabel'].values)\n",
    "\n",
    "print( train_data['X'][0].shape)\n",
    "\n",
    "\n"
   ]
  },
  {
   "cell_type": "code",
   "execution_count": 301,
   "metadata": {},
   "outputs": [
    {
     "name": "stdout",
     "output_type": "stream",
     "text": [
      "(24, 91)\n"
     ]
    }
   ],
   "source": [
    "# valid data\n",
    "# read csv and put data in a list of tensors (each patient)\n",
    "\n",
    "\n",
    "valid_data={'X':[], 'y':[]}\n",
    "for id in df_valid['id'].unique():\n",
    "    #valid_data['X'].append(df_valid[df_valid['id']==id][[*cols, 'prev_sepsis']].values)\n",
    "    valid_data['X'].append(df_valid[df_valid['id']==id][[*all_cols]].values)\n",
    "    valid_data['y'].append(df_valid[df_valid['id']==id]['SepsisLabel'].values)\n",
    "\n",
    "print( valid_data['X'][0].shape)  \n"
   ]
  },
  {
   "cell_type": "code",
   "execution_count": 302,
   "metadata": {},
   "outputs": [
    {
     "name": "stdout",
     "output_type": "stream",
     "text": [
      "(54, 91) (54,)\n"
     ]
    }
   ],
   "source": [
    "print(train_data['X'][0].shape, train_data['y'][0].shape)"
   ]
  },
  {
   "cell_type": "markdown",
   "metadata": {},
   "source": [
    "# Build LSTM model"
   ]
  },
  {
   "cell_type": "markdown",
   "metadata": {},
   "source": [
    "# Params"
   ]
  },
  {
   "cell_type": "code",
   "execution_count": 303,
   "metadata": {},
   "outputs": [
    {
     "name": "stdout",
     "output_type": "stream",
     "text": [
      "cuda\n"
     ]
    }
   ],
   "source": [
    "# Device configuration\n",
    "device = torch.device('cuda' if torch.cuda.is_available() else 'cpu')\n",
    "#device='cpu'\n",
    "print(device)\n",
    "\n",
    "DEBUG=False\n",
    "\n",
    "criterion = nn.CrossEntropyLoss(ignore_index=0)\n",
    "num_epochs = 10\n",
    "data_dir = 'TB_with_tune'\n",
    "num_samples=10\n",
    "\n",
    "\n",
    "\n",
    "params = {\n",
    "    'input_size':train_data['X'][0].shape[-1],\n",
    "    'num_classes':2,\n",
    "    'num_epochs':20,\n",
    "    'bidirectional':False\n",
    "\n",
    "}\n",
    "\n",
    "{'lr': 0.005857717666242615, 'BS': 500, 'hidden_size': 10, 'hidden_size2': 7, 'do1': 0.2738131929177843, 'do2': 0.23638112638259945}\n",
    "{'lr': 0.005857717666242615, 'BS': 500, 'hidden_size': 10, 'hidden_size2': 7, 'do1': 0.2738131929177843, 'do2': 0.23638112638259945}\n",
    "{'lr': 0.001345745549601815, 'BS': 200, 'hidden_size': 13, 'hidden_size2': 10, 'do1': 0.7246378339446564, 'do2': 0.6352657731209103}\n",
    "{'lr': 0.0013676728932238839, 'BS': 500, 'hidden_size': 13, 'hidden_size2': 4, 'do1': 0.4449960661200688, 'do2': 0.887982434157199}\n",
    "{'lr': 0.002483836566033312, 'BS': 200, 'hidden_size': 9, 'hidden_size2': 7, 'do1': 0.6479722393440036, 'do2': 0.7842471069565781}\n",
    "\n",
    "hparams = {}\n",
    "hparams['lr'] = 0.002483836566033312\n",
    "hparams['batch_size'] = 200\n",
    "hparams['hidden_size'] = 9\n",
    "hparams['hidden_size2'] = 7\n",
    "hparams['do1'] = 0.6479722393440036\n",
    "hparams['do2'] = 0.7842471069565781\n"
   ]
  },
  {
   "cell_type": "code",
   "execution_count": 304,
   "metadata": {},
   "outputs": [],
   "source": [
    "def create_backbone(trial):\n",
    "    # https://optuna.readthedocs.io/en/stable/reference/generated/optuna.trial.Trial.html\n",
    "\n",
    "    hparams = {}\n",
    "    hparams['lr'] = trial.suggest_loguniform('lr', 1e-4, 1e-2)\n",
    "    #hparams['lr'] = 0.00188\n",
    "    hparams['batch_size'] = trial.suggest_categorical('BS', [200,500,1000])\n",
    "    #hparams['batch_size'] = 200\n",
    "    hparams['hidden_size'] = trial.suggest_int('hidden_size',7,15)\n",
    "    hparams['hidden_size2'] = trial.suggest_int('hidden_size2',3,12)\n",
    "    hparams['do1'] = trial.suggest_uniform('do1',0,1)\n",
    "    hparams['do2'] = trial.suggest_uniform('do2',0,1)\n",
    "\n",
    "    #hparams['hidden_size'] = \n",
    "    #hparams['hidden_size'] = [8, 5]\n",
    "    #hparams['dropout'] = [0.8, 0.8]\n",
    "    #hparams['D'] = len(hparams['hidden_size'])\n",
    "\n",
    "    \n",
    "\n",
    "    return hparams"
   ]
  },
  {
   "cell_type": "markdown",
   "metadata": {},
   "source": [
    "# DataLoader\n"
   ]
  },
  {
   "cell_type": "code",
   "execution_count": 305,
   "metadata": {},
   "outputs": [
    {
     "name": "stdout",
     "output_type": "stream",
     "text": [
      "                                                                      \r"
     ]
    }
   ],
   "source": [
    "# create a DataLoader object\n",
    "import torchvision.transforms as transforms\n",
    "\n",
    "transform = transforms.Compose([transforms.Normalize(mean_train, std_train)])\n",
    "\n",
    "class MinimalDataset(Dataset):\n",
    "    def __init__(self, X, y, transform=None):\n",
    "        super().__init__()\n",
    "        self.transform = transform\n",
    "\n",
    "        self.X = list(map(lambda a: torch.tensor(a).float(), X))\n",
    "        self.y = list(map(lambda a: torch.tensor(a).long(), y))\n",
    "\n",
    "        #print(type(self.X[0]))\n",
    "        #print(self.transform(self.X[0].transpose))\n",
    "        if self.transform is not None:\n",
    "            self.X = list(map(lambda a: self.transform(a), self.X))\n",
    "        \n",
    "    def __getitem__(self, idx):\n",
    "        \n",
    "        X = self.X[idx]\n",
    "        y = self.y[idx]\n",
    "        \n",
    "        \n",
    "\n",
    "        sample = {\"X\": X, \"y\": y}\n",
    "\n",
    "        return X, y\n",
    "        \n",
    "\n",
    "    def __len__(self):\n",
    "        return len(self.X)\n",
    "\n",
    "def collate_fn(batch):\n",
    "    # for padding\n",
    "    # https://suzyahyah.github.io/pytorch/2019/07/01/DataLoader-Pad-Pack-Sequence.html\n",
    "    #X = [i[0] for i in batch]\n",
    "    #y = [i[1] for i in batch]\n",
    "\n",
    "    (xx, yy) = zip(*batch)\n",
    "    x_lens = [len(x) for x in xx]\n",
    "    y_lens = [len(y) for y in yy]\n",
    "\n",
    "    xx_pad = pad_sequence(xx, batch_first=True, padding_value=0)\n",
    "    yy_pad = pad_sequence(yy, batch_first=True, padding_value=0)\n",
    "\n",
    "    return xx_pad, yy_pad, x_lens, y_lens\n",
    "\n",
    "train_dataset = MinimalDataset(train_data['X'], train_data['y'], transform=None)\n",
    "train_loader = DataLoader(train_dataset, batch_size=hparams['batch_size'], shuffle=False, collate_fn=collate_fn)\n",
    "\n",
    "valid_dataset = MinimalDataset(valid_data['X'], valid_data['y'], transform=None)\n",
    "valid_loader = DataLoader(valid_dataset, batch_size=hparams['batch_size'], shuffle=False, collate_fn=collate_fn)\n"
   ]
  },
  {
   "cell_type": "code",
   "execution_count": 306,
   "metadata": {},
   "outputs": [
    {
     "name": "stdout",
     "output_type": "stream",
     "text": [
      "1000 1000\n"
     ]
    }
   ],
   "source": [
    "(X_pad, y_pad, X_lens, y_lens) = next(iter(valid_loader))\n",
    "\n",
    "print(len(train_loader.sampler), len(valid_loader.sampler))"
   ]
  },
  {
   "cell_type": "code",
   "execution_count": 307,
   "metadata": {},
   "outputs": [],
   "source": [
    "from sklearn import metrics\n",
    "\n",
    "\n",
    "\n",
    "def cal_auc_batch (y_true, y_pred, y_lens):\n",
    "    y_pred = torch.unbind(y_pred, dim=0) # a list of bs tensors [n_class, L]\n",
    "    #print((y_pred[0].shape))\n",
    "    \n",
    "    y_pred = [x[:,:i] for i,x in zip(y_lens, y_pred)]\n",
    "    #print((y_pred[0].shape), y_pred[1].shape)\n",
    "\n",
    "    y_pred = torch.cat(y_pred,dim=1) # dim [n_class, sum(lens)]\n",
    "    y_pred = torch.amax(y_pred, 0).detach().cpu().numpy()\n",
    "    #print((y_pred.shape))\n",
    "    \n",
    "    ### y_true\n",
    "    y_true = torch.unbind(y_true, dim=0) # a list of bs binary values [L]\n",
    "    #print((y_true[0].shape))\n",
    "    \n",
    "    y_true = [x[:i] for i,x in zip(y_lens, y_true)]\n",
    "    #print((y_true[0].shape), y_true[1].shape)\n",
    "\n",
    "    y_true = torch.cat(y_true,dim=0).detach().cpu().numpy()\n",
    "        # dim [n_class, sum(lens)]\n",
    "    #print((y_true.shape))\n",
    "    auc_score = metrics.roc_auc_score(y_true, y_pred)\n",
    "\n",
    "    return y_pred, y_true, auc_score\n",
    "\n",
    "\n"
   ]
  },
  {
   "cell_type": "markdown",
   "metadata": {},
   "source": [
    "# LSTM structure"
   ]
  },
  {
   "cell_type": "code",
   "execution_count": 308,
   "metadata": {},
   "outputs": [],
   "source": [
    "\n",
    "class myLSTM_lit(pl.LightningModule):\n",
    "    \"\"\"\n",
    "    input_size - will be 1 in this example since we have only 1 predictor (a sequence of previous values)\n",
    "    hidden_size - Can be chosen to dictate how much hidden \"long term memory\" the network will have\n",
    "    output_size - This will be equal to the prediciton_periods input to get_x_y_pairs\n",
    "    \"\"\"\n",
    "    def __init__(self, hparams, params):\n",
    "        super().__init__()\n",
    "        \n",
    "        \n",
    "        self.input_size = params['input_size']\n",
    "        self.num_classes = params['num_classes']\n",
    "        self.bidirectional = params['bidirectional']\n",
    "        self.D = 2 if self.bidirectional else 1\n",
    "\n",
    "        self.hidden_size = hparams['hidden_size']\n",
    "        self.hidden_size2 = hparams['hidden_size2']\n",
    "        self.do1 = hparams['do1']\n",
    "        self.do2 = hparams['do2']\n",
    "        self.batch_size = hparams[\"batch_size\"]\n",
    "        self.lr = hparams['lr']\n",
    "\n",
    "        self.lstm1 = nn.LSTM(input_size = self.input_size, hidden_size =  self.hidden_size, batch_first=True,\n",
    "                                dropout=self.do1, bidirectional =self.bidirectional)        \n",
    "        \n",
    "        self.lstm2 = nn.LSTM(input_size = self.hidden_size, hidden_size =  self.hidden_size2, batch_first=True,\n",
    "                                dropout=self.do1, bidirectional =self.bidirectional)        \n",
    "        \n",
    "\n",
    "        self.bn1 = nn.BatchNorm1d(self.D*self.hidden_size)\n",
    "        self.bn2 = nn.BatchNorm1d(self.D*self.hidden_size2)\n",
    "        #self.batch_normalisation2 = nn.BatchNorm1d(self.num_classes)\n",
    "\n",
    "        \n",
    "        self.linear = nn.Linear(self.D*self.hidden_size2, self.num_classes)\n",
    "        self.sigmoid = nn.Sigmoid()\n",
    "\n",
    "        self.init_states()\n",
    "    \n",
    "    def forward(self, x, x_lens):\n",
    "        \n",
    "        # initialize the hidden state.\n",
    "        \"\"\"\n",
    "        x: (batch, seq_len, input_size)\n",
    "\n",
    "        out: (batch, seq_len, hidden_size)\n",
    "        h_n, c_n: (num_layers * num_directions, batch, hidden_size)\n",
    "        \"\"\"\n",
    "        #x = x.to(device)\n",
    "        \n",
    "\n",
    "        \n",
    "\n",
    "        if DEBUG: print('input.shape = ',x.shape, x.get_device())\n",
    "        if DEBUG: print('states[0].shape = ', states[0].shape, states[0].get_device())\n",
    "\n",
    "        # if variable length: do padding\n",
    "\n",
    "        x_padded_packed = pack_padded_sequence(x, x_lens, batch_first=True, enforce_sorted=False)\n",
    "\n",
    "\n",
    "        # LSTM1\n",
    "        states = (self.h_n, self.c_n)\n",
    "        x_padded_packed, (self.h_n, self.c_n) = self.lstm1(x_padded_packed, states)\n",
    "        self.h_n = self.h_n.detach()\n",
    "        self.c_n = self.c_n.detach()\n",
    "        output_padded, output_lengths = pad_packed_sequence(x_padded_packed, batch_first=True)\n",
    "\n",
    "        \n",
    "        # BN1\n",
    "        output_padded = output_padded.view(self.batch_size, self.D*self.hidden_size,-1)        \n",
    "        output_padded = self.bn1(output_padded)\n",
    "        output_padded = output_padded.view(self.batch_size, -1, self.D*self.hidden_size)\n",
    "        x_padded_packed = pack_padded_sequence(output_padded, x_lens, batch_first=True, enforce_sorted=False)\n",
    "\n",
    "        # LSTM 2\n",
    "        states2 = (self.h_n2, self.c_n2)\n",
    "        x_padded_packed, (self.h_n2, self.c_n2) = self.lstm2(x_padded_packed, states2)\n",
    "        self.h_n2 = self.h_n2.detach()\n",
    "        self.c_n2 = self.c_n2.detach()\n",
    "        output_padded, output_lengths = pad_packed_sequence(x_padded_packed, batch_first=True)\n",
    "\n",
    "        # BN 2\n",
    "        output_padded = output_padded.view(self.batch_size, self.D*self.hidden_size2,-1)        \n",
    "        output_padded = self.bn2(output_padded)\n",
    "        output_padded = output_padded.view(self.batch_size, -1, self.D*self.hidden_size2)\n",
    "\n",
    "        \n",
    "        # FC layer\n",
    "        out = self.linear(output_padded)\n",
    "\n",
    "        \n",
    "\n",
    "\n",
    "\n",
    "\n",
    "\n",
    "        # print('lstm_out.shape = ',output_padded.shape)\n",
    "        if DEBUG: print('output_lengths',output_lengths)\n",
    "        if DEBUG: print('lstm_out.shape = ',output_padded.shape)\n",
    "        #if DEBUG: print('lstm_out.view(len(x), -1).shape = ',lstm_out.view(len(x), -1).shape)\n",
    "\n",
    "        # if variable length: unpadd\n",
    "        #lstm_out = pad_packed_sequence(lstm_out, batch_first=True)\n",
    "\n",
    "\n",
    "        \n",
    "        \n",
    "        #print(out.shape)\n",
    "        #out = out.view(self.batch_size, self.num_classes,-1)\n",
    "        #print(out.shape)\n",
    "\n",
    "        #out = self.batch_normalisation2(out)\n",
    "        #out = out.view(self.batch_size, -1, self.num_classes)\n",
    "        \n",
    "        if DEBUG: print('fc_out.shape = ',out.shape)\n",
    "        \n",
    "        #out = nn.Sigmoid()(output_padded)\n",
    "        #predictions = nn.functional.log_softmax(out)\n",
    "        #predictions = torch.swapaxes(predictions, 1, 2)\n",
    "        #predictions = predictions.transpose(1,2)\n",
    "        return out\n",
    "\n",
    "    def init_states(self):\n",
    "        '''\n",
    "        Initiate hidden states.\n",
    "        '''\n",
    "        # Shape for hidden state and cell state: num_layers * num_directions, batch, hidden_size\n",
    "        \n",
    "        #h_0 = torch.randn(1, self.batch_size, self.hidden_dim)\n",
    "        #c_0 = torch.randn(1, self.batch_size, self.hidden_dim)\n",
    "\n",
    "        # The Variable API is now semi-deprecated, so we use nn.Parameter instead.\n",
    "        # Note: For Variable API requires_grad=False by default;\n",
    "        # For Parameter API requires_grad=True by default.\n",
    "        \n",
    "        #h_0 = nn.Parameter(h_0, requires_grad=True)\n",
    "        #c_0 = nn.Parameter(c_0, requires_grad=True)\n",
    "\n",
    "        \"\"\"initialize the hidden and cell states\"\"\"\n",
    "        self.h_n = torch.zeros(self.D, self.batch_size, self.hidden_size).float().to(device)\n",
    "        self.c_n = torch.zeros(self.D, self.batch_size, self.hidden_size).float().to(device)\n",
    "\n",
    "        self.h_n2 = torch.zeros(self.D, self.batch_size, self.hidden_size2).float().to(device)\n",
    "        self.c_n2 = torch.zeros(self.D, self.batch_size, self.hidden_size2).float().to(device)\n",
    "        \n",
    "    def configure_optimizers(self):\n",
    "        optimizer = torch.optim.Adam(self.parameters(), lr= self.lr)\n",
    "        #lr_scheduler = torch.optim.lr_scheduler.StepLR(optimizer, step_size=1)\n",
    "        return [optimizer]#, [lr_scheduler]  \n",
    "  \n",
    "  \n",
    "    def training_step(self, batch, batch_idx):\n",
    "        \n",
    "        X_pad, y_pad, X_lens, y_lens = batch\n",
    "        \n",
    "        #model.init_states()\n",
    "        \n",
    "        X_padded = X_pad.to(device)\n",
    "        y_padded = y_pad.to(device)\n",
    "\n",
    "        if DEBUG: print('X_padded.shape = ', X_padded.shape)\n",
    "        if DEBUG: print('y_padded.shape = ', y_padded.shape)\n",
    "        if DEBUG: print('len(lens) = ', (X_lens))\n",
    "        \n",
    "        if DEBUG: print('device ', X_padded.get_device())\n",
    "        # Forward pass\n",
    "        y_pred = self(X_padded, x_lens=X_lens)\n",
    "        y_pred = torch.swapaxes(y_pred, 1, 2)\n",
    "        loss = criterion(y_pred, y_padded)\n",
    "\n",
    "        self.log(\"train_loss\", loss, on_step=True, on_epoch=True, prog_bar=True, logger=True, sync_dist=True)\n",
    "        y_pred, y_true, auc_score = cal_auc_batch (y_padded, y_pred, y_lens)\n",
    "        return {'loss': loss, 'train_loss_batch': loss.detach(), 'train_auc_batch': auc_score}\n",
    "    def validation_step(self, batch, batch_idx):\n",
    "        \n",
    "        X_pad, y_pad, X_lens, y_lens = batch\n",
    "        \n",
    "        #model.init_states()\n",
    "        \n",
    "        X_padded = X_pad\n",
    "        y_padded = y_pad\n",
    "\n",
    "        if DEBUG: print('X_padded.shape = ', X_padded.shape)\n",
    "        if DEBUG: print('y_padded.shape = ', y_padded.shape)\n",
    "        if DEBUG: print('len(lens) = ', (X_lens))\n",
    "        \n",
    "        \n",
    "        # Forward pass\n",
    "        y_pred = self(X_padded, x_lens=X_lens)\n",
    "        y_pred = torch.swapaxes(y_pred, 1, 2)\n",
    "        loss = criterion(y_pred, y_padded)\n",
    "\n",
    "        self.log(\"val_loss\", loss, on_step=True, on_epoch=True, prog_bar=True, logger=True, sync_dist=True)\n",
    "        y_pred, y_true, auc_score = cal_auc_batch (y_padded, y_pred, y_lens)\n",
    "        \n",
    "        return {'val_loss_batch': loss, 'val_auc_batch': auc_score}\n",
    "    \n",
    "    def predict_step(self, batch, batch_idx):\n",
    "        X_pad, y_pad, X_lens, y_lens = batch\n",
    "        \n",
    "        #model.init_states()\n",
    "        \n",
    "        X_padded = X_pad\n",
    "        y_padded = y_pad\n",
    "\n",
    "        if DEBUG: print('X_padded.shape = ', X_padded.shape)\n",
    "        if DEBUG: print('y_padded.shape = ', y_padded.shape)\n",
    "        if DEBUG: print('len(lens) = ', (X_lens))\n",
    "        \n",
    "        \n",
    "        # Forward pass\n",
    "        y_pred = self(X_padded, x_lens=X_lens)\n",
    "        y_pred = torch.swapaxes(y_pred, 1, 2)\n",
    "\n",
    "        y_pred, y_true, auc_score = cal_auc_batch (y_padded, y_pred, y_lens)\n",
    "\n",
    "        return y_pred, y_true, auc_score\n",
    "\n",
    "    def training_epoch_end(self, outputs):\n",
    "        avg_loss = torch.stack([x['train_loss_batch'] for x in outputs]).mean()\n",
    "        avg_auc = np.stack([x['train_auc_batch'] for x in outputs]).mean()\n",
    "        self.log(\"train_loss_epoch\", avg_loss, on_step=False, on_epoch=True, prog_bar=True, logger=True, sync_dist=True)\n",
    "        self.log(\"train_auc_epoch\", avg_auc, on_step=False, on_epoch=True, prog_bar=True, logger=True, sync_dist=True)\n",
    "\n",
    "        #return {'train_loss_epoch': avg_loss, 'train_auc_epoch': avg_auc}\n",
    "    \n",
    "    def validation_epoch_end(self, outputs):\n",
    "        avg_loss = torch.stack([x['val_loss_batch'] for x in outputs]).mean()\n",
    "        avg_auc = np.stack([x['val_auc_batch'] for x in outputs]).mean()\n",
    "        self.log(\"val_loss_epoch\", avg_loss, on_step=False, on_epoch=True, prog_bar=True, logger=True, sync_dist=True)\n",
    "        self.log(\"val_auc_epoch\", avg_auc, on_step=False, on_epoch=True, prog_bar=True, logger=True, sync_dist=True)\n",
    "\n",
    "        return {'val_loss_epoch': avg_loss, 'val_auc_epoch': avg_auc}\n",
    "   \n",
    "    def train_dataloader(self):\n",
    "        \n",
    "        train_dataset = MinimalDataset(train_data['X'], train_data['y'])\n",
    "        train_loader = DataLoader(train_dataset, batch_size=self.batch_size, \n",
    "                                    num_workers = 0,\n",
    "                                    drop_last=False,\n",
    "                                    shuffle=False, collate_fn=collate_fn)\n",
    "\n",
    "        return train_loader\n",
    "\n",
    "    def val_dataloader(self):\n",
    "        \n",
    "        valid_dataset = MinimalDataset(valid_data['X'], valid_data['y'])\n",
    "        valid_loader = DataLoader(valid_dataset, batch_size=self.batch_size, \n",
    "                                    num_workers = 0,\n",
    "                                    drop_last=False,\n",
    "                                    shuffle=False, collate_fn=collate_fn)\n",
    "\n",
    "        return valid_loader\n",
    "\n",
    "\n",
    "# https://pytorch-lightning.readthedocs.io/en/latest/extensions/callbacks.html\n",
    "# https://pytorch-lightning.readthedocs.io/en/0.7.1/hooks.html\n",
    "\n",
    "from pytorch_lightning.callbacks import Callback\n",
    "\n",
    "class MyCallbacks2(Callback):\n",
    "    \n",
    "    def on_train_start(self,  trainer, pl_module):\n",
    "        print(\"################################\")\n",
    "    def backward(self):\n",
    "        self.backward(retain_graph=True)\n",
    "        "
   ]
  },
  {
   "cell_type": "code",
   "execution_count": 257,
   "metadata": {},
   "outputs": [
    {
     "name": "stdout",
     "output_type": "stream",
     "text": [
      "torch.Size([500, 258, 89])\n"
     ]
    },
    {
     "ename": "AttributeError",
     "evalue": "'list' object has no attribute 'to'",
     "output_type": "error",
     "traceback": [
      "\u001b[1;31m---------------------------------------------------------------------------\u001b[0m",
      "\u001b[1;31mAttributeError\u001b[0m                            Traceback (most recent call last)",
      "\u001b[1;32m~\\AppData\\Local\\Temp\\ipykernel_17564\\2511730729.py\u001b[0m in \u001b[0;36m<module>\u001b[1;34m\u001b[0m\n\u001b[0;32m     11\u001b[0m \u001b[0mprint\u001b[0m\u001b[1;33m(\u001b[0m\u001b[0mX_pad\u001b[0m\u001b[1;33m.\u001b[0m\u001b[0mshape\u001b[0m\u001b[1;33m)\u001b[0m\u001b[1;33m\u001b[0m\u001b[1;33m\u001b[0m\u001b[0m\n\u001b[0;32m     12\u001b[0m \u001b[1;33m\u001b[0m\u001b[0m\n\u001b[1;32m---> 13\u001b[1;33m \u001b[0mprint\u001b[0m\u001b[1;33m(\u001b[0m\u001b[0msummary\u001b[0m\u001b[1;33m(\u001b[0m\u001b[0mmodel\u001b[0m\u001b[1;33m,\u001b[0m \u001b[0mX_pad\u001b[0m\u001b[1;33m.\u001b[0m\u001b[0mto\u001b[0m\u001b[1;33m(\u001b[0m\u001b[0mdevice\u001b[0m\u001b[1;33m)\u001b[0m\u001b[1;33m,\u001b[0m \u001b[0mX_lens\u001b[0m\u001b[1;33m.\u001b[0m\u001b[0mto\u001b[0m\u001b[1;33m(\u001b[0m\u001b[0mdevice\u001b[0m\u001b[1;33m)\u001b[0m\u001b[1;33m,\u001b[0m \u001b[0mshow_input\u001b[0m\u001b[1;33m=\u001b[0m\u001b[1;32mFalse\u001b[0m\u001b[1;33m,\u001b[0m \u001b[0mshow_hierarchical\u001b[0m\u001b[1;33m=\u001b[0m\u001b[1;32mTrue\u001b[0m\u001b[1;33m)\u001b[0m\u001b[1;33m)\u001b[0m\u001b[1;33m\u001b[0m\u001b[1;33m\u001b[0m\u001b[0m\n\u001b[0m",
      "\u001b[1;31mAttributeError\u001b[0m: 'list' object has no attribute 'to'"
     ]
    }
   ],
   "source": [
    "# https://pypi.org/project/pytorch-model-summary/\n",
    "\n",
    "\n",
    "from pytorch_model_summary import summary\n",
    "\n",
    "model = myLSTM_lit(hparams, params)\n",
    "# model.init_states()\n",
    "\n",
    "(X_pad, y_pad, X_lens, y_lens) = next(iter(train_loader))\n",
    "\n",
    "print(X_pad.shape)\n",
    "\n",
    "print(summary(model, X_pad.to(device), X_lens.to(device), show_input=False, show_hierarchical=True))"
   ]
  },
  {
   "cell_type": "markdown",
   "metadata": {},
   "source": [
    "# Training"
   ]
  },
  {
   "cell_type": "code",
   "execution_count": 309,
   "metadata": {},
   "outputs": [
    {
     "name": "stderr",
     "output_type": "stream",
     "text": [
      "GPU available: True, used: True\n",
      "TPU available: False, using: 0 TPU cores\n",
      "IPU available: False, using: 0 IPUs\n",
      "LOCAL_RANK: 0 - CUDA_VISIBLE_DEVICES: [0]\n"
     ]
    },
    {
     "name": "stdout",
     "output_type": "stream",
     "text": [
      "################################                                      \n",
      "Epoch 49: 100%|██████████| 10/10 [00:00<00:00, 20.60it/s, loss=0.00141, v_num=173, train_loss_step=0.00141, val_loss_step=0.00791, val_loss_epoch=0.00618, val_auc_epoch=0.703, train_loss_epoch=0.00132, train_auc_epoch=0.809]\n"
     ]
    }
   ],
   "source": [
    "import warnings\n",
    "warnings.filterwarnings(\"ignore\", \".*does not have many workers.*\")\n",
    "warnings.filterwarnings(\"ignore\", \".*dropout after all but last recurrent layer*\")\n",
    "\n",
    "logger = pl.loggers.TensorBoardLogger('TB_optuna', name='run1')\n",
    "\n",
    "\n",
    "trainer = pl.Trainer(max_epochs=50, fast_dev_run=False,\n",
    "                    gpus=1, accelerator=\"gpu\",\n",
    "                    log_every_n_steps=5,\n",
    "                    logger=logger,\n",
    "                    callbacks = [MyCallbacks2()],\n",
    "                    enable_model_summary=False\n",
    "                    )\n",
    "model = myLSTM_lit(hparams, params)\n",
    "\n",
    "trainer.fit(model)"
   ]
  },
  {
   "cell_type": "markdown",
   "metadata": {},
   "source": [
    "# Tuning Optuna\n",
    "https://github.com/optuna/optuna-examples/blob/main/pytorch/pytorch_lightning_simple.py\n"
   ]
  },
  {
   "cell_type": "code",
   "execution_count": 310,
   "metadata": {},
   "outputs": [],
   "source": [
    "# https://pytorch-lightning.readthedocs.io/en/latest/extensions/callbacks.html\n",
    "# https://pytorch-lightning.readthedocs.io/en/0.7.1/hooks.html\n",
    "\n",
    "from pytorch_lightning.callbacks import Callback\n",
    "import warnings\n",
    "warnings.filterwarnings(\"ignore\", \".*does not have many workers.*\")\n",
    "warnings.filterwarnings(\"ignore\", \".*The reported value is ignored because this `step` 0 is*\")\n",
    "class MyCallbacks3(Callback):\n",
    "    \n",
    "    def on_train_start(self,  trainer, pl_module):\n",
    "        #print(\"#################hh###############\")\n",
    "        return\n",
    "    #def backward(self, use_amp, loss, optimizer):\n",
    "        #print(\"HHHHHHHHHHHHHHHHHHHHHHHH\")\n",
    "        #self.backward(retain_graph=True)"
   ]
  },
  {
   "cell_type": "code",
   "execution_count": 311,
   "metadata": {},
   "outputs": [],
   "source": [
    "def objective(trial):\n",
    "    \n",
    "    \n",
    "    #early_stop = pl.callbacks.EarlyStopping('call_loss', patience=4)\n",
    "    \n",
    "    #model = Model(inp_C_bbone=inp_C, out_C_bbone=out_C, backbone=backbone)\n",
    "    hparams = create_backbone(trial)\n",
    "    \n",
    "    model = myLSTM_lit(hparams, params)\n",
    "     \n",
    "    trainer = Trainer(logger=False, \n",
    "                      enable_checkpointing=False,\n",
    "                      gpus=1,\n",
    "                      accelerator='gpu',\n",
    "                      max_epochs=50, \n",
    "                      #deterministic=True,\n",
    "                      callbacks = [PyTorchLightningPruningCallback(trial, monitor=\"val_auc_epoch\"),\n",
    "                                MyCallbacks3()],\n",
    "                    #progress_bar_refresh_rate=0,\n",
    "                    enable_model_summary=False\n",
    "                    )\n",
    "                      \n",
    "    trainer.fit(model)\n",
    "    \n",
    "    #score = trainer.predict(model,valid_loader)\n",
    "    print(\"!!!!!!!!!!!!!!!!!!!!!!!!!!!!!!!!!!!!!!!!!!!!!!!!!!!!!!!!!!!!!!!!!!!!!!!\")\n",
    "    print(trainer.callback_metrics[\"val_auc_epoch\"].item())\n",
    "    a=1\n",
    "    return trainer.callback_metrics[\"val_auc_epoch\"].item()"
   ]
  },
  {
   "cell_type": "code",
   "execution_count": 312,
   "metadata": {},
   "outputs": [
    {
     "name": "stderr",
     "output_type": "stream",
     "text": [
      "\u001b[32m[I 2022-05-16 19:27:41,008]\u001b[0m A new study created in memory with name: no-name-b9dd03f0-2d56-4488-88dd-77338d7105ee\u001b[0m\n",
      "GPU available: True, used: True\n",
      "TPU available: False, using: 0 TPU cores\n",
      "IPU available: False, using: 0 IPUs\n",
      "LOCAL_RANK: 0 - CUDA_VISIBLE_DEVICES: [0]\n"
     ]
    },
    {
     "name": "stdout",
     "output_type": "stream",
     "text": [
      "Epoch 49: 100%|██████████| 10/10 [00:00<00:00, 21.15it/s, loss=0.0204, train_loss_step=0.0212, val_loss_step=0.0176, val_loss_epoch=0.0179, val_auc_epoch=0.589, train_loss_epoch=0.0199, train_auc_epoch=0.573]\n",
      "!!!!!!!!!!!!!!!!!!!!!!!!!!!!!!!!!!!!!!!!!!!!!!!!!!!!!!!!!!!!!!!!!!!!!!!\n"
     ]
    },
    {
     "name": "stderr",
     "output_type": "stream",
     "text": [
      "\u001b[32m[I 2022-05-16 19:28:05,929]\u001b[0m Trial 0 finished with value: 0.5889094322733742 and parameters: {'lr': 0.00038844542013174906, 'BS': 200, 'hidden_size': 14, 'hidden_size2': 9, 'do1': 0.6375208960436358, 'do2': 0.575602893753034}. Best is trial 0 with value: 0.5889094322733742.\u001b[0m\n",
      "GPU available: True, used: True\n",
      "TPU available: False, using: 0 TPU cores\n",
      "IPU available: False, using: 0 IPUs\n",
      "LOCAL_RANK: 0 - CUDA_VISIBLE_DEVICES: [0]\n"
     ]
    },
    {
     "name": "stdout",
     "output_type": "stream",
     "text": [
      "0.5889094322733742\n",
      "Epoch 49: 100%|██████████| 4/4 [00:00<00:00, 10.24it/s, loss=0.3, train_loss_step=0.276, val_loss_step=0.321, val_loss_epoch=0.311, val_auc_epoch=0.566, train_loss_epoch=0.273, train_auc_epoch=0.524]  "
     ]
    },
    {
     "name": "stderr",
     "output_type": "stream",
     "text": [
      "\u001b[32m[I 2022-05-16 19:28:24,090]\u001b[0m Trial 1 finished with value: 0.5659354498014131 and parameters: {'lr': 0.00011970873248557104, 'BS': 500, 'hidden_size': 14, 'hidden_size2': 11, 'do1': 0.05119366562045369, 'do2': 0.6524186154656548}. Best is trial 0 with value: 0.5889094322733742.\u001b[0m\n"
     ]
    },
    {
     "name": "stdout",
     "output_type": "stream",
     "text": [
      "\n",
      "!!!!!!!!!!!!!!!!!!!!!!!!!!!!!!!!!!!!!!!!!!!!!!!!!!!!!!!!!!!!!!!!!!!!!!!\n",
      "0.5659354498014131\n"
     ]
    },
    {
     "name": "stderr",
     "output_type": "stream",
     "text": [
      "GPU available: True, used: True\n",
      "TPU available: False, using: 0 TPU cores\n",
      "IPU available: False, using: 0 IPUs\n",
      "LOCAL_RANK: 0 - CUDA_VISIBLE_DEVICES: [0]\n"
     ]
    },
    {
     "name": "stdout",
     "output_type": "stream",
     "text": [
      "Epoch 49: 100%|██████████| 10/10 [00:00<00:00, 21.23it/s, loss=0.0152, train_loss_step=0.016, val_loss_step=0.0164, val_loss_epoch=0.0148, val_auc_epoch=0.721, train_loss_epoch=0.0145, train_auc_epoch=0.684] "
     ]
    },
    {
     "name": "stderr",
     "output_type": "stream",
     "text": [
      "\u001b[32m[I 2022-05-16 19:28:48,932]\u001b[0m Trial 2 finished with value: 0.7205353905014714 and parameters: {'lr': 0.0012691201434260108, 'BS': 200, 'hidden_size': 9, 'hidden_size2': 8, 'do1': 0.3960474360470265, 'do2': 0.7887007096788996}. Best is trial 2 with value: 0.7205353905014714.\u001b[0m\n",
      "GPU available: True, used: True\n",
      "TPU available: False, using: 0 TPU cores\n",
      "IPU available: False, using: 0 IPUs\n",
      "LOCAL_RANK: 0 - CUDA_VISIBLE_DEVICES: [0]\n"
     ]
    },
    {
     "name": "stdout",
     "output_type": "stream",
     "text": [
      "\n",
      "!!!!!!!!!!!!!!!!!!!!!!!!!!!!!!!!!!!!!!!!!!!!!!!!!!!!!!!!!!!!!!!!!!!!!!!\n",
      "0.7205353905014714\n",
      "Epoch 49: 100%|██████████| 4/4 [00:00<00:00, 11.96it/s, loss=0.0787, train_loss_step=0.0782, val_loss_step=0.0694, val_loss_epoch=0.0682, val_auc_epoch=0.773, train_loss_epoch=0.071, train_auc_epoch=0.709] "
     ]
    },
    {
     "name": "stderr",
     "output_type": "stream",
     "text": [
      "\u001b[32m[I 2022-05-16 19:29:06,582]\u001b[0m Trial 3 finished with value: 0.7727703658527187 and parameters: {'lr': 0.0006870190359772087, 'BS': 500, 'hidden_size': 13, 'hidden_size2': 5, 'do1': 0.19877387220034304, 'do2': 0.831363922310521}. Best is trial 3 with value: 0.7727703658527187.\u001b[0m\n",
      "GPU available: True, used: True\n",
      "TPU available: False, using: 0 TPU cores\n",
      "IPU available: False, using: 0 IPUs\n",
      "LOCAL_RANK: 0 - CUDA_VISIBLE_DEVICES: [0]\n"
     ]
    },
    {
     "name": "stdout",
     "output_type": "stream",
     "text": [
      "\n",
      "!!!!!!!!!!!!!!!!!!!!!!!!!!!!!!!!!!!!!!!!!!!!!!!!!!!!!!!!!!!!!!!!!!!!!!!\n",
      "0.7727703658527187\n",
      "Epoch 49: 100%|██████████| 4/4 [00:00<00:00,  9.45it/s, loss=0.0591, train_loss_step=0.0491, val_loss_step=0.0782, val_loss_epoch=0.0743, val_auc_epoch=0.623, train_loss_epoch=0.0515, train_auc_epoch=0.695]"
     ]
    },
    {
     "name": "stderr",
     "output_type": "stream",
     "text": [
      "\u001b[32m[I 2022-05-16 19:29:24,863]\u001b[0m Trial 4 finished with value: 0.6227448547251728 and parameters: {'lr': 0.0013676728932238839, 'BS': 500, 'hidden_size': 13, 'hidden_size2': 4, 'do1': 0.4449960661200688, 'do2': 0.887982434157199}. Best is trial 3 with value: 0.7727703658527187.\u001b[0m\n",
      "GPU available: True, used: True\n",
      "TPU available: False, using: 0 TPU cores\n",
      "IPU available: False, using: 0 IPUs\n",
      "LOCAL_RANK: 0 - CUDA_VISIBLE_DEVICES: [0]\n"
     ]
    },
    {
     "name": "stdout",
     "output_type": "stream",
     "text": [
      "\n",
      "!!!!!!!!!!!!!!!!!!!!!!!!!!!!!!!!!!!!!!!!!!!!!!!!!!!!!!!!!!!!!!!!!!!!!!!\n",
      "0.6227448547251728\n",
      "Epoch 49: 100%|██████████| 4/4 [00:00<00:00,  8.98it/s, loss=0.00439, train_loss_step=0.00362, val_loss_step=0.00361, val_loss_epoch=0.00361, val_auc_epoch=0.756, train_loss_epoch=0.00365, train_auc_epoch=0.692]"
     ]
    },
    {
     "name": "stderr",
     "output_type": "stream",
     "text": [
      "\u001b[32m[I 2022-05-16 19:29:46,812]\u001b[0m Trial 5 finished with value: 0.7564050261553779 and parameters: {'lr': 0.0039312934246863865, 'BS': 500, 'hidden_size': 13, 'hidden_size2': 10, 'do1': 0.8877363518856369, 'do2': 0.13394566757579296}. Best is trial 3 with value: 0.7727703658527187.\u001b[0m\n",
      "GPU available: True, used: True\n",
      "TPU available: False, using: 0 TPU cores\n",
      "IPU available: False, using: 0 IPUs\n",
      "LOCAL_RANK: 0 - CUDA_VISIBLE_DEVICES: [0]\n"
     ]
    },
    {
     "name": "stdout",
     "output_type": "stream",
     "text": [
      "\n",
      "!!!!!!!!!!!!!!!!!!!!!!!!!!!!!!!!!!!!!!!!!!!!!!!!!!!!!!!!!!!!!!!!!!!!!!!\n",
      "0.7564050261553779\n",
      "Epoch 49: 100%|██████████| 10/10 [00:00<00:00, 14.74it/s, loss=0.000978, train_loss_step=0.0011, val_loss_step=0.00173, val_loss_epoch=0.00133, val_auc_epoch=0.714, train_loss_epoch=0.000928, train_auc_epoch=0.749]"
     ]
    },
    {
     "name": "stderr",
     "output_type": "stream",
     "text": [
      "\u001b[32m[I 2022-05-16 19:30:19,679]\u001b[0m Trial 6 finished with value: 0.7144139143209761 and parameters: {'lr': 0.0035805452055892076, 'BS': 200, 'hidden_size': 10, 'hidden_size2': 7, 'do1': 0.5206350635113318, 'do2': 0.49287267416568414}. Best is trial 3 with value: 0.7727703658527187.\u001b[0m\n",
      "GPU available: True, used: True\n"
     ]
    },
    {
     "name": "stdout",
     "output_type": "stream",
     "text": [
      "\n",
      "!!!!!!!!!!!!!!!!!!!!!!!!!!!!!!!!!!!!!!!!!!!!!!!!!!!!!!!!!!!!!!!!!!!!!!!\n",
      "0.7144139143209761\n"
     ]
    },
    {
     "name": "stderr",
     "output_type": "stream",
     "text": [
      "TPU available: False, using: 0 TPU cores\n",
      "IPU available: False, using: 0 IPUs\n",
      "LOCAL_RANK: 0 - CUDA_VISIBLE_DEVICES: [0]\n"
     ]
    },
    {
     "name": "stdout",
     "output_type": "stream",
     "text": [
      "Epoch 1:  90%|█████████ | 9/10 [00:00<00:00, 18.12it/s, loss=1.02, train_loss_step=0.755, val_loss_step=0.849, val_loss_epoch=0.836, val_auc_epoch=0.443, train_loss_epoch=1.120, train_auc_epoch=0.428] "
     ]
    },
    {
     "name": "stderr",
     "output_type": "stream",
     "text": [
      "\u001b[32m[I 2022-05-16 19:30:21,220]\u001b[0m Trial 7 pruned. Trial was pruned at epoch 1.\u001b[0m\n",
      "GPU available: True, used: True\n",
      "TPU available: False, using: 0 TPU cores\n",
      "IPU available: False, using: 0 IPUs\n",
      "LOCAL_RANK: 0 - CUDA_VISIBLE_DEVICES: [0]\n"
     ]
    },
    {
     "name": "stdout",
     "output_type": "stream",
     "text": [
      "Epoch 1: 100%|██████████| 10/10 [00:03<00:00,  3.08it/s, loss=1.02, train_loss_step=0.755, val_loss_step=0.849, val_loss_epoch=0.836, val_auc_epoch=0.443, train_loss_epoch=1.120, train_auc_epoch=0.428]    \n",
      "Epoch 49: 100%|██████████| 4/4 [00:00<00:00,  9.40it/s, loss=0.000219, train_loss_step=0.000196, val_loss_step=0.000341, val_loss_epoch=0.000347, val_auc_epoch=0.693, train_loss_epoch=0.000187, train_auc_epoch=0.741]\n",
      "!!!!!!!!!!!!!!!!!!!!!!!!!!!!!!!!!!!!!!!!!!!!!!!!!!!!!!!!!!!!!!!!!!!!!!!\n"
     ]
    },
    {
     "name": "stderr",
     "output_type": "stream",
     "text": [
      "\u001b[32m[I 2022-05-16 19:30:42,776]\u001b[0m Trial 8 finished with value: 0.6934188499749682 and parameters: {'lr': 0.005857717666242615, 'BS': 500, 'hidden_size': 14, 'hidden_size2': 12, 'do1': 0.2738131929177843, 'do2': 0.23638112638259945}. Best is trial 3 with value: 0.7727703658527187.\u001b[0m\n",
      "GPU available: True, used: True\n",
      "TPU available: False, using: 0 TPU cores\n",
      "IPU available: False, using: 0 IPUs\n",
      "LOCAL_RANK: 0 - CUDA_VISIBLE_DEVICES: [0]\n"
     ]
    },
    {
     "name": "stdout",
     "output_type": "stream",
     "text": [
      "0.6934188499749682\n",
      "Validation sanity check: 100%|██████████| 2/2 [00:00<00:00, 19.07it/s]"
     ]
    },
    {
     "name": "stderr",
     "output_type": "stream",
     "text": [
      "\u001b[32m[I 2022-05-16 19:30:42,958]\u001b[0m Trial 9 pruned. Trial was pruned at epoch 0.\u001b[0m\n",
      "GPU available: True, used: True\n",
      "TPU available: False, using: 0 TPU cores\n",
      "IPU available: False, using: 0 IPUs\n",
      "LOCAL_RANK: 0 - CUDA_VISIBLE_DEVICES: [0]\n"
     ]
    },
    {
     "name": "stdout",
     "output_type": "stream",
     "text": [
      "Validation sanity check: 100%|██████████| 1/1 [00:00<00:00,  6.83it/s]"
     ]
    },
    {
     "name": "stderr",
     "output_type": "stream",
     "text": [
      "\u001b[32m[I 2022-05-16 19:30:43,223]\u001b[0m Trial 10 pruned. Trial was pruned at epoch 0.\u001b[0m\n",
      "GPU available: True, used: True\n",
      "TPU available: False, using: 0 TPU cores\n",
      "IPU available: False, using: 0 IPUs\n",
      "LOCAL_RANK: 0 - CUDA_VISIBLE_DEVICES: [0]\n"
     ]
    },
    {
     "name": "stdout",
     "output_type": "stream",
     "text": [
      "Validation sanity check:  50%|█████     | 1/2 [00:00<00:00,  9.03it/s]"
     ]
    },
    {
     "name": "stderr",
     "output_type": "stream",
     "text": [
      "\u001b[32m[I 2022-05-16 19:30:43,510]\u001b[0m Trial 11 pruned. Trial was pruned at epoch 0.\u001b[0m\n",
      "GPU available: True, used: True\n",
      "TPU available: False, using: 0 TPU cores\n",
      "IPU available: False, using: 0 IPUs\n",
      "LOCAL_RANK: 0 - CUDA_VISIBLE_DEVICES: [0]\n"
     ]
    },
    {
     "name": "stdout",
     "output_type": "stream",
     "text": [
      "Validation sanity check:  50%|█████     | 1/2 [00:00<00:00,  9.55it/s]"
     ]
    },
    {
     "name": "stderr",
     "output_type": "stream",
     "text": [
      "\u001b[32m[I 2022-05-16 19:30:43,780]\u001b[0m Trial 12 pruned. Trial was pruned at epoch 0.\u001b[0m\n",
      "GPU available: True, used: True\n",
      "TPU available: False, using: 0 TPU cores\n",
      "IPU available: False, using: 0 IPUs\n",
      "LOCAL_RANK: 0 - CUDA_VISIBLE_DEVICES: [0]\n"
     ]
    },
    {
     "name": "stdout",
     "output_type": "stream",
     "text": [
      "Epoch 3:  50%|█████     | 1/2 [00:00<00:00,  5.19it/s, loss=0.653, train_loss_step=0.304, val_loss_step=0.848, val_loss_epoch=0.848, val_auc_epoch=0.543, train_loss_epoch=0.394, train_auc_epoch=0.635]"
     ]
    },
    {
     "name": "stderr",
     "output_type": "stream",
     "text": [
      "\u001b[32m[I 2022-05-16 19:30:45,540]\u001b[0m Trial 13 pruned. Trial was pruned at epoch 3.\u001b[0m\n",
      "GPU available: True, used: True\n",
      "TPU available: False, using: 0 TPU cores\n",
      "IPU available: False, using: 0 IPUs\n",
      "LOCAL_RANK: 0 - CUDA_VISIBLE_DEVICES: [0]\n"
     ]
    },
    {
     "name": "stdout",
     "output_type": "stream",
     "text": [
      "Validation sanity check: 100%|██████████| 2/2 [00:00<00:00, 12.91it/s]"
     ]
    },
    {
     "name": "stderr",
     "output_type": "stream",
     "text": [
      "\u001b[32m[I 2022-05-16 19:30:45,787]\u001b[0m Trial 14 pruned. Trial was pruned at epoch 0.\u001b[0m\n",
      "GPU available: True, used: True\n",
      "TPU available: False, using: 0 TPU cores\n",
      "IPU available: False, using: 0 IPUs\n",
      "LOCAL_RANK: 0 - CUDA_VISIBLE_DEVICES: [0]\n"
     ]
    },
    {
     "name": "stdout",
     "output_type": "stream",
     "text": [
      "Epoch 49: 100%|██████████| 4/4 [00:00<00:00,  9.15it/s, loss=0.0227, train_loss_step=0.0196, val_loss_step=0.0257, val_loss_epoch=0.0225, val_auc_epoch=0.720, train_loss_epoch=0.0203, train_auc_epoch=0.718]\n",
      "!!!!!!!!!!!!!!!!!!!!!!!!!!!!!!!!!!!!!!!!!!!!!!!!!!!!!!!!!!!!!!!!!!!!!!!\n"
     ]
    },
    {
     "name": "stderr",
     "output_type": "stream",
     "text": [
      "\u001b[32m[I 2022-05-16 19:31:06,967]\u001b[0m Trial 15 finished with value: 0.7202892591399981 and parameters: {'lr': 0.0007764286883017848, 'BS': 500, 'hidden_size': 10, 'hidden_size2': 10, 'do1': 0.578808169026439, 'do2': 0.4609740540370547}. Best is trial 3 with value: 0.7727703658527187.\u001b[0m\n",
      "GPU available: True, used: True\n",
      "TPU available: False, using: 0 TPU cores\n",
      "IPU available: False, using: 0 IPUs\n",
      "LOCAL_RANK: 0 - CUDA_VISIBLE_DEVICES: [0]\n"
     ]
    },
    {
     "name": "stdout",
     "output_type": "stream",
     "text": [
      "0.7202892591399981\n",
      "Validation sanity check:  50%|█████     | 1/2 [00:00<00:00,  9.28it/s]"
     ]
    },
    {
     "name": "stderr",
     "output_type": "stream",
     "text": [
      "\u001b[32m[I 2022-05-16 19:31:07,245]\u001b[0m Trial 16 pruned. Trial was pruned at epoch 0.\u001b[0m\n",
      "GPU available: True, used: True\n",
      "TPU available: False, using: 0 TPU cores\n",
      "IPU available: False, using: 0 IPUs\n",
      "LOCAL_RANK: 0 - CUDA_VISIBLE_DEVICES: [0]\n"
     ]
    },
    {
     "name": "stdout",
     "output_type": "stream",
     "text": [
      "Epoch 3: 100%|██████████| 2/2 [00:24<00:00, 12.22s/it, loss=0.653, train_loss_step=0.304, val_loss_step=0.848, val_loss_epoch=0.848, val_auc_epoch=0.543, train_loss_epoch=0.394, train_auc_epoch=0.635]\n",
      "Epoch 49: 100%|██████████| 2/2 [00:00<00:00,  5.11it/s, loss=0.207, train_loss_step=0.183, val_loss_step=0.241, val_loss_epoch=0.241, val_auc_epoch=0.721, train_loss_epoch=0.183, train_auc_epoch=0.659]\n",
      "!!!!!!!!!!!!!!!!!!!!!!!!!!!!!!!!!!!!!!!!!!!!!!!!!!!!!!!!!!!!!!!!!!!!!!!\n"
     ]
    },
    {
     "name": "stderr",
     "output_type": "stream",
     "text": [
      "\u001b[32m[I 2022-05-16 19:31:25,398]\u001b[0m Trial 17 finished with value: 0.7206643836859485 and parameters: {'lr': 0.00026639925598135694, 'BS': 1000, 'hidden_size': 13, 'hidden_size2': 7, 'do1': 0.14182209819051506, 'do2': 0.3734469945349415}. Best is trial 3 with value: 0.7727703658527187.\u001b[0m\n",
      "GPU available: True, used: True\n",
      "TPU available: False, using: 0 TPU cores\n",
      "IPU available: False, using: 0 IPUs\n",
      "LOCAL_RANK: 0 - CUDA_VISIBLE_DEVICES: [0]\n"
     ]
    },
    {
     "name": "stdout",
     "output_type": "stream",
     "text": [
      "0.7206643836859485\n",
      "Validation sanity check:  50%|█████     | 1/2 [00:00<00:00,  9.83it/s]"
     ]
    },
    {
     "name": "stderr",
     "output_type": "stream",
     "text": [
      "\u001b[32m[I 2022-05-16 19:31:25,654]\u001b[0m Trial 18 pruned. Trial was pruned at epoch 0.\u001b[0m\n",
      "GPU available: True, used: True\n",
      "TPU available: False, using: 0 TPU cores\n",
      "IPU available: False, using: 0 IPUs\n",
      "LOCAL_RANK: 0 - CUDA_VISIBLE_DEVICES: [0]\n"
     ]
    },
    {
     "name": "stdout",
     "output_type": "stream",
     "text": [
      "Validation sanity check: 100%|██████████| 2/2 [00:00<00:00, 13.25it/s]"
     ]
    },
    {
     "name": "stderr",
     "output_type": "stream",
     "text": [
      "\u001b[32m[I 2022-05-16 19:31:25,896]\u001b[0m Trial 19 pruned. Trial was pruned at epoch 0.\u001b[0m\n",
      "GPU available: True, used: True\n",
      "TPU available: False, using: 0 TPU cores\n",
      "IPU available: False, using: 0 IPUs\n",
      "LOCAL_RANK: 0 - CUDA_VISIBLE_DEVICES: [0]\n"
     ]
    },
    {
     "name": "stdout",
     "output_type": "stream",
     "text": [
      "Validation sanity check: 100%|██████████| 1/1 [00:00<00:00,  7.11it/s]"
     ]
    },
    {
     "name": "stderr",
     "output_type": "stream",
     "text": [
      "\u001b[32m[I 2022-05-16 19:31:26,132]\u001b[0m Trial 20 pruned. Trial was pruned at epoch 0.\u001b[0m\n",
      "GPU available: True, used: True\n",
      "TPU available: False, using: 0 TPU cores\n",
      "IPU available: False, using: 0 IPUs\n",
      "LOCAL_RANK: 0 - CUDA_VISIBLE_DEVICES: [0]\n"
     ]
    },
    {
     "name": "stdout",
     "output_type": "stream",
     "text": [
      "Validation sanity check: 100%|██████████| 1/1 [00:00<00:00,  7.00it/s]"
     ]
    },
    {
     "name": "stderr",
     "output_type": "stream",
     "text": [
      "\u001b[32m[I 2022-05-16 19:31:26,371]\u001b[0m Trial 21 pruned. Trial was pruned at epoch 0.\u001b[0m\n",
      "GPU available: True, used: True\n",
      "TPU available: False, using: 0 TPU cores\n",
      "IPU available: False, using: 0 IPUs\n",
      "LOCAL_RANK: 0 - CUDA_VISIBLE_DEVICES: [0]\n"
     ]
    },
    {
     "name": "stdout",
     "output_type": "stream",
     "text": [
      "Validation sanity check: 100%|██████████| 1/1 [00:00<00:00,  7.15it/s]"
     ]
    },
    {
     "name": "stderr",
     "output_type": "stream",
     "text": [
      "\u001b[32m[I 2022-05-16 19:31:26,614]\u001b[0m Trial 22 pruned. Trial was pruned at epoch 0.\u001b[0m\n",
      "GPU available: True, used: True\n",
      "TPU available: False, using: 0 TPU cores\n",
      "IPU available: False, using: 0 IPUs\n",
      "LOCAL_RANK: 0 - CUDA_VISIBLE_DEVICES: [0]\n"
     ]
    },
    {
     "name": "stdout",
     "output_type": "stream",
     "text": [
      "Validation sanity check: 100%|██████████| 1/1 [00:00<00:00,  6.76it/s]"
     ]
    },
    {
     "name": "stderr",
     "output_type": "stream",
     "text": [
      "\u001b[32m[I 2022-05-16 19:31:26,868]\u001b[0m Trial 23 pruned. Trial was pruned at epoch 0.\u001b[0m\n",
      "GPU available: True, used: True\n",
      "TPU available: False, using: 0 TPU cores\n",
      "IPU available: False, using: 0 IPUs\n",
      "LOCAL_RANK: 0 - CUDA_VISIBLE_DEVICES: [0]\n"
     ]
    },
    {
     "name": "stdout",
     "output_type": "stream",
     "text": [
      "Validation sanity check: 100%|██████████| 1/1 [00:00<00:00,  6.80it/s]"
     ]
    },
    {
     "name": "stderr",
     "output_type": "stream",
     "text": [
      "\u001b[32m[I 2022-05-16 19:31:27,131]\u001b[0m Trial 24 pruned. Trial was pruned at epoch 0.\u001b[0m\n",
      "GPU available: True, used: True\n",
      "TPU available: False, using: 0 TPU cores\n",
      "IPU available: False, using: 0 IPUs\n",
      "LOCAL_RANK: 0 - CUDA_VISIBLE_DEVICES: [0]\n"
     ]
    },
    {
     "name": "stdout",
     "output_type": "stream",
     "text": [
      "Validation sanity check:  50%|█████     | 1/2 [00:00<00:00,  8.81it/s]"
     ]
    },
    {
     "name": "stderr",
     "output_type": "stream",
     "text": [
      "\u001b[32m[I 2022-05-16 19:31:27,404]\u001b[0m Trial 25 pruned. Trial was pruned at epoch 0.\u001b[0m\n",
      "GPU available: True, used: True\n",
      "TPU available: False, using: 0 TPU cores\n",
      "IPU available: False, using: 0 IPUs\n",
      "LOCAL_RANK: 0 - CUDA_VISIBLE_DEVICES: [0]\n"
     ]
    },
    {
     "name": "stdout",
     "output_type": "stream",
     "text": [
      "Epoch 4:  50%|█████     | 1/2 [00:00<00:00,  4.92it/s, loss=2.7, train_loss_step=2.140, val_loss_step=0.694, val_loss_epoch=0.694, val_auc_epoch=0.583, train_loss_epoch=2.420, train_auc_epoch=0.515] "
     ]
    },
    {
     "name": "stderr",
     "output_type": "stream",
     "text": [
      "\u001b[32m[I 2022-05-16 19:31:29,588]\u001b[0m Trial 26 pruned. Trial was pruned at epoch 4.\u001b[0m\n",
      "GPU available: True, used: True\n",
      "TPU available: False, using: 0 TPU cores\n",
      "IPU available: False, using: 0 IPUs\n",
      "LOCAL_RANK: 0 - CUDA_VISIBLE_DEVICES: [0]\n"
     ]
    },
    {
     "name": "stdout",
     "output_type": "stream",
     "text": [
      "Validation sanity check: 100%|██████████| 2/2 [00:00<00:00, 12.46it/s]"
     ]
    },
    {
     "name": "stderr",
     "output_type": "stream",
     "text": [
      "\u001b[32m[I 2022-05-16 19:31:29,850]\u001b[0m Trial 27 pruned. Trial was pruned at epoch 0.\u001b[0m\n",
      "GPU available: True, used: True\n",
      "TPU available: False, using: 0 TPU cores\n",
      "IPU available: False, using: 0 IPUs\n",
      "LOCAL_RANK: 0 - CUDA_VISIBLE_DEVICES: [0]\n"
     ]
    },
    {
     "name": "stdout",
     "output_type": "stream",
     "text": [
      "Epoch 2: 100%|██████████| 4/4 [00:00<00:00, 10.64it/s, loss=1.54, train_loss_step=0.824, val_loss_step=0.823, val_loss_epoch=0.818, val_auc_epoch=0.562, train_loss_epoch=1.420, train_auc_epoch=0.633]"
     ]
    },
    {
     "name": "stderr",
     "output_type": "stream",
     "text": [
      "\u001b[32m[I 2022-05-16 19:31:31,580]\u001b[0m Trial 28 pruned. Trial was pruned at epoch 2.\u001b[0m\n",
      "GPU available: True, used: True\n",
      "TPU available: False, using: 0 TPU cores\n",
      "IPU available: False, using: 0 IPUs\n",
      "LOCAL_RANK: 0 - CUDA_VISIBLE_DEVICES: [0]\n"
     ]
    },
    {
     "name": "stdout",
     "output_type": "stream",
     "text": [
      "Epoch 4: 100%|██████████| 2/2 [00:03<00:00,  1.93s/it, loss=2.7, train_loss_step=2.140, val_loss_step=0.694, val_loss_epoch=0.694, val_auc_epoch=0.583, train_loss_epoch=2.420, train_auc_epoch=0.515]2]\n",
      "Epoch 2: 100%|██████████| 4/4 [00:01<00:00,  2.03it/s, loss=1.54, train_loss_step=0.824, val_loss_step=0.823, val_loss_epoch=0.818, val_auc_epoch=0.562, train_loss_epoch=1.420, train_auc_epoch=0.633]\n",
      "Epoch 7:  50%|█████     | 1/2 [00:00<00:00,  5.57it/s, loss=0.741, train_loss_step=0.706, val_loss_step=0.628, val_loss_epoch=0.628, val_auc_epoch=0.594, train_loss_epoch=0.716, train_auc_epoch=0.480]"
     ]
    },
    {
     "name": "stderr",
     "output_type": "stream",
     "text": [
      "\u001b[32m[I 2022-05-16 19:31:34,906]\u001b[0m Trial 29 pruned. Trial was pruned at epoch 7.\u001b[0m\n",
      "GPU available: True, used: True\n",
      "TPU available: False, using: 0 TPU cores\n",
      "IPU available: False, using: 0 IPUs\n",
      "LOCAL_RANK: 0 - CUDA_VISIBLE_DEVICES: [0]\n"
     ]
    },
    {
     "name": "stdout",
     "output_type": "stream",
     "text": [
      "Validation sanity check:   0%|          | 0/2 [00:00<?, ?it/s]"
     ]
    },
    {
     "name": "stderr",
     "output_type": "stream",
     "text": [
      "\u001b[32m[I 2022-05-16 19:31:35,109]\u001b[0m Trial 30 pruned. Trial was pruned at epoch 0.\u001b[0m\n",
      "GPU available: True, used: True\n",
      "TPU available: False, using: 0 TPU cores\n",
      "IPU available: False, using: 0 IPUs\n",
      "LOCAL_RANK: 0 - CUDA_VISIBLE_DEVICES: [0]\n"
     ]
    },
    {
     "name": "stdout",
     "output_type": "stream",
     "text": [
      "Validation sanity check:   0%|          | 0/2 [00:00<?, ?it/s]"
     ]
    },
    {
     "name": "stderr",
     "output_type": "stream",
     "text": [
      "\u001b[32m[I 2022-05-16 19:31:35,297]\u001b[0m Trial 31 pruned. Trial was pruned at epoch 0.\u001b[0m\n",
      "GPU available: True, used: True\n",
      "TPU available: False, using: 0 TPU cores\n",
      "IPU available: False, using: 0 IPUs\n",
      "LOCAL_RANK: 0 - CUDA_VISIBLE_DEVICES: [0]\n"
     ]
    },
    {
     "name": "stdout",
     "output_type": "stream",
     "text": [
      "Validation sanity check:   0%|          | 0/2 [00:00<?, ?it/s]"
     ]
    },
    {
     "name": "stderr",
     "output_type": "stream",
     "text": [
      "\u001b[32m[I 2022-05-16 19:31:35,491]\u001b[0m Trial 32 pruned. Trial was pruned at epoch 0.\u001b[0m\n",
      "GPU available: True, used: True\n",
      "TPU available: False, using: 0 TPU cores\n",
      "IPU available: False, using: 0 IPUs\n",
      "LOCAL_RANK: 0 - CUDA_VISIBLE_DEVICES: [0]\n"
     ]
    },
    {
     "name": "stdout",
     "output_type": "stream",
     "text": [
      "Validation sanity check:   0%|          | 0/2 [00:00<?, ?it/s]"
     ]
    },
    {
     "name": "stderr",
     "output_type": "stream",
     "text": [
      "\u001b[32m[I 2022-05-16 19:31:35,684]\u001b[0m Trial 33 pruned. Trial was pruned at epoch 0.\u001b[0m\n",
      "GPU available: True, used: True\n",
      "TPU available: False, using: 0 TPU cores\n",
      "IPU available: False, using: 0 IPUs\n",
      "LOCAL_RANK: 0 - CUDA_VISIBLE_DEVICES: [0]\n"
     ]
    },
    {
     "name": "stdout",
     "output_type": "stream",
     "text": [
      "Validation sanity check:   0%|          | 0/2 [00:00<?, ?it/s]"
     ]
    },
    {
     "name": "stderr",
     "output_type": "stream",
     "text": [
      "\u001b[32m[I 2022-05-16 19:31:35,879]\u001b[0m Trial 34 pruned. Trial was pruned at epoch 0.\u001b[0m\n",
      "GPU available: True, used: True\n",
      "TPU available: False, using: 0 TPU cores\n",
      "IPU available: False, using: 0 IPUs\n",
      "LOCAL_RANK: 0 - CUDA_VISIBLE_DEVICES: [0]\n"
     ]
    },
    {
     "name": "stdout",
     "output_type": "stream",
     "text": [
      "Epoch 49: 100%|██████████| 10/10 [00:00<00:00, 15.86it/s, loss=0.00563, train_loss_step=0.0054, val_loss_step=0.0272, val_loss_epoch=0.0276, val_auc_epoch=0.734, train_loss_epoch=0.00527, train_auc_epoch=0.815] "
     ]
    },
    {
     "name": "stderr",
     "output_type": "stream",
     "text": [
      "\u001b[32m[I 2022-05-16 19:32:06,997]\u001b[0m Trial 35 finished with value: 0.7336237147234738 and parameters: {'lr': 0.001571773179199497, 'BS': 200, 'hidden_size': 14, 'hidden_size2': 7, 'do1': 0.17290372584629576, 'do2': 0.7078921081786125}. Best is trial 3 with value: 0.7727703658527187.\u001b[0m\n",
      "GPU available: True, used: True\n",
      "TPU available: False, using: 0 TPU cores\n",
      "IPU available: False, using: 0 IPUs\n",
      "LOCAL_RANK: 0 - CUDA_VISIBLE_DEVICES: [0]\n"
     ]
    },
    {
     "name": "stdout",
     "output_type": "stream",
     "text": [
      "\n",
      "!!!!!!!!!!!!!!!!!!!!!!!!!!!!!!!!!!!!!!!!!!!!!!!!!!!!!!!!!!!!!!!!!!!!!!!\n",
      "0.7336237147234738\n",
      "Validation sanity check:  50%|█████     | 1/2 [00:00<00:00,  9.04it/s]"
     ]
    },
    {
     "name": "stderr",
     "output_type": "stream",
     "text": [
      "\u001b[32m[I 2022-05-16 19:32:07,289]\u001b[0m Trial 36 pruned. Trial was pruned at epoch 0.\u001b[0m\n",
      "GPU available: True, used: True\n",
      "TPU available: False, using: 0 TPU cores\n",
      "IPU available: False, using: 0 IPUs\n",
      "LOCAL_RANK: 0 - CUDA_VISIBLE_DEVICES: [0]\n"
     ]
    },
    {
     "name": "stdout",
     "output_type": "stream",
     "text": [
      "Epoch 16:  90%|█████████ | 9/10 [00:00<00:00, 18.22it/s, loss=0.00151, train_loss_step=0.0012, val_loss_step=0.009, val_loss_epoch=0.00882, val_auc_epoch=0.684, train_loss_epoch=0.00141, train_auc_epoch=0.844]    "
     ]
    },
    {
     "name": "stderr",
     "output_type": "stream",
     "text": [
      "\u001b[32m[I 2022-05-16 19:32:17,793]\u001b[0m Trial 37 pruned. Trial was pruned at epoch 16.\u001b[0m\n",
      "GPU available: True, used: True\n",
      "TPU available: False, using: 0 TPU cores\n",
      "IPU available: False, using: 0 IPUs\n",
      "LOCAL_RANK: 0 - CUDA_VISIBLE_DEVICES: [0]\n"
     ]
    },
    {
     "name": "stdout",
     "output_type": "stream",
     "text": [
      "Epoch 49: 100%|██████████| 4/4 [00:00<00:00,  9.76it/s, loss=0.0124, train_loss_step=0.0111, val_loss_step=0.0106, val_loss_epoch=0.0104, val_auc_epoch=0.759, train_loss_epoch=0.011, train_auc_epoch=0.714] 844]\n",
      "!!!!!!!!!!!!!!!!!!!!!!!!!!!!!!!!!!!!!!!!!!!!!!!!!!!!!!!!!!!!!!!!!!!!!!!\n"
     ]
    },
    {
     "name": "stderr",
     "output_type": "stream",
     "text": [
      "\u001b[32m[I 2022-05-16 19:32:39,422]\u001b[0m Trial 38 finished with value: 0.7585965087723355 and parameters: {'lr': 0.0017146594443056423, 'BS': 500, 'hidden_size': 14, 'hidden_size2': 7, 'do1': 0.17324680170360482, 'do2': 0.7393718438960639}. Best is trial 3 with value: 0.7727703658527187.\u001b[0m\n",
      "GPU available: True, used: True\n"
     ]
    },
    {
     "name": "stdout",
     "output_type": "stream",
     "text": [
      "0.7585965087723355\n"
     ]
    },
    {
     "name": "stderr",
     "output_type": "stream",
     "text": [
      "TPU available: False, using: 0 TPU cores\n",
      "IPU available: False, using: 0 IPUs\n",
      "LOCAL_RANK: 0 - CUDA_VISIBLE_DEVICES: [0]\n"
     ]
    },
    {
     "name": "stdout",
     "output_type": "stream",
     "text": [
      "Validation sanity check:  50%|█████     | 1/2 [00:00<00:00,  9.65it/s]"
     ]
    },
    {
     "name": "stderr",
     "output_type": "stream",
     "text": [
      "\u001b[32m[I 2022-05-16 19:32:39,686]\u001b[0m Trial 39 pruned. Trial was pruned at epoch 0.\u001b[0m\n",
      "GPU available: True, used: True\n",
      "TPU available: False, using: 0 TPU cores\n",
      "IPU available: False, using: 0 IPUs\n",
      "LOCAL_RANK: 0 - CUDA_VISIBLE_DEVICES: [0]\n"
     ]
    },
    {
     "name": "stdout",
     "output_type": "stream",
     "text": [
      "Validation sanity check:  50%|█████     | 1/2 [00:00<00:00,  9.98it/s]"
     ]
    },
    {
     "name": "stderr",
     "output_type": "stream",
     "text": [
      "\u001b[32m[I 2022-05-16 19:32:39,950]\u001b[0m Trial 40 pruned. Trial was pruned at epoch 0.\u001b[0m\n",
      "GPU available: True, used: True\n",
      "TPU available: False, using: 0 TPU cores\n",
      "IPU available: False, using: 0 IPUs\n",
      "LOCAL_RANK: 0 - CUDA_VISIBLE_DEVICES: [0]\n"
     ]
    },
    {
     "name": "stdout",
     "output_type": "stream",
     "text": [
      "Validation sanity check:  50%|█████     | 1/2 [00:00<00:00,  9.70it/s]"
     ]
    },
    {
     "name": "stderr",
     "output_type": "stream",
     "text": [
      "\u001b[32m[I 2022-05-16 19:32:40,217]\u001b[0m Trial 41 pruned. Trial was pruned at epoch 0.\u001b[0m\n",
      "GPU available: True, used: True\n",
      "TPU available: False, using: 0 TPU cores\n",
      "IPU available: False, using: 0 IPUs\n",
      "LOCAL_RANK: 0 - CUDA_VISIBLE_DEVICES: [0]\n"
     ]
    },
    {
     "name": "stdout",
     "output_type": "stream",
     "text": [
      "Epoch 2: 100%|██████████| 4/4 [00:00<00:00, 11.78it/s, loss=0.258, train_loss_step=0.201, val_loss_step=0.489, val_loss_epoch=0.489, val_auc_epoch=0.469, train_loss_epoch=0.242, train_auc_epoch=0.663]"
     ]
    },
    {
     "name": "stderr",
     "output_type": "stream",
     "text": [
      "\u001b[32m[I 2022-05-16 19:32:41,796]\u001b[0m Trial 42 pruned. Trial was pruned at epoch 2.\u001b[0m\n",
      "GPU available: True, used: True\n",
      "TPU available: False, using: 0 TPU cores\n",
      "IPU available: False, using: 0 IPUs\n",
      "LOCAL_RANK: 0 - CUDA_VISIBLE_DEVICES: [0]\n"
     ]
    },
    {
     "name": "stdout",
     "output_type": "stream",
     "text": [
      "Validation sanity check:   0%|          | 0/2 [00:00<?, ?it/s]"
     ]
    },
    {
     "name": "stderr",
     "output_type": "stream",
     "text": [
      "\u001b[32m[I 2022-05-16 19:32:41,993]\u001b[0m Trial 43 pruned. Trial was pruned at epoch 0.\u001b[0m\n",
      "GPU available: True, used: True\n",
      "TPU available: False, using: 0 TPU cores\n",
      "IPU available: False, using: 0 IPUs\n",
      "LOCAL_RANK: 0 - CUDA_VISIBLE_DEVICES: [0]\n"
     ]
    },
    {
     "name": "stdout",
     "output_type": "stream",
     "text": [
      "Validation sanity check:  50%|█████     | 1/2 [00:00<00:00,  9.48it/s]"
     ]
    },
    {
     "name": "stderr",
     "output_type": "stream",
     "text": [
      "\u001b[32m[I 2022-05-16 19:32:42,264]\u001b[0m Trial 44 pruned. Trial was pruned at epoch 0.\u001b[0m\n",
      "GPU available: True, used: True\n",
      "TPU available: False, using: 0 TPU cores\n",
      "IPU available: False, using: 0 IPUs\n",
      "LOCAL_RANK: 0 - CUDA_VISIBLE_DEVICES: [0]\n"
     ]
    },
    {
     "name": "stdout",
     "output_type": "stream",
     "text": [
      "Validation sanity check:  50%|█████     | 1/2 [00:00<00:00,  9.49it/s]"
     ]
    },
    {
     "name": "stderr",
     "output_type": "stream",
     "text": [
      "\u001b[32m[I 2022-05-16 19:32:42,547]\u001b[0m Trial 45 pruned. Trial was pruned at epoch 0.\u001b[0m\n",
      "GPU available: True, used: True\n",
      "TPU available: False, using: 0 TPU cores\n",
      "IPU available: False, using: 0 IPUs\n",
      "LOCAL_RANK: 0 - CUDA_VISIBLE_DEVICES: [0]\n"
     ]
    },
    {
     "name": "stdout",
     "output_type": "stream",
     "text": [
      "Validation sanity check: 100%|██████████| 1/1 [00:00<00:00,  6.22it/s]"
     ]
    },
    {
     "name": "stderr",
     "output_type": "stream",
     "text": [
      "\u001b[32m[I 2022-05-16 19:32:42,827]\u001b[0m Trial 46 pruned. Trial was pruned at epoch 0.\u001b[0m\n",
      "GPU available: True, used: True\n",
      "TPU available: False, using: 0 TPU cores\n",
      "IPU available: False, using: 0 IPUs\n",
      "LOCAL_RANK: 0 - CUDA_VISIBLE_DEVICES: [0]\n"
     ]
    },
    {
     "name": "stdout",
     "output_type": "stream",
     "text": [
      "Validation sanity check: 100%|██████████| 2/2 [00:00<00:00, 17.87it/s]"
     ]
    },
    {
     "name": "stderr",
     "output_type": "stream",
     "text": [
      "\u001b[32m[I 2022-05-16 19:32:43,053]\u001b[0m Trial 47 pruned. Trial was pruned at epoch 0.\u001b[0m\n",
      "GPU available: True, used: True\n",
      "TPU available: False, using: 0 TPU cores\n",
      "IPU available: False, using: 0 IPUs\n",
      "LOCAL_RANK: 0 - CUDA_VISIBLE_DEVICES: [0]\n"
     ]
    },
    {
     "name": "stdout",
     "output_type": "stream",
     "text": [
      "Validation sanity check:  50%|█████     | 1/2 [00:00<00:00,  9.24it/s]"
     ]
    },
    {
     "name": "stderr",
     "output_type": "stream",
     "text": [
      "\u001b[32m[I 2022-05-16 19:32:43,335]\u001b[0m Trial 48 pruned. Trial was pruned at epoch 0.\u001b[0m\n",
      "GPU available: True, used: True\n",
      "TPU available: False, using: 0 TPU cores\n",
      "IPU available: False, using: 0 IPUs\n",
      "LOCAL_RANK: 0 - CUDA_VISIBLE_DEVICES: [0]\n"
     ]
    },
    {
     "name": "stdout",
     "output_type": "stream",
     "text": [
      "Validation sanity check:  50%|█████     | 1/2 [00:00<00:00,  8.50it/s]"
     ]
    },
    {
     "name": "stderr",
     "output_type": "stream",
     "text": [
      "\u001b[32m[I 2022-05-16 19:32:43,637]\u001b[0m Trial 49 pruned. Trial was pruned at epoch 0.\u001b[0m\n"
     ]
    }
   ],
   "source": [
    "\n",
    "import logging\n",
    "\n",
    "\n",
    "#pl.utilities.distributed.log.setLevel(logging.ERROR)\n",
    "\n",
    "\n",
    "sampler = optuna.samplers.TPESampler(seed=17)\n",
    "\n",
    "\n",
    "study = optuna.create_study(direction=\"maximize\", sampler=sampler)\n",
    "study.optimize(objective, n_trials=50, timeout=600)"
   ]
  },
  {
   "cell_type": "markdown",
   "metadata": {},
   "source": [
    "# ROC"
   ]
  },
  {
   "cell_type": "code",
   "execution_count": 240,
   "metadata": {},
   "outputs": [
    {
     "name": "stderr",
     "output_type": "stream",
     "text": [
      "LOCAL_RANK: 0 - CUDA_VISIBLE_DEVICES: [0]\n"
     ]
    },
    {
     "name": "stdout",
     "output_type": "stream",
     "text": [
      "Predicting: 100%|██████████| 2/2 [00:00<?, ?it/s]\n",
      "569 38917\n",
      "roc is:  0.7360357088712876\n"
     ]
    },
    {
     "data": {
      "image/png": "[encoded data removed]",
      "text/plain": [
       "<Figure size 432x288 with 1 Axes>"
      ]
     },
     "metadata": {
      "needs_background": "light"
     },
     "output_type": "display_data"
    }
   ],
   "source": [
    "import numpy as np\n",
    "from sklearn import metrics\n",
    "\n",
    "predictions = trainer.predict(model, valid_loader)\n",
    "\n",
    "y=[]\n",
    "scores=[]\n",
    "for (y_pred, y_true, auc_score) in predictions[:]:\n",
    "    \n",
    "    #print(y_pred.shape, y_true.shape)\n",
    "    \n",
    "    y.append(y_true)\n",
    "    scores.append(y_pred)\n",
    "\n",
    "\n",
    "y = np.concatenate(y)\n",
    "scores = np.concatenate(scores)\n",
    "\n",
    "print(sum(y==1), len(y))\n",
    "fpr, tpr, thresholds = metrics.roc_curve(y, scores, pos_label=1)\n",
    "print('roc is: ', metrics.roc_auc_score(y, scores))\n",
    "\n",
    "plt.plot([0,1], [0,1], linestyle='--', label='No Skill')\n",
    "\n",
    "plt.plot(fpr, tpr, marker='.', label='Logistic')\n",
    "# axis labels\n",
    "plt.xlabel('False Positive Rate')\n",
    "plt.ylabel('True Positive Rate')\n",
    "# show the legend\n",
    "plt.legend()\n",
    "# show the plot\n",
    "plt.show()\n",
    "\n",
    "#fpr, tpr, thresholds = roc_curve(y, scores, pos_label=1)"
   ]
  },
  {
   "cell_type": "code",
   "execution_count": null,
   "metadata": {},
   "outputs": [],
   "source": [
    "print(type(predictions))\n",
    "print(len(predictions))\n",
    "print(type(predictions[0]))\n",
    "print(len(predictions[0]))\n",
    "print()\n",
    "print()\n",
    "print()\n",
    "print()\n",
    "print()\n",
    "print()\n",
    "print()\n",
    "\n"
   ]
  },
  {
   "cell_type": "code",
   "execution_count": null,
   "metadata": {},
   "outputs": [],
   "source": []
  },
  {
   "cell_type": "code",
   "execution_count": null,
   "metadata": {},
   "outputs": [],
   "source": []
  },
  {
   "cell_type": "code",
   "execution_count": null,
   "metadata": {},
   "outputs": [],
   "source": [
    "def collate_fn(train_data):\n",
    "    train_data.sort(key=lambda data: len(data), reverse=True)\n",
    "    data_length = [len(data) for data in train_data]\n",
    "    train_data =  torch.nn.utils.rnn.pad_sequence(train_data, batch_first=True, padding_value=0)\n",
    "    return train_data, data_length"
   ]
  },
  {
   "cell_type": "code",
   "execution_count": null,
   "metadata": {},
   "outputs": [],
   "source": [
    "train_dataloader = DataLoader(train_data, batch_size=2, collate_fn=collate_fn)\n",
    "\n",
    "for data, length in train_dataloader:\n",
    "    print(data)\n",
    "    print(length)"
   ]
  },
  {
   "cell_type": "code",
   "execution_count": null,
   "metadata": {},
   "outputs": [],
   "source": [
    "for data, length in train_dataloader:\n",
    "    data = rnn_utils.pack_padded_sequence(data, length, batch_first=True)\n",
    "    print(data)"
   ]
  },
  {
   "cell_type": "code",
   "execution_count": null,
   "metadata": {},
   "outputs": [],
   "source": [
    "net = nn.LSTM(1, 5, batch_first=True)\n"
   ]
  },
  {
   "cell_type": "code",
   "execution_count": null,
   "metadata": {},
   "outputs": [],
   "source": [
    "train_data = MyData(train_x)\n",
    "train_dataloader = DataLoader(train_data, batch_size=2, collate_fn=collate_fn)\n",
    "\n",
    "flag = 0\n",
    "for data, length in train_dataloader:\n",
    "    data = torch.nn.utils.rnn.pack_padded_sequence(data, length, batch_first=True)\n",
    "    output, hidden = net(data)\n",
    "    if flag == 0:\n",
    "        print(output)\n",
    "        flag = 1"
   ]
  }
 ],
 "metadata": {
  "interpreter": {
   "hash": "c2f29e1a05e7eec16e11fbddc27661320510c37e25360333d406961ee2486f09"
  },
  "kernelspec": {
   "display_name": "Python 3.9.7 ('dashVis')",
   "language": "python",
   "name": "python3"
  },
  "language_info": {
   "codemirror_mode": {
    "name": "ipython",
    "version": 3
   },
   "file_extension": ".py",
   "mimetype": "text/x-python",
   "name": "python",
   "nbconvert_exporter": "python",
   "pygments_lexer": "ipython3",
   "version": "3.9.7"
  },
  "orig_nbformat": 4
 },
 "nbformat": 4,
 "nbformat_minor": 2
}
