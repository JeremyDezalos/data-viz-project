{
 "cells": [
  {
   "cell_type": "code",
   "execution_count": 1,
   "metadata": {},
   "outputs": [
    {
     "name": "stdout",
     "output_type": "stream",
     "text": [
      "DATABASE CONNECTED !!!\n"
     ]
    }
   ],
   "source": [
    "import numpy as np\n",
    "import pandas as pd\n",
    "import matplotlib.pyplot as plt\n",
    "\n",
    "import time\n",
    "# import custom libraries\n",
    "import sys\n",
    "sys.path.append(\"C:\\\\DATA\\\\Tasks\\\\lib\\\\hk\")\n",
    "import hk_psql\n",
    "import dash_bootstrap_components\n",
    "\n",
    "import plotly.express as px  # (version 4.7.0 or higher)\n",
    "import plotly.graph_objects as go\n",
    "from plotly.subplots import make_subplots\n",
    "\n",
    "\n",
    "ADD_DATA = \"C:\\\\DATA\\\\data\\\\raw\\\\mimic4\\\\lookup\\\\\"\n",
    "\n",
    "%load_ext autoreload\n",
    "%autoreload 2\n",
    "\n",
    "conn = hk_psql.connect_psql('mimic')\n",
    "\n",
    "from IPython.core.interactiveshell import InteractiveShell\n",
    "InteractiveShell.ast_node_interactivity = \"all\"\n"
   ]
  },
  {
   "cell_type": "code",
   "execution_count": null,
   "metadata": {},
   "outputs": [],
   "source": [
    "sel_icustay = [{'id_careunit': 'Medical Intensive Care Unit (MICU)', 'id_los_min': '24', 'id_los_max': '240'},\n",
    " {'id_careunit': 'Trauma SICU (TSICU)', 'id_los_min': '24', 'id_los_max': '240'},\n",
    " {'id_careunit': 'Surgical Intensive Care Unit (SICU)', 'id_los_min': '24', 'id_los_max': '240'}]\n",
    "\n",
    "sel_icustay = [\n",
    "    {'id_careunit': 'ICU', 'id_los_min': '24', 'id_los_max': '100'},\n",
    "    # {'id_careunit': 'Cardiac Surgery', 'id_los_min': '0', 'id_los_max': '1000'},\n",
    "]\n",
    "\n",
    "\n",
    "filters_core = {\n",
    "        'age':[20,91],\n",
    "        'gender':['M','F'],\n",
    "        'icustays':pd.DataFrame.from_dict(sel_icustay),\n",
    "        'adm_types':[],\n",
    "        'adm_locs':[],\n",
    "        'dis_locs':[],\n",
    "\n",
    "    }\n",
    "# print(filters)\n",
    "q_core = hk_psql.bq_core(filters_core)\n",
    "# print(q_core)\n",
    "df_filtered_core = hk_psql.query(q_core, conn)\n",
    "hadm_ids_core = df_filtered_core['hadm_id'].unique().tolist()\n",
    "print(df_filtered_core)\n",
    "print('len after core: ',len(hadm_ids_core))"
   ]
  },
  {
   "cell_type": "code",
   "execution_count": null,
   "metadata": {},
   "outputs": [],
   "source": [
    "# **************** STEP 2: filter hosp codes (drg , icd)\n",
    "'''\ticd_code\ticd_version\tlong_title\tcount\n",
    "130\t3613\t9\t(Aorto)coronary bypass of three coronary arteries\t1074\n",
    "258\t021209W\t10\tBypass Coronary Artery, Three Arteries from Aorta with Autologous Venous Tissue, Open Approach\t520\n",
    "'''\n",
    "\n",
    "filters_codes = {\n",
    "    'drgcodes': pd.DataFrame(), \n",
    "    'diagnoses_icd': pd.read_csv(ADD_DATA+'saved_diag_sepsis.csv'),\n",
    "    'procedures_icd': pd.DataFrame(),\n",
    "}\n",
    "\n",
    "\n",
    "q = hk_psql.bq_codes(filters_codes, hadm_ids_core)\n",
    "# q = hk_psql.bq_codes(filters_codes, [])\n",
    "print('sdfds')\n",
    "if len(filters_codes['procedures_icd'])+len(filters_codes['diagnoses_icd'])+len(filters_codes['drgcodes'])==0:\n",
    "    # if no code is specified, just ignore query\n",
    "    df_filtered_codes = df_filtered_core\n",
    "else:\n",
    "    df_filtered_codes = hk_psql.query(q, conn)\n",
    "# print(df_filtered_codes)\n",
    "# df_filtered_core.to_csv(ADD_DATA+'temp.csv')\n",
    "hadm_ids_core_code = df_filtered_codes['hadm_id'].unique().tolist()\n",
    "print('len after code: ', len(hadm_ids_core_code))\n",
    "\n"
   ]
  },
  {
   "cell_type": "code",
   "execution_count": null,
   "metadata": {},
   "outputs": [],
   "source": [
    "# **************** STEP 3: Hosp filters -> hadm_ids\n",
    "lab_table = [\n",
    "{'id_item': 50889, 'id_label': 'C-Reactive Protein', 'id_fluid': 'Blood', 'id_cat': 'Chemistry', 'id_range': '0.0-5.0', 'id_unit': 'mg/L', 'id_condition': 'X>0', 'id_counts': 20}, \n",
    "# {'id_item': 51003, 'id_label': 'Troponin T', 'id_fluid': 'Blood', 'id_cat': 'Chemistry', 'id_range': '0.0-0.01', 'id_unit': 'ng/mL', 'id_condition': 'X>0', 'id_counts': 1}, \n",
    "# {'id_item': 50963, 'id_label': 'NTproBNP', 'id_fluid': 'Blood', 'id_cat': 'Chemistry', 'id_range': '0.0-177.0', 'id_unit': 'pg/mL', 'id_condition': 'X>0', 'id_counts': 1}, \n",
    "# {'id_item': 50924, 'id_label': 'Ferritin', 'id_fluid': 'Blood', 'id_cat': 'Chemistry', 'id_range': '13.0-150.0', 'id_unit': 'ng/mL', 'id_condition': 'X>0', 'id_counts': 1}, \n",
    "# {'id_item': 50909, 'id_label': 'Cortisol', 'id_fluid': 'Blood', 'id_cat': 'Chemistry', 'id_range': '2.0-20.0', 'id_unit': 'ug/dL', 'id_condition': 'X>0', 'id_counts': 1},\n",
    "]       \n",
    "\n",
    "\n",
    "filters_hosp = {\n",
    "    'labevents': pd.DataFrame.from_dict(lab_table),\n",
    "}\n",
    "filters_hosp = {\n",
    "    'labevents': pd.DataFrame(),\n",
    "}\n",
    "\n",
    "\n",
    "q_hosp = hk_psql.bq_hosp(hadm_ids_core_code, filters_hosp)\n",
    "\n",
    "df_filtered_hosp = hk_psql.query(q_hosp, conn)\n",
    "print(df_filtered_hosp)\n",
    "df_filtered_core = pd.merge(df_filtered_hosp[['hadm_id']], df_filtered_core[['subject_id','hadm_id','anchor_age','gender','careunit','icu_los','stay_id']], how='inner',on=['hadm_id'])\n",
    "df_filtered = pd.merge(df_filtered_hosp, df_filtered_core[['subject_id','hadm_id','anchor_age','gender','careunit','icu_los','stay_id']], how='inner',on=['hadm_id'])\n",
    "\n",
    "print(df_filtered_core)\n",
    "# print(df_filtered_hosp)        \n",
    "print(df_filtered)\n",
    "\n",
    "hadm_ids = df_filtered_core['hadm_id'].unique().tolist()\n",
    "stay_ids = df_filtered_core['stay_id'].unique().tolist()\n",
    "sub_ids = df_filtered_core['subject_id'].unique().tolist()\n",
    "\n",
    "print('len after hosp: ',len(hadm_ids))"
   ]
  },
  {
   "cell_type": "code",
   "execution_count": null,
   "metadata": {},
   "outputs": [],
   "source": [
    "cohort_name = 'sepsis'\n",
    "hk_psql.save_cohort(hadm_ids, cohort_name)"
   ]
  },
  {
   "cell_type": "markdown",
   "metadata": {},
   "source": [
    "# load a cohort"
   ]
  },
  {
   "cell_type": "code",
   "execution_count": 2,
   "metadata": {},
   "outputs": [
    {
     "name": "stdout",
     "output_type": "stream",
     "text": [
      "--- 0.02393960952758789 seconds ---\n",
      "--- 0.24132084846496582 seconds ---\n",
      "--- 0.057428598403930664 seconds ---\n",
      "--- 0.019887924194335938 seconds ---\n",
      "--- 0.03173708915710449 seconds ---\n",
      "--- 21.110605716705322 seconds ---\n",
      "--- 0.06666374206542969 seconds ---\n",
      "--- 0.16445112228393555 seconds ---\n",
      "--- 608.9272890090942 seconds ---\n",
      "--- 1.495635747909546 seconds ---\n",
      "--- 20.965418338775635 seconds ---\n",
      "0       10545747\n",
      "1       12823483\n",
      "2       14122388\n",
      "3       14122388\n",
      "4       14819767\n",
      "          ...   \n",
      "2805    19793638\n",
      "2806    19836795\n",
      "2807    19921864\n",
      "2808    19962418\n",
      "2809    19990427\n",
      "Name: subject_id, Length: 2810, dtype: int64\n",
      "0        12567919\n",
      "1        13758211\n",
      "2        18109635\n",
      "3        14371035\n",
      "4        16151261\n",
      "           ...   \n",
      "15664    16800514\n",
      "15665    19439124\n",
      "15666    17851873\n",
      "15667    17513048\n",
      "15668    10352268\n",
      "Name: subject_id, Length: 15669, dtype: int64\n",
      "['transfer_id', 'eventtype', 'careunit', 'intime', 'outtime', 'subject_id']\n",
      "       subject_id gender  anchor_age  anchor_year anchor_year_group  \\\n",
      "0        10545747      M          74         2152       2014 - 2016   \n",
      "1        10545747      M          74         2152       2014 - 2016   \n",
      "2        12823483      F          69         2156       2014 - 2016   \n",
      "3        12823483      F          69         2156       2014 - 2016   \n",
      "4        12823483      F          69         2156       2014 - 2016   \n",
      "...           ...    ...         ...          ...               ...   \n",
      "19582    19990427      F          67         2182       2017 - 2019   \n",
      "19583    19990427      F          67         2182       2017 - 2019   \n",
      "19584    19990427      F          67         2182       2017 - 2019   \n",
      "19585    19990427      F          67         2182       2017 - 2019   \n",
      "19586    19990427      F          67         2182       2017 - 2019   \n",
      "\n",
      "              dod   hadm_id           admittime           dischtime  \\\n",
      "0      2152-09-27  25020409 2152-09-17 23:47:00 2152-09-27 15:55:00   \n",
      "1      2152-09-27  25020409 2152-09-17 23:47:00 2152-09-27 15:55:00   \n",
      "2            None  24222474 2156-12-25 16:58:00 2157-01-08 15:33:00   \n",
      "3            None  24222474 2156-12-25 16:58:00 2157-01-08 15:33:00   \n",
      "4            None  24222474 2156-12-25 16:58:00 2157-01-08 15:33:00   \n",
      "...           ...       ...                 ...                 ...   \n",
      "19582  2182-01-24  29695607 2182-01-04 00:00:00 2182-01-24 00:00:00   \n",
      "19583  2182-01-24  29695607 2182-01-04 00:00:00 2182-01-24 00:00:00   \n",
      "19584  2182-01-24  29695607 2182-01-04 00:00:00 2182-01-24 00:00:00   \n",
      "19585  2182-01-24  29695607 2182-01-04 00:00:00 2182-01-24 00:00:00   \n",
      "19586  2182-01-24  29695607 2182-01-04 00:00:00 2182-01-24 00:00:00   \n",
      "\n",
      "                deathtime  ... marital_status ethnicity           edregtime  \\\n",
      "0     2152-09-27 15:55:00  ...        MARRIED     WHITE                 NaT   \n",
      "1     2152-09-27 15:55:00  ...        MARRIED     WHITE                 NaT   \n",
      "2                     NaT  ...           None   UNKNOWN 2156-12-25 16:27:00   \n",
      "3                     NaT  ...           None   UNKNOWN 2156-12-25 16:27:00   \n",
      "4                     NaT  ...           None   UNKNOWN 2156-12-25 16:27:00   \n",
      "...                   ...  ...            ...       ...                 ...   \n",
      "19582 2182-01-24 23:15:00  ...        MARRIED     WHITE                 NaT   \n",
      "19583 2182-01-24 23:15:00  ...        MARRIED     WHITE                 NaT   \n",
      "19584 2182-01-24 23:15:00  ...        MARRIED     WHITE                 NaT   \n",
      "19585 2182-01-24 23:15:00  ...        MARRIED     WHITE                 NaT   \n",
      "19586 2182-01-24 23:15:00  ...        MARRIED     WHITE                 NaT   \n",
      "\n",
      "                edouttime hospital_expire_flag transfer_id  eventtype  \\\n",
      "0                     NaT                    1    38853857  discharge   \n",
      "1                     NaT                    1    34649276      admit   \n",
      "2     2156-12-25 19:09:00                    0    34593641  discharge   \n",
      "3     2156-12-25 19:09:00                    0    35900680         ED   \n",
      "4     2156-12-25 19:09:00                    0    35909850   transfer   \n",
      "...                   ...                  ...         ...        ...   \n",
      "19582                 NaT                    1    31094671   transfer   \n",
      "19583                 NaT                    1    30187368   transfer   \n",
      "19584                 NaT                    1    34058245   transfer   \n",
      "19585                 NaT                    1    38312172   transfer   \n",
      "19586                 NaT                    1    38399959   transfer   \n",
      "\n",
      "                                 careunit              intime  \\\n",
      "0                                    None 2152-09-27 17:46:13   \n",
      "1                Coronary Care Unit (CCU) 2152-09-17 23:48:26   \n",
      "2                                    None 2157-01-08 17:34:06   \n",
      "3                    Emergency Department 2156-12-25 16:27:00   \n",
      "4                            Med/Surg/GYN 2156-12-28 22:07:42   \n",
      "...                                   ...                 ...   \n",
      "19582                      Surgery/Trauma 2182-01-06 18:04:00   \n",
      "19583       Surgery/Vascular/Intermediate 2182-01-06 20:12:34   \n",
      "19584                 Trauma SICU (TSICU) 2182-01-14 04:16:54   \n",
      "19585  Medical Intensive Care Unit (MICU) 2182-01-14 14:47:34   \n",
      "19586                           Neurology 2182-01-23 21:50:34   \n",
      "\n",
      "                  outtime  \n",
      "0                     NaT  \n",
      "1     2152-09-27 17:46:13  \n",
      "2                     NaT  \n",
      "3     2156-12-25 19:09:00  \n",
      "4     2157-01-08 17:34:06  \n",
      "...                   ...  \n",
      "19582 2182-01-06 20:12:34  \n",
      "19583 2182-01-14 04:16:54  \n",
      "19584 2182-01-14 14:47:34  \n",
      "19585 2182-01-23 21:50:34  \n",
      "19586 2182-01-25 04:27:30  \n",
      "\n",
      "[19587 rows x 25 columns]\n"
     ]
    }
   ],
   "source": [
    "# load a cohort\n",
    "cohort_name = 'sepsis'\n",
    "\n",
    "\n",
    "\n",
    "schema_core = cohort_name+'_mimic_core'\n",
    "df_overview = hk_psql.summary(schema_core, conn)\n",
    "hadm_ids = df_overview['hadm_id'].unique()\n",
    "\n",
    "q=f\"\"\"\n",
    "    select * from mimic_core.patients t1\n",
    "    inner join {schema_core}.admissions t2\n",
    "    on t1.subject_id = t2.subject_id\n",
    "    where t2.hadm_id in ({str(hadm_ids.tolist())[1:-1]})\n",
    "    \n",
    "    \"\"\"\n",
    "# print(q)\n",
    "\n",
    "df_patients = hk_psql.query(q, conn)\n",
    "\n",
    "q=f\"\"\"\n",
    "        select * from {schema_core}.transfers         \n",
    "        \"\"\"\n",
    "# print(q)\n",
    "\n",
    "df_transfers = hk_psql.query(q, conn)\n",
    "\n",
    "q=f\"\"\"\n",
    "        select * from {schema_core}.admissions         \n",
    "        \"\"\"\n",
    "# print(q)\n",
    "\n",
    "df_admissions = hk_psql.query(q, conn)\n",
    "\n",
    "q=f\"\"\"\n",
    "        select * from {cohort_name+'_mimic_icu'}.icustays         \n",
    "        \"\"\"\n",
    "# print(q)\n",
    "\n",
    "df_icustay = hk_psql.query(q, conn)\n",
    "\n",
    "# LAB EVENTS\n",
    "q=f\"\"\"\n",
    "select * from {cohort_name+'_mimic_hosp'}.labevents         \n",
    "\"\"\"\n",
    "\n",
    "df_le = hk_psql.query(q, conn)\n",
    "\n",
    "# icd_procedure code\n",
    "q=f\"\"\"\n",
    "select * from {cohort_name+'_mimic_hosp'}.procedures_icd         \n",
    "\"\"\"\n",
    "df_icd_proc = hk_psql.query(q, conn)\n",
    "\n",
    "# icd_diagnoses code\n",
    "q=f\"\"\"\n",
    "select * from {cohort_name+'_mimic_hosp'}.diagnoses_icd         \n",
    "\"\"\"\n",
    "df_icd_diag = hk_psql.query(q, conn)\n",
    "\n",
    "\n",
    "# CHART EVENTS\n",
    "q=f\"\"\"\n",
    "select * from {cohort_name+'_mimic_icu'}.chartevents         \n",
    "\"\"\"\n",
    "\n",
    "df_che = hk_psql.query(q, conn)\n",
    "\n",
    "# PROCEDURE EVENTS\n",
    "q=f\"\"\"\n",
    "select * from {cohort_name+'_mimic_icu'}.procedureevents         \n",
    "\"\"\"\n",
    "\n",
    "df_pe = hk_psql.query(q, conn)\n",
    "\n",
    "# Medications\n",
    "q=f\"\"\"\n",
    "select * from {cohort_name+'_mimic_hosp'}.emar         \n",
    "\"\"\"\n",
    "\n",
    "df_emar = hk_psql.query(q, conn)\n",
    "\n",
    "df_patients = df_patients.loc[:,~df_patients.columns.duplicated()]\n",
    "print(df_patients['subject_id'])\n",
    "print(df_transfers['subject_id'])\n",
    "\n",
    "\n",
    "cols_to_use = [x for x in df_transfers.columns.tolist() if x not in df_patients.columns.tolist()]\n",
    "cols_to_use.append('subject_id')\n",
    "print(cols_to_use)\n",
    "df_demo = pd.merge(df_patients, df_transfers[cols_to_use], how='inner',  on='subject_id')\n",
    "\n",
    "print(df_demo)\n",
    "df_le_main = df_le.copy()"
   ]
  },
  {
   "cell_type": "markdown",
   "metadata": {},
   "source": [
    "# cohort vis"
   ]
  },
  {
   "cell_type": "code",
   "execution_count": 3,
   "metadata": {},
   "outputs": [
    {
     "data": {
      "text/html": [
       "<div>\n",
       "<style scoped>\n",
       "    .dataframe tbody tr th:only-of-type {\n",
       "        vertical-align: middle;\n",
       "    }\n",
       "\n",
       "    .dataframe tbody tr th {\n",
       "        vertical-align: top;\n",
       "    }\n",
       "\n",
       "    .dataframe thead th {\n",
       "        text-align: right;\n",
       "    }\n",
       "</style>\n",
       "<table border=\"1\" class=\"dataframe\">\n",
       "  <thead>\n",
       "    <tr style=\"text-align: right;\">\n",
       "      <th></th>\n",
       "      <th>itemid</th>\n",
       "      <th>count</th>\n",
       "      <th>mean</th>\n",
       "      <th>std</th>\n",
       "      <th>min</th>\n",
       "      <th>25%</th>\n",
       "      <th>50%</th>\n",
       "      <th>75%</th>\n",
       "      <th>max</th>\n",
       "      <th>label</th>\n",
       "    </tr>\n",
       "  </thead>\n",
       "  <tbody>\n",
       "    <tr>\n",
       "      <th>13</th>\n",
       "      <td>50813</td>\n",
       "      <td>41238.0</td>\n",
       "      <td>6.185533</td>\n",
       "      <td>165.867381</td>\n",
       "      <td>0.0</td>\n",
       "      <td>2.0</td>\n",
       "      <td>3.0</td>\n",
       "      <td>5.0</td>\n",
       "      <td>31484.0</td>\n",
       "      <td>Lactate</td>\n",
       "    </tr>\n",
       "    <tr>\n",
       "      <th>97</th>\n",
       "      <td>50889</td>\n",
       "      <td>1023.0</td>\n",
       "      <td>277.562072</td>\n",
       "      <td>337.072382</td>\n",
       "      <td>39.0</td>\n",
       "      <td>96.5</td>\n",
       "      <td>149.0</td>\n",
       "      <td>354.5</td>\n",
       "      <td>4903.0</td>\n",
       "      <td>C-Reactive Protein</td>\n",
       "    </tr>\n",
       "    <tr>\n",
       "      <th>131</th>\n",
       "      <td>50912</td>\n",
       "      <td>73634.0</td>\n",
       "      <td>84.658609</td>\n",
       "      <td>43.650391</td>\n",
       "      <td>-13.0</td>\n",
       "      <td>59.0</td>\n",
       "      <td>74.0</td>\n",
       "      <td>98.0</td>\n",
       "      <td>1807.0</td>\n",
       "      <td>Creatinine</td>\n",
       "    </tr>\n",
       "    <tr>\n",
       "      <th>249</th>\n",
       "      <td>50971</td>\n",
       "      <td>75875.0</td>\n",
       "      <td>83.777489</td>\n",
       "      <td>42.770169</td>\n",
       "      <td>-13.0</td>\n",
       "      <td>58.0</td>\n",
       "      <td>74.0</td>\n",
       "      <td>97.0</td>\n",
       "      <td>1807.0</td>\n",
       "      <td>Potassium</td>\n",
       "    </tr>\n",
       "    <tr>\n",
       "      <th>267</th>\n",
       "      <td>50983</td>\n",
       "      <td>75670.0</td>\n",
       "      <td>84.007216</td>\n",
       "      <td>42.794829</td>\n",
       "      <td>-13.0</td>\n",
       "      <td>59.0</td>\n",
       "      <td>74.0</td>\n",
       "      <td>97.0</td>\n",
       "      <td>1807.0</td>\n",
       "      <td>Sodium</td>\n",
       "    </tr>\n",
       "    <tr>\n",
       "      <th>297</th>\n",
       "      <td>51003</td>\n",
       "      <td>6229.0</td>\n",
       "      <td>136.845722</td>\n",
       "      <td>163.132337</td>\n",
       "      <td>27.0</td>\n",
       "      <td>64.0</td>\n",
       "      <td>85.0</td>\n",
       "      <td>138.0</td>\n",
       "      <td>3917.0</td>\n",
       "      <td>Troponin T</td>\n",
       "    </tr>\n",
       "    <tr>\n",
       "      <th>299</th>\n",
       "      <td>51006</td>\n",
       "      <td>73480.0</td>\n",
       "      <td>82.898054</td>\n",
       "      <td>41.762948</td>\n",
       "      <td>-13.0</td>\n",
       "      <td>58.0</td>\n",
       "      <td>73.0</td>\n",
       "      <td>96.0</td>\n",
       "      <td>1807.0</td>\n",
       "      <td>Urea Nitrogen</td>\n",
       "    </tr>\n",
       "  </tbody>\n",
       "</table>\n",
       "</div>"
      ],
      "text/plain": [
       "     itemid    count        mean         std   min   25%    50%    75%  \\\n",
       "13    50813  41238.0    6.185533  165.867381   0.0   2.0    3.0    5.0   \n",
       "97    50889   1023.0  277.562072  337.072382  39.0  96.5  149.0  354.5   \n",
       "131   50912  73634.0   84.658609   43.650391 -13.0  59.0   74.0   98.0   \n",
       "249   50971  75875.0   83.777489   42.770169 -13.0  58.0   74.0   97.0   \n",
       "267   50983  75670.0   84.007216   42.794829 -13.0  59.0   74.0   97.0   \n",
       "297   51003   6229.0  136.845722  163.132337  27.0  64.0   85.0  138.0   \n",
       "299   51006  73480.0   82.898054   41.762948 -13.0  58.0   73.0   96.0   \n",
       "\n",
       "         max               label  \n",
       "13   31484.0             Lactate  \n",
       "97    4903.0  C-Reactive Protein  \n",
       "131   1807.0          Creatinine  \n",
       "249   1807.0           Potassium  \n",
       "267   1807.0              Sodium  \n",
       "297   3917.0          Troponin T  \n",
       "299   1807.0       Urea Nitrogen  "
      ]
     },
     "execution_count": 3,
     "metadata": {},
     "output_type": "execute_result"
    },
    {
     "data": {
      "application/vnd.plotly.v1+json": {
       "config": {
        "plotlyServerURL": "https://plot.ly"
       },
       "data": [
        {
         "alignmentgroup": "True",
         "hovertemplate": "label=%{x}<br>50%=%{y}<extra></extra>",
         "legendgroup": "",
         "marker": {
          "color": "#636efa",
          "pattern": {
           "shape": ""
          }
         },
         "name": "",
         "offsetgroup": "",
         "orientation": "v",
         "showlegend": false,
         "textposition": "auto",
         "type": "bar",
         "x": [
          "Lactate",
          "C-Reactive Protein",
          "Creatinine",
          "Potassium",
          "Sodium",
          "Troponin T",
          "Urea Nitrogen"
         ],
         "xaxis": "x",
         "y": [
          3,
          149,
          74,
          74,
          74,
          85,
          73
         ],
         "yaxis": "y"
        }
       ],
       "layout": {
        "barmode": "relative",
        "legend": {
         "tracegroupgap": 0
        },
        "margin": {
         "t": 60
        },
        "template": {
         "data": {
          "bar": [
           {
            "error_x": {
             "color": "#2a3f5f"
            },
            "error_y": {
             "color": "#2a3f5f"
            },
            "marker": {
             "line": {
              "color": "#E5ECF6",
              "width": 0.5
             },
             "pattern": {
              "fillmode": "overlay",
              "size": 10,
              "solidity": 0.2
             }
            },
            "type": "bar"
           }
          ],
          "barpolar": [
           {
            "marker": {
             "line": {
              "color": "#E5ECF6",
              "width": 0.5
             },
             "pattern": {
              "fillmode": "overlay",
              "size": 10,
              "solidity": 0.2
             }
            },
            "type": "barpolar"
           }
          ],
          "carpet": [
           {
            "aaxis": {
             "endlinecolor": "#2a3f5f",
             "gridcolor": "white",
             "linecolor": "white",
             "minorgridcolor": "white",
             "startlinecolor": "#2a3f5f"
            },
            "baxis": {
             "endlinecolor": "#2a3f5f",
             "gridcolor": "white",
             "linecolor": "white",
             "minorgridcolor": "white",
             "startlinecolor": "#2a3f5f"
            },
            "type": "carpet"
           }
          ],
          "choropleth": [
           {
            "colorbar": {
             "outlinewidth": 0,
             "ticks": ""
            },
            "type": "choropleth"
           }
          ],
          "contour": [
           {
            "colorbar": {
             "outlinewidth": 0,
             "ticks": ""
            },
            "colorscale": [
             [
              0,
              "#0d0887"
             ],
             [
              0.1111111111111111,
              "#46039f"
             ],
             [
              0.2222222222222222,
              "#7201a8"
             ],
             [
              0.3333333333333333,
              "#9c179e"
             ],
             [
              0.4444444444444444,
              "#bd3786"
             ],
             [
              0.5555555555555556,
              "#d8576b"
             ],
             [
              0.6666666666666666,
              "#ed7953"
             ],
             [
              0.7777777777777778,
              "#fb9f3a"
             ],
             [
              0.8888888888888888,
              "#fdca26"
             ],
             [
              1,
              "#f0f921"
             ]
            ],
            "type": "contour"
           }
          ],
          "contourcarpet": [
           {
            "colorbar": {
             "outlinewidth": 0,
             "ticks": ""
            },
            "type": "contourcarpet"
           }
          ],
          "heatmap": [
           {
            "colorbar": {
             "outlinewidth": 0,
             "ticks": ""
            },
            "colorscale": [
             [
              0,
              "#0d0887"
             ],
             [
              0.1111111111111111,
              "#46039f"
             ],
             [
              0.2222222222222222,
              "#7201a8"
             ],
             [
              0.3333333333333333,
              "#9c179e"
             ],
             [
              0.4444444444444444,
              "#bd3786"
             ],
             [
              0.5555555555555556,
              "#d8576b"
             ],
             [
              0.6666666666666666,
              "#ed7953"
             ],
             [
              0.7777777777777778,
              "#fb9f3a"
             ],
             [
              0.8888888888888888,
              "#fdca26"
             ],
             [
              1,
              "#f0f921"
             ]
            ],
            "type": "heatmap"
           }
          ],
          "heatmapgl": [
           {
            "colorbar": {
             "outlinewidth": 0,
             "ticks": ""
            },
            "colorscale": [
             [
              0,
              "#0d0887"
             ],
             [
              0.1111111111111111,
              "#46039f"
             ],
             [
              0.2222222222222222,
              "#7201a8"
             ],
             [
              0.3333333333333333,
              "#9c179e"
             ],
             [
              0.4444444444444444,
              "#bd3786"
             ],
             [
              0.5555555555555556,
              "#d8576b"
             ],
             [
              0.6666666666666666,
              "#ed7953"
             ],
             [
              0.7777777777777778,
              "#fb9f3a"
             ],
             [
              0.8888888888888888,
              "#fdca26"
             ],
             [
              1,
              "#f0f921"
             ]
            ],
            "type": "heatmapgl"
           }
          ],
          "histogram": [
           {
            "marker": {
             "pattern": {
              "fillmode": "overlay",
              "size": 10,
              "solidity": 0.2
             }
            },
            "type": "histogram"
           }
          ],
          "histogram2d": [
           {
            "colorbar": {
             "outlinewidth": 0,
             "ticks": ""
            },
            "colorscale": [
             [
              0,
              "#0d0887"
             ],
             [
              0.1111111111111111,
              "#46039f"
             ],
             [
              0.2222222222222222,
              "#7201a8"
             ],
             [
              0.3333333333333333,
              "#9c179e"
             ],
             [
              0.4444444444444444,
              "#bd3786"
             ],
             [
              0.5555555555555556,
              "#d8576b"
             ],
             [
              0.6666666666666666,
              "#ed7953"
             ],
             [
              0.7777777777777778,
              "#fb9f3a"
             ],
             [
              0.8888888888888888,
              "#fdca26"
             ],
             [
              1,
              "#f0f921"
             ]
            ],
            "type": "histogram2d"
           }
          ],
          "histogram2dcontour": [
           {
            "colorbar": {
             "outlinewidth": 0,
             "ticks": ""
            },
            "colorscale": [
             [
              0,
              "#0d0887"
             ],
             [
              0.1111111111111111,
              "#46039f"
             ],
             [
              0.2222222222222222,
              "#7201a8"
             ],
             [
              0.3333333333333333,
              "#9c179e"
             ],
             [
              0.4444444444444444,
              "#bd3786"
             ],
             [
              0.5555555555555556,
              "#d8576b"
             ],
             [
              0.6666666666666666,
              "#ed7953"
             ],
             [
              0.7777777777777778,
              "#fb9f3a"
             ],
             [
              0.8888888888888888,
              "#fdca26"
             ],
             [
              1,
              "#f0f921"
             ]
            ],
            "type": "histogram2dcontour"
           }
          ],
          "mesh3d": [
           {
            "colorbar": {
             "outlinewidth": 0,
             "ticks": ""
            },
            "type": "mesh3d"
           }
          ],
          "parcoords": [
           {
            "line": {
             "colorbar": {
              "outlinewidth": 0,
              "ticks": ""
             }
            },
            "type": "parcoords"
           }
          ],
          "pie": [
           {
            "automargin": true,
            "type": "pie"
           }
          ],
          "scatter": [
           {
            "marker": {
             "colorbar": {
              "outlinewidth": 0,
              "ticks": ""
             }
            },
            "type": "scatter"
           }
          ],
          "scatter3d": [
           {
            "line": {
             "colorbar": {
              "outlinewidth": 0,
              "ticks": ""
             }
            },
            "marker": {
             "colorbar": {
              "outlinewidth": 0,
              "ticks": ""
             }
            },
            "type": "scatter3d"
           }
          ],
          "scattercarpet": [
           {
            "marker": {
             "colorbar": {
              "outlinewidth": 0,
              "ticks": ""
             }
            },
            "type": "scattercarpet"
           }
          ],
          "scattergeo": [
           {
            "marker": {
             "colorbar": {
              "outlinewidth": 0,
              "ticks": ""
             }
            },
            "type": "scattergeo"
           }
          ],
          "scattergl": [
           {
            "marker": {
             "colorbar": {
              "outlinewidth": 0,
              "ticks": ""
             }
            },
            "type": "scattergl"
           }
          ],
          "scattermapbox": [
           {
            "marker": {
             "colorbar": {
              "outlinewidth": 0,
              "ticks": ""
             }
            },
            "type": "scattermapbox"
           }
          ],
          "scatterpolar": [
           {
            "marker": {
             "colorbar": {
              "outlinewidth": 0,
              "ticks": ""
             }
            },
            "type": "scatterpolar"
           }
          ],
          "scatterpolargl": [
           {
            "marker": {
             "colorbar": {
              "outlinewidth": 0,
              "ticks": ""
             }
            },
            "type": "scatterpolargl"
           }
          ],
          "scatterternary": [
           {
            "marker": {
             "colorbar": {
              "outlinewidth": 0,
              "ticks": ""
             }
            },
            "type": "scatterternary"
           }
          ],
          "surface": [
           {
            "colorbar": {
             "outlinewidth": 0,
             "ticks": ""
            },
            "colorscale": [
             [
              0,
              "#0d0887"
             ],
             [
              0.1111111111111111,
              "#46039f"
             ],
             [
              0.2222222222222222,
              "#7201a8"
             ],
             [
              0.3333333333333333,
              "#9c179e"
             ],
             [
              0.4444444444444444,
              "#bd3786"
             ],
             [
              0.5555555555555556,
              "#d8576b"
             ],
             [
              0.6666666666666666,
              "#ed7953"
             ],
             [
              0.7777777777777778,
              "#fb9f3a"
             ],
             [
              0.8888888888888888,
              "#fdca26"
             ],
             [
              1,
              "#f0f921"
             ]
            ],
            "type": "surface"
           }
          ],
          "table": [
           {
            "cells": {
             "fill": {
              "color": "#EBF0F8"
             },
             "line": {
              "color": "white"
             }
            },
            "header": {
             "fill": {
              "color": "#C8D4E3"
             },
             "line": {
              "color": "white"
             }
            },
            "type": "table"
           }
          ]
         },
         "layout": {
          "annotationdefaults": {
           "arrowcolor": "#2a3f5f",
           "arrowhead": 0,
           "arrowwidth": 1
          },
          "autotypenumbers": "strict",
          "coloraxis": {
           "colorbar": {
            "outlinewidth": 0,
            "ticks": ""
           }
          },
          "colorscale": {
           "diverging": [
            [
             0,
             "#8e0152"
            ],
            [
             0.1,
             "#c51b7d"
            ],
            [
             0.2,
             "#de77ae"
            ],
            [
             0.3,
             "#f1b6da"
            ],
            [
             0.4,
             "#fde0ef"
            ],
            [
             0.5,
             "#f7f7f7"
            ],
            [
             0.6,
             "#e6f5d0"
            ],
            [
             0.7,
             "#b8e186"
            ],
            [
             0.8,
             "#7fbc41"
            ],
            [
             0.9,
             "#4d9221"
            ],
            [
             1,
             "#276419"
            ]
           ],
           "sequential": [
            [
             0,
             "#0d0887"
            ],
            [
             0.1111111111111111,
             "#46039f"
            ],
            [
             0.2222222222222222,
             "#7201a8"
            ],
            [
             0.3333333333333333,
             "#9c179e"
            ],
            [
             0.4444444444444444,
             "#bd3786"
            ],
            [
             0.5555555555555556,
             "#d8576b"
            ],
            [
             0.6666666666666666,
             "#ed7953"
            ],
            [
             0.7777777777777778,
             "#fb9f3a"
            ],
            [
             0.8888888888888888,
             "#fdca26"
            ],
            [
             1,
             "#f0f921"
            ]
           ],
           "sequentialminus": [
            [
             0,
             "#0d0887"
            ],
            [
             0.1111111111111111,
             "#46039f"
            ],
            [
             0.2222222222222222,
             "#7201a8"
            ],
            [
             0.3333333333333333,
             "#9c179e"
            ],
            [
             0.4444444444444444,
             "#bd3786"
            ],
            [
             0.5555555555555556,
             "#d8576b"
            ],
            [
             0.6666666666666666,
             "#ed7953"
            ],
            [
             0.7777777777777778,
             "#fb9f3a"
            ],
            [
             0.8888888888888888,
             "#fdca26"
            ],
            [
             1,
             "#f0f921"
            ]
           ]
          },
          "colorway": [
           "#636efa",
           "#EF553B",
           "#00cc96",
           "#ab63fa",
           "#FFA15A",
           "#19d3f3",
           "#FF6692",
           "#B6E880",
           "#FF97FF",
           "#FECB52"
          ],
          "font": {
           "color": "#2a3f5f"
          },
          "geo": {
           "bgcolor": "white",
           "lakecolor": "white",
           "landcolor": "#E5ECF6",
           "showlakes": true,
           "showland": true,
           "subunitcolor": "white"
          },
          "hoverlabel": {
           "align": "left"
          },
          "hovermode": "closest",
          "mapbox": {
           "style": "light"
          },
          "paper_bgcolor": "white",
          "plot_bgcolor": "#E5ECF6",
          "polar": {
           "angularaxis": {
            "gridcolor": "white",
            "linecolor": "white",
            "ticks": ""
           },
           "bgcolor": "#E5ECF6",
           "radialaxis": {
            "gridcolor": "white",
            "linecolor": "white",
            "ticks": ""
           }
          },
          "scene": {
           "xaxis": {
            "backgroundcolor": "#E5ECF6",
            "gridcolor": "white",
            "gridwidth": 2,
            "linecolor": "white",
            "showbackground": true,
            "ticks": "",
            "zerolinecolor": "white"
           },
           "yaxis": {
            "backgroundcolor": "#E5ECF6",
            "gridcolor": "white",
            "gridwidth": 2,
            "linecolor": "white",
            "showbackground": true,
            "ticks": "",
            "zerolinecolor": "white"
           },
           "zaxis": {
            "backgroundcolor": "#E5ECF6",
            "gridcolor": "white",
            "gridwidth": 2,
            "linecolor": "white",
            "showbackground": true,
            "ticks": "",
            "zerolinecolor": "white"
           }
          },
          "shapedefaults": {
           "line": {
            "color": "#2a3f5f"
           }
          },
          "ternary": {
           "aaxis": {
            "gridcolor": "white",
            "linecolor": "white",
            "ticks": ""
           },
           "baxis": {
            "gridcolor": "white",
            "linecolor": "white",
            "ticks": ""
           },
           "bgcolor": "#E5ECF6",
           "caxis": {
            "gridcolor": "white",
            "linecolor": "white",
            "ticks": ""
           }
          },
          "title": {
           "x": 0.05
          },
          "xaxis": {
           "automargin": true,
           "gridcolor": "white",
           "linecolor": "white",
           "ticks": "",
           "title": {
            "standoff": 15
           },
           "zerolinecolor": "white",
           "zerolinewidth": 2
          },
          "yaxis": {
           "automargin": true,
           "gridcolor": "white",
           "linecolor": "white",
           "ticks": "",
           "title": {
            "standoff": 15
           },
           "zerolinecolor": "white",
           "zerolinewidth": 2
          }
         }
        },
        "xaxis": {
         "anchor": "y",
         "domain": [
          0,
          1
         ],
         "title": {
          "text": "label"
         }
        },
        "yaxis": {
         "anchor": "x",
         "domain": [
          0,
          1
         ],
         "title": {
          "text": "50%"
         }
        }
       }
      }
     },
     "metadata": {},
     "output_type": "display_data"
    }
   ],
   "source": [
    "# what is the latency between charttime and storetime?\n",
    "list_lab = ['Lactate','Troponin T','C-Reactive Protein','Potassium','Sodium','Creatinine','Urea Nitrogen',]\n",
    "\n",
    "\n",
    "\n",
    "df_temp = df_le.copy()\n",
    "\n",
    "df_temp['diff'] = ((df_temp['storetime']-df_temp['charttime']) / np.timedelta64(1, 'm'))\n",
    "# choose the hid with highest number of measurements\n",
    "\n",
    "\n",
    "df_temp = df_temp.groupby(['itemid'])['diff'].describe().reset_index()\n",
    "df_temp = df_temp.merge(pd.read_csv(ADD_DATA+'d_labitems.csv')[['itemid','label']], on='itemid').drop_duplicates('label')\n",
    "\n",
    "\n",
    "# plot median of measurement intervals\n",
    "q= df_temp['label'].isin(list_lab)\n",
    "df_temp[q]\n",
    "fig=px.bar(df_temp[q], x='label', y='50%')\n",
    "fig.show()\n",
    "\n",
    "\n"
   ]
  },
  {
   "cell_type": "code",
   "execution_count": 4,
   "metadata": {},
   "outputs": [
    {
     "data": {
      "text/html": [
       "<div>\n",
       "<style scoped>\n",
       "    .dataframe tbody tr th:only-of-type {\n",
       "        vertical-align: middle;\n",
       "    }\n",
       "\n",
       "    .dataframe tbody tr th {\n",
       "        vertical-align: top;\n",
       "    }\n",
       "\n",
       "    .dataframe thead th {\n",
       "        text-align: right;\n",
       "    }\n",
       "</style>\n",
       "<table border=\"1\" class=\"dataframe\">\n",
       "  <thead>\n",
       "    <tr style=\"text-align: right;\">\n",
       "      <th></th>\n",
       "      <th>index</th>\n",
       "      <th>hadm_id</th>\n",
       "      <th>itemid</th>\n",
       "      <th>size</th>\n",
       "    </tr>\n",
       "  </thead>\n",
       "  <tbody>\n",
       "    <tr>\n",
       "      <th>101</th>\n",
       "      <td>101</td>\n",
       "      <td>20581253</td>\n",
       "      <td>51003</td>\n",
       "      <td>29</td>\n",
       "    </tr>\n",
       "    <tr>\n",
       "      <th>609</th>\n",
       "      <td>609</td>\n",
       "      <td>23365149</td>\n",
       "      <td>51003</td>\n",
       "      <td>27</td>\n",
       "    </tr>\n",
       "    <tr>\n",
       "      <th>1251</th>\n",
       "      <td>1251</td>\n",
       "      <td>26835951</td>\n",
       "      <td>51003</td>\n",
       "      <td>26</td>\n",
       "    </tr>\n",
       "    <tr>\n",
       "      <th>1446</th>\n",
       "      <td>1446</td>\n",
       "      <td>28015626</td>\n",
       "      <td>51003</td>\n",
       "      <td>26</td>\n",
       "    </tr>\n",
       "    <tr>\n",
       "      <th>1729</th>\n",
       "      <td>1729</td>\n",
       "      <td>29765862</td>\n",
       "      <td>51003</td>\n",
       "      <td>25</td>\n",
       "    </tr>\n",
       "    <tr>\n",
       "      <th>...</th>\n",
       "      <td>...</td>\n",
       "      <td>...</td>\n",
       "      <td>...</td>\n",
       "      <td>...</td>\n",
       "    </tr>\n",
       "    <tr>\n",
       "      <th>1355</th>\n",
       "      <td>1355</td>\n",
       "      <td>27416443</td>\n",
       "      <td>51003</td>\n",
       "      <td>1</td>\n",
       "    </tr>\n",
       "    <tr>\n",
       "      <th>182</th>\n",
       "      <td>182</td>\n",
       "      <td>21053903</td>\n",
       "      <td>51003</td>\n",
       "      <td>1</td>\n",
       "    </tr>\n",
       "    <tr>\n",
       "      <th>891</th>\n",
       "      <td>891</td>\n",
       "      <td>24929525</td>\n",
       "      <td>51003</td>\n",
       "      <td>1</td>\n",
       "    </tr>\n",
       "    <tr>\n",
       "      <th>1350</th>\n",
       "      <td>1350</td>\n",
       "      <td>27385559</td>\n",
       "      <td>51003</td>\n",
       "      <td>1</td>\n",
       "    </tr>\n",
       "    <tr>\n",
       "      <th>547</th>\n",
       "      <td>547</td>\n",
       "      <td>23064119</td>\n",
       "      <td>51003</td>\n",
       "      <td>1</td>\n",
       "    </tr>\n",
       "  </tbody>\n",
       "</table>\n",
       "<p>1760 rows × 4 columns</p>\n",
       "</div>"
      ],
      "text/plain": [
       "      index   hadm_id  itemid  size\n",
       "101     101  20581253   51003    29\n",
       "609     609  23365149   51003    27\n",
       "1251   1251  26835951   51003    26\n",
       "1446   1446  28015626   51003    26\n",
       "1729   1729  29765862   51003    25\n",
       "...     ...       ...     ...   ...\n",
       "1355   1355  27416443   51003     1\n",
       "182     182  21053903   51003     1\n",
       "891     891  24929525   51003     1\n",
       "1350   1350  27385559   51003     1\n",
       "547     547  23064119   51003     1\n",
       "\n",
       "[1760 rows x 4 columns]"
      ]
     },
     "execution_count": 4,
     "metadata": {},
     "output_type": "execute_result"
    },
    {
     "data": {
      "application/vnd.plotly.v1+json": {
       "config": {
        "plotlyServerURL": "https://plot.ly"
       },
       "data": [
        {
         "mode": "lines+markers",
         "name": "Troponin T charted",
         "type": "scatter",
         "x": [
          "2156-12-19T07:34:00",
          "2156-12-19T15:20:00",
          "2156-12-20T00:35:00",
          "2156-12-26T23:33:00",
          "2157-01-03T18:00:00",
          "2157-01-06T08:47:00",
          "2157-01-06T14:59:00",
          "2157-01-07T00:02:00",
          "2157-01-23T05:52:00",
          "2157-02-19T04:23:00",
          "2157-02-20T03:49:00",
          "2157-02-20T11:49:00",
          "2157-02-20T20:30:00",
          "2157-02-21T03:02:00",
          "2157-02-21T12:26:00",
          "2157-02-21T19:54:00",
          "2157-02-22T04:40:00",
          "2157-03-04T17:29:00",
          "2157-03-04T23:43:00",
          "2157-03-12T07:55:00",
          "2157-03-12T14:20:00",
          "2157-03-16T21:06:00",
          "2157-03-17T05:18:00",
          "2157-03-17T12:48:00",
          "2157-03-23T04:39:00"
         ],
         "xaxis": "x",
         "y": [
          0.02,
          0.03,
          0.02,
          0.04,
          0.05,
          0.08,
          0.06,
          0.06,
          null,
          0.14,
          0.25,
          0.27,
          0.22,
          0.27,
          0.23,
          0.26,
          0.27,
          0.2,
          0.18,
          0.39,
          0.26,
          0.4,
          0.5,
          0.42,
          0.26
         ],
         "yaxis": "y"
        },
        {
         "mode": "lines+markers",
         "name": "Troponin T stored",
         "type": "scatter",
         "x": [
          "2156-12-19T08:58:00",
          "2156-12-19T16:08:00",
          "2156-12-20T01:49:00",
          "2156-12-27T01:24:00",
          "2157-01-03T19:07:00",
          "2157-01-06T10:19:00",
          "2157-01-06T15:54:00",
          "2157-01-07T01:55:00",
          "2157-01-23T10:04:00",
          "2157-02-19T17:43:00",
          "2157-02-20T05:22:00",
          "2157-02-20T12:48:00",
          "2157-02-20T22:35:00",
          "2157-02-21T04:05:00",
          "2157-02-21T15:01:00",
          "2157-02-21T20:58:00",
          "2157-02-22T05:33:00",
          "2157-03-04T18:43:00",
          "2157-03-05T01:04:00",
          "2157-03-12T11:11:00",
          "2157-03-12T15:34:00",
          "2157-03-16T22:23:00",
          "2157-03-17T08:57:00",
          "2157-03-17T14:59:00",
          "2157-03-23T05:28:00"
         ],
         "xaxis": "x",
         "y": [
          0.02,
          0.03,
          0.02,
          0.04,
          0.05,
          0.08,
          0.06,
          0.06,
          null,
          0.14,
          0.25,
          0.27,
          0.22,
          0.27,
          0.23,
          0.26,
          0.27,
          0.2,
          0.18,
          0.39,
          0.26,
          0.4,
          0.5,
          0.42,
          0.26
         ],
         "yaxis": "y"
        }
       ],
       "layout": {
        "annotations": [
         {
          "font": {
           "size": 16
          },
          "showarrow": false,
          "text": "Troponin T",
          "x": 0.5,
          "xanchor": "center",
          "xref": "paper",
          "y": 1,
          "yanchor": "bottom",
          "yref": "paper"
         }
        ],
        "template": {
         "data": {
          "bar": [
           {
            "error_x": {
             "color": "#2a3f5f"
            },
            "error_y": {
             "color": "#2a3f5f"
            },
            "marker": {
             "line": {
              "color": "#E5ECF6",
              "width": 0.5
             },
             "pattern": {
              "fillmode": "overlay",
              "size": 10,
              "solidity": 0.2
             }
            },
            "type": "bar"
           }
          ],
          "barpolar": [
           {
            "marker": {
             "line": {
              "color": "#E5ECF6",
              "width": 0.5
             },
             "pattern": {
              "fillmode": "overlay",
              "size": 10,
              "solidity": 0.2
             }
            },
            "type": "barpolar"
           }
          ],
          "carpet": [
           {
            "aaxis": {
             "endlinecolor": "#2a3f5f",
             "gridcolor": "white",
             "linecolor": "white",
             "minorgridcolor": "white",
             "startlinecolor": "#2a3f5f"
            },
            "baxis": {
             "endlinecolor": "#2a3f5f",
             "gridcolor": "white",
             "linecolor": "white",
             "minorgridcolor": "white",
             "startlinecolor": "#2a3f5f"
            },
            "type": "carpet"
           }
          ],
          "choropleth": [
           {
            "colorbar": {
             "outlinewidth": 0,
             "ticks": ""
            },
            "type": "choropleth"
           }
          ],
          "contour": [
           {
            "colorbar": {
             "outlinewidth": 0,
             "ticks": ""
            },
            "colorscale": [
             [
              0,
              "#0d0887"
             ],
             [
              0.1111111111111111,
              "#46039f"
             ],
             [
              0.2222222222222222,
              "#7201a8"
             ],
             [
              0.3333333333333333,
              "#9c179e"
             ],
             [
              0.4444444444444444,
              "#bd3786"
             ],
             [
              0.5555555555555556,
              "#d8576b"
             ],
             [
              0.6666666666666666,
              "#ed7953"
             ],
             [
              0.7777777777777778,
              "#fb9f3a"
             ],
             [
              0.8888888888888888,
              "#fdca26"
             ],
             [
              1,
              "#f0f921"
             ]
            ],
            "type": "contour"
           }
          ],
          "contourcarpet": [
           {
            "colorbar": {
             "outlinewidth": 0,
             "ticks": ""
            },
            "type": "contourcarpet"
           }
          ],
          "heatmap": [
           {
            "colorbar": {
             "outlinewidth": 0,
             "ticks": ""
            },
            "colorscale": [
             [
              0,
              "#0d0887"
             ],
             [
              0.1111111111111111,
              "#46039f"
             ],
             [
              0.2222222222222222,
              "#7201a8"
             ],
             [
              0.3333333333333333,
              "#9c179e"
             ],
             [
              0.4444444444444444,
              "#bd3786"
             ],
             [
              0.5555555555555556,
              "#d8576b"
             ],
             [
              0.6666666666666666,
              "#ed7953"
             ],
             [
              0.7777777777777778,
              "#fb9f3a"
             ],
             [
              0.8888888888888888,
              "#fdca26"
             ],
             [
              1,
              "#f0f921"
             ]
            ],
            "type": "heatmap"
           }
          ],
          "heatmapgl": [
           {
            "colorbar": {
             "outlinewidth": 0,
             "ticks": ""
            },
            "colorscale": [
             [
              0,
              "#0d0887"
             ],
             [
              0.1111111111111111,
              "#46039f"
             ],
             [
              0.2222222222222222,
              "#7201a8"
             ],
             [
              0.3333333333333333,
              "#9c179e"
             ],
             [
              0.4444444444444444,
              "#bd3786"
             ],
             [
              0.5555555555555556,
              "#d8576b"
             ],
             [
              0.6666666666666666,
              "#ed7953"
             ],
             [
              0.7777777777777778,
              "#fb9f3a"
             ],
             [
              0.8888888888888888,
              "#fdca26"
             ],
             [
              1,
              "#f0f921"
             ]
            ],
            "type": "heatmapgl"
           }
          ],
          "histogram": [
           {
            "marker": {
             "pattern": {
              "fillmode": "overlay",
              "size": 10,
              "solidity": 0.2
             }
            },
            "type": "histogram"
           }
          ],
          "histogram2d": [
           {
            "colorbar": {
             "outlinewidth": 0,
             "ticks": ""
            },
            "colorscale": [
             [
              0,
              "#0d0887"
             ],
             [
              0.1111111111111111,
              "#46039f"
             ],
             [
              0.2222222222222222,
              "#7201a8"
             ],
             [
              0.3333333333333333,
              "#9c179e"
             ],
             [
              0.4444444444444444,
              "#bd3786"
             ],
             [
              0.5555555555555556,
              "#d8576b"
             ],
             [
              0.6666666666666666,
              "#ed7953"
             ],
             [
              0.7777777777777778,
              "#fb9f3a"
             ],
             [
              0.8888888888888888,
              "#fdca26"
             ],
             [
              1,
              "#f0f921"
             ]
            ],
            "type": "histogram2d"
           }
          ],
          "histogram2dcontour": [
           {
            "colorbar": {
             "outlinewidth": 0,
             "ticks": ""
            },
            "colorscale": [
             [
              0,
              "#0d0887"
             ],
             [
              0.1111111111111111,
              "#46039f"
             ],
             [
              0.2222222222222222,
              "#7201a8"
             ],
             [
              0.3333333333333333,
              "#9c179e"
             ],
             [
              0.4444444444444444,
              "#bd3786"
             ],
             [
              0.5555555555555556,
              "#d8576b"
             ],
             [
              0.6666666666666666,
              "#ed7953"
             ],
             [
              0.7777777777777778,
              "#fb9f3a"
             ],
             [
              0.8888888888888888,
              "#fdca26"
             ],
             [
              1,
              "#f0f921"
             ]
            ],
            "type": "histogram2dcontour"
           }
          ],
          "mesh3d": [
           {
            "colorbar": {
             "outlinewidth": 0,
             "ticks": ""
            },
            "type": "mesh3d"
           }
          ],
          "parcoords": [
           {
            "line": {
             "colorbar": {
              "outlinewidth": 0,
              "ticks": ""
             }
            },
            "type": "parcoords"
           }
          ],
          "pie": [
           {
            "automargin": true,
            "type": "pie"
           }
          ],
          "scatter": [
           {
            "marker": {
             "colorbar": {
              "outlinewidth": 0,
              "ticks": ""
             }
            },
            "type": "scatter"
           }
          ],
          "scatter3d": [
           {
            "line": {
             "colorbar": {
              "outlinewidth": 0,
              "ticks": ""
             }
            },
            "marker": {
             "colorbar": {
              "outlinewidth": 0,
              "ticks": ""
             }
            },
            "type": "scatter3d"
           }
          ],
          "scattercarpet": [
           {
            "marker": {
             "colorbar": {
              "outlinewidth": 0,
              "ticks": ""
             }
            },
            "type": "scattercarpet"
           }
          ],
          "scattergeo": [
           {
            "marker": {
             "colorbar": {
              "outlinewidth": 0,
              "ticks": ""
             }
            },
            "type": "scattergeo"
           }
          ],
          "scattergl": [
           {
            "marker": {
             "colorbar": {
              "outlinewidth": 0,
              "ticks": ""
             }
            },
            "type": "scattergl"
           }
          ],
          "scattermapbox": [
           {
            "marker": {
             "colorbar": {
              "outlinewidth": 0,
              "ticks": ""
             }
            },
            "type": "scattermapbox"
           }
          ],
          "scatterpolar": [
           {
            "marker": {
             "colorbar": {
              "outlinewidth": 0,
              "ticks": ""
             }
            },
            "type": "scatterpolar"
           }
          ],
          "scatterpolargl": [
           {
            "marker": {
             "colorbar": {
              "outlinewidth": 0,
              "ticks": ""
             }
            },
            "type": "scatterpolargl"
           }
          ],
          "scatterternary": [
           {
            "marker": {
             "colorbar": {
              "outlinewidth": 0,
              "ticks": ""
             }
            },
            "type": "scatterternary"
           }
          ],
          "surface": [
           {
            "colorbar": {
             "outlinewidth": 0,
             "ticks": ""
            },
            "colorscale": [
             [
              0,
              "#0d0887"
             ],
             [
              0.1111111111111111,
              "#46039f"
             ],
             [
              0.2222222222222222,
              "#7201a8"
             ],
             [
              0.3333333333333333,
              "#9c179e"
             ],
             [
              0.4444444444444444,
              "#bd3786"
             ],
             [
              0.5555555555555556,
              "#d8576b"
             ],
             [
              0.6666666666666666,
              "#ed7953"
             ],
             [
              0.7777777777777778,
              "#fb9f3a"
             ],
             [
              0.8888888888888888,
              "#fdca26"
             ],
             [
              1,
              "#f0f921"
             ]
            ],
            "type": "surface"
           }
          ],
          "table": [
           {
            "cells": {
             "fill": {
              "color": "#EBF0F8"
             },
             "line": {
              "color": "white"
             }
            },
            "header": {
             "fill": {
              "color": "#C8D4E3"
             },
             "line": {
              "color": "white"
             }
            },
            "type": "table"
           }
          ]
         },
         "layout": {
          "annotationdefaults": {
           "arrowcolor": "#2a3f5f",
           "arrowhead": 0,
           "arrowwidth": 1
          },
          "autotypenumbers": "strict",
          "coloraxis": {
           "colorbar": {
            "outlinewidth": 0,
            "ticks": ""
           }
          },
          "colorscale": {
           "diverging": [
            [
             0,
             "#8e0152"
            ],
            [
             0.1,
             "#c51b7d"
            ],
            [
             0.2,
             "#de77ae"
            ],
            [
             0.3,
             "#f1b6da"
            ],
            [
             0.4,
             "#fde0ef"
            ],
            [
             0.5,
             "#f7f7f7"
            ],
            [
             0.6,
             "#e6f5d0"
            ],
            [
             0.7,
             "#b8e186"
            ],
            [
             0.8,
             "#7fbc41"
            ],
            [
             0.9,
             "#4d9221"
            ],
            [
             1,
             "#276419"
            ]
           ],
           "sequential": [
            [
             0,
             "#0d0887"
            ],
            [
             0.1111111111111111,
             "#46039f"
            ],
            [
             0.2222222222222222,
             "#7201a8"
            ],
            [
             0.3333333333333333,
             "#9c179e"
            ],
            [
             0.4444444444444444,
             "#bd3786"
            ],
            [
             0.5555555555555556,
             "#d8576b"
            ],
            [
             0.6666666666666666,
             "#ed7953"
            ],
            [
             0.7777777777777778,
             "#fb9f3a"
            ],
            [
             0.8888888888888888,
             "#fdca26"
            ],
            [
             1,
             "#f0f921"
            ]
           ],
           "sequentialminus": [
            [
             0,
             "#0d0887"
            ],
            [
             0.1111111111111111,
             "#46039f"
            ],
            [
             0.2222222222222222,
             "#7201a8"
            ],
            [
             0.3333333333333333,
             "#9c179e"
            ],
            [
             0.4444444444444444,
             "#bd3786"
            ],
            [
             0.5555555555555556,
             "#d8576b"
            ],
            [
             0.6666666666666666,
             "#ed7953"
            ],
            [
             0.7777777777777778,
             "#fb9f3a"
            ],
            [
             0.8888888888888888,
             "#fdca26"
            ],
            [
             1,
             "#f0f921"
            ]
           ]
          },
          "colorway": [
           "#636efa",
           "#EF553B",
           "#00cc96",
           "#ab63fa",
           "#FFA15A",
           "#19d3f3",
           "#FF6692",
           "#B6E880",
           "#FF97FF",
           "#FECB52"
          ],
          "font": {
           "color": "#2a3f5f"
          },
          "geo": {
           "bgcolor": "white",
           "lakecolor": "white",
           "landcolor": "#E5ECF6",
           "showlakes": true,
           "showland": true,
           "subunitcolor": "white"
          },
          "hoverlabel": {
           "align": "left"
          },
          "hovermode": "closest",
          "mapbox": {
           "style": "light"
          },
          "paper_bgcolor": "white",
          "plot_bgcolor": "#E5ECF6",
          "polar": {
           "angularaxis": {
            "gridcolor": "white",
            "linecolor": "white",
            "ticks": ""
           },
           "bgcolor": "#E5ECF6",
           "radialaxis": {
            "gridcolor": "white",
            "linecolor": "white",
            "ticks": ""
           }
          },
          "scene": {
           "xaxis": {
            "backgroundcolor": "#E5ECF6",
            "gridcolor": "white",
            "gridwidth": 2,
            "linecolor": "white",
            "showbackground": true,
            "ticks": "",
            "zerolinecolor": "white"
           },
           "yaxis": {
            "backgroundcolor": "#E5ECF6",
            "gridcolor": "white",
            "gridwidth": 2,
            "linecolor": "white",
            "showbackground": true,
            "ticks": "",
            "zerolinecolor": "white"
           },
           "zaxis": {
            "backgroundcolor": "#E5ECF6",
            "gridcolor": "white",
            "gridwidth": 2,
            "linecolor": "white",
            "showbackground": true,
            "ticks": "",
            "zerolinecolor": "white"
           }
          },
          "shapedefaults": {
           "line": {
            "color": "#2a3f5f"
           }
          },
          "ternary": {
           "aaxis": {
            "gridcolor": "white",
            "linecolor": "white",
            "ticks": ""
           },
           "baxis": {
            "gridcolor": "white",
            "linecolor": "white",
            "ticks": ""
           },
           "bgcolor": "#E5ECF6",
           "caxis": {
            "gridcolor": "white",
            "linecolor": "white",
            "ticks": ""
           }
          },
          "title": {
           "x": 0.05
          },
          "xaxis": {
           "automargin": true,
           "gridcolor": "white",
           "linecolor": "white",
           "ticks": "",
           "title": {
            "standoff": 15
           },
           "zerolinecolor": "white",
           "zerolinewidth": 2
          },
          "yaxis": {
           "automargin": true,
           "gridcolor": "white",
           "linecolor": "white",
           "ticks": "",
           "title": {
            "standoff": 15
           },
           "zerolinecolor": "white",
           "zerolinewidth": 2
          }
         }
        },
        "xaxis": {
         "anchor": "y",
         "domain": [
          0,
          1
         ]
        },
        "yaxis": {
         "anchor": "x",
         "domain": [
          0,
          1
         ]
        }
       }
      }
     },
     "metadata": {},
     "output_type": "display_data"
    }
   ],
   "source": [
    "# plot charttime and storetime\n",
    "list_lab = ['Lactate','Troponin T','C-Reactive Protein']\n",
    "list_lab = ['C-Reactive Protein']\n",
    "list_lab = ['Troponin T']\n",
    "\n",
    "\n",
    "df_temp = df_le.copy()\n",
    "df_temp['diff'] = ((df_temp['storetime']-df_temp['charttime']) / np.timedelta64(1, 'm'))\n",
    "df_temp = df_temp.merge(pd.read_csv(ADD_DATA+'d_labitems.csv')[['itemid','label']].drop_duplicates(subset='itemid'), on='itemid')\n",
    "df_temp = df_temp[df_temp['label'].isin(list_lab)]\n",
    "\n",
    "# choose the hid with highest number of measurements\n",
    "\n",
    "\n",
    "\n",
    "# plot median of measurement intervals\n",
    "\n",
    "df_temp.groupby(['hadm_id','itemid'], as_index=False).size().reset_index().sort_values(by='size',ascending=False)\n",
    "\n",
    "\n",
    "\n",
    "\n",
    "\n",
    "\n",
    "\n",
    "hid = 29765862\n",
    "df_temp = df_temp[df_temp['hadm_id']==hid].sort_values(by=['itemid','charttime'])\n",
    "\n",
    "\n",
    "\n",
    "fig = make_subplots(rows=len(list_lab), cols=1,shared_xaxes=True,subplot_titles=df_temp['label'].unique())\n",
    "\n",
    "for ii,col in enumerate(list_lab):\n",
    "    q = df_temp['label']==col\n",
    "    \n",
    "    t_chart=df_temp.loc[q,'charttime']\n",
    "    t_store=df_temp.loc[q,'storetime']\n",
    "    y=df_temp.loc[q,'value'].astype(float)\n",
    "    \n",
    "\n",
    "    _ = fig.add_trace(\n",
    "                    go.Scatter(x=t_chart, y=y,name=col+' charted',mode='lines+markers'),\n",
    "                    row=ii+1, col=1\n",
    "                )\n",
    "    _ = fig.add_trace(\n",
    "                    go.Scatter(x=t_store, y=y,name=col+' stored',mode='lines+markers'),\n",
    "                    row=ii+1, col=1\n",
    "                )\n",
    "    \n",
    "    # adding normal range\n",
    "\n",
    "\n",
    "fig.show()\n",
    "fig.write_html(ADD_DATA+'temp.html')\n"
   ]
  },
  {
   "cell_type": "markdown",
   "metadata": {},
   "source": [
    "# vis pat"
   ]
  },
  {
   "cell_type": "code",
   "execution_count": 5,
   "metadata": {},
   "outputs": [],
   "source": [
    "# step 1) find the patient based on criteria\n",
    "# use [VI] to find the transfer id"
   ]
  },
  {
   "cell_type": "code",
   "execution_count": 6,
   "metadata": {},
   "outputs": [
    {
     "data": {
      "text/plain": [
       "28080619"
      ]
     },
     "execution_count": 6,
     "metadata": {},
     "output_type": "execute_result"
    },
    {
     "data": {
      "text/html": [
       "<div>\n",
       "<style scoped>\n",
       "    .dataframe tbody tr th:only-of-type {\n",
       "        vertical-align: middle;\n",
       "    }\n",
       "\n",
       "    .dataframe tbody tr th {\n",
       "        vertical-align: top;\n",
       "    }\n",
       "\n",
       "    .dataframe thead th {\n",
       "        text-align: right;\n",
       "    }\n",
       "</style>\n",
       "<table border=\"1\" class=\"dataframe\">\n",
       "  <thead>\n",
       "    <tr style=\"text-align: right;\">\n",
       "      <th></th>\n",
       "      <th>subject_id</th>\n",
       "      <th>hadm_id</th>\n",
       "      <th>transfer_id</th>\n",
       "      <th>eventtype</th>\n",
       "      <th>careunit</th>\n",
       "      <th>intime</th>\n",
       "      <th>outtime</th>\n",
       "    </tr>\n",
       "  </thead>\n",
       "  <tbody>\n",
       "    <tr>\n",
       "      <th>8374</th>\n",
       "      <td>16857350</td>\n",
       "      <td>28080619</td>\n",
       "      <td>35938307</td>\n",
       "      <td>transfer</td>\n",
       "      <td>None</td>\n",
       "      <td>2161-11-30 12:29:22</td>\n",
       "      <td>2161-11-30 12:29:40</td>\n",
       "    </tr>\n",
       "    <tr>\n",
       "      <th>8376</th>\n",
       "      <td>16857350</td>\n",
       "      <td>28080619</td>\n",
       "      <td>36422091</td>\n",
       "      <td>discharge</td>\n",
       "      <td>None</td>\n",
       "      <td>2161-12-05 11:45:27</td>\n",
       "      <td>NaT</td>\n",
       "    </tr>\n",
       "    <tr>\n",
       "      <th>9320</th>\n",
       "      <td>16857350</td>\n",
       "      <td>28080619</td>\n",
       "      <td>36030997</td>\n",
       "      <td>admit</td>\n",
       "      <td>Trauma SICU (TSICU)</td>\n",
       "      <td>2161-11-19 08:07:07</td>\n",
       "      <td>2161-11-30 12:29:22</td>\n",
       "    </tr>\n",
       "    <tr>\n",
       "      <th>9340</th>\n",
       "      <td>16857350</td>\n",
       "      <td>28080619</td>\n",
       "      <td>35375614</td>\n",
       "      <td>transfer</td>\n",
       "      <td>Trauma SICU (TSICU)</td>\n",
       "      <td>2161-11-30 12:29:40</td>\n",
       "      <td>2161-11-30 21:46:36</td>\n",
       "    </tr>\n",
       "    <tr>\n",
       "      <th>9341</th>\n",
       "      <td>16857350</td>\n",
       "      <td>28080619</td>\n",
       "      <td>30418278</td>\n",
       "      <td>transfer</td>\n",
       "      <td>Med/Surg</td>\n",
       "      <td>2161-11-30 21:46:36</td>\n",
       "      <td>2161-12-03 13:14:32</td>\n",
       "    </tr>\n",
       "    <tr>\n",
       "      <th>9344</th>\n",
       "      <td>16857350</td>\n",
       "      <td>28080619</td>\n",
       "      <td>39658297</td>\n",
       "      <td>transfer</td>\n",
       "      <td>Medical Intensive Care Unit (MICU)</td>\n",
       "      <td>2161-12-03 13:14:32</td>\n",
       "      <td>2161-12-05 11:45:27</td>\n",
       "    </tr>\n",
       "    <tr>\n",
       "      <th>9847</th>\n",
       "      <td>16857350</td>\n",
       "      <td>28080619</td>\n",
       "      <td>30238690</td>\n",
       "      <td>ED</td>\n",
       "      <td>Emergency Department</td>\n",
       "      <td>2161-11-19 05:03:00</td>\n",
       "      <td>2161-11-19 08:07:07</td>\n",
       "    </tr>\n",
       "  </tbody>\n",
       "</table>\n",
       "</div>"
      ],
      "text/plain": [
       "      subject_id   hadm_id  transfer_id  eventtype  \\\n",
       "8374    16857350  28080619     35938307   transfer   \n",
       "8376    16857350  28080619     36422091  discharge   \n",
       "9320    16857350  28080619     36030997      admit   \n",
       "9340    16857350  28080619     35375614   transfer   \n",
       "9341    16857350  28080619     30418278   transfer   \n",
       "9344    16857350  28080619     39658297   transfer   \n",
       "9847    16857350  28080619     30238690         ED   \n",
       "\n",
       "                                careunit              intime  \\\n",
       "8374                                None 2161-11-30 12:29:22   \n",
       "8376                                None 2161-12-05 11:45:27   \n",
       "9320                 Trauma SICU (TSICU) 2161-11-19 08:07:07   \n",
       "9340                 Trauma SICU (TSICU) 2161-11-30 12:29:40   \n",
       "9341                            Med/Surg 2161-11-30 21:46:36   \n",
       "9344  Medical Intensive Care Unit (MICU) 2161-12-03 13:14:32   \n",
       "9847                Emergency Department 2161-11-19 05:03:00   \n",
       "\n",
       "                 outtime  \n",
       "8374 2161-11-30 12:29:40  \n",
       "8376                 NaT  \n",
       "9320 2161-11-30 12:29:22  \n",
       "9340 2161-11-30 21:46:36  \n",
       "9341 2161-12-03 13:14:32  \n",
       "9344 2161-12-05 11:45:27  \n",
       "9847 2161-11-19 08:07:07  "
      ]
     },
     "execution_count": 6,
     "metadata": {},
     "output_type": "execute_result"
    },
    {
     "name": "stdout",
     "output_type": "stream",
     "text": [
      "t_in, t_out \n",
      "  2161-12-03T13:14:32.000000000 2161-12-05T11:45:27.000000000\n",
      "ICD codes\n"
     ]
    },
    {
     "data": {
      "text/plain": [
       "Sodium Chloride 0.9%  Flush         17\n",
       "Lactulose                           10\n",
       "Rocuronium                           8\n",
       "Insulin                              7\n",
       "Sodium Bicarbonate                   7\n",
       "Ipratropium-Albuterol Neb            7\n",
       "Fentanyl Citrate                     6\n",
       "Propofol                             5\n",
       "Penicillin G Potassium               4\n",
       "NORepinephrine                       4\n",
       "Piperacillin-Tazobactam              3\n",
       "Vancomycin                           3\n",
       "Heparin                              3\n",
       "Artificial Tears GEL 1%              3\n",
       "Rifaximin                            3\n",
       "Clindamycin                          2\n",
       "Vasopressin                          2\n",
       "Heparin Flush (10 units/ml)          2\n",
       "Pantoprazole                         2\n",
       "EPINEPHrine                          2\n",
       "Citrate Dextrose 3% (ACD-A) CRRT     1\n",
       "FoLIC Acid                           1\n",
       "Multivitamins W/minerals             1\n",
       "Thiamine                             1\n",
       "Sodium CITRATE 4%                    1\n",
       "Acetaminophen                        1\n",
       "PHENYLEPHrine                        1\n",
       "Glycopyrrolate                       1\n",
       "HYDROmorphone (Dilaudid)             1\n",
       "Name: medication, dtype: int64"
      ]
     },
     "execution_count": 6,
     "metadata": {},
     "output_type": "execute_result"
    }
   ],
   "source": [
    "# step 2) visualize \n",
    "from IPython.display import display\n",
    "tid = 39658297\n",
    "hid = df_transfers[df_transfers['transfer_id']==tid].iloc[0].hadm_id\n",
    "hid\n",
    "\n",
    "df2_tr = df_transfers[df_transfers['hadm_id']==hid]\n",
    "df2_tr\n",
    "\n",
    "t_in = df2_tr[df2_tr['transfer_id']== tid].intime.values[0]\n",
    "t_out = df2_tr[df2_tr['transfer_id']== tid].outtime.values[0]\n",
    "print('t_in, t_out \\n ',t_in, t_out)\n",
    "\n",
    "\n",
    "\n",
    "print(\"ICD codes\")\n",
    "# df_icd_proc[df_icd_proc['hadm_id'] == hid]\n",
    "#df_icd_diag[df_icd_diag['hadm_id'] == hid]\n",
    "\n",
    "q =  (df_emar['hadm_id'] == hid) & (df_emar['charttime'] > t_in) & (df_emar['charttime'] <= t_out)\n",
    "\n",
    "df_emar[ q ].medication.value_counts()\n",
    "\n",
    "\n",
    "\n",
    "\n"
   ]
  },
  {
   "cell_type": "code",
   "execution_count": 12,
   "metadata": {},
   "outputs": [
    {
     "data": {
      "text/html": [
       "<div>\n",
       "<style scoped>\n",
       "    .dataframe tbody tr th:only-of-type {\n",
       "        vertical-align: middle;\n",
       "    }\n",
       "\n",
       "    .dataframe tbody tr th {\n",
       "        vertical-align: top;\n",
       "    }\n",
       "\n",
       "    .dataframe thead th {\n",
       "        text-align: right;\n",
       "    }\n",
       "</style>\n",
       "<table border=\"1\" class=\"dataframe\">\n",
       "  <thead>\n",
       "    <tr style=\"text-align: right;\">\n",
       "      <th></th>\n",
       "      <th>charttime</th>\n",
       "      <th>itemid</th>\n",
       "      <th>value</th>\n",
       "      <th>label</th>\n",
       "      <th>type</th>\n",
       "      <th>mask</th>\n",
       "      <th>lb</th>\n",
       "      <th>ub</th>\n",
       "      <th>time_grid</th>\n",
       "    </tr>\n",
       "  </thead>\n",
       "  <tbody>\n",
       "    <tr>\n",
       "      <th>303</th>\n",
       "      <td>2161-12-03 13:25:00</td>\n",
       "      <td>220045</td>\n",
       "      <td>100.0</td>\n",
       "      <td>Heart Rate</td>\n",
       "      <td>vital</td>\n",
       "      <td>H</td>\n",
       "      <td>60.0</td>\n",
       "      <td>90.0</td>\n",
       "      <td>10</td>\n",
       "    </tr>\n",
       "    <tr>\n",
       "      <th>304</th>\n",
       "      <td>2161-12-03 14:00:00</td>\n",
       "      <td>220045</td>\n",
       "      <td>107.0</td>\n",
       "      <td>Heart Rate</td>\n",
       "      <td>vital</td>\n",
       "      <td>H</td>\n",
       "      <td>60.0</td>\n",
       "      <td>90.0</td>\n",
       "      <td>45</td>\n",
       "    </tr>\n",
       "    <tr>\n",
       "      <th>305</th>\n",
       "      <td>2161-12-03 15:10:00</td>\n",
       "      <td>220045</td>\n",
       "      <td>97.0</td>\n",
       "      <td>Heart Rate</td>\n",
       "      <td>vital</td>\n",
       "      <td>H</td>\n",
       "      <td>60.0</td>\n",
       "      <td>90.0</td>\n",
       "      <td>115</td>\n",
       "    </tr>\n",
       "    <tr>\n",
       "      <th>306</th>\n",
       "      <td>2161-12-03 16:00:00</td>\n",
       "      <td>220045</td>\n",
       "      <td>103.0</td>\n",
       "      <td>Heart Rate</td>\n",
       "      <td>vital</td>\n",
       "      <td>H</td>\n",
       "      <td>60.0</td>\n",
       "      <td>90.0</td>\n",
       "      <td>165</td>\n",
       "    </tr>\n",
       "    <tr>\n",
       "      <th>307</th>\n",
       "      <td>2161-12-03 17:00:00</td>\n",
       "      <td>220045</td>\n",
       "      <td>88.0</td>\n",
       "      <td>Heart Rate</td>\n",
       "      <td>vital</td>\n",
       "      <td>N</td>\n",
       "      <td>60.0</td>\n",
       "      <td>90.0</td>\n",
       "      <td>225</td>\n",
       "    </tr>\n",
       "    <tr>\n",
       "      <th>...</th>\n",
       "      <td>...</td>\n",
       "      <td>...</td>\n",
       "      <td>...</td>\n",
       "      <td>...</td>\n",
       "      <td>...</td>\n",
       "      <td>...</td>\n",
       "      <td>...</td>\n",
       "      <td>...</td>\n",
       "      <td>...</td>\n",
       "    </tr>\n",
       "    <tr>\n",
       "      <th>1046</th>\n",
       "      <td>2161-12-05 05:00:00</td>\n",
       "      <td>220277</td>\n",
       "      <td>93.0</td>\n",
       "      <td>O2 saturation pulseoxymetry</td>\n",
       "      <td>vital</td>\n",
       "      <td>N</td>\n",
       "      <td>90.0</td>\n",
       "      <td>101.0</td>\n",
       "      <td>2385</td>\n",
       "    </tr>\n",
       "    <tr>\n",
       "      <th>1047</th>\n",
       "      <td>2161-12-05 06:00:00</td>\n",
       "      <td>220277</td>\n",
       "      <td>84.0</td>\n",
       "      <td>O2 saturation pulseoxymetry</td>\n",
       "      <td>vital</td>\n",
       "      <td>L</td>\n",
       "      <td>90.0</td>\n",
       "      <td>101.0</td>\n",
       "      <td>2445</td>\n",
       "    </tr>\n",
       "    <tr>\n",
       "      <th>1048</th>\n",
       "      <td>2161-12-05 07:00:00</td>\n",
       "      <td>220277</td>\n",
       "      <td>100.0</td>\n",
       "      <td>O2 saturation pulseoxymetry</td>\n",
       "      <td>vital</td>\n",
       "      <td>N</td>\n",
       "      <td>90.0</td>\n",
       "      <td>101.0</td>\n",
       "      <td>2505</td>\n",
       "    </tr>\n",
       "    <tr>\n",
       "      <th>1049</th>\n",
       "      <td>2161-12-05 08:00:00</td>\n",
       "      <td>220277</td>\n",
       "      <td>100.0</td>\n",
       "      <td>O2 saturation pulseoxymetry</td>\n",
       "      <td>vital</td>\n",
       "      <td>N</td>\n",
       "      <td>90.0</td>\n",
       "      <td>101.0</td>\n",
       "      <td>2565</td>\n",
       "    </tr>\n",
       "    <tr>\n",
       "      <th>1050</th>\n",
       "      <td>2161-12-05 09:00:00</td>\n",
       "      <td>220277</td>\n",
       "      <td>100.0</td>\n",
       "      <td>O2 saturation pulseoxymetry</td>\n",
       "      <td>vital</td>\n",
       "      <td>N</td>\n",
       "      <td>90.0</td>\n",
       "      <td>101.0</td>\n",
       "      <td>2625</td>\n",
       "    </tr>\n",
       "  </tbody>\n",
       "</table>\n",
       "<p>144 rows × 9 columns</p>\n",
       "</div>"
      ],
      "text/plain": [
       "               charttime  itemid  value                        label   type  \\\n",
       "303  2161-12-03 13:25:00  220045  100.0                   Heart Rate  vital   \n",
       "304  2161-12-03 14:00:00  220045  107.0                   Heart Rate  vital   \n",
       "305  2161-12-03 15:10:00  220045   97.0                   Heart Rate  vital   \n",
       "306  2161-12-03 16:00:00  220045  103.0                   Heart Rate  vital   \n",
       "307  2161-12-03 17:00:00  220045   88.0                   Heart Rate  vital   \n",
       "...                  ...     ...    ...                          ...    ...   \n",
       "1046 2161-12-05 05:00:00  220277   93.0  O2 saturation pulseoxymetry  vital   \n",
       "1047 2161-12-05 06:00:00  220277   84.0  O2 saturation pulseoxymetry  vital   \n",
       "1048 2161-12-05 07:00:00  220277  100.0  O2 saturation pulseoxymetry  vital   \n",
       "1049 2161-12-05 08:00:00  220277  100.0  O2 saturation pulseoxymetry  vital   \n",
       "1050 2161-12-05 09:00:00  220277  100.0  O2 saturation pulseoxymetry  vital   \n",
       "\n",
       "     mask    lb     ub  time_grid  \n",
       "303     H  60.0   90.0         10  \n",
       "304     H  60.0   90.0         45  \n",
       "305     H  60.0   90.0        115  \n",
       "306     H  60.0   90.0        165  \n",
       "307     N  60.0   90.0        225  \n",
       "...   ...   ...    ...        ...  \n",
       "1046    N  90.0  101.0       2385  \n",
       "1047    L  90.0  101.0       2445  \n",
       "1048    N  90.0  101.0       2505  \n",
       "1049    N  90.0  101.0       2565  \n",
       "1050    N  90.0  101.0       2625  \n",
       "\n",
       "[144 rows x 9 columns]"
      ]
     },
     "execution_count": 12,
     "metadata": {},
     "output_type": "execute_result"
    },
    {
     "ename": "ValueError",
     "evalue": "Bin labels must be one fewer than the number of bin edges",
     "output_type": "error",
     "traceback": [
      "\u001b[1;31m---------------------------------------------------------------------------\u001b[0m",
      "\u001b[1;31mValueError\u001b[0m                                Traceback (most recent call last)",
      "\u001b[1;32m~\\AppData\\Local\\Temp\\ipykernel_5280\\1022941018.py\u001b[0m in \u001b[0;36m<module>\u001b[1;34m\u001b[0m\n\u001b[0;32m     50\u001b[0m \u001b[1;32mfor\u001b[0m \u001b[0mitemid\u001b[0m\u001b[1;33m,\u001b[0m \u001b[0mvalues\u001b[0m \u001b[1;32min\u001b[0m \u001b[0mdict_labs\u001b[0m\u001b[1;33m.\u001b[0m\u001b[0mitems\u001b[0m\u001b[1;33m(\u001b[0m\u001b[1;33m)\u001b[0m\u001b[1;33m:\u001b[0m\u001b[1;33m\u001b[0m\u001b[1;33m\u001b[0m\u001b[0m\n\u001b[0;32m     51\u001b[0m     \u001b[0mq\u001b[0m \u001b[1;33m=\u001b[0m \u001b[0mdff_le\u001b[0m\u001b[1;33m[\u001b[0m\u001b[1;34m'itemid'\u001b[0m\u001b[1;33m]\u001b[0m\u001b[1;33m==\u001b[0m\u001b[0mitemid\u001b[0m\u001b[1;33m\u001b[0m\u001b[1;33m\u001b[0m\u001b[0m\n\u001b[1;32m---> 52\u001b[1;33m     \u001b[0mdff_le\u001b[0m\u001b[1;33m.\u001b[0m\u001b[0mloc\u001b[0m\u001b[1;33m[\u001b[0m\u001b[0mq\u001b[0m\u001b[1;33m,\u001b[0m \u001b[1;34m'mask'\u001b[0m\u001b[1;33m]\u001b[0m \u001b[1;33m=\u001b[0m \u001b[0mpd\u001b[0m\u001b[1;33m.\u001b[0m\u001b[0mcut\u001b[0m\u001b[1;33m(\u001b[0m\u001b[0mdff_le\u001b[0m\u001b[1;33m.\u001b[0m\u001b[0mloc\u001b[0m\u001b[1;33m[\u001b[0m\u001b[0mq\u001b[0m\u001b[1;33m,\u001b[0m\u001b[1;34m'value'\u001b[0m\u001b[1;33m]\u001b[0m\u001b[1;33m.\u001b[0m\u001b[0mastype\u001b[0m\u001b[1;33m(\u001b[0m\u001b[0mfloat\u001b[0m\u001b[1;33m)\u001b[0m\u001b[1;33m,\u001b[0m \u001b[0mbins\u001b[0m\u001b[1;33m=\u001b[0m\u001b[1;33m[\u001b[0m\u001b[1;33m-\u001b[0m\u001b[1;36m1e10\u001b[0m\u001b[1;33m,\u001b[0m\u001b[1;33m*\u001b[0m\u001b[0mvalues\u001b[0m\u001b[1;33m[\u001b[0m\u001b[1;36m1\u001b[0m\u001b[1;33m]\u001b[0m\u001b[1;33m,\u001b[0m\u001b[1;36m1e10\u001b[0m\u001b[1;33m]\u001b[0m\u001b[1;33m,\u001b[0m \u001b[0mlabels\u001b[0m\u001b[1;33m=\u001b[0m\u001b[1;33m[\u001b[0m\u001b[1;34m'L'\u001b[0m\u001b[1;33m,\u001b[0m\u001b[1;34m'N'\u001b[0m\u001b[1;33m,\u001b[0m\u001b[1;34m'H'\u001b[0m\u001b[1;33m]\u001b[0m\u001b[1;33m)\u001b[0m\u001b[1;33m\u001b[0m\u001b[1;33m\u001b[0m\u001b[0m\n\u001b[0m\u001b[0;32m     53\u001b[0m     \u001b[0mdff_le\u001b[0m\u001b[1;33m.\u001b[0m\u001b[0mloc\u001b[0m\u001b[1;33m[\u001b[0m\u001b[0mq\u001b[0m\u001b[1;33m,\u001b[0m \u001b[1;34m'lb'\u001b[0m\u001b[1;33m]\u001b[0m \u001b[1;33m=\u001b[0m \u001b[0mvalues\u001b[0m\u001b[1;33m[\u001b[0m\u001b[1;36m1\u001b[0m\u001b[1;33m]\u001b[0m\u001b[1;33m[\u001b[0m\u001b[1;36m0\u001b[0m\u001b[1;33m]\u001b[0m\u001b[1;33m\u001b[0m\u001b[1;33m\u001b[0m\u001b[0m\n\u001b[0;32m     54\u001b[0m     \u001b[0mdff_le\u001b[0m\u001b[1;33m.\u001b[0m\u001b[0mloc\u001b[0m\u001b[1;33m[\u001b[0m\u001b[0mq\u001b[0m\u001b[1;33m,\u001b[0m \u001b[1;34m'ub'\u001b[0m\u001b[1;33m]\u001b[0m \u001b[1;33m=\u001b[0m \u001b[0mvalues\u001b[0m\u001b[1;33m[\u001b[0m\u001b[1;36m1\u001b[0m\u001b[1;33m]\u001b[0m\u001b[1;33m[\u001b[0m\u001b[1;36m1\u001b[0m\u001b[1;33m]\u001b[0m\u001b[1;33m\u001b[0m\u001b[1;33m\u001b[0m\u001b[0m\n",
      "\u001b[1;32mc:\\Users\\hokarami\\Anaconda3\\envs\\dashVis\\lib\\site-packages\\pandas\\core\\reshape\\tile.py\u001b[0m in \u001b[0;36mcut\u001b[1;34m(x, bins, right, labels, retbins, precision, include_lowest, duplicates, ordered)\u001b[0m\n\u001b[0;32m    288\u001b[0m             \u001b[1;32mraise\u001b[0m \u001b[0mValueError\u001b[0m\u001b[1;33m(\u001b[0m\u001b[1;34m\"bins must increase monotonically.\"\u001b[0m\u001b[1;33m)\u001b[0m\u001b[1;33m\u001b[0m\u001b[1;33m\u001b[0m\u001b[0m\n\u001b[0;32m    289\u001b[0m \u001b[1;33m\u001b[0m\u001b[0m\n\u001b[1;32m--> 290\u001b[1;33m     fac, bins = _bins_to_cuts(\n\u001b[0m\u001b[0;32m    291\u001b[0m         \u001b[0mx\u001b[0m\u001b[1;33m,\u001b[0m\u001b[1;33m\u001b[0m\u001b[1;33m\u001b[0m\u001b[0m\n\u001b[0;32m    292\u001b[0m         \u001b[0mbins\u001b[0m\u001b[1;33m,\u001b[0m\u001b[1;33m\u001b[0m\u001b[1;33m\u001b[0m\u001b[0m\n",
      "\u001b[1;32mc:\\Users\\hokarami\\Anaconda3\\envs\\dashVis\\lib\\site-packages\\pandas\\core\\reshape\\tile.py\u001b[0m in \u001b[0;36m_bins_to_cuts\u001b[1;34m(x, bins, right, labels, precision, include_lowest, dtype, duplicates, ordered)\u001b[0m\n\u001b[0;32m    449\u001b[0m         \u001b[1;32melse\u001b[0m\u001b[1;33m:\u001b[0m\u001b[1;33m\u001b[0m\u001b[1;33m\u001b[0m\u001b[0m\n\u001b[0;32m    450\u001b[0m             \u001b[1;32mif\u001b[0m \u001b[0mlen\u001b[0m\u001b[1;33m(\u001b[0m\u001b[0mlabels\u001b[0m\u001b[1;33m)\u001b[0m \u001b[1;33m!=\u001b[0m \u001b[0mlen\u001b[0m\u001b[1;33m(\u001b[0m\u001b[0mbins\u001b[0m\u001b[1;33m)\u001b[0m \u001b[1;33m-\u001b[0m \u001b[1;36m1\u001b[0m\u001b[1;33m:\u001b[0m\u001b[1;33m\u001b[0m\u001b[1;33m\u001b[0m\u001b[0m\n\u001b[1;32m--> 451\u001b[1;33m                 raise ValueError(\n\u001b[0m\u001b[0;32m    452\u001b[0m                     \u001b[1;34m\"Bin labels must be one fewer than the number of bin edges\"\u001b[0m\u001b[1;33m\u001b[0m\u001b[1;33m\u001b[0m\u001b[0m\n\u001b[0;32m    453\u001b[0m                 )\n",
      "\u001b[1;31mValueError\u001b[0m: Bin labels must be one fewer than the number of bin edges"
     ]
    }
   ],
   "source": [
    "######################################## select variables\n",
    " \n",
    "dict_vitals = {220045:['HR', [60,90], ['L', 'N', 'H'] ],\n",
    "               220210:['RR', [10,18], ['L', 'N', 'H'] ],\n",
    "               220277:['SpO2', [90,101], ['L', 'N'] ],}\n",
    "\n",
    "\n",
    "dict_labs = {50971:['Potassium',[3.3,5],['L', 'N', 'H']], \n",
    "50983:['Sodium',[133,145],['L', 'N', 'H']], \n",
    "50902:['Chloride',[96,108],['L', 'N', 'H']], \n",
    "51006:['Urea Nitrogen',[6,20],['L', 'N', 'H']], \n",
    "50912:['Creatinine',[0.5,1.2],['L', 'N', 'H']], \n",
    "50889:['C-Reactive Protein',[0, 5],['L', 'N', 'H']], \n",
    "\n",
    "\n",
    "51003:[\t'Troponin T',[0,1e-10,0.1,1000],['L', 'N', 'H']],\n",
    "#50910:[\t'Creatine Kinase (CK)'],\n",
    "50813:[\t'Lactate',[0.5,2],['L', 'N', 'H']],}\n",
    "\n",
    "list_emar = ['NORepinephrine','EPINEPHrine','DOBUTamine','DOPamine','PHENYLEPHrine']\n",
    "dict_proc = {225792:'Invasive Ventilation', 225802:'Dialysis - CRRT', 220277:'SpO2'}\n",
    "\n",
    "\n",
    "# Extracting vitals from ICU chartevents\n",
    "dff_che = df_che[df_che['hadm_id']==hid].query(f\"itemid.isin({list(dict_vitals.keys())})\").merge(pd.read_csv(ADD_DATA+'d_items.csv')[['itemid','label']], on='itemid')\n",
    "dff_che = dff_che[['charttime','itemid','valuenum','label']].sort_values('charttime',ascending=True) \n",
    "dff_che = dff_che.rename(columns={'valuenum':'value'})\n",
    "dff_che['type'] = 'vital'\n",
    "## creating mask for each vital\n",
    "dff_che['mask'] = np.nan\n",
    "for itemid, values in dict_vitals.items():\n",
    "    q = dff_che['itemid']==itemid    \n",
    "    dff_che.loc[q, 'mask'] = pd.cut(dff_che.loc[q,'value'], bins=[-1e10,*values[1],1e10], labels=['L','N','H'])\n",
    "    dff_che.loc[q, 'lb'] = values[1][0]\n",
    "    dff_che.loc[q, 'ub'] = values[1][1]\n",
    "    \n",
    "dff_che['time_grid'] = ( (dff_che['charttime'] - t_in) / np.timedelta64(1, 'm')).astype(int)\n",
    "dff_che = dff_che[dff_che['time_grid']>0]\n",
    "dff_che = dff_che.drop_duplicates(subset=['itemid','time_grid'],keep='first')\n",
    "dff_che = dff_che.sort_values(['itemid','charttime'])\n",
    "dff_che\n",
    "\n",
    "\n",
    "# Extracting labs from HOSP labevents\n",
    "dff_le = df_le[df_le['hadm_id']==hid].query(f\"itemid.isin({list(dict_labs.keys())})\").merge(pd.read_csv(ADD_DATA+'d_labitems.csv')[['itemid','label']], on='itemid')\n",
    "dff_le = dff_le[['charttime','itemid','value','label']].sort_values('charttime',ascending=True)\n",
    "dff_le['type'] = 'lab'\n",
    "## creating mask for each vital\n",
    "dff_le['mask'] = np.nan\n",
    "for itemid, values in dict_labs.items():\n",
    "    q = dff_le['itemid']==itemid\n",
    "    dff_le.loc[q, 'mask'] = pd.cut(dff_le.loc[q,'value'].astype(float), bins=[-1e10,*values[1],1e10], labels=['L','N','H'])\n",
    "    dff_le.loc[q, 'lb'] = values[1][0]\n",
    "    dff_le.loc[q, 'ub'] = values[1][1]\n",
    "\n",
    "dff_le['time_grid'] = ( (dff_le['charttime'] - t_in) / np.timedelta64(1, 'm')).astype(int)\n",
    "dff_le = dff_le[dff_le['time_grid']>0]\n",
    "dff_le = dff_le.drop_duplicates(subset=['itemid','time_grid'],keep='first')\n",
    "dff_le = dff_le.sort_values(['itemid','charttime'])\n",
    "dff_le\n",
    "\n",
    "dff_le_samp = dff_le.copy()\n",
    "dff_le_samp['type'] = 'lab_samp'\n",
    "dff_le_samp['mask'] = np.nan\n",
    "dff_le_samp['label'] = dff_le_samp['label']+'_sam'\n",
    "dff_le_samp['label2'] = dff_le_samp['label']\n",
    "\n",
    "dff_emar = df_emar[df_emar['hadm_id']==hid].query(f\"medication.isin({list_emar})\")\n",
    "dff_emar = dff_emar[['charttime','medication']].sort_values('charttime',ascending=True)\n",
    "dff_emar['value'] = 0\n",
    "dff_emar['value2'] = 1\n",
    "dff_emar['lb'] = 0\n",
    "dff_emar['ub'] = 0\n",
    "dff_emar['label2'] = dff_emar['medication']\n",
    "dff_emar['type'] = 'med'\n",
    "dff_emar['time_grid'] = ( (dff_emar['charttime'] - t_in) / np.timedelta64(1, 'm')).astype(int)\n",
    "dff_emar = dff_emar[dff_emar['time_grid']>0]\n",
    "dff_emar = dff_emar.rename(columns={'medication':'label'})\n",
    "dff_emar\n",
    "\n",
    "df_con = pd.concat([dff_che,dff_le,dff_emar,dff_le_samp],ignore_index=True) # ignore_index is necessary\n",
    "df_con"
   ]
  },
  {
   "cell_type": "code",
   "execution_count": 15,
   "metadata": {},
   "outputs": [
    {
     "data": {
      "text/html": [
       "<div>\n",
       "<style scoped>\n",
       "    .dataframe tbody tr th:only-of-type {\n",
       "        vertical-align: middle;\n",
       "    }\n",
       "\n",
       "    .dataframe tbody tr th {\n",
       "        vertical-align: top;\n",
       "    }\n",
       "\n",
       "    .dataframe thead th {\n",
       "        text-align: right;\n",
       "    }\n",
       "</style>\n",
       "<table border=\"1\" class=\"dataframe\">\n",
       "  <thead>\n",
       "    <tr style=\"text-align: right;\">\n",
       "      <th></th>\n",
       "      <th>charttime</th>\n",
       "      <th>itemid</th>\n",
       "      <th>value</th>\n",
       "      <th>label</th>\n",
       "      <th>type</th>\n",
       "      <th>mask</th>\n",
       "      <th>lb</th>\n",
       "      <th>ub</th>\n",
       "      <th>time_grid</th>\n",
       "      <th>value2</th>\n",
       "      <th>label2</th>\n",
       "    </tr>\n",
       "  </thead>\n",
       "  <tbody>\n",
       "  </tbody>\n",
       "</table>\n",
       "</div>"
      ],
      "text/plain": [
       "Empty DataFrame\n",
       "Columns: [charttime, itemid, value, label, type, mask, lb, ub, time_grid, value2, label2]\n",
       "Index: []"
      ]
     },
     "execution_count": 15,
     "metadata": {},
     "output_type": "execute_result"
    },
    {
     "data": {
      "text/html": [
       "<div>\n",
       "<style scoped>\n",
       "    .dataframe tbody tr th:only-of-type {\n",
       "        vertical-align: middle;\n",
       "    }\n",
       "\n",
       "    .dataframe tbody tr th {\n",
       "        vertical-align: top;\n",
       "    }\n",
       "\n",
       "    .dataframe thead th {\n",
       "        text-align: right;\n",
       "    }\n",
       "</style>\n",
       "<table border=\"1\" class=\"dataframe\">\n",
       "  <thead>\n",
       "    <tr style=\"text-align: right;\">\n",
       "      <th></th>\n",
       "      <th>charttime</th>\n",
       "      <th>itemid</th>\n",
       "      <th>value</th>\n",
       "      <th>label</th>\n",
       "      <th>type</th>\n",
       "      <th>mask</th>\n",
       "      <th>lb</th>\n",
       "      <th>ub</th>\n",
       "      <th>time_grid</th>\n",
       "      <th>value2</th>\n",
       "      <th>label2</th>\n",
       "    </tr>\n",
       "  </thead>\n",
       "  <tbody>\n",
       "  </tbody>\n",
       "</table>\n",
       "</div>"
      ],
      "text/plain": [
       "Empty DataFrame\n",
       "Columns: [charttime, itemid, value, label, type, mask, lb, ub, time_grid, value2, label2]\n",
       "Index: []"
      ]
     },
     "execution_count": 15,
     "metadata": {},
     "output_type": "execute_result"
    },
    {
     "name": "stdout",
     "output_type": "stream",
     "text": [
      "0 Chloride\n",
      "1 Creatinine\n",
      "2 Lactate\n",
      "3 Potassium\n",
      "4 Sodium\n",
      "5 Urea Nitrogen\n"
     ]
    },
    {
     "data": {
      "text/html": [
       "<div>\n",
       "<style scoped>\n",
       "    .dataframe tbody tr th:only-of-type {\n",
       "        vertical-align: middle;\n",
       "    }\n",
       "\n",
       "    .dataframe tbody tr th {\n",
       "        vertical-align: top;\n",
       "    }\n",
       "\n",
       "    .dataframe thead th {\n",
       "        text-align: right;\n",
       "    }\n",
       "</style>\n",
       "<table border=\"1\" class=\"dataframe\">\n",
       "  <thead>\n",
       "    <tr style=\"text-align: right;\">\n",
       "      <th></th>\n",
       "      <th>charttime</th>\n",
       "      <th>itemid</th>\n",
       "      <th>value</th>\n",
       "      <th>label</th>\n",
       "      <th>type</th>\n",
       "      <th>mask</th>\n",
       "      <th>lb</th>\n",
       "      <th>ub</th>\n",
       "      <th>time_grid</th>\n",
       "      <th>value2</th>\n",
       "      <th>label2</th>\n",
       "      <th>value_n</th>\n",
       "    </tr>\n",
       "  </thead>\n",
       "  <tbody>\n",
       "    <tr>\n",
       "      <th>156</th>\n",
       "      <td>2161-12-03 17:36:00</td>\n",
       "      <td>50902.0</td>\n",
       "      <td>115.0</td>\n",
       "      <td>Chloride</td>\n",
       "      <td>lab</td>\n",
       "      <td>H</td>\n",
       "      <td>96.0</td>\n",
       "      <td>108.0</td>\n",
       "      <td>261</td>\n",
       "      <td>1</td>\n",
       "      <td>Chloride H</td>\n",
       "      <td>0.920358</td>\n",
       "    </tr>\n",
       "    <tr>\n",
       "      <th>157</th>\n",
       "      <td>2161-12-03 21:05:00</td>\n",
       "      <td>50902.0</td>\n",
       "      <td>115.0</td>\n",
       "      <td>Chloride</td>\n",
       "      <td>lab</td>\n",
       "      <td>H</td>\n",
       "      <td>96.0</td>\n",
       "      <td>108.0</td>\n",
       "      <td>470</td>\n",
       "      <td>0</td>\n",
       "      <td>NaN</td>\n",
       "      <td>0.920358</td>\n",
       "    </tr>\n",
       "    <tr>\n",
       "      <th>158</th>\n",
       "      <td>2161-12-04 03:41:00</td>\n",
       "      <td>50902.0</td>\n",
       "      <td>113.0</td>\n",
       "      <td>Chloride</td>\n",
       "      <td>lab</td>\n",
       "      <td>H</td>\n",
       "      <td>96.0</td>\n",
       "      <td>108.0</td>\n",
       "      <td>866</td>\n",
       "      <td>0</td>\n",
       "      <td>NaN</td>\n",
       "      <td>-0.613572</td>\n",
       "    </tr>\n",
       "    <tr>\n",
       "      <th>159</th>\n",
       "      <td>2161-12-04 13:17:00</td>\n",
       "      <td>50902.0</td>\n",
       "      <td>114.0</td>\n",
       "      <td>Chloride</td>\n",
       "      <td>lab</td>\n",
       "      <td>H</td>\n",
       "      <td>96.0</td>\n",
       "      <td>108.0</td>\n",
       "      <td>1442</td>\n",
       "      <td>0</td>\n",
       "      <td>NaN</td>\n",
       "      <td>0.153393</td>\n",
       "    </tr>\n",
       "    <tr>\n",
       "      <th>160</th>\n",
       "      <td>2161-12-05 02:13:00</td>\n",
       "      <td>50902.0</td>\n",
       "      <td>112.0</td>\n",
       "      <td>Chloride</td>\n",
       "      <td>lab</td>\n",
       "      <td>H</td>\n",
       "      <td>96.0</td>\n",
       "      <td>108.0</td>\n",
       "      <td>2218</td>\n",
       "      <td>0</td>\n",
       "      <td>NaN</td>\n",
       "      <td>-1.380537</td>\n",
       "    </tr>\n",
       "    <tr>\n",
       "      <th>161</th>\n",
       "      <td>2161-12-03 17:36:00</td>\n",
       "      <td>50912.0</td>\n",
       "      <td>1.7</td>\n",
       "      <td>Creatinine</td>\n",
       "      <td>lab</td>\n",
       "      <td>H</td>\n",
       "      <td>0.5</td>\n",
       "      <td>1.2</td>\n",
       "      <td>261</td>\n",
       "      <td>1</td>\n",
       "      <td>Creatinine H</td>\n",
       "      <td>3.630988</td>\n",
       "    </tr>\n",
       "    <tr>\n",
       "      <th>162</th>\n",
       "      <td>2161-12-03 21:05:00</td>\n",
       "      <td>50912.0</td>\n",
       "      <td>1.8</td>\n",
       "      <td>Creatinine</td>\n",
       "      <td>lab</td>\n",
       "      <td>H</td>\n",
       "      <td>0.5</td>\n",
       "      <td>1.2</td>\n",
       "      <td>470</td>\n",
       "      <td>0</td>\n",
       "      <td>NaN</td>\n",
       "      <td>4.092253</td>\n",
       "    </tr>\n",
       "    <tr>\n",
       "      <th>163</th>\n",
       "      <td>2161-12-04 03:41:00</td>\n",
       "      <td>50912.0</td>\n",
       "      <td>1.8</td>\n",
       "      <td>Creatinine</td>\n",
       "      <td>lab</td>\n",
       "      <td>H</td>\n",
       "      <td>0.5</td>\n",
       "      <td>1.2</td>\n",
       "      <td>866</td>\n",
       "      <td>0</td>\n",
       "      <td>NaN</td>\n",
       "      <td>4.092253</td>\n",
       "    </tr>\n",
       "    <tr>\n",
       "      <th>164</th>\n",
       "      <td>2161-12-04 13:17:00</td>\n",
       "      <td>50912.0</td>\n",
       "      <td>1.5</td>\n",
       "      <td>Creatinine</td>\n",
       "      <td>lab</td>\n",
       "      <td>H</td>\n",
       "      <td>0.5</td>\n",
       "      <td>1.2</td>\n",
       "      <td>1442</td>\n",
       "      <td>0</td>\n",
       "      <td>NaN</td>\n",
       "      <td>2.708456</td>\n",
       "    </tr>\n",
       "    <tr>\n",
       "      <th>165</th>\n",
       "      <td>2161-12-05 02:13:00</td>\n",
       "      <td>50912.0</td>\n",
       "      <td>2.1</td>\n",
       "      <td>Creatinine</td>\n",
       "      <td>lab</td>\n",
       "      <td>H</td>\n",
       "      <td>0.5</td>\n",
       "      <td>1.2</td>\n",
       "      <td>2218</td>\n",
       "      <td>0</td>\n",
       "      <td>NaN</td>\n",
       "      <td>5.476050</td>\n",
       "    </tr>\n",
       "    <tr>\n",
       "      <th>144</th>\n",
       "      <td>2161-12-03 13:27:00</td>\n",
       "      <td>50813.0</td>\n",
       "      <td>7.0</td>\n",
       "      <td>Lactate</td>\n",
       "      <td>lab</td>\n",
       "      <td>H</td>\n",
       "      <td>0.5</td>\n",
       "      <td>2.0</td>\n",
       "      <td>12</td>\n",
       "      <td>1</td>\n",
       "      <td>Lactate H</td>\n",
       "      <td>9.034893</td>\n",
       "    </tr>\n",
       "    <tr>\n",
       "      <th>145</th>\n",
       "      <td>2161-12-03 16:27:00</td>\n",
       "      <td>50813.0</td>\n",
       "      <td>3.1</td>\n",
       "      <td>Lactate</td>\n",
       "      <td>lab</td>\n",
       "      <td>H</td>\n",
       "      <td>0.5</td>\n",
       "      <td>2.0</td>\n",
       "      <td>192</td>\n",
       "      <td>0</td>\n",
       "      <td>NaN</td>\n",
       "      <td>7.789829</td>\n",
       "    </tr>\n",
       "    <tr>\n",
       "      <th>146</th>\n",
       "      <td>2161-12-03 20:42:00</td>\n",
       "      <td>50813.0</td>\n",
       "      <td>2.3</td>\n",
       "      <td>Lactate</td>\n",
       "      <td>lab</td>\n",
       "      <td>H</td>\n",
       "      <td>0.5</td>\n",
       "      <td>2.0</td>\n",
       "      <td>447</td>\n",
       "      <td>0</td>\n",
       "      <td>NaN</td>\n",
       "      <td>7.534431</td>\n",
       "    </tr>\n",
       "    <tr>\n",
       "      <th>147</th>\n",
       "      <td>2161-12-03 21:06:00</td>\n",
       "      <td>50813.0</td>\n",
       "      <td>1.7</td>\n",
       "      <td>Lactate</td>\n",
       "      <td>lab</td>\n",
       "      <td>N</td>\n",
       "      <td>0.5</td>\n",
       "      <td>2.0</td>\n",
       "      <td>471</td>\n",
       "      <td>1</td>\n",
       "      <td>Lactate N</td>\n",
       "      <td>7.342883</td>\n",
       "    </tr>\n",
       "    <tr>\n",
       "      <th>148</th>\n",
       "      <td>2161-12-03 23:32:00</td>\n",
       "      <td>50813.0</td>\n",
       "      <td>1.8</td>\n",
       "      <td>Lactate</td>\n",
       "      <td>lab</td>\n",
       "      <td>N</td>\n",
       "      <td>0.5</td>\n",
       "      <td>2.0</td>\n",
       "      <td>617</td>\n",
       "      <td>0</td>\n",
       "      <td>NaN</td>\n",
       "      <td>7.374808</td>\n",
       "    </tr>\n",
       "    <tr>\n",
       "      <th>149</th>\n",
       "      <td>2161-12-04 03:57:00</td>\n",
       "      <td>50813.0</td>\n",
       "      <td>1.5</td>\n",
       "      <td>Lactate</td>\n",
       "      <td>lab</td>\n",
       "      <td>N</td>\n",
       "      <td>0.5</td>\n",
       "      <td>2.0</td>\n",
       "      <td>882</td>\n",
       "      <td>0</td>\n",
       "      <td>NaN</td>\n",
       "      <td>7.279034</td>\n",
       "    </tr>\n",
       "    <tr>\n",
       "      <th>150</th>\n",
       "      <td>2161-12-04 08:39:00</td>\n",
       "      <td>50813.0</td>\n",
       "      <td>1.4</td>\n",
       "      <td>Lactate</td>\n",
       "      <td>lab</td>\n",
       "      <td>N</td>\n",
       "      <td>0.5</td>\n",
       "      <td>2.0</td>\n",
       "      <td>1164</td>\n",
       "      <td>0</td>\n",
       "      <td>NaN</td>\n",
       "      <td>7.247109</td>\n",
       "    </tr>\n",
       "    <tr>\n",
       "      <th>151</th>\n",
       "      <td>2161-12-04 20:42:00</td>\n",
       "      <td>50813.0</td>\n",
       "      <td>1.5</td>\n",
       "      <td>Lactate</td>\n",
       "      <td>lab</td>\n",
       "      <td>N</td>\n",
       "      <td>0.5</td>\n",
       "      <td>2.0</td>\n",
       "      <td>1887</td>\n",
       "      <td>0</td>\n",
       "      <td>NaN</td>\n",
       "      <td>7.279034</td>\n",
       "    </tr>\n",
       "    <tr>\n",
       "      <th>152</th>\n",
       "      <td>2161-12-04 22:26:00</td>\n",
       "      <td>50813.0</td>\n",
       "      <td>2.0</td>\n",
       "      <td>Lactate</td>\n",
       "      <td>lab</td>\n",
       "      <td>N</td>\n",
       "      <td>0.5</td>\n",
       "      <td>2.0</td>\n",
       "      <td>1991</td>\n",
       "      <td>0</td>\n",
       "      <td>NaN</td>\n",
       "      <td>7.438657</td>\n",
       "    </tr>\n",
       "    <tr>\n",
       "      <th>153</th>\n",
       "      <td>2161-12-05 02:27:00</td>\n",
       "      <td>50813.0</td>\n",
       "      <td>4.5</td>\n",
       "      <td>Lactate</td>\n",
       "      <td>lab</td>\n",
       "      <td>H</td>\n",
       "      <td>0.5</td>\n",
       "      <td>2.0</td>\n",
       "      <td>2232</td>\n",
       "      <td>1</td>\n",
       "      <td>Lactate H</td>\n",
       "      <td>8.236775</td>\n",
       "    </tr>\n",
       "    <tr>\n",
       "      <th>154</th>\n",
       "      <td>2161-12-05 04:54:00</td>\n",
       "      <td>50813.0</td>\n",
       "      <td>7.0</td>\n",
       "      <td>Lactate</td>\n",
       "      <td>lab</td>\n",
       "      <td>H</td>\n",
       "      <td>0.5</td>\n",
       "      <td>2.0</td>\n",
       "      <td>2379</td>\n",
       "      <td>0</td>\n",
       "      <td>NaN</td>\n",
       "      <td>9.034893</td>\n",
       "    </tr>\n",
       "    <tr>\n",
       "      <th>155</th>\n",
       "      <td>2161-12-05 09:11:00</td>\n",
       "      <td>50813.0</td>\n",
       "      <td>11.3</td>\n",
       "      <td>Lactate</td>\n",
       "      <td>lab</td>\n",
       "      <td>H</td>\n",
       "      <td>0.5</td>\n",
       "      <td>2.0</td>\n",
       "      <td>2636</td>\n",
       "      <td>0</td>\n",
       "      <td>NaN</td>\n",
       "      <td>10.407655</td>\n",
       "    </tr>\n",
       "    <tr>\n",
       "      <th>166</th>\n",
       "      <td>2161-12-03 17:36:00</td>\n",
       "      <td>50971.0</td>\n",
       "      <td>4.3</td>\n",
       "      <td>Potassium</td>\n",
       "      <td>lab</td>\n",
       "      <td>N</td>\n",
       "      <td>3.3</td>\n",
       "      <td>5.0</td>\n",
       "      <td>261</td>\n",
       "      <td>0</td>\n",
       "      <td>NaN</td>\n",
       "      <td>12.055048</td>\n",
       "    </tr>\n",
       "    <tr>\n",
       "      <th>167</th>\n",
       "      <td>2161-12-03 21:05:00</td>\n",
       "      <td>50971.0</td>\n",
       "      <td>4.1</td>\n",
       "      <td>Potassium</td>\n",
       "      <td>lab</td>\n",
       "      <td>N</td>\n",
       "      <td>3.3</td>\n",
       "      <td>5.0</td>\n",
       "      <td>470</td>\n",
       "      <td>0</td>\n",
       "      <td>NaN</td>\n",
       "      <td>11.504566</td>\n",
       "    </tr>\n",
       "    <tr>\n",
       "      <th>168</th>\n",
       "      <td>2161-12-04 03:41:00</td>\n",
       "      <td>50971.0</td>\n",
       "      <td>4.0</td>\n",
       "      <td>Potassium</td>\n",
       "      <td>lab</td>\n",
       "      <td>N</td>\n",
       "      <td>3.3</td>\n",
       "      <td>5.0</td>\n",
       "      <td>866</td>\n",
       "      <td>0</td>\n",
       "      <td>NaN</td>\n",
       "      <td>11.229325</td>\n",
       "    </tr>\n",
       "    <tr>\n",
       "      <th>169</th>\n",
       "      <td>2161-12-04 13:17:00</td>\n",
       "      <td>50971.0</td>\n",
       "      <td>4.1</td>\n",
       "      <td>Potassium</td>\n",
       "      <td>lab</td>\n",
       "      <td>N</td>\n",
       "      <td>3.3</td>\n",
       "      <td>5.0</td>\n",
       "      <td>1442</td>\n",
       "      <td>0</td>\n",
       "      <td>NaN</td>\n",
       "      <td>11.504566</td>\n",
       "    </tr>\n",
       "    <tr>\n",
       "      <th>170</th>\n",
       "      <td>2161-12-05 02:13:00</td>\n",
       "      <td>50971.0</td>\n",
       "      <td>4.9</td>\n",
       "      <td>Potassium</td>\n",
       "      <td>lab</td>\n",
       "      <td>N</td>\n",
       "      <td>3.3</td>\n",
       "      <td>5.0</td>\n",
       "      <td>2218</td>\n",
       "      <td>0</td>\n",
       "      <td>NaN</td>\n",
       "      <td>13.706494</td>\n",
       "    </tr>\n",
       "    <tr>\n",
       "      <th>171</th>\n",
       "      <td>2161-12-03 17:36:00</td>\n",
       "      <td>50983.0</td>\n",
       "      <td>149.0</td>\n",
       "      <td>Sodium</td>\n",
       "      <td>lab</td>\n",
       "      <td>H</td>\n",
       "      <td>133.0</td>\n",
       "      <td>145.0</td>\n",
       "      <td>261</td>\n",
       "      <td>1</td>\n",
       "      <td>Sodium H</td>\n",
       "      <td>17.414214</td>\n",
       "    </tr>\n",
       "    <tr>\n",
       "      <th>172</th>\n",
       "      <td>2161-12-03 21:05:00</td>\n",
       "      <td>50983.0</td>\n",
       "      <td>146.0</td>\n",
       "      <td>Sodium</td>\n",
       "      <td>lab</td>\n",
       "      <td>H</td>\n",
       "      <td>133.0</td>\n",
       "      <td>145.0</td>\n",
       "      <td>470</td>\n",
       "      <td>0</td>\n",
       "      <td>NaN</td>\n",
       "      <td>15.292893</td>\n",
       "    </tr>\n",
       "    <tr>\n",
       "      <th>173</th>\n",
       "      <td>2161-12-04 03:41:00</td>\n",
       "      <td>50983.0</td>\n",
       "      <td>148.0</td>\n",
       "      <td>Sodium</td>\n",
       "      <td>lab</td>\n",
       "      <td>H</td>\n",
       "      <td>133.0</td>\n",
       "      <td>145.0</td>\n",
       "      <td>866</td>\n",
       "      <td>0</td>\n",
       "      <td>NaN</td>\n",
       "      <td>16.707107</td>\n",
       "    </tr>\n",
       "    <tr>\n",
       "      <th>174</th>\n",
       "      <td>2161-12-04 13:17:00</td>\n",
       "      <td>50983.0</td>\n",
       "      <td>146.0</td>\n",
       "      <td>Sodium</td>\n",
       "      <td>lab</td>\n",
       "      <td>H</td>\n",
       "      <td>133.0</td>\n",
       "      <td>145.0</td>\n",
       "      <td>1442</td>\n",
       "      <td>0</td>\n",
       "      <td>NaN</td>\n",
       "      <td>15.292893</td>\n",
       "    </tr>\n",
       "    <tr>\n",
       "      <th>175</th>\n",
       "      <td>2161-12-05 02:13:00</td>\n",
       "      <td>50983.0</td>\n",
       "      <td>146.0</td>\n",
       "      <td>Sodium</td>\n",
       "      <td>lab</td>\n",
       "      <td>H</td>\n",
       "      <td>133.0</td>\n",
       "      <td>145.0</td>\n",
       "      <td>2218</td>\n",
       "      <td>0</td>\n",
       "      <td>NaN</td>\n",
       "      <td>15.292893</td>\n",
       "    </tr>\n",
       "    <tr>\n",
       "      <th>176</th>\n",
       "      <td>2161-12-03 17:36:00</td>\n",
       "      <td>51006.0</td>\n",
       "      <td>56.0</td>\n",
       "      <td>Urea Nitrogen</td>\n",
       "      <td>lab</td>\n",
       "      <td>H</td>\n",
       "      <td>6.0</td>\n",
       "      <td>20.0</td>\n",
       "      <td>261</td>\n",
       "      <td>1</td>\n",
       "      <td>Urea Nitrogen H</td>\n",
       "      <td>18.807430</td>\n",
       "    </tr>\n",
       "    <tr>\n",
       "      <th>177</th>\n",
       "      <td>2161-12-03 21:05:00</td>\n",
       "      <td>51006.0</td>\n",
       "      <td>59.0</td>\n",
       "      <td>Urea Nitrogen</td>\n",
       "      <td>lab</td>\n",
       "      <td>H</td>\n",
       "      <td>6.0</td>\n",
       "      <td>20.0</td>\n",
       "      <td>470</td>\n",
       "      <td>0</td>\n",
       "      <td>NaN</td>\n",
       "      <td>19.552786</td>\n",
       "    </tr>\n",
       "    <tr>\n",
       "      <th>178</th>\n",
       "      <td>2161-12-04 03:41:00</td>\n",
       "      <td>51006.0</td>\n",
       "      <td>59.0</td>\n",
       "      <td>Urea Nitrogen</td>\n",
       "      <td>lab</td>\n",
       "      <td>H</td>\n",
       "      <td>6.0</td>\n",
       "      <td>20.0</td>\n",
       "      <td>866</td>\n",
       "      <td>0</td>\n",
       "      <td>NaN</td>\n",
       "      <td>19.552786</td>\n",
       "    </tr>\n",
       "    <tr>\n",
       "      <th>179</th>\n",
       "      <td>2161-12-04 13:17:00</td>\n",
       "      <td>51006.0</td>\n",
       "      <td>65.0</td>\n",
       "      <td>Urea Nitrogen</td>\n",
       "      <td>lab</td>\n",
       "      <td>H</td>\n",
       "      <td>6.0</td>\n",
       "      <td>20.0</td>\n",
       "      <td>1442</td>\n",
       "      <td>0</td>\n",
       "      <td>NaN</td>\n",
       "      <td>21.043498</td>\n",
       "    </tr>\n",
       "    <tr>\n",
       "      <th>180</th>\n",
       "      <td>2161-12-05 02:13:00</td>\n",
       "      <td>51006.0</td>\n",
       "      <td>65.0</td>\n",
       "      <td>Urea Nitrogen</td>\n",
       "      <td>lab</td>\n",
       "      <td>H</td>\n",
       "      <td>6.0</td>\n",
       "      <td>20.0</td>\n",
       "      <td>2218</td>\n",
       "      <td>0</td>\n",
       "      <td>NaN</td>\n",
       "      <td>21.043498</td>\n",
       "    </tr>\n",
       "  </tbody>\n",
       "</table>\n",
       "</div>"
      ],
      "text/plain": [
       "              charttime   itemid  value          label type mask     lb  \\\n",
       "156 2161-12-03 17:36:00  50902.0  115.0       Chloride  lab    H   96.0   \n",
       "157 2161-12-03 21:05:00  50902.0  115.0       Chloride  lab    H   96.0   \n",
       "158 2161-12-04 03:41:00  50902.0  113.0       Chloride  lab    H   96.0   \n",
       "159 2161-12-04 13:17:00  50902.0  114.0       Chloride  lab    H   96.0   \n",
       "160 2161-12-05 02:13:00  50902.0  112.0       Chloride  lab    H   96.0   \n",
       "161 2161-12-03 17:36:00  50912.0    1.7     Creatinine  lab    H    0.5   \n",
       "162 2161-12-03 21:05:00  50912.0    1.8     Creatinine  lab    H    0.5   \n",
       "163 2161-12-04 03:41:00  50912.0    1.8     Creatinine  lab    H    0.5   \n",
       "164 2161-12-04 13:17:00  50912.0    1.5     Creatinine  lab    H    0.5   \n",
       "165 2161-12-05 02:13:00  50912.0    2.1     Creatinine  lab    H    0.5   \n",
       "144 2161-12-03 13:27:00  50813.0    7.0        Lactate  lab    H    0.5   \n",
       "145 2161-12-03 16:27:00  50813.0    3.1        Lactate  lab    H    0.5   \n",
       "146 2161-12-03 20:42:00  50813.0    2.3        Lactate  lab    H    0.5   \n",
       "147 2161-12-03 21:06:00  50813.0    1.7        Lactate  lab    N    0.5   \n",
       "148 2161-12-03 23:32:00  50813.0    1.8        Lactate  lab    N    0.5   \n",
       "149 2161-12-04 03:57:00  50813.0    1.5        Lactate  lab    N    0.5   \n",
       "150 2161-12-04 08:39:00  50813.0    1.4        Lactate  lab    N    0.5   \n",
       "151 2161-12-04 20:42:00  50813.0    1.5        Lactate  lab    N    0.5   \n",
       "152 2161-12-04 22:26:00  50813.0    2.0        Lactate  lab    N    0.5   \n",
       "153 2161-12-05 02:27:00  50813.0    4.5        Lactate  lab    H    0.5   \n",
       "154 2161-12-05 04:54:00  50813.0    7.0        Lactate  lab    H    0.5   \n",
       "155 2161-12-05 09:11:00  50813.0   11.3        Lactate  lab    H    0.5   \n",
       "166 2161-12-03 17:36:00  50971.0    4.3      Potassium  lab    N    3.3   \n",
       "167 2161-12-03 21:05:00  50971.0    4.1      Potassium  lab    N    3.3   \n",
       "168 2161-12-04 03:41:00  50971.0    4.0      Potassium  lab    N    3.3   \n",
       "169 2161-12-04 13:17:00  50971.0    4.1      Potassium  lab    N    3.3   \n",
       "170 2161-12-05 02:13:00  50971.0    4.9      Potassium  lab    N    3.3   \n",
       "171 2161-12-03 17:36:00  50983.0  149.0         Sodium  lab    H  133.0   \n",
       "172 2161-12-03 21:05:00  50983.0  146.0         Sodium  lab    H  133.0   \n",
       "173 2161-12-04 03:41:00  50983.0  148.0         Sodium  lab    H  133.0   \n",
       "174 2161-12-04 13:17:00  50983.0  146.0         Sodium  lab    H  133.0   \n",
       "175 2161-12-05 02:13:00  50983.0  146.0         Sodium  lab    H  133.0   \n",
       "176 2161-12-03 17:36:00  51006.0   56.0  Urea Nitrogen  lab    H    6.0   \n",
       "177 2161-12-03 21:05:00  51006.0   59.0  Urea Nitrogen  lab    H    6.0   \n",
       "178 2161-12-04 03:41:00  51006.0   59.0  Urea Nitrogen  lab    H    6.0   \n",
       "179 2161-12-04 13:17:00  51006.0   65.0  Urea Nitrogen  lab    H    6.0   \n",
       "180 2161-12-05 02:13:00  51006.0   65.0  Urea Nitrogen  lab    H    6.0   \n",
       "\n",
       "        ub  time_grid  value2           label2    value_n  \n",
       "156  108.0        261       1       Chloride H   0.920358  \n",
       "157  108.0        470       0              NaN   0.920358  \n",
       "158  108.0        866       0              NaN  -0.613572  \n",
       "159  108.0       1442       0              NaN   0.153393  \n",
       "160  108.0       2218       0              NaN  -1.380537  \n",
       "161    1.2        261       1     Creatinine H   3.630988  \n",
       "162    1.2        470       0              NaN   4.092253  \n",
       "163    1.2        866       0              NaN   4.092253  \n",
       "164    1.2       1442       0              NaN   2.708456  \n",
       "165    1.2       2218       0              NaN   5.476050  \n",
       "144    2.0         12       1        Lactate H   9.034893  \n",
       "145    2.0        192       0              NaN   7.789829  \n",
       "146    2.0        447       0              NaN   7.534431  \n",
       "147    2.0        471       1        Lactate N   7.342883  \n",
       "148    2.0        617       0              NaN   7.374808  \n",
       "149    2.0        882       0              NaN   7.279034  \n",
       "150    2.0       1164       0              NaN   7.247109  \n",
       "151    2.0       1887       0              NaN   7.279034  \n",
       "152    2.0       1991       0              NaN   7.438657  \n",
       "153    2.0       2232       1        Lactate H   8.236775  \n",
       "154    2.0       2379       0              NaN   9.034893  \n",
       "155    2.0       2636       0              NaN  10.407655  \n",
       "166    5.0        261       0              NaN  12.055048  \n",
       "167    5.0        470       0              NaN  11.504566  \n",
       "168    5.0        866       0              NaN  11.229325  \n",
       "169    5.0       1442       0              NaN  11.504566  \n",
       "170    5.0       2218       0              NaN  13.706494  \n",
       "171  145.0        261       1         Sodium H  17.414214  \n",
       "172  145.0        470       0              NaN  15.292893  \n",
       "173  145.0        866       0              NaN  16.707107  \n",
       "174  145.0       1442       0              NaN  15.292893  \n",
       "175  145.0       2218       0              NaN  15.292893  \n",
       "176   20.0        261       1  Urea Nitrogen H  18.807430  \n",
       "177   20.0        470       0              NaN  19.552786  \n",
       "178   20.0        866       0              NaN  19.552786  \n",
       "179   20.0       1442       0              NaN  21.043498  \n",
       "180   20.0       2218       0              NaN  21.043498  "
      ]
     },
     "execution_count": 15,
     "metadata": {},
     "output_type": "execute_result"
    },
    {
     "name": "stdout",
     "output_type": "stream",
     "text": [
      "****************************************plot timeseries in one plot\n"
     ]
    },
    {
     "data": {
      "application/vnd.plotly.v1+json": {
       "config": {
        "plotlyServerURL": "https://plot.ly"
       },
       "data": [
        {
         "hovertemplate": "label=Chloride<br>time_grid=%{x}<br>value_n=%{y}<extra></extra>",
         "legendgroup": "Chloride",
         "line": {
          "color": "#636efa",
          "dash": "solid"
         },
         "marker": {
          "symbol": "circle"
         },
         "mode": "markers+lines",
         "name": "Chloride",
         "orientation": "v",
         "showlegend": true,
         "type": "scatter",
         "x": [
          261,
          470,
          866,
          1442,
          2218
         ],
         "xaxis": "x",
         "y": [
          0.9203579866168468,
          0.9203579866168468,
          -0.6135719910778942,
          0.15339299776947626,
          -1.3805369799252647
         ],
         "yaxis": "y"
        },
        {
         "hovertemplate": "label=Creatinine<br>time_grid=%{x}<br>value_n=%{y}<extra></extra>",
         "legendgroup": "Creatinine",
         "line": {
          "color": "#EF553B",
          "dash": "solid"
         },
         "marker": {
          "symbol": "circle"
         },
         "mode": "markers+lines",
         "name": "Creatinine",
         "orientation": "v",
         "showlegend": true,
         "type": "scatter",
         "x": [
          261,
          470,
          866,
          1442,
          2218
         ],
         "xaxis": "x",
         "y": [
          3.6309875167884456,
          4.092253120802889,
          4.092253120802889,
          2.708456308759561,
          5.476049932846216
         ],
         "yaxis": "y"
        },
        {
         "hovertemplate": "label=Lactate<br>time_grid=%{x}<br>value_n=%{y}<extra></extra>",
         "legendgroup": "Lactate",
         "line": {
          "color": "#00cc96",
          "dash": "solid"
         },
         "marker": {
          "symbol": "circle"
         },
         "mode": "markers+lines",
         "name": "Lactate",
         "orientation": "v",
         "showlegend": true,
         "type": "scatter",
         "x": [
          12,
          192,
          447,
          471,
          617,
          882,
          1164,
          1887,
          1991,
          2232,
          2379,
          2636
         ],
         "xaxis": "x",
         "y": [
          9.034892610495508,
          7.7898290071230205,
          7.5344313448927664,
          7.342883098220076,
          7.3748078059988575,
          7.279033682662512,
          7.247108974883731,
          7.279033682662512,
          7.438657221556421,
          8.236774916025965,
          9.034892610495508,
          10.407655044983123
         ],
         "yaxis": "y"
        },
        {
         "hovertemplate": "label=Potassium<br>time_grid=%{x}<br>value_n=%{y}<extra></extra>",
         "legendgroup": "Potassium",
         "line": {
          "color": "#ab63fa",
          "dash": "solid"
         },
         "marker": {
          "symbol": "circle"
         },
         "mode": "markers+lines",
         "name": "Potassium",
         "orientation": "v",
         "showlegend": true,
         "type": "scatter",
         "x": [
          261,
          470,
          866,
          1442,
          2218
         ],
         "xaxis": "x",
         "y": [
          12.05504818825632,
          11.504566305693139,
          11.22932536441155,
          11.504566305693139,
          13.70649383594586
         ],
         "yaxis": "y"
        },
        {
         "hovertemplate": "label=Sodium<br>time_grid=%{x}<br>value_n=%{y}<extra></extra>",
         "legendgroup": "Sodium",
         "line": {
          "color": "#FFA15A",
          "dash": "solid"
         },
         "marker": {
          "symbol": "circle"
         },
         "mode": "markers+lines",
         "name": "Sodium",
         "orientation": "v",
         "showlegend": true,
         "type": "scatter",
         "x": [
          261,
          470,
          866,
          1442,
          2218
         ],
         "xaxis": "x",
         "y": [
          17.414213562373096,
          15.292893218813452,
          16.707106781186546,
          15.292893218813452,
          15.292893218813452
         ],
         "yaxis": "y"
        },
        {
         "hovertemplate": "label=Urea Nitrogen<br>time_grid=%{x}<br>value_n=%{y}<extra></extra>",
         "legendgroup": "Urea Nitrogen",
         "line": {
          "color": "#19d3f3",
          "dash": "solid"
         },
         "marker": {
          "symbol": "circle"
         },
         "mode": "markers+lines",
         "name": "Urea Nitrogen",
         "orientation": "v",
         "showlegend": true,
         "type": "scatter",
         "x": [
          261,
          470,
          866,
          1442,
          2218
         ],
         "xaxis": "x",
         "y": [
          18.807430412000112,
          19.552786404500043,
          19.552786404500043,
          21.043498389499902,
          21.043498389499902
         ],
         "yaxis": "y"
        }
       ],
       "layout": {
        "legend": {
         "title": {
          "text": "label"
         },
         "tracegroupgap": 0
        },
        "margin": {
         "t": 60
        },
        "template": {
         "data": {
          "bar": [
           {
            "error_x": {
             "color": "#2a3f5f"
            },
            "error_y": {
             "color": "#2a3f5f"
            },
            "marker": {
             "line": {
              "color": "#E5ECF6",
              "width": 0.5
             },
             "pattern": {
              "fillmode": "overlay",
              "size": 10,
              "solidity": 0.2
             }
            },
            "type": "bar"
           }
          ],
          "barpolar": [
           {
            "marker": {
             "line": {
              "color": "#E5ECF6",
              "width": 0.5
             },
             "pattern": {
              "fillmode": "overlay",
              "size": 10,
              "solidity": 0.2
             }
            },
            "type": "barpolar"
           }
          ],
          "carpet": [
           {
            "aaxis": {
             "endlinecolor": "#2a3f5f",
             "gridcolor": "white",
             "linecolor": "white",
             "minorgridcolor": "white",
             "startlinecolor": "#2a3f5f"
            },
            "baxis": {
             "endlinecolor": "#2a3f5f",
             "gridcolor": "white",
             "linecolor": "white",
             "minorgridcolor": "white",
             "startlinecolor": "#2a3f5f"
            },
            "type": "carpet"
           }
          ],
          "choropleth": [
           {
            "colorbar": {
             "outlinewidth": 0,
             "ticks": ""
            },
            "type": "choropleth"
           }
          ],
          "contour": [
           {
            "colorbar": {
             "outlinewidth": 0,
             "ticks": ""
            },
            "colorscale": [
             [
              0,
              "#0d0887"
             ],
             [
              0.1111111111111111,
              "#46039f"
             ],
             [
              0.2222222222222222,
              "#7201a8"
             ],
             [
              0.3333333333333333,
              "#9c179e"
             ],
             [
              0.4444444444444444,
              "#bd3786"
             ],
             [
              0.5555555555555556,
              "#d8576b"
             ],
             [
              0.6666666666666666,
              "#ed7953"
             ],
             [
              0.7777777777777778,
              "#fb9f3a"
             ],
             [
              0.8888888888888888,
              "#fdca26"
             ],
             [
              1,
              "#f0f921"
             ]
            ],
            "type": "contour"
           }
          ],
          "contourcarpet": [
           {
            "colorbar": {
             "outlinewidth": 0,
             "ticks": ""
            },
            "type": "contourcarpet"
           }
          ],
          "heatmap": [
           {
            "colorbar": {
             "outlinewidth": 0,
             "ticks": ""
            },
            "colorscale": [
             [
              0,
              "#0d0887"
             ],
             [
              0.1111111111111111,
              "#46039f"
             ],
             [
              0.2222222222222222,
              "#7201a8"
             ],
             [
              0.3333333333333333,
              "#9c179e"
             ],
             [
              0.4444444444444444,
              "#bd3786"
             ],
             [
              0.5555555555555556,
              "#d8576b"
             ],
             [
              0.6666666666666666,
              "#ed7953"
             ],
             [
              0.7777777777777778,
              "#fb9f3a"
             ],
             [
              0.8888888888888888,
              "#fdca26"
             ],
             [
              1,
              "#f0f921"
             ]
            ],
            "type": "heatmap"
           }
          ],
          "heatmapgl": [
           {
            "colorbar": {
             "outlinewidth": 0,
             "ticks": ""
            },
            "colorscale": [
             [
              0,
              "#0d0887"
             ],
             [
              0.1111111111111111,
              "#46039f"
             ],
             [
              0.2222222222222222,
              "#7201a8"
             ],
             [
              0.3333333333333333,
              "#9c179e"
             ],
             [
              0.4444444444444444,
              "#bd3786"
             ],
             [
              0.5555555555555556,
              "#d8576b"
             ],
             [
              0.6666666666666666,
              "#ed7953"
             ],
             [
              0.7777777777777778,
              "#fb9f3a"
             ],
             [
              0.8888888888888888,
              "#fdca26"
             ],
             [
              1,
              "#f0f921"
             ]
            ],
            "type": "heatmapgl"
           }
          ],
          "histogram": [
           {
            "marker": {
             "pattern": {
              "fillmode": "overlay",
              "size": 10,
              "solidity": 0.2
             }
            },
            "type": "histogram"
           }
          ],
          "histogram2d": [
           {
            "colorbar": {
             "outlinewidth": 0,
             "ticks": ""
            },
            "colorscale": [
             [
              0,
              "#0d0887"
             ],
             [
              0.1111111111111111,
              "#46039f"
             ],
             [
              0.2222222222222222,
              "#7201a8"
             ],
             [
              0.3333333333333333,
              "#9c179e"
             ],
             [
              0.4444444444444444,
              "#bd3786"
             ],
             [
              0.5555555555555556,
              "#d8576b"
             ],
             [
              0.6666666666666666,
              "#ed7953"
             ],
             [
              0.7777777777777778,
              "#fb9f3a"
             ],
             [
              0.8888888888888888,
              "#fdca26"
             ],
             [
              1,
              "#f0f921"
             ]
            ],
            "type": "histogram2d"
           }
          ],
          "histogram2dcontour": [
           {
            "colorbar": {
             "outlinewidth": 0,
             "ticks": ""
            },
            "colorscale": [
             [
              0,
              "#0d0887"
             ],
             [
              0.1111111111111111,
              "#46039f"
             ],
             [
              0.2222222222222222,
              "#7201a8"
             ],
             [
              0.3333333333333333,
              "#9c179e"
             ],
             [
              0.4444444444444444,
              "#bd3786"
             ],
             [
              0.5555555555555556,
              "#d8576b"
             ],
             [
              0.6666666666666666,
              "#ed7953"
             ],
             [
              0.7777777777777778,
              "#fb9f3a"
             ],
             [
              0.8888888888888888,
              "#fdca26"
             ],
             [
              1,
              "#f0f921"
             ]
            ],
            "type": "histogram2dcontour"
           }
          ],
          "mesh3d": [
           {
            "colorbar": {
             "outlinewidth": 0,
             "ticks": ""
            },
            "type": "mesh3d"
           }
          ],
          "parcoords": [
           {
            "line": {
             "colorbar": {
              "outlinewidth": 0,
              "ticks": ""
             }
            },
            "type": "parcoords"
           }
          ],
          "pie": [
           {
            "automargin": true,
            "type": "pie"
           }
          ],
          "scatter": [
           {
            "marker": {
             "colorbar": {
              "outlinewidth": 0,
              "ticks": ""
             }
            },
            "type": "scatter"
           }
          ],
          "scatter3d": [
           {
            "line": {
             "colorbar": {
              "outlinewidth": 0,
              "ticks": ""
             }
            },
            "marker": {
             "colorbar": {
              "outlinewidth": 0,
              "ticks": ""
             }
            },
            "type": "scatter3d"
           }
          ],
          "scattercarpet": [
           {
            "marker": {
             "colorbar": {
              "outlinewidth": 0,
              "ticks": ""
             }
            },
            "type": "scattercarpet"
           }
          ],
          "scattergeo": [
           {
            "marker": {
             "colorbar": {
              "outlinewidth": 0,
              "ticks": ""
             }
            },
            "type": "scattergeo"
           }
          ],
          "scattergl": [
           {
            "marker": {
             "colorbar": {
              "outlinewidth": 0,
              "ticks": ""
             }
            },
            "type": "scattergl"
           }
          ],
          "scattermapbox": [
           {
            "marker": {
             "colorbar": {
              "outlinewidth": 0,
              "ticks": ""
             }
            },
            "type": "scattermapbox"
           }
          ],
          "scatterpolar": [
           {
            "marker": {
             "colorbar": {
              "outlinewidth": 0,
              "ticks": ""
             }
            },
            "type": "scatterpolar"
           }
          ],
          "scatterpolargl": [
           {
            "marker": {
             "colorbar": {
              "outlinewidth": 0,
              "ticks": ""
             }
            },
            "type": "scatterpolargl"
           }
          ],
          "scatterternary": [
           {
            "marker": {
             "colorbar": {
              "outlinewidth": 0,
              "ticks": ""
             }
            },
            "type": "scatterternary"
           }
          ],
          "surface": [
           {
            "colorbar": {
             "outlinewidth": 0,
             "ticks": ""
            },
            "colorscale": [
             [
              0,
              "#0d0887"
             ],
             [
              0.1111111111111111,
              "#46039f"
             ],
             [
              0.2222222222222222,
              "#7201a8"
             ],
             [
              0.3333333333333333,
              "#9c179e"
             ],
             [
              0.4444444444444444,
              "#bd3786"
             ],
             [
              0.5555555555555556,
              "#d8576b"
             ],
             [
              0.6666666666666666,
              "#ed7953"
             ],
             [
              0.7777777777777778,
              "#fb9f3a"
             ],
             [
              0.8888888888888888,
              "#fdca26"
             ],
             [
              1,
              "#f0f921"
             ]
            ],
            "type": "surface"
           }
          ],
          "table": [
           {
            "cells": {
             "fill": {
              "color": "#EBF0F8"
             },
             "line": {
              "color": "white"
             }
            },
            "header": {
             "fill": {
              "color": "#C8D4E3"
             },
             "line": {
              "color": "white"
             }
            },
            "type": "table"
           }
          ]
         },
         "layout": {
          "annotationdefaults": {
           "arrowcolor": "#2a3f5f",
           "arrowhead": 0,
           "arrowwidth": 1
          },
          "autotypenumbers": "strict",
          "coloraxis": {
           "colorbar": {
            "outlinewidth": 0,
            "ticks": ""
           }
          },
          "colorscale": {
           "diverging": [
            [
             0,
             "#8e0152"
            ],
            [
             0.1,
             "#c51b7d"
            ],
            [
             0.2,
             "#de77ae"
            ],
            [
             0.3,
             "#f1b6da"
            ],
            [
             0.4,
             "#fde0ef"
            ],
            [
             0.5,
             "#f7f7f7"
            ],
            [
             0.6,
             "#e6f5d0"
            ],
            [
             0.7,
             "#b8e186"
            ],
            [
             0.8,
             "#7fbc41"
            ],
            [
             0.9,
             "#4d9221"
            ],
            [
             1,
             "#276419"
            ]
           ],
           "sequential": [
            [
             0,
             "#0d0887"
            ],
            [
             0.1111111111111111,
             "#46039f"
            ],
            [
             0.2222222222222222,
             "#7201a8"
            ],
            [
             0.3333333333333333,
             "#9c179e"
            ],
            [
             0.4444444444444444,
             "#bd3786"
            ],
            [
             0.5555555555555556,
             "#d8576b"
            ],
            [
             0.6666666666666666,
             "#ed7953"
            ],
            [
             0.7777777777777778,
             "#fb9f3a"
            ],
            [
             0.8888888888888888,
             "#fdca26"
            ],
            [
             1,
             "#f0f921"
            ]
           ],
           "sequentialminus": [
            [
             0,
             "#0d0887"
            ],
            [
             0.1111111111111111,
             "#46039f"
            ],
            [
             0.2222222222222222,
             "#7201a8"
            ],
            [
             0.3333333333333333,
             "#9c179e"
            ],
            [
             0.4444444444444444,
             "#bd3786"
            ],
            [
             0.5555555555555556,
             "#d8576b"
            ],
            [
             0.6666666666666666,
             "#ed7953"
            ],
            [
             0.7777777777777778,
             "#fb9f3a"
            ],
            [
             0.8888888888888888,
             "#fdca26"
            ],
            [
             1,
             "#f0f921"
            ]
           ]
          },
          "colorway": [
           "#636efa",
           "#EF553B",
           "#00cc96",
           "#ab63fa",
           "#FFA15A",
           "#19d3f3",
           "#FF6692",
           "#B6E880",
           "#FF97FF",
           "#FECB52"
          ],
          "font": {
           "color": "#2a3f5f"
          },
          "geo": {
           "bgcolor": "white",
           "lakecolor": "white",
           "landcolor": "#E5ECF6",
           "showlakes": true,
           "showland": true,
           "subunitcolor": "white"
          },
          "hoverlabel": {
           "align": "left"
          },
          "hovermode": "closest",
          "mapbox": {
           "style": "light"
          },
          "paper_bgcolor": "white",
          "plot_bgcolor": "#E5ECF6",
          "polar": {
           "angularaxis": {
            "gridcolor": "white",
            "linecolor": "white",
            "ticks": ""
           },
           "bgcolor": "#E5ECF6",
           "radialaxis": {
            "gridcolor": "white",
            "linecolor": "white",
            "ticks": ""
           }
          },
          "scene": {
           "xaxis": {
            "backgroundcolor": "#E5ECF6",
            "gridcolor": "white",
            "gridwidth": 2,
            "linecolor": "white",
            "showbackground": true,
            "ticks": "",
            "zerolinecolor": "white"
           },
           "yaxis": {
            "backgroundcolor": "#E5ECF6",
            "gridcolor": "white",
            "gridwidth": 2,
            "linecolor": "white",
            "showbackground": true,
            "ticks": "",
            "zerolinecolor": "white"
           },
           "zaxis": {
            "backgroundcolor": "#E5ECF6",
            "gridcolor": "white",
            "gridwidth": 2,
            "linecolor": "white",
            "showbackground": true,
            "ticks": "",
            "zerolinecolor": "white"
           }
          },
          "shapedefaults": {
           "line": {
            "color": "#2a3f5f"
           }
          },
          "ternary": {
           "aaxis": {
            "gridcolor": "white",
            "linecolor": "white",
            "ticks": ""
           },
           "baxis": {
            "gridcolor": "white",
            "linecolor": "white",
            "ticks": ""
           },
           "bgcolor": "#E5ECF6",
           "caxis": {
            "gridcolor": "white",
            "linecolor": "white",
            "ticks": ""
           }
          },
          "title": {
           "x": 0.05
          },
          "xaxis": {
           "automargin": true,
           "gridcolor": "white",
           "linecolor": "white",
           "ticks": "",
           "title": {
            "standoff": 15
           },
           "zerolinecolor": "white",
           "zerolinewidth": 2
          },
          "yaxis": {
           "automargin": true,
           "gridcolor": "white",
           "linecolor": "white",
           "ticks": "",
           "title": {
            "standoff": 15
           },
           "zerolinecolor": "white",
           "zerolinewidth": 2
          }
         }
        },
        "xaxis": {
         "anchor": "y",
         "domain": [
          0,
          1
         ],
         "range": [
          0,
          2637
         ],
         "title": {
          "text": "time_grid"
         }
        },
        "yaxis": {
         "anchor": "x",
         "domain": [
          0,
          1
         ],
         "title": {
          "text": "value_n"
         }
        }
       }
      }
     },
     "metadata": {},
     "output_type": "display_data"
    },
    {
     "name": "stdout",
     "output_type": "stream",
     "text": [
      "****************************************plot timeseries in subplots\n",
      "['Chloride' 'Creatinine' 'Lactate' 'Potassium' 'Sodium' 'Urea Nitrogen']\n",
      "['vital' 'lab' 'med' 'lab_samp']\n"
     ]
    },
    {
     "data": {
      "application/vnd.plotly.v1+json": {
       "config": {
        "plotlyServerURL": "https://plot.ly"
       },
       "data": [
        {
         "mode": "lines+markers",
         "name": "Chloride",
         "showlegend": false,
         "type": "scatter",
         "x": [
          261,
          470,
          866,
          1442,
          2218
         ],
         "xaxis": "x",
         "y": [
          115,
          115,
          113,
          114,
          112
         ],
         "yaxis": "y"
        },
        {
         "mode": "lines+markers",
         "name": "Creatinine",
         "showlegend": false,
         "type": "scatter",
         "x": [
          261,
          470,
          866,
          1442,
          2218
         ],
         "xaxis": "x2",
         "y": [
          1.7,
          1.8,
          1.8,
          1.5,
          2.1
         ],
         "yaxis": "y2"
        },
        {
         "mode": "lines+markers",
         "name": "Lactate",
         "showlegend": false,
         "type": "scatter",
         "x": [
          12,
          192,
          447,
          471,
          617,
          882,
          1164,
          1887,
          1991,
          2232,
          2379,
          2636
         ],
         "xaxis": "x3",
         "y": [
          7,
          3.1,
          2.3,
          1.7,
          1.8,
          1.5,
          1.4,
          1.5,
          2,
          4.5,
          7,
          11.3
         ],
         "yaxis": "y3"
        },
        {
         "mode": "lines+markers",
         "name": "Potassium",
         "showlegend": false,
         "type": "scatter",
         "x": [
          261,
          470,
          866,
          1442,
          2218
         ],
         "xaxis": "x4",
         "y": [
          4.3,
          4.1,
          4,
          4.1,
          4.9
         ],
         "yaxis": "y4"
        },
        {
         "mode": "lines+markers",
         "name": "Sodium",
         "showlegend": false,
         "type": "scatter",
         "x": [
          261,
          470,
          866,
          1442,
          2218
         ],
         "xaxis": "x5",
         "y": [
          149,
          146,
          148,
          146,
          146
         ],
         "yaxis": "y5"
        },
        {
         "mode": "lines+markers",
         "name": "Urea Nitrogen",
         "showlegend": false,
         "type": "scatter",
         "x": [
          261,
          470,
          866,
          1442,
          2218
         ],
         "xaxis": "x6",
         "y": [
          56,
          59,
          59,
          65,
          65
         ],
         "yaxis": "y6"
        }
       ],
       "layout": {
        "annotations": [
         {
          "font": {
           "size": 16
          },
          "showarrow": false,
          "text": "Chloride",
          "x": 0.5,
          "xanchor": "center",
          "xref": "paper",
          "y": 0.9999999999999999,
          "yanchor": "bottom",
          "yref": "paper"
         },
         {
          "font": {
           "size": 16
          },
          "showarrow": false,
          "text": "Creatinine",
          "x": 0.5,
          "xanchor": "center",
          "xref": "paper",
          "y": 0.8194444444444444,
          "yanchor": "bottom",
          "yref": "paper"
         },
         {
          "font": {
           "size": 16
          },
          "showarrow": false,
          "text": "Lactate",
          "x": 0.5,
          "xanchor": "center",
          "xref": "paper",
          "y": 0.638888888888889,
          "yanchor": "bottom",
          "yref": "paper"
         },
         {
          "font": {
           "size": 16
          },
          "showarrow": false,
          "text": "Potassium",
          "x": 0.5,
          "xanchor": "center",
          "xref": "paper",
          "y": 0.4583333333333333,
          "yanchor": "bottom",
          "yref": "paper"
         },
         {
          "font": {
           "size": 16
          },
          "showarrow": false,
          "text": "Sodium",
          "x": 0.5,
          "xanchor": "center",
          "xref": "paper",
          "y": 0.2777777777777778,
          "yanchor": "bottom",
          "yref": "paper"
         },
         {
          "font": {
           "size": 16
          },
          "showarrow": false,
          "text": "Urea Nitrogen",
          "x": 0.5,
          "xanchor": "center",
          "xref": "paper",
          "y": 0.09722222222222222,
          "yanchor": "bottom",
          "yref": "paper"
         }
        ],
        "shapes": [
         {
          "fillcolor": "green",
          "line": {
           "width": 0
          },
          "opacity": 0.2,
          "type": "rect",
          "x0": 0,
          "x1": 1,
          "xref": "x domain",
          "y0": 96,
          "y1": 108,
          "yref": "y"
         },
         {
          "fillcolor": "green",
          "line": {
           "width": 0
          },
          "opacity": 0.2,
          "type": "rect",
          "x0": 0,
          "x1": 1,
          "xref": "x2 domain",
          "y0": 0.5,
          "y1": 1.2,
          "yref": "y2"
         },
         {
          "fillcolor": "green",
          "line": {
           "width": 0
          },
          "opacity": 0.2,
          "type": "rect",
          "x0": 0,
          "x1": 1,
          "xref": "x3 domain",
          "y0": 0.5,
          "y1": 2,
          "yref": "y3"
         },
         {
          "fillcolor": "green",
          "line": {
           "width": 0
          },
          "opacity": 0.2,
          "type": "rect",
          "x0": 0,
          "x1": 1,
          "xref": "x4 domain",
          "y0": 3.3,
          "y1": 5,
          "yref": "y4"
         },
         {
          "fillcolor": "green",
          "line": {
           "width": 0
          },
          "opacity": 0.2,
          "type": "rect",
          "x0": 0,
          "x1": 1,
          "xref": "x5 domain",
          "y0": 133,
          "y1": 145,
          "yref": "y5"
         },
         {
          "fillcolor": "green",
          "line": {
           "width": 0
          },
          "opacity": 0.2,
          "type": "rect",
          "x0": 0,
          "x1": 1,
          "xref": "x6 domain",
          "y0": 6,
          "y1": 20,
          "yref": "y6"
         }
        ],
        "template": {
         "data": {
          "bar": [
           {
            "error_x": {
             "color": "#2a3f5f"
            },
            "error_y": {
             "color": "#2a3f5f"
            },
            "marker": {
             "line": {
              "color": "#E5ECF6",
              "width": 0.5
             },
             "pattern": {
              "fillmode": "overlay",
              "size": 10,
              "solidity": 0.2
             }
            },
            "type": "bar"
           }
          ],
          "barpolar": [
           {
            "marker": {
             "line": {
              "color": "#E5ECF6",
              "width": 0.5
             },
             "pattern": {
              "fillmode": "overlay",
              "size": 10,
              "solidity": 0.2
             }
            },
            "type": "barpolar"
           }
          ],
          "carpet": [
           {
            "aaxis": {
             "endlinecolor": "#2a3f5f",
             "gridcolor": "white",
             "linecolor": "white",
             "minorgridcolor": "white",
             "startlinecolor": "#2a3f5f"
            },
            "baxis": {
             "endlinecolor": "#2a3f5f",
             "gridcolor": "white",
             "linecolor": "white",
             "minorgridcolor": "white",
             "startlinecolor": "#2a3f5f"
            },
            "type": "carpet"
           }
          ],
          "choropleth": [
           {
            "colorbar": {
             "outlinewidth": 0,
             "ticks": ""
            },
            "type": "choropleth"
           }
          ],
          "contour": [
           {
            "colorbar": {
             "outlinewidth": 0,
             "ticks": ""
            },
            "colorscale": [
             [
              0,
              "#0d0887"
             ],
             [
              0.1111111111111111,
              "#46039f"
             ],
             [
              0.2222222222222222,
              "#7201a8"
             ],
             [
              0.3333333333333333,
              "#9c179e"
             ],
             [
              0.4444444444444444,
              "#bd3786"
             ],
             [
              0.5555555555555556,
              "#d8576b"
             ],
             [
              0.6666666666666666,
              "#ed7953"
             ],
             [
              0.7777777777777778,
              "#fb9f3a"
             ],
             [
              0.8888888888888888,
              "#fdca26"
             ],
             [
              1,
              "#f0f921"
             ]
            ],
            "type": "contour"
           }
          ],
          "contourcarpet": [
           {
            "colorbar": {
             "outlinewidth": 0,
             "ticks": ""
            },
            "type": "contourcarpet"
           }
          ],
          "heatmap": [
           {
            "colorbar": {
             "outlinewidth": 0,
             "ticks": ""
            },
            "colorscale": [
             [
              0,
              "#0d0887"
             ],
             [
              0.1111111111111111,
              "#46039f"
             ],
             [
              0.2222222222222222,
              "#7201a8"
             ],
             [
              0.3333333333333333,
              "#9c179e"
             ],
             [
              0.4444444444444444,
              "#bd3786"
             ],
             [
              0.5555555555555556,
              "#d8576b"
             ],
             [
              0.6666666666666666,
              "#ed7953"
             ],
             [
              0.7777777777777778,
              "#fb9f3a"
             ],
             [
              0.8888888888888888,
              "#fdca26"
             ],
             [
              1,
              "#f0f921"
             ]
            ],
            "type": "heatmap"
           }
          ],
          "heatmapgl": [
           {
            "colorbar": {
             "outlinewidth": 0,
             "ticks": ""
            },
            "colorscale": [
             [
              0,
              "#0d0887"
             ],
             [
              0.1111111111111111,
              "#46039f"
             ],
             [
              0.2222222222222222,
              "#7201a8"
             ],
             [
              0.3333333333333333,
              "#9c179e"
             ],
             [
              0.4444444444444444,
              "#bd3786"
             ],
             [
              0.5555555555555556,
              "#d8576b"
             ],
             [
              0.6666666666666666,
              "#ed7953"
             ],
             [
              0.7777777777777778,
              "#fb9f3a"
             ],
             [
              0.8888888888888888,
              "#fdca26"
             ],
             [
              1,
              "#f0f921"
             ]
            ],
            "type": "heatmapgl"
           }
          ],
          "histogram": [
           {
            "marker": {
             "pattern": {
              "fillmode": "overlay",
              "size": 10,
              "solidity": 0.2
             }
            },
            "type": "histogram"
           }
          ],
          "histogram2d": [
           {
            "colorbar": {
             "outlinewidth": 0,
             "ticks": ""
            },
            "colorscale": [
             [
              0,
              "#0d0887"
             ],
             [
              0.1111111111111111,
              "#46039f"
             ],
             [
              0.2222222222222222,
              "#7201a8"
             ],
             [
              0.3333333333333333,
              "#9c179e"
             ],
             [
              0.4444444444444444,
              "#bd3786"
             ],
             [
              0.5555555555555556,
              "#d8576b"
             ],
             [
              0.6666666666666666,
              "#ed7953"
             ],
             [
              0.7777777777777778,
              "#fb9f3a"
             ],
             [
              0.8888888888888888,
              "#fdca26"
             ],
             [
              1,
              "#f0f921"
             ]
            ],
            "type": "histogram2d"
           }
          ],
          "histogram2dcontour": [
           {
            "colorbar": {
             "outlinewidth": 0,
             "ticks": ""
            },
            "colorscale": [
             [
              0,
              "#0d0887"
             ],
             [
              0.1111111111111111,
              "#46039f"
             ],
             [
              0.2222222222222222,
              "#7201a8"
             ],
             [
              0.3333333333333333,
              "#9c179e"
             ],
             [
              0.4444444444444444,
              "#bd3786"
             ],
             [
              0.5555555555555556,
              "#d8576b"
             ],
             [
              0.6666666666666666,
              "#ed7953"
             ],
             [
              0.7777777777777778,
              "#fb9f3a"
             ],
             [
              0.8888888888888888,
              "#fdca26"
             ],
             [
              1,
              "#f0f921"
             ]
            ],
            "type": "histogram2dcontour"
           }
          ],
          "mesh3d": [
           {
            "colorbar": {
             "outlinewidth": 0,
             "ticks": ""
            },
            "type": "mesh3d"
           }
          ],
          "parcoords": [
           {
            "line": {
             "colorbar": {
              "outlinewidth": 0,
              "ticks": ""
             }
            },
            "type": "parcoords"
           }
          ],
          "pie": [
           {
            "automargin": true,
            "type": "pie"
           }
          ],
          "scatter": [
           {
            "marker": {
             "colorbar": {
              "outlinewidth": 0,
              "ticks": ""
             }
            },
            "type": "scatter"
           }
          ],
          "scatter3d": [
           {
            "line": {
             "colorbar": {
              "outlinewidth": 0,
              "ticks": ""
             }
            },
            "marker": {
             "colorbar": {
              "outlinewidth": 0,
              "ticks": ""
             }
            },
            "type": "scatter3d"
           }
          ],
          "scattercarpet": [
           {
            "marker": {
             "colorbar": {
              "outlinewidth": 0,
              "ticks": ""
             }
            },
            "type": "scattercarpet"
           }
          ],
          "scattergeo": [
           {
            "marker": {
             "colorbar": {
              "outlinewidth": 0,
              "ticks": ""
             }
            },
            "type": "scattergeo"
           }
          ],
          "scattergl": [
           {
            "marker": {
             "colorbar": {
              "outlinewidth": 0,
              "ticks": ""
             }
            },
            "type": "scattergl"
           }
          ],
          "scattermapbox": [
           {
            "marker": {
             "colorbar": {
              "outlinewidth": 0,
              "ticks": ""
             }
            },
            "type": "scattermapbox"
           }
          ],
          "scatterpolar": [
           {
            "marker": {
             "colorbar": {
              "outlinewidth": 0,
              "ticks": ""
             }
            },
            "type": "scatterpolar"
           }
          ],
          "scatterpolargl": [
           {
            "marker": {
             "colorbar": {
              "outlinewidth": 0,
              "ticks": ""
             }
            },
            "type": "scatterpolargl"
           }
          ],
          "scatterternary": [
           {
            "marker": {
             "colorbar": {
              "outlinewidth": 0,
              "ticks": ""
             }
            },
            "type": "scatterternary"
           }
          ],
          "surface": [
           {
            "colorbar": {
             "outlinewidth": 0,
             "ticks": ""
            },
            "colorscale": [
             [
              0,
              "#0d0887"
             ],
             [
              0.1111111111111111,
              "#46039f"
             ],
             [
              0.2222222222222222,
              "#7201a8"
             ],
             [
              0.3333333333333333,
              "#9c179e"
             ],
             [
              0.4444444444444444,
              "#bd3786"
             ],
             [
              0.5555555555555556,
              "#d8576b"
             ],
             [
              0.6666666666666666,
              "#ed7953"
             ],
             [
              0.7777777777777778,
              "#fb9f3a"
             ],
             [
              0.8888888888888888,
              "#fdca26"
             ],
             [
              1,
              "#f0f921"
             ]
            ],
            "type": "surface"
           }
          ],
          "table": [
           {
            "cells": {
             "fill": {
              "color": "#EBF0F8"
             },
             "line": {
              "color": "white"
             }
            },
            "header": {
             "fill": {
              "color": "#C8D4E3"
             },
             "line": {
              "color": "white"
             }
            },
            "type": "table"
           }
          ]
         },
         "layout": {
          "annotationdefaults": {
           "arrowcolor": "#2a3f5f",
           "arrowhead": 0,
           "arrowwidth": 1
          },
          "autotypenumbers": "strict",
          "coloraxis": {
           "colorbar": {
            "outlinewidth": 0,
            "ticks": ""
           }
          },
          "colorscale": {
           "diverging": [
            [
             0,
             "#8e0152"
            ],
            [
             0.1,
             "#c51b7d"
            ],
            [
             0.2,
             "#de77ae"
            ],
            [
             0.3,
             "#f1b6da"
            ],
            [
             0.4,
             "#fde0ef"
            ],
            [
             0.5,
             "#f7f7f7"
            ],
            [
             0.6,
             "#e6f5d0"
            ],
            [
             0.7,
             "#b8e186"
            ],
            [
             0.8,
             "#7fbc41"
            ],
            [
             0.9,
             "#4d9221"
            ],
            [
             1,
             "#276419"
            ]
           ],
           "sequential": [
            [
             0,
             "#0d0887"
            ],
            [
             0.1111111111111111,
             "#46039f"
            ],
            [
             0.2222222222222222,
             "#7201a8"
            ],
            [
             0.3333333333333333,
             "#9c179e"
            ],
            [
             0.4444444444444444,
             "#bd3786"
            ],
            [
             0.5555555555555556,
             "#d8576b"
            ],
            [
             0.6666666666666666,
             "#ed7953"
            ],
            [
             0.7777777777777778,
             "#fb9f3a"
            ],
            [
             0.8888888888888888,
             "#fdca26"
            ],
            [
             1,
             "#f0f921"
            ]
           ],
           "sequentialminus": [
            [
             0,
             "#0d0887"
            ],
            [
             0.1111111111111111,
             "#46039f"
            ],
            [
             0.2222222222222222,
             "#7201a8"
            ],
            [
             0.3333333333333333,
             "#9c179e"
            ],
            [
             0.4444444444444444,
             "#bd3786"
            ],
            [
             0.5555555555555556,
             "#d8576b"
            ],
            [
             0.6666666666666666,
             "#ed7953"
            ],
            [
             0.7777777777777778,
             "#fb9f3a"
            ],
            [
             0.8888888888888888,
             "#fdca26"
            ],
            [
             1,
             "#f0f921"
            ]
           ]
          },
          "colorway": [
           "#636efa",
           "#EF553B",
           "#00cc96",
           "#ab63fa",
           "#FFA15A",
           "#19d3f3",
           "#FF6692",
           "#B6E880",
           "#FF97FF",
           "#FECB52"
          ],
          "font": {
           "color": "#2a3f5f"
          },
          "geo": {
           "bgcolor": "white",
           "lakecolor": "white",
           "landcolor": "#E5ECF6",
           "showlakes": true,
           "showland": true,
           "subunitcolor": "white"
          },
          "hoverlabel": {
           "align": "left"
          },
          "hovermode": "closest",
          "mapbox": {
           "style": "light"
          },
          "paper_bgcolor": "white",
          "plot_bgcolor": "#E5ECF6",
          "polar": {
           "angularaxis": {
            "gridcolor": "white",
            "linecolor": "white",
            "ticks": ""
           },
           "bgcolor": "#E5ECF6",
           "radialaxis": {
            "gridcolor": "white",
            "linecolor": "white",
            "ticks": ""
           }
          },
          "scene": {
           "xaxis": {
            "backgroundcolor": "#E5ECF6",
            "gridcolor": "white",
            "gridwidth": 2,
            "linecolor": "white",
            "showbackground": true,
            "ticks": "",
            "zerolinecolor": "white"
           },
           "yaxis": {
            "backgroundcolor": "#E5ECF6",
            "gridcolor": "white",
            "gridwidth": 2,
            "linecolor": "white",
            "showbackground": true,
            "ticks": "",
            "zerolinecolor": "white"
           },
           "zaxis": {
            "backgroundcolor": "#E5ECF6",
            "gridcolor": "white",
            "gridwidth": 2,
            "linecolor": "white",
            "showbackground": true,
            "ticks": "",
            "zerolinecolor": "white"
           }
          },
          "shapedefaults": {
           "line": {
            "color": "#2a3f5f"
           }
          },
          "ternary": {
           "aaxis": {
            "gridcolor": "white",
            "linecolor": "white",
            "ticks": ""
           },
           "baxis": {
            "gridcolor": "white",
            "linecolor": "white",
            "ticks": ""
           },
           "bgcolor": "#E5ECF6",
           "caxis": {
            "gridcolor": "white",
            "linecolor": "white",
            "ticks": ""
           }
          },
          "title": {
           "x": 0.05
          },
          "xaxis": {
           "automargin": true,
           "gridcolor": "white",
           "linecolor": "white",
           "ticks": "",
           "title": {
            "standoff": 15
           },
           "zerolinecolor": "white",
           "zerolinewidth": 2
          },
          "yaxis": {
           "automargin": true,
           "gridcolor": "white",
           "linecolor": "white",
           "ticks": "",
           "title": {
            "standoff": 15
           },
           "zerolinecolor": "white",
           "zerolinewidth": 2
          }
         }
        },
        "xaxis": {
         "anchor": "y",
         "domain": [
          0,
          1
         ],
         "matches": "x6",
         "showticklabels": false
        },
        "xaxis2": {
         "anchor": "y2",
         "domain": [
          0,
          1
         ],
         "matches": "x6",
         "showticklabels": false
        },
        "xaxis3": {
         "anchor": "y3",
         "domain": [
          0,
          1
         ],
         "matches": "x6",
         "showticklabels": false
        },
        "xaxis4": {
         "anchor": "y4",
         "domain": [
          0,
          1
         ],
         "matches": "x6",
         "showticklabels": false
        },
        "xaxis5": {
         "anchor": "y5",
         "domain": [
          0,
          1
         ],
         "matches": "x6",
         "showticklabels": false
        },
        "xaxis6": {
         "anchor": "y6",
         "domain": [
          0,
          1
         ]
        },
        "yaxis": {
         "anchor": "x",
         "domain": [
          0.9027777777777777,
          0.9999999999999999
         ]
        },
        "yaxis2": {
         "anchor": "x2",
         "domain": [
          0.7222222222222222,
          0.8194444444444444
         ]
        },
        "yaxis3": {
         "anchor": "x3",
         "domain": [
          0.5416666666666667,
          0.638888888888889
         ]
        },
        "yaxis4": {
         "anchor": "x4",
         "domain": [
          0.3611111111111111,
          0.4583333333333333
         ]
        },
        "yaxis5": {
         "anchor": "x5",
         "domain": [
          0.18055555555555555,
          0.2777777777777778
         ]
        },
        "yaxis6": {
         "anchor": "x6",
         "domain": [
          0,
          0.09722222222222222
         ]
        }
       }
      }
     },
     "metadata": {},
     "output_type": "display_data"
    },
    {
     "name": "stdout",
     "output_type": "stream",
     "text": [
      "****************************************plot ES data\n"
     ]
    },
    {
     "data": {
      "application/vnd.plotly.v1+json": {
       "config": {
        "plotlyServerURL": "https://plot.ly"
       },
       "data": [
        {
         "hovertemplate": "label2=%{y}<br>time_grid=%{x}<extra></extra>",
         "legendgroup": "Chloride H",
         "marker": {
          "color": "#636efa",
          "line": {
           "color": "DarkSlateGrey",
           "width": 2
          },
          "size": 12,
          "symbol": "circle"
         },
         "mode": "markers",
         "name": "Chloride H",
         "orientation": "h",
         "showlegend": true,
         "type": "scatter",
         "x": [
          261
         ],
         "xaxis": "x",
         "y": [
          "Chloride H"
         ],
         "yaxis": "y"
        },
        {
         "hovertemplate": "label2=%{y}<br>time_grid=%{x}<extra></extra>",
         "legendgroup": "Creatinine H",
         "marker": {
          "color": "#EF553B",
          "line": {
           "color": "DarkSlateGrey",
           "width": 2
          },
          "size": 12,
          "symbol": "circle"
         },
         "mode": "markers",
         "name": "Creatinine H",
         "orientation": "h",
         "showlegend": true,
         "type": "scatter",
         "x": [
          261
         ],
         "xaxis": "x",
         "y": [
          "Creatinine H"
         ],
         "yaxis": "y"
        },
        {
         "hovertemplate": "label2=%{y}<br>time_grid=%{x}<extra></extra>",
         "legendgroup": "Lactate H",
         "marker": {
          "color": "#00cc96",
          "line": {
           "color": "DarkSlateGrey",
           "width": 2
          },
          "size": 12,
          "symbol": "circle"
         },
         "mode": "markers",
         "name": "Lactate H",
         "orientation": "h",
         "showlegend": true,
         "type": "scatter",
         "x": [
          12,
          2232
         ],
         "xaxis": "x",
         "y": [
          "Lactate H",
          "Lactate H"
         ],
         "yaxis": "y"
        },
        {
         "hovertemplate": "label2=%{y}<br>time_grid=%{x}<extra></extra>",
         "legendgroup": "Lactate N",
         "marker": {
          "color": "#ab63fa",
          "line": {
           "color": "DarkSlateGrey",
           "width": 2
          },
          "size": 12,
          "symbol": "circle"
         },
         "mode": "markers",
         "name": "Lactate N",
         "orientation": "h",
         "showlegend": true,
         "type": "scatter",
         "x": [
          471
         ],
         "xaxis": "x",
         "y": [
          "Lactate N"
         ],
         "yaxis": "y"
        },
        {
         "hovertemplate": "label2=%{y}<br>time_grid=%{x}<extra></extra>",
         "legendgroup": "Sodium H",
         "marker": {
          "color": "#FFA15A",
          "line": {
           "color": "DarkSlateGrey",
           "width": 2
          },
          "size": 12,
          "symbol": "circle"
         },
         "mode": "markers",
         "name": "Sodium H",
         "orientation": "h",
         "showlegend": true,
         "type": "scatter",
         "x": [
          261
         ],
         "xaxis": "x",
         "y": [
          "Sodium H"
         ],
         "yaxis": "y"
        },
        {
         "hovertemplate": "label2=%{y}<br>time_grid=%{x}<extra></extra>",
         "legendgroup": "Urea Nitrogen H",
         "marker": {
          "color": "#19d3f3",
          "line": {
           "color": "DarkSlateGrey",
           "width": 2
          },
          "size": 12,
          "symbol": "circle"
         },
         "mode": "markers",
         "name": "Urea Nitrogen H",
         "orientation": "h",
         "showlegend": true,
         "type": "scatter",
         "x": [
          261
         ],
         "xaxis": "x",
         "y": [
          "Urea Nitrogen H"
         ],
         "yaxis": "y"
        }
       ],
       "layout": {
        "legend": {
         "title": {
          "text": "label2"
         },
         "tracegroupgap": 0
        },
        "margin": {
         "t": 60
        },
        "showlegend": false,
        "template": {
         "data": {
          "bar": [
           {
            "error_x": {
             "color": "#2a3f5f"
            },
            "error_y": {
             "color": "#2a3f5f"
            },
            "marker": {
             "line": {
              "color": "#E5ECF6",
              "width": 0.5
             },
             "pattern": {
              "fillmode": "overlay",
              "size": 10,
              "solidity": 0.2
             }
            },
            "type": "bar"
           }
          ],
          "barpolar": [
           {
            "marker": {
             "line": {
              "color": "#E5ECF6",
              "width": 0.5
             },
             "pattern": {
              "fillmode": "overlay",
              "size": 10,
              "solidity": 0.2
             }
            },
            "type": "barpolar"
           }
          ],
          "carpet": [
           {
            "aaxis": {
             "endlinecolor": "#2a3f5f",
             "gridcolor": "white",
             "linecolor": "white",
             "minorgridcolor": "white",
             "startlinecolor": "#2a3f5f"
            },
            "baxis": {
             "endlinecolor": "#2a3f5f",
             "gridcolor": "white",
             "linecolor": "white",
             "minorgridcolor": "white",
             "startlinecolor": "#2a3f5f"
            },
            "type": "carpet"
           }
          ],
          "choropleth": [
           {
            "colorbar": {
             "outlinewidth": 0,
             "ticks": ""
            },
            "type": "choropleth"
           }
          ],
          "contour": [
           {
            "colorbar": {
             "outlinewidth": 0,
             "ticks": ""
            },
            "colorscale": [
             [
              0,
              "#0d0887"
             ],
             [
              0.1111111111111111,
              "#46039f"
             ],
             [
              0.2222222222222222,
              "#7201a8"
             ],
             [
              0.3333333333333333,
              "#9c179e"
             ],
             [
              0.4444444444444444,
              "#bd3786"
             ],
             [
              0.5555555555555556,
              "#d8576b"
             ],
             [
              0.6666666666666666,
              "#ed7953"
             ],
             [
              0.7777777777777778,
              "#fb9f3a"
             ],
             [
              0.8888888888888888,
              "#fdca26"
             ],
             [
              1,
              "#f0f921"
             ]
            ],
            "type": "contour"
           }
          ],
          "contourcarpet": [
           {
            "colorbar": {
             "outlinewidth": 0,
             "ticks": ""
            },
            "type": "contourcarpet"
           }
          ],
          "heatmap": [
           {
            "colorbar": {
             "outlinewidth": 0,
             "ticks": ""
            },
            "colorscale": [
             [
              0,
              "#0d0887"
             ],
             [
              0.1111111111111111,
              "#46039f"
             ],
             [
              0.2222222222222222,
              "#7201a8"
             ],
             [
              0.3333333333333333,
              "#9c179e"
             ],
             [
              0.4444444444444444,
              "#bd3786"
             ],
             [
              0.5555555555555556,
              "#d8576b"
             ],
             [
              0.6666666666666666,
              "#ed7953"
             ],
             [
              0.7777777777777778,
              "#fb9f3a"
             ],
             [
              0.8888888888888888,
              "#fdca26"
             ],
             [
              1,
              "#f0f921"
             ]
            ],
            "type": "heatmap"
           }
          ],
          "heatmapgl": [
           {
            "colorbar": {
             "outlinewidth": 0,
             "ticks": ""
            },
            "colorscale": [
             [
              0,
              "#0d0887"
             ],
             [
              0.1111111111111111,
              "#46039f"
             ],
             [
              0.2222222222222222,
              "#7201a8"
             ],
             [
              0.3333333333333333,
              "#9c179e"
             ],
             [
              0.4444444444444444,
              "#bd3786"
             ],
             [
              0.5555555555555556,
              "#d8576b"
             ],
             [
              0.6666666666666666,
              "#ed7953"
             ],
             [
              0.7777777777777778,
              "#fb9f3a"
             ],
             [
              0.8888888888888888,
              "#fdca26"
             ],
             [
              1,
              "#f0f921"
             ]
            ],
            "type": "heatmapgl"
           }
          ],
          "histogram": [
           {
            "marker": {
             "pattern": {
              "fillmode": "overlay",
              "size": 10,
              "solidity": 0.2
             }
            },
            "type": "histogram"
           }
          ],
          "histogram2d": [
           {
            "colorbar": {
             "outlinewidth": 0,
             "ticks": ""
            },
            "colorscale": [
             [
              0,
              "#0d0887"
             ],
             [
              0.1111111111111111,
              "#46039f"
             ],
             [
              0.2222222222222222,
              "#7201a8"
             ],
             [
              0.3333333333333333,
              "#9c179e"
             ],
             [
              0.4444444444444444,
              "#bd3786"
             ],
             [
              0.5555555555555556,
              "#d8576b"
             ],
             [
              0.6666666666666666,
              "#ed7953"
             ],
             [
              0.7777777777777778,
              "#fb9f3a"
             ],
             [
              0.8888888888888888,
              "#fdca26"
             ],
             [
              1,
              "#f0f921"
             ]
            ],
            "type": "histogram2d"
           }
          ],
          "histogram2dcontour": [
           {
            "colorbar": {
             "outlinewidth": 0,
             "ticks": ""
            },
            "colorscale": [
             [
              0,
              "#0d0887"
             ],
             [
              0.1111111111111111,
              "#46039f"
             ],
             [
              0.2222222222222222,
              "#7201a8"
             ],
             [
              0.3333333333333333,
              "#9c179e"
             ],
             [
              0.4444444444444444,
              "#bd3786"
             ],
             [
              0.5555555555555556,
              "#d8576b"
             ],
             [
              0.6666666666666666,
              "#ed7953"
             ],
             [
              0.7777777777777778,
              "#fb9f3a"
             ],
             [
              0.8888888888888888,
              "#fdca26"
             ],
             [
              1,
              "#f0f921"
             ]
            ],
            "type": "histogram2dcontour"
           }
          ],
          "mesh3d": [
           {
            "colorbar": {
             "outlinewidth": 0,
             "ticks": ""
            },
            "type": "mesh3d"
           }
          ],
          "parcoords": [
           {
            "line": {
             "colorbar": {
              "outlinewidth": 0,
              "ticks": ""
             }
            },
            "type": "parcoords"
           }
          ],
          "pie": [
           {
            "automargin": true,
            "type": "pie"
           }
          ],
          "scatter": [
           {
            "marker": {
             "colorbar": {
              "outlinewidth": 0,
              "ticks": ""
             }
            },
            "type": "scatter"
           }
          ],
          "scatter3d": [
           {
            "line": {
             "colorbar": {
              "outlinewidth": 0,
              "ticks": ""
             }
            },
            "marker": {
             "colorbar": {
              "outlinewidth": 0,
              "ticks": ""
             }
            },
            "type": "scatter3d"
           }
          ],
          "scattercarpet": [
           {
            "marker": {
             "colorbar": {
              "outlinewidth": 0,
              "ticks": ""
             }
            },
            "type": "scattercarpet"
           }
          ],
          "scattergeo": [
           {
            "marker": {
             "colorbar": {
              "outlinewidth": 0,
              "ticks": ""
             }
            },
            "type": "scattergeo"
           }
          ],
          "scattergl": [
           {
            "marker": {
             "colorbar": {
              "outlinewidth": 0,
              "ticks": ""
             }
            },
            "type": "scattergl"
           }
          ],
          "scattermapbox": [
           {
            "marker": {
             "colorbar": {
              "outlinewidth": 0,
              "ticks": ""
             }
            },
            "type": "scattermapbox"
           }
          ],
          "scatterpolar": [
           {
            "marker": {
             "colorbar": {
              "outlinewidth": 0,
              "ticks": ""
             }
            },
            "type": "scatterpolar"
           }
          ],
          "scatterpolargl": [
           {
            "marker": {
             "colorbar": {
              "outlinewidth": 0,
              "ticks": ""
             }
            },
            "type": "scatterpolargl"
           }
          ],
          "scatterternary": [
           {
            "marker": {
             "colorbar": {
              "outlinewidth": 0,
              "ticks": ""
             }
            },
            "type": "scatterternary"
           }
          ],
          "surface": [
           {
            "colorbar": {
             "outlinewidth": 0,
             "ticks": ""
            },
            "colorscale": [
             [
              0,
              "#0d0887"
             ],
             [
              0.1111111111111111,
              "#46039f"
             ],
             [
              0.2222222222222222,
              "#7201a8"
             ],
             [
              0.3333333333333333,
              "#9c179e"
             ],
             [
              0.4444444444444444,
              "#bd3786"
             ],
             [
              0.5555555555555556,
              "#d8576b"
             ],
             [
              0.6666666666666666,
              "#ed7953"
             ],
             [
              0.7777777777777778,
              "#fb9f3a"
             ],
             [
              0.8888888888888888,
              "#fdca26"
             ],
             [
              1,
              "#f0f921"
             ]
            ],
            "type": "surface"
           }
          ],
          "table": [
           {
            "cells": {
             "fill": {
              "color": "#EBF0F8"
             },
             "line": {
              "color": "white"
             }
            },
            "header": {
             "fill": {
              "color": "#C8D4E3"
             },
             "line": {
              "color": "white"
             }
            },
            "type": "table"
           }
          ]
         },
         "layout": {
          "annotationdefaults": {
           "arrowcolor": "#2a3f5f",
           "arrowhead": 0,
           "arrowwidth": 1
          },
          "autotypenumbers": "strict",
          "coloraxis": {
           "colorbar": {
            "outlinewidth": 0,
            "ticks": ""
           }
          },
          "colorscale": {
           "diverging": [
            [
             0,
             "#8e0152"
            ],
            [
             0.1,
             "#c51b7d"
            ],
            [
             0.2,
             "#de77ae"
            ],
            [
             0.3,
             "#f1b6da"
            ],
            [
             0.4,
             "#fde0ef"
            ],
            [
             0.5,
             "#f7f7f7"
            ],
            [
             0.6,
             "#e6f5d0"
            ],
            [
             0.7,
             "#b8e186"
            ],
            [
             0.8,
             "#7fbc41"
            ],
            [
             0.9,
             "#4d9221"
            ],
            [
             1,
             "#276419"
            ]
           ],
           "sequential": [
            [
             0,
             "#0d0887"
            ],
            [
             0.1111111111111111,
             "#46039f"
            ],
            [
             0.2222222222222222,
             "#7201a8"
            ],
            [
             0.3333333333333333,
             "#9c179e"
            ],
            [
             0.4444444444444444,
             "#bd3786"
            ],
            [
             0.5555555555555556,
             "#d8576b"
            ],
            [
             0.6666666666666666,
             "#ed7953"
            ],
            [
             0.7777777777777778,
             "#fb9f3a"
            ],
            [
             0.8888888888888888,
             "#fdca26"
            ],
            [
             1,
             "#f0f921"
            ]
           ],
           "sequentialminus": [
            [
             0,
             "#0d0887"
            ],
            [
             0.1111111111111111,
             "#46039f"
            ],
            [
             0.2222222222222222,
             "#7201a8"
            ],
            [
             0.3333333333333333,
             "#9c179e"
            ],
            [
             0.4444444444444444,
             "#bd3786"
            ],
            [
             0.5555555555555556,
             "#d8576b"
            ],
            [
             0.6666666666666666,
             "#ed7953"
            ],
            [
             0.7777777777777778,
             "#fb9f3a"
            ],
            [
             0.8888888888888888,
             "#fdca26"
            ],
            [
             1,
             "#f0f921"
            ]
           ]
          },
          "colorway": [
           "#636efa",
           "#EF553B",
           "#00cc96",
           "#ab63fa",
           "#FFA15A",
           "#19d3f3",
           "#FF6692",
           "#B6E880",
           "#FF97FF",
           "#FECB52"
          ],
          "font": {
           "color": "#2a3f5f"
          },
          "geo": {
           "bgcolor": "white",
           "lakecolor": "white",
           "landcolor": "#E5ECF6",
           "showlakes": true,
           "showland": true,
           "subunitcolor": "white"
          },
          "hoverlabel": {
           "align": "left"
          },
          "hovermode": "closest",
          "mapbox": {
           "style": "light"
          },
          "paper_bgcolor": "white",
          "plot_bgcolor": "#E5ECF6",
          "polar": {
           "angularaxis": {
            "gridcolor": "white",
            "linecolor": "white",
            "ticks": ""
           },
           "bgcolor": "#E5ECF6",
           "radialaxis": {
            "gridcolor": "white",
            "linecolor": "white",
            "ticks": ""
           }
          },
          "scene": {
           "xaxis": {
            "backgroundcolor": "#E5ECF6",
            "gridcolor": "white",
            "gridwidth": 2,
            "linecolor": "white",
            "showbackground": true,
            "ticks": "",
            "zerolinecolor": "white"
           },
           "yaxis": {
            "backgroundcolor": "#E5ECF6",
            "gridcolor": "white",
            "gridwidth": 2,
            "linecolor": "white",
            "showbackground": true,
            "ticks": "",
            "zerolinecolor": "white"
           },
           "zaxis": {
            "backgroundcolor": "#E5ECF6",
            "gridcolor": "white",
            "gridwidth": 2,
            "linecolor": "white",
            "showbackground": true,
            "ticks": "",
            "zerolinecolor": "white"
           }
          },
          "shapedefaults": {
           "line": {
            "color": "#2a3f5f"
           }
          },
          "ternary": {
           "aaxis": {
            "gridcolor": "white",
            "linecolor": "white",
            "ticks": ""
           },
           "baxis": {
            "gridcolor": "white",
            "linecolor": "white",
            "ticks": ""
           },
           "bgcolor": "#E5ECF6",
           "caxis": {
            "gridcolor": "white",
            "linecolor": "white",
            "ticks": ""
           }
          },
          "title": {
           "x": 0.05
          },
          "xaxis": {
           "automargin": true,
           "gridcolor": "white",
           "linecolor": "white",
           "ticks": "",
           "title": {
            "standoff": 15
           },
           "zerolinecolor": "white",
           "zerolinewidth": 2
          },
          "yaxis": {
           "automargin": true,
           "gridcolor": "white",
           "linecolor": "white",
           "ticks": "",
           "title": {
            "standoff": 15
           },
           "zerolinecolor": "white",
           "zerolinewidth": 2
          }
         }
        },
        "xaxis": {
         "anchor": "y",
         "domain": [
          0,
          1
         ],
         "range": [
          -60,
          2696
         ],
         "title": {
          "text": "time_grid"
         }
        },
        "yaxis": {
         "anchor": "x",
         "categoryarray": [
          "Urea Nitrogen H",
          "Sodium H",
          "Lactate N",
          "Lactate H",
          "Creatinine H",
          "Chloride H"
         ],
         "categoryorder": "array",
         "domain": [
          0,
          1
         ],
         "title": {
          "text": "label2"
         }
        }
       }
      }
     },
     "metadata": {},
     "output_type": "display_data"
    }
   ],
   "source": [
    "selected_types = ['vital','lab','med']\n",
    "selected_types = ['med','vital','lab','lab_samp']\n",
    "selected_types=['lab']\n",
    "# plot timeseries of vitals and labs\n",
    "\n",
    "df_temp = df_con[df_con['type'].isin(selected_types)].sort_values(['type','label','time_grid'])\n",
    "df_temp['value'] = df_temp['value'].astype(float)\n",
    "df_temp['value2'] = 0\n",
    "\n",
    "df_temp[df_temp['label2']=='Lactate_sam']\n",
    "df_temp[df_temp['label2']=='Lactate N']\n",
    "\n",
    "for i,col in enumerate(df_temp['label'].unique()):\n",
    "    if col.endswith('sam'):\n",
    "        continue\n",
    "    print(i, col)\n",
    "    q= df_temp['label']==col\n",
    "    \n",
    "    val_mean = df_temp.loc[q,'value'].mean()\n",
    "    val_std = df_temp.loc[q,'value'].std()\n",
    "    df_temp.loc[q,'value_n'] = (df_temp.loc[q,'value'] - val_mean) / val_std + i*4\n",
    "    # print(df_temp.loc[q,'value'].mean())\n",
    "    # print(df_temp.loc[q,'value'].std())\n",
    "\n",
    "\n",
    "    mask = df_temp.loc[q,'mask']\n",
    "\n",
    "    \n",
    "\n",
    "    i_N2H = (mask=='H') & (mask.shift(1,fill_value='N')=='N')\n",
    "    i_H2N = (mask=='N') & (mask.shift(1,fill_value='N')=='H')\n",
    "    i_N2L = (mask=='L') & (mask.shift(1,fill_value='N')=='N')\n",
    "    i_L2N = (mask=='N') & (mask.shift(1,fill_value='N')=='L')\n",
    "\n",
    "    \n",
    "\n",
    "    df_temp.loc[mask[i_N2H].index, 'label2'] = col+' H'\n",
    "    df_temp.loc[mask[i_N2H].index, 'value2'] = 1\n",
    "    df_temp.loc[mask[i_H2N].index, 'label2'] = col+' N'\n",
    "    df_temp.loc[mask[i_H2N].index, 'value2'] = 1\n",
    "    df_temp.loc[mask[i_N2L].index, 'label2'] = col+' L'\n",
    "    df_temp.loc[mask[i_N2L].index, 'value2'] = 1\n",
    "    df_temp.loc[mask[i_L2N].index, 'label2'] = col+' N'\n",
    "    df_temp.loc[mask[i_L2N].index, 'value2'] = 1\n",
    "\n",
    "\n",
    "\n",
    "\n",
    "df_temp.loc[df_temp['type']=='med', 'value2'] = 1\n",
    "\n",
    "\n",
    "\n",
    "# plt.figure()\n",
    "# df_temp.plot();\n",
    "\n",
    "# fig = make_subplots(rows=2, cols=1, shared_xaxes=True)    \n",
    "    \n",
    "# t = df_temp['time_grid']\n",
    "# y = df_temp['value_n']\n",
    "# _ = fig.add_trace(go.Scatter(x=t, y=y, mode='markers+lines'), row=1, col=1)\n",
    "\n",
    "df_temp\n",
    "print('****************************************plot timeseries in one plot') \n",
    "fig = px.line(df_temp, x='time_grid', y ='value_n',color='label', markers=True)\n",
    "_ = fig.update_xaxes(range=[0, df_temp['time_grid'].max()+1])\n",
    "# _ = fig.update_layout(showlegend=False)\n",
    "fig.show()\n",
    "fig.write_html(ADD_DATA+'temp.html')\n",
    "\n",
    "\n",
    "print('****************************************plot timeseries in subplots') \n",
    "n = len(df_temp['label'].unique())\n",
    "print(df_temp['label'].unique())\n",
    "print(df_con['type'].unique())\n",
    "fig = make_subplots(rows=n, cols=1,shared_xaxes=True,subplot_titles=df_temp['label'].unique())\n",
    "\n",
    "for ii,col in enumerate(df_temp['label'].unique()):\n",
    "\n",
    "    q = df_temp['label']==col\n",
    "    type = df_temp.loc[q,'type'].iloc[0]\n",
    "    mode_type = ['markers' if type=='med' else 'lines+markers']\n",
    "    t=df_temp.loc[q,'time_grid']\n",
    "    y=df_temp.loc[q,'value']\n",
    "    #t = round(t/60)\n",
    "    #print(y,round(y/60))\n",
    "\n",
    "    _ = fig.add_trace(\n",
    "                    go.Scatter(x=t, y=y,name=col, mode= mode_type[0],),\n",
    "                    row=ii+1, col=1\n",
    "                )\n",
    "    \n",
    "    # adding normal range\n",
    "    lb = df_temp.loc[q,'lb'].iloc[0]\n",
    "    ub = df_temp.loc[q,'ub'].iloc[0]\n",
    "    _ = fig.add_hrect(y0=lb, y1=ub, line_width=0, fillcolor=\"green\", opacity=0.2,row=ii+1, col=1)\n",
    "\n",
    "\n",
    "#    _ = fig.update_yaxes(title_text=col, row=ii+1, col=1)\n",
    "_ = fig.update_traces(showlegend=False)\n",
    "fig.show()\n",
    "#fig.write_html(ADD_DATA+'temp.html')\n",
    "\n",
    "\n",
    "\n",
    "print('****************************************plot ES data') \n",
    "fig = px.scatter(df_temp.dropna(subset='label2').sort_values(['type','label2']),x='time_grid',y='label2',color='label2')\n",
    "_ = fig.update_traces(marker=dict(size=12,\n",
    "                              line=dict(width=2,\n",
    "                                        color='DarkSlateGrey')),\n",
    "                                        #symbol='diamond',\n",
    "                  selector=dict(mode='markers'))\n",
    "_ = fig.update_xaxes(range=[-60, df_temp['time_grid'].max()+60])\n",
    "_ = fig.update_layout(showlegend=False)\n",
    "\n",
    "fig.show()\n",
    "# fig.write_html(ADD_DATA+'temp.html')\n"
   ]
  },
  {
   "cell_type": "code",
   "execution_count": null,
   "metadata": {},
   "outputs": [],
   "source": [
    "df_temp[df_temp['label2']=='Lactate_sam']\n",
    "df_temp[df_temp['label2']=='Lactate N']"
   ]
  },
  {
   "cell_type": "code",
   "execution_count": null,
   "metadata": {},
   "outputs": [],
   "source": [
    "# Extracting labs from HOSP labevents\n",
    "dff_le = df_le[df_le['hadm_id']==hid].query(f\"itemid.isin({list(dict_labs.keys())})\").merge(pd.read_csv(ADD_DATA+'d_labitems.csv')[['itemid','label']], on='itemid')\n",
    "dff_le = dff_le[['charttime','itemid','value','label']].sort_values('charttime',ascending=True)\n",
    "\n",
    "## creating mask for each vital\n",
    "dff_le['mask'] = np.nan\n",
    "for itemid, values in dict_labs.items():\n",
    "    print(itemid,values[0],values[1])\n",
    "    q = dff_le['itemid']==itemid\n",
    "    dff_le.loc[q, 'mask'] = pd.cut(dff_le.loc[q,'value'].astype(float), bins=values[1], labels=values[2])\n",
    "dff_le.loc[q, 'mask']\n",
    "\n",
    "dff_emar = df_emar[df_emar['hadm_id']==hid].query(f\"medication.isin({list_emar})\")\n",
    "dff_emar = dff_emar[['charttime','medication']].sort_values('charttime',ascending=True)\n",
    "dff_emar['value'] = 1\n",
    "dff_emar.rename(columns={'medication':'label'})\n",
    "dff_emar\n"
   ]
  },
  {
   "cell_type": "code",
   "execution_count": null,
   "metadata": {},
   "outputs": [],
   "source": [
    "#fig = make_subplots(rows=10, cols=1, shared_xaxes=True)\n",
    "#dff_che = df_che[df_che['hadm_id']==hid].sort_values('charttime',ascending=True)\n",
    "#dff_le = df_le[df_le['hadm_id']==hid].sort_values('charttime',ascending=True)\n",
    "\n",
    "########## plot VITALS\n",
    "marker_style = dict(\n",
    "            color='red',\n",
    "            symbol = 'triangle-up',\n",
    "            size=10,\n",
    "            line=dict(\n",
    "                color='MediumPurple',\n",
    "                width=1\n",
    "            ))\n",
    "fig = make_subplots(rows=len(dict_vitals), cols=3, shared_xaxes=True)\n",
    "ii=1\n",
    "for k,v in dict_vitals.items():\n",
    "    #print(k,v)\n",
    "    q =  (dff_che['charttime'] > t_in) & (dff_che['charttime'] <= t_out)\n",
    "    t = dff_che.loc[q].query(f\"itemid=={k}\").charttime\n",
    "    y = dff_che.loc[q].query(f\"itemid=={k}\").valuenum\n",
    "    mask = dff_che.loc[q].query(f\"itemid=={k}\")['mask']\n",
    "    i_N2H = (mask=='H') & (mask.shift(1)=='N')\n",
    "    i_H2N = (mask=='N') & (mask.shift(1)=='H')\n",
    "    i_N2L = (mask=='L') & (mask.shift(1)=='N')\n",
    "    i_L2N = (mask=='N') & (mask.shift(1)=='L')\n",
    "    \n",
    "    \n",
    "    _ = fig.add_traces(go.Scatter(x=t, y=y, name=v[0], mode='markers+lines'), rows=ii, cols=1)\n",
    "    _ = fig.add_traces(go.Scatter(x=t, y=mask, name=v[0], mode='markers'), rows=ii, cols=2)\n",
    "    _ = fig.update_yaxes(categoryorder='array', categoryarray= ['L','N','H'])\n",
    "\n",
    "    _ = fig.add_traces([go.Scatter(x=t[i_N2H], y=y[i_N2H]*0, mode='markers', marker_symbol = 'triangle-up', marker_color = 'red', marker_size = 7),\n",
    "                        go.Scatter(x=t[i_H2N], y=y[i_H2N]*0, mode='markers', marker_symbol = 'triangle-down', marker_color = 'green', marker_size = 7),\n",
    "                        go.Scatter(x=t[i_N2L], y=y[i_N2L]*0, mode='markers', marker_symbol = 'triangle-down', marker_color = 'blue', marker_size = 7),\n",
    "                        go.Scatter(x=t[i_L2N], y=y[i_L2N]*0, mode='markers', marker_symbol = 'triangle-up', marker_color = 'green', marker_size = 7),\n",
    "                        \n",
    "                        ], rows=ii, cols=3)\n",
    "    \n",
    "\n",
    "    #_ = fig.add_traces(go.Scatter(x=t, y=y*0, name=v[0], mode='markers'), rows=ii, cols=3)\n",
    "    ii=ii+1\n",
    "fig.show()\n",
    "\n",
    "fig.write_html(ADD_DATA+'temp.html')\n",
    "\n"
   ]
  },
  {
   "cell_type": "code",
   "execution_count": null,
   "metadata": {},
   "outputs": [],
   "source": [
    "########## plot LABS\n",
    "fig = make_subplots(rows=len(dict_labs), cols=3, shared_xaxes=True)\n",
    "ii=1\n",
    "for k,v in dict_labs.items():\n",
    "    #print(k,v)\n",
    "    q =  (dff_le['charttime'] > t_in) & (dff_le['charttime'] <= t_out)\n",
    "    \n",
    "    t = dff_le.loc[q].query(f\"itemid=={k}\")['charttime']\n",
    "    y = dff_le.loc[q].query(f\"itemid=={k}\")['value'].astype(float)\n",
    "    mask = dff_le.loc[q].query(f\"itemid=={k}\")['mask']\n",
    "\n",
    "    \n",
    "    i_N2H = (mask=='H') & (mask.shift(1)=='N')\n",
    "    i_H2N = (mask=='N') & (mask.shift(1)=='H')\n",
    "    i_N2L = (mask=='L') & (mask.shift(1)=='N')\n",
    "    i_L2N = (mask=='N') & (mask.shift(1)=='L')\n",
    "    # print(t[i_N2H],y[i_N2H]*0)\n",
    "    # print(t[i_H2N], y[i_H2N]*0)\n",
    "    #term\n",
    "    _ = fig.add_traces(go.Scatter(x=t, y=y, name=v[0], mode='markers+lines'), rows=ii, cols=1)\n",
    "\n",
    "   # _ = fig.add_traces(go.Scatter(x=t, y=mask, name=v[0], mode='markers'), rows=ii, cols=2)\n",
    "    _ = fig.add_traces(go.Scatter(x=t, y=y*0, name=v[0], mode='markers'), rows=ii, cols=2)\n",
    "#    _ = fig.update_yaxes(categoryorder='array', categoryarray= ['L','N','H'])\n",
    "\n",
    "    _ = fig.add_traces([go.Scatter(x=t[i_N2H], y=y[i_N2H]*0, mode='markers', marker_symbol = 'triangle-up', marker_color = 'red', marker_size = 7),\n",
    "                        go.Scatter(x=t[i_H2N], y=y[i_H2N]*0, mode='markers', marker_symbol = 'triangle-down', marker_color = 'green', marker_size = 7),\n",
    "                        go.Scatter(x=t[i_N2L], y=y[i_N2L]*0, mode='markers', marker_symbol = 'triangle-down', marker_color = 'blue', marker_size = 7),\n",
    "                        go.Scatter(x=t[i_L2N], y=y[i_L2N]*0, mode='markers', marker_symbol = 'triangle-up', marker_color = 'green', marker_size = 7),\n",
    "                        \n",
    "                        ], rows=ii, cols=3)\n",
    "\n",
    "    #_ = fig.add_traces(go.Scatter(x=t, y=y*0, name=v[0], mode='markers'), rows=ii, cols=3)\n",
    "    ii=ii+1\n",
    "print('hi')\n",
    "#_ = fig.update_layout(height=1000, title_text=\"Side By Side Subplots\")\n",
    "\n",
    "fig.show()\n",
    "fig.write_html(ADD_DATA+'temp.html')\n"
   ]
  },
  {
   "cell_type": "code",
   "execution_count": null,
   "metadata": {},
   "outputs": [],
   "source": [
    "########## plot LABS\n",
    "fig = make_subplots(rows=len(dict_labs), cols=3, shared_xaxes=True)\n",
    "ii=1\n",
    "for k,v in dict_labs.items():\n",
    "    #print(k,v)\n",
    "    q =  (dff_le['charttime'] > t_in) & (dff_le['charttime'] <= t_out)\n",
    "    \n",
    "    t = dff_le.loc[q].query(f\"itemid=={k}\")['charttime']\n",
    "    y = dff_le.loc[q].query(f\"itemid=={k}\")['value']\n",
    "    mask = dff_le.loc[q].query(f\"itemid=={k}\")['mask']\n",
    "\n",
    "    # i_N2H = (mask=='H') & (mask.shift(1)=='N')\n",
    "    # i_H2N = (mask=='N') & (mask.shift(1)=='H')\n",
    "    # i_N2L = (mask=='L') & (mask.shift(1)=='N')\n",
    "    # i_L2N = (mask=='N') & (mask.shift(1)=='L')\n",
    "    \n",
    "    _ = fig.add_traces(go.Scatter(x=t, y=y, name=v[0], mode='markers+lines'), rows=ii, cols=1)\n",
    "    #_ = fig.add_traces(go.Scatter(x=t, y=mask, name=v[0], mode='markers'), rows=ii, cols=2)\n",
    "    #_ = fig.update_yaxes(categoryorder='array', categoryarray= ['L','N','H'])\n",
    "\n",
    "    # _ = fig.add_traces([\n",
    "    #                     go.Scatter(x=t[i_N2H], y=i_N2H, mode='markers'),\n",
    "    #                     go.Scatter(x=t[i_H2N], y=i_H2N, mode='markers'),\n",
    "    #                     go.Scatter(x=t[i_N2L], y=i_N2L, mode='markers'),\n",
    "    #                     go.Scatter(x=t[i_L2N], y=i_L2N, mode='markers'),\n",
    "                        \n",
    "    #                     ], rows=ii, cols=3)\n",
    "\n",
    "    #_ = fig.add_traces(go.Scatter(x=t, y=y*0, name=v[0], mode='markers'), rows=ii, cols=3)\n",
    "    ii=ii+1\n",
    "print('hi')\n",
    "#_ = fig.update_layout(height=1000, title_text=\"Side By Side Subplots\")\n",
    "\n",
    "fig.show()"
   ]
  },
  {
   "cell_type": "code",
   "execution_count": null,
   "metadata": {},
   "outputs": [],
   "source": [
    "fig = make_subplots(rows=10, cols=1, shared_xaxes=True)\n",
    "dff_che = df_che[df_che['hadm_id']==hid].sort_values('charttime',ascending=True)\n",
    "dff_le = df_le[df_le['hadm_id']==hid].sort_values('charttime',ascending=True)\n",
    "dff_pe = df_pe[df_le['hadm_id']==hid].sort_values('starttime',ascending=True)\n",
    "\n",
    "\n",
    "fig = make_subplots(rows=len(dict_vitals), cols=3, shared_xaxes=True)\n",
    "ii=1\n",
    "for k,v in dict_vitals.items():\n",
    "    #print(k,v)\n",
    "    t = dff_che.query(f\"itemid=={k}\").charttime\n",
    "    y = dff_che.query(f\"itemid=={k}\").valuenum\n",
    "    #y = (pd.cut(y,v[1], labels=v[2]))\n",
    "    \n",
    "    _ = fig.add_traces(go.Scatter(x=t, y=y, name=v[0]), rows=ii, cols=1)\n",
    "    \n",
    "    ii=ii+1\n",
    "\n",
    "for k,v in dict_labs.items():\n",
    "    #print(k,v)\n",
    "    lb =  dff_le.query(f\"itemid=={k}\").ref_range_lower.iloc[0]\n",
    "    ub =  dff_le.query(f\"itemid=={k}\").ref_range_upper.iloc[0]\n",
    "\n",
    "    t = dff_le.query(f\"itemid=={k}\").charttime\n",
    "    y = dff_le.query(f\"itemid=={k}\").valuenum\n",
    "    #print( dff_le.query(f\"itemid=={k}\"))\n",
    "    #y = (pd.cut(y,[-10000,lb,ub,10000], labels=['L','N','H']))\n",
    "\n",
    "    \n",
    "    _ = fig.add_traces(go.Scatter(x=t, y=y, mode='markers', name=v), rows=ii, cols=1)\n",
    "    \n",
    "    ii=ii+1\n",
    "\n",
    "y=0\n",
    "for k,v in dict_proc.items():\n",
    "    #print(k,v)\n",
    "    t1 = dff_pe.query(f\"itemid=={k}\").starttime\n",
    "    t2 = dff_pe.query(f\"itemid=={k}\").endtime\n",
    "    _ = fig.add_traces(go.Scatter(x=[t1, t2], y=[y, y], mode='markers+lines', name=v), rows=ii, cols=1)\n",
    "    y=y+1\n",
    "\n",
    "y=0\n",
    "for med_name in list_emar:\n",
    "    #print(med_name)\n",
    "    med = df_emar.query(f\"hadm_id=={i} and medication=='{med_name}'\").sort_values('charttime', ascending=True)\n",
    "    t = med.charttime\n",
    "    #print(t)\n",
    "    _ = fig.add_traces(go.Scatter(x=t, y=np.ones(len(t)) * y, mode='markers', name=med_name), rows=ii+1, cols=1)\n",
    "    y=y+1\n",
    "\n",
    "#fig.update_layout(height=600, width=800, title_text=\"Side By Side Subplots\")\n",
    "fig.show()\n",
    "\n",
    "fig.write_html(ADD_DATA+'data_desc.html')\n"
   ]
  },
  {
   "cell_type": "markdown",
   "metadata": {},
   "source": [
    "## data description"
   ]
  },
  {
   "cell_type": "code",
   "execution_count": null,
   "metadata": {},
   "outputs": [],
   "source": [
    "dict_vitals = {220045:['HR', [0,60,90,200], ['L', 'N', 'H'] ],\n",
    "               220210:['RR', [0,10,18,60], ['L', 'N', 'H'] ],\n",
    "               220277:['SpO2', [0,90,101], ['L', 'N'] ],}\n",
    "dict_labs = {50971:'Potassium', \n",
    "51003:\t'Troponin T',\n",
    "50910:\t'Creatine Kinase (CK)',\n",
    "#50911:\t'Creatine Kinase, MB Isoenzyme',\n",
    "50813:\t'Lactate',}\n",
    "\n",
    "list_emar = ['Insulin','Fentanyl Citrate','Dexmedetomidine','EPINEPHrine', 'Heparin']\n",
    "\n",
    "dict_proc = {225792:'Invasive Ventilation', 225802:'Dialysis - CRRT', 220277:'SpO2'}\n",
    "\n",
    "\n",
    "df_temp= pd.read_csv(ADD_DATA+'d_items.csv')\n",
    "\n",
    "df_temp = pd.merge(df_pe,df_temp, on='itemid')\n",
    "\n",
    "temp = df_temp.label.value_counts()\n",
    "\n",
    "\n",
    "i = df_demo['hadm_id'].iloc[20]\n",
    "\n",
    "\n",
    "\n",
    "df_temp[df_temp['hadm_id']==i]\n",
    "\n",
    "med = df_emar.query(f\"hadm_id=={i} \")\n"
   ]
  },
  {
   "cell_type": "code",
   "execution_count": null,
   "metadata": {},
   "outputs": [],
   "source": [
    "fig = make_subplots(rows=10, cols=1, shared_xaxes=True)\n",
    "dff_che = df_che[df_che['hadm_id']==i].sort_values('charttime',ascending=True)\n",
    "dff_le = df_le[df_le['hadm_id']==i].sort_values('charttime',ascending=True)\n",
    "dff_pe = df_pe[df_le['hadm_id']==i].sort_values('starttime',ascending=True)\n",
    "\n",
    "ii=1\n",
    "for k,v in dict_vitals.items():\n",
    "    #print(k,v)\n",
    "    t = dff_che.query(f\"itemid=={k}\").charttime\n",
    "    y = dff_che.query(f\"itemid=={k}\").valuenum\n",
    "    #y = (pd.cut(y,v[1], labels=v[2]))\n",
    "    \n",
    "    _ = fig.add_traces(go.Scatter(x=t, y=y, name=v[0]), rows=ii, cols=1)\n",
    "    \n",
    "    ii=ii+1\n",
    "\n",
    "for k,v in dict_labs.items():\n",
    "    #print(k,v)\n",
    "    lb =  dff_le.query(f\"itemid=={k}\").ref_range_lower.iloc[0]\n",
    "    ub =  dff_le.query(f\"itemid=={k}\").ref_range_upper.iloc[0]\n",
    "\n",
    "    t = dff_le.query(f\"itemid=={k}\").charttime\n",
    "    y = dff_le.query(f\"itemid=={k}\").valuenum\n",
    "    #print( dff_le.query(f\"itemid=={k}\"))\n",
    "    #y = (pd.cut(y,[-10000,lb,ub,10000], labels=['L','N','H']))\n",
    "\n",
    "    \n",
    "    _ = fig.add_traces(go.Scatter(x=t, y=y, mode='markers', name=v), rows=ii, cols=1)\n",
    "    \n",
    "    ii=ii+1\n",
    "\n",
    "y=0\n",
    "for k,v in dict_proc.items():\n",
    "    #print(k,v)\n",
    "    t1 = dff_pe.query(f\"itemid=={k}\").starttime\n",
    "    t2 = dff_pe.query(f\"itemid=={k}\").endtime\n",
    "    _ = fig.add_traces(go.Scatter(x=[t1, t2], y=[y, y], mode='markers+lines', name=v), rows=ii, cols=1)\n",
    "    y=y+1\n",
    "\n",
    "y=0\n",
    "for med_name in list_emar:\n",
    "    #print(med_name)\n",
    "    med = df_emar.query(f\"hadm_id=={i} and medication=='{med_name}'\").sort_values('charttime', ascending=True)\n",
    "    t = med.charttime\n",
    "    #print(t)\n",
    "    _ = fig.add_traces(go.Scatter(x=t, y=np.ones(len(t)) * y, mode='markers', name=med_name), rows=ii+1, cols=1)\n",
    "    y=y+1\n",
    "\n",
    "#fig.update_layout(height=600, width=800, title_text=\"Side By Side Subplots\")\n",
    "fig.show()\n",
    "\n",
    "fig.write_html(ADD_DATA+'data_desc.html')\n"
   ]
  },
  {
   "cell_type": "code",
   "execution_count": null,
   "metadata": {},
   "outputs": [],
   "source": []
  },
  {
   "cell_type": "markdown",
   "metadata": {},
   "source": [
    "## basic vis"
   ]
  },
  {
   "cell_type": "code",
   "execution_count": null,
   "metadata": {},
   "outputs": [],
   "source": [
    "\n",
    "df_temp = df_transfers.groupby(['hadm_id','careunit']).size().reset_index(name='count').sort_values(by=['hadm_id','careunit','count',],ascending=False)\n",
    "\n",
    "df_temp = df_temp.groupby(['careunit','count']).size().reset_index(name='size').sort_values(by='size',ascending=False).iloc[:]\n",
    "df_temp\n",
    "df_temp['size'] = df_temp['size']/len(hadm_ids) * 100\n",
    "\n",
    "\n",
    "# FIGURE: frequency of multiple careunits\n",
    "px.histogram(df_temp, y = 'size', x='careunit', color='count',\n",
    "#labels={'size':'%'},\n",
    " barmode='group',\n",
    " title = \"frequency of multiple careunits\")\n",
    "\n"
   ]
  },
  {
   "cell_type": "code",
   "execution_count": null,
   "metadata": {},
   "outputs": [],
   "source": [
    "# FIGURE: top-10 frequent care units\n",
    "\n",
    "px.histogram(df_temp, y = 'size', x='careunit',\n",
    "#labels={'size':'%'},\n",
    " barmode='group',\n",
    " title = \"frequency of careunits\")"
   ]
  },
  {
   "cell_type": "markdown",
   "metadata": {},
   "source": [
    "# All timeline visualization"
   ]
  },
  {
   "cell_type": "code",
   "execution_count": null,
   "metadata": {},
   "outputs": [],
   "source": [
    "from datetime import datetime, timedelta\n",
    "\n",
    "date_time_str = '01/01/00 01:55:19'\n",
    "\n",
    "date_origin = datetime.strptime(date_time_str, '%d/%m/%y %H:%M:%S')\n",
    "\n",
    "df2_transfers = df_transfers\n",
    "df2_transfers['detail'] = df2_transfers['careunit']\n",
    "df2_transfers = df2_transfers.rename(columns={'careunit':'label'})\n",
    "# drop outtime=nan\n",
    "df2_transfers = df2_transfers.dropna(subset='outtime')\n",
    "df2_transfers.dtypes\n"
   ]
  },
  {
   "cell_type": "code",
   "execution_count": null,
   "metadata": {},
   "outputs": [],
   "source": [
    "# icd-proc codes CABG \n",
    "\n",
    "from datetime import datetime, timedelta\n",
    "df_d_icd_proc = pd.read_csv(ADD_DATA+'d_icd_procedures.csv')\n",
    "\n",
    "\n",
    "\n",
    "df_icd_CABG = pd.read_csv(ADD_DATA+'saved_proc_cabg.csv')\n",
    "df_icd_CABG = pd.DataFrame()\n",
    "\n",
    "temp = df_icd_CABG['icd_code'].tolist()\n",
    "df_icd_CABG = df_icd_proc.query(f\"icd_code.isin({temp})\")\n",
    "df_icd_CABG = pd.merge(df_icd_CABG, df_d_icd_proc,on=['icd_code', 'icd_version'])\n",
    "\n",
    "df_icd_CABG['intime'] = df_icd_CABG ['chartdate'] \n",
    "df_icd_CABG['outtime'] =  df_icd_CABG ['chartdate'] + timedelta(days=1)\n",
    "\n",
    "df_icd_CABG['detail'] = df_icd_CABG['icd_code'] + '/' +df_icd_CABG['long_title']\n",
    "\n",
    "\n",
    "\n",
    "df_icd_CABG['label']='CABG'\n",
    "\n",
    "df_icd_CABG = df_icd_CABG[['hadm_id','label','intime','outtime','detail','icd_code','icd_version']]\n",
    "\n",
    "print(df_icd_CABG.dtypes)"
   ]
  },
  {
   "cell_type": "code",
   "execution_count": null,
   "metadata": {},
   "outputs": [],
   "source": [
    "# icd-diag codes containing \"myocardial infarction\"  except \"old\"\n",
    "\n",
    "df_d_icd_diag = pd.read_csv(ADD_DATA+'d_icd_diagnoses.csv')\n",
    "\n",
    "df2_icd_diag = pd.merge(df_icd_diag, df_d_icd_diag,on=['icd_code', 'icd_version'])\n",
    "\n",
    "df_icd_sepsis = df2_icd_diag.query(f\"long_title.str.contains('septic shock',case=False)\")\n",
    "\n",
    "df_icd_sepsis['label'] = 'sepsis'\n",
    "df_icd_sepsis['detail'] = df_icd_sepsis['icd_code'] + '/' +df_icd_sepsis['long_title']\n",
    "df_icd_sepsis['intime'] = date_origin - timedelta(days=3)\n",
    "df_icd_sepsis['outtime'] = date_origin - timedelta(days=2)\n",
    "df_icd_sepsis = df_icd_sepsis[['hadm_id','label','detail','intime','outtime']]\n",
    "print(df_icd_sepsis.dtypes)\n",
    "\n",
    "# FIGURE: plot most frequent sepsis-related codes in the cohort\n",
    "temp = df_icd_sepsis.groupby('detail').size().reset_index(name='size').sort_values(by='size',ascending=False)\n",
    "fig = px.bar(temp,x='detail', y='size', title = 'most frequent sepsis-related codes')\n",
    "fig.show()\n",
    "fig.write_html(ADD_DATA+'sepsis-related codes.html')\n",
    "print(len(df_icd_sepsis))\n"
   ]
  },
  {
   "cell_type": "code",
   "execution_count": null,
   "metadata": {},
   "outputs": [],
   "source": [
    "# \"cath lab\" as outcome from icu.procedures\n",
    "\n",
    "# 225430\tCardiac Cath\n",
    "# 229577\tCath Lab (Received)\n",
    "# 229578\tCath Lab (Sent)\n",
    "list_itemids = [\n",
    "225430,\n",
    "229577,\n",
    "229578,\n",
    "]\n",
    "\n",
    "dict_cathlab = {\n",
    "225430\t: 'Cardiac Cath',\n",
    "229577\t: 'Cath Lab (Received)',\n",
    "229578\t: 'Cath Lab (Sent)',\n",
    "}\n",
    "\n",
    "df2_pe = df_pe.query(f\"itemid.isin({list_itemids})\")\n",
    "\n",
    "df2_pe = df2_pe[['hadm_id','starttime','endtime','itemid']]\n",
    "df2_pe = df2_pe.rename(columns={'starttime':'intime','endtime':'outtime','itemid':'label'})\n",
    "df2_pe['outtime'] = df2_pe['outtime']+timedelta(days=1)\n",
    "\n",
    "df2_pe = df2_pe.replace({'label': dict_cathlab})\n",
    "\n",
    "df2_pe['detail'] = df2_pe['label']\n",
    "\n",
    "print(df2_pe.dtypes)\n",
    "print(df2_pe)\n"
   ]
  },
  {
   "cell_type": "code",
   "execution_count": null,
   "metadata": {},
   "outputs": [],
   "source": [
    "df_concat = pd.concat([df2_transfers, df_icd_sepsis, df2_pe])\n",
    "\n",
    "df_concat.dtypes"
   ]
  },
  {
   "cell_type": "code",
   "execution_count": null,
   "metadata": {},
   "outputs": [],
   "source": [
    "df_concat['label'].value_counts()\n",
    "df_concat = pd.merge(df_concat,df_admissions[['hadm_id','admittime']], on='hadm_id')\n"
   ]
  },
  {
   "cell_type": "code",
   "execution_count": null,
   "metadata": {},
   "outputs": [],
   "source": [
    "\n",
    "\n",
    "# select a subset\n",
    "#df_concat=df_concat.query(f\"careunit=='Cardiac Surgery' or careunit.str.endswith('(CVICU)') or careunit=='CABG' or careunit.isin({list_itemids}) \")\n",
    "\n",
    "# select a subset that has Cath lab\n",
    "sub_hadm_ids = df_concat[df_concat['label'].str.contains('Cath').fillna(False)]['hadm_id'].unique().tolist()\n",
    "df2_concat = df_concat[df_concat['hadm_id'].isin(sub_hadm_ids)]\n",
    "\n",
    "df2_concat ['intime'] = (df2_concat ['intime'] - df2_concat ['admittime']) + date_origin\n",
    "df2_concat ['outtime'] = (df2_concat ['outtime'] - df2_concat ['admittime']) +date_origin\n",
    "q_sepsis = df2_concat['label']=='sepsis'\n",
    "df2_concat.loc [q_sepsis, 'intime'] = date_origin - timedelta(days=3)\n",
    "df2_concat.loc [q_sepsis, 'outtime'] = date_origin - timedelta(days=2)\n",
    "df2_concat = df2_concat.sort_values(['hadm_id','intime']).iloc[:] \n",
    "\n",
    "\n"
   ]
  },
  {
   "cell_type": "code",
   "execution_count": null,
   "metadata": {},
   "outputs": [],
   "source": [
    "print(f\"total Sepsis patients: {len(df_transfers['hadm_id'].unique())}\")\n",
    "print(f\"total number with an outcome: {len(df2_concat['hadm_id'].unique())}\")\n",
    "\n",
    "df2_concat['label'].value_counts()"
   ]
  },
  {
   "cell_type": "code",
   "execution_count": null,
   "metadata": {},
   "outputs": [],
   "source": [
    "\n",
    "# assign hadm_id to a unique list [1: n_adm]\n",
    "L1 = df2_concat['hadm_id'].unique().tolist()\n",
    "L2 = list(range(1,len(hadm_ids)+1))\n",
    "mapper=dict(zip(L1, L2))\n",
    "df2_concat['id'] = df2_concat['hadm_id']\n",
    "df2_concat = df2_concat.replace({\"id\": mapper})\n",
    "\n",
    "df2_concat['id'] =df2_concat['id']\n",
    "list_temp = [*list(dict_cathlab.values()),'']\n",
    "q = df2_concat['label'].isin(list_temp)\n",
    "df2_concat.loc[q,'id'] = df2_concat.loc[q,'id'] + 0.2\n",
    "\n",
    "\n",
    "df2_concat = df2_concat[df2_concat.label != 'Emergency Department']\n",
    "df2_concat = df2_concat.dropna(subset='label')"
   ]
  },
  {
   "cell_type": "code",
   "execution_count": null,
   "metadata": {},
   "outputs": [],
   "source": [
    "# define colors\n",
    "df2_concat['color'] = 'Other units'\n",
    "\n",
    "q = df2_concat['label'].str.contains('ICU').fillna(False)\n",
    "df2_concat.loc[q,'color']='ICU'\n",
    "\n",
    "q = df2_concat['label'].str.contains('CCU').fillna(False)\n",
    "df2_concat.loc[q,'color']='ICU'\n",
    "\n",
    "q = df2_concat['label'].str.contains('Surgery').fillna(False)\n",
    "df2_concat.loc[q,'color']='Surgery'\n",
    "\n",
    "q = df2_concat['label'].isin(['CABG']).fillna(False)\n",
    "df2_concat.loc[q,'color']='CABG'\n",
    "\n",
    "q = df2_concat['label'].str.contains('Cath').fillna(False)\n",
    "df2_concat.loc[q,'color']='Outcome'\n",
    "\n",
    "q = df2_concat['label'].isin(['sepsis']).fillna(False)\n",
    "df2_concat.loc[q,'color']='sepsis'\n",
    "\n",
    "df2_concat"
   ]
  },
  {
   "cell_type": "code",
   "execution_count": null,
   "metadata": {},
   "outputs": [],
   "source": [
    "\n",
    "\n",
    "\n",
    "fig = px.timeline(df2_concat.iloc[:], y='id', x_start='intime', x_end = 'outtime', color='color',\n",
    "        hover_data=['hadm_id','detail'])\n",
    "fig.update_traces(width=0.2)\n",
    "fig.show()\n",
    "fig.write_html(ADD_DATA+'sepsis timeline.html')\n",
    "\n"
   ]
  },
  {
   "cell_type": "code",
   "execution_count": null,
   "metadata": {},
   "outputs": [],
   "source": [
    "df=pd.read_csv(ADD_DATA+'d_labitems.csv').query(\"label.str.contains('lactate',case=False)\").drop_duplicates('itemid')\n",
    "df"
   ]
  },
  {
   "cell_type": "markdown",
   "metadata": {},
   "source": [
    "# visualize a single patient"
   ]
  },
  {
   "cell_type": "code",
   "execution_count": null,
   "metadata": {},
   "outputs": [],
   "source": [
    "\n",
    "\n",
    "new_id = 20508757\n",
    "dict_le_bio = {\n",
    "#51003:\t'Troponin T',\n",
    "#50910:\t'Creatine Kinase (CK)',\n",
    "#50911:\t'Creatine Kinase, MB Isoenzyme',\n",
    "50813:\t'Lactate',\n",
    "}\n",
    "\n",
    "dict_che_bio = {\n",
    "#227429:\t'Troponin-T',\n",
    "220045:\t'Heart Rate',\t\n",
    "}\n",
    "#dict_che_bio = {}\n",
    "q_le = (df_le['hadm_id']==new_id) & ( df_le['itemid'].isin(list(dict_le_bio.keys())) )\n",
    "df2_le = df_le[q_le]\n",
    "df2_le['label'] = df2_le['itemid'].replace(dict_le_bio)\n",
    "\n",
    "q_che = (df_che['hadm_id']==new_id) & ( df_che['itemid'].isin(list(dict_che_bio.keys())) )\n",
    "df2_che = df_che[q_che]\n",
    "df2_che['label'] = df2_che['itemid'].replace(dict_che_bio)\n",
    "\n",
    "df2_che\n",
    "\n",
    "df_bio = pd.concat([df2_le[['hadm_id','itemid','label','charttime', 'valuenum']],\n",
    "    df2_che[['hadm_id','itemid','label','charttime', 'valuenum']],]\n",
    "    )\n",
    "df_bio = pd.merge(df_bio,df_admissions[['hadm_id','admittime']], on='hadm_id')\n",
    "df_bio ['time'] = (df_bio ['charttime'] - df_bio ['admittime']) + date_origin\n",
    "\n",
    "df_bio = df_bio.sort_values(by=['itemid','time'])\n",
    "#px.line(df_bio,x='time',y='valuenum',color='label')\n",
    "# df=pd.read_csv(ADD_DATA+'d_labitems.csv').query(\"label.str.contains('creatin',case=False)\").drop_duplicates('itemid')\n",
    "# df\n",
    "\n",
    "df_bio['time'] = (df_bio['time'] - date_origin) / np.timedelta64(1,'h')\n",
    "\n",
    "list_bio = df_bio['itemid'].unique().tolist()\n",
    "\n",
    "\n",
    "\n",
    "fig = make_subplots(rows=len(list_bio)+1, cols=1,\n",
    "            shared_xaxes=True,\n",
    "            subplot_titles=[*df_bio['label'].unique(),'Time line']\n",
    "            )\n",
    "\n",
    "for i,itemid in enumerate(list_bio):\n",
    "    df_temp = df_bio[df_bio['itemid']==itemid]\n",
    "    fig.add_trace(\n",
    "        go.Scatter(x=df_temp['time'], y=df_temp['valuenum'],\n",
    "                    mode='lines+markers',\n",
    "                    name=df_temp['label'].iloc[0],\n",
    "        ),\n",
    "        row=i+1, col=1\n",
    "    )\n",
    "\n",
    "\n",
    "\n",
    "\n"
   ]
  },
  {
   "cell_type": "code",
   "execution_count": null,
   "metadata": {},
   "outputs": [],
   "source": [
    "\n",
    "\n",
    "df_temp = df2_concat[df2_concat['hadm_id']==new_id]\n",
    "df_temp['intime'] = (df_temp['intime'] - date_origin) / np.timedelta64(1,'h')\n",
    "df_temp['outtime'] = (df_temp['outtime'] - date_origin) / np.timedelta64(1,'h')\n",
    "#df_temp['id']= 'Events'\n",
    "\n",
    "q_cu = df_temp['id']%1==0\n",
    "q_events = ~q_cu\n",
    "\n",
    "\n",
    "\n",
    "\n",
    "df_temp.loc[q_cu,'id'] = 'Care units'\n",
    "df_temp.loc[q_events,'id'] = 'Events'\n",
    "\n",
    "fig_temp = hk_psql.plot_timeline(df_temp, x_start=\"intime\", x_end=\"outtime\", y='id', color='color',hover_data=['hadm_id','detail'])\n",
    "fig_temp.update_traces(width=0.2)\n",
    "  \n",
    "for trace in fig_temp.data:\n",
    "    #print(trace)\n",
    "    fig.add_trace(trace, row=len(list_bio)+1, col=1)\n",
    "\n"
   ]
  },
  {
   "cell_type": "code",
   "execution_count": null,
   "metadata": {},
   "outputs": [],
   "source": [
    "fig.update_layout(title_text = f\"id: {new_id}\")\n",
    "fig.show()\n",
    "\n",
    "\n",
    "fig.write_html(ADD_DATA+f'fig_timeline_id{new_id}.html')\n"
   ]
  },
  {
   "cell_type": "markdown",
   "metadata": {},
   "source": [
    "# Alignment by outcome\n",
    "aligned with respect to outcome"
   ]
  },
  {
   "cell_type": "code",
   "execution_count": null,
   "metadata": {},
   "outputs": [],
   "source": [
    "from IPython.core.interactiveshell import InteractiveShell\n",
    "InteractiveShell.ast_node_interactivity = \"all\"\n",
    "\n",
    "df2_concat.dtypes\n",
    "outcome = 'Cath Lab (Sent)'\n",
    "df_concat_sub = df2_concat.query(\"label=='Cath Lab (Sent)'\")\n",
    "\n",
    "hadm_ids_selected = df_concat_sub['hadm_id'].unique()\n",
    "df_bio_sub = df_bio[df_bio['hadm_id'].isin(hadm_ids_selected)]\n",
    "\n",
    "\n",
    "\n",
    "\n",
    "q_le = (df_le['hadm_id'].isin(hadm_ids_selected)) & ( df_le['itemid'].isin(list(dict_le_bio.keys())) )\n",
    "df2_le = df_le[q_le]\n",
    "df2_le['label'] = df2_le['itemid'].replace(dict_le_bio)\n",
    "\n",
    "\n",
    "df2_le = pd.merge(df2_le,df_admissions[['hadm_id','admittime']], on='hadm_id')\n",
    "df2_le ['time'] = (df2_le ['charttime'] - df2_le ['admittime']) + date_origin\n",
    "\n",
    "df2_le = df2_le.sort_values(by=['itemid','time'])\n",
    "df2_le['time'] = (df2_le['time'] - date_origin) / np.timedelta64(1,'h')\n",
    "\n",
    "df = pd.merge(df2_le, df_concat_sub[['hadm_id','intime']],on='hadm_id')\n",
    "print(df.dtypes)\n",
    "print(type(date_origin))\n",
    "df['intime'] = ( df['intime'] -date_origin) / np.timedelta64(1,'h')\n",
    "df['aligned'] = df['time']-df['intime'] \n",
    "df\n"
   ]
  },
  {
   "cell_type": "code",
   "execution_count": null,
   "metadata": {},
   "outputs": [],
   "source": [
    "list_bio = df['itemid'].unique().tolist()\n",
    "\n",
    "print(list_bio)\n",
    "print([*df['label'].unique(),'Time line'])\n",
    "\n",
    "fig = make_subplots(rows=len(list_bio)+1, cols=1,\n",
    "            shared_xaxes=True,\n",
    "            subplot_titles=[*df['label'].unique(),'Time line']\n",
    "            )\n",
    "\n",
    "for i,itemid in enumerate(list_bio):\n",
    "    df_temp = df[df['itemid']==itemid]\n",
    "    new_trace = go.Scatter(x=df_temp['aligned'], y=df_temp['valuenum'],\n",
    "                    mode='markers',\n",
    "                    name=df_temp['label'].iloc[0]\n",
    "        )\n",
    "    fig.add_trace( new_trace,\n",
    "        row=i+1, col=1\n",
    "    )\n",
    "\n",
    "fig.show()\n",
    "\n",
    "\n",
    "fig.write_html(ADD_DATA+f'fig_batch.html')"
   ]
  },
  {
   "cell_type": "code",
   "execution_count": null,
   "metadata": {},
   "outputs": [],
   "source": [
    "for i,itemid in enumerate(list_bio):\n",
    "    df_temp = df[df['itemid']==itemid]\n",
    "    print(len(df_temp['hadm_id'].unique()))\n",
    "    df_temp['hadm_id'] = df_temp['hadm_id'].astype(str)\n",
    "    fig = px.scatter(df_temp,x='aligned', y='valuenum',#color='hadm_id',\n",
    "                marginal_x=\"histogram\",\n",
    "                marginal_y=\"histogram\",\n",
    "                title=df_temp['label'].iloc[0]\n",
    "                \n",
    "    )\n",
    "    fig.show()\n"
   ]
  },
  {
   "cell_type": "code",
   "execution_count": null,
   "metadata": {},
   "outputs": [],
   "source": [
    "for i,itemid in enumerate(list_bio):\n",
    "    df_temp = df[df['itemid']==itemid]\n",
    "    print(len(df_temp['hadm_id'].unique()))\n",
    "    df_temp['hadm_id'] = df_temp['hadm_id'].astype(str)\n",
    "    fig = px.scatter(df_temp,x='time', y='valuenum',#color='hadm_id',\n",
    "                marginal_x=\"histogram\",\n",
    "                marginal_y=\"histogram\",\n",
    "                title=df_temp['label'].iloc[0]\n",
    "                \n",
    "    )\n",
    "    fig.show()"
   ]
  },
  {
   "cell_type": "code",
   "execution_count": null,
   "metadata": {},
   "outputs": [],
   "source": [
    "df_che.dtypes\n",
    "print(df_che[df_che['itemid'].isin(list_itemids)])\n",
    "df_che"
   ]
  },
  {
   "cell_type": "code",
   "execution_count": null,
   "metadata": {},
   "outputs": [],
   "source": []
  },
  {
   "cell_type": "code",
   "execution_count": null,
   "metadata": {},
   "outputs": [],
   "source": [
    "df_che_main = df_che.copy()"
   ]
  },
  {
   "cell_type": "code",
   "execution_count": null,
   "metadata": {},
   "outputs": [],
   "source": [
    "df_che[df_che['itemid']==228445]\n"
   ]
  },
  {
   "cell_type": "code",
   "execution_count": null,
   "metadata": {},
   "outputs": [],
   "source": [
    "# read desired itemids from csv files\n",
    "\n",
    "ADD_DATA = \"C:\\\\DATA\\\\data\\\\raw\\\\mimic4\\\\lookup\\\\\"\n",
    "df= pd.read_csv(ADD_DATA+'d_lookup_le.csv')\n",
    "le_itemdids = df['itemid']\n",
    "\n",
    "\n",
    "df= pd.read_csv(ADD_DATA+'d_lookup_che.csv')\n",
    "che_itemdids = df['itemid']\n",
    "\n",
    "\n",
    "grid='1H'\n"
   ]
  },
  {
   "cell_type": "code",
   "execution_count": null,
   "metadata": {},
   "outputs": [],
   "source": [
    "df_le = df_le_main\n",
    "df_che = df_che_main\n",
    "print(len(df_demo['hadm_id'].unique()))\n",
    "print(len(df_le['hadm_id'].unique()))\n",
    "print(len(df_icustay['stay_id'].unique()))\n",
    "\n",
    "icustay_ids = len(df_icustay['stay_id'].unique())\n",
    "\n",
    "df_le = df_le[df_le['itemid'].isin(le_itemdids)]\n",
    "df_che = df_che[df_che['itemid'].isin(che_itemdids)]\n",
    "\n",
    "print(df_le['itemid'].value_counts())\n",
    "\n",
    "\n",
    "df_le = pd.merge(df_le[['hadm_id','itemid','charttime','valuenum']],\n",
    "         df_icustay, on='hadm_id',how='inner')\n",
    "\n",
    "df_che = pd.merge(df_che[['hadm_id','itemid','charttime','valuenum']],\n",
    "         df_icustay, on='hadm_id',how='inner')"
   ]
  },
  {
   "cell_type": "code",
   "execution_count": null,
   "metadata": {},
   "outputs": [],
   "source": [
    "# filtering icu stays, reset charttime to start from zero (icu admission)\n",
    "\n",
    "df_le['temp1'] = round((df_le['charttime'] - df_le['intime']) / np.timedelta64(1, 's')/3600,2)\n",
    "df_le['temp2'] = round((df_le['outtime'] - df_le['charttime']) / np.timedelta64(1, 's')/3600,2)\n",
    "df_le = df_le[ (df_le['temp1']>0) & (df_le['temp2']>0) ]\n",
    "df_le['charttime'] = df_le['temp1']\n",
    "df_le = df_le.sort_values(['stay_id','itemid', 'charttime'])\n",
    "\n",
    "df_che['temp1'] = round((df_che['charttime'] - df_che['intime']) / np.timedelta64(1, 's')/3600,2)\n",
    "df_che['temp2'] = round((df_che['outtime'] - df_che['charttime']) / np.timedelta64(1, 's')/3600,2)\n",
    "df_che = df_che[ (df_che['temp1']>0) & (df_che['temp2']>0) ]\n",
    "df_che['charttime'] = df_che['temp1']\n",
    "df_che = df_che.sort_values(['stay_id','itemid', 'charttime'])\n",
    "\n",
    "\n"
   ]
  },
  {
   "cell_type": "code",
   "execution_count": null,
   "metadata": {},
   "outputs": [],
   "source": [
    "#convert charttime(int) to hours, and resample and forward fill imputation\n",
    "\n",
    "from datetime import datetime\n",
    "\n",
    "\n",
    "df_le = df_le[['stay_id','itemid','charttime','valuenum']][:]\n",
    "df1=df_le\n",
    "df_le['charttime'] = datetime(2000,1,1,0,0,0) + df_le.charttime.astype('timedelta64[h]')\n",
    "df_le = df_le.set_index('charttime')\n",
    "# print(df_le.index)\n",
    "df_le= df_le.groupby(['stay_id','itemid']).resample(grid)['valuenum'].last().reset_index(drop=False)\n",
    "df_le['valuenum']= df_le.groupby(['stay_id','itemid'])['valuenum'].fillna(method='ffill')\n",
    "df_le = df_le.sort_values(['stay_id','itemid', 'charttime'])\n",
    "\n",
    "\n",
    "\n",
    "df_che = df_che[['stay_id','itemid','charttime','valuenum']][:]\n",
    "df1=df_che\n",
    "df_che['charttime'] = datetime(2000,1,1,0,0,0) + df_che.charttime.astype('timedelta64[h]')\n",
    "df_che = df_che.set_index('charttime')\n",
    "# print(df_che.index)\n",
    "df_che= df_che.groupby(['stay_id','itemid']).resample(grid)['valuenum'].last().reset_index(drop=False)\n",
    "df_che['valuenum']= df_che.groupby(['stay_id','itemid'])['valuenum'].fillna(method='ffill')\n",
    "df_che = df_che.sort_values(['stay_id','itemid', 'charttime'])\n"
   ]
  },
  {
   "cell_type": "code",
   "execution_count": null,
   "metadata": {},
   "outputs": [],
   "source": [
    "# pivot dataframes so that each measurement is a column\n",
    "# concatenate df_le and df_che\n",
    "\n",
    "df_lee = df_le.set_index(['charttime','stay_id'])\n",
    "df_lee = df_lee.pivot(columns = 'itemid', values='valuenum')\n",
    "\n",
    "df_chee = df_che.set_index(['charttime','stay_id'])\n",
    "df_chee = df_chee.pivot(columns = 'itemid', values='valuenum')\n",
    "\n",
    "df = pd.concat([df_lee, df_chee], axis=1)\n",
    "# df = df_chee\n",
    "\n",
    "\n",
    "df = df.reset_index(drop=False)\n",
    "df = df.sort_values(['stay_id', 'charttime'])\n",
    "\n",
    "\n",
    "print(df.isnull().sum())\n",
    "print(len(df))\n",
    "\n",
    "\n",
    "print(df.dropna().isnull().sum())\n",
    "print(len(df.dropna()))\n",
    "\n",
    "df = df.dropna(subset=[51003])\n"
   ]
  },
  {
   "cell_type": "code",
   "execution_count": null,
   "metadata": {},
   "outputs": [],
   "source": [
    "df\n",
    "print(df['stay_id'].value_counts())\n",
    "sample_id = df['stay_id'].value_counts().index[0]\n",
    "print(sample_id)"
   ]
  },
  {
   "cell_type": "code",
   "execution_count": null,
   "metadata": {},
   "outputs": [],
   "source": [
    "# plot before normalization\n",
    "\n",
    "stay_ids = df_icustay['stay_id'].unique().tolist()\n",
    "# print(df['stay_id'].value_counts())\n",
    "\n",
    "\n",
    "df_temp = df[df['stay_id']==sample_id ]\n",
    "fig = px.line(df_temp, x='charttime', y=[220045, 220210, 51003], markers=True)\n",
    "fig.show()\n",
    "\n",
    "\n",
    "# df_temp = df_le[df_le['stay_id']==39132344    ]\n",
    "# fig = px.line(df_temp, x='charttime', y='valuenum', color='itemid', markers=True)\n",
    "# fig.show()\n",
    "\n",
    "\n",
    "# df_temp = df_che[df_che['stay_id']==39132344    ]\n",
    "# fig = px.line(df_temp, x='charttime', y='valuenum', color='itemid', markers=True)\n",
    "# fig.show()"
   ]
  },
  {
   "cell_type": "code",
   "execution_count": null,
   "metadata": {},
   "outputs": [],
   "source": [
    "df_temp"
   ]
  },
  {
   "cell_type": "code",
   "execution_count": null,
   "metadata": {},
   "outputs": [],
   "source": [
    "# normalizing the data\n",
    "\n",
    "from sklearn.preprocessing import MinMaxScaler\n",
    "# define min max scaler\n",
    "scaler = MinMaxScaler()\n",
    "# transform data\n",
    "df_temp = df_temp.set_index(['charttime','stay_id'])\n",
    "\n",
    "df_temp = pd.DataFrame(scaler.fit_transform(df_temp), index=df_temp.index, columns=df_temp.columns)\n",
    "df_temp = df_temp.reset_index(drop=False)\n"
   ]
  },
  {
   "cell_type": "code",
   "execution_count": null,
   "metadata": {},
   "outputs": [],
   "source": [
    "# plot after normalization\n",
    "\n",
    "print(df_temp.columns)\n",
    "fig = px.line(df_temp, x='charttime', y=[       220045,    220210,  ], markers=True)\n",
    "fig.show()\n"
   ]
  },
  {
   "cell_type": "code",
   "execution_count": null,
   "metadata": {},
   "outputs": [],
   "source": [
    "from sklearn.model_selection import GroupShuffleSplit\n",
    "splitter = GroupShuffleSplit(test_size=.20, n_splits=1, random_state = 7)\n",
    "split = splitter.split(df, groups=df['stay_id'])\n",
    "train_inds, test_inds = next(split)\n",
    "\n",
    "df_train = df.iloc[train_inds]\n",
    "df_test = df.iloc[test_inds]\n",
    "\n",
    "print(len(df['stay_id'].unique()))\n",
    "print(len(df_train['stay_id'].unique()))\n",
    "print(len(df_test['stay_id'].unique()))"
   ]
  },
  {
   "cell_type": "code",
   "execution_count": null,
   "metadata": {},
   "outputs": [],
   "source": [
    "def split_series(series, n_past, n_future):\n",
    "  #\n",
    "  # n_past ==> no of past observations\n",
    "  #\n",
    "  # n_future ==> no of future observations \n",
    "  #\n",
    "  X, y = list(), list()\n",
    "  for window_start in range(len(series)):\n",
    "    past_end = window_start + n_past\n",
    "    future_end = past_end + n_future\n",
    "    if future_end > len(series):\n",
    "      break\n",
    "    # slicing the past and future parts of the window\n",
    "    past, future = series[window_start:past_end, :], series[past_end:future_end, :]\n",
    "    X.append(past)\n",
    "    y.append(future)\n",
    "  return np.array(X), np.array(y)\n",
    "\n",
    "n_past = 3  # * grid\n",
    "n_future = 2 # * grid\n",
    "n_features = 2\n",
    "\n",
    "\n",
    "\n",
    "\n",
    "# convert train dataframe to numpy\n",
    "stay_ids = df_train['stay_id'].unique()\n",
    "list_X = []\n",
    "list_y = []\n",
    "for i in stay_ids:\n",
    "  df_temp = df_train[df_train['stay_id']==i].drop(columns=['stay_id','charttime']).to_numpy()\n",
    "  X_train, y_train = split_series(df_temp ,n_past, n_future)\n",
    "  \n",
    "  list_X.append(X_train)\n",
    "  list_y.append(y_train)\n",
    "\n",
    "list_X = [i for i in list_X if i.ndim==3]\n",
    "list_y = [i for i in list_y if i.ndim==3]\n",
    "\n",
    "X_train=np.concatenate(list_X, axis = 0)\n",
    "y_train=np.concatenate(list_y, axis = 0)\n",
    "\n",
    "\n",
    "\n",
    "# convert test dataframe to numpy\n",
    "stay_ids = df_test['stay_id'].unique()\n",
    "list_X = []\n",
    "list_y = []\n",
    "for i in stay_ids:\n",
    "  df_temp = df_test[df_test['stay_id']==i].drop(columns=['stay_id','charttime']).to_numpy()\n",
    "  X_test, y_test = split_series(df_temp ,n_past, n_future)\n",
    "\n",
    "  list_X.append(X_test)\n",
    "  list_y.append(y_test)\n",
    "\n",
    "list_X = [i for i in list_X if i.ndim==3]\n",
    "list_y = [i for i in list_y if i.ndim==3]\n",
    "\n",
    "X_test=np.concatenate(list_X, axis = 0)\n",
    "y_test=np.concatenate(list_y, axis = 0)\n",
    "\n",
    "\n",
    "print(f\"\"\" \n",
    "X_train.shape = {X_train.shape}\n",
    "y_train.shape = {y_train.shape}\n",
    "X_test.shape = {X_test.shape}\n",
    "y_test.shape = {y_test.shape}\n",
    " \"\"\")\n"
   ]
  },
  {
   "cell_type": "code",
   "execution_count": null,
   "metadata": {},
   "outputs": [],
   "source": [
    "\n",
    "import tensorflow as tf\n",
    "import os\n",
    "n_features=X_train.shape[-1]\n",
    "n_past=X_train.shape[-2]\n",
    "n_future=y_train.shape[-1]\n",
    "\n",
    "print(X_train.shape, X_test.shape)"
   ]
  },
  {
   "cell_type": "code",
   "execution_count": null,
   "metadata": {},
   "outputs": [],
   "source": [
    "encoder = tf.keras.models.Sequential([\n",
    "    # tf.keras.layers.LSTM(100, return_state=True, input_shape = (n_past,n_features)),\n",
    "    tf.keras.layers.Flatten(input_shape=[3, 2]),\n",
    "    tf.keras.layers.Dense(100, activation=\"relu\"),\n",
    "    tf.keras.layers.Dense(30, activation=\"relu\"),\n",
    "])"
   ]
  },
  {
   "cell_type": "code",
   "execution_count": null,
   "metadata": {},
   "outputs": [],
   "source": [
    "# E1D1\n",
    "# n_features ==> no of features at each timestep in the data.\n",
    "#\n",
    "encoder_inputs = tf.keras.layers.Input(shape=(n_past, n_features))\n",
    "encoder_l1 = tf.keras.layers.LSTM(100, return_state=True)\n",
    "encoder_outputs1 = encoder_l1(encoder_inputs)\n",
    "\n",
    "encoder_states1 = encoder_outputs1[1:]\n",
    "\n",
    "#\n",
    "decoder_inputs = tf.keras.layers.RepeatVector(n_future)(encoder_outputs1[0])\n",
    "\n",
    "#\n",
    "decoder_l1 = tf.keras.layers.LSTM(100, return_sequences=True)(decoder_inputs,initial_state = encoder_states1)\n",
    "decoder_outputs1 = tf.keras.layers.TimeDistributed(tf.keras.layers.Dense(n_features))(decoder_l1)\n",
    "\n",
    "#\n",
    "model_e1d1 = tf.keras.models.Model(encoder_inputs,decoder_outputs1)\n",
    "\n",
    "#\n",
    "model_e1d1.summary()"
   ]
  },
  {
   "cell_type": "code",
   "execution_count": null,
   "metadata": {},
   "outputs": [],
   "source": [
    "reduce_lr = tf.keras.callbacks.LearningRateScheduler(lambda x: 1e-3 * 0.90 ** x)\n",
    "model_e1d1.compile(optimizer=tf.keras.optimizers.Adam(), loss=tf.keras.losses.Huber())\n",
    "history_e1d1=model_e1d1.fit(X_train,y_train,epochs=25,validation_data=(X_test,y_test),batch_size=32,verbose=1,callbacks=[reduce_lr])\n"
   ]
  },
  {
   "cell_type": "code",
   "execution_count": null,
   "metadata": {},
   "outputs": [],
   "source": [
    "print(history_e1d1.history['loss'])\n",
    "plt.plot(history_e1d1.history['loss'])\n",
    "plt.plot(history_e1d1.history['val_loss'])\n",
    "plt.title(\"E1D1 Model Loss\")\n",
    "plt.xlabel('Epochs')\n",
    "plt.ylabel('Loss')\n",
    "plt.legend(['Train', 'Valid'])\n",
    "plt.show()"
   ]
  },
  {
   "cell_type": "code",
   "execution_count": null,
   "metadata": {},
   "outputs": [],
   "source": [
    "pred1_e1d1=model_e1d1.predict(X_test)\n",
    "# pred1_e2d2=model_e2d2.predict(X_test)\n",
    "\n",
    "pred_e1d1=model_e1d1.predict(X_train)\n",
    "# pred_e2d2=model_e2d2.predict(X_train)"
   ]
  },
  {
   "cell_type": "code",
   "execution_count": null,
   "metadata": {},
   "outputs": [],
   "source": [
    "print(pred1_e1d1.shape)\n",
    "print(y_test.shape)\n",
    "temp_test = y_test.reshape(-1,2)\n",
    "temp_pred = pred1_e1d1.reshape(-1,2)\n",
    "\n",
    "\n",
    "print(temp_pred.shape)\n",
    "df_temp = pd.DataFrame(temp_pred[:1000,:],columns=[       220045,    220210,  ])\n",
    "fig = px.line(df_temp, y=[       220045,    220210,  ], markers=True)\n",
    "\n",
    "df_temp = pd.DataFrame(temp_test[:1000,:],columns=[       220045,    220210,  ])\n",
    "fig = px.line(df_temp, y=[       220045,    220210,  ], markers=True)\n",
    "\n",
    "\n",
    "fig.show()"
   ]
  },
  {
   "cell_type": "code",
   "execution_count": null,
   "metadata": {},
   "outputs": [],
   "source": [
    "normal_df = df\n",
    "RANDOM_SEED = 1374"
   ]
  },
  {
   "cell_type": "code",
   "execution_count": null,
   "metadata": {},
   "outputs": [],
   "source": [
    "from sklearn.model_selection import train_test_split\n",
    "\n",
    "train_df, val_df = train_test_split(\n",
    "  normal_df,\n",
    "  test_size=0.15,\n",
    "  random_state=RANDOM_SEED\n",
    ")\n",
    "val_df, test_df = train_test_split(\n",
    "  val_df,\n",
    "  test_size=0.33,\n",
    "  random_state=RANDOM_SEED\n",
    ")"
   ]
  },
  {
   "cell_type": "code",
   "execution_count": null,
   "metadata": {},
   "outputs": [],
   "source": [
    "# Data preprocessing\n",
    "def create_dataset(df):\n",
    "  sequences = df.astype(np.float32).to_numpy().tolist()\n",
    "  dataset = [torch.tensor(s).unsqueeze(1).float() for s in sequences]\n",
    "  n_seq, seq_len, n_features = torch.stack(dataset).shape\n",
    "  return dataset, seq_len, n_features\n",
    "\n",
    "\n",
    "train_dataset, seq_len, n_features = create_dataset(train_df)\n",
    "val_dataset, _, _ = create_dataset(val_df)\n",
    "test_normal_dataset, _, _ = create_dataset(test_df)\n",
    "test_anomaly_dataset, _, _ = create_dataset(anomaly_df)"
   ]
  },
  {
   "cell_type": "code",
   "execution_count": null,
   "metadata": {},
   "outputs": [],
   "source": [
    "import torch\n",
    "import torch.nn as nn\n",
    "\n",
    "device = torch.device(\"cuda\" if torch.cuda.is_available() else \"cpu\")\n",
    "\n",
    "class Encoder(nn.Module):\n",
    "  def __init__(self, seq_len, n_features, embedding_dim=64):\n",
    "    super(Encoder, self).__init__()\n",
    "    self.seq_len, self.n_features = seq_len, n_features\n",
    "    self.embedding_dim, self.hidden_dim = embedding_dim, 2 * embedding_dim\n",
    "    self.rnn1 = nn.LSTM(\n",
    "      input_size=n_features,\n",
    "      hidden_size=self.hidden_dim,\n",
    "      num_layers=1,\n",
    "      batch_first=True\n",
    "    )\n",
    "    self.rnn2 = nn.LSTM(\n",
    "      input_size=self.hidden_dim,\n",
    "      hidden_size=embedding_dim,\n",
    "      num_layers=1,\n",
    "      batch_first=True\n",
    "    )\n",
    "  def forward(self, x):\n",
    "    x = x.reshape((1, self.seq_len, self.n_features))\n",
    "    x, (_, _) = self.rnn1(x)\n",
    "    x, (hidden_n, _) = self.rnn2(x)\n",
    "    return hidden_n.reshape((self.n_features, self.embedding_dim))\n",
    "\n",
    "\n",
    "class Decoder(nn.Module):\n",
    "  def __init__(self, seq_len, input_dim=64, n_features=1):\n",
    "    super(Decoder, self).__init__()\n",
    "    self.seq_len, self.input_dim = seq_len, input_dim\n",
    "    self.hidden_dim, self.n_features = 2 * input_dim, n_features\n",
    "    self.rnn1 = nn.LSTM(\n",
    "      input_size=input_dim,\n",
    "      hidden_size=input_dim,\n",
    "      num_layers=1,\n",
    "      batch_first=True\n",
    "    )\n",
    "    self.rnn2 = nn.LSTM(\n",
    "      input_size=input_dim,\n",
    "      hidden_size=self.hidden_dim,\n",
    "      num_layers=1,\n",
    "      batch_first=True\n",
    "    )\n",
    "    self.output_layer = nn.Linear(self.hidden_dim, n_features)\n",
    "  def forward(self, x):\n",
    "    x = x.repeat(self.seq_len, self.n_features)\n",
    "    x = x.reshape((self.n_features, self.seq_len, self.input_dim))\n",
    "    x, (hidden_n, cell_n) = self.rnn1(x)\n",
    "    x, (hidden_n, cell_n) = self.rnn2(x)\n",
    "    x = x.reshape((self.seq_len, self.hidden_dim))\n",
    "    return self.output_layer(x)\n",
    "\n",
    "class RecurrentAutoencoder(nn.Module):\n",
    "  def __init__(self, seq_len, n_features, embedding_dim=64):\n",
    "    super(RecurrentAutoencoder, self).__init__()\n",
    "    self.encoder = Encoder(seq_len, n_features, embedding_dim).to(device)\n",
    "    self.decoder = Decoder(seq_len, embedding_dim, n_features).to(device)\n",
    "  def forward(self, x):\n",
    "    x = self.encoder(x)\n",
    "    x = self.decoder(x)\n",
    "    return x\n",
    "\n"
   ]
  },
  {
   "cell_type": "code",
   "execution_count": null,
   "metadata": {},
   "outputs": [],
   "source": [
    "import copy\n",
    "\n",
    "def train_model(model, train_dataset, val_dataset, n_epochs):\n",
    "  optimizer = torch.optim.Adam(model.parameters(), lr=1e-3)\n",
    "  criterion = nn.L1Loss(reduction='sum').to(device)\n",
    "  history = dict(train=[], val=[])\n",
    "  best_model_wts = copy.deepcopy(model.state_dict())\n",
    "  best_loss = 10000.0\n",
    "  for epoch in range(1, n_epochs + 1):\n",
    "    model = model.train()\n",
    "    train_losses = []\n",
    "    for seq_true in train_dataset:\n",
    "      optimizer.zero_grad()\n",
    "      seq_true = seq_true.to(device)\n",
    "      seq_pred = model(seq_true)\n",
    "      loss = criterion(seq_pred, seq_true)\n",
    "      loss.backward()\n",
    "      optimizer.step()\n",
    "      train_losses.append(loss.item())\n",
    "    val_losses = []\n",
    "    model = model.eval()\n",
    "    with torch.no_grad():\n",
    "      for seq_true in val_dataset:\n",
    "        seq_true = seq_true.to(device)\n",
    "        seq_pred = model(seq_true)\n",
    "        loss = criterion(seq_pred, seq_true)\n",
    "        val_losses.append(loss.item())\n",
    "    train_loss = np.mean(train_losses)\n",
    "    val_loss = np.mean(val_losses)\n",
    "    history['train'].append(train_loss)\n",
    "    history['val'].append(val_loss)\n",
    "    if val_loss < best_loss:\n",
    "      best_loss = val_loss\n",
    "      best_model_wts = copy.deepcopy(model.state_dict())\n",
    "    print(f'Epoch {epoch}: train loss {train_loss} val loss {val_loss}')\n",
    "  model.load_state_dict(best_model_wts)\n",
    "  return model.eval(), history"
   ]
  },
  {
   "cell_type": "code",
   "execution_count": null,
   "metadata": {},
   "outputs": [],
   "source": [
    "model = RecurrentAutoencoder(seq_len, n_features, 128)\n",
    "model = model.to(device)\n",
    "\n",
    "model, history = train_model(\n",
    "  model,\n",
    "  train_dataset,\n",
    "  val_dataset,\n",
    "  n_epochs=150\n",
    ")"
   ]
  },
  {
   "cell_type": "code",
   "execution_count": null,
   "metadata": {},
   "outputs": [],
   "source": []
  }
 ],
 "metadata": {
  "interpreter": {
   "hash": "c2f29e1a05e7eec16e11fbddc27661320510c37e25360333d406961ee2486f09"
  },
  "kernelspec": {
   "display_name": "Python 3.9.7 ('dashVis')",
   "language": "python",
   "name": "python3"
  },
  "language_info": {
   "codemirror_mode": {
    "name": "ipython",
    "version": 3
   },
   "file_extension": ".py",
   "mimetype": "text/x-python",
   "name": "python",
   "nbconvert_exporter": "python",
   "pygments_lexer": "ipython3",
   "version": "3.9.7"
  },
  "orig_nbformat": 4
 },
 "nbformat": 4,
 "nbformat_minor": 2
}
