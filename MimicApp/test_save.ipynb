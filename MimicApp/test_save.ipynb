{
 "cells": [
  {
   "cell_type": "code",
   "execution_count": 1,
   "metadata": {},
   "outputs": [
    {
     "name": "stdout",
     "output_type": "stream",
     "text": [
      "DATABASE CONNECTED !!!\n"
     ]
    }
   ],
   "source": [
    "# activate line execution\n",
    "from IPython.core.interactiveshell import InteractiveShell\n",
    "InteractiveShell.ast_node_interactivity = \"all\"\n",
    "\n",
    "import numpy as np\n",
    "import pandas as pd\n",
    "import matplotlib.pyplot as plt\n",
    "\n",
    "import time\n",
    "# import custom libraries\n",
    "import sys\n",
    "import os\n",
    "import shutil\n",
    "# sys.path.append(\"C:\\\\DATA\\\\Tasks\\\\lib\\\\hk\")\n",
    "import hk_psql\n",
    "import dash_bootstrap_components\n",
    "\n",
    "import plotly.express as px  # (version 4.7.0 or higher)\n",
    "import plotly.graph_objects as go\n",
    "\n",
    "# ADD_DATA = \"C:\\\\DATA\\\\data\\\\raw\\\\mimic4\\\\lookup\\\\\"\n",
    "\n",
    "%load_ext autoreload\n",
    "%autoreload 2\n",
    "\n",
    "conn = hk_psql.connect_psql('mimic')\n"
   ]
  },
  {
   "cell_type": "markdown",
   "metadata": {},
   "source": []
  },
  {
   "cell_type": "code",
   "execution_count": 2,
   "metadata": {},
   "outputs": [],
   "source": [
    "def save_cohort(newdb, hadm_ids, subject_ids=None):\n",
    "    list_queries=[]\n",
    "    # hadm_ids=[20940957, 24181354]\n",
    "    schemas = {\n",
    "    # 'mimic_core':['transfers', 'admissions','patients'],\n",
    "    'mimic_core':['transfers', 'admissions','patients'],\n",
    "\n",
    "    'mimic_hosp':['labevents',\n",
    "    'diagnoses_icd','procedures_icd','drgcodes',\n",
    "    'emar'],\n",
    "    'mimic_icu':['chartevents', 'inputevents', 'procedureevents', 'icustays'],\n",
    "}\n",
    "# newdb = 'co_1'\n",
    "\n",
    "    for schema,tables in schemas.items():\n",
    "        q=f\"\"\"\n",
    "        DROP SCHEMA IF EXISTS {newdb}_{schema} CASCADE;\n",
    "        CREATE SCHEMA IF NOT EXISTS {newdb}_{schema};\n",
    "        \"\"\"\n",
    "        q=f\"\"\"\n",
    "        CREATE SCHEMA IF NOT EXISTS {newdb}_{schema};\n",
    "        \"\"\"\n",
    "        list_queries.append(q)\n",
    "        # print(q) \n",
    "        # cmd(q,'mimic')\n",
    "        for table in tables:\n",
    "            print(schema, table)\n",
    "            print(table)\n",
    "            # copying table\n",
    "\n",
    "\n",
    "            if table=='emar_detail':\n",
    "                q=f\"\"\"\n",
    "                    create table if not exists {newdb}_{schema}.{table}  AS\n",
    "                    select emar_detail.emar_id, emar_detail.emar_seq, emar_detail.parent_field_ordinal, emar_detail.administration_type, emar_detail.pharmacy_id, emar_detail.barcode_type, emar_detail.reason_for_no_barcode, emar_detail.complete_dose_not_given, emar_detail.dose_due, emar_detail.dose_due_unit, emar_detail.dose_given, emar_detail.dose_given_unit, emar_detail.will_remainder_of_dose_be_given, emar_detail.product_amount_given, emar_detail.product_unit, emar_detail.product_code, emar_detail.product_description, emar_detail.product_description_other, emar_detail.prior_infusion_rate, emar_detail.infusion_rate, emar_detail.infusion_rate_adjustment, emar_detail.infusion_rate_adjustment_amount, emar_detail.infusion_rate_unit, emar_detail.route, emar_detail.infusion_complete, emar_detail.completion_interval, emar_detail.new_iv_bag_hung, emar_detail.continued_infusion_in_other_location, emar_detail.restart_interval, emar_detail.side, emar_detail.site, emar_detail.non_formulary_visual_verification\n",
    "                    from {schema}.{table} emar_detail\n",
    "                    inner join {newdb}_{schema}.emar emar\n",
    "                    on emar.emar_id=emar_detail.emar_id\n",
    "\n",
    "                    where hadm_id in ({str(hadm_ids)[1:-1]});\n",
    "                    \n",
    "                    \n",
    "                    \"\"\"\n",
    "            elif table=='patients':\n",
    "                q=f\"\"\"\n",
    "                    create table if not exists {newdb}_{schema}.{table}  AS\n",
    "                    select *\n",
    "                    from {schema}.{table} \n",
    "\n",
    "                    where subject_id in ({str(subject_ids)[1:-1]});\n",
    "                    \n",
    "                    \n",
    "                    \"\"\"\n",
    "\n",
    "            else:\n",
    "                q=f\"\"\"\n",
    "                create table if not exists {newdb}_{schema}.{table}  AS\n",
    "                select * \n",
    "                from {schema}.{table}\n",
    "                where \n",
    "                    hadm_id in ({str(hadm_ids)[1:-1]});\n",
    "                \"\"\"\n",
    "            # print(q)\n",
    "            list_queries.append(q)\n",
    "\n",
    "            # cmd(q,'mimic')\n",
    "\n",
    "\n",
    "    return list_queries"
   ]
  },
  {
   "cell_type": "code",
   "execution_count": 3,
   "metadata": {},
   "outputs": [],
   "source": [
    "def save_cohort_tocsv(newdb,PATH):\n",
    "\n",
    "    # PATH = f\"datasets/{newdb}/\"\n",
    "\n",
    "\n",
    "\n",
    "\n",
    "    list_cmds=[]\n",
    "    # hadm_ids=[20940957, 24181354]\n",
    "    schemas = {\n",
    "    'mimic_core':['transfers', 'admissions'],\n",
    "\n",
    "    'mimic_hosp':[\n",
    "        'labevents',\n",
    "    'diagnoses_icd','procedures_icd','drgcodes',\n",
    "    'emar',\n",
    "    'd_hcpcs','d_icd_diagnoses','d_icd_procedures','d_labitems'],\n",
    "    'mimic_icu':['chartevents', 'inputevents', 'procedureevents', 'icustays',\n",
    "                 'd_items'],\n",
    "}\n",
    "# newdb = 'co_1'\n",
    "\n",
    "    for schema,tables in schemas.items():\n",
    "\n",
    "        \n",
    "\n",
    "        for table in tables:\n",
    "            print(schema, table)\n",
    "            print(table)\n",
    "            # copying table\n",
    "\n",
    "\n",
    "        #     cmd=f\"\"\"\n",
    "        #   \\copy {newdb}_{schema}.{table} TO {PATH}\\{schema[6:]}\\{table}.csv WITH DELIMITER ',' CSV HEADER;\n",
    "\n",
    "\n",
    "        # \"\"\"\n",
    "            cmd=f\"\"\"\n",
    "          copy {newdb}{schema}.{table} TO '{PATH}{schema[6:]}/{table}.csv' WITH DELIMITER ',' CSV HEADER;\n",
    "\n",
    "\n",
    "        \"\"\"\n",
    "            \n",
    "            list_cmds.append(cmd)\n",
    "\n",
    "            # cmd(q,'mimic')\n",
    "\n",
    "\n",
    "    return list_cmds"
   ]
  },
  {
   "attachments": {},
   "cell_type": "markdown",
   "metadata": {},
   "source": [
    "# Select subset"
   ]
  },
  {
   "attachments": {},
   "cell_type": "markdown",
   "metadata": {},
   "source": [
    "# Export to CSV"
   ]
  },
  {
   "cell_type": "code",
   "execution_count": 77,
   "metadata": {},
   "outputs": [
    {
     "name": "stdout",
     "output_type": "stream",
     "text": [
      "mimic_core transfers\n",
      "transfers\n",
      "mimic_core admissions\n",
      "admissions\n",
      "mimic_hosp labevents\n",
      "labevents\n",
      "mimic_hosp diagnoses_icd\n",
      "diagnoses_icd\n",
      "mimic_hosp procedures_icd\n",
      "procedures_icd\n",
      "mimic_hosp drgcodes\n",
      "drgcodes\n",
      "mimic_hosp emar\n",
      "emar\n",
      "mimic_hosp d_hcpcs\n",
      "d_hcpcs\n",
      "mimic_hosp d_icd_diagnoses\n",
      "d_icd_diagnoses\n",
      "mimic_hosp d_icd_procedures\n",
      "d_icd_procedures\n",
      "mimic_hosp d_labitems\n",
      "d_labitems\n",
      "mimic_icu chartevents\n",
      "chartevents\n",
      "mimic_icu inputevents\n",
      "inputevents\n",
      "mimic_icu procedureevents\n",
      "procedureevents\n",
      "mimic_icu icustays\n",
      "icustays\n",
      "mimic_icu d_items\n",
      "d_items\n"
     ]
    },
    {
     "data": {
      "text/plain": [
       "[\"\\n          copy sepsis_mimic_core.transfers TO 'C:/DATA/Courses/DataVis/data-viz-project/MimicApp/datasets/sepsis/core/transfers.csv' WITH DELIMITER ',' CSV HEADER;\\n\\n\\n        \",\n",
       " \"\\n          copy sepsis_mimic_core.admissions TO 'C:/DATA/Courses/DataVis/data-viz-project/MimicApp/datasets/sepsis/core/admissions.csv' WITH DELIMITER ',' CSV HEADER;\\n\\n\\n        \",\n",
       " \"\\n          copy sepsis_mimic_hosp.labevents TO 'C:/DATA/Courses/DataVis/data-viz-project/MimicApp/datasets/sepsis/hosp/labevents.csv' WITH DELIMITER ',' CSV HEADER;\\n\\n\\n        \",\n",
       " \"\\n          copy sepsis_mimic_hosp.diagnoses_icd TO 'C:/DATA/Courses/DataVis/data-viz-project/MimicApp/datasets/sepsis/hosp/diagnoses_icd.csv' WITH DELIMITER ',' CSV HEADER;\\n\\n\\n        \",\n",
       " \"\\n          copy sepsis_mimic_hosp.procedures_icd TO 'C:/DATA/Courses/DataVis/data-viz-project/MimicApp/datasets/sepsis/hosp/procedures_icd.csv' WITH DELIMITER ',' CSV HEADER;\\n\\n\\n        \",\n",
       " \"\\n          copy sepsis_mimic_hosp.drgcodes TO 'C:/DATA/Courses/DataVis/data-viz-project/MimicApp/datasets/sepsis/hosp/drgcodes.csv' WITH DELIMITER ',' CSV HEADER;\\n\\n\\n        \",\n",
       " \"\\n          copy sepsis_mimic_hosp.emar TO 'C:/DATA/Courses/DataVis/data-viz-project/MimicApp/datasets/sepsis/hosp/emar.csv' WITH DELIMITER ',' CSV HEADER;\\n\\n\\n        \",\n",
       " \"\\n          copy sepsis_mimic_hosp.d_hcpcs TO 'C:/DATA/Courses/DataVis/data-viz-project/MimicApp/datasets/sepsis/hosp/d_hcpcs.csv' WITH DELIMITER ',' CSV HEADER;\\n\\n\\n        \",\n",
       " \"\\n          copy sepsis_mimic_hosp.d_icd_diagnoses TO 'C:/DATA/Courses/DataVis/data-viz-project/MimicApp/datasets/sepsis/hosp/d_icd_diagnoses.csv' WITH DELIMITER ',' CSV HEADER;\\n\\n\\n        \",\n",
       " \"\\n          copy sepsis_mimic_hosp.d_icd_procedures TO 'C:/DATA/Courses/DataVis/data-viz-project/MimicApp/datasets/sepsis/hosp/d_icd_procedures.csv' WITH DELIMITER ',' CSV HEADER;\\n\\n\\n        \",\n",
       " \"\\n          copy sepsis_mimic_hosp.d_labitems TO 'C:/DATA/Courses/DataVis/data-viz-project/MimicApp/datasets/sepsis/hosp/d_labitems.csv' WITH DELIMITER ',' CSV HEADER;\\n\\n\\n        \",\n",
       " \"\\n          copy sepsis_mimic_icu.chartevents TO 'C:/DATA/Courses/DataVis/data-viz-project/MimicApp/datasets/sepsis/icu/chartevents.csv' WITH DELIMITER ',' CSV HEADER;\\n\\n\\n        \",\n",
       " \"\\n          copy sepsis_mimic_icu.inputevents TO 'C:/DATA/Courses/DataVis/data-viz-project/MimicApp/datasets/sepsis/icu/inputevents.csv' WITH DELIMITER ',' CSV HEADER;\\n\\n\\n        \",\n",
       " \"\\n          copy sepsis_mimic_icu.procedureevents TO 'C:/DATA/Courses/DataVis/data-viz-project/MimicApp/datasets/sepsis/icu/procedureevents.csv' WITH DELIMITER ',' CSV HEADER;\\n\\n\\n        \",\n",
       " \"\\n          copy sepsis_mimic_icu.icustays TO 'C:/DATA/Courses/DataVis/data-viz-project/MimicApp/datasets/sepsis/icu/icustays.csv' WITH DELIMITER ',' CSV HEADER;\\n\\n\\n        \",\n",
       " \"\\n          copy sepsis_mimic_icu.d_items TO 'C:/DATA/Courses/DataVis/data-viz-project/MimicApp/datasets/sepsis/icu/d_items.csv' WITH DELIMITER ',' CSV HEADER;\\n\\n\\n        \"]"
      ]
     },
     "execution_count": 77,
     "metadata": {},
     "output_type": "execute_result"
    }
   ],
   "source": [
    "newdb = 'sepsis_'\n",
    "PATH = f\"C:/DATA/Courses/DataVis/data-viz-project/MimicApp/datasets/{newdb[:-1]}/\"\n",
    "\n",
    "if os.path.exists(PATH+'core'):\n",
    "    shutil.rmtree(PATH+'core')\n",
    "if os.path.exists(PATH+'hosp'):\n",
    "    shutil.rmtree(PATH+'hosp')\n",
    "if os.path.exists(PATH+'icu'):\n",
    "    shutil.rmtree(PATH+'icu')\n",
    "os.makedirs(PATH+'core', exist_ok=True)\n",
    "os.makedirs(PATH+'hosp', exist_ok=True)\n",
    "os.makedirs(PATH+'icu', exist_ok=True)\n",
    "\n",
    "\n",
    "\n",
    "\n",
    "# hadm_ids=[21038362,24941086]\n",
    "# list_queries = save_cohort(newdb, hadm_ids, subject_ids=None)\n",
    "\n",
    "list_cmds = save_cohort_tocsv(newdb,PATH)\n",
    "list_cmds\n",
    "\n",
    "text_file = open(\"copy_commands.txt\", \"w\")\n",
    "n = text_file.write(\"\".join(list_cmds))\n",
    "text_file.close()"
   ]
  },
  {
   "cell_type": "code",
   "execution_count": 78,
   "metadata": {},
   "outputs": [
    {
     "name": "stdout",
     "output_type": "stream",
     "text": [
      "DATABASE CONNECTED !!!\n",
      "c4_mimic_core.admissions\n",
      "c4_mimic_core.transfers\n",
      "c4_mimic_hosp.diagnoses_icd\n",
      "c4_mimic_hosp.drgcodes\n",
      "c4_mimic_hosp.emar\n",
      "c4_mimic_hosp.labevents\n",
      "c4_mimic_hosp.procedures_icd\n",
      "c4_mimic_icu.chartevents\n",
      "c4_mimic_icu.icustays\n",
      "c4_mimic_icu.inputevents\n",
      "c4_mimic_icu.procedureevents\n",
      "cabg_mimic_core.admissions\n",
      "cabg_mimic_core.transfers\n",
      "cabg_mimic_hosp.diagnoses_icd\n",
      "cabg_mimic_hosp.drgcodes\n",
      "cabg_mimic_hosp.emar\n",
      "cabg_mimic_hosp.labevents\n",
      "cabg_mimic_hosp.procedures_icd\n",
      "cabg_mimic_icu.chartevents\n",
      "cabg_mimic_icu.icustays\n",
      "cabg_mimic_icu.inputevents\n",
      "cabg_mimic_icu.procedureevents\n",
      "cohort3_mimic_core.admissions\n",
      "cohort3_mimic_core.transfers\n",
      "cohort3_mimic_hosp.diagnoses_icd\n",
      "cohort3_mimic_hosp.drgcodes\n",
      "cohort3_mimic_hosp.emar\n",
      "cohort3_mimic_hosp.labevents\n",
      "cohort3_mimic_hosp.procedures_icd\n",
      "cohort3_mimic_icu.chartevents\n",
      "cohort3_mimic_icu.icustays\n",
      "cohort3_mimic_icu.inputevents\n",
      "cohort3_mimic_icu.procedureevents\n",
      "crp_mimic_core.admissions\n",
      "crp_mimic_core.transfers\n",
      "crp_mimic_hosp.diagnoses_icd\n",
      "crp_mimic_hosp.drgcodes\n",
      "crp_mimic_hosp.emar\n",
      "crp_mimic_hosp.labevents\n",
      "crp_mimic_hosp.procedures_icd\n",
      "crp_mimic_icu.chartevents\n",
      "crp_mimic_icu.icustays\n",
      "crp_mimic_icu.inputevents\n",
      "crp_mimic_icu.procedureevents\n",
      "datavis_mimic_core.admissions\n",
      "datavis_mimic_core.patients\n",
      "datavis_mimic_core.transfers\n",
      "datavis_mimic_hosp.d_hcpcs\n",
      "datavis_mimic_hosp.d_icd_diagnoses\n",
      "datavis_mimic_hosp.d_icd_procedures\n",
      "datavis_mimic_hosp.d_labitems\n",
      "datavis_mimic_hosp.diagnoses_icd\n",
      "datavis_mimic_hosp.drgcodes\n",
      "datavis_mimic_hosp.emar\n",
      "datavis_mimic_hosp.labevents\n",
      "datavis_mimic_hosp.procedures_icd\n",
      "datavis_mimic_icu.chartevents\n",
      "datavis_mimic_icu.d_items\n",
      "datavis_mimic_icu.icustays\n",
      "datavis_mimic_icu.inputevents\n",
      "datavis_mimic_icu.procedureevents\n",
      "lac_mimic_core.admissions\n",
      "lac_mimic_core.transfers\n",
      "lac_mimic_hosp.diagnoses_icd\n",
      "lac_mimic_hosp.drgcodes\n",
      "lac_mimic_hosp.emar\n",
      "lac_mimic_hosp.labevents\n",
      "lac_mimic_hosp.procedures_icd\n",
      "lac_mimic_icu.chartevents\n",
      "lac_mimic_icu.icustays\n",
      "lac_mimic_icu.inputevents\n",
      "lac_mimic_icu.procedureevents\n",
      "mimic_core.admissions\n",
      "mimic_core.patients\n",
      "mimic_core.transfers\n",
      "mimic_hosp.d_hcpcs\n",
      "mimic_hosp.d_icd_diagnoses\n",
      "mimic_hosp.d_icd_procedures\n",
      "mimic_hosp.d_labitems\n",
      "mimic_hosp.diagnoses_icd\n",
      "mimic_hosp.drgcodes\n",
      "mimic_hosp.emar\n",
      "mimic_hosp.emar_detail\n",
      "mimic_hosp.hcpcsevents\n",
      "mimic_hosp.labevents\n",
      "mimic_hosp.microbiologyevents\n",
      "mimic_hosp.pharmacy\n",
      "mimic_hosp.poe\n",
      "mimic_hosp.poe_detail\n",
      "mimic_hosp.prescriptions\n",
      "mimic_hosp.procedures_icd\n",
      "mimic_hosp.services\n",
      "mimic_icu.chartevents\n",
      "mimic_icu.d_items\n",
      "mimic_icu.datetimeevents\n",
      "mimic_icu.icustays\n",
      "mimic_icu.inputevents\n",
      "mimic_icu.outputevents\n",
      "mimic_icu.procedureevents\n",
      "sepsis3_mimic_core.admissions\n",
      "sepsis3_mimic_core.transfers\n",
      "sepsis3_mimic_hosp.diagnoses_icd\n",
      "sepsis3_mimic_hosp.drgcodes\n",
      "sepsis3_mimic_hosp.emar\n",
      "sepsis3_mimic_hosp.labevents\n",
      "sepsis3_mimic_hosp.procedures_icd\n",
      "sepsis3_mimic_icu.chartevents\n",
      "sepsis3_mimic_icu.icustays\n",
      "sepsis3_mimic_icu.inputevents\n",
      "sepsis3_mimic_icu.procedureevents\n",
      "sepsis_icd10_mimic_core.admissions\n",
      "sepsis_icd10_mimic_core.transfers\n",
      "sepsis_icd10_mimic_hosp.diagnoses_icd\n",
      "sepsis_icd10_mimic_hosp.drgcodes\n",
      "sepsis_icd10_mimic_hosp.emar\n",
      "sepsis_icd10_mimic_hosp.labevents\n",
      "sepsis_icd10_mimic_hosp.procedures_icd\n",
      "sepsis_icd10_mimic_icu.chartevents\n",
      "sepsis_icd10_mimic_icu.icustays\n",
      "sepsis_icd10_mimic_icu.inputevents\n",
      "sepsis_icd10_mimic_icu.procedureevents\n",
      "sepsis_mimic_core.admissions\n",
      "sepsis_mimic_core.patients\n",
      "sepsis_mimic_core.transfers\n",
      "sepsis_mimic_hosp.d_hcpcs\n",
      "sepsis_mimic_hosp.d_icd_diagnoses\n",
      "sepsis_mimic_hosp.d_icd_procedures\n",
      "sepsis_mimic_hosp.d_labitems\n",
      "sepsis_mimic_hosp.diagnoses_icd\n",
      "sepsis_mimic_hosp.drgcodes\n",
      "sepsis_mimic_hosp.emar\n",
      "sepsis_mimic_hosp.labevents\n",
      "sepsis_mimic_hosp.procedures_icd\n",
      "sepsis_mimic_icu.chartevents\n",
      "sepsis_mimic_icu.d_items\n",
      "sepsis_mimic_icu.icustays\n",
      "sepsis_mimic_icu.inputevents\n",
      "sepsis_mimic_icu.procedureevents\n",
      "sepsisr_mimic_core.admissions\n",
      "sepsisr_mimic_core.patients\n",
      "sepsisr_mimic_core.transfers\n",
      "sepsisr_mimic_hosp.diagnoses_icd\n",
      "sepsisr_mimic_hosp.drgcodes\n",
      "sepsisr_mimic_hosp.emar\n",
      "sepsisr_mimic_hosp.labevents\n",
      "sepsisr_mimic_hosp.procedures_icd\n",
      "sepsisr_mimic_icu.chartevents\n",
      "sepsisr_mimic_icu.icustays\n",
      "sepsisr_mimic_icu.inputevents\n",
      "sepsisr_mimic_icu.procedureevents\n"
     ]
    }
   ],
   "source": [
    "# connect to the existing database\n",
    "conn = hk_psql.connect_psql('mimic', mypass='Hkmypassword1374!')\n",
    "list_schema = hk_psql.get_schemas('mimic')\n",
    "\n"
   ]
  },
  {
   "cell_type": "code",
   "execution_count": 79,
   "metadata": {},
   "outputs": [
    {
     "name": "stdout",
     "output_type": "stream",
     "text": [
      "--- 47.78671360015869 seconds ---\n"
     ]
    }
   ],
   "source": [
    "q = \"\".join(list_cmds)\n",
    "hk_psql.cmd(q, 'mimic')"
   ]
  },
  {
   "cell_type": "code",
   "execution_count": null,
   "metadata": {},
   "outputs": [],
   "source": []
  },
  {
   "attachments": {},
   "cell_type": "markdown",
   "metadata": {},
   "source": [
    "# convert CSV to psql"
   ]
  },
  {
   "cell_type": "code",
   "execution_count": 4,
   "metadata": {},
   "outputs": [
    {
     "name": "stdout",
     "output_type": "stream",
     "text": [
      "DATABASE CONNECTED !!!\n"
     ]
    }
   ],
   "source": [
    "# specify the name of new database.\n",
    "# create this in advance using psql shell\n",
    "newdb = 'datavis'\n",
    "\n",
    "# connect to the existing database\n",
    "conn = hk_psql.connect_psql(newdb, mypass='Hkmypassword1374!')\n",
    "# list_schema = hk_psql.get_schemas(newdb)"
   ]
  },
  {
   "cell_type": "code",
   "execution_count": 36,
   "metadata": {},
   "outputs": [
    {
     "data": {
      "text/plain": [
       "'\\n        CREATE SCHEMA IF NOT EXISTS sepsis_core;\\n        '"
      ]
     },
     "execution_count": 36,
     "metadata": {},
     "output_type": "execute_result"
    },
    {
     "name": "stdout",
     "output_type": "stream",
     "text": [
      "--- 0.14374756813049316 seconds ---\n"
     ]
    },
    {
     "data": {
      "text/plain": [
       "'admissions.csv'"
      ]
     },
     "execution_count": 36,
     "metadata": {},
     "output_type": "execute_result"
    },
    {
     "data": {
      "text/plain": [
       "'subject_id, hadm_id, admittime, dischtime, deathtime, admission_type, admission_location, discharge_location, insurance, language, marital_status, ethnicity, edregtime, edouttime, hospital_expire_flag'"
      ]
     },
     "execution_count": 36,
     "metadata": {},
     "output_type": "execute_result"
    },
    {
     "data": {
      "text/plain": [
       "'\\n        DROP TABLE IF EXISTS sepsis_core.admissions;\\n        CREATE TABLE sepsis_core.admissions(subject_id, hadm_id, admittime, dischtime, deathtime, admission_type, admission_location, discharge_location, insurance, language, marital_status, ethnicity, edregtime, edouttime, hospital_expire_flag);\\n        '"
      ]
     },
     "execution_count": 36,
     "metadata": {},
     "output_type": "execute_result"
    },
    {
     "ename": "SyntaxError",
     "evalue": "syntax error at or near \";\"\nLINE 3: ...tus, ethnicity, edregtime, edouttime, hospital_expire_flag);\n                                                                      ^\n",
     "output_type": "error",
     "traceback": [
      "\u001b[1;31m---------------------------------------------------------------------------\u001b[0m",
      "\u001b[1;31mSyntaxError\u001b[0m                               Traceback (most recent call last)",
      "Cell \u001b[1;32mIn[36], line 25\u001b[0m\n\u001b[0;32m     20\u001b[0m q\u001b[39m=\u001b[39m\u001b[39mf\u001b[39m\u001b[39m\"\"\"\u001b[39m\n\u001b[0;32m     21\u001b[0m \u001b[39m    DROP TABLE IF EXISTS \u001b[39m\u001b[39m{\u001b[39;00mpre_schema\u001b[39m}\u001b[39;00m\u001b[39m{\u001b[39;00mschema_name\u001b[39m}\u001b[39;00m\u001b[39m.\u001b[39m\u001b[39m{\u001b[39;00mtable_name\u001b[39m}\u001b[39;00m\u001b[39m;\u001b[39m\n\u001b[0;32m     22\u001b[0m \u001b[39m    CREATE TABLE \u001b[39m\u001b[39m{\u001b[39;00mpre_schema\u001b[39m}\u001b[39;00m\u001b[39m{\u001b[39;00mschema_name\u001b[39m}\u001b[39;00m\u001b[39m.\u001b[39m\u001b[39m{\u001b[39;00mtable_name\u001b[39m}\u001b[39;00m\u001b[39m(\u001b[39m\u001b[39m{\u001b[39;00mcol_names\u001b[39m}\u001b[39;00m\u001b[39m);\u001b[39m\n\u001b[0;32m     23\u001b[0m \u001b[39m    \u001b[39m\u001b[39m\"\"\"\u001b[39m\n\u001b[0;32m     24\u001b[0m q\n\u001b[1;32m---> 25\u001b[0m hk_psql\u001b[39m.\u001b[39;49mcmd(q, newdb)\n\u001b[0;32m     27\u001b[0m q\u001b[39m=\u001b[39m\u001b[39mf\u001b[39m\u001b[39m\"\"\"\u001b[39m\n\u001b[0;32m     28\u001b[0m \u001b[39m    COPY \u001b[39m\u001b[39m{\u001b[39;00mpre_schema\u001b[39m}\u001b[39;00m\u001b[39m{\u001b[39;00mschema_name\u001b[39m}\u001b[39;00m\u001b[39m.\u001b[39m\u001b[39m{\u001b[39;00mtable_name\u001b[39m}\u001b[39;00m\u001b[39m(\u001b[39m\u001b[39m{\u001b[39;00mcol_names\u001b[39m}\u001b[39;00m\u001b[39m)\u001b[39m\n\u001b[0;32m     29\u001b[0m \u001b[39m    FROM \u001b[39m\u001b[39m'\u001b[39m\u001b[39m{\u001b[39;00mPATH\u001b[39m}\u001b[39;00m\u001b[39m{\u001b[39;00mschema_name\u001b[39m}\u001b[39;00m\u001b[39m/\u001b[39m\u001b[39m{\u001b[39;00mcsv_file\u001b[39m}\u001b[39;00m\u001b[39m'\u001b[39m\n\u001b[1;32m   (...)\u001b[0m\n\u001b[0;32m     32\u001b[0m \u001b[39m\u001b[39m\n\u001b[0;32m     33\u001b[0m \u001b[39m\u001b[39m\u001b[39m\"\"\"\u001b[39m\n\u001b[0;32m     34\u001b[0m q\n",
      "File \u001b[1;32mc:\\DATA\\Courses\\DataVis\\data-viz-project\\MimicApp\\hk_psql.py:171\u001b[0m, in \u001b[0;36mcmd\u001b[1;34m(q, dbname)\u001b[0m\n\u001b[0;32m    169\u001b[0m \u001b[39mwith\u001b[39;00m conn:\n\u001b[0;32m    170\u001b[0m     \u001b[39mwith\u001b[39;00m conn\u001b[39m.\u001b[39mcursor() \u001b[39mas\u001b[39;00m cursor:\n\u001b[1;32m--> 171\u001b[0m         cursor\u001b[39m.\u001b[39;49mexecute(q)\n\u001b[0;32m    174\u001b[0m \u001b[39m# print(q)\u001b[39;00m\n\u001b[0;32m    175\u001b[0m \u001b[39mprint\u001b[39m(\u001b[39m\"\u001b[39m\u001b[39m--- \u001b[39m\u001b[39m%s\u001b[39;00m\u001b[39m seconds ---\u001b[39m\u001b[39m\"\u001b[39m \u001b[39m%\u001b[39m (time\u001b[39m.\u001b[39mtime() \u001b[39m-\u001b[39m start_time))\n",
      "\u001b[1;31mSyntaxError\u001b[0m: syntax error at or near \";\"\nLINE 3: ...tus, ethnicity, edregtime, edouttime, hospital_expire_flag);\n                                                                      ^\n"
     ]
    }
   ],
   "source": [
    "pre_schema = 'sepsis_'\n",
    "PATH = f\"C:/DATA/Courses/DataVis/data-viz-project/MimicApp/datasets/{pre_schema[:-1]}/\"\n",
    "\n",
    "\n",
    "\n",
    "schema_name = 'core'\n",
    "q=f\"\"\"\n",
    "        CREATE SCHEMA IF NOT EXISTS {pre_schema}{schema_name};\n",
    "        \"\"\"\n",
    "q\n",
    "hk_psql.cmd(q, newdb)\n",
    "\n",
    "for csv_file in os.listdir(PATH+schema_name):\n",
    "    table_name = csv_file[:-4] # remove .csv\n",
    "    csv_file\n",
    "    col_names = str(list(pd.read_csv(PATH+f'{schema_name}/'+csv_file).columns))[1:-1]\n",
    "    col_names =  col_names.replace(\"'\", \"\")\n",
    "    col_names\n",
    "\n",
    "    q=f\"\"\"\n",
    "        DROP TABLE IF EXISTS {pre_schema}{schema_name}.{table_name};\n",
    "        CREATE TABLE {pre_schema}{schema_name}.{table_name}({col_names});\n",
    "        \"\"\"\n",
    "    q\n",
    "    hk_psql.cmd(q, newdb)\n",
    "\n",
    "    q=f\"\"\"\n",
    "        COPY {pre_schema}{schema_name}.{table_name}({col_names})\n",
    "        FROM '{PATH}{schema_name}/{csv_file}'\n",
    "        DELIMITER ','\n",
    "        CSV HEADER;\n",
    "    \n",
    "    \"\"\"\n",
    "    q\n",
    "    hk_psql.cmd(q, newdb)\n",
    "    term\n",
    "    \n"
   ]
  },
  {
   "cell_type": "code",
   "execution_count": 37,
   "metadata": {},
   "outputs": [
    {
     "name": "stdout",
     "output_type": "stream",
     "text": [
      "datavis_mimic_core.admissions\n",
      "datavis_mimic_core.patients\n",
      "datavis_mimic_core.transfers\n",
      "datavis_mimic_hosp.d_hcpcs\n",
      "datavis_mimic_hosp.d_icd_diagnoses\n",
      "datavis_mimic_hosp.d_icd_procedures\n",
      "datavis_mimic_hosp.d_labitems\n",
      "datavis_mimic_hosp.diagnoses_icd\n",
      "datavis_mimic_hosp.drgcodes\n",
      "datavis_mimic_hosp.emar\n",
      "datavis_mimic_hosp.labevents\n",
      "datavis_mimic_hosp.procedures_icd\n",
      "datavis_mimic_icu.chartevents\n",
      "datavis_mimic_icu.d_items\n",
      "datavis_mimic_icu.icustays\n",
      "datavis_mimic_icu.inputevents\n",
      "datavis_mimic_icu.procedureevents\n"
     ]
    },
    {
     "data": {
      "text/plain": [
       "['datavis_mimic_hosp', 'datavis_mimic_icu', 'datavis_mimic_core']"
      ]
     },
     "execution_count": 37,
     "metadata": {},
     "output_type": "execute_result"
    }
   ],
   "source": [
    "DBNAME='datavis'\n",
    "hk_psql.get_schemas(DBNAME)"
   ]
  }
 ],
 "metadata": {
  "interpreter": {
   "hash": "692b5e2d12f195d9871f826942f162b043f4d98bf5c4cdab88d951c18cf95221"
  },
  "kernelspec": {
   "display_name": "Python 3.9.7 ('dashVis')",
   "language": "python",
   "name": "python3"
  },
  "language_info": {
   "codemirror_mode": {
    "name": "ipython",
    "version": 3
   },
   "file_extension": ".py",
   "mimetype": "text/x-python",
   "name": "python",
   "nbconvert_exporter": "python",
   "pygments_lexer": "ipython3",
   "version": "3.9.7"
  },
  "orig_nbformat": 4
 },
 "nbformat": 4,
 "nbformat_minor": 2
}
