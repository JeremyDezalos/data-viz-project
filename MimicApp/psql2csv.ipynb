{
 "cells": [
  {
   "cell_type": "code",
   "execution_count": 4,
   "metadata": {},
   "outputs": [
    {
     "name": "stdout",
     "output_type": "stream",
     "text": [
      "The autoreload extension is already loaded. To reload it, use:\n",
      "  %reload_ext autoreload\n"
     ]
    }
   ],
   "source": [
    "# activate line execution\n",
    "from IPython.core.interactiveshell import InteractiveShell\n",
    "InteractiveShell.ast_node_interactivity = \"all\"\n",
    "\n",
    "import numpy as np\n",
    "import pandas as pd\n",
    "import matplotlib.pyplot as plt\n",
    "\n",
    "import time\n",
    "# import custom libraries\n",
    "import sys\n",
    "import os\n",
    "import shutil\n",
    "# sys.path.append(\"C:\\\\DATA\\\\Tasks\\\\lib\\\\hk\")\n",
    "\n",
    "import dash_bootstrap_components\n",
    "\n",
    "import plotly.express as px  # (version 4.7.0 or higher)\n",
    "import plotly.graph_objects as go\n",
    "\n",
    "# ADD_DATA = \"C:\\\\DATA\\\\data\\\\raw\\\\mimic4\\\\lookup\\\\\"\n",
    "\n",
    "%load_ext autoreload\n",
    "%autoreload 2\n",
    "\n",
    "\n"
   ]
  },
  {
   "cell_type": "code",
   "execution_count": 5,
   "metadata": {},
   "outputs": [],
   "source": [
    "os.environ['psql_dbname'] = 'mimic'\n",
    "os.environ['psql_pass'] = 'Hkmypassword1374!'"
   ]
  },
  {
   "cell_type": "code",
   "execution_count": 6,
   "metadata": {},
   "outputs": [
    {
     "name": "stdout",
     "output_type": "stream",
     "text": [
      "DATABASE CONNECTED !!!\n"
     ]
    }
   ],
   "source": [
    "DBNAME = os.environ['psql_dbname']\n",
    "MYPASS = os.environ['psql_pass']\n",
    "\n",
    "\n",
    "import hk_psql\n",
    "conn = hk_psql.connect_psql(DBNAME, mypass=MYPASS)"
   ]
  },
  {
   "cell_type": "markdown",
   "metadata": {},
   "source": []
  },
  {
   "cell_type": "code",
   "execution_count": 7,
   "metadata": {},
   "outputs": [],
   "source": [
    "def save_cohort_tocsv(newdb,PATH):\n",
    "\n",
    "    # PATH = f\"datasets/{newdb}/\"\n",
    "\n",
    "\n",
    "\n",
    "\n",
    "    list_cmds=[]\n",
    "    # hadm_ids=[20940957, 24181354]\n",
    "    schemas = {\n",
    "    'mimic_core':['transfers', 'admissions'],\n",
    "\n",
    "    'mimic_hosp':[\n",
    "        'labevents',\n",
    "    'diagnoses_icd','procedures_icd','drgcodes',\n",
    "    'emar',\n",
    "    'd_hcpcs','d_icd_diagnoses','d_icd_procedures','d_labitems'],\n",
    "    'mimic_icu':['chartevents', 'inputevents', 'procedureevents', 'icustays',\n",
    "                 'd_items'],\n",
    "}\n",
    "# newdb = 'co_1'\n",
    "\n",
    "    for schema,tables in schemas.items():\n",
    "\n",
    "        \n",
    "\n",
    "        for table in tables:\n",
    "            print(schema, table)\n",
    "            print(table)\n",
    "            # copying table\n",
    "\n",
    "\n",
    "        #     cmd=f\"\"\"\n",
    "        #   \\copy {newdb}_{schema}.{table} TO {PATH}\\{schema[6:]}\\{table}.csv WITH DELIMITER ',' CSV HEADER;\n",
    "\n",
    "\n",
    "        # \"\"\"\n",
    "            cmd=f\"\"\"\n",
    "          copy {newdb}{schema}.{table} TO '{PATH}{schema[6:]}/{table}.csv' WITH DELIMITER ',' CSV HEADER;\n",
    "\n",
    "\n",
    "        \"\"\"\n",
    "            \n",
    "            list_cmds.append(cmd)\n",
    "\n",
    "            # cmd(q,'mimic')\n",
    "\n",
    "\n",
    "    return list_cmds"
   ]
  },
  {
   "attachments": {},
   "cell_type": "markdown",
   "metadata": {},
   "source": [
    "# Export to CSV"
   ]
  },
  {
   "cell_type": "code",
   "execution_count": 12,
   "metadata": {},
   "outputs": [
    {
     "name": "stdout",
     "output_type": "stream",
     "text": [
      "mimic_core transfers\n",
      "transfers\n",
      "mimic_core admissions\n",
      "admissions\n",
      "mimic_hosp labevents\n",
      "labevents\n",
      "mimic_hosp diagnoses_icd\n",
      "diagnoses_icd\n",
      "mimic_hosp procedures_icd\n",
      "procedures_icd\n",
      "mimic_hosp drgcodes\n",
      "drgcodes\n",
      "mimic_hosp emar\n",
      "emar\n",
      "mimic_hosp d_hcpcs\n",
      "d_hcpcs\n",
      "mimic_hosp d_icd_diagnoses\n",
      "d_icd_diagnoses\n",
      "mimic_hosp d_icd_procedures\n",
      "d_icd_procedures\n",
      "mimic_hosp d_labitems\n",
      "d_labitems\n",
      "mimic_icu chartevents\n",
      "chartevents\n",
      "mimic_icu inputevents\n",
      "inputevents\n",
      "mimic_icu procedureevents\n",
      "procedureevents\n",
      "mimic_icu icustays\n",
      "icustays\n",
      "mimic_icu d_items\n",
      "d_items\n"
     ]
    },
    {
     "data": {
      "text/plain": [
       "[\"\\n          copy alaki_mimic_core.transfers TO 'C:/DATA/Courses/DataVis/data-viz-project/MimicApp/datasets/alaki/core/transfers.csv' WITH DELIMITER ',' CSV HEADER;\\n\\n\\n        \",\n",
       " \"\\n          copy alaki_mimic_core.admissions TO 'C:/DATA/Courses/DataVis/data-viz-project/MimicApp/datasets/alaki/core/admissions.csv' WITH DELIMITER ',' CSV HEADER;\\n\\n\\n        \",\n",
       " \"\\n          copy alaki_mimic_hosp.labevents TO 'C:/DATA/Courses/DataVis/data-viz-project/MimicApp/datasets/alaki/hosp/labevents.csv' WITH DELIMITER ',' CSV HEADER;\\n\\n\\n        \",\n",
       " \"\\n          copy alaki_mimic_hosp.diagnoses_icd TO 'C:/DATA/Courses/DataVis/data-viz-project/MimicApp/datasets/alaki/hosp/diagnoses_icd.csv' WITH DELIMITER ',' CSV HEADER;\\n\\n\\n        \",\n",
       " \"\\n          copy alaki_mimic_hosp.procedures_icd TO 'C:/DATA/Courses/DataVis/data-viz-project/MimicApp/datasets/alaki/hosp/procedures_icd.csv' WITH DELIMITER ',' CSV HEADER;\\n\\n\\n        \",\n",
       " \"\\n          copy alaki_mimic_hosp.drgcodes TO 'C:/DATA/Courses/DataVis/data-viz-project/MimicApp/datasets/alaki/hosp/drgcodes.csv' WITH DELIMITER ',' CSV HEADER;\\n\\n\\n        \",\n",
       " \"\\n          copy alaki_mimic_hosp.emar TO 'C:/DATA/Courses/DataVis/data-viz-project/MimicApp/datasets/alaki/hosp/emar.csv' WITH DELIMITER ',' CSV HEADER;\\n\\n\\n        \",\n",
       " \"\\n          copy alaki_mimic_hosp.d_hcpcs TO 'C:/DATA/Courses/DataVis/data-viz-project/MimicApp/datasets/alaki/hosp/d_hcpcs.csv' WITH DELIMITER ',' CSV HEADER;\\n\\n\\n        \",\n",
       " \"\\n          copy alaki_mimic_hosp.d_icd_diagnoses TO 'C:/DATA/Courses/DataVis/data-viz-project/MimicApp/datasets/alaki/hosp/d_icd_diagnoses.csv' WITH DELIMITER ',' CSV HEADER;\\n\\n\\n        \",\n",
       " \"\\n          copy alaki_mimic_hosp.d_icd_procedures TO 'C:/DATA/Courses/DataVis/data-viz-project/MimicApp/datasets/alaki/hosp/d_icd_procedures.csv' WITH DELIMITER ',' CSV HEADER;\\n\\n\\n        \",\n",
       " \"\\n          copy alaki_mimic_hosp.d_labitems TO 'C:/DATA/Courses/DataVis/data-viz-project/MimicApp/datasets/alaki/hosp/d_labitems.csv' WITH DELIMITER ',' CSV HEADER;\\n\\n\\n        \",\n",
       " \"\\n          copy alaki_mimic_icu.chartevents TO 'C:/DATA/Courses/DataVis/data-viz-project/MimicApp/datasets/alaki/icu/chartevents.csv' WITH DELIMITER ',' CSV HEADER;\\n\\n\\n        \",\n",
       " \"\\n          copy alaki_mimic_icu.inputevents TO 'C:/DATA/Courses/DataVis/data-viz-project/MimicApp/datasets/alaki/icu/inputevents.csv' WITH DELIMITER ',' CSV HEADER;\\n\\n\\n        \",\n",
       " \"\\n          copy alaki_mimic_icu.procedureevents TO 'C:/DATA/Courses/DataVis/data-viz-project/MimicApp/datasets/alaki/icu/procedureevents.csv' WITH DELIMITER ',' CSV HEADER;\\n\\n\\n        \",\n",
       " \"\\n          copy alaki_mimic_icu.icustays TO 'C:/DATA/Courses/DataVis/data-viz-project/MimicApp/datasets/alaki/icu/icustays.csv' WITH DELIMITER ',' CSV HEADER;\\n\\n\\n        \",\n",
       " \"\\n          copy alaki_mimic_icu.d_items TO 'C:/DATA/Courses/DataVis/data-viz-project/MimicApp/datasets/alaki/icu/d_items.csv' WITH DELIMITER ',' CSV HEADER;\\n\\n\\n        \"]"
      ]
     },
     "execution_count": 12,
     "metadata": {},
     "output_type": "execute_result"
    }
   ],
   "source": [
    "prefix = 'alaki_'\n",
    "PATH = f\"C:/DATA/Courses/DataVis/data-viz-project/MimicApp/datasets/{prefix[:-1]}/\"\n",
    "# PATH = f\"../resources/{prefix[:-1]}/\"\n",
    "\n",
    "if os.path.exists(PATH+'core'):\n",
    "    shutil.rmtree(PATH+'core')\n",
    "if os.path.exists(PATH+'hosp'):\n",
    "    shutil.rmtree(PATH+'hosp')\n",
    "if os.path.exists(PATH+'icu'):\n",
    "    shutil.rmtree(PATH+'icu')\n",
    "os.makedirs(PATH+'core', exist_ok=True)\n",
    "os.makedirs(PATH+'hosp', exist_ok=True)\n",
    "os.makedirs(PATH+'icu', exist_ok=True)\n",
    "\n",
    "\n",
    "\n",
    "\n",
    "# hadm_ids=[21038362,24941086]\n",
    "# list_queries = save_cohort(newdb, hadm_ids, subject_ids=None)\n",
    "\n",
    "list_cmds = save_cohort_tocsv(prefix,PATH)\n",
    "list_cmds\n",
    "\n",
    "text_file = open(\"copy_commands.txt\", \"w\")\n",
    "n = text_file.write(\"\".join(list_cmds))\n",
    "text_file.close()"
   ]
  },
  {
   "cell_type": "code",
   "execution_count": 13,
   "metadata": {},
   "outputs": [
    {
     "name": "stdout",
     "output_type": "stream",
     "text": [
      "--- 0.6300532817840576 seconds ---\n"
     ]
    }
   ],
   "source": [
    "q = \"\".join(list_cmds)\n",
    "hk_psql.cmd(q, DBNAME)"
   ]
  },
  {
   "cell_type": "code",
   "execution_count": null,
   "metadata": {},
   "outputs": [],
   "source": []
  }
 ],
 "metadata": {
  "interpreter": {
   "hash": "692b5e2d12f195d9871f826942f162b043f4d98bf5c4cdab88d951c18cf95221"
  },
  "kernelspec": {
   "display_name": "Python 3.9.7 ('dashVis')",
   "language": "python",
   "name": "python3"
  },
  "language_info": {
   "codemirror_mode": {
    "name": "ipython",
    "version": 3
   },
   "file_extension": ".py",
   "mimetype": "text/x-python",
   "name": "python",
   "nbconvert_exporter": "python",
   "pygments_lexer": "ipython3",
   "version": "3.9.7"
  },
  "orig_nbformat": 4
 },
 "nbformat": 4,
 "nbformat_minor": 2
}
