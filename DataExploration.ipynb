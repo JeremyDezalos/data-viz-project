{
 "cells": [
  {
   "attachments": {},
   "cell_type": "markdown",
   "metadata": {},
   "source": [
    "# Data exploration"
   ]
  },
  {
   "cell_type": "markdown",
   "metadata": {},
   "source": []
  },
  {
   "attachments": {},
   "cell_type": "markdown",
   "metadata": {},
   "source": [
    "## Libraries"
   ]
  },
  {
   "cell_type": "code",
   "execution_count": 4,
   "metadata": {},
   "outputs": [],
   "source": [
    "# activate line execution\n",
    "from IPython.core.interactiveshell import InteractiveShell\n",
    "InteractiveShell.ast_node_interactivity = \"all\"\n",
    "\n",
    "# general\n",
    "import numpy as np\n",
    "import pandas as pd\n",
    "import math\n",
    "\n",
    "# plotly\n",
    "import plotly.express as px  # (version 4.7.0 or higher)\n",
    "import plotly.graph_objects as go\n",
    "from plotly.subplots import make_subplots\n",
    "\n",
    "PATH_DATA = './resources/data1/'"
   ]
  },
  {
   "attachments": {},
   "cell_type": "markdown",
   "metadata": {},
   "source": [
    "## reading csv files"
   ]
  },
  {
   "cell_type": "code",
   "execution_count": 2,
   "metadata": {},
   "outputs": [
    {
     "data": {
      "text/plain": [
       "Index(['subject_id', 'hadm_id', 'admittime', 'dischtime', 'deathtime',\n",
       "       'admission_type', 'admission_location', 'discharge_location',\n",
       "       'insurance', 'language', 'marital_status', 'ethnicity', 'edregtime',\n",
       "       'edouttime', 'hospital_expire_flag'],\n",
       "      dtype='object')"
      ]
     },
     "execution_count": 2,
     "metadata": {},
     "output_type": "execute_result"
    },
    {
     "data": {
      "text/plain": [
       "Index(['subject_id', 'gender', 'anchor_age', 'anchor_year',\n",
       "       'anchor_year_group', 'dod'],\n",
       "      dtype='object')"
      ]
     },
     "execution_count": 2,
     "metadata": {},
     "output_type": "execute_result"
    },
    {
     "data": {
      "text/plain": [
       "Index(['subject_id', 'hadm_id', 'transfer_id', 'eventtype', 'careunit',\n",
       "       'intime', 'outtime'],\n",
       "      dtype='object')"
      ]
     },
     "execution_count": 2,
     "metadata": {},
     "output_type": "execute_result"
    }
   ],
   "source": [
    "dfs=dict()\n",
    "\n",
    "dfs['admissions'] = pd.read_csv(PATH_DATA+'core/admissions.csv')\n",
    "dfs['admissions'].columns\n",
    "\n",
    "dfs['patients'] = pd.read_csv(PATH_DATA+'core/patients.csv')\n",
    "dfs['patients'].columns\n",
    "\n",
    "dfs['transfers'] = pd.read_csv(PATH_DATA+'core/transfers.csv')\n",
    "dfs['transfers'].columns"
   ]
  },
  {
   "attachments": {},
   "cell_type": "markdown",
   "metadata": {},
   "source": [
    "## Variables"
   ]
  },
  {
   "cell_type": "code",
   "execution_count": 8,
   "metadata": {},
   "outputs": [],
   "source": [
    "list_var_cat = {'admissions':['insurance','ethnicity','hospital_expire_flag'],\n",
    "                'patients':['gender']\n",
    "}"
   ]
  },
  {
   "cell_type": "code",
   "execution_count": null,
   "metadata": {},
   "outputs": [],
   "source": []
  },
  {
   "attachments": {},
   "cell_type": "markdown",
   "metadata": {},
   "source": [
    "# single-variable"
   ]
  },
  {
   "cell_type": "code",
   "execution_count": 9,
   "metadata": {},
   "outputs": [
    {
     "data": {
      "application/vnd.plotly.v1+json": {
       "config": {
        "plotlyServerURL": "https://plot.ly"
       },
       "data": [
        {
         "domain": {
          "x": [
           0,
           1
          ],
          "y": [
           0,
           1
          ]
         },
         "hovertemplate": "ethnicity=%{label}<extra></extra>",
         "labels": [
          "WHITE",
          "UNKNOWN",
          "WHITE",
          "BLACK/AFRICAN AMERICAN",
          "UNKNOWN",
          "WHITE",
          "UNKNOWN",
          "UNKNOWN",
          "UNKNOWN",
          "UNKNOWN",
          "UNKNOWN",
          "UNKNOWN",
          "UNKNOWN",
          "WHITE",
          "UNKNOWN",
          "UNKNOWN",
          "UNKNOWN",
          "UNKNOWN",
          "UNKNOWN",
          "UNKNOWN",
          "UNKNOWN",
          "UNKNOWN",
          "UNKNOWN",
          "UNKNOWN",
          "UNKNOWN",
          "UNKNOWN",
          "WHITE",
          "WHITE",
          "UNKNOWN",
          "UNKNOWN",
          "WHITE",
          "WHITE",
          "BLACK/AFRICAN AMERICAN",
          "WHITE",
          "WHITE",
          "OTHER",
          "BLACK/AFRICAN AMERICAN",
          "WHITE",
          "WHITE",
          "WHITE",
          "WHITE",
          "ASIAN",
          "UNKNOWN",
          "WHITE",
          "WHITE",
          "WHITE",
          "BLACK/AFRICAN AMERICAN",
          "OTHER",
          "WHITE",
          "WHITE",
          "UNABLE TO OBTAIN",
          "WHITE",
          "WHITE",
          "WHITE",
          "UNKNOWN",
          "WHITE",
          "WHITE",
          "WHITE",
          "WHITE",
          "WHITE",
          "WHITE",
          "OTHER",
          "BLACK/AFRICAN AMERICAN",
          "WHITE",
          "WHITE",
          "UNKNOWN",
          "WHITE",
          "WHITE",
          "WHITE",
          "BLACK/AFRICAN AMERICAN",
          "WHITE",
          "WHITE",
          "UNKNOWN",
          "WHITE",
          "WHITE",
          "WHITE",
          "WHITE",
          "WHITE",
          "WHITE",
          "WHITE",
          "WHITE",
          "UNKNOWN",
          "BLACK/AFRICAN AMERICAN",
          "UNABLE TO OBTAIN",
          "HISPANIC/LATINO",
          "WHITE",
          "WHITE",
          "BLACK/AFRICAN AMERICAN",
          "WHITE",
          "WHITE",
          "WHITE",
          "WHITE",
          "WHITE",
          "WHITE",
          "UNKNOWN",
          "WHITE",
          "HISPANIC/LATINO",
          "ASIAN",
          "WHITE",
          "OTHER",
          "WHITE",
          "WHITE",
          "WHITE",
          "ASIAN",
          "WHITE",
          "WHITE",
          "BLACK/AFRICAN AMERICAN",
          "ASIAN",
          "WHITE",
          "UNKNOWN",
          "WHITE",
          "WHITE",
          "WHITE",
          "WHITE",
          "WHITE",
          "WHITE",
          "BLACK/AFRICAN AMERICAN",
          "BLACK/AFRICAN AMERICAN",
          "UNABLE TO OBTAIN",
          "WHITE",
          "WHITE",
          "WHITE",
          "HISPANIC/LATINO",
          "WHITE",
          "UNKNOWN",
          "WHITE",
          "WHITE",
          "WHITE",
          "WHITE",
          "WHITE",
          "WHITE",
          "WHITE",
          "WHITE",
          "WHITE",
          "BLACK/AFRICAN AMERICAN",
          "WHITE",
          "WHITE",
          "WHITE",
          "WHITE",
          "WHITE",
          "BLACK/AFRICAN AMERICAN",
          "WHITE",
          "BLACK/AFRICAN AMERICAN",
          "WHITE",
          "WHITE",
          "WHITE",
          "WHITE",
          "WHITE",
          "BLACK/AFRICAN AMERICAN",
          "WHITE",
          "WHITE",
          "BLACK/AFRICAN AMERICAN",
          "WHITE",
          "WHITE",
          "WHITE",
          "BLACK/AFRICAN AMERICAN",
          "UNKNOWN",
          "WHITE",
          "BLACK/AFRICAN AMERICAN",
          "WHITE",
          "WHITE",
          "WHITE",
          "WHITE",
          "ASIAN",
          "BLACK/AFRICAN AMERICAN",
          "WHITE",
          "BLACK/AFRICAN AMERICAN",
          "WHITE",
          "WHITE",
          "WHITE",
          "WHITE",
          "OTHER",
          "WHITE",
          "ASIAN",
          "WHITE",
          "OTHER",
          "BLACK/AFRICAN AMERICAN",
          "WHITE",
          "UNKNOWN",
          "WHITE",
          "BLACK/AFRICAN AMERICAN",
          "WHITE",
          "WHITE",
          "WHITE",
          "WHITE",
          "BLACK/AFRICAN AMERICAN",
          "BLACK/AFRICAN AMERICAN",
          "WHITE",
          "WHITE",
          "UNKNOWN",
          "WHITE",
          "HISPANIC/LATINO",
          "WHITE",
          "BLACK/AFRICAN AMERICAN",
          "BLACK/AFRICAN AMERICAN",
          "ASIAN",
          "WHITE",
          "WHITE",
          "UNKNOWN",
          "BLACK/AFRICAN AMERICAN",
          "WHITE",
          "ASIAN",
          "UNKNOWN",
          "UNKNOWN",
          "UNKNOWN",
          "WHITE",
          "UNKNOWN",
          "BLACK/AFRICAN AMERICAN",
          "UNKNOWN",
          "UNKNOWN",
          "UNKNOWN",
          "ASIAN",
          "UNKNOWN",
          "UNKNOWN",
          "WHITE",
          "WHITE",
          "WHITE",
          "UNKNOWN",
          "UNKNOWN",
          "UNKNOWN",
          "UNKNOWN",
          "UNKNOWN",
          "UNKNOWN",
          "UNKNOWN",
          "UNKNOWN",
          "UNKNOWN",
          "UNABLE TO OBTAIN",
          "UNKNOWN",
          "WHITE",
          "OTHER",
          "UNKNOWN",
          "UNKNOWN",
          "UNKNOWN",
          "UNKNOWN",
          "UNKNOWN",
          "UNKNOWN",
          "UNKNOWN",
          "UNABLE TO OBTAIN",
          "UNKNOWN",
          "UNKNOWN",
          "WHITE",
          "UNKNOWN",
          "WHITE",
          "WHITE",
          "WHITE",
          "WHITE",
          "BLACK/AFRICAN AMERICAN",
          "WHITE",
          "WHITE",
          "WHITE",
          "WHITE",
          "HISPANIC/LATINO",
          "WHITE",
          "WHITE",
          "WHITE",
          "WHITE",
          "WHITE",
          "WHITE",
          "HISPANIC/LATINO",
          "UNKNOWN",
          "WHITE",
          "WHITE",
          "WHITE",
          "UNKNOWN",
          "WHITE",
          "WHITE",
          "WHITE",
          "HISPANIC/LATINO",
          "WHITE",
          "ASIAN",
          "WHITE",
          "WHITE",
          "WHITE",
          "OTHER",
          "BLACK/AFRICAN AMERICAN",
          "ASIAN",
          "WHITE",
          "ASIAN",
          "ASIAN",
          "UNKNOWN",
          "WHITE",
          "OTHER",
          "BLACK/AFRICAN AMERICAN",
          "WHITE",
          "HISPANIC/LATINO",
          "OTHER",
          "WHITE",
          "WHITE",
          "BLACK/AFRICAN AMERICAN",
          "HISPANIC/LATINO",
          "ASIAN",
          "BLACK/AFRICAN AMERICAN",
          "OTHER",
          "BLACK/AFRICAN AMERICAN",
          "BLACK/AFRICAN AMERICAN",
          "BLACK/AFRICAN AMERICAN",
          "WHITE",
          "WHITE",
          "BLACK/AFRICAN AMERICAN",
          "WHITE",
          "WHITE",
          "WHITE",
          "WHITE",
          "WHITE",
          "BLACK/AFRICAN AMERICAN",
          "WHITE",
          "BLACK/AFRICAN AMERICAN",
          "WHITE",
          "WHITE",
          "HISPANIC/LATINO",
          "WHITE",
          "WHITE",
          "WHITE",
          "WHITE",
          "HISPANIC/LATINO",
          "WHITE",
          "WHITE",
          "BLACK/AFRICAN AMERICAN",
          "WHITE",
          "WHITE",
          "UNKNOWN",
          "OTHER",
          "WHITE",
          "HISPANIC/LATINO",
          "HISPANIC/LATINO",
          "WHITE",
          "WHITE",
          "WHITE",
          "BLACK/AFRICAN AMERICAN",
          "WHITE",
          "BLACK/AFRICAN AMERICAN",
          "WHITE",
          "BLACK/AFRICAN AMERICAN",
          "WHITE",
          "WHITE",
          "UNKNOWN",
          "WHITE",
          "HISPANIC/LATINO",
          "WHITE",
          "BLACK/AFRICAN AMERICAN",
          "BLACK/AFRICAN AMERICAN",
          "WHITE",
          "WHITE",
          "WHITE",
          "BLACK/AFRICAN AMERICAN",
          "WHITE",
          "ASIAN",
          "WHITE",
          "WHITE",
          "WHITE",
          "WHITE",
          "WHITE",
          "BLACK/AFRICAN AMERICAN",
          "WHITE",
          "WHITE",
          "WHITE",
          "WHITE",
          "BLACK/AFRICAN AMERICAN",
          "OTHER",
          "BLACK/AFRICAN AMERICAN",
          "BLACK/AFRICAN AMERICAN",
          "WHITE",
          "BLACK/AFRICAN AMERICAN",
          "BLACK/AFRICAN AMERICAN",
          "BLACK/AFRICAN AMERICAN",
          "WHITE",
          "OTHER",
          "WHITE",
          "WHITE",
          "WHITE",
          "WHITE",
          "OTHER",
          "WHITE",
          "BLACK/AFRICAN AMERICAN",
          "OTHER",
          "WHITE",
          "HISPANIC/LATINO",
          "WHITE",
          "BLACK/AFRICAN AMERICAN",
          "HISPANIC/LATINO",
          "WHITE",
          "WHITE",
          "BLACK/AFRICAN AMERICAN",
          "WHITE",
          "OTHER",
          "UNKNOWN",
          "UNKNOWN",
          "UNKNOWN",
          "UNKNOWN",
          "ASIAN",
          "WHITE",
          "UNKNOWN",
          "UNKNOWN",
          "UNKNOWN",
          "UNKNOWN",
          "UNKNOWN",
          "UNKNOWN",
          "WHITE",
          "UNKNOWN",
          "UNKNOWN",
          "UNKNOWN",
          "WHITE",
          "WHITE",
          "WHITE",
          "WHITE",
          "BLACK/AFRICAN AMERICAN",
          "WHITE",
          "WHITE",
          "WHITE",
          "WHITE",
          "BLACK/AFRICAN AMERICAN",
          "UNKNOWN",
          "UNKNOWN",
          "BLACK/AFRICAN AMERICAN",
          "WHITE",
          "HISPANIC/LATINO",
          "UNKNOWN",
          "WHITE",
          "WHITE",
          "WHITE",
          "WHITE",
          "WHITE",
          "WHITE",
          "WHITE",
          "BLACK/AFRICAN AMERICAN",
          "WHITE",
          "BLACK/AFRICAN AMERICAN",
          "WHITE",
          "WHITE",
          "WHITE",
          "ASIAN",
          "AMERICAN INDIAN/ALASKA NATIVE",
          "HISPANIC/LATINO",
          "WHITE",
          "WHITE",
          "WHITE",
          "WHITE",
          "UNKNOWN",
          "WHITE",
          "WHITE",
          "WHITE",
          "WHITE",
          "BLACK/AFRICAN AMERICAN",
          "WHITE",
          "ASIAN",
          "WHITE",
          "WHITE",
          "WHITE",
          "WHITE",
          "WHITE",
          "WHITE",
          "WHITE",
          "WHITE",
          "WHITE",
          "WHITE",
          "BLACK/AFRICAN AMERICAN",
          "HISPANIC/LATINO",
          "BLACK/AFRICAN AMERICAN",
          "WHITE",
          "OTHER",
          "WHITE",
          "WHITE",
          "WHITE",
          "WHITE",
          "WHITE",
          "OTHER",
          "WHITE",
          "WHITE",
          "WHITE",
          "WHITE",
          "WHITE",
          "WHITE",
          "WHITE",
          "UNKNOWN",
          "WHITE",
          "OTHER",
          "BLACK/AFRICAN AMERICAN",
          "OTHER",
          "WHITE",
          "OTHER",
          "UNKNOWN",
          "WHITE",
          "HISPANIC/LATINO",
          "WHITE",
          "WHITE",
          "WHITE",
          "WHITE",
          "WHITE",
          "WHITE",
          "WHITE",
          "BLACK/AFRICAN AMERICAN",
          "WHITE",
          "BLACK/AFRICAN AMERICAN",
          "WHITE",
          "WHITE",
          "HISPANIC/LATINO",
          "WHITE",
          "WHITE",
          "BLACK/AFRICAN AMERICAN",
          "WHITE",
          "WHITE",
          "WHITE",
          "WHITE",
          "WHITE",
          "WHITE",
          "WHITE",
          "WHITE",
          "UNKNOWN",
          "HISPANIC/LATINO",
          "BLACK/AFRICAN AMERICAN",
          "WHITE",
          "WHITE",
          "BLACK/AFRICAN AMERICAN",
          "WHITE",
          "WHITE",
          "WHITE",
          "WHITE",
          "WHITE",
          "WHITE",
          "WHITE",
          "WHITE",
          "WHITE",
          "WHITE",
          "WHITE",
          "WHITE",
          "WHITE",
          "WHITE",
          "UNABLE TO OBTAIN",
          "WHITE",
          "WHITE",
          "WHITE",
          "BLACK/AFRICAN AMERICAN",
          "UNKNOWN",
          "WHITE",
          "OTHER",
          "WHITE",
          "BLACK/AFRICAN AMERICAN",
          "OTHER",
          "WHITE",
          "WHITE",
          "WHITE",
          "WHITE",
          "WHITE",
          "WHITE",
          "WHITE",
          "UNKNOWN",
          "WHITE",
          "WHITE",
          "WHITE",
          "WHITE",
          "ASIAN",
          "BLACK/AFRICAN AMERICAN",
          "WHITE",
          "WHITE",
          "WHITE",
          "OTHER",
          "HISPANIC/LATINO",
          "WHITE",
          "WHITE",
          "WHITE",
          "WHITE",
          "BLACK/AFRICAN AMERICAN",
          "BLACK/AFRICAN AMERICAN",
          "WHITE",
          "UNKNOWN",
          "WHITE",
          "UNKNOWN",
          "UNKNOWN",
          "WHITE",
          "UNKNOWN",
          "UNKNOWN",
          "UNKNOWN",
          "UNKNOWN",
          "UNKNOWN",
          "UNKNOWN",
          "UNKNOWN",
          "UNKNOWN",
          "UNKNOWN",
          "UNKNOWN",
          "UNKNOWN",
          "WHITE",
          "BLACK/AFRICAN AMERICAN",
          "WHITE",
          "WHITE",
          "WHITE",
          "WHITE",
          "WHITE",
          "BLACK/AFRICAN AMERICAN",
          "WHITE",
          "WHITE",
          "BLACK/AFRICAN AMERICAN",
          "WHITE",
          "WHITE",
          "HISPANIC/LATINO",
          "WHITE",
          "WHITE",
          "BLACK/AFRICAN AMERICAN",
          "WHITE",
          "BLACK/AFRICAN AMERICAN",
          "WHITE",
          "WHITE",
          "WHITE",
          "BLACK/AFRICAN AMERICAN",
          "WHITE",
          "BLACK/AFRICAN AMERICAN",
          "WHITE",
          "UNKNOWN",
          "UNKNOWN",
          "WHITE",
          "WHITE",
          "BLACK/AFRICAN AMERICAN",
          "WHITE",
          "WHITE",
          "WHITE",
          "WHITE",
          "HISPANIC/LATINO",
          "WHITE",
          "WHITE",
          "WHITE",
          "WHITE",
          "WHITE",
          "WHITE",
          "BLACK/AFRICAN AMERICAN",
          "WHITE",
          "HISPANIC/LATINO",
          "WHITE",
          "WHITE",
          "UNKNOWN",
          "WHITE",
          "OTHER",
          "WHITE",
          "WHITE",
          "WHITE",
          "WHITE",
          "WHITE",
          "HISPANIC/LATINO",
          "WHITE",
          "WHITE",
          "WHITE",
          "WHITE",
          "WHITE",
          "UNKNOWN",
          "WHITE",
          "HISPANIC/LATINO",
          "BLACK/AFRICAN AMERICAN",
          "WHITE",
          "WHITE",
          "UNABLE TO OBTAIN",
          "AMERICAN INDIAN/ALASKA NATIVE",
          "OTHER",
          "WHITE",
          "BLACK/AFRICAN AMERICAN",
          "WHITE",
          "HISPANIC/LATINO",
          "WHITE",
          "WHITE",
          "WHITE",
          "HISPANIC/LATINO",
          "WHITE",
          "WHITE",
          "WHITE",
          "WHITE",
          "WHITE",
          "BLACK/AFRICAN AMERICAN",
          "OTHER",
          "WHITE",
          "WHITE",
          "WHITE",
          "WHITE",
          "WHITE",
          "UNABLE TO OBTAIN",
          "WHITE",
          "BLACK/AFRICAN AMERICAN",
          "WHITE",
          "BLACK/AFRICAN AMERICAN",
          "BLACK/AFRICAN AMERICAN",
          "BLACK/AFRICAN AMERICAN",
          "WHITE",
          "WHITE",
          "WHITE",
          "WHITE",
          "WHITE",
          "WHITE",
          "WHITE",
          "WHITE",
          "BLACK/AFRICAN AMERICAN",
          "BLACK/AFRICAN AMERICAN",
          "WHITE",
          "WHITE",
          "WHITE",
          "WHITE",
          "BLACK/AFRICAN AMERICAN",
          "WHITE",
          "WHITE",
          "BLACK/AFRICAN AMERICAN",
          "UNKNOWN",
          "WHITE",
          "WHITE",
          "WHITE",
          "WHITE",
          "WHITE",
          "BLACK/AFRICAN AMERICAN",
          "WHITE",
          "WHITE",
          "UNKNOWN",
          "WHITE",
          "WHITE",
          "WHITE",
          "BLACK/AFRICAN AMERICAN",
          "WHITE",
          "WHITE",
          "WHITE",
          "WHITE",
          "HISPANIC/LATINO",
          "WHITE",
          "WHITE",
          "WHITE",
          "WHITE",
          "WHITE",
          "WHITE",
          "HISPANIC/LATINO",
          "WHITE",
          "WHITE",
          "WHITE",
          "WHITE",
          "WHITE",
          "WHITE",
          "WHITE",
          "WHITE",
          "UNKNOWN",
          "UNKNOWN",
          "UNKNOWN",
          "UNKNOWN",
          "UNKNOWN",
          "UNKNOWN",
          "WHITE",
          "UNKNOWN",
          "UNKNOWN",
          "UNKNOWN",
          "UNABLE TO OBTAIN",
          "HISPANIC/LATINO",
          "UNKNOWN",
          "UNKNOWN",
          "UNKNOWN",
          "WHITE",
          "UNKNOWN",
          "UNKNOWN",
          "UNKNOWN",
          "UNKNOWN",
          "UNKNOWN",
          "WHITE",
          "WHITE",
          "WHITE",
          "BLACK/AFRICAN AMERICAN",
          "WHITE",
          "WHITE",
          "BLACK/AFRICAN AMERICAN",
          "WHITE",
          "WHITE",
          "WHITE",
          "WHITE",
          "WHITE",
          "BLACK/AFRICAN AMERICAN",
          "WHITE",
          "BLACK/AFRICAN AMERICAN",
          "WHITE",
          "WHITE",
          "WHITE",
          "WHITE",
          "WHITE",
          "WHITE",
          "UNKNOWN",
          "WHITE",
          "WHITE",
          "WHITE",
          "WHITE",
          "WHITE",
          "WHITE",
          "UNKNOWN",
          "WHITE",
          "WHITE",
          "HISPANIC/LATINO",
          "BLACK/AFRICAN AMERICAN",
          "WHITE",
          "HISPANIC/LATINO",
          "UNKNOWN",
          "BLACK/AFRICAN AMERICAN",
          "BLACK/AFRICAN AMERICAN",
          "WHITE",
          "BLACK/AFRICAN AMERICAN",
          "WHITE",
          "WHITE",
          "WHITE",
          "WHITE",
          "OTHER",
          "ASIAN",
          "BLACK/AFRICAN AMERICAN",
          "UNKNOWN",
          "OTHER",
          "WHITE",
          "WHITE",
          "WHITE",
          "OTHER",
          "WHITE",
          "WHITE",
          "WHITE",
          "WHITE",
          "WHITE",
          "UNABLE TO OBTAIN",
          "OTHER",
          "WHITE",
          "UNKNOWN",
          "WHITE",
          "UNKNOWN",
          "UNKNOWN",
          "WHITE",
          "WHITE",
          "UNKNOWN",
          "WHITE",
          "WHITE",
          "WHITE",
          "WHITE",
          "BLACK/AFRICAN AMERICAN",
          "WHITE",
          "OTHER",
          "WHITE",
          "WHITE",
          "WHITE",
          "WHITE",
          "HISPANIC/LATINO",
          "WHITE",
          "WHITE",
          "HISPANIC/LATINO",
          "WHITE",
          "WHITE",
          "BLACK/AFRICAN AMERICAN",
          "WHITE",
          "OTHER",
          "WHITE",
          "WHITE",
          "WHITE",
          "WHITE",
          "WHITE",
          "UNKNOWN",
          "WHITE",
          "WHITE",
          "WHITE",
          "BLACK/AFRICAN AMERICAN",
          "WHITE",
          "WHITE",
          "BLACK/AFRICAN AMERICAN",
          "WHITE",
          "UNKNOWN",
          "WHITE",
          "WHITE",
          "WHITE",
          "WHITE",
          "WHITE",
          "WHITE",
          "UNKNOWN",
          "BLACK/AFRICAN AMERICAN",
          "WHITE",
          "WHITE",
          "WHITE",
          "WHITE",
          "UNKNOWN",
          "AMERICAN INDIAN/ALASKA NATIVE",
          "BLACK/AFRICAN AMERICAN",
          "WHITE",
          "WHITE",
          "OTHER",
          "WHITE",
          "HISPANIC/LATINO",
          "WHITE",
          "WHITE",
          "WHITE",
          "WHITE",
          "WHITE",
          "WHITE",
          "BLACK/AFRICAN AMERICAN",
          "WHITE",
          "BLACK/AFRICAN AMERICAN",
          "BLACK/AFRICAN AMERICAN",
          "WHITE",
          "UNKNOWN",
          "WHITE",
          "UNKNOWN",
          "WHITE",
          "BLACK/AFRICAN AMERICAN",
          "WHITE",
          "OTHER",
          "WHITE",
          "WHITE",
          "BLACK/AFRICAN AMERICAN",
          "WHITE",
          "WHITE",
          "BLACK/AFRICAN AMERICAN",
          "WHITE",
          "WHITE",
          "WHITE",
          "BLACK/AFRICAN AMERICAN",
          "BLACK/AFRICAN AMERICAN",
          "WHITE",
          "BLACK/AFRICAN AMERICAN",
          "WHITE",
          "WHITE",
          "WHITE",
          "BLACK/AFRICAN AMERICAN",
          "WHITE",
          "WHITE",
          "WHITE",
          "WHITE",
          "BLACK/AFRICAN AMERICAN",
          "WHITE",
          "WHITE",
          "WHITE",
          "BLACK/AFRICAN AMERICAN",
          "WHITE",
          "WHITE",
          "WHITE",
          "WHITE",
          "WHITE",
          "WHITE",
          "WHITE",
          "WHITE",
          "HISPANIC/LATINO",
          "BLACK/AFRICAN AMERICAN",
          "WHITE",
          "WHITE",
          "UNKNOWN",
          "WHITE",
          "BLACK/AFRICAN AMERICAN",
          "UNKNOWN",
          "UNKNOWN",
          "UNKNOWN",
          "UNKNOWN",
          "UNKNOWN",
          "WHITE",
          "WHITE",
          "WHITE",
          "UNKNOWN",
          "BLACK/AFRICAN AMERICAN",
          "WHITE",
          "UNKNOWN",
          "UNKNOWN",
          "UNKNOWN",
          "WHITE",
          "WHITE",
          "UNKNOWN",
          "UNKNOWN",
          "ASIAN",
          "UNKNOWN",
          "UNKNOWN",
          "UNKNOWN",
          "UNKNOWN",
          "BLACK/AFRICAN AMERICAN",
          "UNKNOWN",
          "WHITE",
          "WHITE",
          "BLACK/AFRICAN AMERICAN",
          "WHITE",
          "BLACK/AFRICAN AMERICAN",
          "WHITE",
          "OTHER",
          "WHITE",
          "BLACK/AFRICAN AMERICAN",
          "BLACK/AFRICAN AMERICAN",
          "WHITE",
          "UNABLE TO OBTAIN",
          "WHITE",
          "WHITE",
          "WHITE",
          "BLACK/AFRICAN AMERICAN",
          "WHITE",
          "WHITE",
          "OTHER",
          "WHITE",
          "WHITE",
          "WHITE",
          "WHITE",
          "WHITE",
          "WHITE",
          "WHITE",
          "WHITE",
          "WHITE",
          "UNKNOWN",
          "UNKNOWN",
          "WHITE",
          "WHITE",
          "ASIAN",
          "WHITE",
          "WHITE",
          "WHITE",
          "WHITE",
          "HISPANIC/LATINO",
          "WHITE",
          "WHITE",
          "BLACK/AFRICAN AMERICAN",
          "ASIAN",
          "WHITE",
          "BLACK/AFRICAN AMERICAN",
          "WHITE",
          "WHITE",
          "OTHER",
          "BLACK/AFRICAN AMERICAN",
          "WHITE",
          "WHITE",
          "WHITE",
          "WHITE",
          "UNKNOWN",
          "WHITE",
          "BLACK/AFRICAN AMERICAN",
          "BLACK/AFRICAN AMERICAN",
          "HISPANIC/LATINO",
          "WHITE",
          "BLACK/AFRICAN AMERICAN",
          "WHITE",
          "WHITE",
          "BLACK/AFRICAN AMERICAN",
          "OTHER",
          "WHITE",
          "OTHER",
          "WHITE",
          "WHITE",
          "WHITE",
          "WHITE",
          "WHITE",
          "WHITE",
          "OTHER",
          "WHITE",
          "BLACK/AFRICAN AMERICAN",
          "OTHER",
          "BLACK/AFRICAN AMERICAN",
          "WHITE",
          "WHITE",
          "WHITE",
          "UNKNOWN",
          "BLACK/AFRICAN AMERICAN",
          "ASIAN",
          "WHITE",
          "HISPANIC/LATINO",
          "WHITE",
          "WHITE",
          "OTHER",
          "HISPANIC/LATINO",
          "WHITE",
          "WHITE",
          "UNKNOWN",
          "WHITE",
          "HISPANIC/LATINO",
          "WHITE",
          "WHITE",
          "WHITE",
          "WHITE",
          "WHITE",
          "BLACK/AFRICAN AMERICAN",
          "BLACK/AFRICAN AMERICAN",
          "OTHER",
          "BLACK/AFRICAN AMERICAN",
          "WHITE",
          "WHITE",
          "WHITE",
          "WHITE",
          "WHITE",
          "OTHER",
          "BLACK/AFRICAN AMERICAN",
          "WHITE",
          "WHITE",
          "UNKNOWN",
          "WHITE",
          "WHITE",
          "WHITE",
          "WHITE",
          "OTHER",
          "WHITE",
          "BLACK/AFRICAN AMERICAN",
          "WHITE",
          "WHITE",
          "UNABLE TO OBTAIN",
          "WHITE",
          "BLACK/AFRICAN AMERICAN",
          "HISPANIC/LATINO",
          "WHITE",
          "BLACK/AFRICAN AMERICAN",
          "WHITE",
          "WHITE",
          "WHITE",
          "WHITE",
          "WHITE",
          "WHITE",
          "ASIAN",
          "WHITE",
          "WHITE",
          "WHITE",
          "WHITE",
          "UNKNOWN",
          "OTHER",
          "WHITE",
          "BLACK/AFRICAN AMERICAN",
          "WHITE",
          "WHITE",
          "WHITE",
          "WHITE",
          "WHITE",
          "WHITE",
          "WHITE",
          "WHITE",
          "WHITE",
          "WHITE",
          "WHITE",
          "HISPANIC/LATINO",
          "WHITE",
          "WHITE",
          "UNKNOWN",
          "UNKNOWN",
          "UNKNOWN",
          "WHITE",
          "UNKNOWN",
          "UNKNOWN",
          "WHITE",
          "OTHER",
          "UNKNOWN",
          "UNKNOWN",
          "UNKNOWN",
          "UNKNOWN",
          "UNKNOWN",
          "WHITE",
          "UNKNOWN",
          "UNKNOWN",
          "UNKNOWN",
          "UNKNOWN",
          "UNKNOWN",
          "UNKNOWN",
          "WHITE",
          "UNKNOWN",
          "UNKNOWN",
          "WHITE",
          "UNKNOWN",
          "UNKNOWN",
          "WHITE",
          "WHITE",
          "WHITE",
          "BLACK/AFRICAN AMERICAN",
          "WHITE",
          "OTHER",
          "BLACK/AFRICAN AMERICAN",
          "WHITE",
          "WHITE",
          "WHITE",
          "WHITE",
          "UNKNOWN",
          "OTHER",
          "WHITE",
          "BLACK/AFRICAN AMERICAN",
          "WHITE",
          "WHITE",
          "WHITE",
          "HISPANIC/LATINO",
          "BLACK/AFRICAN AMERICAN",
          "UNABLE TO OBTAIN",
          "OTHER",
          "WHITE",
          "WHITE",
          "UNKNOWN",
          "OTHER",
          "WHITE",
          "OTHER",
          "HISPANIC/LATINO",
          "UNKNOWN",
          "ASIAN",
          "WHITE",
          "WHITE",
          "WHITE",
          "BLACK/AFRICAN AMERICAN",
          "WHITE",
          "WHITE",
          "WHITE",
          "WHITE",
          "BLACK/AFRICAN AMERICAN",
          "UNKNOWN",
          "BLACK/AFRICAN AMERICAN",
          "WHITE",
          "WHITE",
          "OTHER",
          "BLACK/AFRICAN AMERICAN",
          "WHITE",
          "UNKNOWN",
          "WHITE",
          "AMERICAN INDIAN/ALASKA NATIVE",
          "WHITE",
          "HISPANIC/LATINO",
          "WHITE",
          "WHITE",
          "WHITE",
          "ASIAN",
          "WHITE",
          "WHITE",
          "WHITE",
          "WHITE",
          "WHITE",
          "WHITE",
          "WHITE",
          "HISPANIC/LATINO",
          "WHITE",
          "UNKNOWN",
          "ASIAN",
          "WHITE",
          "WHITE",
          "ASIAN",
          "UNKNOWN",
          "HISPANIC/LATINO",
          "WHITE",
          "WHITE",
          "WHITE",
          "UNABLE TO OBTAIN",
          "WHITE",
          "WHITE",
          "WHITE",
          "OTHER",
          "WHITE",
          "BLACK/AFRICAN AMERICAN",
          "WHITE",
          "WHITE",
          "WHITE",
          "WHITE",
          "HISPANIC/LATINO",
          "WHITE",
          "WHITE",
          "WHITE",
          "WHITE",
          "BLACK/AFRICAN AMERICAN",
          "WHITE",
          "UNABLE TO OBTAIN",
          "WHITE",
          "BLACK/AFRICAN AMERICAN",
          "WHITE",
          "BLACK/AFRICAN AMERICAN",
          "WHITE",
          "UNKNOWN",
          "UNKNOWN",
          "WHITE",
          "WHITE",
          "WHITE",
          "WHITE",
          "WHITE",
          "WHITE",
          "WHITE",
          "BLACK/AFRICAN AMERICAN",
          "WHITE",
          "WHITE",
          "WHITE",
          "WHITE",
          "WHITE",
          "WHITE",
          "BLACK/AFRICAN AMERICAN",
          "UNKNOWN",
          "WHITE",
          "WHITE",
          "WHITE",
          "BLACK/AFRICAN AMERICAN",
          "UNKNOWN",
          "ASIAN",
          "WHITE",
          "WHITE",
          "ASIAN",
          "WHITE",
          "WHITE",
          "ASIAN",
          "BLACK/AFRICAN AMERICAN",
          "OTHER",
          "WHITE",
          "OTHER",
          "WHITE",
          "WHITE",
          "WHITE",
          "OTHER",
          "WHITE",
          "WHITE",
          "WHITE",
          "HISPANIC/LATINO",
          "WHITE",
          "BLACK/AFRICAN AMERICAN",
          "BLACK/AFRICAN AMERICAN",
          "WHITE",
          "WHITE",
          "WHITE",
          "UNKNOWN",
          "WHITE",
          "WHITE",
          "UNKNOWN",
          "WHITE",
          "UNKNOWN",
          "UNKNOWN",
          "UNKNOWN",
          "WHITE",
          "WHITE",
          "OTHER",
          "OTHER",
          "UNKNOWN",
          "UNKNOWN",
          "UNKNOWN",
          "UNKNOWN",
          "UNKNOWN",
          "WHITE",
          "BLACK/AFRICAN AMERICAN",
          "WHITE",
          "UNKNOWN",
          "UNKNOWN",
          "UNKNOWN",
          "OTHER",
          "WHITE",
          "UNKNOWN",
          "BLACK/AFRICAN AMERICAN",
          "UNKNOWN",
          "OTHER",
          "WHITE",
          "BLACK/AFRICAN AMERICAN",
          "HISPANIC/LATINO",
          "WHITE",
          "WHITE",
          "WHITE",
          "UNKNOWN",
          "WHITE",
          "WHITE",
          "WHITE",
          "WHITE",
          "WHITE",
          "WHITE",
          "WHITE",
          "WHITE",
          "WHITE",
          "WHITE",
          "WHITE",
          "WHITE",
          "UNKNOWN",
          "WHITE",
          "BLACK/AFRICAN AMERICAN",
          "BLACK/AFRICAN AMERICAN",
          "BLACK/AFRICAN AMERICAN",
          "WHITE",
          "WHITE",
          "WHITE",
          "WHITE",
          "WHITE",
          "WHITE",
          "WHITE",
          "WHITE",
          "WHITE",
          "WHITE",
          "WHITE",
          "WHITE",
          "UNKNOWN",
          "WHITE",
          "OTHER",
          "WHITE",
          "WHITE",
          "WHITE",
          "BLACK/AFRICAN AMERICAN",
          "WHITE",
          "BLACK/AFRICAN AMERICAN",
          "OTHER",
          "BLACK/AFRICAN AMERICAN",
          "OTHER",
          "WHITE",
          "WHITE",
          "WHITE",
          "WHITE",
          "WHITE",
          "WHITE",
          "WHITE",
          "UNKNOWN",
          "WHITE",
          "WHITE",
          "WHITE",
          "UNKNOWN",
          "HISPANIC/LATINO",
          "ASIAN",
          "WHITE",
          "WHITE",
          "ASIAN",
          "WHITE",
          "WHITE",
          "WHITE",
          "BLACK/AFRICAN AMERICAN",
          "WHITE",
          "BLACK/AFRICAN AMERICAN",
          "WHITE",
          "OTHER",
          "BLACK/AFRICAN AMERICAN",
          "WHITE",
          "UNKNOWN",
          "UNABLE TO OBTAIN",
          "WHITE",
          "HISPANIC/LATINO",
          "WHITE",
          "UNKNOWN",
          "WHITE",
          "WHITE",
          "ASIAN",
          "OTHER",
          "WHITE",
          "WHITE",
          "WHITE",
          "UNKNOWN",
          "WHITE",
          "WHITE",
          "WHITE",
          "ASIAN",
          "UNKNOWN",
          "WHITE",
          "WHITE",
          "BLACK/AFRICAN AMERICAN",
          "OTHER",
          "BLACK/AFRICAN AMERICAN",
          "BLACK/AFRICAN AMERICAN",
          "WHITE",
          "WHITE",
          "HISPANIC/LATINO",
          "WHITE",
          "WHITE",
          "WHITE",
          "WHITE",
          "WHITE",
          "WHITE",
          "BLACK/AFRICAN AMERICAN",
          "WHITE",
          "BLACK/AFRICAN AMERICAN",
          "WHITE",
          "WHITE",
          "WHITE",
          "BLACK/AFRICAN AMERICAN",
          "WHITE",
          "WHITE",
          "WHITE",
          "BLACK/AFRICAN AMERICAN",
          "WHITE",
          "BLACK/AFRICAN AMERICAN",
          "WHITE",
          "WHITE",
          "WHITE",
          "ASIAN",
          "WHITE",
          "WHITE",
          "WHITE",
          "WHITE",
          "ASIAN",
          "WHITE",
          "WHITE",
          "OTHER",
          "BLACK/AFRICAN AMERICAN",
          "WHITE",
          "BLACK/AFRICAN AMERICAN",
          "WHITE",
          "ASIAN",
          "WHITE",
          "WHITE",
          "WHITE",
          "WHITE",
          "WHITE",
          "WHITE",
          "WHITE",
          "WHITE",
          "BLACK/AFRICAN AMERICAN",
          "WHITE",
          "BLACK/AFRICAN AMERICAN",
          "WHITE",
          "WHITE",
          "WHITE",
          "UNKNOWN",
          "WHITE",
          "BLACK/AFRICAN AMERICAN",
          "WHITE",
          "WHITE",
          "UNKNOWN",
          "WHITE",
          "OTHER",
          "WHITE",
          "UNKNOWN",
          "WHITE",
          "OTHER"
         ],
         "legendgroup": "",
         "name": "",
         "showlegend": true,
         "type": "pie"
        }
       ],
       "layout": {
        "legend": {
         "tracegroupgap": 0
        },
        "margin": {
         "t": 60
        },
        "template": {
         "data": {
          "bar": [
           {
            "error_x": {
             "color": "#2a3f5f"
            },
            "error_y": {
             "color": "#2a3f5f"
            },
            "marker": {
             "line": {
              "color": "#E5ECF6",
              "width": 0.5
             },
             "pattern": {
              "fillmode": "overlay",
              "size": 10,
              "solidity": 0.2
             }
            },
            "type": "bar"
           }
          ],
          "barpolar": [
           {
            "marker": {
             "line": {
              "color": "#E5ECF6",
              "width": 0.5
             },
             "pattern": {
              "fillmode": "overlay",
              "size": 10,
              "solidity": 0.2
             }
            },
            "type": "barpolar"
           }
          ],
          "carpet": [
           {
            "aaxis": {
             "endlinecolor": "#2a3f5f",
             "gridcolor": "white",
             "linecolor": "white",
             "minorgridcolor": "white",
             "startlinecolor": "#2a3f5f"
            },
            "baxis": {
             "endlinecolor": "#2a3f5f",
             "gridcolor": "white",
             "linecolor": "white",
             "minorgridcolor": "white",
             "startlinecolor": "#2a3f5f"
            },
            "type": "carpet"
           }
          ],
          "choropleth": [
           {
            "colorbar": {
             "outlinewidth": 0,
             "ticks": ""
            },
            "type": "choropleth"
           }
          ],
          "contour": [
           {
            "colorbar": {
             "outlinewidth": 0,
             "ticks": ""
            },
            "colorscale": [
             [
              0,
              "#0d0887"
             ],
             [
              0.1111111111111111,
              "#46039f"
             ],
             [
              0.2222222222222222,
              "#7201a8"
             ],
             [
              0.3333333333333333,
              "#9c179e"
             ],
             [
              0.4444444444444444,
              "#bd3786"
             ],
             [
              0.5555555555555556,
              "#d8576b"
             ],
             [
              0.6666666666666666,
              "#ed7953"
             ],
             [
              0.7777777777777778,
              "#fb9f3a"
             ],
             [
              0.8888888888888888,
              "#fdca26"
             ],
             [
              1,
              "#f0f921"
             ]
            ],
            "type": "contour"
           }
          ],
          "contourcarpet": [
           {
            "colorbar": {
             "outlinewidth": 0,
             "ticks": ""
            },
            "type": "contourcarpet"
           }
          ],
          "heatmap": [
           {
            "colorbar": {
             "outlinewidth": 0,
             "ticks": ""
            },
            "colorscale": [
             [
              0,
              "#0d0887"
             ],
             [
              0.1111111111111111,
              "#46039f"
             ],
             [
              0.2222222222222222,
              "#7201a8"
             ],
             [
              0.3333333333333333,
              "#9c179e"
             ],
             [
              0.4444444444444444,
              "#bd3786"
             ],
             [
              0.5555555555555556,
              "#d8576b"
             ],
             [
              0.6666666666666666,
              "#ed7953"
             ],
             [
              0.7777777777777778,
              "#fb9f3a"
             ],
             [
              0.8888888888888888,
              "#fdca26"
             ],
             [
              1,
              "#f0f921"
             ]
            ],
            "type": "heatmap"
           }
          ],
          "heatmapgl": [
           {
            "colorbar": {
             "outlinewidth": 0,
             "ticks": ""
            },
            "colorscale": [
             [
              0,
              "#0d0887"
             ],
             [
              0.1111111111111111,
              "#46039f"
             ],
             [
              0.2222222222222222,
              "#7201a8"
             ],
             [
              0.3333333333333333,
              "#9c179e"
             ],
             [
              0.4444444444444444,
              "#bd3786"
             ],
             [
              0.5555555555555556,
              "#d8576b"
             ],
             [
              0.6666666666666666,
              "#ed7953"
             ],
             [
              0.7777777777777778,
              "#fb9f3a"
             ],
             [
              0.8888888888888888,
              "#fdca26"
             ],
             [
              1,
              "#f0f921"
             ]
            ],
            "type": "heatmapgl"
           }
          ],
          "histogram": [
           {
            "marker": {
             "pattern": {
              "fillmode": "overlay",
              "size": 10,
              "solidity": 0.2
             }
            },
            "type": "histogram"
           }
          ],
          "histogram2d": [
           {
            "colorbar": {
             "outlinewidth": 0,
             "ticks": ""
            },
            "colorscale": [
             [
              0,
              "#0d0887"
             ],
             [
              0.1111111111111111,
              "#46039f"
             ],
             [
              0.2222222222222222,
              "#7201a8"
             ],
             [
              0.3333333333333333,
              "#9c179e"
             ],
             [
              0.4444444444444444,
              "#bd3786"
             ],
             [
              0.5555555555555556,
              "#d8576b"
             ],
             [
              0.6666666666666666,
              "#ed7953"
             ],
             [
              0.7777777777777778,
              "#fb9f3a"
             ],
             [
              0.8888888888888888,
              "#fdca26"
             ],
             [
              1,
              "#f0f921"
             ]
            ],
            "type": "histogram2d"
           }
          ],
          "histogram2dcontour": [
           {
            "colorbar": {
             "outlinewidth": 0,
             "ticks": ""
            },
            "colorscale": [
             [
              0,
              "#0d0887"
             ],
             [
              0.1111111111111111,
              "#46039f"
             ],
             [
              0.2222222222222222,
              "#7201a8"
             ],
             [
              0.3333333333333333,
              "#9c179e"
             ],
             [
              0.4444444444444444,
              "#bd3786"
             ],
             [
              0.5555555555555556,
              "#d8576b"
             ],
             [
              0.6666666666666666,
              "#ed7953"
             ],
             [
              0.7777777777777778,
              "#fb9f3a"
             ],
             [
              0.8888888888888888,
              "#fdca26"
             ],
             [
              1,
              "#f0f921"
             ]
            ],
            "type": "histogram2dcontour"
           }
          ],
          "mesh3d": [
           {
            "colorbar": {
             "outlinewidth": 0,
             "ticks": ""
            },
            "type": "mesh3d"
           }
          ],
          "parcoords": [
           {
            "line": {
             "colorbar": {
              "outlinewidth": 0,
              "ticks": ""
             }
            },
            "type": "parcoords"
           }
          ],
          "pie": [
           {
            "automargin": true,
            "type": "pie"
           }
          ],
          "scatter": [
           {
            "fillpattern": {
             "fillmode": "overlay",
             "size": 10,
             "solidity": 0.2
            },
            "type": "scatter"
           }
          ],
          "scatter3d": [
           {
            "line": {
             "colorbar": {
              "outlinewidth": 0,
              "ticks": ""
             }
            },
            "marker": {
             "colorbar": {
              "outlinewidth": 0,
              "ticks": ""
             }
            },
            "type": "scatter3d"
           }
          ],
          "scattercarpet": [
           {
            "marker": {
             "colorbar": {
              "outlinewidth": 0,
              "ticks": ""
             }
            },
            "type": "scattercarpet"
           }
          ],
          "scattergeo": [
           {
            "marker": {
             "colorbar": {
              "outlinewidth": 0,
              "ticks": ""
             }
            },
            "type": "scattergeo"
           }
          ],
          "scattergl": [
           {
            "marker": {
             "colorbar": {
              "outlinewidth": 0,
              "ticks": ""
             }
            },
            "type": "scattergl"
           }
          ],
          "scattermapbox": [
           {
            "marker": {
             "colorbar": {
              "outlinewidth": 0,
              "ticks": ""
             }
            },
            "type": "scattermapbox"
           }
          ],
          "scatterpolar": [
           {
            "marker": {
             "colorbar": {
              "outlinewidth": 0,
              "ticks": ""
             }
            },
            "type": "scatterpolar"
           }
          ],
          "scatterpolargl": [
           {
            "marker": {
             "colorbar": {
              "outlinewidth": 0,
              "ticks": ""
             }
            },
            "type": "scatterpolargl"
           }
          ],
          "scatterternary": [
           {
            "marker": {
             "colorbar": {
              "outlinewidth": 0,
              "ticks": ""
             }
            },
            "type": "scatterternary"
           }
          ],
          "surface": [
           {
            "colorbar": {
             "outlinewidth": 0,
             "ticks": ""
            },
            "colorscale": [
             [
              0,
              "#0d0887"
             ],
             [
              0.1111111111111111,
              "#46039f"
             ],
             [
              0.2222222222222222,
              "#7201a8"
             ],
             [
              0.3333333333333333,
              "#9c179e"
             ],
             [
              0.4444444444444444,
              "#bd3786"
             ],
             [
              0.5555555555555556,
              "#d8576b"
             ],
             [
              0.6666666666666666,
              "#ed7953"
             ],
             [
              0.7777777777777778,
              "#fb9f3a"
             ],
             [
              0.8888888888888888,
              "#fdca26"
             ],
             [
              1,
              "#f0f921"
             ]
            ],
            "type": "surface"
           }
          ],
          "table": [
           {
            "cells": {
             "fill": {
              "color": "#EBF0F8"
             },
             "line": {
              "color": "white"
             }
            },
            "header": {
             "fill": {
              "color": "#C8D4E3"
             },
             "line": {
              "color": "white"
             }
            },
            "type": "table"
           }
          ]
         },
         "layout": {
          "annotationdefaults": {
           "arrowcolor": "#2a3f5f",
           "arrowhead": 0,
           "arrowwidth": 1
          },
          "autotypenumbers": "strict",
          "coloraxis": {
           "colorbar": {
            "outlinewidth": 0,
            "ticks": ""
           }
          },
          "colorscale": {
           "diverging": [
            [
             0,
             "#8e0152"
            ],
            [
             0.1,
             "#c51b7d"
            ],
            [
             0.2,
             "#de77ae"
            ],
            [
             0.3,
             "#f1b6da"
            ],
            [
             0.4,
             "#fde0ef"
            ],
            [
             0.5,
             "#f7f7f7"
            ],
            [
             0.6,
             "#e6f5d0"
            ],
            [
             0.7,
             "#b8e186"
            ],
            [
             0.8,
             "#7fbc41"
            ],
            [
             0.9,
             "#4d9221"
            ],
            [
             1,
             "#276419"
            ]
           ],
           "sequential": [
            [
             0,
             "#0d0887"
            ],
            [
             0.1111111111111111,
             "#46039f"
            ],
            [
             0.2222222222222222,
             "#7201a8"
            ],
            [
             0.3333333333333333,
             "#9c179e"
            ],
            [
             0.4444444444444444,
             "#bd3786"
            ],
            [
             0.5555555555555556,
             "#d8576b"
            ],
            [
             0.6666666666666666,
             "#ed7953"
            ],
            [
             0.7777777777777778,
             "#fb9f3a"
            ],
            [
             0.8888888888888888,
             "#fdca26"
            ],
            [
             1,
             "#f0f921"
            ]
           ],
           "sequentialminus": [
            [
             0,
             "#0d0887"
            ],
            [
             0.1111111111111111,
             "#46039f"
            ],
            [
             0.2222222222222222,
             "#7201a8"
            ],
            [
             0.3333333333333333,
             "#9c179e"
            ],
            [
             0.4444444444444444,
             "#bd3786"
            ],
            [
             0.5555555555555556,
             "#d8576b"
            ],
            [
             0.6666666666666666,
             "#ed7953"
            ],
            [
             0.7777777777777778,
             "#fb9f3a"
            ],
            [
             0.8888888888888888,
             "#fdca26"
            ],
            [
             1,
             "#f0f921"
            ]
           ]
          },
          "colorway": [
           "#636efa",
           "#EF553B",
           "#00cc96",
           "#ab63fa",
           "#FFA15A",
           "#19d3f3",
           "#FF6692",
           "#B6E880",
           "#FF97FF",
           "#FECB52"
          ],
          "font": {
           "color": "#2a3f5f"
          },
          "geo": {
           "bgcolor": "white",
           "lakecolor": "white",
           "landcolor": "#E5ECF6",
           "showlakes": true,
           "showland": true,
           "subunitcolor": "white"
          },
          "hoverlabel": {
           "align": "left"
          },
          "hovermode": "closest",
          "mapbox": {
           "style": "light"
          },
          "paper_bgcolor": "white",
          "plot_bgcolor": "#E5ECF6",
          "polar": {
           "angularaxis": {
            "gridcolor": "white",
            "linecolor": "white",
            "ticks": ""
           },
           "bgcolor": "#E5ECF6",
           "radialaxis": {
            "gridcolor": "white",
            "linecolor": "white",
            "ticks": ""
           }
          },
          "scene": {
           "xaxis": {
            "backgroundcolor": "#E5ECF6",
            "gridcolor": "white",
            "gridwidth": 2,
            "linecolor": "white",
            "showbackground": true,
            "ticks": "",
            "zerolinecolor": "white"
           },
           "yaxis": {
            "backgroundcolor": "#E5ECF6",
            "gridcolor": "white",
            "gridwidth": 2,
            "linecolor": "white",
            "showbackground": true,
            "ticks": "",
            "zerolinecolor": "white"
           },
           "zaxis": {
            "backgroundcolor": "#E5ECF6",
            "gridcolor": "white",
            "gridwidth": 2,
            "linecolor": "white",
            "showbackground": true,
            "ticks": "",
            "zerolinecolor": "white"
           }
          },
          "shapedefaults": {
           "line": {
            "color": "#2a3f5f"
           }
          },
          "ternary": {
           "aaxis": {
            "gridcolor": "white",
            "linecolor": "white",
            "ticks": ""
           },
           "baxis": {
            "gridcolor": "white",
            "linecolor": "white",
            "ticks": ""
           },
           "bgcolor": "#E5ECF6",
           "caxis": {
            "gridcolor": "white",
            "linecolor": "white",
            "ticks": ""
           }
          },
          "title": {
           "x": 0.05
          },
          "xaxis": {
           "automargin": true,
           "gridcolor": "white",
           "linecolor": "white",
           "ticks": "",
           "title": {
            "standoff": 15
           },
           "zerolinecolor": "white",
           "zerolinewidth": 2
          },
          "yaxis": {
           "automargin": true,
           "gridcolor": "white",
           "linecolor": "white",
           "ticks": "",
           "title": {
            "standoff": 15
           },
           "zerolinecolor": "white",
           "zerolinewidth": 2
          }
         }
        }
       }
      }
     },
     "metadata": {},
     "output_type": "display_data"
    }
   ],
   "source": [
    "px.pie(dfs['admissions'],names='ethnicity')"
   ]
  },
  {
   "cell_type": "code",
   "execution_count": null,
   "metadata": {},
   "outputs": [],
   "source": []
  },
  {
   "attachments": {},
   "cell_type": "markdown",
   "metadata": {},
   "source": [
    "# Double-variable"
   ]
  },
  {
   "cell_type": "code",
   "execution_count": null,
   "metadata": {},
   "outputs": [],
   "source": []
  },
  {
   "cell_type": "code",
   "execution_count": null,
   "metadata": {},
   "outputs": [],
   "source": []
  },
  {
   "cell_type": "code",
   "execution_count": null,
   "metadata": {},
   "outputs": [],
   "source": []
  },
  {
   "attachments": {},
   "cell_type": "markdown",
   "metadata": {},
   "source": [
    "# multi-variable"
   ]
  }
 ],
 "metadata": {
  "kernelspec": {
   "display_name": "paper2022",
   "language": "python",
   "name": "python3"
  },
  "language_info": {
   "codemirror_mode": {
    "name": "ipython",
    "version": 3
   },
   "file_extension": ".py",
   "mimetype": "text/x-python",
   "name": "python",
   "nbconvert_exporter": "python",
   "pygments_lexer": "ipython3",
   "version": "3.9.7"
  },
  "orig_nbformat": 4
 },
 "nbformat": 4,
 "nbformat_minor": 2
}
